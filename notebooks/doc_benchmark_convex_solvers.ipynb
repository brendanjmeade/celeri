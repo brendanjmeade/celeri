{
 "cells": [
  {
   "cell_type": "markdown",
   "id": "6477a6d8-a7c5-4756-9a91-a292e96ca93a",
   "metadata": {},
   "source": [
    "# Optimizer benchmarks\n",
    "\n",
    "Run different convex optimizers with different settings on the japan and north america examples to compare accuracy and performance."
   ]
  },
  {
   "cell_type": "code",
   "execution_count": null,
   "id": "de16f5d1-7a19-44b8-abb9-800ed379d8e8",
   "metadata": {},
   "outputs": [],
   "source": [
    "%config InlineBackend.figure_format = \"retina\"\n",
    "# Relevant for the linear solver faer in clarabel:\n",
    "%env RAYON_NUM_THREADS=4"
   ]
  },
  {
   "cell_type": "code",
   "execution_count": null,
   "id": "f6665be2-56af-4e99-b6db-11c9d4d4914d",
   "metadata": {},
   "outputs": [],
   "source": [
    "import datetime\n",
    "import itertools\n",
    "\n",
    "import cvxpy as cp\n",
    "import matplotlib.pyplot as plt\n",
    "import numpy as np\n",
    "import pandas as pd\n",
    "import polars as pl\n",
    "import seaborn as sns\n",
    "import tqdm\n",
    "from loguru import logger\n",
    "\n",
    "import celeri\n",
    "import celeri.optimize\n",
    "\n",
    "logger.disable(\"celeri\")"
   ]
  },
  {
   "cell_type": "code",
   "execution_count": null,
   "id": "2e1130a9-7c86-41fa-b3da-b1fb00dd46c8",
   "metadata": {},
   "outputs": [],
   "source": [
    "command_files = {\n",
    "    \"japan\": \"../data/command/japan_command_cmi_coupling.json\",\n",
    "    \"north_america\": \"../data/command/western_north_america_command_coupling.json\",\n",
    "}\n",
    "\n",
    "# We run through all combinations of these settings\n",
    "setting_lists = {\n",
    "    \"with_limits\": [\n",
    "        None,\n",
    "        (-110, 110),\n",
    "    ],\n",
    "    \"rescale_parameters\": [True, False],\n",
    "    \"rescale_constraints\": [True, False],\n",
    "    \"objective\": celeri.optimize.Objective.__args__,\n",
    "    \"solver\": [\n",
    "        (\"CLARABEL\", {\"equilibrate_enable\": False}),\n",
    "        (\"CLARABEL\", {\"equilibrate_enable\": False, \"direct_solve_method\": \"faer\"}),\n",
    "        (\"CLARABEL\", {\"equilibrate_enable\": True}),\n",
    "        (\"CUSTOM_CVXOPT\", {}),\n",
    "    ],\n",
    "}\n",
    "\n",
    "if \"GUROBI\" in cp.installed_solvers():\n",
    "    setting_lists[\"solver\"].append((\"GUROBI\", {}))"
   ]
  },
  {
   "cell_type": "code",
   "execution_count": null,
   "id": "25a6a9fe-0f63-4d3a-993c-d8dc875a963a",
   "metadata": {},
   "outputs": [],
   "source": [
    "results = []\n",
    "\n",
    "for name, path in command_files.items():\n",
    "    problem = celeri.optimize.build_problem(path)\n",
    "\n",
    "    combinations = list(itertools.product(*setting_lists.values()))\n",
    "    for args in tqdm.tqdm(combinations, total=len(combinations)):\n",
    "        kwargs = dict(zip(setting_lists.keys(), args))\n",
    "        solver, solve_args = kwargs.pop(\"solver\")\n",
    "        out = celeri.optimize.benchmark_solve(\n",
    "            problem=problem,\n",
    "            solver=solver,\n",
    "            solve_kwargs=solve_args,\n",
    "            **kwargs,\n",
    "        )\n",
    "        out[\"solver_path\"] = str((solver, solve_args))\n",
    "        out[\"config\"] = str(\n",
    "            (\n",
    "                solver,\n",
    "                solve_args,\n",
    "                kwargs[\"rescale_parameters\"],\n",
    "                kwargs[\"rescale_constraints\"],\n",
    "            )\n",
    "        )\n",
    "        out[\"dataset\"] = name\n",
    "        results.append(out)\n",
    "\n",
    "ds = pl.from_dicts(results)\n",
    "ds = ds.with_columns(\n",
    "    params=ds[\"params\"].map_elements(\n",
    "        lambda x: np.array(x), return_dtype=pl.List(pl.Float64)\n",
    "    ),\n",
    "    params_raw=ds[\"params_raw\"].map_elements(\n",
    "        lambda x: np.array(x), return_dtype=pl.List(pl.Float64)\n",
    "    ),\n",
    ")\n",
    "# now = datetime.datetime.now(datetime.UTC)\n",
    "now = datetime.datetime.now()\n",
    "filename = f\"{now.isoformat(timespec='seconds')}_benchmark_opt_solver.parquet\"\n",
    "ds.write_parquet(filename)"
   ]
  },
  {
   "cell_type": "markdown",
   "id": "8569204c-77c6-41ff-b676-cc57cad3842c",
   "metadata": {},
   "source": [
    "## Japan"
   ]
  },
  {
   "cell_type": "code",
   "execution_count": null,
   "id": "ba6d1336-744f-40b0-880a-eb1ece2450d3",
   "metadata": {},
   "outputs": [],
   "source": [
    "df = pd.json_normalize(results)"
   ]
  },
  {
   "cell_type": "code",
   "execution_count": null,
   "id": "8aaef2b5-99db-431a-8357-5e45fc80c190",
   "metadata": {},
   "outputs": [],
   "source": [
    "sns.catplot(\n",
    "    data=df.assign(limits=lambda x: x.limits.astype(str)).query(\"dataset == 'japan'\"),\n",
    "    y=\"time\",\n",
    "    x=\"solver\",\n",
    "    row=\"limits\",\n",
    "    hue=\"config\",\n",
    "    col=\"objective\",\n",
    "    kind=\"bar\",\n",
    ")\n",
    "plt.ylim(0, 15);"
   ]
  },
  {
   "cell_type": "code",
   "execution_count": null,
   "id": "0c7b61e3-df33-4583-9413-b61417de6094",
   "metadata": {},
   "outputs": [],
   "source": [
    "sns.catplot(\n",
    "    data=df.assign(limits=lambda x: x.limits.astype(str)).query(\"dataset == 'japan'\"),\n",
    "    y=\"objective_norm2\",\n",
    "    x=\"solver\",\n",
    "    row=\"limits\",\n",
    "    hue=\"config\",\n",
    "    col=\"objective\",\n",
    "    kind=\"bar\",\n",
    ")"
   ]
  },
  {
   "cell_type": "markdown",
   "id": "1a00fa07-eb1b-439b-9fcd-75e28f73e153",
   "metadata": {},
   "source": [
    "## North America"
   ]
  },
  {
   "cell_type": "code",
   "execution_count": null,
   "id": "a93b3464-a485-47a1-8b6a-2b90497ccbc1",
   "metadata": {},
   "outputs": [],
   "source": [
    "sns.catplot(\n",
    "    data=df.assign(limits=lambda x: x.limits.astype(str)).query(\n",
    "        \"dataset == 'north_america'\"\n",
    "    ),\n",
    "    y=\"time\",\n",
    "    x=\"solver\",\n",
    "    row=\"limits\",\n",
    "    hue=\"config\",\n",
    "    col=\"objective\",\n",
    "    kind=\"bar\",\n",
    ")\n",
    "plt.ylim(0, 15);"
   ]
  },
  {
   "cell_type": "code",
   "execution_count": null,
   "id": "553d3e8f-41b0-40e9-bb9b-4314b10892ca",
   "metadata": {},
   "outputs": [],
   "source": [
    "sns.catplot(\n",
    "    data=df.assign(limits=lambda x: x.limits.astype(str))\n",
    "    .query(\"dataset == 'north_america'\")\n",
    "    .query(\"objective_norm2 < 1e6\"),\n",
    "    y=\"objective_norm2\",\n",
    "    x=\"solver\",\n",
    "    row=\"limits\",\n",
    "    hue=\"config\",\n",
    "    col=\"objective\",\n",
    "    kind=\"bar\",\n",
    ")"
   ]
  },
  {
   "cell_type": "markdown",
   "id": "36a50963-a175-4092-a18e-22cf439c61ef",
   "metadata": {},
   "source": [
    "## Run full optimization"
   ]
  },
  {
   "cell_type": "markdown",
   "id": "7f22f0aa-0e09-4a8f-9cee-b37ba29f1ccc",
   "metadata": {},
   "source": [
    "### Japan"
   ]
  },
  {
   "cell_type": "code",
   "execution_count": null,
   "id": "ce2ae70c-ff49-4448-8948-2a975ff44716",
   "metadata": {},
   "outputs": [],
   "source": [
    "%%time\n",
    "problem = celeri.optimize.build_problem(command_files[\"japan\"])"
   ]
  },
  {
   "cell_type": "code",
   "execution_count": null,
   "id": "f2138ca3-7d48-4b38-b26f-69ddc6fe52a4",
   "metadata": {},
   "outputs": [],
   "source": [
    "%%time\n",
    "solve_kwargs = dict(\n",
    "    solver=\"CLARABEL\",\n",
    "    equilibrate_enable=False,\n",
    "    direct_solve_method=\"faer\",\n",
    "    ignore_dpp=True,\n",
    ")\n",
    "\n",
    "trace_japan = celeri.optimize.minimize(\n",
    "    problem,\n",
    "    verbose=True,\n",
    "    velocity_upper=110.0,\n",
    "    velocity_lower=-110.0,\n",
    "    solve_kwargs=solve_kwargs,\n",
    "    objective=\"qr_sum_of_squares\",\n",
    ")"
   ]
  },
  {
   "cell_type": "code",
   "execution_count": null,
   "id": "2961ac8c-a547-49dd-ad66-b2d9661217a5",
   "metadata": {},
   "outputs": [],
   "source": [
    "%%time\n",
    "solve_kwargs = dict(\n",
    "    solver=\"CUSTOM_CVXOPT\",\n",
    "    ignore_dpp=True,\n",
    ")\n",
    "\n",
    "trace_japan = celeri.optimize.minimize(\n",
    "    problem,\n",
    "    verbose=True,\n",
    "    velocity_upper=110.0,\n",
    "    velocity_lower=-110.0,\n",
    "    solve_kwargs=solve_kwargs,\n",
    "    objective=\"qr_sum_of_squares\",\n",
    ")"
   ]
  },
  {
   "cell_type": "code",
   "execution_count": null,
   "id": "680d04a1",
   "metadata": {},
   "outputs": [],
   "source": [
    "%%time\n",
    "solve_kwargs = dict(\n",
    "    solver=\"GUROBI\",\n",
    "    ignore_dpp=True,\n",
    ")\n",
    "\n",
    "trace = celeri.optimize.minimize(\n",
    "    problem,\n",
    "    verbose=True,\n",
    "    velocity_upper=110.0,\n",
    "    velocity_lower=-110.0,\n",
    "    solve_kwargs=solve_kwargs,\n",
    "    objective=\"qr_sum_of_squares\",\n",
    ")"
   ]
  },
  {
   "cell_type": "markdown",
   "id": "42bb6d69-b18a-4a98-beb1-9a82bf997af3",
   "metadata": {},
   "source": [
    "### North America"
   ]
  },
  {
   "cell_type": "code",
   "execution_count": null,
   "id": "9d21668f-7583-4d8e-a109-c9339c615919",
   "metadata": {},
   "outputs": [],
   "source": [
    "%%time\n",
    "problem = celeri.optimize.build_problem(command_files[\"north_america\"])"
   ]
  },
  {
   "cell_type": "code",
   "execution_count": null,
   "id": "dc29c3c4-4982-4a61-a754-d1f52538090c",
   "metadata": {},
   "outputs": [],
   "source": [
    "%%time\n",
    "solve_kwargs = dict(\n",
    "    solver=\"CLARABEL\",\n",
    "    equilibrate_enable=False,\n",
    "    direct_solve_method=\"faer\",\n",
    "    ignore_dpp=True,\n",
    ")\n",
    "\n",
    "trace_japan = celeri.optimize.minimize(\n",
    "    problem,\n",
    "    verbose=True,\n",
    "    velocity_upper=110.0,\n",
    "    velocity_lower=-110.0,\n",
    "    solve_kwargs=solve_kwargs,\n",
    "    objective=\"qr_sum_of_squares\",\n",
    ")"
   ]
  },
  {
   "cell_type": "code",
   "execution_count": null,
   "id": "b0b1cae9-0c85-4c71-a741-dd4c68c5a0ae",
   "metadata": {},
   "outputs": [],
   "source": [
    "%%time\n",
    "solve_kwargs = dict(\n",
    "    solver=\"CUSTOM_CVXOPT\",\n",
    "    ignore_dpp=True,\n",
    ")\n",
    "\n",
    "trace_japan = celeri.optimize.minimize(\n",
    "    problem,\n",
    "    verbose=True,\n",
    "    velocity_upper=110.0,\n",
    "    velocity_lower=-110.0,\n",
    "    solve_kwargs=solve_kwargs,\n",
    "    objective=\"qr_sum_of_squares\",\n",
    ")"
   ]
  },
  {
   "cell_type": "code",
   "execution_count": null,
   "id": "b83e91c7-a2ee-4fee-b38e-839fb135001d",
   "metadata": {},
   "outputs": [],
   "source": [
    "%%time\n",
    "solve_kwargs = dict(\n",
    "    solver=\"GUROBI\",\n",
    "    ignore_dpp=True,\n",
    ")\n",
    "\n",
    "trace = celeri.optimize.minimize(\n",
    "    problem,\n",
    "    verbose=True,\n",
    "    velocity_upper=110.0,\n",
    "    velocity_lower=-110.0,\n",
    "    solve_kwargs=solve_kwargs,\n",
    "    objective=\"qr_sum_of_squares\",\n",
    ")"
   ]
  }
 ],
 "metadata": {
  "kernelspec": {
   "display_name": "Python (Pixi)",
   "language": "python",
   "name": "pixi-kernel-python3"
  },
  "language_info": {
   "codemirror_mode": {
    "name": "ipython",
    "version": 3
   },
   "file_extension": ".py",
   "mimetype": "text/x-python",
   "name": "python",
   "nbconvert_exporter": "python",
   "pygments_lexer": "ipython3",
   "version": "3.13.3"
  }
 },
 "nbformat": 4,
 "nbformat_minor": 5
}
