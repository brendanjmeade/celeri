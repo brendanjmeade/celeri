{
 "cells": [
  {
   "cell_type": "markdown",
   "metadata": {},
   "source": [
    "# This notebook is to assess document sign and other conventions"
   ]
  },
  {
   "cell_type": "code",
   "execution_count": null,
   "metadata": {
    "tags": []
   },
   "outputs": [],
   "source": [
    "%matplotlib widget\n",
    "%config InlineBackend.figure_format = 'svg'"
   ]
  },
  {
   "cell_type": "code",
   "execution_count": null,
   "metadata": {
    "tags": []
   },
   "outputs": [],
   "source": [
    "import addict\n",
    "import copy\n",
    "import numpy as np\n",
    "import pandas as pd\n",
    "import matplotlib.pyplot as plt\n",
    "from importlib import reload\n",
    "from tqdm.notebook import tqdm\n",
    "\n",
    "import pyproj\n",
    "\n",
    "# Global constants\n",
    "GEOID = pyproj.Geod(ellps=\"WGS84\")\n",
    "KM2M = 1.0e3\n",
    "M2MM = 1.0e3\n",
    "RADIUS_EARTH = np.float64((GEOID.a + GEOID.b) / 2)\n",
    "\n",
    "import celeri\n",
    "\n",
    "plt.rcParams[\"text.usetex\"] = (\n",
    "    False  # Plotting the global model is much much faster with tex fonts turned off\n",
    ")"
   ]
  },
  {
   "cell_type": "markdown",
   "metadata": {},
   "source": [
    "## Read and process geometry files"
   ]
  },
  {
   "cell_type": "code",
   "execution_count": null,
   "metadata": {
    "tags": []
   },
   "outputs": [],
   "source": [
    "COMMAND_FILE_NAME = \"../data/config/japan_config.json\"\n",
    "\n",
    "config = celeri.Config.from_file(COMMAND_FILE_NAME)\n",
    "\n",
    "# We manually read in the data so that we can override segment.burial_depth\n",
    "# before we create the model\n",
    "_segment, *_ = celeri.read_data(config)\n",
    "_segment[\"burial_depth\"] = 0\n",
    "\n",
    "model = celeri.build_model(config, override_segment=_segment)"
   ]
  },
  {
   "cell_type": "markdown",
   "metadata": {},
   "source": [
    "## Let's plot the index for each segment to make choosing segments easier"
   ]
  },
  {
   "cell_type": "code",
   "execution_count": null,
   "metadata": {},
   "outputs": [],
   "source": [
    "segment = model.segment\n",
    "\n",
    "lon_min = 135\n",
    "lon_max = 155\n",
    "lat_min = 30\n",
    "lat_max = 50\n",
    "\n",
    "plt.figure(figsize=(12, 12))\n",
    "for i in range(len(model.segment)):\n",
    "    plt.plot(\n",
    "        [segment.lon1[i], segment.lon2[i]],\n",
    "        [segment.lat1[i], segment.lat2[i]],\n",
    "        \"-k\",\n",
    "        linewidth=0.5,\n",
    "    )\n",
    "    plt.text(\n",
    "        segment.mid_lon_plate_carree[i],\n",
    "        segment.mid_lat_plate_carree[i],\n",
    "        str(i),\n",
    "        color=\"r\",\n",
    "        clip_on=True,\n",
    "        fontsize=6,\n",
    "        horizontalalignment=\"center\",\n",
    "        verticalalignment=\"center\",\n",
    "    )\n",
    "plt.xlim([lon_min, lon_max])\n",
    "plt.ylim([lat_min, lat_max])\n",
    "plt.gca().set_aspect(\"equal\", adjustable=\"box\")\n",
    "plt.title(\"segment indices\")\n",
    "plt.show()"
   ]
  },
  {
   "cell_type": "markdown",
   "metadata": {},
   "source": [
    "## Calculate coordinates of fault bottom for visualization"
   ]
  },
  {
   "cell_type": "code",
   "execution_count": null,
   "metadata": {},
   "outputs": [],
   "source": [
    "# Get bottom coordinates\n",
    "width_projected = 1e3 * segment.locking_depth / np.tan(np.deg2rad(segment.dip))\n",
    "lon1_bot = np.zeros(len(segment))\n",
    "lon2_bot = np.zeros(len(segment))\n",
    "lat1_bot = np.zeros(len(segment))\n",
    "lat2_bot = np.zeros(len(segment))\n",
    "\n",
    "for i in range(len(segment)):\n",
    "    lon1_bot[i], lat1_bot[i], _ = GEOID.fwd(\n",
    "        segment.lon1[i], segment.lat1[i], segment.azimuth[i] + 90, width_projected[i]\n",
    "    )\n",
    "    lon2_bot[i], lat2_bot[i], _ = GEOID.fwd(\n",
    "        segment.lon2[i], segment.lat2[i], segment.azimuth[i] + 90, width_projected[i]\n",
    "    )\n",
    "\n",
    "# Check fault distances\n",
    "checkdist = np.zeros_like(width_projected)\n",
    "for i in range(len(segment)):\n",
    "    _, _, checkdist[i] = GEOID.inv(\n",
    "        segment.lon1[i], segment.lat1[i], lon1_bot[i], lat1_bot[i]\n",
    "    )\n",
    "\n",
    "fig, ax = plt.subplots(figsize=(12, 12))\n",
    "for i in range(len(segment)):\n",
    "    array = np.array(\n",
    "        (\n",
    "            (segment.lon1[i], segment.lat1[i]),\n",
    "            (segment.lon2[i], segment.lat2[i]),\n",
    "            (lon2_bot[i], lat2_bot[i]),\n",
    "            (lon1_bot[i], lat1_bot[i]),\n",
    "        )\n",
    "    )\n",
    "    plt.fill(array[:, 0], array[:, 1], \"b\")\n",
    "\n",
    "plt.plot([segment.lon1, segment.lon2], [segment.lat1, segment.lat2], \"-r\")\n",
    "plt.xlim([lon_min, lon_max])\n",
    "plt.ylim([lat_min, lat_max])\n",
    "plt.gca().set_aspect(\"equal\", adjustable=\"box\")\n",
    "plt.title(\"Segment geometry\")\n",
    "plt.show()"
   ]
  },
  {
   "cell_type": "markdown",
   "metadata": {},
   "source": [
    "## Choose a segment to visualize displacement fields"
   ]
  },
  {
   "cell_type": "code",
   "execution_count": null,
   "metadata": {},
   "outputs": [],
   "source": [
    "SEGMENT_IDX = 412\n",
    "segment.dip.values[SEGMENT_IDX] = 45\n",
    "segment.locking_depth.values[SEGMENT_IDX] = 20\n",
    "\n",
    "# Make a copy of just this segment\n",
    "this_segment = pd.DataFrame(columns=segment.columns, index=[0])\n",
    "this_segment.loc[0] = segment.loc[SEGMENT_IDX]\n",
    "print(this_segment.azimuth[0])\n",
    "\n",
    "# Flip endpoints, so that eastern endpoint is first\n",
    "this_segment_flipped = this_segment.copy(deep=True)\n",
    "this_segment_flipped.lon1 = segment.lon2.values[SEGMENT_IDX]\n",
    "this_segment_flipped.lat1 = segment.lat2.values[SEGMENT_IDX]\n",
    "this_segment_flipped.lon2 = segment.lon1.values[SEGMENT_IDX]\n",
    "this_segment_flipped.lat2 = segment.lat1.values[SEGMENT_IDX]\n",
    "# Flip the segment's dip, so that it follows the RHR convention with flipped endpoints\n",
    "this_segment_flipped.dip.values[0] = 180.0 - this_segment.dip[0]\n",
    "# And recalculate segment azimuth\n",
    "this_segment_flipped.loc[0, \"azimuth\"], _, _ = GEOID.inv(\n",
    "    this_segment_flipped.lon1[0],\n",
    "    this_segment_flipped.lat1[0],\n",
    "    this_segment_flipped.lon2[0],\n",
    "    this_segment_flipped.lat2[0],\n",
    ")\n",
    "print(this_segment_flipped.azimuth[0])"
   ]
  },
  {
   "cell_type": "markdown",
   "metadata": {},
   "source": [
    "## Make a dense observation grid that spans the fault"
   ]
  },
  {
   "cell_type": "code",
   "execution_count": null,
   "metadata": {},
   "outputs": [],
   "source": [
    "meanx = (this_segment.lon1[0] + this_segment.lon2[0]) / 2\n",
    "meany = (this_segment.lat1[0] + this_segment.lat2[0]) / 2\n",
    "# Coordinate vectors\n",
    "x = np.arange(\n",
    "    np.min([this_segment.lon1, this_segment.lon2]) - 1.05,\n",
    "    np.max([this_segment.lon1, this_segment.lon2]) + 1.05,\n",
    "    0.1,\n",
    ")\n",
    "y = np.arange(\n",
    "    np.min([this_segment.lat1, this_segment.lat2]) - 1.05,\n",
    "    np.max([this_segment.lat1, this_segment.lat2]) + 1.05,\n",
    "    0.1,\n",
    ")\n",
    "# Meshgrid\n",
    "xg, yg = np.meshgrid(x - meanx, y - meany)\n",
    "\n",
    "# Rotate meshgrid by strike\n",
    "cosstrike = np.cos(np.radians(this_segment.azimuth[0]))\n",
    "sinstrike = np.sin(np.radians(this_segment.azimuth[0]))\n",
    "xr = xg * sinstrike - yg * cosstrike + meanx\n",
    "yr = xg * cosstrike + yg * sinstrike + meany\n",
    "\n",
    "# Place into station df\n",
    "gridsta = pd.DataFrame(columns=[\"lon\", \"lat\"])\n",
    "gridsta.lon = np.reshape(xr, -1)\n",
    "gridsta.lat = np.reshape(yr, -1)\n",
    "\n",
    "# Plot to check\n",
    "fig, ax = plt.subplots()\n",
    "ax.plot(xr, yr, \".k\")\n",
    "ax.plot(\n",
    "    [this_segment.lon1[0], this_segment.lon2[0]],\n",
    "    [this_segment.lat1[0], this_segment.lat2[0]],\n",
    "    \"r\",\n",
    ")\n",
    "\n",
    "plt.axis(\"equal\")\n",
    "plt.show()"
   ]
  },
  {
   "cell_type": "markdown",
   "metadata": {},
   "source": [
    "## Plot displacements due to unit slip"
   ]
  },
  {
   "cell_type": "code",
   "execution_count": null,
   "metadata": {},
   "outputs": [],
   "source": [
    "# strike-slip\n",
    "celeri.plot_segment_displacements(\n",
    "    this_segment,\n",
    "    gridsta,\n",
    "    model.config,\n",
    "    segment_idx=0,\n",
    "    strike_slip=1,\n",
    "    dip_slip=0,\n",
    "    tensile_slip=0,\n",
    "    lon_min=np.min(gridsta.lon),\n",
    "    lon_max=np.max(gridsta.lon),\n",
    "    lat_min=np.min(gridsta.lat),\n",
    "    lat_max=np.max(gridsta.lat),\n",
    "    quiver_scale=2e0,\n",
    ")\n",
    "# strike-slip\n",
    "celeri.plot_segment_displacements(\n",
    "    this_segment_flipped,\n",
    "    gridsta,\n",
    "    model.config,\n",
    "    segment_idx=0,\n",
    "    strike_slip=1,\n",
    "    dip_slip=0,\n",
    "    tensile_slip=0,\n",
    "    lon_min=np.min(gridsta.lon),\n",
    "    lon_max=np.max(gridsta.lon),\n",
    "    lat_min=np.min(gridsta.lat),\n",
    "    lat_max=np.max(gridsta.lat),\n",
    "    quiver_scale=2e0,\n",
    ")"
   ]
  },
  {
   "cell_type": "code",
   "execution_count": null,
   "metadata": {},
   "outputs": [],
   "source": [
    "# dip-slip\n",
    "celeri.plot_segment_displacements(\n",
    "    this_segment,\n",
    "    gridsta,\n",
    "    model.config,\n",
    "    segment_idx=0,\n",
    "    strike_slip=0,\n",
    "    dip_slip=1,\n",
    "    tensile_slip=0,\n",
    "    lon_min=np.min(gridsta.lon),\n",
    "    lon_max=np.max(gridsta.lon),\n",
    "    lat_min=np.min(gridsta.lat),\n",
    "    lat_max=np.max(gridsta.lat),\n",
    "    quiver_scale=1e0,\n",
    ")\n",
    "# dip-slip\n",
    "celeri.plot_segment_displacements(\n",
    "    this_segment_flipped,\n",
    "    gridsta,\n",
    "    model.config,\n",
    "    segment_idx=0,\n",
    "    strike_slip=0,\n",
    "    dip_slip=1,\n",
    "    tensile_slip=0,\n",
    "    lon_min=np.min(gridsta.lon),\n",
    "    lon_max=np.max(gridsta.lon),\n",
    "    lat_min=np.min(gridsta.lat),\n",
    "    lat_max=np.max(gridsta.lat),\n",
    "    quiver_scale=1e0,\n",
    ")"
   ]
  },
  {
   "cell_type": "code",
   "execution_count": null,
   "metadata": {},
   "outputs": [],
   "source": [
    "# tensile-slip\n",
    "celeri.plot_segment_displacements(\n",
    "    model.segment,\n",
    "    model.station,\n",
    "    model.config,\n",
    "    segment_idx=SEGMENT_IDX,\n",
    "    strike_slip=0,\n",
    "    dip_slip=0,\n",
    "    tensile_slip=1,\n",
    "    lon_min=135,\n",
    "    lon_max=155,\n",
    "    lat_min=30,\n",
    "    lat_max=50,\n",
    "    quiver_scale=1e-1,\n",
    ")"
   ]
  },
  {
   "cell_type": "markdown",
   "metadata": {},
   "source": [
    "# Summary of Okada slip rate conventions:\n",
    "- ## Locking depth is positive down  \n",
    "| type | sign | interpretation |\n",
    "| - | - | - |\n",
    "| strike-slip | positive | left-lateral |\n",
    "| strike-slip | negative | right-lateral |\n",
    "| dip-slip | positive | convergence |\n",
    "| dip-slip | negative | extension |\n",
    "| tensile-slip | positive | extension |\n",
    "| tensile-slip | negative | convergence |\n",
    "- ## Note: The difference in sign for convergence and extension for dip-slip and tensile-slip is not idea but it seems consistent with Okada?  Should I change this so that it is more intiutive (e.g., positive numbers are always convergence) or leave as is for consistency with Okada?\n"
   ]
  },
  {
   "cell_type": "markdown",
   "metadata": {},
   "source": [
    "# Now let's take a look at differential block velocities"
   ]
  },
  {
   "cell_type": "code",
   "execution_count": null,
   "metadata": {
    "tags": []
   },
   "outputs": [],
   "source": [
    "station = model.station\n",
    "sar = model.sar\n",
    "block = model.block\n",
    "\n",
    "SEGMENT_IDX = 65\n",
    "segment.dip.values[SEGMENT_IDX] = 45\n",
    "segment.locking_depth.values[SEGMENT_IDX] = 50\n",
    "\n",
    "\n",
    "operators = celeri.build_operators(model, tde=False, eigen=False)"
   ]
  },
  {
   "cell_type": "code",
   "execution_count": null,
   "metadata": {},
   "outputs": [],
   "source": [
    "assembly = operators.assembly\n",
    "\n",
    "# Rotations only - with JDF a priori and no global float\n",
    "data_vector = np.zeros(\n",
    "    2 * assembly.data.n_stations + 3 * assembly.data.n_block_constraints\n",
    ")\n",
    "data_vector[0 : 2 * assembly.data.n_stations] = celeri.interleave2(\n",
    "    assembly.data.east_vel, assembly.data.north_vel\n",
    ")\n",
    "\n",
    "# Add block motion costraints to data vector\n",
    "data_vector[\n",
    "    2 * assembly.data.n_stations : 2 * assembly.data.n_stations\n",
    "    + 3 * assembly.data.n_block_constraints\n",
    "] = assembly.data.block_constraints\n",
    "data_vector[\n",
    "    2 * assembly.data.n_stations : 2 * assembly.data.n_stations\n",
    "    + 3 * assembly.data.n_block_constraints\n",
    "] = 0\n",
    "\n",
    "operator = np.zeros(\n",
    "    (\n",
    "        2 * assembly.data.n_stations + 3 * assembly.data.n_block_constraints,\n",
    "        3 * len(block),\n",
    "    )\n",
    ")\n",
    "operator[0 : 2 * assembly.data.n_stations, :] = np.delete(\n",
    "    operators.rotation_to_velocities,\n",
    "    np.arange(2, operators.rotation_to_velocities.shape[0], 3),\n",
    "    axis=0,\n",
    ")  # Delete up velocity partials\n",
    "operator[\n",
    "    2 * assembly.data.n_stations : 2 * assembly.data.n_stations\n",
    "    + 3 * assembly.data.n_block_constraints,\n",
    "    :,\n",
    "] = operators.block_motion_constraints\n",
    "\n",
    "estimation = addict.Dict()\n",
    "state_vector = np.linalg.inv(operator.T @ operator) @ operator.T @ data_vector\n",
    "estimation.predictions = operator @ state_vector\n",
    "vel = estimation.predictions[0 : 2 * assembly.data.n_stations]\n",
    "estimation.east_vel = vel[0::2]\n",
    "estimation.north_vel = vel[1::2]\n",
    "east_vel_rotation_only = vel[0::2]\n",
    "north_vel_rotation_only = vel[1::2]\n",
    "\n",
    "# Plot observed and estimated velocities\n",
    "lon_min = 235\n",
    "lon_max = 255\n",
    "lat_min = 30\n",
    "lat_max = 50\n",
    "quiver_scale = 1e2\n",
    "plt.figure()\n",
    "for i in range(len(segment)):\n",
    "    plt.plot(\n",
    "        [segment.lon1[i], segment.lon2[i]],\n",
    "        [segment.lat1[i], segment.lat2[i]],\n",
    "        \"-k\",\n",
    "        linewidth=0.5,\n",
    "    )\n",
    "# plt.quiver(station.lon, station.lat, station.east_vel, station.north_vel, scale=quiver_scale, scale_units=\"inches\", color=\"g\")\n",
    "plt.quiver(\n",
    "    station.lon,\n",
    "    station.lat,\n",
    "    estimation.east_vel,\n",
    "    estimation.north_vel,\n",
    "    scale=quiver_scale,\n",
    "    scale_units=\"inches\",\n",
    "    color=\"r\",\n",
    ")\n",
    "# plt.xlim([lon_min, lon_max])\n",
    "# plt.ylim([lat_min, lat_max])\n",
    "plt.gca().set_aspect(\"equal\", adjustable=\"box\")\n",
    "plt.title(\"observed and estimated velocities - block rotations only\")\n",
    "plt.show()"
   ]
  },
  {
   "cell_type": "markdown",
   "metadata": {},
   "source": [
    "# Convert estimated block motions to fault slip rates"
   ]
  },
  {
   "cell_type": "code",
   "execution_count": null,
   "metadata": {},
   "outputs": [],
   "source": [
    "segment = model.segment\n",
    "\n",
    "\n",
    "estimated_slip_rates = operators.slip_rate_segment_block @ state_vector\n",
    "estimated_strike_slip_rates = estimated_slip_rates[0::3]\n",
    "estimated_dip_slip_rates = estimated_slip_rates[1::3]\n",
    "estimated_tensile_slip_rates = estimated_slip_rates[2::3]\n",
    "\n",
    "plt.figure(figsize=(12, 12))\n",
    "for i in range(len(segment)):\n",
    "    plt.plot(\n",
    "        [segment.lon1[i], segment.lon2[i]],\n",
    "        [segment.lat1[i], segment.lat2[i]],\n",
    "        \"-k\",\n",
    "        linewidth=0.5,\n",
    "    )\n",
    "    plt.text(\n",
    "        segment.mid_lon_plate_carree[i],\n",
    "        segment.mid_lat_plate_carree[i],\n",
    "        f\"{estimated_strike_slip_rates[i]:.1f}\",\n",
    "        color=\"r\",\n",
    "        clip_on=True,\n",
    "        fontsize=6,\n",
    "        horizontalalignment=\"center\",\n",
    "        verticalalignment=\"center\",\n",
    "    )\n",
    "plt.xlim([lon_min, lon_max])\n",
    "plt.ylim([lat_min, lat_max])\n",
    "plt.gca().set_aspect(\"equal\", adjustable=\"box\")\n",
    "plt.title(\"strike-slip rates\")\n",
    "plt.show()\n",
    "\n",
    "\n",
    "plt.figure(figsize=(12, 12))\n",
    "for i in range(len(segment)):\n",
    "    plt.plot(\n",
    "        [segment.lon1[i], segment.lon2[i]],\n",
    "        [segment.lat1[i], segment.lat2[i]],\n",
    "        \"-k\",\n",
    "        linewidth=0.5,\n",
    "    )\n",
    "    plt.text(\n",
    "        segment.mid_lon_plate_carree[i],\n",
    "        segment.mid_lat_plate_carree[i],\n",
    "        f\"{estimated_dip_slip_rates[i]:.1f}\",\n",
    "        color=\"r\",\n",
    "        clip_on=True,\n",
    "        fontsize=6,\n",
    "        horizontalalignment=\"center\",\n",
    "        verticalalignment=\"center\",\n",
    "    )\n",
    "# plt.xlim([lon_min, lon_max])\n",
    "# plt.ylim([lat_min, lat_max])\n",
    "plt.gca().set_aspect(\"equal\", adjustable=\"box\")\n",
    "plt.title(\"dip-slip rates\")\n",
    "plt.show()\n",
    "\n",
    "\n",
    "plt.figure(figsize=(12, 12))\n",
    "for i in range(len(segment)):\n",
    "    plt.plot(\n",
    "        [segment.lon1[i], segment.lon2[i]],\n",
    "        [segment.lat1[i], segment.lat2[i]],\n",
    "        \"-k\",\n",
    "        linewidth=0.5,\n",
    "    )\n",
    "    plt.text(\n",
    "        segment.mid_lon_plate_carree[i],\n",
    "        segment.mid_lat_plate_carree[i],\n",
    "        f\"{estimated_tensile_slip_rates[i]:.1f}\",\n",
    "        color=\"r\",\n",
    "        clip_on=True,\n",
    "        fontsize=6,\n",
    "        horizontalalignment=\"center\",\n",
    "        verticalalignment=\"center\",\n",
    "    )\n",
    "# plt.xlim([lon_min, lon_max])\n",
    "# plt.ylim([lat_min, lat_max])\n",
    "plt.gca().set_aspect(\"equal\", adjustable=\"box\")\n",
    "plt.title(\"tensile-slip rates\")\n",
    "plt.show()"
   ]
  },
  {
   "cell_type": "markdown",
   "metadata": {},
   "source": [
    "# Summary of differential block motion/slip rate conventions:\n",
    "| type | sign | interpretation |\n",
    "| - | - | - |\n",
    "| strike-slip | positive | left-lateral |\n",
    "| strike-slip | negative | right-lateral |\n",
    "| dip-slip | positive | convergence |\n",
    "| dip-slip | negative | extension |\n",
    "| tensile-slip | positive | extension |\n",
    "| tensile-slip | negative | convergence |\n",
    "\n",
    "- ## Note: The difference in sign for convergence and extension for dip-slip and tensile-slip is not ideal but it seems consistent with Okada.  Should I change this so that it is more intiutive (e.g., positive numbers are always convergence) or leave as is for consistency with Okada?  To make the tensile slip rate consistent with Okada there is a scale_factor = -1 in celeri.get_fault_slip_rate_partials."
   ]
  }
 ],
 "metadata": {
  "kernelspec": {
   "display_name": "Python (Pixi)",
   "language": "python",
   "name": "pixi-kernel-python3"
  },
  "language_info": {
   "codemirror_mode": {
    "name": "ipython",
    "version": 3
   },
   "file_extension": ".py",
   "mimetype": "text/x-python",
   "name": "python",
   "nbconvert_exporter": "python",
   "pygments_lexer": "ipython3",
   "version": "3.12.10"
  },
  "widgets": {
   "application/vnd.jupyter.widget-state+json": {
    "state": {
     "4d250c5d35aa493295ca814fb3eaa1ee": {
      "model_module": "@jupyter-widgets/base",
      "model_module_version": "1.2.0",
      "model_name": "LayoutModel",
      "state": {}
     },
     "6faf75ca5f3b41388f284e98ec2cf803": {
      "model_module": "jupyter-matplotlib",
      "model_module_version": "^0.9.0",
      "model_name": "ToolbarModel",
      "state": {
       "layout": "IPY_MODEL_9b061db2dc65459ca586b9b9f73c2362",
       "toolitems": [
        [
         "Home",
         "Reset original view",
         "home",
         "home"
        ],
        [
         "Back",
         "Back to previous view",
         "arrow-left",
         "back"
        ],
        [
         "Forward",
         "Forward to next view",
         "arrow-right",
         "forward"
        ],
        [
         "Pan",
         "Left button pans, Right button zooms\nx/y fixes axis, CTRL fixes aspect",
         "arrows",
         "pan"
        ],
        [
         "Zoom",
         "Zoom to rectangle\nx/y fixes axis, CTRL fixes aspect",
         "square-o",
         "zoom"
        ],
        [
         "Download",
         "Download plot",
         "floppy-o",
         "save_figure"
        ]
       ]
      }
     },
     "9b061db2dc65459ca586b9b9f73c2362": {
      "model_module": "@jupyter-widgets/base",
      "model_module_version": "1.2.0",
      "model_name": "LayoutModel",
      "state": {}
     },
     "c25a38234e8f4e818670d9767f95a430": {
      "model_module": "jupyter-matplotlib",
      "model_module_version": "^0.9.0",
      "model_name": "MPLCanvasModel",
      "state": {
       "_cursor": "default",
       "_figure_label": "Figure 1",
       "_height": 708,
       "_width": 1746,
       "layout": "IPY_MODEL_4d250c5d35aa493295ca814fb3eaa1ee",
       "toolbar": "IPY_MODEL_6faf75ca5f3b41388f284e98ec2cf803",
       "toolbar_position": "left"
      }
     }
    },
    "version_major": 2,
    "version_minor": 0
   }
  }
 },
 "nbformat": 4,
 "nbformat_minor": 4
}
