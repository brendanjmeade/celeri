{
 "cells": [
  {
   "cell_type": "code",
   "execution_count": 1,
   "metadata": {},
   "outputs": [],
   "source": [
    "%load_ext autoreload\n",
    "%autoreload 2\n",
    "%config InlineBackend.figure_format = \"retina\"\n",
    "%matplotlib widget"
   ]
  },
  {
   "cell_type": "code",
   "execution_count": 2,
   "metadata": {
    "tags": []
   },
   "outputs": [],
   "source": [
    "import numpy as np\n",
    "import matplotlib.pyplot as plt\n",
    "from importlib import reload\n",
    "from rich import print as print\n",
    "\n",
    "import celeri\n",
    "\n",
    "plt.rcParams[\"text.usetex\"] = False"
   ]
  },
  {
   "cell_type": "code",
   "execution_count": 3,
   "metadata": {},
   "outputs": [
    {
     "ename": "FileNotFoundError",
     "evalue": "[Errno 2] No such file or directory: './../runs/0000001149/output.pkl'",
     "output_type": "error",
     "traceback": [
      "\u001b[31m---------------------------------------------------------------------------\u001b[39m",
      "\u001b[31mFileNotFoundError\u001b[39m                         Traceback (most recent call last)",
      "\u001b[36mCell\u001b[39m\u001b[36m \u001b[39m\u001b[32mIn[3]\u001b[39m\u001b[32m, line 2\u001b[39m\n\u001b[32m      1\u001b[39m run_folder = celeri.get_newest_run_folder()\n\u001b[32m----> \u001b[39m\u001b[32m2\u001b[39m command, estimation, station, segment, block, meshes = \u001b[43mceleri\u001b[49m\u001b[43m.\u001b[49m\u001b[43mread_run\u001b[49m\u001b[43m(\u001b[49m\u001b[43mrun_folder\u001b[49m\u001b[43m)\u001b[49m\n\u001b[32m      4\u001b[39m \u001b[38;5;66;03m# Get a default plotting parameter dictionary\u001b[39;00m\n\u001b[32m      5\u001b[39m p = celeri.get_default_plotting_dict(command, estimation, station)\n",
      "\u001b[36mFile \u001b[39m\u001b[32m~/Desktop/celeri/celeri/celeri.py:8308\u001b[39m, in \u001b[36mread_run\u001b[39m\u001b[34m(folder_name)\u001b[39m\n\u001b[32m   8282\u001b[39m \u001b[38;5;28;01mdef\u001b[39;00m\u001b[38;5;250m \u001b[39m\u001b[34mread_run\u001b[39m(folder_name):\n\u001b[32m   8283\u001b[39m \u001b[38;5;250m    \u001b[39m\u001b[33;03m\"\"\"Reads and loads data from a specified folder containing a pickled file.\u001b[39;00m\n\u001b[32m   8284\u001b[39m \n\u001b[32m   8285\u001b[39m \u001b[33;03m    This function opens a pickled file located in the directory `./../runs/{folder_name}/`,\u001b[39;00m\n\u001b[32m   (...)\u001b[39m\u001b[32m   8306\u001b[39m \u001b[33;03m    ... )\u001b[39;00m\n\u001b[32m   8307\u001b[39m \u001b[33;03m    \"\"\"\u001b[39;00m\n\u001b[32m-> \u001b[39m\u001b[32m8308\u001b[39m     pickle_file = \u001b[38;5;28;43mopen\u001b[39;49m\u001b[43m(\u001b[49m\u001b[33;43mf\u001b[39;49m\u001b[33;43m\"\u001b[39;49m\u001b[38;5;132;43;01m{\u001b[39;49;00m\u001b[43mfolder_name\u001b[49m\u001b[38;5;132;43;01m}\u001b[39;49;00m\u001b[33;43m/output.pkl\u001b[39;49m\u001b[33;43m\"\u001b[39;49m\u001b[43m,\u001b[49m\u001b[43m \u001b[49m\u001b[33;43m\"\u001b[39;49m\u001b[33;43mrb\u001b[39;49m\u001b[33;43m\"\u001b[39;49m\u001b[43m)\u001b[49m\n\u001b[32m   8309\u001b[39m     pickle_data = pickle.load(pickle_file)\n\u001b[32m   8310\u001b[39m     command = pickle_data[\u001b[32m0\u001b[39m]\n",
      "\u001b[31mFileNotFoundError\u001b[39m: [Errno 2] No such file or directory: './../runs/0000001149/output.pkl'"
     ]
    }
   ],
   "source": [
    "run_folder = celeri.get_newest_run_folder()\n",
    "command, estimation, station, segment, block, meshes = celeri.read_run(run_folder)\n",
    "\n",
    "# Get a default plotting parameter dictionary\n",
    "p = celeri.get_default_plotting_dict(command, estimation, station)"
   ]
  },
  {
   "cell_type": "code",
   "execution_count": null,
   "metadata": {},
   "outputs": [],
   "source": [
    "celeri.plot_estimation_summary(\n",
    "    command,\n",
    "    segment,\n",
    "    station,\n",
    "    meshes,\n",
    "    estimation,\n",
    "    lon_range=command.lon_range,\n",
    "    lat_range=command.lat_range,\n",
    "    quiver_scale=command.quiver_scale,\n",
    ")"
   ]
  },
  {
   "cell_type": "code",
   "execution_count": null,
   "metadata": {},
   "outputs": [],
   "source": [
    "celeri.plot_vels(\n",
    "    p,\n",
    "    segment,\n",
    "    station.lon,\n",
    "    station.lat,\n",
    "    station.east_vel,\n",
    "    station.north_vel,\n",
    "    arrow_scale=1.0,\n",
    "    title_string=\"observed velocities\",\n",
    ")"
   ]
  },
  {
   "cell_type": "code",
   "execution_count": null,
   "metadata": {},
   "outputs": [],
   "source": [
    "celeri.plot_vels(\n",
    "    p,\n",
    "    segment,\n",
    "    station.lon,\n",
    "    station.lat,\n",
    "    estimation.east_vel,\n",
    "    estimation.north_vel,\n",
    "    arrow_scale=1.0,\n",
    "    title_string=\"modeled velocities\",\n",
    ")"
   ]
  },
  {
   "cell_type": "code",
   "execution_count": null,
   "metadata": {},
   "outputs": [],
   "source": [
    "celeri.plot_vels(\n",
    "    p,\n",
    "    segment,\n",
    "    station.lon,\n",
    "    station.lat,\n",
    "    estimation.east_vel_residual,\n",
    "    estimation.north_vel_residual,\n",
    "    arrow_scale=0.25,\n",
    "    title_string=\"residual velocities\",\n",
    ")"
   ]
  },
  {
   "cell_type": "code",
   "execution_count": null,
   "metadata": {},
   "outputs": [],
   "source": [
    "celeri.plot_vels(\n",
    "    p,\n",
    "    segment,\n",
    "    station.lon,\n",
    "    station.lat,\n",
    "    estimation.east_vel_rotation,\n",
    "    estimation.north_vel_rotation,\n",
    "    arrow_scale=1.0,\n",
    "    title_string=\"rotation velocities\",\n",
    ")"
   ]
  },
  {
   "cell_type": "code",
   "execution_count": null,
   "metadata": {},
   "outputs": [],
   "source": [
    "celeri.plot_vels(\n",
    "    p,\n",
    "    segment,\n",
    "    station.lon,\n",
    "    station.lat,\n",
    "    estimation.east_vel_elastic_segment,\n",
    "    estimation.north_vel_elastic_segment,\n",
    "    arrow_scale=0.25,\n",
    "    title_string=\"elastic segment velocities\",\n",
    ")"
   ]
  },
  {
   "cell_type": "code",
   "execution_count": null,
   "metadata": {},
   "outputs": [],
   "source": [
    "celeri.plot_vels(\n",
    "    p,\n",
    "    segment,\n",
    "    station.lon,\n",
    "    station.lat,\n",
    "    estimation.east_vel_tde,\n",
    "    estimation.north_vel_tde,\n",
    "    arrow_scale=0.75,\n",
    "    title_string=\"TDE velocities\",\n",
    ")"
   ]
  },
  {
   "cell_type": "code",
   "execution_count": null,
   "metadata": {},
   "outputs": [],
   "source": [
    "celeri.plot_vels(\n",
    "    p,\n",
    "    segment,\n",
    "    station.lon,\n",
    "    station.lat,\n",
    "    estimation.east_vel_block_strain_rate,\n",
    "    estimation.north_vel_block_strain_rate,\n",
    "    arrow_scale=0.15,\n",
    "    title_string=\"Internal block strain rate velocities\",\n",
    ")"
   ]
  },
  {
   "cell_type": "code",
   "execution_count": null,
   "metadata": {},
   "outputs": [],
   "source": [
    "celeri.plot_vels(\n",
    "    p,\n",
    "    segment,\n",
    "    station.lon,\n",
    "    station.lat,\n",
    "    estimation.east_vel_mogi,\n",
    "    estimation.north_vel_mogi,\n",
    "    arrow_scale=0.15,\n",
    "    title_string=\"Mogi velocities\",\n",
    ")"
   ]
  },
  {
   "cell_type": "code",
   "execution_count": null,
   "metadata": {},
   "outputs": [],
   "source": [
    "celeri.plot_residuals(p, segment, station)"
   ]
  },
  {
   "cell_type": "code",
   "execution_count": null,
   "metadata": {},
   "outputs": [],
   "source": [
    "celeri.plot_segment_rates(p, segment, estimation, \"ss\", rate_scale=1)\n",
    "celeri.plot_segment_rates(p, segment, estimation, \"ds\", rate_scale=1)\n",
    "celeri.plot_segment_rates(p, segment, estimation, \"ts\", rate_scale=1)\n",
    "celeri.plot_segment_rates(p, segment, estimation, \"dsts\", rate_scale=1)"
   ]
  },
  {
   "cell_type": "code",
   "execution_count": null,
   "metadata": {},
   "outputs": [],
   "source": []
  }
 ],
 "metadata": {
  "kernelspec": {
   "display_name": "default",
   "language": "python",
   "name": "python3"
  },
  "language_info": {
   "codemirror_mode": {
    "name": "ipython",
    "version": 3
   },
   "file_extension": ".py",
   "mimetype": "text/x-python",
   "name": "python",
   "nbconvert_exporter": "python",
   "pygments_lexer": "ipython3",
   "version": "3.12.10"
  },
  "widgets": {
   "application/vnd.jupyter.widget-state+json": {
    "state": {
     "4d250c5d35aa493295ca814fb3eaa1ee": {
      "model_module": "@jupyter-widgets/base",
      "model_module_version": "1.2.0",
      "model_name": "LayoutModel",
      "state": {}
     },
     "6faf75ca5f3b41388f284e98ec2cf803": {
      "model_module": "jupyter-matplotlib",
      "model_module_version": "^0.9.0",
      "model_name": "ToolbarModel",
      "state": {
       "layout": "IPY_MODEL_9b061db2dc65459ca586b9b9f73c2362",
       "toolitems": [
        [
         "Home",
         "Reset original view",
         "home",
         "home"
        ],
        [
         "Back",
         "Back to previous view",
         "arrow-left",
         "back"
        ],
        [
         "Forward",
         "Forward to next view",
         "arrow-right",
         "forward"
        ],
        [
         "Pan",
         "Left button pans, Right button zooms\nx/y fixes axis, CTRL fixes aspect",
         "arrows",
         "pan"
        ],
        [
         "Zoom",
         "Zoom to rectangle\nx/y fixes axis, CTRL fixes aspect",
         "square-o",
         "zoom"
        ],
        [
         "Download",
         "Download plot",
         "floppy-o",
         "save_figure"
        ]
       ]
      }
     },
     "9b061db2dc65459ca586b9b9f73c2362": {
      "model_module": "@jupyter-widgets/base",
      "model_module_version": "1.2.0",
      "model_name": "LayoutModel",
      "state": {}
     },
     "c25a38234e8f4e818670d9767f95a430": {
      "model_module": "jupyter-matplotlib",
      "model_module_version": "^0.9.0",
      "model_name": "MPLCanvasModel",
      "state": {
       "_cursor": "default",
       "_figure_label": "Figure 1",
       "_height": 708,
       "_width": 1746,
       "layout": "IPY_MODEL_4d250c5d35aa493295ca814fb3eaa1ee",
       "toolbar": "IPY_MODEL_6faf75ca5f3b41388f284e98ec2cf803",
       "toolbar_position": "left"
      }
     }
    },
    "version_major": 2,
    "version_minor": 0
   }
  }
 },
 "nbformat": 4,
 "nbformat_minor": 4
}
