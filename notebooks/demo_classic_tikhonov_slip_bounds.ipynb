{
 "cells": [
  {
   "cell_type": "code",
   "execution_count": null,
   "metadata": {},
   "outputs": [],
   "source": [
    "%load_ext autoreload\n",
    "%autoreload 2\n",
    "%config InlineBackend.figure_format = \"retina\""
   ]
  },
  {
   "cell_type": "code",
   "execution_count": null,
   "metadata": {
    "tags": []
   },
   "outputs": [],
   "source": [
    "import addict\n",
    "import copy\n",
    "import sys\n",
    "import numpy as np\n",
    "import pandas as pd\n",
    "import matplotlib.pyplot as plt\n",
    "from importlib import reload\n",
    "from tqdm.notebook import tqdm\n",
    "from typing import List, Dict, Tuple\n",
    "\n",
    "import celeri\n",
    "\n",
    "plt.rcParams[\"text.usetex\"] = (\n",
    "    False  # Plotting the global model is much much faster with tex fonts turned off\n",
    ")"
   ]
  },
  {
   "cell_type": "markdown",
   "metadata": {},
   "source": [
    "# Read in data files, create storage dictionaries, and do basic processing"
   ]
  },
  {
   "cell_type": "code",
   "execution_count": null,
   "metadata": {},
   "outputs": [],
   "source": [
    "# Western North America example\n",
    "config_file_name = \"../data/config/western_north_america_config.json\""
   ]
  },
  {
   "cell_type": "code",
   "execution_count": null,
   "metadata": {
    "tags": []
   },
   "outputs": [],
   "source": [
    "model = celeri.build_model(config_file_name)"
   ]
  },
  {
   "cell_type": "markdown",
   "metadata": {},
   "source": [
    "# Plot input data"
   ]
  },
  {
   "cell_type": "code",
   "execution_count": null,
   "metadata": {},
   "outputs": [],
   "source": [
    "celeri.plot_input_summary(model)"
   ]
  },
  {
   "cell_type": "markdown",
   "metadata": {},
   "source": [
    "# Sketching out the assembly of the block model system\n",
    "\n",
    "$$\n",
    "\\begin{bmatrix}\n",
    "    \\mathrm{geodetic \\; velocities} \\\\\n",
    "    \\mathrm{plate \\; rotation \\; constraints} \\\\\n",
    "    \\mathrm{slip \\; rate \\; constraints} \\\\\n",
    "    \\mathrm{TDE \\; smoothing \\; pseudodata = 0} \\\\\n",
    "    \\mathrm{TDE \\; rate \\; constraints} \\\\\n",
    "    \\mathrm{InSAR \\; LOS \\; changes} \n",
    "\\end{bmatrix}\n",
    "=\n",
    "\\begin{bmatrix}\n",
    "    \\mathrm{(rotations-elastic \\; segments) \\; to \\; velocities} & \\mathrm{TDEs \\; to \\; velocities} & \\mathrm{block \\; strain \\; rate \\; to \\; velocities} & \\mathrm{Mogi \\; to \\; velocities}\\\\\n",
    "    \\mathrm{identities}                                          & 0                                   & 0 \\\\\n",
    "    \\mathrm{plate \\; rotations \\; to \\; slip \\; rates}           & 0                                   & 0 \\\\\n",
    "    0                                                            & \\mathrm{TDE \\; smoothing \\; matrix} & 0 \\\\\n",
    "    0                                                            & \\mathrm{identities}                 & 0 \\\\\n",
    "    \\mathrm{(rotations-elastic \\; segments) \\; to \\; LOS}        & \\mathrm{TDEs \\; to \\; LOS}          & \\mathrm{block \\; strain \\; rate \\; to \\; velocities}\n",
    "\\end{bmatrix}\n",
    "\\begin{bmatrix}\n",
    "    \\mathrm{plate \\; rotation \\; rates} \\\\\n",
    "    \\mathrm{TDE \\; slip \\; rates} \\\\\n",
    "    \\mathrm{block \\; strain \\; rates} \\\\\n",
    "    \\mathrm{Mogi \\; rates}\n",
    "\\end{bmatrix}\n",
    "$$"
   ]
  },
  {
   "cell_type": "markdown",
   "metadata": {},
   "source": [
    "# Estimate block model parameters (dense)"
   ]
  },
  {
   "cell_type": "code",
   "execution_count": null,
   "metadata": {},
   "outputs": [],
   "source": [
    "operators, estimation = celeri.assemble_and_solve_dense(model, tde=True, eigen=False)"
   ]
  },
  {
   "cell_type": "markdown",
   "metadata": {},
   "source": [
    "# Plot model summary"
   ]
  },
  {
   "cell_type": "code",
   "execution_count": null,
   "metadata": {},
   "outputs": [],
   "source": [
    "celeri.plot_estimation_summary(model, estimation)"
   ]
  },
  {
   "cell_type": "markdown",
   "metadata": {},
   "source": [
    "# Experiment: constrainted least squares\n",
    "- The idea is to constrain TDE slip rates in some region"
   ]
  },
  {
   "cell_type": "code",
   "execution_count": null,
   "metadata": {},
   "outputs": [],
   "source": [
    "index = operators.index\n",
    "\n",
    "lower_bound = np.zeros_like(estimation.state_vector)\n",
    "upper_bound = np.zeros_like(estimation.state_vector)\n",
    "lower_bound[:] = -np.inf\n",
    "upper_bound[:] = np.inf\n",
    "\n",
    "# Strike-slip\n",
    "lower_bound[index.tde.start_tde_col[0] : index.tde.end_tde_col[0] : 2] = -5\n",
    "upper_bound[index.tde.start_tde_col[0] : index.tde.end_tde_col[0] : 2] = 5\n",
    "\n",
    "# Dip-slip\n",
    "lower_bound[index.tde.start_tde_col[0] + 1 : index.tde.end_tde_col[0] : 2] = 0\n",
    "upper_bound[index.tde.start_tde_col[0] + 1 : index.tde.end_tde_col[0] : 2] = 30"
   ]
  },
  {
   "cell_type": "code",
   "execution_count": null,
   "metadata": {},
   "outputs": [],
   "source": [
    "from scipy.optimize import lsq_linear\n",
    "\n",
    "# Non-linear solver (unbounded)\n",
    "# res = lsq_linear(\n",
    "#     estimation.operator * np.sqrt(estimation.weighting_vector[:, None]),\n",
    "#     estimation.data_vector * np.sqrt(estimation.weighting_vector),\n",
    "#     verbose=1,\n",
    "# )\n",
    "\n",
    "# Non-linear solver (bounded [-inf, inf])\n",
    "res = lsq_linear(\n",
    "    estimation.operator * np.sqrt(estimation.weighting_vector[:, None]),\n",
    "    estimation.data_vector * np.sqrt(estimation.weighting_vector),\n",
    "    bounds=(lower_bound, upper_bound),\n",
    "    verbose=1,\n",
    ")"
   ]
  },
  {
   "cell_type": "code",
   "execution_count": null,
   "metadata": {},
   "outputs": [],
   "source": [
    "import dataclasses\n",
    "estimation_bounded = dataclasses.replace(estimation, state_vector=res.x)"
   ]
  },
  {
   "cell_type": "code",
   "execution_count": null,
   "metadata": {},
   "outputs": [],
   "source": [
    "plt.figure(figsize=(15, 5))\n",
    "plt.title(\"all\")\n",
    "plt.plot(estimation.state_vector, \"xr\", label=\"linear\")\n",
    "plt.plot(res.x, \".b\", label=\"bounded\")\n",
    "plt.legend()\n",
    "plt.show()\n",
    "\n",
    "plt.figure(figsize=(15, 5))\n",
    "plt.title(\"rotation vector estimates\")\n",
    "plt.plot(estimation.state_vector[0 : 3 * index.n_blocks], \"xr\", label=\"linear\")\n",
    "plt.plot(res.x[0 : 3 * index.n_blocks], \".b\", label=\"bounded\")\n",
    "plt.legend()\n",
    "plt.show()"
   ]
  },
  {
   "cell_type": "code",
   "execution_count": null,
   "metadata": {},
   "outputs": [],
   "source": [
    "celeri.plot_estimation_summary(model, estimation_bounded)"
   ]
  },
  {
   "cell_type": "code",
   "execution_count": null,
   "metadata": {},
   "outputs": [],
   "source": [
    "plt.plot(estimation.state_vector)\n",
    "plt.plot(estimation_bounded.state_vector)"
   ]
  },
  {
   "cell_type": "markdown",
   "metadata": {},
   "source": [
    "# `lsq_linear` but with LSMR solve\n",
    "- Try with Ben's H-matrix preconditioner"
   ]
  },
  {
   "cell_type": "code",
   "execution_count": null,
   "metadata": {},
   "outputs": [],
   "source": [
    "operators_block_only = celeri.build_operators(model, eigen=False, tde=False)\n",
    "weighting_vector_block_only = estimation.weighting_vector[\n",
    "    0 : operators_block_only.full_dense_operator.shape[0]\n",
    "][:, None]\n",
    "col_norms = np.linalg.norm(\n",
    "    operators_block_only.full_dense_operator * np.sqrt(weighting_vector_block_only), axis=0\n",
    ")"
   ]
  },
  {
   "cell_type": "code",
   "execution_count": null,
   "metadata": {},
   "outputs": [],
   "source": [
    "# Non-linear solver (bounded [-inf, inf])\n",
    "res2 = lsq_linear(\n",
    "    estimation.operator * np.sqrt(estimation.weighting_vector[:, None]),\n",
    "    estimation.data_vector * np.sqrt(estimation.weighting_vector),\n",
    "    bounds=(lower_bound, upper_bound),\n",
    "    lsq_solver=\"lsmr\",\n",
    "    verbose=1,\n",
    ")"
   ]
  },
  {
   "cell_type": "code",
   "execution_count": null,
   "metadata": {},
   "outputs": [],
   "source": [
    "print(col_norms)"
   ]
  },
  {
   "cell_type": "code",
   "execution_count": null,
   "metadata": {},
   "outputs": [],
   "source": [
    "def matrix_summary_plot(matrix, title_string):\n",
    "    small_num = np.finfo(float).eps\n",
    "    matrix[matrix == 0] = small_num\n",
    "    n_bins = 100\n",
    "    plt.figure(figsize=(10, 10))\n",
    "\n",
    "    plt.subplot(2, 2, 1)\n",
    "    plt.title(\"matrix\")\n",
    "    plt.imshow(np.log10(np.abs(matrix)))\n",
    "    plt.colorbar()\n",
    "\n",
    "    plt.subplot(2, 2, 2)\n",
    "    plt.title(\"matrix element frequency distribution\")\n",
    "    plt.hist(np.log10(np.abs(matrix.flatten())), n_bins)\n",
    "    plt.yscale(\"log\", nonpositive=\"clip\")\n",
    "    plt.xlabel(\"np.log10(np.abs(matrix element))\")\n",
    "    plt.ylabel(\"N\")\n",
    "\n",
    "    plt.suptitle(title_string)\n",
    "    plt.show()\n",
    "\n",
    "\n",
    "matrix_summary_plot(estimation.operator, \"raw\")\n",
    "matrix_summary_plot(\n",
    "    estimation.operator * np.sqrt(estimation.weighting_vector[:, None]),\n",
    "    \"preconditioned\",\n",
    ")"
   ]
  },
  {
   "cell_type": "code",
   "execution_count": null,
   "metadata": {},
   "outputs": [],
   "source": []
  }
 ],
 "metadata": {
  "kernelspec": {
   "display_name": "Python (Pixi)",
   "language": "python",
   "name": "pixi-kernel-python3"
  },
  "language_info": {
   "codemirror_mode": {
    "name": "ipython",
    "version": 3
   },
   "file_extension": ".py",
   "mimetype": "text/x-python",
   "name": "python",
   "nbconvert_exporter": "python",
   "pygments_lexer": "ipython3",
   "version": "3.12.10"
  },
  "widgets": {
   "application/vnd.jupyter.widget-state+json": {
    "state": {
     "4d250c5d35aa493295ca814fb3eaa1ee": {
      "model_module": "@jupyter-widgets/base",
      "model_module_version": "1.2.0",
      "model_name": "LayoutModel",
      "state": {}
     },
     "6faf75ca5f3b41388f284e98ec2cf803": {
      "model_module": "jupyter-matplotlib",
      "model_module_version": "^0.9.0",
      "model_name": "ToolbarModel",
      "state": {
       "layout": "IPY_MODEL_9b061db2dc65459ca586b9b9f73c2362",
       "toolitems": [
        [
         "Home",
         "Reset original view",
         "home",
         "home"
        ],
        [
         "Back",
         "Back to previous view",
         "arrow-left",
         "back"
        ],
        [
         "Forward",
         "Forward to next view",
         "arrow-right",
         "forward"
        ],
        [
         "Pan",
         "Left button pans, Right button zooms\nx/y fixes axis, CTRL fixes aspect",
         "arrows",
         "pan"
        ],
        [
         "Zoom",
         "Zoom to rectangle\nx/y fixes axis, CTRL fixes aspect",
         "square-o",
         "zoom"
        ],
        [
         "Download",
         "Download plot",
         "floppy-o",
         "save_figure"
        ]
       ]
      }
     },
     "9b061db2dc65459ca586b9b9f73c2362": {
      "model_module": "@jupyter-widgets/base",
      "model_module_version": "1.2.0",
      "model_name": "LayoutModel",
      "state": {}
     },
     "c25a38234e8f4e818670d9767f95a430": {
      "model_module": "jupyter-matplotlib",
      "model_module_version": "^0.9.0",
      "model_name": "MPLCanvasModel",
      "state": {
       "_cursor": "default",
       "_figure_label": "Figure 1",
       "_height": 708,
       "_width": 1746,
       "layout": "IPY_MODEL_4d250c5d35aa493295ca814fb3eaa1ee",
       "toolbar": "IPY_MODEL_6faf75ca5f3b41388f284e98ec2cf803",
       "toolbar_position": "left"
      }
     }
    },
    "version_major": 2,
    "version_minor": 0
   }
  }
 },
 "nbformat": 4,
 "nbformat_minor": 4
}
