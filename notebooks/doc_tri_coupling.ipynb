{
 "cells": [
  {
   "cell_type": "code",
   "execution_count": null,
   "metadata": {},
   "outputs": [],
   "source": [
    "%load_ext autoreload\n",
    "%autoreload 2\n",
    "%config InlineBackend.figure_format = \"retina\""
   ]
  },
  {
   "cell_type": "code",
   "execution_count": null,
   "metadata": {
    "tags": []
   },
   "outputs": [],
   "source": [
    "import addict\n",
    "import copy\n",
    "import sys\n",
    "import numpy as np\n",
    "import pandas as pd\n",
    "import matplotlib.pyplot as plt\n",
    "from importlib import reload\n",
    "from tqdm.notebook import tqdm\n",
    "from typing import List, Dict, Tuple\n",
    "\n",
    "import celeri\n",
    "\n",
    "plt.rcParams[\"text.usetex\"] = (\n",
    "    False  # Plotting the global model is much much faster with tex fonts turned off\n",
    ")"
   ]
  },
  {
   "cell_type": "markdown",
   "metadata": {},
   "source": [
    "# Read in data files, create storage dictionaries, and do basic processing"
   ]
  },
  {
   "cell_type": "code",
   "execution_count": null,
   "metadata": {},
   "outputs": [],
   "source": [
    "# Western North America example\n",
    "# command_file_name = \"../data/command/western_north_america_command.json\"\n",
    "# Japan model\n",
    "command_file_name = \"../data/command/japan_command.json\""
   ]
  },
  {
   "cell_type": "code",
   "execution_count": null,
   "metadata": {},
   "outputs": [],
   "source": [
    "model = celeri.build_model(command_file_name)"
   ]
  },
  {
   "cell_type": "markdown",
   "metadata": {},
   "source": [
    "# Plot input data"
   ]
  },
  {
   "cell_type": "code",
   "execution_count": null,
   "metadata": {},
   "outputs": [],
   "source": [
    "celeri.plot_input_summary(\n",
    "    model,\n",
    "    lon_range=model.command.lon_range,\n",
    "    lat_range=model.command.lat_range,\n",
    "    quiver_scale=1e2,\n",
    ")"
   ]
  },
  {
   "cell_type": "markdown",
   "metadata": {},
   "source": [
    "# Estimate block model parameters (dense)"
   ]
  },
  {
   "cell_type": "code",
   "execution_count": null,
   "metadata": {},
   "outputs": [],
   "source": [
    "operators, estimation = celeri.assemble_and_solve_dense(model, tde=True, eigen=False)\n",
    "celeri.write_output(model.command, estimation, model.station, model.segment, model.block, model.meshes, model.mogi)"
   ]
  },
  {
   "cell_type": "markdown",
   "metadata": {},
   "source": [
    "# Sketching out the assembly of the block model system\n",
    "\n",
    "$$\n",
    "\\begin{bmatrix}\n",
    "    \\mathrm{geodetic \\; velocities} \\\\\n",
    "    \\mathrm{plate \\; rotation \\; constraints} \\\\\n",
    "    \\mathrm{slip \\; rate \\; constraints} \\\\\n",
    "    \\mathrm{TDE \\; smoothing \\; pseudodata = 0} \\\\\n",
    "    \\mathrm{TDE \\; rate \\; constraints} \\\\\n",
    "    \\mathrm{TDE \\; coupling \\; constraints = 0} \\\\\n",
    "    \\mathrm{InSAR \\; LOS \\; changes} \n",
    "\\end{bmatrix}\n",
    "=\n",
    "\\begin{bmatrix}\n",
    "    \\mathrm{(rotations-elastic \\; segments) \\; to \\; velocities} & \\mathrm{TDEs \\; to \\; velocities} & \\mathrm{block \\; strain \\; rate \\; to \\; velocities} & \\mathrm{Mogi \\; to \\; velocities}\\\\\n",
    "    \\mathrm{identities}                                          & 0                                   & 0 \\\\\n",
    "    \\mathrm{plate \\; rotations \\; to \\; slip \\; rates}           & 0                                   & 0 \\\\\n",
    "    0                                                            & \\mathrm{TDE \\; smoothing \\; matrix} & 0 \\\\\n",
    "    0                                                            & \\mathrm{identities}                 & 0 \\\\\n",
    "    -\\phi(\\mathrm{plate \\; rotations \\; to \\; TDE \\; slip \\; rates)}    & \\mathrm{identities}                & 0 \\\\\n",
    "    \\mathrm{(rotations-elastic \\; segments) \\; to \\; LOS}        & \\mathrm{TDEs \\; to \\; LOS}          & \\mathrm{block \\; strain \\; rate \\; to \\; velocities}\n",
    "\\end{bmatrix}\n",
    "\\begin{bmatrix}\n",
    "    \\mathrm{plate \\; rotation \\; rates} \\\\\n",
    "    \\mathrm{TDE \\; slip \\; rates} \\\\\n",
    "    \\mathrm{block \\; strain \\; rates} \\\\\n",
    "    \\mathrm{Mogi \\; rates}\n",
    "\\end{bmatrix}\n",
    "$$"
   ]
  },
  {
   "cell_type": "markdown",
   "metadata": {},
   "source": [
    "# Plot model summary"
   ]
  },
  {
   "cell_type": "code",
   "execution_count": null,
   "metadata": {},
   "outputs": [],
   "source": [
    "celeri.plot_estimation_summary(model, estimation)"
   ]
  },
  {
   "cell_type": "markdown",
   "metadata": {},
   "source": [
    "### Testing triangular coupling calculations"
   ]
  },
  {
   "cell_type": "code",
   "execution_count": null,
   "metadata": {},
   "outputs": [],
   "source": [
    "i = 1\n",
    "# Calculate partials\n",
    "tricoup = celeri.get_rotation_to_tri_slip_rate_partials(model, i)\n",
    "# Do the projection of block motions\n",
    "trislip = tricoup @ estimation.state_vector[0 : 3 * operators.index.n_blocks]\n",
    "# Isolate components\n",
    "tristrike = trislip[0::3]\n",
    "tridip = trislip[1::3]\n",
    "tritens = trislip[2::3]\n",
    "# Identify segments closest to each element\n",
    "csi = np.unique(model.meshes[i].closest_segment_idx)"
   ]
  },
  {
   "cell_type": "markdown",
   "metadata": {},
   "source": [
    "#### Visualize projected slip rates"
   ]
  },
  {
   "cell_type": "code",
   "execution_count": null,
   "metadata": {},
   "outputs": [],
   "source": [
    "# plt.close('all')\n",
    "import matplotlib\n",
    "import pyproj\n",
    "import matplotlib.colors as colors\n",
    "\n",
    "# Function, so that we don't leak all the local variables\n",
    "def make_plot(model, operators, estimation, tristrike):\n",
    "    meshes = model.meshes\n",
    "    segment = model.segment\n",
    "\n",
    "    tri_strike = np.array(meshes[i].strike)\n",
    "    tri_strike[meshes[i].strike > 180] -= 180\n",
    "\n",
    "    GEOID = pyproj.Geod(ellps=\"WGS84\")\n",
    "    segment_azimuth = np.zeros_like(segment.lon1)\n",
    "    for j in range(len(segment.lon1)):\n",
    "        segment_azimuth[j], _, _ = GEOID.inv(\n",
    "            segment.lon1[j], segment.lat1[j], segment.lon2[j], segment.lat2[j]\n",
    "        )\n",
    "    rhrstrike = segment_azimuth + 180\n",
    "\n",
    "    seg_flip = np.zeros_like(segment.lon1)\n",
    "    seg_flip[segment.lat2 < segment.lat1] = -1000\n",
    "\n",
    "\n",
    "    fig1, ax = plt.subplots(1, 3, figsize=(12, 6))\n",
    "\n",
    "    fill_value0 = meshes[i].strike\n",
    "    # fill_value0 = tri_strike\n",
    "    # fill_value0[fill_value0 > 180] -= 180\n",
    "    # fill_value_range0 = [np.min(fill_value0), np.max(fill_value0)]\n",
    "    fill_value_range0 = [0, 360]\n",
    "    x_coords = meshes[i].points[:, 0]\n",
    "    y_coords = meshes[i].points[:, 1]\n",
    "    vertex_array = np.asarray(meshes[i].verts)\n",
    "    xy = np.c_[x_coords, y_coords]\n",
    "    verts = xy[vertex_array]\n",
    "    pc0 = matplotlib.collections.PolyCollection(verts, edgecolor=\"none\", cmap=\"rainbow\")\n",
    "    pc0.set_array(fill_value0)\n",
    "    pc0.set_clim(fill_value_range0)\n",
    "    ax[0].add_collection(pc0)\n",
    "    ax[0].scatter(\n",
    "        segment.mid_lon[csi],\n",
    "        segment.mid_lat[csi],\n",
    "        vmin=fill_value_range0[0],\n",
    "        vmax=fill_value_range0[1],\n",
    "        c=segment.azimuth[csi],\n",
    "        cmap=\"rainbow\",\n",
    "    )\n",
    "    plt.colorbar(pc0, label=\"Strike\", ax=ax[0])\n",
    "    # Add mesh edge\n",
    "    x_edge = x_coords[meshes[i].ordered_edge_nodes[:, 0]]\n",
    "    y_edge = y_coords[meshes[i].ordered_edge_nodes[:, 0]]\n",
    "    x_edge = np.append(x_edge, x_coords[meshes[0].ordered_edge_nodes[0, 0]])\n",
    "    y_edge = np.append(y_edge, y_coords[meshes[0].ordered_edge_nodes[0, 0]])\n",
    "    ax[0].plot(x_edge, y_edge, color=\"black\", linewidth=1)\n",
    "    ax[0].axis(\"equal\")\n",
    "\n",
    "    fill_value1 = tristrike\n",
    "    fill_value_range1 = [-np.max(fill_value1), np.max(fill_value1)]\n",
    "\n",
    "    pc1 = matplotlib.collections.PolyCollection(verts, edgecolor=\"none\", cmap=\"RdYlBu_r\")\n",
    "    pc1.set_array(fill_value1)\n",
    "    pc1.set_clim(fill_value_range1)\n",
    "    ax[1].add_collection(pc1)\n",
    "    ax[1].scatter(\n",
    "        segment.mid_lon[csi],\n",
    "        segment.mid_lat[csi],\n",
    "        vmin=fill_value_range1[0],\n",
    "        vmax=fill_value_range1[1],\n",
    "        c=estimation.strike_slip_rates[csi],\n",
    "        cmap=\"RdYlBu_r\",\n",
    "    )\n",
    "    plt.colorbar(pc1, label=\"Strike-slip (mm/yr)\", ax=ax[1])\n",
    "    # Add mesh edge\n",
    "    ax[1].plot(x_edge, y_edge, color=\"black\", linewidth=1)\n",
    "    ax[1].axis(\"equal\")\n",
    "\n",
    "    fill_value2 = tridip\n",
    "    fill_value_range2 = [-100, 100]\n",
    "    pc2 = matplotlib.collections.PolyCollection(verts, edgecolor=\"none\", cmap=\"RdYlBu_r\")\n",
    "    pc2.set_array(fill_value2)\n",
    "\n",
    "    ax[2].add_collection(pc2)\n",
    "    pc2.set_clim(fill_value_range2)\n",
    "    ax[2].scatter(\n",
    "        segment.mid_lon[csi],\n",
    "        segment.mid_lat[csi],\n",
    "        vmin=fill_value_range2[0],\n",
    "        vmax=fill_value_range2[1],\n",
    "        c=estimation.dip_slip_rates[csi],\n",
    "        cmap=\"RdYlBu_r\",\n",
    "    )\n",
    "    plt.colorbar(pc2, label=\"Dip-slip (mm/yr)\", ax=ax[2])\n",
    "    # Add mesh edge\n",
    "    ax[2].plot(x_edge, y_edge, color=\"black\", linewidth=1)\n",
    "    ax[2].axis(\"equal\")\n",
    "\n",
    "    fig1.tight_layout()\n",
    "    # print(estimation.strike_slip_rates[csi])\n",
    "    # print(estimation.tensile_slip_rates[csi])\n",
    "    # print(segment.azimuth[csi])\n",
    "\n",
    "make_plot(model, operators, estimation, tristrike)"
   ]
  },
  {
   "cell_type": "markdown",
   "metadata": {},
   "source": [
    "### Japan Trench\n",
    "- `sign_corr` giving -1 for `tristrike > 90`: essential for flipping sign of the few elements whose strikes < 180º\n",
    "- `ew_switch = 1` gives all correct slip sense. Previously problematic elements were those whose strikes < 180º, but those are resolved with `sign_corr`\n",
    "\n",
    "### Nankai Trough\n",
    "- `sign_corr = 1` is essential for flipping sign of slips in the \"nose\" regions where strike > 270º\n",
    "    - These are elements that would get negated with the regular `sign_corr` analysis\n",
    "- `ew_switch = 1` gives correct slip sense *except* on a few elements whose strike are < 180º, which is inconsistent with Japan Trench \n",
    "\n",
    "- When `sign_corr` modulates `tristrike > 90`, noses flip to wrong sense of slip, but isolated elements with strikes < 180º get correct slip sense \n",
    "\n",
    "### Sagami Trough\n",
    "- `sign_corr` giving -1 for `tristrike > 90` gives mostly correct slip sense, except in panels where it seems that strike > 270º and nearest segment strike < 270º, so this is a case where something like `ew_switch` is needed "
   ]
  },
  {
   "cell_type": "markdown",
   "metadata": {},
   "source": [
    "### Debugging strain rate calculations"
   ]
  },
  {
   "cell_type": "code",
   "execution_count": null,
   "metadata": {},
   "outputs": [],
   "source": [
    "def make_plot(model, operators):\n",
    "    centroid_lon = 133.3318559095709\n",
    "    centroid_lat = 34.42960594634139\n",
    "    \n",
    "    lonrange = np.arange(centroid_lon - 1, centroid_lon + 1, 0.05)\n",
    "    latrange = np.arange(centroid_lat - 1, centroid_lat + 1, 0.05)\n",
    "    \n",
    "    fslon, fslat = np.meshgrid(lonrange, latrange)\n",
    "    \n",
    "    fakesta = pd.DataFrame(columns=[\"lon\", \"lat\", \"block_label\"])\n",
    "    fakesta.lon = np.reshape(fslon, -1)\n",
    "    fakesta.lat = np.reshape(fslat, -1)\n",
    "    fakesta.block_label = 10 * np.ones_like(fakesta.lon)\n",
    "    \n",
    "    strain_partials, _ = celeri.get_block_strain_rate_to_velocities_partials(\n",
    "        model.block, fakesta, model.segment\n",
    "    )\n",
    "    \n",
    "    strain_comp = [0, 1, 0]\n",
    "    \n",
    "    strainvels = strain_partials @ strain_comp\n",
    "    \n",
    "    fig, ax = plt.subplots()\n",
    "    ax.quiver(fakesta.lon, fakesta.lat, strainvels[0::3], strainvels[1::3])\n",
    "    plt.show()\n",
    "\n",
    "make_plot(model, operators)"
   ]
  },
  {
   "cell_type": "code",
   "execution_count": null,
   "metadata": {},
   "outputs": [],
   "source": [
    "japant = [mesh for mesh in model.meshes if \"japan.msh\" in mesh.file_name]\n",
    "assert len(japant) == 1\n",
    "japant = japan[0]"
   ]
  },
  {
   "cell_type": "code",
   "execution_count": null,
   "metadata": {},
   "outputs": [],
   "source": [
    "fig, ax = plt.subplots()\n",
    "so = ax.tripcolor(\n",
    "    japant.points[:, 0],\n",
    "    japant.points[:, 1],\n",
    "    japant.verts,\n",
    "    japant.strike,\n",
    "    cmap=\"rainbow\",\n",
    ")\n",
    "plt.colorbar(so)\n",
    "ax.set_aspect(\"equal\")\n",
    "plt.show()"
   ]
  },
  {
   "cell_type": "code",
   "execution_count": null,
   "metadata": {},
   "outputs": [],
   "source": [
    "def make_plot(model):\n",
    "    segment = model.segment\n",
    "    meshes = model.meshes\n",
    "\n",
    "    seg_dip_dir = np.array(segment.azimuth)\n",
    "    seg_dip_dir = seg_dip_dir + np.sign(np.cos(np.deg2rad(segment.dip))) * 90\n",
    "    seg_dip_dir_x = np.sin(np.deg2rad(90 - seg_dip_dir))\n",
    "    seg_dip_dir_y = np.cos(np.deg2rad(90 - seg_dip_dir))\n",
    "    seg_comps = np.vstack(\n",
    "        [seg_dip_dir_x[:], seg_dip_dir_y[:], np.zeros_like(seg_dip_dir_x)]\n",
    "    ).T\n",
    "    tri_dip_dir = meshes[0].strike + 90\n",
    "    tri_dip_dir_x = np.cos(np.deg2rad(90 - tri_dip_dir))\n",
    "    tri_dip_dir_y = np.sin(np.deg2rad(90 - tri_dip_dir))\n",
    "    tri_comps = np.vstack(\n",
    "        [tri_dip_dir_x[:], tri_dip_dir_y[:], np.zeros_like(tri_dip_dir_x)]\n",
    "    ).T\n",
    "    north_tri_cross = np.cross(\n",
    "        np.array([0, 1, 0]),\n",
    "        tri_comps,\n",
    "    )\n",
    "    north_seg_cross = np.cross(\n",
    "        np.array([0, 1, 0]),\n",
    "        seg_comps,\n",
    "    )\n",
    "    \n",
    "    fig, ax = plt.subplots(1, 2)\n",
    "    so = ax[0].tripcolor(\n",
    "        meshes[0].points[:, 0],\n",
    "        meshes[0].points[:, 1],\n",
    "        meshes[0].verts,\n",
    "        np.sign(north_tri_cross[:, 2]),\n",
    "    )\n",
    "    ax[0].set_aspect(\"equal\")\n",
    "    plt.colorbar(so)\n",
    "    do = ax[1].tripcolor(\n",
    "        meshes[0].points[:, 0], meshes[0].points[:, 1], meshes[0].verts, tri_dip_dir\n",
    "    )\n",
    "    ax[1].set_aspect(\"equal\")\n",
    "    plt.colorbar(do)\n",
    "    plt.show()\n",
    "    print(north_seg_cross[csi])\n",
    "\n",
    "make_plot(model)"
   ]
  },
  {
   "cell_type": "code",
   "execution_count": null,
   "metadata": {},
   "outputs": [],
   "source": []
  }
 ],
 "metadata": {
  "kernelspec": {
   "display_name": "Python (Pixi)",
   "language": "python",
   "name": "pixi-kernel-python3"
  },
  "language_info": {
   "codemirror_mode": {
    "name": "ipython",
    "version": 3
   },
   "file_extension": ".py",
   "mimetype": "text/x-python",
   "name": "python",
   "nbconvert_exporter": "python",
   "pygments_lexer": "ipython3",
   "version": "3.12.10"
  },
  "widgets": {
   "application/vnd.jupyter.widget-state+json": {
    "state": {
     "4d250c5d35aa493295ca814fb3eaa1ee": {
      "model_module": "@jupyter-widgets/base",
      "model_module_version": "1.2.0",
      "model_name": "LayoutModel",
      "state": {}
     },
     "6faf75ca5f3b41388f284e98ec2cf803": {
      "model_module": "jupyter-matplotlib",
      "model_module_version": "^0.9.0",
      "model_name": "ToolbarModel",
      "state": {
       "layout": "IPY_MODEL_9b061db2dc65459ca586b9b9f73c2362",
       "toolitems": [
        [
         "Home",
         "Reset original view",
         "home",
         "home"
        ],
        [
         "Back",
         "Back to previous view",
         "arrow-left",
         "back"
        ],
        [
         "Forward",
         "Forward to next view",
         "arrow-right",
         "forward"
        ],
        [
         "Pan",
         "Left button pans, Right button zooms\nx/y fixes axis, CTRL fixes aspect",
         "arrows",
         "pan"
        ],
        [
         "Zoom",
         "Zoom to rectangle\nx/y fixes axis, CTRL fixes aspect",
         "square-o",
         "zoom"
        ],
        [
         "Download",
         "Download plot",
         "floppy-o",
         "save_figure"
        ]
       ]
      }
     },
     "9b061db2dc65459ca586b9b9f73c2362": {
      "model_module": "@jupyter-widgets/base",
      "model_module_version": "1.2.0",
      "model_name": "LayoutModel",
      "state": {}
     },
     "c25a38234e8f4e818670d9767f95a430": {
      "model_module": "jupyter-matplotlib",
      "model_module_version": "^0.9.0",
      "model_name": "MPLCanvasModel",
      "state": {
       "_cursor": "default",
       "_figure_label": "Figure 1",
       "_height": 708,
       "_width": 1746,
       "layout": "IPY_MODEL_4d250c5d35aa493295ca814fb3eaa1ee",
       "toolbar": "IPY_MODEL_6faf75ca5f3b41388f284e98ec2cf803",
       "toolbar_position": "left"
      }
     }
    },
    "version_major": 2,
    "version_minor": 0
   }
  }
 },
 "nbformat": 4,
 "nbformat_minor": 4
}
