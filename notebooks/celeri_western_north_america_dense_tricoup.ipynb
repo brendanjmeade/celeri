{
 "cells": [
  {
   "cell_type": "code",
   "execution_count": null,
   "metadata": {},
   "outputs": [],
   "source": [
    "%load_ext autoreload\n",
    "%autoreload 2\n",
    "%config InlineBackend.figure_format = \"retina\""
   ]
  },
  {
   "cell_type": "code",
   "execution_count": null,
   "metadata": {
    "execution": {
     "iopub.execute_input": "2021-08-22T18:29:51.661926Z",
     "iopub.status.busy": "2021-08-22T18:29:51.661659Z",
     "iopub.status.idle": "2021-08-22T18:29:51.956035Z",
     "shell.execute_reply": "2021-08-22T18:29:51.955292Z",
     "shell.execute_reply.started": "2021-08-22T18:29:51.661900Z"
    },
    "tags": []
   },
   "outputs": [],
   "source": [
    "import addict\n",
    "import copy\n",
    "import sys\n",
    "import numpy as np\n",
    "import pandas as pd\n",
    "import matplotlib.pyplot as plt\n",
    "from importlib import reload\n",
    "from tqdm.notebook import tqdm\n",
    "from typing import List, Dict, Tuple\n",
    "\n",
    "import celeri\n",
    "\n",
    "plt.rcParams[\n",
    "    \"text.usetex\"\n",
    "] = False  # Plotting the global model is much much faster with tex fonts turned off"
   ]
  },
  {
   "cell_type": "markdown",
   "metadata": {},
   "source": [
    "# Read in data files, create storage dictionaries, and do basic processing"
   ]
  },
  {
   "cell_type": "code",
   "execution_count": null,
   "metadata": {},
   "outputs": [],
   "source": [
    "# Western North America example\n",
    "command_file_name = \"../data/command/western_north_america_command.json\"\n",
    "# Japan model\n",
    "# command_file_name = \"../data/command/japan_command.json\""
   ]
  },
  {
   "cell_type": "code",
   "execution_count": null,
   "metadata": {
    "execution": {
     "iopub.execute_input": "2021-08-22T18:29:53.570589Z",
     "iopub.status.busy": "2021-08-22T18:29:53.570331Z",
     "iopub.status.idle": "2021-08-22T18:30:09.817977Z",
     "shell.execute_reply": "2021-08-22T18:30:09.817443Z",
     "shell.execute_reply.started": "2021-08-22T18:29:53.570561Z"
    },
    "tags": []
   },
   "outputs": [],
   "source": [
    "command = celeri.get_command(command_file_name)\n",
    "celeri.create_output_folder(command)\n",
    "logger = celeri.get_logger(command)\n",
    "segment, block, meshes, station, mogi, sar = celeri.read_data(command)\n",
    "station = celeri.process_station(station, command)\n",
    "segment = celeri.process_segment(segment, command, meshes)\n",
    "# segment = celeri.snap_segments(segment, meshes)\n",
    "sar = celeri.process_sar(sar, command)\n",
    "closure, block = celeri.assign_block_labels(segment, station, block, mogi, sar)\n",
    "assembly = addict.Dict()\n",
    "operators = addict.Dict()\n",
    "operators.meshes = [addict.Dict()] * len(meshes)\n",
    "assembly = celeri.merge_geodetic_data(\n",
    "    assembly, station, sar\n",
    ")  # Not sure this works correctly"
   ]
  },
  {
   "cell_type": "markdown",
   "metadata": {},
   "source": [
    "# Get elastic operators and TDE smoothing operators"
   ]
  },
  {
   "cell_type": "code",
   "execution_count": null,
   "metadata": {},
   "outputs": [],
   "source": [
    "# Get all elastic operators for segments and TDEs\n",
    "celeri.get_elastic_operators(operators, meshes, segment, station, command)\n",
    "\n",
    "# Get TDE smoothing operators\n",
    "celeri.get_all_mesh_smoothing_matrices(meshes, operators)"
   ]
  },
  {
   "cell_type": "markdown",
   "metadata": {},
   "source": [
    "# Calculate non-elastic operators"
   ]
  },
  {
   "cell_type": "code",
   "execution_count": null,
   "metadata": {
    "tags": []
   },
   "outputs": [],
   "source": [
    "operators.rotation_to_velocities = celeri.get_rotation_to_velocities_partials(\n",
    "    station, len(block)\n",
    ")\n",
    "operators.global_float_block_rotation = celeri.get_global_float_block_rotation_partials(\n",
    "    station\n",
    ")\n",
    "assembly, operators.block_motion_constraints = celeri.get_block_motion_constraints(\n",
    "    assembly, block, command\n",
    ")\n",
    "assembly, operators.slip_rate_constraints = celeri.get_slip_rate_constraints(\n",
    "    assembly, segment, block, command\n",
    ")\n",
    "operators.rotation_to_slip_rate = celeri.get_rotation_to_slip_rate_partials(\n",
    "    segment, block\n",
    ")\n",
    "\n",
    "(\n",
    "    operators.block_strain_rate_to_velocities,\n",
    "    strain_rate_block_index,\n",
    ") = celeri.get_block_strain_rate_to_velocities_partials(block, station, segment)\n",
    "operators.mogi_to_velocities = celeri.get_mogi_to_velocities_partials(\n",
    "    mogi, station, command\n",
    ")\n",
    "celeri.get_tde_slip_rate_constraints(meshes, operators)\n",
    "celeri.get_tde_coupling_constraints(meshes, segment, block, operators)"
   ]
  },
  {
   "cell_type": "markdown",
   "metadata": {},
   "source": [
    "# Plot input data"
   ]
  },
  {
   "cell_type": "code",
   "execution_count": null,
   "metadata": {},
   "outputs": [],
   "source": [
    "celeri.plot_input_summary(\n",
    "    command,\n",
    "    segment,\n",
    "    station,\n",
    "    block,\n",
    "    meshes,\n",
    "    mogi,\n",
    "    sar,\n",
    "    lon_range=command.lon_range,\n",
    "    lat_range=command.lat_range,\n",
    "    quiver_scale=1e2,\n",
    ")"
   ]
  },
  {
   "cell_type": "markdown",
   "metadata": {},
   "source": [
    "# Sketching out the assembly of the block model system\n",
    "\n",
    "$$\n",
    "\\begin{bmatrix}\n",
    "    \\mathrm{geodetic \\; velocities} \\\\\n",
    "    \\mathrm{plate \\; rotation \\; constraints} \\\\\n",
    "    \\mathrm{slip \\; rate \\; constraints} \\\\\n",
    "    \\mathrm{TDE \\; smoothing \\; pseudodata = 0} \\\\\n",
    "    \\mathrm{TDE \\; rate \\; constraints} \\\\\n",
    "    \\mathrm{TDE \\; coupling \\; constraints = 0} \\\\\n",
    "    \\mathrm{InSAR \\; LOS \\; changes} \n",
    "\\end{bmatrix}\n",
    "=\n",
    "\\begin{bmatrix}\n",
    "    \\mathrm{(rotations-elastic \\; segments) \\; to \\; velocities} & \\mathrm{TDEs \\; to \\; velocities} & \\mathrm{block \\; strain \\; rate \\; to \\; velocities} & \\mathrm{Mogi \\; to \\; velocities}\\\\\n",
    "    \\mathrm{identities}                                          & 0                                   & 0 \\\\\n",
    "    \\mathrm{plate \\; rotations \\; to \\; slip \\; rates}           & 0                                   & 0 \\\\\n",
    "    0                                                            & \\mathrm{TDE \\; smoothing \\; matrix} & 0 \\\\\n",
    "    0                                                            & \\mathrm{identities}                 & 0 \\\\\n",
    "    -\\phi(\\mathrm{plate \\; rotations \\; to \\; TDE \\; slip \\; rates)}    & \\mathrm{identities}                & 0 \\\\\n",
    "    \\mathrm{(rotations-elastic \\; segments) \\; to \\; LOS}        & \\mathrm{TDEs \\; to \\; LOS}          & \\mathrm{block \\; strain \\; rate \\; to \\; velocities}\n",
    "\\end{bmatrix}\n",
    "\\begin{bmatrix}\n",
    "    \\mathrm{plate \\; rotation \\; rates} \\\\\n",
    "    \\mathrm{TDE \\; slip \\; rates} \\\\\n",
    "    \\mathrm{block \\; strain \\; rates} \\\\\n",
    "    \\mathrm{Mogi \\; rates}\n",
    "\\end{bmatrix}\n",
    "$$"
   ]
  },
  {
   "cell_type": "markdown",
   "metadata": {},
   "source": [
    "# Estimate block model parameters (dense)"
   ]
  },
  {
   "cell_type": "code",
   "execution_count": null,
   "metadata": {},
   "outputs": [],
   "source": [
    "index, estimation = celeri.assemble_and_solve_dense(\n",
    "    command, assembly, operators, station, block, meshes\n",
    ")\n",
    "celeri.post_process_estimation(estimation, operators, station, index)\n",
    "celeri.write_output(command, estimation, station, segment, block, meshes)"
   ]
  },
  {
   "cell_type": "markdown",
   "metadata": {},
   "source": [
    "# Plot model summary"
   ]
  },
  {
   "cell_type": "code",
   "execution_count": null,
   "metadata": {},
   "outputs": [],
   "source": [
    "celeri.plot_estimation_summary(\n",
    "    command,\n",
    "    segment,\n",
    "    station,\n",
    "    meshes,\n",
    "    estimation,\n",
    "    lon_range=command.lon_range,\n",
    "    lat_range=command.lat_range,\n",
    "    quiver_scale=1e2,\n",
    ")"
   ]
  },
  {
   "cell_type": "markdown",
   "metadata": {},
   "source": [
    "### Testing triangular coupling calculations"
   ]
  },
  {
   "cell_type": "code",
   "execution_count": null,
   "metadata": {},
   "outputs": [],
   "source": [
    "# Calculate partials\n",
    "tricoup = celeri.get_rotation_to_tri_slip_rate_partials(meshes[0], 0, segment, block)\n",
    "# Do the projection of block motions\n",
    "trislip = tricoup @ estimation.state_vector[0 : 3 * index.n_blocks]\n",
    "# Isolate components\n",
    "tristrike = trislip[0::3]\n",
    "tridip = trislip[1::3]\n",
    "tritens = trislip[2::3]\n",
    "# Identify segments closest to each element\n",
    "csi = np.unique(meshes[0].closest_segment_idx)"
   ]
  },
  {
   "cell_type": "markdown",
   "metadata": {},
   "source": [
    "#### Visualize projected slip rates"
   ]
  },
  {
   "cell_type": "code",
   "execution_count": null,
   "metadata": {},
   "outputs": [],
   "source": [
    "# plt.close('all')\n",
    "import matplotlib\n",
    "%matplotlib widget\n",
    "\n",
    "import pyproj\n",
    "GEOID = pyproj.Geod(ellps=\"WGS84\")\n",
    "segment_azimuth = np.zeros_like(segment.lon1)\n",
    "for i in range(len(segment.lon1)):\n",
    "    segment_azimuth[i], _, _ = GEOID.inv(segment.lon1[i], segment.lat1[i], segment.lon2[i], segment.lat2[i])\n",
    "rhrstrike = segment_azimuth + 180\n",
    "\n",
    "seg_flip = np.zeros_like(segment.lon1)\n",
    "seg_flip[segment.lat2 < segment.lat1] = -1000\n",
    "import matplotlib.colors as colors\n",
    "fig1, ax = plt.subplots(1, 3)\n",
    "i = 0\n",
    "fill_value0 = meshes[i].strike\n",
    "# fill_value0[fill_value0 > 180] -= 180\n",
    "# fill_value_range0 = [np.min(fill_value0), np.max(fill_value0)]\n",
    "fill_value_range0 = [100, 140]\n",
    "x_coords = meshes[i].meshio_object.points[:, 0]\n",
    "y_coords = meshes[i].meshio_object.points[:, 1]\n",
    "vertex_array = np.asarray(meshes[i].verts)\n",
    "xy = np.c_[x_coords, y_coords]\n",
    "verts = xy[vertex_array]\n",
    "pc0 = matplotlib.collections.PolyCollection(\n",
    "    verts, edgecolor=\"none\", cmap=\"rainbow\"\n",
    ")\n",
    "pc0.set_array(\n",
    "    fill_value0\n",
    ")\n",
    "pc0.set_clim(fill_value_range0)\n",
    "ax[0].add_collection(pc0)\n",
    "ax[0].scatter(segment.mid_lon[csi], segment.mid_lat[csi], vmin=fill_value_range0[0], vmax=fill_value_range0[1], c=segment.azimuth[csi], cmap=\"rainbow\")\n",
    "plt.colorbar(pc0, label=\"Strike\", ax=ax[0])\n",
    "# Add mesh edge\n",
    "x_edge = x_coords[meshes[i].ordered_edge_nodes[:, 0]]\n",
    "y_edge = y_coords[meshes[i].ordered_edge_nodes[:, 0]]\n",
    "x_edge = np.append(x_edge, x_coords[meshes[0].ordered_edge_nodes[0, 0]])\n",
    "y_edge = np.append(y_edge, y_coords[meshes[0].ordered_edge_nodes[0, 0]])\n",
    "ax[0].plot(x_edge, y_edge, color=\"black\", linewidth=1)\n",
    "ax[0].axis('equal')\n",
    "\n",
    "fill_value1 = tristrike\n",
    "fill_value_range1 = [np.min(fill_value1), np.max(fill_value1)]\n",
    "\n",
    "pc1 = matplotlib.collections.PolyCollection(\n",
    "    verts, edgecolor=\"none\", cmap=\"rainbow\"\n",
    ")\n",
    "pc1.set_array(\n",
    "    fill_value1\n",
    ")\n",
    "pc1.set_clim(fill_value_range1)\n",
    "ax[1].add_collection(pc1)\n",
    "ax[1].scatter(segment.mid_lon[csi], segment.mid_lat[csi], vmin=fill_value_range1[0], vmax=fill_value_range1[1], c=estimation.strike_slip_rates[csi], cmap=\"rainbow\")\n",
    "plt.colorbar(pc1, label=\"Strike-slip (mm/yr)\", ax=ax[1])\n",
    "# Add mesh edge\n",
    "ax[1].plot(x_edge, y_edge, color=\"black\", linewidth=1)\n",
    "ax[1].axis('equal')\n",
    "\n",
    "\n",
    "fill_value2 = tridip\n",
    "fill_value_range2 = [20, 45]\n",
    "pc2 = matplotlib.collections.PolyCollection(\n",
    "    verts, edgecolor=\"none\", cmap=\"rainbow\"\n",
    ")\n",
    "pc2.set_array(\n",
    "    fill_value2\n",
    ")\n",
    "\n",
    "ax[2].add_collection(pc2)\n",
    "pc2.set_clim(fill_value_range2)\n",
    "ax[2].scatter(segment.mid_lon[csi], segment.mid_lat[csi], vmin=fill_value_range2[0], vmax=fill_value_range2[1], c=-estimation.tensile_slip_rates[csi], cmap=\"rainbow\")\n",
    "plt.colorbar(pc2, label=\"Dip-slip (mm/yr)\", ax=ax[2])\n",
    "# Add mesh edge\n",
    "ax[2].plot(x_edge, y_edge, color=\"black\", linewidth=1)\n",
    "ax[2].axis('equal')\n",
    "\n",
    "fig1.tight_layout()\n",
    "# print(estimation.strike_slip_rates[csi])\n",
    "# print(estimation.tensile_slip_rates[csi])\n",
    "print(segment.azimuth[csi])\n"
   ]
  }
 ],
 "metadata": {
  "interpreter": {
   "hash": "b49ecae73d9755d1e6525bca8f2b993ba748c0e2e7c79677d2e15f06ac3538b9"
  },
  "kernelspec": {
   "display_name": "Python 3.9.6 64-bit ('celeri': conda)",
   "name": "python3"
  },
  "language_info": {
   "codemirror_mode": {
    "name": "ipython",
    "version": 3
   },
   "file_extension": ".py",
   "mimetype": "text/x-python",
   "name": "python",
   "nbconvert_exporter": "python",
   "pygments_lexer": "ipython3",
   "version": "3.10.12"
  },
  "widgets": {
   "application/vnd.jupyter.widget-state+json": {
    "state": {
     "4d250c5d35aa493295ca814fb3eaa1ee": {
      "model_module": "@jupyter-widgets/base",
      "model_module_version": "1.2.0",
      "model_name": "LayoutModel",
      "state": {}
     },
     "6faf75ca5f3b41388f284e98ec2cf803": {
      "model_module": "jupyter-matplotlib",
      "model_module_version": "^0.9.0",
      "model_name": "ToolbarModel",
      "state": {
       "layout": "IPY_MODEL_9b061db2dc65459ca586b9b9f73c2362",
       "toolitems": [
        [
         "Home",
         "Reset original view",
         "home",
         "home"
        ],
        [
         "Back",
         "Back to previous view",
         "arrow-left",
         "back"
        ],
        [
         "Forward",
         "Forward to next view",
         "arrow-right",
         "forward"
        ],
        [
         "Pan",
         "Left button pans, Right button zooms\nx/y fixes axis, CTRL fixes aspect",
         "arrows",
         "pan"
        ],
        [
         "Zoom",
         "Zoom to rectangle\nx/y fixes axis, CTRL fixes aspect",
         "square-o",
         "zoom"
        ],
        [
         "Download",
         "Download plot",
         "floppy-o",
         "save_figure"
        ]
       ]
      }
     },
     "9b061db2dc65459ca586b9b9f73c2362": {
      "model_module": "@jupyter-widgets/base",
      "model_module_version": "1.2.0",
      "model_name": "LayoutModel",
      "state": {}
     },
     "c25a38234e8f4e818670d9767f95a430": {
      "model_module": "jupyter-matplotlib",
      "model_module_version": "^0.9.0",
      "model_name": "MPLCanvasModel",
      "state": {
       "_cursor": "default",
       "_figure_label": "Figure 1",
       "_height": 708,
       "_width": 1746,
       "layout": "IPY_MODEL_4d250c5d35aa493295ca814fb3eaa1ee",
       "toolbar": "IPY_MODEL_6faf75ca5f3b41388f284e98ec2cf803",
       "toolbar_position": "left"
      }
     }
    },
    "version_major": 2,
    "version_minor": 0
   }
  }
 },
 "nbformat": 4,
 "nbformat_minor": 4
}
