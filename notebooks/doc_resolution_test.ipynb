{
 "cells": [
  {
   "cell_type": "code",
   "execution_count": null,
   "metadata": {},
   "outputs": [],
   "source": [
    "# %load_ext autoreload\n",
    "# %autoreload 2\n",
    "%config InlineBackend.figure_format = \"retina\""
   ]
  },
  {
   "cell_type": "code",
   "execution_count": null,
   "metadata": {
    "tags": []
   },
   "outputs": [],
   "source": [
    "import copy\n",
    "import sys\n",
    "from importlib import reload\n",
    "from typing import Dict, List, Tuple\n",
    "\n",
    "import addict\n",
    "import celeri\n",
    "import matplotlib.pyplot as plt\n",
    "import numpy as np\n",
    "import pandas as pd\n",
    "from matplotlib import collections\n",
    "from tqdm.notebook import tqdm\n",
    "\n",
    "plt.rcParams[\"text.usetex\"] = (\n",
    "    False  # Plotting the global model is much much faster with tex fonts turned off\n",
    ")"
   ]
  },
  {
   "cell_type": "markdown",
   "metadata": {},
   "source": [
    "# Read in data files, create storage dictionaries, and do basic processing"
   ]
  },
  {
   "cell_type": "code",
   "execution_count": null,
   "metadata": {},
   "outputs": [],
   "source": [
    "# Western North America example\n",
    "config_file_name = \"../data/config/western_north_america_config.json\"\n",
    "\n",
    "config = celeri.get_config(config_file_name)\n",
    "\n",
    "# Adjust mesh values\n",
    "config.mesh_params[0].smoothing_weight = 1e16\n",
    "config.mesh_params[0].top_slip_rate_constraint = 0\n",
    "config.mesh_params[0].bot_slip_rate_constraint = 0\n",
    "config.mesh_params[0].side_slip_rate_constraint = 0\n",
    "\n",
    "model = celeri.build_model(config)"
   ]
  },
  {
   "cell_type": "markdown",
   "metadata": {},
   "source": [
    "# Plot input data"
   ]
  },
  {
   "cell_type": "code",
   "execution_count": null,
   "metadata": {},
   "outputs": [],
   "source": [
    "celeri.plot_input_summary(model)"
   ]
  },
  {
   "cell_type": "markdown",
   "metadata": {},
   "source": [
    "# Sketching out the assembly of the block model system\n",
    "\n",
    "$$\n",
    "\\begin{bmatrix}\n",
    "    \\mathrm{geodetic \\; velocities} \\\\\n",
    "    \\mathrm{plate \\; rotation \\; constraints} \\\\\n",
    "    \\mathrm{slip \\; rate \\; constraints} \\\\\n",
    "    \\mathrm{TDE \\; smoothing \\; pseudodata = 0} \\\\\n",
    "    \\mathrm{TDE \\; rate \\; constraints} \\\\\n",
    "    \\mathrm{InSAR \\; LOS \\; changes} \n",
    "\\end{bmatrix}\n",
    "=\n",
    "\\begin{bmatrix}\n",
    "    \\mathrm{(rotations-elastic \\; segments) \\; to \\; velocities} & \\mathrm{TDEs \\; to \\; velocities} & \\mathrm{block \\; strain \\; rate \\; to \\; velocities} & \\mathrm{Mogi \\; to \\; velocities}\\\\\n",
    "    \\mathrm{identities}                                          & 0                                   & 0 \\\\\n",
    "    \\mathrm{plate \\; rotations \\; to \\; slip \\; rates}           & 0                                   & 0 \\\\\n",
    "    0                                                            & \\mathrm{TDE \\; smoothing \\; matrix} & 0 \\\\\n",
    "    0                                                            & \\mathrm{identities}                 & 0 \\\\\n",
    "    \\mathrm{(rotations-elastic \\; segments) \\; to \\; LOS}        & \\mathrm{TDEs \\; to \\; LOS}          & \\mathrm{block \\; strain \\; rate \\; to \\; velocities}\n",
    "\\end{bmatrix}\n",
    "\\begin{bmatrix}\n",
    "    \\mathrm{plate \\; rotation \\; rates} \\\\\n",
    "    \\mathrm{TDE \\; slip \\; rates} \\\\\n",
    "    \\mathrm{block \\; strain \\; rates} \\\\\n",
    "    \\mathrm{Mogi \\; rates}\n",
    "\\end{bmatrix}\n",
    "$$"
   ]
  },
  {
   "cell_type": "markdown",
   "metadata": {},
   "source": [
    "# Estimate block model parameters (dense)"
   ]
  },
  {
   "cell_type": "code",
   "execution_count": null,
   "metadata": {},
   "outputs": [],
   "source": [
    "operators, estimation = celeri.assemble_and_solve_dense(model, tde=True, eigen=False)"
   ]
  },
  {
   "cell_type": "markdown",
   "metadata": {},
   "source": [
    "# Plot model summary"
   ]
  },
  {
   "cell_type": "code",
   "execution_count": null,
   "metadata": {},
   "outputs": [],
   "source": [
    "celeri.plot_estimation_summary(model, estimation)"
   ]
  },
  {
   "cell_type": "markdown",
   "metadata": {},
   "source": [
    "# Start of synthetic slip distribution test"
   ]
  },
  {
   "cell_type": "code",
   "execution_count": null,
   "metadata": {},
   "outputs": [],
   "source": [
    "def plot_mesh(mesh, slip_values, ax):\n",
    "    \"\"\"\n",
    "    Plots a colored mesh where the x and y values correspond to longitude and depth respectively and\n",
    "    and the color represents the slip value.\n",
    "\n",
    "    Inputs:\n",
    "        mesh: a mesh object\n",
    "        slip_values: [float] an array specifying the `slip` value of each triangle\n",
    "        ax: a matplotlib axis object\n",
    "\n",
    "    Return:\n",
    "        a PolyCollection object\n",
    "    \"\"\"\n",
    "    # x_coords = mesh.meshio_object.points[:, 0]  # lon\n",
    "    # y_coords = mesh.meshio_object.points[:, 1]  # lat\n",
    "    x_coords = mesh.points[:, 0]\n",
    "    y_coords = mesh.points[:, 1]\n",
    "    vertex_array = np.asarray(mesh.verts)\n",
    "\n",
    "    xy = np.c_[x_coords, y_coords]\n",
    "    verts = xy[vertex_array]\n",
    "\n",
    "    pc = collections.PolyCollection(\n",
    "        verts,\n",
    "        edgecolor=\"k\",\n",
    "        cmap=\"turbo\",\n",
    "        linewidth=0.1,\n",
    "        alpha=1.0,\n",
    "    )\n",
    "    pc.set_array(slip_values)\n",
    "    pc.set_clim([-30, 30])\n",
    "\n",
    "    if not ax:\n",
    "        ax = plt.gca()\n",
    "    ax.add_collection(pc)\n",
    "    ax.autoscale()\n",
    "    return pc"
   ]
  },
  {
   "cell_type": "code",
   "execution_count": null,
   "metadata": {},
   "outputs": [],
   "source": [
    "pc = plot_mesh(model.meshes[0], estimation.tde_dip_slip_rates, plt.gca())\n",
    "plt.colorbar(pc)\n",
    "plt.gca().set_facecolor(\"gainsboro\")\n",
    "plt.gca().set_aspect(\"equal\")"
   ]
  },
  {
   "cell_type": "code",
   "execution_count": null,
   "metadata": {},
   "outputs": [],
   "source": [
    "def set_slip_values(mesh, slip_values, rect, fill_value):\n",
    "    \"\"\"\n",
    "    Modifies the slip value of the mesh in a given rectangular section.\n",
    "\n",
    "    Inputs:\n",
    "        mesh: a mesh object\n",
    "        slip_values: [float] an array specifying the `slip` value of each triangle\n",
    "        rect: [[x0, y0], [x1, y1]] an array or tuple containing the lower and upper bounds (e.g. [28, 30])\n",
    "        fill_value: float the value that will be used to override the mask's range\n",
    "\n",
    "    Return:\n",
    "        a slip array\n",
    "\n",
    "    \"\"\"\n",
    "    [[lon0, depth0], [lon1, depth1]] = rect\n",
    "\n",
    "    if depth0 > depth1:\n",
    "        depth0, depth1 = depth1, depth0\n",
    "\n",
    "    x_coords = mesh.points[:, 0]  # lon\n",
    "    y_coords = mesh.points[:, 2]  # depth\n",
    "    vertex_array = np.asarray(mesh.verts)\n",
    "    xy = np.c_[x_coords, y_coords]\n",
    "    verts = xy[vertex_array]\n",
    "    n_triangles = len(vertex_array)\n",
    "\n",
    "    for i in range(n_triangles):\n",
    "        lon_centroid = mesh.centroids[i, 0]\n",
    "        depth_centroid = mesh.centroids[i, 1]\n",
    "\n",
    "        if lon0 <= lon_centroid < lon1 and depth0 <= depth_centroid < depth1:\n",
    "            slip_values[i] = fill_value\n",
    "\n",
    "    return slip_values\n",
    "\n",
    "\n",
    "def checkerboard_slip_values(\n",
    "    rng,\n",
    "    mesh,\n",
    "    lon_start,\n",
    "    lon_end,\n",
    "    lon_step,\n",
    "    depth_start,\n",
    "    depth_end,\n",
    "    depth_step,\n",
    "    slip_value_1,\n",
    "    slip_value_2,\n",
    "):\n",
    "    \"\"\"\n",
    "    Creates a checkerboard pattern of the mesh for a given step in longitude and depth, and for a couple of slip values.\n",
    "\n",
    "    Inputs:\n",
    "        mesh: a mesh object\n",
    "        lon_start: min longitude of the mesh\n",
    "        lon_end: max longitude of the mesh\n",
    "        lon_step: space covered by a rectangle along the lon axis -> (km/111)\n",
    "        depth_start: min depth of the mesh\n",
    "        depth_end: max depth of the mesh\n",
    "        depth_step: space (in km) covered by a rectangle along the depth axis\n",
    "        slip_value_1: [float] an array specifying the `slip` value of each triangle in a certain rectangle\n",
    "        slip_value_1: [float] an array specifying the `slip` value of each triangle in the following rectangle\n",
    "\n",
    "    Return:\n",
    "        a slip array\n",
    "\n",
    "    \"\"\"\n",
    "    n_triangles = len(mesh.verts)\n",
    "    slip_values = rng.uniform(low=0, high=24, size=n_triangles)\n",
    "    row = 0\n",
    "    depth = depth_start\n",
    "\n",
    "    while depth_start <= depth <= depth_end:\n",
    "        col = 0\n",
    "        lon = lon_start\n",
    "\n",
    "        while lon_start <= lon <= lon_end:\n",
    "            # select colors based on parity\n",
    "            # slip_value = slip_value_1 if (row + col) % 2 == 0 else slip_value_2\n",
    "            if (row + col) % 2 == 0:\n",
    "                slip_value = slip_value_1\n",
    "            else:\n",
    "                slip_value = slip_value_2\n",
    "\n",
    "            # set `slip_value` on current rectangle\n",
    "            slip_values = set_slip_values(\n",
    "                mesh,\n",
    "                slip_values,\n",
    "                [[lon, depth], [lon + lon_step, depth + depth_step]],\n",
    "                slip_value,\n",
    "            )\n",
    "\n",
    "            # increment longitude iterators\n",
    "            col += 1\n",
    "            lon += lon_step\n",
    "\n",
    "        # increment depth iterators\n",
    "        row += 1\n",
    "        depth += depth_step\n",
    "    return slip_values\n",
    "\n",
    "\n",
    "# Provide a seed for the random number generator\n",
    "rng = np.random.default_rng(42)\n",
    "\n",
    "slip_values = checkerboard_slip_values(\n",
    "    rng,\n",
    "    model.meshes[0],\n",
    "    lon_start=model.meshes[0].x_perimeter.min(),\n",
    "    lon_end=model.meshes[0].x_perimeter.max(),\n",
    "    lon_step=2,\n",
    "    depth_start=model.meshes[0].y_perimeter.min(),\n",
    "    depth_end=model.meshes[0].y_perimeter.max(),\n",
    "    depth_step=2,\n",
    "    slip_value_1=30,\n",
    "    slip_value_2=0,\n",
    ")\n",
    "\n",
    "pc = plot_mesh(model.meshes[0], slip_values, plt.gca())\n",
    "plt.colorbar(pc)\n",
    "plt.gca().set_facecolor(\"gainsboro\")\n",
    "plt.gca().set_aspect(\"equal\")"
   ]
  },
  {
   "cell_type": "markdown",
   "metadata": {},
   "source": [
    "# Generate synthetic interseismic slip distribution on Cascadia"
   ]
  },
  {
   "cell_type": "code",
   "execution_count": null,
   "metadata": {},
   "outputs": [],
   "source": [
    "# Replace inferred Cascadia rates with synthetic slip\n",
    "synthetic_state_vector = np.copy(estimation.state_vector)\n",
    "synthetic_data_vector = np.copy(estimation.data_vector)\n",
    "# synthetic_state_vector[\n",
    "#     3 * index.n_blocks + 1 : 3 * index.n_blocks + 2 * index.n_tde_total : 2\n",
    "# ] = 0\n",
    "# synthetic_state_vector[\n",
    "#     3 * index.n_blocks : 3 * index.n_blocks + 2 * index.n_tde_total : 2\n",
    "# ] = slip_values\n",
    "\n",
    "synthetic_state_vector[\n",
    "    3 * operators.index.n_blocks : 3 * operators.index.n_blocks\n",
    "    + 2 * operators.index.n_tde_total : 2\n",
    "] = 0\n",
    "synthetic_state_vector[\n",
    "    3 * operators.index.n_blocks + 1 : 3 * operators.index.n_blocks\n",
    "    + 2 * operators.index.n_tde_total : 2\n",
    "] = slip_values\n",
    "\n",
    "# Forward velocities\n",
    "synthetic_predictions = estimation.operator @ synthetic_state_vector\n",
    "synthetic_data_vector[0 : 2 * operators.index.n_stations : 2] = synthetic_predictions[\n",
    "    0 : 2 * operators.index.n_stations : 2\n",
    "]"
   ]
  },
  {
   "cell_type": "markdown",
   "metadata": {},
   "source": [
    "# Unbounded (classic) block model solve with synthetic slip deficit distribution"
   ]
  },
  {
   "cell_type": "code",
   "execution_count": null,
   "metadata": {},
   "outputs": [],
   "source": [
    "estimated_synthetic_state_vector_unconstrained = (\n",
    "    (estimation.state_covariance_matrix @ estimation.operator.T)\n",
    "    * estimation.weighting_vector\n",
    "    @ synthetic_data_vector\n",
    ")\n",
    "\n",
    "tde_rates_unconstrained = estimated_synthetic_state_vector_unconstrained[\n",
    "    3 * operators.index.n_blocks : 3 * operators.index.n_blocks\n",
    "    + 2 * operators.index.n_tde_total\n",
    "]\n",
    "tde_ss_rates_unconstrained = tde_rates_unconstrained[0::2]\n",
    "tde_ds_rates_unconstrained = tde_rates_unconstrained[1::2]\n",
    "\n",
    "pc = plot_mesh(model.meshes[0], tde_ds_rates_unconstrained, plt.gca())\n",
    "plt.colorbar(pc)\n",
    "plt.gca().set_facecolor(\"gainsboro\")\n",
    "plt.gca().set_aspect(\"equal\")"
   ]
  },
  {
   "cell_type": "markdown",
   "metadata": {},
   "source": [
    "# Bounded (`lsq_linear`) block model solve with synthetic slip deficit distribution"
   ]
  },
  {
   "cell_type": "code",
   "execution_count": null,
   "metadata": {},
   "outputs": [],
   "source": [
    "index = operators.index\n",
    "\n",
    "lower_bound = np.zeros_like(estimation.state_vector)\n",
    "upper_bound = np.zeros_like(estimation.state_vector)\n",
    "lower_bound[:] = -np.inf\n",
    "upper_bound[:] = np.inf\n",
    "\n",
    "# Strike-slip\n",
    "lower_bound[index.tde.start_tde_col[0] : index.tde.end_tde_col[0] : 2] = -5\n",
    "upper_bound[index.tde.start_tde_col[0] : index.tde.end_tde_col[0] : 2] = 5\n",
    "\n",
    "# Dip-slip\n",
    "lower_bound[index.tde.start_tde_col[0] + 1 : index.tde.end_tde_col[0] : 2] = 0\n",
    "upper_bound[index.tde.start_tde_col[0] + 1 : index.tde.end_tde_col[0] : 2] = 30"
   ]
  },
  {
   "cell_type": "markdown",
   "metadata": {},
   "source": [
    "# Experiment: constrainted least squares\n",
    "- The idea is to constrain TDE slip rates in some region"
   ]
  },
  {
   "cell_type": "code",
   "execution_count": null,
   "metadata": {},
   "outputs": [],
   "source": [
    "lower_bound = np.zeros_like(estimation.state_vector)\n",
    "upper_bound = np.zeros_like(estimation.state_vector)\n",
    "lower_bound[:] = -np.inf\n",
    "upper_bound[:] = np.inf\n",
    "\n",
    "# Strike-slip\n",
    "lower_bound[index.tde.start_tde_col[0] : index.tde.end_tde_col[0] : 2] = -5\n",
    "upper_bound[index.tde.start_tde_col[0] : index.tde.end_tde_col[0] : 2] = 5\n",
    "\n",
    "# Dip-slip\n",
    "lower_bound[index.tde.start_tde_col[0] + 1 : index.tde.end_tde_col[0] : 2] = 0\n",
    "upper_bound[index.tde.start_tde_col[0] + 1 : index.tde.end_tde_col[0] : 2] = 30\n",
    "\n",
    "from scipy.optimize import lsq_linear\n",
    "\n",
    "# Non-linear solver (bounded)\n",
    "res = lsq_linear(\n",
    "    estimation.operator * np.sqrt(estimation.weighting_vector[:, None]),\n",
    "    synthetic_data_vector * np.sqrt(estimation.weighting_vector),\n",
    "    bounds=(lower_bound, upper_bound),\n",
    "    verbose=1,\n",
    ")"
   ]
  },
  {
   "cell_type": "code",
   "execution_count": null,
   "metadata": {},
   "outputs": [],
   "source": [
    "tde_rates_constrained = res.x[\n",
    "    3 * index.n_blocks : 3 * index.n_blocks + 2 * index.n_tde_total\n",
    "]\n",
    "tde_ss_rates_constrained = tde_rates_constrained[0::2]\n",
    "tde_ds_rates_constrained = tde_rates_constrained[1::2]\n",
    "\n",
    "pc = plot_mesh(model.meshes[0], tde_ds_rates_constrained, plt.gca())\n",
    "plt.colorbar(pc)\n",
    "plt.gca().set_facecolor(\"gainsboro\")\n",
    "plt.gca().set_aspect(\"equal\")"
   ]
  },
  {
   "cell_type": "code",
   "execution_count": null,
   "metadata": {},
   "outputs": [],
   "source": [
    "plt.figure(figsize=(12, 12))\n",
    "\n",
    "plt.subplot(2, 3, 1)\n",
    "plt.title(\"input strike-slip\")\n",
    "pc = plot_mesh(model.meshes[0], np.zeros_like(tde_ss_rates_unconstrained), plt.gca())\n",
    "plt.colorbar(pc)\n",
    "plt.gca().set_facecolor(\"gainsboro\")\n",
    "plt.gca().set_aspect(\"equal\")\n",
    "\n",
    "plt.subplot(2, 3, 2)\n",
    "misfit = (\n",
    "    np.sum(np.abs(tde_ss_rates_unconstrained - np.zeros_like(slip_values)))\n",
    "    / model.meshes[0].n_tde\n",
    ")\n",
    "plt.title(f\"constrained strike-slip \\n (error: {misfit:.1f} mm/yr)\")\n",
    "pc = plot_mesh(model.meshes[0], tde_ss_rates_unconstrained, plt.gca())\n",
    "plt.colorbar(pc)\n",
    "plt.gca().set_facecolor(\"gainsboro\")\n",
    "plt.gca().set_aspect(\"equal\")\n",
    "\n",
    "plt.subplot(2, 3, 3)\n",
    "misfit = (\n",
    "    np.sum(np.abs(tde_ss_rates_constrained - np.zeros_like(slip_values)))\n",
    "    / model.meshes[0].n_tde\n",
    ")\n",
    "plt.title(f\"constrained strike-slip \\n (error: {misfit:.1f} mm/yr)\")\n",
    "pc = plot_mesh(model.meshes[0], tde_ss_rates_constrained, plt.gca())\n",
    "plt.colorbar(pc)\n",
    "plt.gca().set_facecolor(\"gainsboro\")\n",
    "plt.gca().set_aspect(\"equal\")\n",
    "\n",
    "\n",
    "plt.subplot(2, 3, 4)\n",
    "plt.title(\"input dip-slip\")\n",
    "pc = plot_mesh(model.meshes[0], slip_values, plt.gca())\n",
    "plt.colorbar(pc)\n",
    "plt.gca().set_facecolor(\"gainsboro\")\n",
    "plt.gca().set_aspect(\"equal\")\n",
    "\n",
    "plt.subplot(2, 3, 5)\n",
    "misfit = (\n",
    "    np.sum(np.abs(tde_ds_rates_unconstrained - slip_values)) / model.meshes[0].n_tde\n",
    ")\n",
    "plt.title(f\"unconstrained dip-slip \\n (error: {misfit:.1f} mm/yr)\")\n",
    "pc = plot_mesh(model.meshes[0], tde_ds_rates_unconstrained, plt.gca())\n",
    "plt.colorbar(pc)\n",
    "plt.gca().set_facecolor(\"gainsboro\")\n",
    "plt.gca().set_aspect(\"equal\")\n",
    "\n",
    "plt.subplot(2, 3, 6)\n",
    "misfit = np.sum(np.abs(tde_ds_rates_constrained - slip_values)) / model.meshes[0].n_tde\n",
    "plt.title(f\"constrained dip-slip \\n (error: {misfit:.1f} mm/yr)\")\n",
    "pc = plot_mesh(model.meshes[0], tde_ds_rates_constrained, plt.gca())\n",
    "plt.colorbar(pc)\n",
    "plt.gca().set_facecolor(\"gainsboro\")\n",
    "plt.gca().set_aspect(\"equal\")\n",
    "\n",
    "# plt.savefig(\"cascadia_resolution.pdf\")\n",
    "plt.show()"
   ]
  }
 ],
 "metadata": {
  "kernelspec": {
   "display_name": "Python (Pixi)",
   "language": "python",
   "name": "pixi-kernel-python3"
  },
  "language_info": {
   "codemirror_mode": {
    "name": "ipython",
    "version": 3
   },
   "file_extension": ".py",
   "mimetype": "text/x-python",
   "name": "python",
   "nbconvert_exporter": "python",
   "pygments_lexer": "ipython3",
   "version": "3.12.10"
  },
  "widgets": {
   "application/vnd.jupyter.widget-state+json": {
    "state": {
     "4d250c5d35aa493295ca814fb3eaa1ee": {
      "model_module": "@jupyter-widgets/base",
      "model_module_version": "1.2.0",
      "model_name": "LayoutModel",
      "state": {}
     },
     "6faf75ca5f3b41388f284e98ec2cf803": {
      "model_module": "jupyter-matplotlib",
      "model_module_version": "^0.9.0",
      "model_name": "ToolbarModel",
      "state": {
       "layout": "IPY_MODEL_9b061db2dc65459ca586b9b9f73c2362",
       "toolitems": [
        [
         "Home",
         "Reset original view",
         "home",
         "home"
        ],
        [
         "Back",
         "Back to previous view",
         "arrow-left",
         "back"
        ],
        [
         "Forward",
         "Forward to next view",
         "arrow-right",
         "forward"
        ],
        [
         "Pan",
         "Left button pans, Right button zooms\nx/y fixes axis, CTRL fixes aspect",
         "arrows",
         "pan"
        ],
        [
         "Zoom",
         "Zoom to rectangle\nx/y fixes axis, CTRL fixes aspect",
         "square-o",
         "zoom"
        ],
        [
         "Download",
         "Download plot",
         "floppy-o",
         "save_figure"
        ]
       ]
      }
     },
     "9b061db2dc65459ca586b9b9f73c2362": {
      "model_module": "@jupyter-widgets/base",
      "model_module_version": "1.2.0",
      "model_name": "LayoutModel",
      "state": {}
     },
     "c25a38234e8f4e818670d9767f95a430": {
      "model_module": "jupyter-matplotlib",
      "model_module_version": "^0.9.0",
      "model_name": "MPLCanvasModel",
      "state": {
       "_cursor": "default",
       "_figure_label": "Figure 1",
       "_height": 708,
       "_width": 1746,
       "layout": "IPY_MODEL_4d250c5d35aa493295ca814fb3eaa1ee",
       "toolbar": "IPY_MODEL_6faf75ca5f3b41388f284e98ec2cf803",
       "toolbar_position": "left"
      }
     }
    },
    "version_major": 2,
    "version_minor": 0
   }
  }
 },
 "nbformat": 4,
 "nbformat_minor": 4
}
