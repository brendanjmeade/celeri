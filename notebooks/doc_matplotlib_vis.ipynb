{
 "cells": [
  {
   "cell_type": "code",
   "execution_count": null,
   "metadata": {},
   "outputs": [],
   "source": [
    "%load_ext autoreload\n",
    "%autoreload 2\n",
    "%config InlineBackend.figure_format = \"retina\"\n",
    "%matplotlib widget"
   ]
  },
  {
   "cell_type": "code",
   "execution_count": null,
   "metadata": {
    "tags": []
   },
   "outputs": [],
   "source": [
    "import addict\n",
    "import colorcet as cc\n",
    "import scipy.io as sio\n",
    "import numpy as np\n",
    "import pandas as pd\n",
    "import matplotlib.pyplot as plt\n",
    "import matplotlib\n",
    "import matplotlib.patches as mpatches\n",
    "import matplotlib.lines as mlines\n",
    "import matplotlib.cm as cm\n",
    "from matplotlib import collections\n",
    "from matplotlib.colors import Normalize\n",
    "from importlib import reload\n",
    "from typing import List, Dict, Tuple\n",
    "import celeri\n",
    "\n",
    "plt.rcParams[\"text.usetex\"] = False"
   ]
  },
  {
   "cell_type": "markdown",
   "metadata": {},
   "source": [
    "# Read input, create data structures, close blocks\n"
   ]
  },
  {
   "cell_type": "code",
   "execution_count": null,
   "metadata": {
    "tags": []
   },
   "outputs": [],
   "source": [
    "COMMAND_FILE_NAME = \"../data/config/anatolia_config.json\"\n",
    "\n",
    "model = celeri.build_model(COMMAND_FILE_NAME)"
   ]
  },
  {
   "cell_type": "code",
   "execution_count": null,
   "metadata": {},
   "outputs": [],
   "source": [
    "celeri.plot_input_summary(model)"
   ]
  },
  {
   "cell_type": "markdown",
   "metadata": {},
   "source": [
    "# Estimate block model parameters (dense)\n"
   ]
  },
  {
   "cell_type": "code",
   "execution_count": null,
   "metadata": {},
   "outputs": [],
   "source": [
    "operators, estimation = celeri.assemble_and_solve_dense(model, tde=True, eigen=False)"
   ]
  },
  {
   "cell_type": "markdown",
   "metadata": {},
   "source": [
    "# Plot model summary\n"
   ]
  },
  {
   "cell_type": "code",
   "execution_count": null,
   "metadata": {},
   "outputs": [],
   "source": [
    "celeri.plot_estimation_summary(model, estimation)"
   ]
  },
  {
   "cell_type": "markdown",
   "metadata": {},
   "source": [
    "# Standard plots\n",
    "\n",
    "- Note that there are very few magic numbers here. The reason for this is that these values apply to almost all of the plots that follow so that by defining them up at the top we can make a single change and all figures are updated.\n"
   ]
  },
  {
   "cell_type": "code",
   "execution_count": null,
   "metadata": {},
   "outputs": [],
   "source": [
    "WORLD_BOUNDARIES = sio.loadmat(\"WorldHiVectors.mat\")\n",
    "FIGSIZE_VECTORS = (15, 8)\n",
    "FONTSIZE = 16\n",
    "LON_RANGE = (25, 42)\n",
    "LAT_RANGE = (34, 43)\n",
    "LON_TICKS = [25, 27, 29, 31, 33, 35, 37, 39, 41]\n",
    "LAT_TICKS = [34, 36, 38, 40, 42]\n",
    "SLIP_RATE_MIN = -25.0\n",
    "SLIP_RATE_MAX = 25.0\n",
    "LAND_COLOR = \"lightgray\"\n",
    "LAND_LINEWIDTH = 0.5\n",
    "LAND_ZORDER = 0\n",
    "KEY_RECTANGLE_ANCHOR = [39, 34]\n",
    "KEY_RECTANGLE_WIDTH = 3.0\n",
    "KEY_RECTANGLE_HEIGHT = 1.55\n",
    "KEY_ARROW_LON = 40.5\n",
    "KEY_ARROW_LAT = 34.5\n",
    "KEY_ARROW_MAGNITUDE = 25.0\n",
    "KEY_ARROW_TEXT = \"25 mm/yr\"\n",
    "KEY_ARROW_COLOR = \"k\"\n",
    "KEY_BACKGROUND_COLOR = \"white\"\n",
    "KEY_LINEWIDTH = 1.0\n",
    "KEY_EDGECOLOR = \"k\"\n",
    "ARROW_MAGNITUDE_MIN = 0.0\n",
    "ARROW_MAGNITUDE_MAX = 25.0\n",
    "ARROW_COLORMAP = cm.plasma\n",
    "ARROW_SCALE = 100\n",
    "ARROW_WIDTH = 0.0025\n",
    "ARROW_LINEWIDTH = 0.5\n",
    "ARROW_EDGECOLOR = \"k\"\n",
    "SEGMENT_LINE_WIDTH_OUTER = 2.0\n",
    "SEGMENT_LINE_WIDTH_INNER = 1.0\n",
    "SEGMENT_LINE_COLOR_OUTER = \"k\"\n",
    "SEGMENT_LINE_COLOR_INNER = \"w\""
   ]
  },
  {
   "cell_type": "code",
   "execution_count": null,
   "metadata": {},
   "outputs": [],
   "source": [
    "def common_plot_elements(segment: pd.DataFrame, lon_range: Tuple, lat_range: Tuple):\n",
    "    \"\"\"Elements common to all subplots\n",
    "    Args:\n",
    "        segment (pd.DataFrame): Fault segments\n",
    "        lon_range (Tuple): Longitude range (min, max)\n",
    "        lat_range (Tuple): Latitude range (min, max)\n",
    "    \"\"\"\n",
    "    for i in range(len(segment)):\n",
    "        plt.plot(\n",
    "            [segment.lon1[i], segment.lon2[i]],\n",
    "            [segment.lat1[i], segment.lat2[i]],\n",
    "            \"-k\",\n",
    "            linewidth=SEGMENT_LINE_WIDTH_OUTER,\n",
    "        )\n",
    "    for i in range(len(segment)):\n",
    "        plt.plot(\n",
    "            [segment.lon1[i], segment.lon2[i]],\n",
    "            [segment.lat1[i], segment.lat2[i]],\n",
    "            \"-w\",\n",
    "            linewidth=SEGMENT_LINE_WIDTH_INNER,\n",
    "        )\n",
    "\n",
    "    plt.xlim([lon_range[0], lon_range[1]])\n",
    "    plt.ylim([lat_range[0], lat_range[1]])\n",
    "    plt.xticks(LON_TICKS)\n",
    "    plt.yticks(LAT_TICKS)\n",
    "    plt.gca().set_aspect(\"equal\", adjustable=\"box\")\n",
    "    plt.xlabel(\"longitude (degrees)\", fontsize=FONTSIZE)\n",
    "    plt.ylabel(\"latitude (degrees)\", fontsize=FONTSIZE)\n",
    "    plt.tick_params(labelsize=FONTSIZE)\n",
    "\n",
    "\n",
    "def plot_vel_arrows_elements(station, east_velocity, north_velocity, arrow_scale):\n",
    "    # Draw velocity vectors\n",
    "    velocity_magnitude = np.sqrt(east_velocity**2.0 + north_velocity**2.0)\n",
    "    norm = Normalize()\n",
    "    norm.autoscale(velocity_magnitude)\n",
    "    norm.vmin = ARROW_MAGNITUDE_MIN\n",
    "    norm.vmax = ARROW_MAGNITUDE_MAX\n",
    "    colormap = ARROW_COLORMAP\n",
    "    quiver_handle = plt.quiver(\n",
    "        station.lon,\n",
    "        station.lat,\n",
    "        east_velocity,\n",
    "        north_velocity,\n",
    "        scale=ARROW_SCALE * arrow_scale,\n",
    "        width=ARROW_WIDTH,\n",
    "        scale_units=\"inches\",\n",
    "        color=colormap(norm(velocity_magnitude)),\n",
    "        linewidth=ARROW_LINEWIDTH,\n",
    "        edgecolor=ARROW_EDGECOLOR,\n",
    "    )\n",
    "\n",
    "    # Draw land\n",
    "    plt.fill(\n",
    "        WORLD_BOUNDARIES[\"lon\"],\n",
    "        WORLD_BOUNDARIES[\"lat\"],\n",
    "        color=LAND_COLOR,\n",
    "        linewidth=LAND_LINEWIDTH,\n",
    "        zorder=LAND_ZORDER,\n",
    "    )\n",
    "\n",
    "    # Draw white background rectangle\n",
    "    rect = mpatches.Rectangle(\n",
    "        KEY_RECTANGLE_ANCHOR,\n",
    "        KEY_RECTANGLE_WIDTH,\n",
    "        KEY_RECTANGLE_HEIGHT,\n",
    "        fill=True,\n",
    "        color=KEY_BACKGROUND_COLOR,\n",
    "        linewidth=KEY_LINEWIDTH,\n",
    "        ec=KEY_EDGECOLOR,\n",
    "    )\n",
    "    plt.gca().add_patch(rect)\n",
    "\n",
    "    # # Draw arrow legend\n",
    "    plt.quiverkey(\n",
    "        quiver_handle,\n",
    "        KEY_ARROW_LON,\n",
    "        KEY_ARROW_LAT,\n",
    "        KEY_ARROW_MAGNITUDE,\n",
    "        KEY_ARROW_TEXT,\n",
    "        coordinates=\"data\",\n",
    "        color=KEY_ARROW_COLOR,\n",
    "        fontproperties={\"size\": FONTSIZE},\n",
    "    )\n",
    "\n",
    "    plt.gca().set_aspect(\"equal\")\n",
    "    plt.show()"
   ]
  },
  {
   "cell_type": "code",
   "execution_count": null,
   "metadata": {},
   "outputs": [],
   "source": [
    "# Observed velocities\n",
    "plt.figure(figsize=FIGSIZE_VECTORS)\n",
    "plt.title(\"observed velocities\", fontsize=FONTSIZE)\n",
    "common_plot_elements(model.segment, LON_RANGE, LAT_RANGE)\n",
    "plot_vel_arrows_elements(\n",
    "    model.station,\n",
    "    model.station.east_vel,\n",
    "    model.station.north_vel,\n",
    "    arrow_scale=1.0,\n",
    ")"
   ]
  },
  {
   "cell_type": "code",
   "execution_count": null,
   "metadata": {},
   "outputs": [],
   "source": [
    "# Model velocities\n",
    "plt.figure(figsize=FIGSIZE_VECTORS)\n",
    "plt.title(\"model velocities\", fontsize=FONTSIZE)\n",
    "common_plot_elements(model.segment, LON_RANGE, LAT_RANGE)\n",
    "plot_vel_arrows_elements(\n",
    "    model.station,\n",
    "    estimation.east_vel,\n",
    "    estimation.north_vel,\n",
    "    arrow_scale=1.0,\n",
    ")"
   ]
  },
  {
   "cell_type": "code",
   "execution_count": null,
   "metadata": {},
   "outputs": [],
   "source": [
    "# Residual velocities\n",
    "plt.figure(figsize=FIGSIZE_VECTORS)\n",
    "plt.title(\"residual velocities\", fontsize=FONTSIZE)\n",
    "common_plot_elements(model.segment, LON_RANGE, LAT_RANGE)\n",
    "plot_vel_arrows_elements(\n",
    "    model.station,\n",
    "    estimation.east_vel_residual,\n",
    "    estimation.north_vel_residual,\n",
    "    arrow_scale=0.25,\n",
    ")"
   ]
  },
  {
   "cell_type": "code",
   "execution_count": null,
   "metadata": {},
   "outputs": [],
   "source": [
    "# Rotation velocities\n",
    "plt.figure(figsize=FIGSIZE_VECTORS)\n",
    "plt.title(\"rotation velocities\", fontsize=FONTSIZE)\n",
    "common_plot_elements(model.segment, LON_RANGE, LAT_RANGE)\n",
    "plot_vel_arrows_elements(\n",
    "    model.station,\n",
    "    estimation.east_vel_rotation,\n",
    "    estimation.north_vel_rotation,\n",
    "    arrow_scale=1.0,\n",
    ")"
   ]
  },
  {
   "cell_type": "code",
   "execution_count": null,
   "metadata": {},
   "outputs": [],
   "source": [
    "# Elastic segment velocities\n",
    "plt.figure(figsize=FIGSIZE_VECTORS)\n",
    "plt.title(\"elastic segment velocities\", fontsize=FONTSIZE)\n",
    "common_plot_elements(model.segment, LON_RANGE, LAT_RANGE)\n",
    "plot_vel_arrows_elements(\n",
    "    model.station,\n",
    "    estimation.east_vel_elastic_segment,\n",
    "    estimation.north_vel_elastic_segment,\n",
    "    arrow_scale=0.25,\n",
    ")"
   ]
  },
  {
   "cell_type": "code",
   "execution_count": null,
   "metadata": {},
   "outputs": [],
   "source": [
    "# Elastic tde velocities\n",
    "plt.figure(figsize=FIGSIZE_VECTORS)\n",
    "plt.title(\"elastic mesh velocities\", fontsize=FONTSIZE)\n",
    "common_plot_elements(model.segment, LON_RANGE, LAT_RANGE)\n",
    "plot_vel_arrows_elements(\n",
    "    model.station,\n",
    "    estimation.east_vel_tde,\n",
    "    estimation.north_vel_tde,\n",
    "    arrow_scale=0.25,\n",
    ")"
   ]
  },
  {
   "cell_type": "code",
   "execution_count": null,
   "metadata": {},
   "outputs": [],
   "source": [
    "# Residual velocities\n",
    "residual_velocity_vector = np.concatenate(\n",
    "    (estimation.east_vel_residual.values, estimation.north_vel_residual.values)\n",
    ")\n",
    "mean_average_error = np.mean(np.abs(residual_velocity_vector))\n",
    "\n",
    "N_BINS = 100\n",
    "BIN_EDGE_MIN = -15\n",
    "BIN_EDGE_MAX = 15\n",
    "BINS = np.linspace(BIN_EDGE_MIN, BIN_EDGE_MAX, N_BINS)\n",
    "\n",
    "# Create histogram of residual velocities\n",
    "plt.figure(figsize=(8, 4))\n",
    "plt.hist(\n",
    "    residual_velocity_vector,\n",
    "    BINS,\n",
    "    histtype=\"stepfilled\",\n",
    "    color=\"lightblue\",\n",
    "    edgecolor=\"k\",\n",
    ")\n",
    "plt.xlim([BIN_EDGE_MIN, BIN_EDGE_MAX])\n",
    "plt.xlabel(\"residual velocity (mm/yr)\", fontsize=FONTSIZE)\n",
    "plt.ylabel(\"N\", fontsize=FONTSIZE)\n",
    "plt.title(f\"MAE = {mean_average_error:.2f} (mm/yr)\", fontsize=FONTSIZE)\n",
    "plt.tick_params(labelsize=FONTSIZE)\n",
    "plt.show()"
   ]
  },
  {
   "cell_type": "code",
   "execution_count": null,
   "metadata": {},
   "outputs": [],
   "source": [
    "# Scatter plot for velocity estimate errors\n",
    "mae_station = np.abs(estimation.east_vel_residual.values) + np.abs(\n",
    "    estimation.north_vel_residual.values\n",
    ")\n",
    "fig = plt.figure(figsize=FIGSIZE_VECTORS)\n",
    "plt.title(\"residual velocities\", fontsize=16)\n",
    "plt.fill(\n",
    "    WORLD_BOUNDARIES[\"lon\"],\n",
    "    WORLD_BOUNDARIES[\"lat\"],\n",
    "    color=LAND_COLOR,\n",
    "    linewidth=LAND_LINEWIDTH,\n",
    "    zorder=LAND_ZORDER,\n",
    ")\n",
    "\n",
    "plt.scatter(\n",
    "    model.station.lon,\n",
    "    model.station.lat,\n",
    "    s=25,\n",
    "    edgecolors=\"k\",\n",
    "    c=mae_station,\n",
    "    cmap=\"YlOrRd\",\n",
    "    linewidths=0.1,\n",
    ")\n",
    "common_plot_elements(model.segment, LON_RANGE, LAT_RANGE)\n",
    "\n",
    "# cbar = plt.colorbar(label=\"absolute error\", shrink=0.45)\n",
    "plt.clim(0, 10)\n",
    "\n",
    "# Draw white background rectangle\n",
    "rect = mpatches.Rectangle(\n",
    "    KEY_RECTANGLE_ANCHOR,\n",
    "    KEY_RECTANGLE_WIDTH,\n",
    "    KEY_RECTANGLE_HEIGHT,\n",
    "    fill=True,\n",
    "    color=KEY_BACKGROUND_COLOR,\n",
    "    linewidth=KEY_LINEWIDTH,\n",
    "    ec=KEY_EDGECOLOR,\n",
    ")\n",
    "plt.gca().add_patch(rect)\n",
    "plt.show()"
   ]
  },
  {
   "cell_type": "code",
   "execution_count": null,
   "metadata": {},
   "outputs": [],
   "source": [
    "# Plot estimated strike-slip rates\n",
    "plt.figure(figsize=FIGSIZE_VECTORS)\n",
    "plt.title(\"strike-slip rates\", fontsize=FONTSIZE)\n",
    "common_plot_elements(model.segment, LON_RANGE, LAT_RANGE)\n",
    "\n",
    "plt.fill(\n",
    "    WORLD_BOUNDARIES[\"lon\"],\n",
    "    WORLD_BOUNDARIES[\"lat\"],\n",
    "    color=LAND_COLOR,\n",
    "    linewidth=LAND_LINEWIDTH,\n",
    "    zorder=LAND_ZORDER,\n",
    ")\n",
    "\n",
    "for i in range(len(model.segment)):\n",
    "    if estimation.strike_slip_rates[i] < 0:\n",
    "        plt.plot(\n",
    "            [model.segment.lon1[i], model.segment.lon2[i]],\n",
    "            [model.segment.lat1[i], model.segment.lat2[i]],\n",
    "            \"-r\",\n",
    "            linewidth=estimation.strike_slip_rates[i],\n",
    "        )\n",
    "    else:\n",
    "        plt.plot(\n",
    "            [model.segment.lon1[i], model.segment.lon2[i]],\n",
    "            [model.segment.lat1[i], model.segment.lat2[i]],\n",
    "            \"-b\",\n",
    "            linewidth=estimation.strike_slip_rates[i],\n",
    "        )\n",
    "\n",
    "# Legend\n",
    "black_segments = mlines.Line2D(\n",
    "    [],\n",
    "    [],\n",
    "    color=\"red\",\n",
    "    marker=\"s\",\n",
    "    linestyle=\"None\",\n",
    "    markersize=10,\n",
    "    label=\"right-lateral (10 mm/yr)\",\n",
    ")\n",
    "red_segments = mlines.Line2D(\n",
    "    [],\n",
    "    [],\n",
    "    color=\"blue\",\n",
    "    marker=\"s\",\n",
    "    linestyle=\"None\",\n",
    "    markersize=10,\n",
    "    label=\"left-lateral (10 mm/yr)\",\n",
    ")\n",
    "plt.legend(\n",
    "    handles=[black_segments, red_segments],\n",
    "    loc=\"lower right\",\n",
    "    fontsize=FONTSIZE,\n",
    "    framealpha=1.0,\n",
    "    edgecolor=\"k\",\n",
    ").get_frame().set_boxstyle(\"Square\")"
   ]
  },
  {
   "cell_type": "code",
   "execution_count": null,
   "metadata": {},
   "outputs": [],
   "source": [
    "# Plot estimated strike-slip rates\n",
    "plt.figure(figsize=FIGSIZE_VECTORS)\n",
    "plt.title(\"dip-slip/tensile-slip rates\", fontsize=FONTSIZE)\n",
    "common_plot_elements(model.segment, LON_RANGE, LAT_RANGE)\n",
    "\n",
    "plt.fill(\n",
    "    WORLD_BOUNDARIES[\"lon\"],\n",
    "    WORLD_BOUNDARIES[\"lat\"],\n",
    "    color=LAND_COLOR,\n",
    "    linewidth=LAND_LINEWIDTH,\n",
    "    zorder=LAND_ZORDER,\n",
    ")\n",
    "\n",
    "for i in range(len(model.segment)):\n",
    "    if estimation.dip_slip_rates[i] > 0:\n",
    "        plt.plot(\n",
    "            [model.segment.lon1[i], model.segment.lon2[i]],\n",
    "            [model.segment.lat1[i], model.segment.lat2[i]],\n",
    "            \"-r\",\n",
    "            linewidth=estimation.dip_slip_rates[i],\n",
    "        )\n",
    "    else:\n",
    "        plt.plot(\n",
    "            [model.segment.lon1[i], model.segment.lon2[i]],\n",
    "            [model.segment.lat1[i], model.segment.lat2[i]],\n",
    "            \"-b\",\n",
    "            linewidth=estimation.dip_slip_rates[i],\n",
    "        )\n",
    "\n",
    "for i in range(len(model.segment)):\n",
    "    if estimation.tensile_slip_rates[i] < 0:\n",
    "        plt.plot(\n",
    "            [model.segment.lon1[i], model.segment.lon2[i]],\n",
    "            [model.segment.lat1[i], model.segment.lat2[i]],\n",
    "            \"-r\",\n",
    "            linewidth=estimation.tensile_slip_rates[i],\n",
    "        )\n",
    "    else:\n",
    "        plt.plot(\n",
    "            [model.segment.lon1[i], model.segment.lon2[i]],\n",
    "            [model.segment.lat1[i], model.segment.lat2[i]],\n",
    "            \"-b\",\n",
    "            linewidth=estimation.tensile_slip_rates[i],\n",
    "        )\n",
    "\n",
    "\n",
    "# Legend\n",
    "black_segments = mlines.Line2D(\n",
    "    [],\n",
    "    [],\n",
    "    color=\"red\",\n",
    "    marker=\"s\",\n",
    "    linestyle=\"None\",\n",
    "    markersize=10,\n",
    "    label=\"convergence (10 mm/yr)\",\n",
    ")\n",
    "red_segments = mlines.Line2D(\n",
    "    [],\n",
    "    [],\n",
    "    color=\"blue\",\n",
    "    marker=\"s\",\n",
    "    linestyle=\"None\",\n",
    "    markersize=10,\n",
    "    label=\"extension (10 mm/yr)\",\n",
    ")\n",
    "plt.legend(\n",
    "    handles=[black_segments, red_segments],\n",
    "    loc=\"lower right\",\n",
    "    fontsize=FONTSIZE,\n",
    "    framealpha=1.0,\n",
    "    edgecolor=\"k\",\n",
    ").get_frame().set_boxstyle(\"Square\")"
   ]
  },
  {
   "cell_type": "code",
   "execution_count": null,
   "metadata": {},
   "outputs": [],
   "source": []
  }
 ],
 "metadata": {
  "kernelspec": {
   "display_name": "Python (Pixi)",
   "language": "python",
   "name": "pixi-kernel-python3"
  },
  "language_info": {
   "codemirror_mode": {
    "name": "ipython",
    "version": 3
   },
   "file_extension": ".py",
   "mimetype": "text/x-python",
   "name": "python",
   "nbconvert_exporter": "python",
   "pygments_lexer": "ipython3",
   "version": "3.12.10"
  },
  "widgets": {
   "application/vnd.jupyter.widget-state+json": {
    "state": {
     "4d250c5d35aa493295ca814fb3eaa1ee": {
      "model_module": "@jupyter-widgets/base",
      "model_module_version": "1.2.0",
      "model_name": "LayoutModel",
      "state": {}
     },
     "6faf75ca5f3b41388f284e98ec2cf803": {
      "model_module": "jupyter-matplotlib",
      "model_module_version": "^0.9.0",
      "model_name": "ToolbarModel",
      "state": {
       "layout": "IPY_MODEL_9b061db2dc65459ca586b9b9f73c2362",
       "toolitems": [
        [
         "Home",
         "Reset original view",
         "home",
         "home"
        ],
        [
         "Back",
         "Back to previous view",
         "arrow-left",
         "back"
        ],
        [
         "Forward",
         "Forward to next view",
         "arrow-right",
         "forward"
        ],
        [
         "Pan",
         "Left button pans, Right button zooms\nx/y fixes axis, CTRL fixes aspect",
         "arrows",
         "pan"
        ],
        [
         "Zoom",
         "Zoom to rectangle\nx/y fixes axis, CTRL fixes aspect",
         "square-o",
         "zoom"
        ],
        [
         "Download",
         "Download plot",
         "floppy-o",
         "save_figure"
        ]
       ]
      }
     },
     "9b061db2dc65459ca586b9b9f73c2362": {
      "model_module": "@jupyter-widgets/base",
      "model_module_version": "1.2.0",
      "model_name": "LayoutModel",
      "state": {}
     },
     "c25a38234e8f4e818670d9767f95a430": {
      "model_module": "jupyter-matplotlib",
      "model_module_version": "^0.9.0",
      "model_name": "MPLCanvasModel",
      "state": {
       "_cursor": "default",
       "_figure_label": "Figure 1",
       "_height": 708,
       "_width": 1746,
       "layout": "IPY_MODEL_4d250c5d35aa493295ca814fb3eaa1ee",
       "toolbar": "IPY_MODEL_6faf75ca5f3b41388f284e98ec2cf803",
       "toolbar_position": "left"
      }
     }
    },
    "version_major": 2,
    "version_minor": 0
   }
  }
 },
 "nbformat": 4,
 "nbformat_minor": 4
}
