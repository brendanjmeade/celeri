{
 "cells": [
  {
   "cell_type": "code",
   "execution_count": null,
   "id": "51ab611a-e578-4fc7-b59b-79349a85e1de",
   "metadata": {},
   "outputs": [],
   "source": [
    "import celeri\n",
    "from loguru import logger\n",
    "import matplotlib.pyplot as plt\n",
    "import numpy as np\n",
    "import arviz as az\n",
    "\n",
    "logger.disable(\"celeri\")\n",
    "\n",
    "config_files = {\n",
    "    \"japan\": \"../data/config/japan_config.json\",\n",
    "    \"north_america\": \"../data/config/wna_config.json\",\n",
    "}"
   ]
  },
  {
   "cell_type": "code",
   "execution_count": null,
   "id": "55b5bfbf-24b6-4b55-8123-b4a1a96a2acd",
   "metadata": {},
   "outputs": [],
   "source": [
    "# Create a model with coupling limits [-2, 1]\n",
    "config = celeri.Config.from_file(config_files[\"japan\"])\n",
    "model_confs = []\n",
    "for conf in config.mesh_params[:-1]:\n",
    "    conf.elastic_constraints_ds = [None, None]\n",
    "    conf.elastic_constraints_ss = [None, None]\n",
    "    conf.coupling_constraints_ds = [-2, 1]\n",
    "    conf.coupling_constraints_ss = [-2, 1]\n",
    "config.mesh_params[-1].elastic_constraints_ds = [-100, 100]\n",
    "config.mesh_params[-1].elastic_constraints_ss = [-100, 100]\n",
    "model_neg2_one = celeri.build_model(config)\n",
    "\n",
    "# Create a model with coupling limits [0, 1]\n",
    "config = celeri.Config.from_file(config_files[\"japan\"])\n",
    "model_confs = []\n",
    "for conf in config.mesh_params[:-1]:\n",
    "    conf.elastic_constraints_ds = [None, None]\n",
    "    conf.elastic_constraints_ss = [None, None]\n",
    "    conf.coupling_constraints_ds = [0, 1]\n",
    "    conf.coupling_constraints_ss = [0, 1]\n",
    "config.mesh_params[-1].elastic_constraints_ds = [-100, 100]\n",
    "config.mesh_params[-1].elastic_constraints_ss = [-100, 100]\n",
    "model_zero_one = celeri.build_model(config)"
   ]
  },
  {
   "cell_type": "code",
   "execution_count": null,
   "id": "6fd8d7e9-14ae-402a-bdc9-a745f44fed43",
   "metadata": {},
   "outputs": [],
   "source": [
    "%%time\n",
    "estimation_mcmc_zero_one = celeri.solve_mcmc(model_zero_one, sample_kwargs={\"chains\": 1})\n",
    "estimation_mcmc_zero_one.to_disk(\"estimation_mcmc_zero_one.zarr\")"
   ]
  },
  {
   "cell_type": "code",
   "execution_count": null,
   "id": "41b504ca-c401-46e6-9198-1ee3c4ce8555",
   "metadata": {},
   "outputs": [],
   "source": [
    "%%time\n",
    "estimation_mcmc_neg2_one = celeri.solve_mcmc(model_neg2_one, sample_kwargs={\"chains\": 1})\n",
    "estimation_mcmc_neg2_one.to_disk(\"estimation_mcmc_neg2_one.zarr\")"
   ]
  },
  {
   "cell_type": "code",
   "execution_count": null,
   "id": "01a80bb4-61b6-4f11-9950-946fe9d5f2d5",
   "metadata": {},
   "outputs": [],
   "source": [
    "estimation_mcmc_neg2_one = celeri.Estimation.from_disk(\"estimation_mcmc_neg2_one.zarr\")\n",
    "estimation_mcmc_zero_one = celeri.Estimation.from_disk(\"estimation_mcmc_zero_one.zarr\")"
   ]
  },
  {
   "cell_type": "code",
   "execution_count": null,
   "id": "1028c351-afd4-47a4-8fc1-499e693f682a",
   "metadata": {},
   "outputs": [],
   "source": [
    "# We can access individual MCMC draws as estimation objects\n",
    "est1 = estimation_mcmc_neg2_one.mcmc_draw(0, 0)\n",
    "est2 = estimation_mcmc_neg2_one.mcmc_draw(50, 0)\n",
    "est3 = estimation_mcmc_neg2_one.mcmc_draw(150, 0)"
   ]
  },
  {
   "cell_type": "code",
   "execution_count": null,
   "id": "ed5ae82c-e4da-4001-8668-bf72d39ffb7c",
   "metadata": {},
   "outputs": [],
   "source": [
    "az.ess(estimation_mcmc_neg2_one.mcmc_trace).min()"
   ]
  },
  {
   "cell_type": "code",
   "execution_count": null,
   "id": "d3dc3766-64fa-4ae2-bc19-3f6df0a991fe",
   "metadata": {},
   "outputs": [],
   "source": [
    "az.ess(estimation_mcmc_zero_one.mcmc_trace).min()"
   ]
  },
  {
   "cell_type": "code",
   "execution_count": null,
   "id": "1de272e1-2962-4b81-9aa7-73723c05cea8",
   "metadata": {},
   "outputs": [],
   "source": [
    "az.plot_trace(estimation_mcmc_neg2_one.mcmc_trace.posterior.sigma ** 2);\n",
    "az.plot_trace(estimation_mcmc_zero_one.mcmc_trace.posterior.sigma ** 2);"
   ]
  },
  {
   "cell_type": "code",
   "execution_count": null,
   "id": "b8b8172d-ab42-49c7-b9ba-2ae1a47827dd",
   "metadata": {},
   "outputs": [],
   "source": [
    "for name, estimation in {0: est1, 50: est2, 150: est3}.items():\n",
    "    trace = estimation.mcmc_trace\n",
    "\n",
    "    fig = plt.figure(layout='constrained', figsize=(15, 7))\n",
    "    subfigs = fig.subfigures(2, 1, wspace=0.07)\n",
    "    fig.suptitle(name)\n",
    "\n",
    "    for kind, subfig in zip([\"dip_slip\", \"strike_slip\"], subfigs):\n",
    "        ax1, ax2, ax3 = subfig.subplots(1, 3)\n",
    "        ax1.set_aspect(\"equal\")\n",
    "        ax2.set_aspect(\"equal\")\n",
    "        ax3.set_aspect(\"equal\")\n",
    "        mesh_idxs = range(3)\n",
    "        meshes = [estimation.model.meshes[mesh_idx] for mesh_idx in mesh_idxs]\n",
    "        subfig.suptitle(kind)\n",
    "        ax1.set_title(\"kinematic\")\n",
    "        ax2.set_title(\"coupling\")\n",
    "        ax3.set_title(\"elastic\")\n",
    "        celeri.plot_meshes(\n",
    "            meshes,\n",
    "            np.r_[*[\n",
    "                trace.posterior[f\"kinematic_{mesh_idx}_{kind}\"].sel(chain=0, draw=name).values\n",
    "                for mesh_idx in mesh_idxs\n",
    "            ]],\n",
    "            ax=ax1,\n",
    "            vmin=-100,\n",
    "            vmax=100,\n",
    "            cmap=\"coolwarm\",\n",
    "            center=0,\n",
    "        )\n",
    "        ax1.set_aspect(\"equal\")\n",
    "        celeri.plot_meshes(\n",
    "            meshes,\n",
    "            np.r_[*[\n",
    "                trace.posterior[f\"coupling_{mesh_idx}_{kind}\"].sel(chain=0, draw=name).values\n",
    "                for mesh_idx in mesh_idxs\n",
    "            ]],\n",
    "            ax=ax2,\n",
    "            vmin=-2,\n",
    "            vmax=1,\n",
    "            center=0,\n",
    "            cmap=\"coolwarm\",\n",
    "        )\n",
    "        celeri.plot_meshes(\n",
    "            meshes,\n",
    "            np.r_[*[\n",
    "                trace.posterior[f\"elastic_{mesh_idx}_{kind}\"].sel(chain=0, draw=name).values\n",
    "                for mesh_idx in mesh_idxs\n",
    "            ]],\n",
    "            ax=ax3,\n",
    "            vmin=-100,\n",
    "            vmax=100,\n",
    "            cmap=\"coolwarm\",\n",
    "            center=0,\n",
    "        )"
   ]
  },
  {
   "cell_type": "code",
   "execution_count": null,
   "id": "987b16a9-fe1f-423a-9859-0c0507b4ebd5",
   "metadata": {},
   "outputs": [],
   "source": [
    "for name, estimation in {\"zero_one\": estimation_mcmc_zero_one, \"neg2_one\": estimation_mcmc_neg2_one}.items():\n",
    "    trace = estimation.mcmc_trace\n",
    "\n",
    "    fig = plt.figure(layout='constrained', figsize=(15, 7))\n",
    "    subfigs = fig.subfigures(2, 1, wspace=0.07)\n",
    "    fig.suptitle(name)\n",
    "\n",
    "    for kind, subfig in zip([\"dip_slip\", \"strike_slip\"], subfigs):\n",
    "        ax1, ax2, ax3 = subfig.subplots(1, 3)\n",
    "        ax1.set_aspect(\"equal\")\n",
    "        ax2.set_aspect(\"equal\")\n",
    "        ax3.set_aspect(\"equal\")\n",
    "        mesh_idxs = range(3)\n",
    "        meshes = [estimation.model.meshes[mesh_idx] for mesh_idx in mesh_idxs]\n",
    "        subfig.suptitle(kind)\n",
    "        ax1.set_title(\"kinematic\")\n",
    "        ax2.set_title(\"coupling\")\n",
    "        ax3.set_title(\"elastic\")\n",
    "        celeri.plot_meshes(\n",
    "            meshes,\n",
    "            np.r_[*[\n",
    "                trace.posterior[f\"kinematic_{mesh_idx}_{kind}\"].mean([\"draw\", \"chain\"]).values\n",
    "                for mesh_idx in mesh_idxs\n",
    "            ]],\n",
    "            ax=ax1,\n",
    "            vmin=-100,\n",
    "            vmax=100,\n",
    "            cmap=\"coolwarm\",\n",
    "            center=0,\n",
    "        )\n",
    "        ax1.set_aspect(\"equal\")\n",
    "        celeri.plot_meshes(\n",
    "            meshes,\n",
    "            np.r_[*[\n",
    "                trace.posterior[f\"coupling_{mesh_idx}_{kind}\"].mean([\"draw\", \"chain\"]).values\n",
    "                for mesh_idx in mesh_idxs\n",
    "            ]],\n",
    "            ax=ax2,\n",
    "            vmin=-2,\n",
    "            vmax=1,\n",
    "            cmap=\"coolwarm\",\n",
    "            center=0,\n",
    "        )\n",
    "        celeri.plot_meshes(\n",
    "            meshes,\n",
    "            np.r_[*[\n",
    "                trace.posterior[f\"elastic_{mesh_idx}_{kind}\"].mean([\"draw\", \"chain\"]).values\n",
    "                for mesh_idx in mesh_idxs\n",
    "            ]],\n",
    "            ax=ax3,\n",
    "            vmin=-100,\n",
    "            vmax=100,\n",
    "            cmap=\"coolwarm\",\n",
    "            center=0,\n",
    "        )"
   ]
  },
  {
   "cell_type": "code",
   "execution_count": null,
   "id": "96c1e36c-4b0a-403f-8291-ac323e7f8d83",
   "metadata": {},
   "outputs": [],
   "source": [
    "celeri.plot_estimation_summary(estimation_mcmc_zero_one.model, estimation_mcmc_zero_one)"
   ]
  },
  {
   "cell_type": "code",
   "execution_count": null,
   "id": "772afa39-f3e8-4411-ae7f-f77967505ee6",
   "metadata": {},
   "outputs": [],
   "source": [
    "celeri.plot_estimation_summary(estimation_mcmc_neg2_one.model, estimation_mcmc_neg2_one)"
   ]
  },
  {
   "cell_type": "code",
   "execution_count": null,
   "id": "3ccf4243-f8c7-4f9a-8166-371c2c644bd9",
   "metadata": {},
   "outputs": [],
   "source": [
    "estimation_sqp2_zero_one = celeri.solve_sqp2(model_zero_one)\n",
    "estimation_sqp2_neg2_one = celeri.solve_sqp2(model_neg2_one)"
   ]
  },
  {
   "cell_type": "code",
   "execution_count": null,
   "id": "e8aca1ee-682d-453e-a8ee-c3df6f0af76e",
   "metadata": {},
   "outputs": [],
   "source": [
    "celeri.plot_estimation_summary(estimation_sqp2_zero_one.model, estimation_sqp2_zero_one)"
   ]
  },
  {
   "cell_type": "code",
   "execution_count": null,
   "id": "390006c0-7c02-4fbe-a5aa-99769c77e2c4",
   "metadata": {},
   "outputs": [],
   "source": [
    "celeri.plot_estimation_summary(estimation_sqp2_neg2_one.model, estimation_sqp2_neg2_one)"
   ]
  },
  {
   "cell_type": "code",
   "execution_count": null,
   "id": "354a121c-722c-42a8-9bbf-b71810e10b33",
   "metadata": {},
   "outputs": [],
   "source": []
  }
 ],
 "metadata": {
  "kernelspec": {
   "display_name": "Python (Pixi)",
   "language": "python",
   "name": "pixi-kernel-python3"
  },
  "language_info": {
   "codemirror_mode": {
    "name": "ipython",
    "version": 3
   },
   "file_extension": ".py",
   "mimetype": "text/x-python",
   "name": "python",
   "nbconvert_exporter": "python",
   "pygments_lexer": "ipython3",
   "version": "3.12.11"
  }
 },
 "nbformat": 4,
 "nbformat_minor": 5
}
