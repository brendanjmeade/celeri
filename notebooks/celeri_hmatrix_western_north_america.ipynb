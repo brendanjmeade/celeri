{
 "cells": [
  {
   "cell_type": "code",
   "execution_count": null,
   "metadata": {},
   "outputs": [],
   "source": [
    "%load_ext autoreload\n",
    "%autoreload 2\n",
    "%config InlineBackend.figure_format = \"retina\""
   ]
  },
  {
   "cell_type": "code",
   "execution_count": null,
   "metadata": {},
   "outputs": [],
   "source": [
    "import addict\n",
    "import pickle\n",
    "import numpy as np\n",
    "import scipy.sparse\n",
    "import scipy.sparse.linalg\n",
    "import matplotlib.pyplot as plt\n",
    "from importlib import reload\n",
    "\n",
    "import celeri\n",
    "from celeri.hmatrix import build_hmatrix_from_mesh_tdes\n",
    "from celeri.hmatrix import build_hmatrix_from_mesh_tdes_new\n",
    "\n",
    "with open('hmatrix_dev_data.pkl', 'rb') as f:\n",
    "    estimation, operators, meshes, segment, station, command, index = pickle.load(f)"
   ]
  },
  {
   "cell_type": "code",
   "execution_count": null,
   "metadata": {},
   "outputs": [],
   "source": [
    "command_file_name = \"../data/command/western_north_america_command.json\"\n",
    "command, segment, block, meshes, station, mogi, sar = celeri.read_data(command_file_name)\n",
    "celeri.create_output_folder(command)\n",
    "station = celeri.process_station(station, command)\n",
    "segment = celeri.process_segment(segment, command, meshes)\n",
    "sar = celeri.process_sar(sar, command)\n",
    "closure, block = celeri.assign_block_labels(segment, station, block, mogi, sar)\n",
    "assembly = addict.Dict()\n",
    "operators = addict.Dict()\n",
    "operators.meshes = [addict.Dict()] * len(meshes)\n",
    "assembly = celeri.merge_geodetic_data(assembly, station, sar) # Not sure this works correctly"
   ]
  },
  {
   "cell_type": "code",
   "execution_count": null,
   "metadata": {},
   "outputs": [],
   "source": [
    "# Get all elastic operators for segments and TDEs\n",
    "celeri.get_elastic_operators(operators, meshes, segment, station, command)\n",
    "\n",
    "# Get TDE smoothing operators\n",
    "celeri.get_all_mesh_smoothing_matrices(meshes, operators)\n",
    "celeri.get_all_mesh_smoothing_matrices_simple(meshes, operators)\n",
    "\n",
    "operators.rotation_to_velocities = celeri.get_rotation_to_velocities_partials(station)\n",
    "operators.global_float_block_rotation = celeri.get_global_float_block_rotation_partials(station)\n",
    "assembly, operators.block_motion_constraints = celeri.get_block_motion_constraints(assembly, block, command)\n",
    "assembly, operators.slip_rate_constraints = celeri.get_slip_rate_constraints(assembly, segment, block, command)\n",
    "operators.rotation_to_slip_rate = celeri.get_rotation_to_slip_rate_partials(segment, block)\n",
    "operators.block_strain_rate_to_velocities, strain_rate_block_index = celeri.get_block_strain_rate_to_velocities_partials(block, station, segment)\n",
    "operators.mogi_to_velocities = celeri.get_mogi_to_velocities_partials(mogi, station, command)\n",
    "celeri.get_tde_slip_rate_constraints(meshes, operators)\n",
    "index2, estimation = celeri.assemble_and_solve_dense(command, assembly, operators, station, block, meshes)\n",
    "celeri.post_process_estimation(estimation, operators, station, index2)\n"
   ]
  },
  {
   "cell_type": "markdown",
   "metadata": {},
   "source": [
    "## Build H-matrix for Cascadia mesh"
   ]
  },
  {
   "cell_type": "code",
   "execution_count": null,
   "metadata": {},
   "outputs": [],
   "source": [
    "H = build_hmatrix_from_mesh_tdes_new(\n",
    "    meshes[0], \n",
    "    station,\n",
    "    operators.tde_to_velocities[0],\n",
    "    1e-6,\n",
    "    min_separation=1.25,\n",
    "    min_pts_per_box=20,\n",
    ")\n",
    "print(f\"H matrix compression ratio: {H.report_compression_ratio():0.4}\")"
   ]
  },
  {
   "cell_type": "markdown",
   "metadata": {},
   "source": [
    "# Weighting"
   ]
  },
  {
   "cell_type": "code",
   "execution_count": null,
   "metadata": {},
   "outputs": [],
   "source": [
    "W = estimation.weighting_vector\n",
    "X = estimation.operator\n",
    "y = estimation.data_vector\n",
    "Xp = X * np.sqrt(W)[:, None]\n",
    "yp = y * np.sqrt(W)"
   ]
  },
  {
   "cell_type": "markdown",
   "metadata": {},
   "source": [
    "# Preconditioning\n",
    "Scale each column of the data matrix to have a L2 norm of 1."
   ]
  },
  {
   "cell_type": "code",
   "execution_count": null,
   "metadata": {},
   "outputs": [],
   "source": [
    "col_norms = np.linalg.norm(Xp, axis=0)\n",
    "XpP = Xp / col_norms[None, :]"
   ]
  },
  {
   "cell_type": "markdown",
   "metadata": {},
   "source": [
    "## Combining H-matrices and iterative solvers"
   ]
  },
  {
   "cell_type": "code",
   "execution_count": null,
   "metadata": {},
   "outputs": [],
   "source": [
    "from scipy.sparse import csr_matrix\n",
    "operators.rotation_to_slip_rate_to_okada_to_velocities = operators.slip_rate_to_okada_to_velocities @ operators.rotation_to_slip_rate\n",
    "sparse_block_motion_okada_faults = csr_matrix(operators.rotation_to_velocities[index.station_row_keep_index, :] - operators.rotation_to_slip_rate_to_okada_to_velocities[index.station_row_keep_index, :])\n",
    "sparse_block_motion_constraints = csr_matrix(operators.block_motion_constraints)\n",
    "sparse_block_slip_rate_constraints = csr_matrix(operators.slip_rate_constraints)\n",
    "tde_keep_row_index = celeri.get_keep_index_12(operators.tde_to_velocities[0].shape[0])\n",
    "tde_keep_col_index = celeri.get_keep_index_12(operators.tde_to_velocities[0].shape[1])\n",
    "smoothing_keep_index = celeri.get_keep_index_12(operators.smoothing_matrix[0].shape[0])\n",
    "tde_matrix = operators.tde_to_velocities[0][tde_keep_row_index, :][:, tde_keep_col_index]\n",
    "sparse_tde_smoothing = csr_matrix(operators.smoothing_matrix[0][smoothing_keep_index, :][:, smoothing_keep_index])\n",
    "sparse_tde_slip_rate_constraints = csr_matrix(operators.tde_slip_rate_constraints[0])"
   ]
  },
  {
   "cell_type": "code",
   "execution_count": null,
   "metadata": {},
   "outputs": [],
   "source": [
    "def matvec(v):\n",
    "    \"\"\" BJM: Build matvec (matrix vector product) operator for \n",
    "    scipy.sparse.linalg.LinearOperator.  This returns A* u\n",
    "\n",
    "    BJM: Should we be passing in: W, X, index, etc. or let them be known from the outer scope???\n",
    "    TBT: This will depend on how we integrate this into celeri and which\n",
    "    variable we're talking about. For example, we should stop using X.shape\n",
    "    entirely because that matrix won't exist in a fully sparse/hmatrix\n",
    "    implementation!\n",
    "    One design that I would probably lean towards\n",
    "    would be something like:\n",
    "    def build_sparse_hmatrix_linear_operator(operators,...):\n",
    "        sparse_block_motion_okada_faults = ...\n",
    "        define_other_precomputable_vars_here = ...\n",
    "\n",
    "        def matvec(v):\n",
    "            # use vars from the outer scope\n",
    "        def rmatvec(v):\n",
    "            # use vars from the outer scope\n",
    "\n",
    "        return scipy.sparse.linalg.LinearOperator(X.shape, matvec=matvec, rmatvec=rmatvec)\n",
    "        \n",
    "\n",
    "\n",
    "    Args:\n",
    "        u (nd.array): Candidate state vector\n",
    "\n",
    "    Returns:\n",
    "        out (nd.array): Predicted data vector\n",
    "    \"\"\"\n",
    "\n",
    "    # BJM: Weight the data vector\n",
    "    # TBT: It's important to remember to keep the input and output weighting\n",
    "    # conceptually separate since the \"out * np.sqrt(W)\" will actually change\n",
    "    # the solution to the least squares problem whereas the \"v / col_norms\"\n",
    "    # preconditioning step is a reversible change to the solution (which is the\n",
    "    # point since preconditioning should not change the solution!!)\n",
    "    v_scaled = v / col_norms \n",
    "\n",
    "    # BJM: Make storage for output\n",
    "    out = np.zeros(X.shape[0])\n",
    "\n",
    "    block_rotations = v_scaled[index.start_block_col : index.end_block_col]\n",
    "    # okada\n",
    "    out[\n",
    "        index.start_station_row : index.end_station_row\n",
    "    ] += sparse_block_motion_okada_faults.dot(block_rotations)\n",
    "\n",
    "    # block motion constraints\n",
    "    out[\n",
    "        index.start_block_constraints_row : index.end_block_constraints_row\n",
    "    ] += sparse_block_motion_constraints.dot(block_rotations)\n",
    "\n",
    "    # slip rate constraints\n",
    "    out[\n",
    "        index.start_slip_rate_constraints_row : index.end_slip_rate_constraints_row\n",
    "    ] += sparse_block_slip_rate_constraints.dot(block_rotations)\n",
    "\n",
    "    tde_velocities = v_scaled[index.meshes[0].start_tde_col : index.meshes[0].end_tde_col]\n",
    "\n",
    "    # Insert TDE to velocity matrix\n",
    "    out[index.start_station_row : index.end_station_row] += H.dot(tde_velocities)\n",
    "\n",
    "    # TDE smoothing\n",
    "    out[\n",
    "        index.meshes[0].start_tde_smoothing_row : index.meshes[0].end_tde_smoothing_row\n",
    "    ] += sparse_tde_smoothing.dot(tde_velocities)\n",
    "\n",
    "    # TDE slip rate constraints\n",
    "    out[\n",
    "        index.meshes[0].start_tde_constraint_row :\n",
    "        index.meshes[0].end_tde_constraint_row\n",
    "    ] += sparse_tde_slip_rate_constraints.dot(tde_velocities)\n",
    "\n",
    "    # Weight!\n",
    "    return out * np.sqrt(W)"
   ]
  },
  {
   "cell_type": "code",
   "execution_count": null,
   "metadata": {},
   "outputs": [],
   "source": [
    "def rmatvec(u):\n",
    "    \"\"\" \n",
    "    Args:\n",
    "        u (nd.array): Candidate state vector\n",
    "\n",
    "    Returns:\n",
    "        out (nd.array): Predicted data vector\n",
    "    \"\"\"\n",
    "\n",
    "    # BJM: Weight the data vector\n",
    "    u_weighted = u * np.sqrt(W)\n",
    "\n",
    "    # BJM: Storage for output\n",
    "    out = np.zeros(X.shape[1])\n",
    "\n",
    "    # BJM: Select subset of weighted data for the observed velocities\n",
    "    station_rows = u_weighted[index.start_station_row : index.end_station_row]\n",
    "    block_constraints = u_weighted[\n",
    "        index.start_block_constraints_row : index.end_block_constraints_row\n",
    "    ]\n",
    "\n",
    "    # BJM: Select subset of weighted data for the fault slip rate constraints\n",
    "    slip_rate_constraints = u_weighted[\n",
    "        index.start_slip_rate_constraints_row : index.end_slip_rate_constraints_row\n",
    "    ]\n",
    "\n",
    "    # BJM: Select subset of weighted data for the TDE smoothing\n",
    "    tde_smoothing = u_weighted[\n",
    "        index.meshes[0].start_tde_smoothing_row : index.meshes[0].end_tde_smoothing_row\n",
    "    ]\n",
    "\n",
    "    # BJM: Select subset of weighted data for the TDE slip rate constraints\n",
    "    tde_slip_rate = u_weighted[\n",
    "        index.meshes[0].start_tde_constraint_row :\n",
    "        index.meshes[0].end_tde_constraint_row\n",
    "    ]\n",
    "\n",
    "    # BJM: Okada and block rotation contribution to data vector\n",
    "    out[index.start_block_col : index.end_block_col] += station_rows @ sparse_block_motion_okada_faults\n",
    "\n",
    "    # BJM: Block motion constraints contribution to data vector\n",
    "    out[index.start_block_col : index.end_block_col] += block_constraints @ sparse_block_motion_constraints\n",
    "\n",
    "    # BJM: Fault slip rate constraints contribution to data vector\n",
    "    out[index.start_block_col : index.end_block_col] += slip_rate_constraints @ sparse_block_slip_rate_constraints\n",
    "\n",
    "    # BJM: Hmatrix (TDEs to velocities)\n",
    "    out[index.meshes[0].start_tde_col : index.meshes[0].end_tde_col] += H.transpose_dot(station_rows)\n",
    "\n",
    "    # BJM: TDE smoothing contribution to data vector\n",
    "    out[index.meshes[0].start_tde_col : index.meshes[0].end_tde_col] += tde_smoothing @ sparse_tde_smoothing\n",
    "\n",
    "    # BJM: TDE slip rate constraint contributions to data vector\n",
    "    out[index.meshes[0].start_tde_col : index.meshes[0].end_tde_col] += tde_slip_rate @ sparse_tde_slip_rate_constraints\n",
    "\n",
    "    # Weight!\n",
    "    return out / col_norms"
   ]
  },
  {
   "cell_type": "markdown",
   "metadata": {},
   "source": [
    "## Solve with H-matrix/sparse!"
   ]
  },
  {
   "cell_type": "code",
   "execution_count": null,
   "metadata": {},
   "outputs": [],
   "source": [
    "# BJM: Create a linear operator the includes the hmatrix vector multiply\n",
    "op = scipy.sparse.linalg.LinearOperator(X.shape, matvec=matvec, rmatvec=rmatvec)"
   ]
  },
  {
   "cell_type": "code",
   "execution_count": null,
   "metadata": {},
   "outputs": [],
   "source": [
    "lsmr_sparse = scipy.sparse.linalg.lsmr(op, yp, atol=1e-6, btol=1e-6)\n",
    "lsmr_sparse_soln = lsmr_sparse[0] / col_norms\n",
    "estimation.state_vector = lsmr_sparse_soln"
   ]
  },
  {
   "cell_type": "code",
   "execution_count": null,
   "metadata": {},
   "outputs": [],
   "source": [
    "celeri.plot_estimation_summary(segment, station, meshes, estimation, lon_range=(225, 250), lat_range=(30, 52), quiver_scale=1e2)"
   ]
  }
 ],
 "metadata": {
  "interpreter": {
   "hash": "c278809f12fa6b55bc0152d5c4c82ce1fb4b632d84fb69e4d1080c31a12c13e9"
  },
  "kernelspec": {
   "display_name": "Python 3.10.1 64-bit ('celeri': conda)",
   "language": "python",
   "name": "python3"
  },
  "language_info": {
   "codemirror_mode": {
    "name": "ipython",
    "version": 3
   },
   "file_extension": ".py",
   "mimetype": "text/x-python",
   "name": "python",
   "nbconvert_exporter": "python",
   "pygments_lexer": "ipython3",
   "version": "3.10.0"
  },
  "orig_nbformat": 4
 },
 "nbformat": 4,
 "nbformat_minor": 2
}
