{
 "cells": [
  {
   "cell_type": "markdown",
   "metadata": {},
   "source": [
    "### discussion, 2/24/2022\n",
    "Just pushed an updated version of your hmat_dev.ipynb notebook.  I've put in a ton of comments starting with \"BJM\" just to work on documenting it all for myself and future me.  Important questions are noted with \"???\".  The biggest question I have is what purpose rmatvec serves for the solver.  It took me a while to figure out what this function was doing!  I'm learning a lot here I cant say enough about how easy you've made this to understand.  I think I can see how to extend this to additional constraint types (e.g., InSAR) based on the structure that you've developed.  At some point I'd definitely like to talk about how to package this for celeri (How many meshes should we do at a time?  Where should rmatvec and matvec be defined?) and about a simple idea to demonstrate this in a relatable way.\n",
    "\n",
    "\n",
    "Thoughts on the design and how to package this for celeri:\n",
    "- I think we should do all the meshes at once, since there's no time when you\n",
    "want to use the linear operator for a single mesh alone.\n",
    "- I like design below, approximately: \n",
    "```\n",
    "def build_sparse_hmatrix_linear_operator(operators,...):\n",
    "    sparse_block_motion_okada_faults = ...\n",
    "    define_other_precomputable_vars_here = ...\n",
    "\n",
    "    def matvec(v):\n",
    "        # use vars from the outer scope\n",
    "    def rmatvec(v):\n",
    "        # use vars from the outer scope\n",
    "\n",
    "    return scipy.sparse.linalg.LinearOperator(X.shape, matvec=matvec, rmatvec=rmatvec)\n",
    "```"
   ]
  },
  {
   "cell_type": "markdown",
   "metadata": {},
   "source": [
    "## Checking that the H-matrices work!\n",
    "\n",
    "In the future, we should probably move this to a test in `hmatrix.py`"
   ]
  },
  {
   "cell_type": "code",
   "execution_count": null,
   "metadata": {},
   "outputs": [],
   "source": [
    "%load_ext autoreload\n",
    "%autoreload 2\n",
    "%config InlineBackend.figure_format = \"retina\""
   ]
  },
  {
   "cell_type": "code",
   "execution_count": null,
   "metadata": {},
   "outputs": [],
   "source": [
    "import copy\n",
    "import pickle\n",
    "import numpy as np\n",
    "import matplotlib.pyplot as plt\n",
    "from celeri.hmatrix import build_hmatrix_from_mesh_tdes\n",
    "\n",
    "with open('hmatrix_dev_data.pkl', 'rb') as f:\n",
    "   estimation, operators, meshes, segment, station, command, index = pickle.load(f)"
   ]
  },
  {
   "cell_type": "markdown",
   "metadata": {},
   "source": [
    "## Playing with H-matrices!"
   ]
  },
  {
   "cell_type": "code",
   "execution_count": null,
   "metadata": {},
   "outputs": [],
   "source": [
    "print(operators.meshes[0].tde_to_velocities.shape)\n",
    "print(type(operators.meshes[0]))\n",
    "\n",
    "\n",
    "H = build_hmatrix_from_mesh_tdes(\n",
    "    meshes[0], # BJM: Single mesh \n",
    "    station, #  BJM: Observation locations.\n",
    "    operators.meshes[0], # BJM: TDE partials. Need to update this for Jack's new convention\n",
    "    1e-2, # Tolerance\n",
    "\n",
    "    # TBT: min_separation is a ratio of the sizes of the two tree nodes. The\n",
    "    # exact criteria for two nodes being far enough apart that we are allowed to\n",
    "    # use an approximate matrix block instead of an exact matrix block is:\n",
    "    # dist > min_separation * (obs_node.radius + src_node.radius)\n",
    "    min_separation=1.25, #  BJM: What are units here?\n",
    "\n",
    "    min_pts_per_box=20,\n",
    ")\n"
   ]
  },
  {
   "cell_type": "code",
   "execution_count": null,
   "metadata": {},
   "outputs": [],
   "source": [
    "H.report_compression_ratio()"
   ]
  },
  {
   "cell_type": "code",
   "execution_count": null,
   "metadata": {},
   "outputs": [],
   "source": [
    "from celeri.hmatrix import plot_tree\n",
    "plot_tree(H.obs_tree)\n",
    "plot_tree(H.src_tree)"
   ]
  },
  {
   "cell_type": "code",
   "execution_count": null,
   "metadata": {},
   "outputs": [],
   "source": [
    "M = operators.meshes[0].tde_to_velocities\n",
    "M = np.delete(M, np.arange(2, M.shape[0], 3), axis=0)\n",
    "M = np.delete(M, np.arange(2, M.shape[1], 3), axis=1)\n",
    "\n",
    "x = np.random.rand(M.shape[1])\n",
    "y_true = M.dot(x)"
   ]
  },
  {
   "cell_type": "code",
   "execution_count": null,
   "metadata": {},
   "outputs": [],
   "source": [
    "%%time\n",
    "y_h = H.dot(x)"
   ]
  },
  {
   "cell_type": "code",
   "execution_count": null,
   "metadata": {},
   "outputs": [],
   "source": [
    "log10err = np.log10(np.abs(y_true - y_h))\n",
    "plt.hist(log10err, bins=np.linspace(-12,-5.5,21))\n",
    "plt.ylabel('N')\n",
    "plt.xlabel('log 10 error')\n",
    "plt.show()"
   ]
  },
  {
   "cell_type": "code",
   "execution_count": null,
   "metadata": {},
   "outputs": [],
   "source": [
    "y = np.random.rand(M.shape[0])\n",
    "x_true = y @ M"
   ]
  },
  {
   "cell_type": "code",
   "execution_count": null,
   "metadata": {},
   "outputs": [],
   "source": [
    "\n",
    "x_h = H.transpose_dot(y)"
   ]
  },
  {
   "cell_type": "code",
   "execution_count": null,
   "metadata": {},
   "outputs": [],
   "source": [
    "log10errx = np.log10(np.abs(x_true - x_h))\n",
    "plt.hist(log10errx, bins=np.linspace(-12,-5.5,21))\n",
    "plt.ylabel('N')\n",
    "plt.xlabel('log 10 error')\n",
    "plt.show()"
   ]
  },
  {
   "cell_type": "markdown",
   "metadata": {},
   "source": [
    "## Playing with iterative solvers."
   ]
  },
  {
   "cell_type": "code",
   "execution_count": null,
   "metadata": {},
   "outputs": [],
   "source": [
    "import celeri\n",
    "# celeri.post_process_estimation(estimation, operators, station, index)\n",
    "celeri.plot_estimation_summary(segment, station, meshes, estimation, lon_range=(225, 250), lat_range=(30, 52), quiver_scale=1e2)"
   ]
  },
  {
   "cell_type": "markdown",
   "metadata": {},
   "source": [
    "**weighting**"
   ]
  },
  {
   "cell_type": "code",
   "execution_count": null,
   "metadata": {},
   "outputs": [],
   "source": [
    "import scipy.sparse\n",
    "import scipy.sparse.linalg\n",
    "\n",
    "W = estimation.weighting_vector\n",
    "X = estimation.operator\n",
    "y = estimation.data_vector\n",
    "Xp = X * np.sqrt(W)[:, None]\n",
    "yp = y * np.sqrt(W)"
   ]
  },
  {
   "cell_type": "markdown",
   "metadata": {},
   "source": [
    "**preconditioning**\n",
    "\n",
    "Scale each column of the data matrix to have a L2 norm of 1."
   ]
  },
  {
   "cell_type": "code",
   "execution_count": null,
   "metadata": {},
   "outputs": [],
   "source": [
    "col_norms = np.linalg.norm(Xp, axis=0)\n",
    "\n",
    "# BJM: Normalize each column by column norms\n",
    "XpP = Xp / col_norms[None, :]"
   ]
  },
  {
   "cell_type": "code",
   "execution_count": null,
   "metadata": {},
   "outputs": [],
   "source": [
    "# BJM: Iterative dense solution\n",
    "lsmr_dense = scipy.sparse.linalg.lsmr(XpP, yp, atol=1e-6, btol=1e-6)\n",
    "\n",
    "# correct the solution for the col_norms preconditioning.\n",
    "lsmr_dense_soln = lsmr_dense[0] / col_norms"
   ]
  },
  {
   "cell_type": "code",
   "execution_count": null,
   "metadata": {},
   "outputs": [],
   "source": [
    "print('exit code: ', lsmr_dense[1])\n",
    "print('n_iterations: ', lsmr_dense[2])\n",
    "print('norm(b - Ax): ', lsmr_dense[3])\n",
    "print('norm(A^H (b - Ax)): ', lsmr_dense[4])\n",
    "print('norm(A): ', lsmr_dense[5])\n",
    "print('cond(A): ', lsmr_dense[6])\n",
    "print('norm(x): ', lsmr_dense[7])"
   ]
  },
  {
   "cell_type": "code",
   "execution_count": null,
   "metadata": {},
   "outputs": [],
   "source": [
    "# BJM: Compare iterative dense solution with direct dense solution\n",
    "plt.figure()\n",
    "plt.plot(estimation.state_vector, \"rx\", label=\"dense\")\n",
    "plt.plot(lsmr_dense_soln, \"b.\", label=\"lsmr\")\n",
    "plt.legend()\n",
    "plt.show()"
   ]
  },
  {
   "cell_type": "code",
   "execution_count": null,
   "metadata": {},
   "outputs": [],
   "source": [
    "abserr = np.abs(lsmr_dense_soln - estimation.state_vector)\n",
    "relerr = abserr / estimation.state_vector\n",
    "plt.figure()\n",
    "plt.title('relative error')\n",
    "plt.hist(np.log10(relerr),bins=50)\n",
    "plt.figure()\n",
    "plt.title('absolute error')\n",
    "plt.hist(np.log10(abserr),bins=50)\n",
    "plt.show()"
   ]
  },
  {
   "cell_type": "markdown",
   "metadata": {},
   "source": [
    "## Combining H-matrices and iterative solvers"
   ]
  },
  {
   "cell_type": "markdown",
   "metadata": {},
   "source": [
    "**first check that the sparse component-ized matrix performs the same matvec as the dense version**"
   ]
  },
  {
   "cell_type": "code",
   "execution_count": null,
   "metadata": {},
   "outputs": [],
   "source": [
    "from scipy.sparse import csr_matrix\n",
    "sparse_block_motion_okada_faults = csr_matrix(operators.rotation_to_velocities[index.station_row_keep_index, :] - operators.rotation_to_slip_rate_to_okada_to_velocities[index.station_row_keep_index, :])\n",
    "sparse_block_motion_constraints = csr_matrix(operators.block_motion_constraints)\n",
    "sparse_block_slip_rate_constraints = csr_matrix(operators.slip_rate_constraints)\n",
    "\n",
    "tde_keep_row_index = celeri.get_keep_index_12(operators.meshes[0].tde_to_velocities.shape[0])\n",
    "tde_keep_col_index = celeri.get_keep_index_12(operators.meshes[0].tde_to_velocities.shape[1])\n",
    "smoothing_keep_index = celeri.get_keep_index_12(operators.meshes[0].smoothing_matrix.shape[0])\n",
    "tde_matrix = operators.meshes[0].tde_to_velocities[tde_keep_row_index, :][:, tde_keep_col_index]\n",
    "sparse_tde_smoothing = csr_matrix(operators.meshes[0].smoothing_matrix[smoothing_keep_index, :][:, smoothing_keep_index])\n",
    "sparse_tde_slip_rate_constraints = csr_matrix(operators.meshes[0].tde_slip_rate_constraints)"
   ]
  },
  {
   "cell_type": "code",
   "execution_count": null,
   "metadata": {},
   "outputs": [],
   "source": [
    "def matvec(v):\n",
    "    \"\"\" BJM: Build matvec (matrix vector product) operator for \n",
    "    scipy.sparse.linalg.LinearOperator.  This returns A* u\n",
    "\n",
    "    BJM: Should we be passing in: W, X, index, etc. or let them be known from the outer scope???\n",
    "    TBT: This will depend on how we integrate this into celeri and which\n",
    "    variable we're talking about. For example, we should stop using X.shape\n",
    "    entirely because that matrix won't exist in a fully sparse/hmatrix\n",
    "    implementation!\n",
    "    One design that I would probably lean towards\n",
    "    would be something like:\n",
    "    def build_sparse_hmatrix_linear_operator(operators,...):\n",
    "        sparse_block_motion_okada_faults = ...\n",
    "        define_other_precomputable_vars_here = ...\n",
    "\n",
    "        def matvec(v):\n",
    "            # use vars from the outer scope\n",
    "        def rmatvec(v):\n",
    "            # use vars from the outer scope\n",
    "\n",
    "        return scipy.sparse.linalg.LinearOperator(X.shape, matvec=matvec, rmatvec=rmatvec)\n",
    "        \n",
    "\n",
    "\n",
    "    Args:\n",
    "        u (nd.array): Candidate state vector\n",
    "\n",
    "    Returns:\n",
    "        out (nd.array): Predicted data vector\n",
    "    \"\"\"\n",
    "\n",
    "    # BJM: Weight the data vector\n",
    "    # TBT: It's important to remember to keep the input and output weighting\n",
    "    # conceptually separate since the \"out * np.sqrt(W)\" will actually change\n",
    "    # the solution to the least squares problem whereas the \"v / col_norms\"\n",
    "    # preconditioning step is a reversible change to the solution (which is the\n",
    "    # point since preconditioning should not change the solution!!)\n",
    "    v_scaled = v / col_norms \n",
    "\n",
    "    # BJM: Make storage for output\n",
    "    out = np.zeros(X.shape[0])\n",
    "\n",
    "    block_rotations = v_scaled[index.start_block_col : index.end_block_col]\n",
    "    # okada\n",
    "    out[\n",
    "        index.start_station_row : index.end_station_row\n",
    "    ] += sparse_block_motion_okada_faults.dot(block_rotations)\n",
    "\n",
    "    # block motion constraints\n",
    "    out[\n",
    "        index.start_block_constraints_row : index.end_block_constraints_row\n",
    "    ] += sparse_block_motion_constraints.dot(block_rotations)\n",
    "\n",
    "    # slip rate constraints\n",
    "    out[\n",
    "        index.start_slip_rate_constraints_row : index.end_slip_rate_constraints_row\n",
    "    ] += sparse_block_slip_rate_constraints.dot(block_rotations)\n",
    "\n",
    "    tde_velocities = v_scaled[index.meshes[0].start_tde_col : index.meshes[0].end_tde_col]\n",
    "\n",
    "    # Insert TDE to velocity matrix\n",
    "    out[index.start_station_row : index.end_station_row] += H.dot(tde_velocities)\n",
    "\n",
    "    # TDE smoothing\n",
    "    out[\n",
    "        index.meshes[0].start_tde_smoothing_row : index.meshes[0].end_tde_smoothing_row\n",
    "    ] += sparse_tde_smoothing.dot(tde_velocities)\n",
    "\n",
    "    # TDE slip rate constraints\n",
    "    out[\n",
    "        index.meshes[0].start_tde_constraint_row :\n",
    "        index.meshes[0].end_tde_constraint_row\n",
    "    ] += sparse_tde_slip_rate_constraints.dot(tde_velocities)\n",
    "\n",
    "    # Weight!\n",
    "    return out * np.sqrt(W)"
   ]
  },
  {
   "cell_type": "code",
   "execution_count": null,
   "metadata": {},
   "outputs": [],
   "source": [
    "# BJM: Compare dense matrix vector with matvec matrix vector product\n",
    "rand_vec = np.random.rand(X.shape[1])\n",
    "y1 = XpP.dot(rand_vec)\n",
    "y2 = matvec(rand_vec)\n",
    "plt.plot(y1, 'r*', label='dense')\n",
    "plt.plot(y2, 'b.', label='sparse')\n",
    "plt.show()"
   ]
  },
  {
   "cell_type": "code",
   "execution_count": null,
   "metadata": {},
   "outputs": [],
   "source": [
    "def rmatvec(u):\n",
    "    \"\"\" BJM: Build rmatvec (matrix vector product) operator for \n",
    "    scipy.sparse.linalg.LinearOperator.  This returns:\n",
    "    Returns A^H * v, where A^H is the conjugate transpose of A\n",
    "    for a candidate state vector, u.\n",
    "\n",
    "    BJM: Should we be passing in: W, X, index, etc. or let them be known from the outer scope???\n",
    "    TBT: See the comment on the same question in matvec.\n",
    "\n",
    "    BJM: What purpose does rmatvec serve in scipy.sparse.linalg.LinearOperator???\n",
    "    TBT: When solving a least squares problem, you need to be able to do\n",
    "    transpose matrix vector products like `A.T.dot(x)`. But, we don't have\n",
    "    access to the full original matrix, so instead we need to use this rmatvec\n",
    "    function!\n",
    "\n",
    "    Args:\n",
    "        u (nd.array): Candidate state vector\n",
    "\n",
    "    Returns:\n",
    "        out (nd.array): Predicted data vector\n",
    "    \"\"\"\n",
    "\n",
    "    # BJM: Weight the data vector\n",
    "    u_weighted = u * np.sqrt(W)\n",
    "\n",
    "    # BJM: Storage for output\n",
    "    out = np.zeros(X.shape[1])\n",
    "\n",
    "    # BJM: Select subset of weighted data for the observed velocities\n",
    "    station_rows = u_weighted[index.start_station_row : index.end_station_row]\n",
    "    block_constraints = u_weighted[\n",
    "        index.start_block_constraints_row : index.end_block_constraints_row\n",
    "    ]\n",
    "\n",
    "    # BJM: Select subset of weighted data for the fault slip rate constraints\n",
    "    slip_rate_constraints = u_weighted[\n",
    "        index.start_slip_rate_constraints_row : index.end_slip_rate_constraints_row\n",
    "    ]\n",
    "\n",
    "    # BJM: Select subset of weighted data for the TDE smoothing\n",
    "    tde_smoothing = u_weighted[\n",
    "        index.meshes[0].start_tde_smoothing_row : index.meshes[0].end_tde_smoothing_row\n",
    "    ]\n",
    "\n",
    "    # BJM: Select subset of weighted data for the TDE slip rate constraints\n",
    "    tde_slip_rate = u_weighted[\n",
    "        index.meshes[0].start_tde_constraint_row :\n",
    "        index.meshes[0].end_tde_constraint_row\n",
    "    ]\n",
    "\n",
    "    # BJM: Okada and block rotation contribution to data vector\n",
    "    out[index.start_block_col : index.end_block_col] += station_rows @ sparse_block_motion_okada_faults\n",
    "\n",
    "    # BJM: Block motion constraints contribution to data vector\n",
    "    out[index.start_block_col : index.end_block_col] += block_constraints @ sparse_block_motion_constraints\n",
    "\n",
    "    # BJM: Fault slip rate constraints contribution to data vector\n",
    "    out[index.start_block_col : index.end_block_col] += slip_rate_constraints @ sparse_block_slip_rate_constraints\n",
    "\n",
    "    # BJM: Hmatrix (TDEs to velocities)\n",
    "    out[index.meshes[0].start_tde_col : index.meshes[0].end_tde_col] += H.transpose_dot(station_rows)\n",
    "\n",
    "    # BJM: TDE smoothing contribution to data vector\n",
    "    out[index.meshes[0].start_tde_col : index.meshes[0].end_tde_col] += tde_smoothing @ sparse_tde_smoothing\n",
    "\n",
    "    # BJM: TDE slip rate constraint contributions to data vector\n",
    "    out[index.meshes[0].start_tde_col : index.meshes[0].end_tde_col] += tde_slip_rate @ sparse_tde_slip_rate_constraints\n",
    "\n",
    "    # Weight!\n",
    "    return out / col_norms"
   ]
  },
  {
   "cell_type": "code",
   "execution_count": null,
   "metadata": {},
   "outputs": [],
   "source": [
    "# BJM: Testing that the rmatvec matrix vector product???\n",
    "# TBT: Yes.\n",
    "rand_vec = np.random.rand(X.shape[0])\n",
    "y1 = rand_vec.dot(XpP)\n",
    "y2 = rmatvec(rand_vec)\n",
    "plt.plot(y1, 'r*', label='dense')\n",
    "plt.plot(y2, 'b.', label='sparse')\n",
    "plt.show()"
   ]
  },
  {
   "cell_type": "markdown",
   "metadata": {},
   "source": [
    "## Solve with H-matrix/sparse!"
   ]
  },
  {
   "cell_type": "code",
   "execution_count": null,
   "metadata": {},
   "outputs": [],
   "source": [
    "# BJM: Create a linear operator the includes the hmatrix vector multiply\n",
    "op = scipy.sparse.linalg.LinearOperator(X.shape, matvec=matvec, rmatvec=rmatvec)"
   ]
  },
  {
   "cell_type": "code",
   "execution_count": null,
   "metadata": {},
   "outputs": [],
   "source": [
    "# BJM: How do \"atol\" and \"btol\" relate to \"tol\" that's passed to \"build_hmatrix_from_mesh_tdes\" above???\n",
    "# TBT: They are unrelated. There are two approximations here:\n",
    "# 1. The H-matrix approximation. This corresponds to the `tol` passed to `build_hmatrix_from_mesh_tdes`.\n",
    "# 2. The iterative linear solver. The tolerances for this are here. I\n",
    "# intentionally used very tight tolerances just to minimize the error coming\n",
    "# from the lsmr solver. Below, I tried change the atol/btol to 1e-6 and the\n",
    "# solution still looks good and runs about 3x faster than using 1e-13.\n",
    "#\n",
    "# You can see the exact meaning of atol and btol in the lsmr docs which I copied\n",
    "# below: If Ax = b seems to be consistent, lsmr terminates when \n",
    "# norm(r) <= atol * norm(A) * norm(x) + btol * norm(b). \n",
    "# Otherwise, lsmr terminates when:\n",
    "# norm(A^H r) <= atol * norm(A) * norm(r).\n",
    "lsmr_sparse = scipy.sparse.linalg.lsmr(op, yp, atol=1e-6, btol=1e-6)\n",
    "\n",
    "# Correct the solution for the col_norms preconditioning.\n",
    "# lsmr_sparse_soln = lsmr_dense[0] / col_norms # TBT Question: Why is lsmr_dense here?\n",
    "lsmr_sparse_soln = lsmr_sparse[0] / col_norms # TBT Question: Is this correct?\n",
    "\n"
   ]
  },
  {
   "cell_type": "code",
   "execution_count": null,
   "metadata": {},
   "outputs": [],
   "source": [
    "print('exit code: ', lsmr_sparse[1])\n",
    "print('n_iterations: ', lsmr_sparse[2])\n",
    "print('norm(b - Ax): ', lsmr_sparse[3])\n",
    "print('norm(A^H (b - Ax)): ', lsmr_sparse[4])\n",
    "print('norm(A): ', lsmr_sparse[5])\n",
    "print('cond(A): ', lsmr_sparse[6])\n",
    "print('norm(x): ', lsmr_sparse[7])"
   ]
  },
  {
   "cell_type": "code",
   "execution_count": null,
   "metadata": {},
   "outputs": [],
   "source": [
    "# BJM: Compare sparse hmatrix and direct block model solutions\n",
    "plt.figure()\n",
    "plt.plot(estimation.state_vector, \"rx\", label=\"dense\")\n",
    "plt.plot(lsmr_sparse_soln, \"b.\", label=\"lsmr\")\n",
    "plt.legend()\n",
    "plt.show()"
   ]
  },
  {
   "cell_type": "code",
   "execution_count": null,
   "metadata": {},
   "outputs": [],
   "source": [
    "# BJM: Compare sparse hmatrix and direct block model solutions\n",
    "abserr = np.abs(lsmr_sparse_soln - estimation.state_vector)\n",
    "relerr = abserr / estimation.state_vector\n",
    "plt.figure()\n",
    "plt.title('relative error')\n",
    "plt.hist(np.log10(relerr),bins=50)\n",
    "plt.figure()\n",
    "plt.title('absolute error')\n",
    "plt.hist(np.log10(abserr),bins=50)\n",
    "plt.show()"
   ]
  },
  {
   "cell_type": "code",
   "execution_count": null,
   "metadata": {},
   "outputs": [],
   "source": [
    "# BJM: Creast copies of state vector and plot block model results\n",
    "orig_state_vector = estimation.state_vector.copy()\n",
    "estimation.state_vector = lsmr_sparse_soln\n",
    "celeri.plot_estimation_summary(segment, station, meshes, estimation, lon_range=(225, 250), lat_range=(30, 52), quiver_scale=1e2)\n",
    "estimation.state_vector = orig_state_vector"
   ]
  },
  {
   "cell_type": "code",
   "execution_count": null,
   "metadata": {},
   "outputs": [],
   "source": []
  }
 ],
 "metadata": {
  "interpreter": {
   "hash": "c278809f12fa6b55bc0152d5c4c82ce1fb4b632d84fb69e4d1080c31a12c13e9"
  },
  "kernelspec": {
   "display_name": "Python 3.10.1 64-bit ('celeri': conda)",
   "language": "python",
   "name": "python3"
  },
  "language_info": {
   "codemirror_mode": {
    "name": "ipython",
    "version": 3
   },
   "file_extension": ".py",
   "mimetype": "text/x-python",
   "name": "python",
   "nbconvert_exporter": "python",
   "pygments_lexer": "ipython3",
   "version": "3.10.0"
  },
  "orig_nbformat": 4
 },
 "nbformat": 4,
 "nbformat_minor": 2
}
