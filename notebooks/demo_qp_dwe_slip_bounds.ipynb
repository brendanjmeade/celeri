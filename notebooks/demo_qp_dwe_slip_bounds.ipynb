{
 "cells": [
  {
   "cell_type": "code",
   "execution_count": 1,
   "metadata": {},
   "outputs": [],
   "source": [
    "%load_ext autoreload\n",
    "%autoreload 2\n",
    "%config InlineBackend.figure_format = \"retina\""
   ]
  },
  {
   "cell_type": "code",
   "execution_count": 2,
   "metadata": {
    "tags": []
   },
   "outputs": [],
   "source": [
    "import addict\n",
    "import numpy as np\n",
    "import matplotlib.pyplot as plt\n",
    "\n",
    "import celeri"
   ]
  },
  {
   "cell_type": "markdown",
   "metadata": {},
   "source": [
    "# Read data and pre-process"
   ]
  },
  {
   "cell_type": "code",
   "execution_count": null,
   "metadata": {
    "tags": []
   },
   "outputs": [],
   "source": [
    "COMMAND_FILE_NAME = \"../data/command/japan_config.json\"\n",
    "command = celeri.get_command(COMMAND_FILE_NAME)\n",
    "celeri.create_output_folder(command)\n",
    "logger = celeri.get_logger(command)\n",
    "segment, block, meshes, station, mogi, sar = celeri.read_data(command)\n",
    "station = celeri.process_station(station, command)\n",
    "segment = celeri.process_segment(segment, command, meshes)\n",
    "sar = celeri.process_sar(sar, command)\n",
    "closure, block = celeri.assign_block_labels(segment, station, block, mogi, sar)\n",
    "assembly = addict.Dict()\n",
    "operators = addict.Dict()\n",
    "operators.meshes = [addict.Dict()] * len(meshes)\n",
    "assembly = celeri.merge_geodetic_data(assembly, station, sar)"
   ]
  },
  {
   "cell_type": "markdown",
   "metadata": {},
   "source": [
    "# Generate all operators, weighting, and data vector for KL+QP problem"
   ]
  },
  {
   "cell_type": "code",
   "execution_count": null,
   "metadata": {},
   "outputs": [],
   "source": [
    "# Get all elastic operators for segments and TDEs\n",
    "celeri.get_elastic_operators(operators, meshes, segment, station, command)\n",
    "\n",
    "# Get TDE smoothing operators\n",
    "celeri.get_all_mesh_smoothing_matrices(meshes, operators)\n",
    "\n",
    "# Block rotation to velocity operator\n",
    "operators.rotation_to_velocities = celeri.get_rotation_to_velocities_partials(\n",
    "    station, len(block)\n",
    ")\n",
    "\n",
    "# Soft block motion constraints\n",
    "assembly, operators.block_motion_constraints = celeri.get_block_motion_constraints(\n",
    "    assembly, block, command\n",
    ")\n",
    "\n",
    "# Soft slip rate constraints\n",
    "assembly, operators.slip_rate_constraints = celeri.get_slip_rate_constraints(\n",
    "    assembly, segment, block, command\n",
    ")\n",
    "\n",
    "# Rotation vectors to slip rate operator\n",
    "operators.rotation_to_slip_rate = celeri.get_rotation_to_slip_rate_partials(\n",
    "    segment, block\n",
    ")\n",
    "\n",
    "# Internal block strain rate operator\n",
    "(\n",
    "    operators.block_strain_rate_to_velocities,\n",
    "    strain_rate_block_index,\n",
    ") = celeri.get_block_strain_rate_to_velocities_partials(block, station, segment)\n",
    "\n",
    "# Mogi source operator\n",
    "operators.mogi_to_velocities = celeri.get_mogi_to_velocities_partials(\n",
    "    mogi, station, command\n",
    ")\n",
    "\n",
    "# Soft TDE boundary condition constraints\n",
    "celeri.get_tde_slip_rate_constraints(meshes, operators)\n",
    "\n",
    "# Get index\n",
    "index = celeri.get_index_eigen(assembly, segment, station, block, meshes, mogi)\n",
    "\n",
    "# Get data vector for KL problem\n",
    "data_vector_eigen = celeri.get_data_vector_eigen(meshes, assembly, index)\n",
    "\n",
    "# Get data vector for KL problem\n",
    "weighting_vector_eigen = celeri.get_weighting_vector_eigen(\n",
    "    command, station, meshes, index\n",
    ")\n",
    "\n",
    "# Get KL modes for each mesh\n",
    "celeri.get_eigenvectors_to_tde_slip(operators, meshes)\n",
    "\n",
    "# Get full operator including all blocks, KL modes, strain blocks, and mogis\n",
    "operators.eigen = celeri.get_full_dense_operator_eigen(operators, meshes, index)"
   ]
  },
  {
   "cell_type": "markdown",
   "metadata": {},
   "source": [
    "# Solve bounded KL+QP problem"
   ]
  },
  {
   "cell_type": "code",
   "execution_count": null,
   "metadata": {},
   "outputs": [],
   "source": [
    "# Get QP bounds as inequality constraints\n",
    "qp_inequality_constraints_matrix, qp_inequality_constraints_data_vector = (\n",
    "    celeri.get_qp_all_inequality_operator_and_data_vector(\n",
    "        index, meshes, operators, segment, block\n",
    "    )\n",
    ")\n",
    "\n",
    "# QP solve\n",
    "opts = {\"show_progress\": True}\n",
    "solution_qp = celeri.lsqlin_qp(\n",
    "    operators.eigen * np.sqrt(weighting_vector_eigen[:, None]),\n",
    "    data_vector_eigen * np.sqrt(weighting_vector_eigen),\n",
    "    0,\n",
    "    qp_inequality_constraints_matrix,  # Inequality matrix\n",
    "    qp_inequality_constraints_data_vector,  # Inequality data vector\n",
    "    None,\n",
    "    None,\n",
    "    None,\n",
    "    None,\n",
    "    None,\n",
    "    opts,\n",
    ")\n",
    "\n",
    "\n",
    "# Create estimation data structure and calculate derived quantities\n",
    "estimation_qp = addict.Dict()\n",
    "estimation_qp.state_vector = np.array(solution_qp[\"x\"]).flatten()\n",
    "estimation_qp.operator = operators.eigen\n",
    "celeri.post_process_estimation_eigen(estimation_qp, operators, station, index)\n",
    "celeri.write_output(command, estimation_qp, station, segment, block, meshes)"
   ]
  },
  {
   "cell_type": "markdown",
   "metadata": {},
   "source": [
    "# Plot KL+QP estimation"
   ]
  },
  {
   "cell_type": "code",
   "execution_count": null,
   "metadata": {},
   "outputs": [],
   "source": [
    "celeri.plot_estimation_summary(\n",
    "    command,\n",
    "    segment,\n",
    "    station,\n",
    "    meshes,\n",
    "    estimation_qp,\n",
    "    lon_range=command.lon_range,\n",
    "    lat_range=command.lat_range,\n",
    "    quiver_scale=command.quiver_scale,\n",
    ")"
   ]
  }
 ],
 "metadata": {
  "kernelspec": {
   "display_name": "celeri",
   "language": "python",
   "name": "python3"
  },
  "language_info": {
   "codemirror_mode": {
    "name": "ipython",
    "version": 3
   },
   "file_extension": ".py",
   "mimetype": "text/x-python",
   "name": "python",
   "nbconvert_exporter": "python",
   "pygments_lexer": "ipython3",
   "version": "3.10.9"
  },
  "vscode": {
   "interpreter": {
    "hash": "4e02521ee8166e85f0cdf9248b501b87197c4fbf1c25b3c3121662d555f974cc"
   }
  },
  "widgets": {
   "application/vnd.jupyter.widget-state+json": {
    "state": {
     "4d250c5d35aa493295ca814fb3eaa1ee": {
      "model_module": "@jupyter-widgets/base",
      "model_module_version": "1.2.0",
      "model_name": "LayoutModel",
      "state": {}
     },
     "6faf75ca5f3b41388f284e98ec2cf803": {
      "model_module": "jupyter-matplotlib",
      "model_module_version": "^0.9.0",
      "model_name": "ToolbarModel",
      "state": {
       "layout": "IPY_MODEL_9b061db2dc65459ca586b9b9f73c2362",
       "toolitems": [
        [
         "Home",
         "Reset original view",
         "home",
         "home"
        ],
        [
         "Back",
         "Back to previous view",
         "arrow-left",
         "back"
        ],
        [
         "Forward",
         "Forward to next view",
         "arrow-right",
         "forward"
        ],
        [
         "Pan",
         "Left button pans, Right button zooms\nx/y fixes axis, CTRL fixes aspect",
         "arrows",
         "pan"
        ],
        [
         "Zoom",
         "Zoom to rectangle\nx/y fixes axis, CTRL fixes aspect",
         "square-o",
         "zoom"
        ],
        [
         "Download",
         "Download plot",
         "floppy-o",
         "save_figure"
        ]
       ]
      }
     },
     "9b061db2dc65459ca586b9b9f73c2362": {
      "model_module": "@jupyter-widgets/base",
      "model_module_version": "1.2.0",
      "model_name": "LayoutModel",
      "state": {}
     },
     "c25a38234e8f4e818670d9767f95a430": {
      "model_module": "jupyter-matplotlib",
      "model_module_version": "^0.9.0",
      "model_name": "MPLCanvasModel",
      "state": {
       "_cursor": "default",
       "_figure_label": "Figure 1",
       "_height": 708,
       "_width": 1746,
       "layout": "IPY_MODEL_4d250c5d35aa493295ca814fb3eaa1ee",
       "toolbar": "IPY_MODEL_6faf75ca5f3b41388f284e98ec2cf803",
       "toolbar_position": "left"
      }
     }
    },
    "version_major": 2,
    "version_minor": 0
   }
  }
 },
 "nbformat": 4,
 "nbformat_minor": 4
}
