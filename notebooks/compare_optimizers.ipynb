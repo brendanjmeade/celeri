{
 "cells": [
  {
   "cell_type": "code",
   "execution_count": null,
   "id": "67c4f5e7-598b-424c-be22-566a3341abb4",
   "metadata": {},
   "outputs": [],
   "source": [
    "%config InlineBackend.figure_format = \"retina\"\n",
    "# Relevant for the linear solver faer in clarabel:\n",
    "%env RAYON_NUM_THREADS=4\n",
    "%env OMP_NUM_THREADS=8"
   ]
  },
  {
   "cell_type": "code",
   "execution_count": null,
   "id": "807b0e85-18be-48e7-be22-2f698614b454",
   "metadata": {},
   "outputs": [],
   "source": [
    "import sys\n",
    "\n",
    "import numpy as np\n",
    "import matplotlib.pyplot as plt\n",
    "from loguru import logger\n",
    "\n",
    "import celeri\n",
    "import celeri.optimize\n",
    "\n",
    "logger.disable(\"celeri\")\n",
    "\n",
    "\n",
    "config_files = {\n",
    "    \"japan\": \"../data/config/japan_config_cmi_coupling.json\",\n",
    "    \"north_america\": \"../data/config/western_north_america_config_coupling.json\",\n",
    "}"
   ]
  },
  {
   "cell_type": "markdown",
   "id": "56c5aea2-314d-4656-bfc9-e09e096a0297",
   "metadata": {},
   "source": [
    "## Japan"
   ]
  },
  {
   "cell_type": "code",
   "execution_count": null,
   "id": "f72dd8cf-c3e5-4936-a652-9174f0728b6b",
   "metadata": {},
   "outputs": [],
   "source": [
    "%%time\n",
    "model = celeri.build_model(config_files[\"japan\"])\n",
    "operators = celeri.build_operators(model, eigen=True)"
   ]
  },
  {
   "cell_type": "code",
   "execution_count": null,
   "id": "1d729bb0-c14e-4849-9dea-fa5953d6dd30",
   "metadata": {},
   "outputs": [],
   "source": [
    "%%time\n",
    "solve_kwargs = dict(\n",
    "    solver=\"CLARABEL\",\n",
    "    equilibrate_enable=False,\n",
    "    direct_solve_method=\"faer\",\n",
    "    ignore_dpp=False,\n",
    "    verbose=False,\n",
    ")\n",
    "\n",
    "trace_japan = celeri.optimize.minimize(\n",
    "    model,\n",
    "    verbose=True,\n",
    "    velocity_upper=110.0,\n",
    "    velocity_lower=-110.0,\n",
    "    solve_kwargs=solve_kwargs,\n",
    "    default_constraints=True,\n",
    "    objective=\"qr_sum_of_squares\",\n",
    "    operators=operators,\n",
    ")"
   ]
  },
  {
   "cell_type": "code",
   "execution_count": null,
   "id": "435b85a8-b0a9-48d4-b80d-dc4a4d8da0b4",
   "metadata": {},
   "outputs": [],
   "source": [
    "%%time\n",
    "estimation_qp = celeri.solve_sqp(model, operators)"
   ]
  },
  {
   "cell_type": "code",
   "execution_count": null,
   "id": "8543d170-1fa5-45c0-b624-07c35def5053",
   "metadata": {},
   "outputs": [],
   "source": [
    "trace_japan.minimizer.plot_estimation_summary()"
   ]
  },
  {
   "cell_type": "code",
   "execution_count": null,
   "id": "c720ea7a-ba03-496f-bfb3-b69209cdee09",
   "metadata": {},
   "outputs": [],
   "source": [
    "plt.plot(trace_japan.out_of_bounds)\n",
    "plt.xlabel(\"iteration\")\n",
    "plt.ylabel(\"out of bounds\");"
   ]
  },
  {
   "cell_type": "code",
   "execution_count": null,
   "id": "860a484a-1972-4751-bc5a-55cb58fc893e",
   "metadata": {},
   "outputs": [],
   "source": [
    "celeri.plot_iterative_convergence(estimation_qp)"
   ]
  },
  {
   "cell_type": "code",
   "execution_count": null,
   "id": "90151e66-c82d-48ef-bc6d-457ca23a0016",
   "metadata": {},
   "outputs": [],
   "source": [
    "celeri.plot_coupling(estimation_qp, mesh_idx=0)"
   ]
  },
  {
   "cell_type": "code",
   "execution_count": null,
   "id": "6aa394a1-eec9-45f1-8096-acab3327c676",
   "metadata": {},
   "outputs": [],
   "source": [
    "celeri.plot_coupling(estimation_qp, mesh_idx=1)"
   ]
  },
  {
   "cell_type": "code",
   "execution_count": null,
   "id": "75956fec-9071-4024-98b7-45012deba414",
   "metadata": {},
   "outputs": [],
   "source": [
    "celeri.plot_coupling(estimation_qp, mesh_idx=2)"
   ]
  },
  {
   "cell_type": "code",
   "execution_count": null,
   "id": "9373ce52-ae72-4d18-9062-4785b16484b8",
   "metadata": {},
   "outputs": [],
   "source": [
    "celeri.plot_coupling_evolution(estimation_qp, mesh_idx=0)"
   ]
  },
  {
   "cell_type": "code",
   "execution_count": null,
   "id": "52379ea6-0134-4e79-a41f-0f9c61e61bed",
   "metadata": {},
   "outputs": [],
   "source": [
    "celeri.plot_estimation_summary(model, estimation_qp)"
   ]
  },
  {
   "cell_type": "markdown",
   "id": "2ee3bd68-9bd2-4c56-980c-a81e2cedb5e3",
   "metadata": {},
   "source": [
    "## North America"
   ]
  },
  {
   "cell_type": "code",
   "execution_count": null,
   "id": "ce10fcde-3372-4074-a6a6-f895acc7faea",
   "metadata": {},
   "outputs": [],
   "source": [
    "%%time\n",
    "model = celeri.build_model(config_files[\"north_america\"])\n",
    "operators = celeri.build_operators(model, eigen=True)"
   ]
  },
  {
   "cell_type": "code",
   "execution_count": null,
   "id": "582d07b6-d4b4-4bf5-8300-385bea205d26",
   "metadata": {},
   "outputs": [],
   "source": [
    "%%time\n",
    "solve_kwargs = dict(\n",
    "    solver=\"CLARABEL\",\n",
    "    equilibrate_enable=False,\n",
    "    direct_solve_method=\"faer\",\n",
    "    ignore_dpp=False,\n",
    "    verbose=False,\n",
    ")\n",
    "\n",
    "trace_north_america = celeri.optimize.minimize(\n",
    "    model,\n",
    "    verbose=True,\n",
    "    velocity_upper=110.0,\n",
    "    velocity_lower=-110.0,\n",
    "    solve_kwargs=solve_kwargs,\n",
    "    default_constraints=True,\n",
    "    objective=\"qr_sum_of_squares\",\n",
    "    operators=operators,\n",
    ")"
   ]
  },
  {
   "cell_type": "code",
   "execution_count": null,
   "id": "063b7a76-da3a-4555-b1ca-6945663c474c",
   "metadata": {},
   "outputs": [],
   "source": [
    "%%time\n",
    "estimation_qp = celeri.solve_sqp(\n",
    "    model, operators, max_iter=500, percentage_satisfied_target=99\n",
    ")"
   ]
  },
  {
   "cell_type": "code",
   "execution_count": null,
   "id": "0817d87d-28e7-4bd8-862a-90625eccf08d",
   "metadata": {},
   "outputs": [],
   "source": [
    "trace_north_america.minimizer.plot_estimation_summary()"
   ]
  },
  {
   "cell_type": "code",
   "execution_count": null,
   "id": "d145e5c7-0df7-4927-84e5-2b7d35839e29",
   "metadata": {},
   "outputs": [],
   "source": [
    "celeri.plot_estimation_summary(model, estimation_qp)"
   ]
  },
  {
   "cell_type": "code",
   "execution_count": null,
   "id": "18737a0f-982b-46b9-8112-0d3f6013b6fe",
   "metadata": {},
   "outputs": [],
   "source": [
    "celeri.plot_iterative_convergence(estimation_qp)"
   ]
  }
 ],
 "metadata": {
  "kernelspec": {
   "display_name": "Python (Pixi)",
   "language": "python",
   "name": "pixi-kernel-python3"
  },
  "language_info": {
   "codemirror_mode": {
    "name": "ipython",
    "version": 3
   },
   "file_extension": ".py",
   "mimetype": "text/x-python",
   "name": "python",
   "nbconvert_exporter": "python",
   "pygments_lexer": "ipython3",
   "version": "3.12.11"
  }
 },
 "nbformat": 4,
 "nbformat_minor": 5
}
