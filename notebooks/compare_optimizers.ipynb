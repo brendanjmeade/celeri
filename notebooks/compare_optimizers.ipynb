{
 "cells": [
  {
   "cell_type": "code",
   "execution_count": null,
   "id": "67c4f5e7-598b-424c-be22-566a3341abb4",
   "metadata": {},
   "outputs": [],
   "source": [
    "%config InlineBackend.figure_format = \"retina\"\n",
    "# Relevant for the linear solver faer in clarabel:\n",
    "%env RAYON_NUM_THREADS=4"
   ]
  },
  {
   "cell_type": "code",
   "execution_count": null,
   "id": "807b0e85-18be-48e7-be22-2f698614b454",
   "metadata": {},
   "outputs": [],
   "source": [
    "import sys\n",
    "\n",
    "import numpy as np\n",
    "import matplotlib.pyplot as plt\n",
    "from loguru import logger\n",
    "\n",
    "import celeri\n",
    "import celeri.optimize\n",
    "\n",
    "logger.disable(\"celeri\")\n",
    "\n",
    "\n",
    "config_files = {\n",
    "    \"japan\": \"../data/config/japan_config_cmi_coupling.json\",\n",
    "    \"north_america\": \"../data/config/western_north_america_config_coupling.json\",\n",
    "}"
   ]
  },
  {
   "cell_type": "markdown",
   "id": "56c5aea2-314d-4656-bfc9-e09e096a0297",
   "metadata": {},
   "source": [
    "## Japan"
   ]
  },
  {
   "cell_type": "code",
   "execution_count": null,
   "id": "f72dd8cf-c3e5-4936-a652-9174f0728b6b",
   "metadata": {},
   "outputs": [],
   "source": [
    "%%time\n",
    "model = celeri.build_model(config_files[\"japan\"])\n",
    "operators = celeri.build_operators(model, eigen=True)"
   ]
  },
  {
   "cell_type": "code",
   "execution_count": null,
   "id": "1d729bb0-c14e-4849-9dea-fa5953d6dd30",
   "metadata": {},
   "outputs": [],
   "source": [
    "%%time\n",
    "solve_kwargs = dict(\n",
    "    solver=\"CLARABEL\",\n",
    "    equilibrate_enable=False,\n",
    "    direct_solve_method=\"faer\",\n",
    "    ignore_dpp=False,\n",
    "    verbose=False,\n",
    ")\n",
    "\n",
    "trace_japan = celeri.optimize.minimize(\n",
    "    model,\n",
    "    verbose=True,\n",
    "    velocity_upper=110.0,\n",
    "    velocity_lower=-110.0,\n",
    "    solve_kwargs=solve_kwargs,\n",
    "    default_constraints=True,\n",
    "    objective=\"qr_sum_of_squares\",\n",
    "    operators=operators,\n",
    ")"
   ]
  },
  {
   "cell_type": "code",
   "execution_count": null,
   "id": "435b85a8-b0a9-48d4-b80d-dc4a4d8da0b4",
   "metadata": {},
   "outputs": [],
   "source": [
    "%%time\n",
    "estimation_qp = celeri.solve_sqp(model, operators)"
   ]
  },
  {
   "cell_type": "code",
   "execution_count": null,
   "id": "8543d170-1fa5-45c0-b624-07c35def5053",
   "metadata": {},
   "outputs": [],
   "source": [
    "trace_japan.minimizer.plot_estimation_summary()"
   ]
  },
  {
   "cell_type": "code",
   "execution_count": null,
   "id": "a5887b96-fd63-4913-bf6f-4b8865f6800d",
   "metadata": {},
   "outputs": [],
   "source": [
    "plt.plot(estimation_qp.n_out_of_bounds_trace.T)"
   ]
  },
  {
   "cell_type": "code",
   "execution_count": null,
   "id": "52379ea6-0134-4e79-a41f-0f9c61e61bed",
   "metadata": {},
   "outputs": [],
   "source": [
    "celeri.plot_estimation_summary(model, estimation_qp)"
   ]
  },
  {
   "cell_type": "markdown",
   "id": "2ee3bd68-9bd2-4c56-980c-a81e2cedb5e3",
   "metadata": {},
   "source": [
    "## North America"
   ]
  },
  {
   "cell_type": "code",
   "execution_count": null,
   "id": "ce10fcde-3372-4074-a6a6-f895acc7faea",
   "metadata": {},
   "outputs": [],
   "source": [
    "%%time\n",
    "model = celeri.build_model(config_files[\"north_america\"])\n",
    "operators = celeri.build_operators(model, eigen=True)"
   ]
  },
  {
   "cell_type": "code",
   "execution_count": null,
   "id": "582d07b6-d4b4-4bf5-8300-385bea205d26",
   "metadata": {},
   "outputs": [],
   "source": [
    "%%time\n",
    "solve_kwargs = dict(\n",
    "    solver=\"CLARABEL\",\n",
    "    equilibrate_enable=False,\n",
    "    direct_solve_method=\"faer\",\n",
    "    ignore_dpp=False,\n",
    "    verbose=False,\n",
    ")\n",
    "\n",
    "trace_north_america = celeri.optimize.minimize(\n",
    "    model,\n",
    "    verbose=True,\n",
    "    velocity_upper=110.0,\n",
    "    velocity_lower=-110.0,\n",
    "    solve_kwargs=solve_kwargs,\n",
    "    default_constraints=True,\n",
    "    objective=\"qr_sum_of_squares\",\n",
    "    operators=operators,\n",
    ")"
   ]
  },
  {
   "cell_type": "code",
   "execution_count": null,
   "id": "063b7a76-da3a-4555-b1ca-6945663c474c",
   "metadata": {},
   "outputs": [],
   "source": [
    "%%time\n",
    "estimation_qp = solve_orig(model, operators)"
   ]
  },
  {
   "cell_type": "code",
   "execution_count": null,
   "id": "0817d87d-28e7-4bd8-862a-90625eccf08d",
   "metadata": {},
   "outputs": [],
   "source": [
    "trace_north_america.minimizer.plot_estimation_summary()"
   ]
  },
  {
   "cell_type": "code",
   "execution_count": null,
   "id": "d145e5c7-0df7-4927-84e5-2b7d35839e29",
   "metadata": {},
   "outputs": [],
   "source": [
    "celeri.plot_estimation_summary(model, estimation_qp)"
   ]
  },
  {
   "cell_type": "code",
   "execution_count": null,
   "id": "5599305f-ada4-43ac-9895-28c5787449db",
   "metadata": {},
   "outputs": [],
   "source": [
    "plt.plot(estimation_qp.n_out_of_bounds_trace.T)"
   ]
  }
 ],
 "metadata": {
  "kernelspec": {
   "display_name": "Python (Pixi)",
   "language": "python",
   "name": "pixi-kernel-python3"
  },
  "language_info": {
   "codemirror_mode": {
    "name": "ipython",
    "version": 3
   },
   "file_extension": ".py",
   "mimetype": "text/x-python",
   "name": "python",
   "nbconvert_exporter": "python",
   "pygments_lexer": "ipython3",
   "version": "3.12.10"
  }
 },
 "nbformat": 4,
 "nbformat_minor": 5
}
