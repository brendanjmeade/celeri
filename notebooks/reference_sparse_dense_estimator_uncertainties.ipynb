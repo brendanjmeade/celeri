{
 "cells": [
  {
   "cell_type": "markdown",
   "metadata": {},
   "source": [
    "# Uncertainty experiments\n",
    "Notes:\n",
    "- lsqr can return a variance estimate\n",
    "- lsmr does not return a variance estimate\n",
    "- lsmr is twice as fast as lsqr\n",
    "- Currenly lsqr and dense covariance matrix uncertainty estimates do not agree for the western north America block model problem\n"
   ]
  },
  {
   "cell_type": "markdown",
   "metadata": {},
   "source": [
    "# Test uncertainty estimation with small overdetermined matrix"
   ]
  },
  {
   "cell_type": "code",
   "execution_count": 1,
   "metadata": {},
   "outputs": [
    {
     "name": "stdout",
     "output_type": "stream",
     "text": [
      "true solution:  [1.         3.14159265 2.71828183]\n",
      "Direct estimation\n",
      "     solution:  [1.         3.14159265 2.71828183]\n",
      "        sigma:  [0.00555754 0.01118879 0.02126697]\n",
      "LSQR estimation\n",
      "     solution:  [1.         3.14159265 2.71828183]\n",
      "        sigma:  [0.00555754 0.01118879 0.02126697]\n"
     ]
    }
   ],
   "source": [
    "import numpy as np\n",
    "import matplotlib.pyplot as plt\n",
    "import scipy.sparse\n",
    "import scipy.sparse.linalg\n",
    "\n",
    "\n",
    "# Linear model\n",
    "A = np.array([[1, 10, 9], [13, 2, 7], [5, 9, 1], [11, 4, 3],])\n",
    "x = np.array([1, np.pi, np.e]) # True state vector\n",
    "b = A @ x # Observation vector\n",
    "print(\"true solution: \", x)\n",
    "\n",
    "# Estimate with dense least squares\n",
    "covariance_matrix = np.linalg.inv(A.T @ A)\n",
    "direct_dense_soln = covariance_matrix @ A.T @ b\n",
    "direct_dense_sigma = np.diag(covariance_matrix)\n",
    "print(\"Direct estimation\")\n",
    "print(\"     solution: \", direct_dense_soln)\n",
    "print(\"        sigma: \", direct_dense_sigma)\n",
    "\n",
    "# Estimate with LSQR dense iterative\n",
    "lsqr_dense = scipy.sparse.linalg.lsqr(A, b, atol=1e-6, btol=1e-6, calc_var=True)\n",
    "lsqr_dense_soln = lsqr_dense[0]\n",
    "lsqr_dense_sigma = lsqr_dense[9]\n",
    "print(\"LSQR estimation\")\n",
    "print(\"     solution: \", lsqr_dense_soln)\n",
    "print(\"        sigma: \", lsqr_dense_sigma)"
   ]
  },
  {
   "cell_type": "code",
   "execution_count": null,
   "metadata": {},
   "outputs": [],
   "source": []
  }
 ],
 "metadata": {
  "interpreter": {
   "hash": "c278809f12fa6b55bc0152d5c4c82ce1fb4b632d84fb69e4d1080c31a12c13e9"
  },
  "kernelspec": {
   "display_name": "Python 3.10.1 64-bit ('celeri': conda)",
   "language": "python",
   "name": "python3"
  },
  "language_info": {
   "codemirror_mode": {
    "name": "ipython",
    "version": 3
   },
   "file_extension": ".py",
   "mimetype": "text/x-python",
   "name": "python",
   "nbconvert_exporter": "python",
   "pygments_lexer": "ipython3",
   "version": "3.10.0"
  },
  "orig_nbformat": 4
 },
 "nbformat": 4,
 "nbformat_minor": 2
}
