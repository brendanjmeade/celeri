{
 "cells": [
  {
   "cell_type": "markdown",
   "metadata": {},
   "source": [
    "# The structure of the linear operator for the block model problem in `celeri`\n",
    "\n",
    "$$\n",
    "\\begin{bmatrix}\n",
    "    \\mathbf{v} \\\\\n",
    "    \\boldsymbol{\\omega}_\\mathrm{c} \\\\\n",
    "    \\mathbf{s}_\\mathrm{c} \\\\\n",
    "    \\mathbf{0} \\\\\n",
    "    \\mathbf{t}_\\mathrm{c}(\\mathrm{m}_1) \\\\\n",
    "    \\vdots \\\\\n",
    "    \\mathbf{0} \\\\\n",
    "    \\mathbf{t}_\\mathrm{c}(\\mathrm{m}_n)\n",
    "\\end{bmatrix}\n",
    "=\n",
    "\\begin{bmatrix}\n",
    "    \\mathbf{R}            & \\mathbf{T}(\\mathrm{m}_1) & \\cdots & \\mathbf{T}(\\mathrm{m}_n) & \\mathbf{E} & \\mathbf{M} \\\\\n",
    "    \\mathbf{I}            & \\mathbf{0}               & \\cdots & \\mathbf{0}               & \\mathbf{0} & \\mathbf{0} \\\\\n",
    "    \\mathbf{R}_\\mathrm{s} & \\mathbf{0}               & \\cdots & \\mathbf{0}               & \\mathbf{0} & \\mathbf{0} \\\\\n",
    "    \\mathbf{0}            & \\mathbf{S}(\\mathrm{m}_1) & \\cdots & \\mathbf{0}               & \\mathbf{0} & \\mathbf{0} \\\\\n",
    "    \\mathbf{0}            & \\mathbf{I}               & \\cdots & \\mathbf{0}               & \\mathbf{0} & \\mathbf{0} \\\\\n",
    "    \\vdots                & \\vdots                   & \\ddots & \\vdots                   & \\vdots     & \\vdots \\\\\n",
    "    \\mathbf{0}            & \\mathbf{0}               & \\cdots & \\mathbf{S}(\\mathrm{m}_n) & \\mathbf{0} & \\mathbf{0} \\\\\n",
    "    \\mathbf{0}            & \\mathbf{0}               & \\cdots & \\mathbf{I}               & \\mathbf{0} & \\mathbf{0}\n",
    "\\end{bmatrix}\n",
    "\\begin{bmatrix}\n",
    "    \\boldsymbol{\\omega} \\\\\n",
    "    \\mathbf{t}(\\mathrm{m}_1) \\\\\n",
    "    \\vdots \\\\\n",
    "    \\mathbf{t}(\\mathrm{m}_n) \\\\\n",
    "    \\boldsymbol{\\epsilon} \\\\\n",
    "    \\mathbf{m}\n",
    "\\end{bmatrix}\n",
    "$$\n",
    "\n",
    "\n",
    "### General\n",
    "| symbol         | meaning         |\n",
    "| -------------- | -               |\n",
    "| $\\mathrm{m}_1$ | mesh $1$        |\n",
    "| $\\mathrm{m}_n$ | mesh $n$        |\n",
    "| $\\mathbf{0}$   | vector of zeros |\n",
    "| $\\mathbf{I}$   | identity matrix |\n",
    "\n",
    "\n",
    "\n",
    "### Data vector\n",
    "| symbol                                | meaning | `celeri` representation |\n",
    "| ------------------------------------- | - | - |\n",
    "| $\\mathbf{v}$                          | observed velocities |  |\n",
    "| $\\boldsymbol{\\omega}_\\mathrm{c}$      | block rotation rate constraints |  |\n",
    "| $\\mathbf{s}_\\mathrm{c}$               | slip rate constraints |  |\n",
    "| $\\mathbf{t}_\\mathrm{c}(\\mathrm{m}_1)$ | TDE slip rate constraints on mesh $1$ |  |\n",
    "| $\\mathbf{t}_\\mathrm{c}(\\mathrm{m}_n)$ | TDE slip rate constraints on mesh $n$ |  |\n",
    "\n",
    "\n",
    "### Linear operator\n",
    "| symbol                     | meaning                                      | `celeri` representation |\n",
    "| -------------------------- | -------------------------------------------- | - |\n",
    "| $\\mathbf{R}$               | block rotation vectors to velocities         |  |\n",
    "| $\\mathbf{R}_\\mathrm{s}$    | block rotation vectors to fault slip rates   |  |\n",
    "| $\\mathbf{T}(\\mathrm{m}_1)$ | TDE (from mesh $1$) to velocities            |  |\n",
    "| $\\mathbf{S}(\\mathrm{m}_1)$ | Smoothing matrix for mesh $1$                |  |\n",
    "| $\\mathbf{T}(\\mathrm{m}_n)$ | TDE (from mesh $n$) to velocities            |  |\n",
    "| $\\mathbf{S}(\\mathrm{m}_n)$ | Smoothing matrix for mesh $n$                |  |\n",
    "| $\\mathbf{E}$               | Homogeneous block strain rates to velocities |  |\n",
    "| $\\mathbf{M}$               | Mogi sources to velocities                   |  |\n",
    "\n",
    "\n",
    "### State vector\n",
    "| symbol                     | meaning                               | `celeri` representation |\n",
    "| -------------------------- | ------------------------------------- | - |\n",
    "| $\\boldsymbol{\\omega}$      | estimated block rotation rates        |  |\n",
    "| $\\mathbf{t}(\\mathrm{m}_1)$ | estimated TDE slip rates on mesh $1$  |  |\n",
    "| $\\mathbf{t}(\\mathrm{m}_n)$ | estimated TDE slip rates on mesh $n$  |  |\n",
    "| $\\boldsymbol{\\epsilon}$    | estimated internal block strain rates |  |\n",
    "| $\\mathbf{m}$               | estimate Mogi source magnitudes       |  |"
   ]
  },
  {
   "cell_type": "markdown",
   "metadata": {},
   "source": [
    "# The structure of the linear operator for the block model problem in `celeri`,\n",
    "\n",
    "$$\n",
    "\\begin{bmatrix} \n",
    "    \\mathbf{v} \\\\\n",
    "    \\boldsymbol{\\omega}_\\mathrm{c} \\\\\n",
    "    \\mathbf{s}_\\mathrm{c} \\\\ \n",
    "    \\mathbf{0} \\\\ \n",
    "    \\mathbf{t}_\\mathrm{c}(\\mathrm{m}_1) \\\\ \n",
    "    \\vdots \\\\ \n",
    "    \\mathbf{0} \\\\ \n",
    "    \\mathbf{t}_\\mathrm{c}(\\mathrm{m}_n) \n",
    "\\end{bmatrix} \n",
    "=\n",
    "\\begin{bmatrix} \n",
    "    \\mathbf{R}            & \\mathbf{T}(\\mathrm{m}_1) & \\cdots & \\mathbf{T}(\\mathrm{m}_n) & \\mathbf{E} & \\mathbf{M} \\\\ \n",
    "    \\mathbf{I}            & \\mathbf{0}               & \\cdots & \\mathbf{0}               & \\mathbf{0} & \\mathbf{0} \\\\ \n",
    "    \\mathbf{R}_\\mathrm{s} & \\mathbf{0}               & \\cdots & \\mathbf{0}               & \\mathbf{0} & \\mathbf{0} \\\\ \n",
    "    \\mathbf{0}            & \\mathbf{S}(\\mathrm{m}_1) & \\cdots & \\mathbf{0}               & \\mathbf{0} & \\mathbf{0} \\\\ \n",
    "    \\mathbf{0}            & \\mathbf{I}               & \\cdots & \\mathbf{0}               & \\mathbf{0} & \\mathbf{0} \\\\ \n",
    "    \\vdots                & \\vdots                   & \\ddots & \\vdots                   & \\vdots     & \\vdots \\\\ \n",
    "    \\mathbf{0}            & \\mathbf{0}               & \\cdots & \\mathbf{S}(\\mathrm{m}_n) & \\mathbf{0} & \\mathbf{0} \\\\ \n",
    "    \\mathbf{0}            & \\mathbf{0}               & \\cdots & \\mathbf{I}               & \\mathbf{0} & \\mathbf{0} \n",
    "\\end{bmatrix} \n",
    "\\begin{bmatrix} \n",
    "    \\boldsymbol{\\omega} \\\\ \n",
    "    \\mathbf{t}(\\mathrm{m}_1) \\\\ \n",
    "    \\vdots \\\\ \n",
    "    \\mathbf{t}(\\mathrm{m}_n) \\\\ \n",
    "    \\boldsymbol{\\epsilon} \\\\ \n",
    "    \\mathbf{m} \n",
    "\\end{bmatrix}\n",
    "$$"
   ]
  }
 ],
 "metadata": {
  "interpreter": {
   "hash": "b49ecae73d9755d1e6525bca8f2b993ba748c0e2e7c79677d2e15f06ac3538b9"
  },
  "kernelspec": {
   "display_name": "Python 3 (ipykernel)",
   "language": "python",
   "name": "python3"
  },
  "language_info": {
   "codemirror_mode": {
    "name": "ipython",
    "version": 3
   },
   "file_extension": ".py",
   "mimetype": "text/x-python",
   "name": "python",
   "nbconvert_exporter": "python",
   "pygments_lexer": "ipython3",
   "version": "3.12.11"
  },
  "widgets": {
   "application/vnd.jupyter.widget-state+json": {
    "state": {
     "4d250c5d35aa493295ca814fb3eaa1ee": {
      "model_module": "@jupyter-widgets/base",
      "model_module_version": "1.2.0",
      "model_name": "LayoutModel",
      "state": {}
     },
     "6faf75ca5f3b41388f284e98ec2cf803": {
      "model_module": "jupyter-matplotlib",
      "model_module_version": "^0.9.0",
      "model_name": "ToolbarModel",
      "state": {
       "layout": "IPY_MODEL_9b061db2dc65459ca586b9b9f73c2362",
       "toolitems": [
        [
         "Home",
         "Reset original view",
         "home",
         "home"
        ],
        [
         "Back",
         "Back to previous view",
         "arrow-left",
         "back"
        ],
        [
         "Forward",
         "Forward to next view",
         "arrow-right",
         "forward"
        ],
        [
         "Pan",
         "Left button pans, Right button zooms\nx/y fixes axis, CTRL fixes aspect",
         "arrows",
         "pan"
        ],
        [
         "Zoom",
         "Zoom to rectangle\nx/y fixes axis, CTRL fixes aspect",
         "square-o",
         "zoom"
        ],
        [
         "Download",
         "Download plot",
         "floppy-o",
         "save_figure"
        ]
       ]
      }
     },
     "9b061db2dc65459ca586b9b9f73c2362": {
      "model_module": "@jupyter-widgets/base",
      "model_module_version": "1.2.0",
      "model_name": "LayoutModel",
      "state": {}
     },
     "c25a38234e8f4e818670d9767f95a430": {
      "model_module": "jupyter-matplotlib",
      "model_module_version": "^0.9.0",
      "model_name": "MPLCanvasModel",
      "state": {
       "_cursor": "default",
       "_figure_label": "Figure 1",
       "_height": 708,
       "_width": 1746,
       "layout": "IPY_MODEL_4d250c5d35aa493295ca814fb3eaa1ee",
       "toolbar": "IPY_MODEL_6faf75ca5f3b41388f284e98ec2cf803",
       "toolbar_position": "left"
      }
     }
    },
    "version_major": 2,
    "version_minor": 0
   }
  }
 },
 "nbformat": 4,
 "nbformat_minor": 4
}
