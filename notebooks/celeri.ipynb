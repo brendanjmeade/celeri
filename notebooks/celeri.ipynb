{
 "cells": [
  {
   "cell_type": "code",
   "execution_count": 26,
   "metadata": {
    "execution": {
     "iopub.execute_input": "2021-08-22T18:29:51.661926Z",
     "iopub.status.busy": "2021-08-22T18:29:51.661659Z",
     "iopub.status.idle": "2021-08-22T18:29:51.956035Z",
     "shell.execute_reply": "2021-08-22T18:29:51.955292Z",
     "shell.execute_reply.started": "2021-08-22T18:29:51.661900Z"
    },
    "tags": []
   },
   "outputs": [],
   "source": [
    "%matplotlib widget\n",
    "%config InlineBackend.figure_format = \"svg\"\n",
    "\n",
    "import addict\n",
    "import copy\n",
    "import numpy as np\n",
    "import pandas as pd\n",
    "import matplotlib.pyplot as plt\n",
    "from importlib import reload\n",
    "from tqdm.notebook import tqdm\n",
    "from typing import List, Dict, Tuple\n",
    "\n",
    "import sys\n",
    "sys.path.append(\"../\")\n",
    "import celeri\n",
    "celeri = reload(celeri.celeri)\n",
    "\n",
    "plt.rcParams[\"text.usetex\"] = False # Plotting the global model is much much faster with tex fonts turned off"
   ]
  },
  {
   "cell_type": "markdown",
   "metadata": {},
   "source": [
    "# Read in data files, create storage dictionaries, and do basic processing"
   ]
  },
  {
   "cell_type": "code",
   "execution_count": 27,
   "metadata": {
    "execution": {
     "iopub.execute_input": "2021-08-22T18:29:53.570589Z",
     "iopub.status.busy": "2021-08-22T18:29:53.570331Z",
     "iopub.status.idle": "2021-08-22T18:30:09.817977Z",
     "shell.execute_reply": "2021-08-22T18:30:09.817443Z",
     "shell.execute_reply.started": "2021-08-22T18:29:53.570561Z"
    },
    "tags": []
   },
   "outputs": [
    {
     "name": "stderr",
     "output_type": "stream",
     "text": [
      "WARNING:root:The file contains tag data that couldn't be processed.\n"
     ]
    },
    {
     "ename": "NameError",
     "evalue": "name 'celeri' is not defined",
     "output_type": "error",
     "traceback": [
      "\u001b[0;31m---------------------------------------------------------------------------\u001b[0m",
      "\u001b[0;31mNameError\u001b[0m                                 Traceback (most recent call last)",
      "\u001b[0;32m/var/folders/fl/sm71y44x3tqc7r1wc40k10gc0000gn/T/ipykernel_51170/3878303398.py\u001b[0m in \u001b[0;36m<module>\u001b[0;34m\u001b[0m\n\u001b[1;32m      1\u001b[0m \u001b[0mcommand_file_name\u001b[0m \u001b[0;34m=\u001b[0m \u001b[0;34m\"../data/western_north_america/basic_command.json\"\u001b[0m\u001b[0;34m\u001b[0m\u001b[0;34m\u001b[0m\u001b[0m\n\u001b[1;32m      2\u001b[0m \u001b[0mcommand\u001b[0m\u001b[0;34m,\u001b[0m \u001b[0msegment\u001b[0m\u001b[0;34m,\u001b[0m \u001b[0mblock\u001b[0m\u001b[0;34m,\u001b[0m \u001b[0mmeshes\u001b[0m\u001b[0;34m,\u001b[0m \u001b[0mstation\u001b[0m\u001b[0;34m,\u001b[0m \u001b[0mmogi\u001b[0m\u001b[0;34m,\u001b[0m \u001b[0msar\u001b[0m \u001b[0;34m=\u001b[0m \u001b[0mceleri\u001b[0m\u001b[0;34m.\u001b[0m\u001b[0mread_data\u001b[0m\u001b[0;34m(\u001b[0m\u001b[0mcommand_file_name\u001b[0m\u001b[0;34m)\u001b[0m\u001b[0;34m\u001b[0m\u001b[0;34m\u001b[0m\u001b[0m\n\u001b[0;32m----> 3\u001b[0;31m \u001b[0mstation\u001b[0m \u001b[0;34m=\u001b[0m \u001b[0mceleri\u001b[0m\u001b[0;34m.\u001b[0m\u001b[0mprocess_station\u001b[0m\u001b[0;34m(\u001b[0m\u001b[0mstation\u001b[0m\u001b[0;34m,\u001b[0m \u001b[0mcommand\u001b[0m\u001b[0;34m)\u001b[0m\u001b[0;34m\u001b[0m\u001b[0;34m\u001b[0m\u001b[0m\n\u001b[0m\u001b[1;32m      4\u001b[0m \u001b[0msegment\u001b[0m \u001b[0;34m=\u001b[0m \u001b[0mceleri\u001b[0m\u001b[0;34m.\u001b[0m\u001b[0mprocess_segment\u001b[0m\u001b[0;34m(\u001b[0m\u001b[0msegment\u001b[0m\u001b[0;34m,\u001b[0m \u001b[0mcommand\u001b[0m\u001b[0;34m,\u001b[0m \u001b[0mmeshes\u001b[0m\u001b[0;34m)\u001b[0m\u001b[0;34m\u001b[0m\u001b[0;34m\u001b[0m\u001b[0m\n\u001b[1;32m      5\u001b[0m \u001b[0msar\u001b[0m \u001b[0;34m=\u001b[0m \u001b[0mceleri\u001b[0m\u001b[0;34m.\u001b[0m\u001b[0mprocess_sar\u001b[0m\u001b[0;34m(\u001b[0m\u001b[0msar\u001b[0m\u001b[0;34m,\u001b[0m \u001b[0mcommand\u001b[0m\u001b[0;34m)\u001b[0m\u001b[0;34m\u001b[0m\u001b[0;34m\u001b[0m\u001b[0m\n",
      "\u001b[0;32m~/Desktop/celeri/notebooks/../celeri/celeri.py\u001b[0m in \u001b[0;36mprocess_station\u001b[0;34m(station, command)\u001b[0m\n\u001b[1;32m    222\u001b[0m     \u001b[0mstation\u001b[0m\u001b[0;34m[\u001b[0m\u001b[0;34m\"depth\"\u001b[0m\u001b[0;34m]\u001b[0m \u001b[0;34m=\u001b[0m \u001b[0mnp\u001b[0m\u001b[0;34m.\u001b[0m\u001b[0mzeros_like\u001b[0m\u001b[0;34m(\u001b[0m\u001b[0mstation\u001b[0m\u001b[0;34m.\u001b[0m\u001b[0mlon\u001b[0m\u001b[0;34m)\u001b[0m\u001b[0;34m\u001b[0m\u001b[0;34m\u001b[0m\u001b[0m\n\u001b[1;32m    223\u001b[0m     station[\"x\"], station[\"y\"], station[\"z\"] = sph2cart(\n\u001b[0;32m--> 224\u001b[0;31m         \u001b[0mstation\u001b[0m\u001b[0;34m.\u001b[0m\u001b[0mlon\u001b[0m\u001b[0;34m,\u001b[0m \u001b[0mstation\u001b[0m\u001b[0;34m.\u001b[0m\u001b[0mlat\u001b[0m\u001b[0;34m,\u001b[0m \u001b[0mceleri\u001b[0m\u001b[0;34m.\u001b[0m\u001b[0mRADIUS_EARTH\u001b[0m\u001b[0;34m\u001b[0m\u001b[0;34m\u001b[0m\u001b[0m\n\u001b[0m\u001b[1;32m    225\u001b[0m     )\n\u001b[1;32m    226\u001b[0m     \u001b[0mstation\u001b[0m \u001b[0;34m=\u001b[0m \u001b[0mstation\u001b[0m\u001b[0;34m.\u001b[0m\u001b[0mdrop\u001b[0m\u001b[0;34m(\u001b[0m\u001b[0mnp\u001b[0m\u001b[0;34m.\u001b[0m\u001b[0mwhere\u001b[0m\u001b[0;34m(\u001b[0m\u001b[0mstation\u001b[0m\u001b[0;34m.\u001b[0m\u001b[0mflag\u001b[0m \u001b[0;34m==\u001b[0m \u001b[0;36m0\u001b[0m\u001b[0;34m)\u001b[0m\u001b[0;34m[\u001b[0m\u001b[0;36m0\u001b[0m\u001b[0;34m]\u001b[0m\u001b[0;34m)\u001b[0m\u001b[0;34m\u001b[0m\u001b[0;34m\u001b[0m\u001b[0m\n",
      "\u001b[0;31mNameError\u001b[0m: name 'celeri' is not defined"
     ]
    }
   ],
   "source": [
    "command_file_name = \"../data/western_north_america/basic_command.json\"\n",
    "command, segment, block, meshes, station, mogi, sar = celeri.read_data(command_file_name)\n",
    "station = celeri.process_station(station, command)\n",
    "segment = celeri.process_segment(segment, command, meshes)\n",
    "sar = celeri.process_sar(sar, command)\n",
    "closure, block = celeri.assign_block_labels(segment, station, block, mogi, sar)\n",
    "assembly = addict.Dict()\n",
    "operators = addict.Dict()\n",
    "operators.meshes = [addict.Dict()] * len(meshes)\n",
    "assembly = celeri.merge_geodetic_data(assembly, station, sar) # Not sure this works correctly"
   ]
  },
  {
   "cell_type": "markdown",
   "metadata": {},
   "source": [
    "# Get elastic operators and TDE smoothing operators"
   ]
  },
  {
   "cell_type": "code",
   "execution_count": 5,
   "metadata": {},
   "outputs": [],
   "source": [
    "# Get all elastic operators for segments and TDEs\n",
    "celeri.get_elastic_operators(operators, meshes, segment, station, command)\n",
    "\n",
    "# Get TDE smoothing operators\n",
    "celeri.get_all_mesh_smoothing_matrices(meshes, operators)\n",
    "celeri.get_all_mesh_smoothing_matrices_simple(meshes, operators)"
   ]
  },
  {
   "cell_type": "markdown",
   "metadata": {},
   "source": [
    "# Calculate non-elastic operators"
   ]
  },
  {
   "cell_type": "code",
   "execution_count": 6,
   "metadata": {
    "tags": []
   },
   "outputs": [],
   "source": [
    "operators.rotation_to_velocities = celeri.get_block_rotation_operator(station)\n",
    "operators.global_float_block_rotation = celeri.get_global_float_block_rotation_operator(station)\n",
    "assembly, operators.block_motion_constraints = celeri.block_constraints(assembly, block, command)\n",
    "assembly, operators.slip_rate_constraints = celeri.slip_rate_constraints(assembly, segment, block, command)\n",
    "operators.rotation_to_slip_rate = celeri.get_fault_slip_rate_partials(segment, block)\n",
    "operators.block_strain_rate_to_velocities, strain_rate_block_index = celeri.get_strain_rate_centroid_operator(block, station, segment)\n",
    "operators.mogi_to_velocities = celeri.get_mogi_operator(mogi, station, command)"
   ]
  },
  {
   "cell_type": "markdown",
   "metadata": {},
   "source": [
    "# Plot input data"
   ]
  },
  {
   "cell_type": "code",
   "execution_count": 7,
   "metadata": {},
   "outputs": [
    {
     "data": {
      "application/vnd.jupyter.widget-view+json": {
       "model_id": "4adfac447329417aae392a8b7d09dc84",
       "version_major": 2,
       "version_minor": 0
      },
      "text/plain": [
       "Canvas(toolbar=Toolbar(toolitems=[('Home', 'Reset original view', 'home', 'home'), ('Back', 'Back to previous …"
      ]
     },
     "metadata": {},
     "output_type": "display_data"
    }
   ],
   "source": [
    "celeri.plot_input_summary(segment, station, block, meshes, mogi, sar, lon_range=(225, 250), lat_range=(30, 52), quiver_scale=1e2)"
   ]
  },
  {
   "cell_type": "markdown",
   "metadata": {},
   "source": [
    "# Sketching out the assembly of the block model system\n",
    "\n",
    "$$\n",
    "\\begin{bmatrix}\n",
    "    \\mathrm{geodetic \\; velocities} \\\\\n",
    "    \\mathrm{plate \\; rotation \\; constraints} \\\\\n",
    "    \\mathrm{slip \\; rate \\; constraints} \\\\\n",
    "    \\mathrm{TDE \\; smoothing \\; pseudodata = 0} \\\\\n",
    "    \\mathrm{TDE \\; rate \\; constraints} \\\\\n",
    "    \\mathrm{InSAR \\; LOS \\; changes} \n",
    "\\end{bmatrix}\n",
    "=\n",
    "\\begin{bmatrix}\n",
    "    \\mathrm{(rotations-elastic \\; segments) \\; to \\; velocities} & \\mathrm{TDEs \\; to \\; velocities} & \\mathrm{block \\; strain \\; rate \\; to \\; velocities} & \\mathrm{Mogi \\; to \\; velocities}\\\\\n",
    "    \\mathrm{identities}                                          & 0                                   & 0                                & 0\\\\\n",
    "    \\mathrm{plate \\; rotations \\; to \\; slip \\; rates}           & 0                                   & 0                                & 0\\\\\n",
    "    0                                                            & \\mathrm{TDE \\; smoothing \\; matrix} & 0                                & 0\\\\\n",
    "    0                                                            & \\mathrm{identities}                 & 0                                & 0\\\\\n",
    "    \\mathrm{(rotations-elastic \\; segments) \\; to \\; LOS}        & \\mathrm{TDEs \\; to \\; LOS}          & \\mathrm{block \\; strain \\; rate \\; to \\; velocities}  & \\mathrm{Mogi \\; to \\; LOS}\n",
    "\\end{bmatrix}\n",
    "\\begin{bmatrix}\n",
    "    \\mathrm{plate \\; rotation \\; rates} \\\\\n",
    "    \\mathrm{TDE \\; slip \\; rates} \\\\\n",
    "    \\mathrm{block \\; strain \\; rates} \\\\\n",
    "    \\mathrm{Mogi \\; sources} \n",
    "\\end{bmatrix}\n",
    "$$"
   ]
  },
  {
   "cell_type": "markdown",
   "metadata": {},
   "source": [
    "# Block model with block rotations, fully locked segments and partially locked subduction zone using the full tde_matrix and smoothing matrix"
   ]
  },
  {
   "cell_type": "code",
   "execution_count": 8,
   "metadata": {},
   "outputs": [
    {
     "name": "stdout",
     "output_type": "stream",
     "text": [
      "(7058, 7058)\n",
      "True\n"
     ]
    }
   ],
   "source": [
    "# TODO: What should this conversion be?\n",
    "DEG_PER_MYR_TO_RAD_PER_YR = np.deg2rad(1) / 1e6\n",
    "DEG_PER_MYR_TO_RAD_PER_YR = 1 / 1e6\n",
    "\n",
    "# Create dictionary to store indices and sizes for operator building\n",
    "index = addict.Dict()\n",
    "index.n_stations = assembly.data.n_stations\n",
    "index.vertical_velocities = np.arange(2, 3 * index.n_stations, 3)\n",
    "index.n_blocks = len(block)\n",
    "index.n_block_constraints = assembly.data.n_block_constraints\n",
    "index.station_row_keep_index = celeri.get_keep_index_12(3 * len(station))\n",
    "index.start_station_row = 0\n",
    "index.end_station_row = 2 * len(station)\n",
    "index.start_block_col = 0\n",
    "index.end_block_col = 3 * len(block)\n",
    "index.start_block_constraints_row = index.end_station_row\n",
    "index.end_block_constraints_row = index.start_block_constraints_row + 3 * index.n_block_constraints\n",
    "index.n_slip_rate_constraints = assembly.data.slip_rate_constraints.size\n",
    "index.start_slip_rate_constraints_row = index.end_block_constraints_row\n",
    "index.end_slip_rate_constraints_row = index.start_slip_rate_constraints_row + index.n_slip_rate_constraints\n",
    "\n",
    "index.meshes = [addict.Dict()] * len(meshes)\n",
    "index.n_tde_total = 0\n",
    "for i in range(len(meshes)):\n",
    "    index.meshes[i].n_tde = meshes[i].n_tde\n",
    "    index.n_tde_total += index.meshes[i].n_tde\n",
    "    if i == 0:\n",
    "        index.meshes[i].start_tde_col = index.end_block_col\n",
    "        index.meshes[i].end_tde_col = index.meshes[i].start_tde_col + 2 * index.meshes[i].n_tde\n",
    "        index.meshes[i].start_tde_smoothing_row = index.end_slip_rate_constraints_row\n",
    "        index.meshes[i].end_tde_smoothing_row = index.meshes[i].start_tde_smoothing_row + 2 * index.meshes[i].n_tde\n",
    "    else:\n",
    "        index.meshes[i].start_tde_col = index.meshes[i - 1].end_tde_col\n",
    "        index.meshes[i].end_tde_col = index.meshes[i].start_tde_col + 2 * index.meshes[i].n_tde\n",
    "        index.meshes[i].start_tde_smoothing_row = index.meshes[i - 1].end_tde_smoothing_row\n",
    "        index.meshes[i].end_tde_smoothing_row = index.meshes[i].start_tde_smoothing_row + 2 * index.meshes[i].n_tde\n",
    "\n",
    "index.start_tde_col = index.end_block_col\n",
    "index.end_tde_col = index.start_tde_col + 2 * index.meshes[0].n_tde\n",
    "index.start_tde_smoothing_row = index.end_slip_rate_constraints_row\n",
    "index.end_tde_smoothing_row = index.start_tde_smoothing_row + 2 * index.meshes[0].n_tde\n",
    "\n",
    "# Initialize data vector\n",
    "estimation = addict.Dict()\n",
    "estimation.data_vector = np.zeros(2 * index.n_stations + 3 * index.n_block_constraints + index.n_slip_rate_constraints + 2 * index.n_tde_total)\n",
    "\n",
    "# Add GPS stations to data vector\n",
    "estimation.data_vector[index.start_station_row:index.end_station_row] = celeri.interleave2(assembly.data.east_vel, assembly.data.north_vel)\n",
    "\n",
    "# Add block motion constraints to data vector\n",
    "estimation.data_vector[index.start_block_constraints_row:index.end_block_constraints_row] = DEG_PER_MYR_TO_RAD_PER_YR * assembly.data.block_constraints\n",
    "\n",
    "# Add slip rate constraints to data vector\n",
    "estimation.data_vector[index.start_slip_rate_constraints_row:index.end_slip_rate_constraints_row] = assembly.data.slip_rate_constraints\n",
    "\n",
    "# Initialize and build weighting matrix\n",
    "estimation.weighting_vector = np.ones(2 * index.n_stations + 3 * index.n_block_constraints + index.n_slip_rate_constraints + 2 * index.n_tde_total)\n",
    "estimation.weighting_vector[index.start_station_row:index.end_station_row] = celeri.interleave2(station.east_sig, station.north_sig)\n",
    "estimation.weighting_vector[index.start_block_constraints_row:index.end_block_constraints_row] = 1.0\n",
    "estimation.weighting_vector[index.start_slip_rate_constraints_row:index.end_slip_rate_constraints_row] = command.slip_constraint_weight * np.ones(index.n_slip_rate_constraints)\n",
    "\n",
    "# TODO: No need to calculate this anymore because the weighting vector approach works!!!  Show Jack first\n",
    "estimation.weighting_matrix = np.diag(estimation.weighting_vector)\n",
    "print(estimation.weighting_matrix.shape)\n",
    "\n",
    "# Initialize linear operator\n",
    "estimation.operator = np.zeros((2 * index.n_stations + 3 * index.n_block_constraints + index.n_slip_rate_constraints + 2 * index.n_tde_total,\n",
    "                                3 * index.n_blocks + 2 * index.n_tde_total))\n",
    "\n",
    "# Insert block rotations and elastic velocities from fully locked segments\n",
    "operators.rotation_to_slip_rate_to_okada_to_velocities = operators.slip_rate_to_okada_to_velocities @ operators.rotation_to_slip_rate\n",
    "estimation.operator[index.start_station_row:index.end_station_row, index.start_block_col:index.end_block_col] = operators.rotation_to_velocities[index.station_row_keep_index, :] - operators.rotation_to_slip_rate_to_okada_to_velocities[index.station_row_keep_index, :]\n",
    "\n",
    "# Insert block motion constraints\n",
    "estimation.operator[index.start_block_constraints_row:index.end_block_constraints_row, index.start_block_col:index.end_block_col] = operators.block_motion_constraints\n",
    "\n",
    "# Insert slip rate constraints\n",
    "estimation.operator[index.start_slip_rate_constraints_row:index.end_slip_rate_constraints_row, index.start_block_col:index.end_block_col] = operators.slip_rate_constraints\n",
    "\n",
    "# Insert TDE to velocity matrix\n",
    "for i in range(len(meshes)):\n",
    "    # Insert TDE to velocity matrix\n",
    "    tde_keep_row_index = celeri.get_keep_index_12(operators.meshes[i].tde_to_velocities.shape[0])\n",
    "    tde_keep_col_index = celeri.get_keep_index_12(operators.meshes[i].tde_to_velocities.shape[1])\n",
    "    estimation.operator[index.start_station_row:index.end_station_row, index.meshes[i].start_tde_col:index.meshes[i].end_tde_col] = operators.meshes[i].tde_to_velocities[tde_keep_row_index, :][:, tde_keep_col_index]\n",
    "\n",
    "    # Insert TDE smoothing matrix\n",
    "    smoothing_keep_index = celeri.get_keep_index_12(operators.meshes[i].smoothing_matrix.shape[0])\n",
    "    estimation.operator[index.meshes[i].start_tde_smoothing_row:index.meshes[i].end_tde_smoothing_row, index.meshes[i].start_tde_col:index.meshes[i].end_tde_col] = meshes[i].smoothing_weight * operators.meshes[i].smoothing_matrix.toarray()[smoothing_keep_index, :][:, smoothing_keep_index]\n",
    "\n",
    "# Solve the overdetermined linear system\n",
    "estimation.state_covariance_matrix = np.linalg.inv(estimation.operator.T @ estimation.weighting_matrix @ estimation.operator)\n",
    "estimation.state_vector = estimation.state_covariance_matrix @ estimation.operator.T @ estimation.weighting_matrix @ estimation.data_vector\n",
    "\n",
    "# Solve the overdetermined linear system using only a weighting vector rather than matrix\n",
    "test_state_covariance_matrix = np.linalg.inv(estimation.operator.T * estimation.weighting_vector @ estimation.operator)\n",
    "test_state_vector = test_state_covariance_matrix @ estimation.operator.T * estimation.weighting_vector @ estimation.data_vector\n",
    "print(np.allclose(estimation.state_vector, test_state_vector))\n",
    "\n",
    "celeri.post_process_estimation(estimation, operators, station, index)"
   ]
  },
  {
   "cell_type": "markdown",
   "metadata": {},
   "source": [
    "# Plot model summary "
   ]
  },
  {
   "cell_type": "code",
   "execution_count": 9,
   "metadata": {},
   "outputs": [
    {
     "data": {
      "application/vnd.jupyter.widget-view+json": {
       "model_id": "b2491bbc276e452692b74413bc5724fb",
       "version_major": 2,
       "version_minor": 0
      },
      "text/plain": [
       "Canvas(toolbar=Toolbar(toolitems=[('Home', 'Reset original view', 'home', 'home'), ('Back', 'Back to previous …"
      ]
     },
     "metadata": {},
     "output_type": "display_data"
    }
   ],
   "source": [
    "celeri.plot_estimation_summary(segment, station, estimation, lon_range=(225, 250), lat_range=(30, 52), quiver_scale=1e2)"
   ]
  },
  {
   "cell_type": "code",
   "execution_count": 10,
   "metadata": {},
   "outputs": [
    {
     "data": {
      "application/vnd.jupyter.widget-view+json": {
       "model_id": "1e1a5bb59c2b403fa1a2a2c21b6a4e59",
       "version_major": 2,
       "version_minor": 0
      },
      "text/plain": [
       "Canvas(toolbar=Toolbar(toolitems=[('Home', 'Reset original view', 'home', 'home'), ('Back', 'Back to previous …"
      ]
     },
     "metadata": {},
     "output_type": "display_data"
    }
   ],
   "source": [
    "operator_eps = copy.deepcopy(estimation.operator) + 1e-10\n",
    "plt.figure(figsize=(10, 10))\n",
    "plt.imshow(np.log10(np.abs(operator_eps)), cmap=\"plasma_r\")\n",
    "plt.colorbar()\n",
    "plt.show()"
   ]
  },
  {
   "cell_type": "code",
   "execution_count": 11,
   "metadata": {},
   "outputs": [
    {
     "data": {
      "application/vnd.jupyter.widget-view+json": {
       "model_id": "2991813f86e641679933d0e1bff3e0d0",
       "version_major": 2,
       "version_minor": 0
      },
      "text/plain": [
       "Canvas(toolbar=Toolbar(toolitems=[('Home', 'Reset original view', 'home', 'home'), ('Back', 'Back to previous …"
      ]
     },
     "metadata": {},
     "output_type": "display_data"
    },
    {
     "name": "stdout",
     "output_type": "stream",
     "text": [
      "(7058,)\n"
     ]
    }
   ],
   "source": [
    "plt.figure()\n",
    "# plt.plot(np.log10(np.abs(estimation.data_vector)), \"rx\")\n",
    "plt.plot(estimation.data_vector, \"rx\")\n",
    "plt.show()\n",
    "print(estimation.data_vector.shape)"
   ]
  },
  {
   "cell_type": "code",
   "execution_count": 43,
   "metadata": {},
   "outputs": [
    {
     "name": "stdout",
     "output_type": "stream",
     "text": [
      "yes\n"
     ]
    },
    {
     "data": {
      "text/plain": [
       "-1.1692932114810847e-08"
      ]
     },
     "execution_count": 43,
     "metadata": {},
     "output_type": "execute_result"
    }
   ],
   "source": [
    "print(command.reuse_elastic)\n",
    "operators.meshes[0].tde_to_velocities[0, 0]"
   ]
  },
  {
   "cell_type": "code",
   "execution_count": 51,
   "metadata": {},
   "outputs": [
    {
     "data": {
      "text/plain": [
       "<meshio mesh object>\n",
       "  Number of points: 1916\n",
       "  Number of cells:\n",
       "    vertex: 939\n",
       "    line: 529\n",
       "    triangle: 1841\n",
       "  Cell data: gmsh:physical, gmsh:geometrical"
      ]
     },
     "execution_count": 51,
     "metadata": {},
     "output_type": "execute_result"
    }
   ],
   "source": [
    "meshes[0].meshio_object"
   ]
  },
  {
   "cell_type": "code",
   "execution_count": null,
   "metadata": {},
   "outputs": [],
   "source": [
    "# function lockingDepths = PatchLDtoggle(lockingDepths, patchFiles, patchToggles, patchNames)\n",
    "\"\"\"\n",
    "PatchLDtoggle sets the locking depth to zero on segments that are associated\n",
    "with a patch. \n",
    "This function is called after LockingDepthManager, so no need to worry about LD toggles\n",
    "affecting the zero LD assigned here.\n",
    "\n",
    "Arguments:\n",
    "lockingDepths = locking depth field of the segment array (i.e., Segment.lDep)\n",
    "patchFiles    = array containing the numeric ID of the patch file corresponding to each segment (range 0:n)\n",
    "patchToggles  = array containing 0 or 1 to specify whether a patch file should be ignored (0) or used (1)\n",
    "patchNames    = string from command file containing \n",
    "\n",
    "Outputs:\n",
    "Segment       = updated locking depth array, containing zeros for the segments to be replaced by patches\n",
    "\"\"\"\n",
    "\n",
    "\n",
    "# Check the number of files that are included\n",
    "if size(patchNames, 1) == 1:\n",
    "    n_patch_files = ~isempty(patchNames) + length(regexp(patchNames, '\\s\\S'));\n",
    "else:\n",
    "    n_patch_files = size(patchNames, 1);\n",
    "\n",
    "# Find the segments actively associated with a patch file\n",
    "i = np.intersect(np.where(patchFiles), np.where(segment.patch_toggles.values == 1)[0])\n",
    "if max(patchFiles(i)) == n_patch_files:\n",
    "    # set those segments' locking depths to 0\n",
    "    locking_depths[i] = 0\n",
    "else:\n",
    "    logger.warn(\"Fewer patch filenames specified in command file than referenced in segment dataframe.\")\n",
    "\n",
    "\n",
    "# segment.locking_depth.values = patch_locking_depth_toggle(segment.locking_depth, segment.patch_file_name, segment.patch_flag, command.patch_file_names)\n"
   ]
  }
 ],
 "metadata": {
  "interpreter": {
   "hash": "b49ecae73d9755d1e6525bca8f2b993ba748c0e2e7c79677d2e15f06ac3538b9"
  },
  "kernelspec": {
   "display_name": "Python 3.9.6 64-bit ('celeri': conda)",
   "name": "python3"
  },
  "language_info": {
   "codemirror_mode": {
    "name": "ipython",
    "version": 3
   },
   "file_extension": ".py",
   "mimetype": "text/x-python",
   "name": "python",
   "nbconvert_exporter": "python",
   "pygments_lexer": "ipython3",
   "version": "3.9.6"
  },
  "widgets": {
   "application/vnd.jupyter.widget-state+json": {
    "state": {
     "4d250c5d35aa493295ca814fb3eaa1ee": {
      "model_module": "@jupyter-widgets/base",
      "model_module_version": "1.2.0",
      "model_name": "LayoutModel",
      "state": {}
     },
     "6faf75ca5f3b41388f284e98ec2cf803": {
      "model_module": "jupyter-matplotlib",
      "model_module_version": "^0.9.0",
      "model_name": "ToolbarModel",
      "state": {
       "layout": "IPY_MODEL_9b061db2dc65459ca586b9b9f73c2362",
       "toolitems": [
        [
         "Home",
         "Reset original view",
         "home",
         "home"
        ],
        [
         "Back",
         "Back to previous view",
         "arrow-left",
         "back"
        ],
        [
         "Forward",
         "Forward to next view",
         "arrow-right",
         "forward"
        ],
        [
         "Pan",
         "Left button pans, Right button zooms\nx/y fixes axis, CTRL fixes aspect",
         "arrows",
         "pan"
        ],
        [
         "Zoom",
         "Zoom to rectangle\nx/y fixes axis, CTRL fixes aspect",
         "square-o",
         "zoom"
        ],
        [
         "Download",
         "Download plot",
         "floppy-o",
         "save_figure"
        ]
       ]
      }
     },
     "9b061db2dc65459ca586b9b9f73c2362": {
      "model_module": "@jupyter-widgets/base",
      "model_module_version": "1.2.0",
      "model_name": "LayoutModel",
      "state": {}
     },
     "c25a38234e8f4e818670d9767f95a430": {
      "model_module": "jupyter-matplotlib",
      "model_module_version": "^0.9.0",
      "model_name": "MPLCanvasModel",
      "state": {
       "_cursor": "default",
       "_figure_label": "Figure 1",
       "_height": 708,
       "_width": 1746,
       "layout": "IPY_MODEL_4d250c5d35aa493295ca814fb3eaa1ee",
       "toolbar": "IPY_MODEL_6faf75ca5f3b41388f284e98ec2cf803",
       "toolbar_position": "left"
      }
     }
    },
    "version_major": 2,
    "version_minor": 0
   }
  }
 },
 "nbformat": 4,
 "nbformat_minor": 4
}
