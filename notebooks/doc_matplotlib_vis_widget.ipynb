{
 "cells": [
  {
   "cell_type": "code",
   "execution_count": null,
   "metadata": {},
   "outputs": [],
   "source": [
    "%load_ext autoreload\n",
    "%autoreload 2\n",
    "%config InlineBackend.figure_format = \"retina\"\n",
    "%matplotlib widget"
   ]
  },
  {
   "cell_type": "code",
   "execution_count": null,
   "metadata": {
    "tags": []
   },
   "outputs": [],
   "source": [
    "import numpy as np\n",
    "import matplotlib.pyplot as plt\n",
    "from importlib import reload\n",
    "from rich import print as print\n",
    "\n",
    "import celeri\n",
    "\n",
    "plt.rcParams[\"text.usetex\"] = False"
   ]
  },
  {
   "cell_type": "code",
   "execution_count": null,
   "metadata": {},
   "outputs": [],
   "source": [
    "celeri.read"
   ]
  },
  {
   "cell_type": "code",
   "execution_count": null,
   "metadata": {},
   "outputs": [],
   "source": [
    "run_folder = celeri.get_newest_run_folder()\n",
    "command, estimation, station, segment, block, meshes = celeri.read_run(run_folder)\n",
    "\n",
    "# Get a default plotting parameter dictionary\n",
    "p = celeri.get_default_plotting_dict(command, estimation, station)"
   ]
  },
  {
   "cell_type": "code",
   "execution_count": null,
   "metadata": {},
   "outputs": [],
   "source": [
    "celeri.plot_estimation_summary(\n",
    "    command,\n",
    "    segment,\n",
    "    station,\n",
    "    meshes,\n",
    "    estimation,\n",
    "    lon_range=command.lon_range,\n",
    "    lat_range=command.lat_range,\n",
    "    quiver_scale=command.quiver_scale,\n",
    ")"
   ]
  },
  {
   "cell_type": "code",
   "execution_count": null,
   "metadata": {},
   "outputs": [],
   "source": [
    "celeri.plot_vels(\n",
    "    p,\n",
    "    segment,\n",
    "    station.lon,\n",
    "    station.lat,\n",
    "    station.east_vel,\n",
    "    station.north_vel,\n",
    "    arrow_scale=1.0,\n",
    "    title_string=\"observed velocities\",\n",
    ")"
   ]
  },
  {
   "cell_type": "code",
   "execution_count": null,
   "metadata": {},
   "outputs": [],
   "source": [
    "celeri.plot_vels(\n",
    "    p,\n",
    "    segment,\n",
    "    station.lon,\n",
    "    station.lat,\n",
    "    estimation.east_vel,\n",
    "    estimation.north_vel,\n",
    "    arrow_scale=1.0,\n",
    "    title_string=\"modeled velocities\",\n",
    ")"
   ]
  },
  {
   "cell_type": "code",
   "execution_count": null,
   "metadata": {},
   "outputs": [],
   "source": [
    "celeri.plot_vels(\n",
    "    p,\n",
    "    segment,\n",
    "    station.lon,\n",
    "    station.lat,\n",
    "    estimation.east_vel_residual,\n",
    "    estimation.north_vel_residual,\n",
    "    arrow_scale=0.25,\n",
    "    title_string=\"residual velocities\",\n",
    ")"
   ]
  },
  {
   "cell_type": "code",
   "execution_count": null,
   "metadata": {},
   "outputs": [],
   "source": [
    "celeri.plot_vels(\n",
    "    p,\n",
    "    segment,\n",
    "    station.lon,\n",
    "    station.lat,\n",
    "    estimation.east_vel_rotation,\n",
    "    estimation.north_vel_rotation,\n",
    "    arrow_scale=1.0,\n",
    "    title_string=\"rotation velocities\",\n",
    ")"
   ]
  },
  {
   "cell_type": "code",
   "execution_count": null,
   "metadata": {},
   "outputs": [],
   "source": [
    "celeri.plot_vels(\n",
    "    p,\n",
    "    segment,\n",
    "    station.lon,\n",
    "    station.lat,\n",
    "    estimation.east_vel_elastic_segment,\n",
    "    estimation.north_vel_elastic_segment,\n",
    "    arrow_scale=0.25,\n",
    "    title_string=\"elastic segment velocities\",\n",
    ")"
   ]
  },
  {
   "cell_type": "code",
   "execution_count": null,
   "metadata": {},
   "outputs": [],
   "source": [
    "celeri.plot_vels(\n",
    "    p,\n",
    "    segment,\n",
    "    station.lon,\n",
    "    station.lat,\n",
    "    estimation.east_vel_tde,\n",
    "    estimation.north_vel_tde,\n",
    "    arrow_scale=0.75,\n",
    "    title_string=\"TDE velocities\",\n",
    ")"
   ]
  },
  {
   "cell_type": "code",
   "execution_count": null,
   "metadata": {},
   "outputs": [],
   "source": [
    "celeri.plot_vels(\n",
    "    p,\n",
    "    segment,\n",
    "    station.lon,\n",
    "    station.lat,\n",
    "    estimation.east_vel_block_strain_rate,\n",
    "    estimation.north_vel_block_strain_rate,\n",
    "    arrow_scale=0.15,\n",
    "    title_string=\"Internal block strain rate velocities\",\n",
    ")"
   ]
  },
  {
   "cell_type": "code",
   "execution_count": null,
   "metadata": {},
   "outputs": [],
   "source": [
    "celeri.plot_vels(\n",
    "    p,\n",
    "    segment,\n",
    "    station.lon,\n",
    "    station.lat,\n",
    "    estimation.east_vel_mogi,\n",
    "    estimation.north_vel_mogi,\n",
    "    arrow_scale=0.15,\n",
    "    title_string=\"Mogi velocities\",\n",
    ")"
   ]
  },
  {
   "cell_type": "code",
   "execution_count": null,
   "metadata": {},
   "outputs": [],
   "source": [
    "celeri.plot_residuals(p, segment, station)"
   ]
  },
  {
   "cell_type": "code",
   "execution_count": null,
   "metadata": {},
   "outputs": [],
   "source": [
    "celeri.plot_segment_rates(p, segment, estimation, \"ss\", rate_scale=1)\n",
    "celeri.plot_segment_rates(p, segment, estimation, \"ds\", rate_scale=1)\n",
    "celeri.plot_segment_rates(p, segment, estimation, \"ts\", rate_scale=1)\n",
    "celeri.plot_segment_rates(p, segment, estimation, \"dsts\", rate_scale=1)"
   ]
  },
  {
   "cell_type": "code",
   "execution_count": null,
   "metadata": {},
   "outputs": [],
   "source": []
  }
 ],
 "metadata": {
  "kernelspec": {
   "display_name": "Python (Pixi)",
   "language": "python",
   "name": "pixi-kernel-python3"
  },
  "language_info": {
   "codemirror_mode": {
    "name": "ipython",
    "version": 3
   },
   "file_extension": ".py",
   "mimetype": "text/x-python",
   "name": "python",
   "nbconvert_exporter": "python",
   "pygments_lexer": "ipython3",
   "version": "3.12.10"
  },
  "widgets": {
   "application/vnd.jupyter.widget-state+json": {
    "state": {
     "4d250c5d35aa493295ca814fb3eaa1ee": {
      "model_module": "@jupyter-widgets/base",
      "model_module_version": "1.2.0",
      "model_name": "LayoutModel",
      "state": {}
     },
     "6faf75ca5f3b41388f284e98ec2cf803": {
      "model_module": "jupyter-matplotlib",
      "model_module_version": "^0.9.0",
      "model_name": "ToolbarModel",
      "state": {
       "layout": "IPY_MODEL_9b061db2dc65459ca586b9b9f73c2362",
       "toolitems": [
        [
         "Home",
         "Reset original view",
         "home",
         "home"
        ],
        [
         "Back",
         "Back to previous view",
         "arrow-left",
         "back"
        ],
        [
         "Forward",
         "Forward to next view",
         "arrow-right",
         "forward"
        ],
        [
         "Pan",
         "Left button pans, Right button zooms\nx/y fixes axis, CTRL fixes aspect",
         "arrows",
         "pan"
        ],
        [
         "Zoom",
         "Zoom to rectangle\nx/y fixes axis, CTRL fixes aspect",
         "square-o",
         "zoom"
        ],
        [
         "Download",
         "Download plot",
         "floppy-o",
         "save_figure"
        ]
       ]
      }
     },
     "9b061db2dc65459ca586b9b9f73c2362": {
      "model_module": "@jupyter-widgets/base",
      "model_module_version": "1.2.0",
      "model_name": "LayoutModel",
      "state": {}
     },
     "c25a38234e8f4e818670d9767f95a430": {
      "model_module": "jupyter-matplotlib",
      "model_module_version": "^0.9.0",
      "model_name": "MPLCanvasModel",
      "state": {
       "_cursor": "default",
       "_figure_label": "Figure 1",
       "_height": 708,
       "_width": 1746,
       "layout": "IPY_MODEL_4d250c5d35aa493295ca814fb3eaa1ee",
       "toolbar": "IPY_MODEL_6faf75ca5f3b41388f284e98ec2cf803",
       "toolbar_position": "left"
      }
     }
    },
    "version_major": 2,
    "version_minor": 0
   }
  }
 },
 "nbformat": 4,
 "nbformat_minor": 4
}
