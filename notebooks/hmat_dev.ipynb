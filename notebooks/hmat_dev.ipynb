{
 "cells": [
  {
   "cell_type": "code",
   "execution_count": 1,
   "metadata": {},
   "outputs": [],
   "source": [
    "%load_ext autoreload\n",
    "%autoreload 2"
   ]
  },
  {
   "cell_type": "code",
   "execution_count": 2,
   "metadata": {},
   "outputs": [],
   "source": [
    "import copy\n",
    "import pickle\n",
    "import numpy as np\n",
    "import matplotlib.pyplot as plt\n",
    "from celeri.hmatrix import build_hmatrix_from_mesh_tdes\n",
    "\n",
    "with open('dev_data.pkl', 'rb') as f:\n",
    "   estimation, operators, meshes, segment, station, command = pickle.load(f)"
   ]
  },
  {
   "cell_type": "code",
   "execution_count": 3,
   "metadata": {},
   "outputs": [
    {
     "name": "stdout",
     "output_type": "stream",
     "text": [
      "(1841, 3) (1841,)\n"
     ]
    }
   ],
   "source": [
    "H = build_hmatrix_from_mesh_tdes(meshes[0], station, operators.meshes[0], 1e-6, min_pts_per_box=20)"
   ]
  },
  {
   "cell_type": "code",
   "execution_count": 4,
   "metadata": {},
   "outputs": [],
   "source": [
    "M = operators.meshes[0].tde_to_velocities\n",
    "M = np.delete(M, np.arange(2, M.shape[0], 3), axis=0)\n",
    "M = np.delete(M, np.arange(2, M.shape[1], 3), axis=1)\n",
    "\n",
    "x = np.random.rand(M.shape[1])\n",
    "y_true = M.dot(x)\n",
    "y_h = H.dot(x)"
   ]
  },
  {
   "cell_type": "code",
   "execution_count": 5,
   "metadata": {},
   "outputs": [
    {
     "data": {
      "image/png": "[encoded data removed]",
      "text/plain": [
       "<Figure size 432x288 with 1 Axes>"
      ]
     },
     "metadata": {
      "needs_background": "light"
     },
     "output_type": "display_data"
    }
   ],
   "source": [
    "log10err = np.log10(np.abs(y_true - y_h))\n",
    "plt.hist(log10err, bins=np.linspace(-12,-5.5,21))\n",
    "plt.ylabel('N')\n",
    "plt.xlabel('log 10 error')\n",
    "plt.show()"
   ]
  }
 ],
 "metadata": {
  "interpreter": {
   "hash": "c278809f12fa6b55bc0152d5c4c82ce1fb4b632d84fb69e4d1080c31a12c13e9"
  },
  "kernelspec": {
   "display_name": "Python 3.10.1 64-bit ('celeri': conda)",
   "language": "python",
   "name": "python3"
  },
  "language_info": {
   "codemirror_mode": {
    "name": "ipython",
    "version": 3
   },
   "file_extension": ".py",
   "mimetype": "text/x-python",
   "name": "python",
   "nbconvert_exporter": "python",
   "pygments_lexer": "ipython3",
   "version": "3.10.1"
  },
  "orig_nbformat": 4
 },
 "nbformat": 4,
 "nbformat_minor": 2
}
