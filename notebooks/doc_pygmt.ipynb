{
 "cells": [
  {
   "cell_type": "code",
   "execution_count": null,
   "metadata": {},
   "outputs": [],
   "source": [
    "%load_ext autoreload\n",
    "%autoreload 2"
   ]
  },
  {
   "cell_type": "code",
   "execution_count": null,
   "metadata": {
    "tags": []
   },
   "outputs": [],
   "source": [
    "# %matplotlib widget\n",
    "%config InlineBackend.figure_format = 'svg'"
   ]
  },
  {
   "cell_type": "code",
   "execution_count": null,
   "metadata": {
    "tags": []
   },
   "outputs": [],
   "source": [
    "import copy\n",
    "import pygmt\n",
    "import sys\n",
    "import numpy as np\n",
    "import pandas as pd\n",
    "import matplotlib.pyplot as plt\n",
    "from importlib import reload\n",
    "\n",
    "import celeri\n",
    "\n",
    "# Plotting the global model is much much faster with tex fonts turned off\n",
    "plt.rcParams[\"text.usetex\"] = False"
   ]
  },
  {
   "cell_type": "code",
   "execution_count": null,
   "metadata": {
    "tags": []
   },
   "outputs": [],
   "source": [
    "COMMAND_FILE_NAME = \"../data/config/western_north_america_config.json\"\n",
    "model = celeri.build_model(COMMAND_FILE_NAME)"
   ]
  },
  {
   "cell_type": "code",
   "execution_count": null,
   "metadata": {},
   "outputs": [],
   "source": [
    "# Plot TDE displacements from a single element\n",
    "tri_idx = 0\n",
    "vel_east, vel_north, vel_up = celeri.get_tri_displacements(\n",
    "    model.station.lon.to_numpy(),\n",
    "    model.station.lat.to_numpy(),\n",
    "    model.meshes,\n",
    "    model.config.material_lambda,\n",
    "    model.config.material_mu,\n",
    "    tri_idx=0,\n",
    "    strike_slip=1,\n",
    "    dip_slip=0,\n",
    "    tensile_slip=0,\n",
    ")\n",
    "plt.figure()\n",
    "plt.plot(model.meshes[0].lon1[tri_idx], model.meshes[0].lat1[tri_idx], \".r\")\n",
    "plt.plot(model.meshes[0].lon2[tri_idx], model.meshes[0].lat2[tri_idx], \".r\")\n",
    "plt.plot(model.meshes[0].lon3[tri_idx], model.meshes[0].lat3[tri_idx], \".r\")\n",
    "plt.quiver(model.station.lon, model.station.lat, vel_east, vel_north, scale=1e-3)\n",
    "plt.show()"
   ]
  },
  {
   "cell_type": "code",
   "execution_count": null,
   "metadata": {},
   "outputs": [],
   "source": [
    "# Create a plot with coast, Miller projection (J) over the continental US\n",
    "min_lon = -135.0\n",
    "max_lon = -110.0\n",
    "min_lat = 30.0\n",
    "max_lat = 50.0\n",
    "region = [min_lon, max_lon, min_lat, max_lat]\n",
    "topo_data = \"@earth_relief_30s\"\n",
    "# topo_data = '@earth_relief_01m'\n",
    "projection = \"J-65/12c\"\n",
    "\n",
    "fig = pygmt.Figure()\n",
    "pygmt.config(MAP_FRAME_TYPE=\"plain\")\n",
    "pygmt.config(MAP_FRAME_PEN=\"0.25p\")\n",
    "pygmt.config(MAP_TICK_PEN=\"0.25p\")\n",
    "\n",
    "pygmt.makecpt(\n",
    "    cmap=\"topo\",\n",
    "    # cmap='terra',\n",
    "    # series='-4000/4000/20',\n",
    "    # series='-11000/4000/500',\n",
    "    continuous=True,\n",
    ")\n",
    "\n",
    "fig.grdimage(\n",
    "    grid=topo_data,\n",
    "    region=region,\n",
    "    # shading=True,\n",
    "    projection=projection,\n",
    ")\n",
    "\n",
    "fig.coast(\n",
    "    region=region,\n",
    "    projection=projection,\n",
    "    # land=\"lightgray\",\n",
    "    # water=\"white\",\n",
    "    area_thresh=4000,\n",
    "    shorelines=\"0.25p,200/200/200\",\n",
    "    frame=\"p\",\n",
    ")\n",
    "\n",
    "# Plot block boundaries\n",
    "for i in range(model.closure.n_polygons()):\n",
    "    fig.plot(\n",
    "        x=model.closure.polygons[i].vertices[:, 0],\n",
    "        y=model.closure.polygons[i].vertices[:, 1],\n",
    "        pen=\"0.25p,0/0/0\",\n",
    "    )\n",
    "\n",
    "# Plot GPS stations\n",
    "# fig.plot(x=station.lon, y=station.lat, style=\"c0.05\", color=\"yellow\", pen=\"0.1p,black\")\n",
    "fig.show()"
   ]
  },
  {
   "cell_type": "code",
   "execution_count": null,
   "metadata": {},
   "outputs": [],
   "source": [
    "# Stained glass block polygons\n",
    "rng = np.random.default_rng(42)\n",
    "\n",
    "fig = pygmt.Figure()\n",
    "pygmt.config(MAP_FRAME_TYPE=\"plain\")\n",
    "pygmt.config(MAP_FRAME_PEN=\"0.25p\")\n",
    "pygmt.config(MAP_TICK_PEN=\"0.25p\")\n",
    "\n",
    "pygmt.makecpt(cmap=\"gray\", series=\"-4000/4000/20\", continuous=True)\n",
    "\n",
    "fig.grdimage(\n",
    "    grid=topo_data,\n",
    "    region=region,\n",
    "    shading=True,\n",
    "    projection=projection,\n",
    ")\n",
    "\n",
    "# Plot blocks as transparent polygons\n",
    "for i in range(model.closure.n_polygons()):\n",
    "    red = 100 + 50 * rng.uniform()\n",
    "    green = 150 + 100 * rng.uniform()\n",
    "    blue = 150 + 100 * rng.uniform()\n",
    "    color_string = str(red) + \"/\" + str(green) + \"/\" + str(blue) + \"@75\"\n",
    "    fig.plot(\n",
    "        x=model.closure.polygons[i].vertices[:, 0],\n",
    "        y=model.closure.polygons[i].vertices[:, 1],\n",
    "        fill=color_string,\n",
    "    )\n",
    "\n",
    "# Plot block boundaries\n",
    "for i in range(model.closure.n_polygons()):\n",
    "    fig.plot(\n",
    "        x=model.closure.polygons[i].vertices[:, 0],\n",
    "        y=model.closure.polygons[i].vertices[:, 1],\n",
    "        pen=\"0.1p,0/0/0\",\n",
    "    )\n",
    "\n",
    "fig.coast(\n",
    "    region=region,\n",
    "    projection=projection,\n",
    "    area_thresh=4000,\n",
    "    shorelines=\"0.25p,255/255/255\",\n",
    "    frame=\"p\",\n",
    ")\n",
    "\n",
    "fig.show()"
   ]
  },
  {
   "cell_type": "code",
   "execution_count": null,
   "metadata": {},
   "outputs": [],
   "source": []
  }
 ],
 "metadata": {
  "kernelspec": {
   "display_name": "Python (Pixi)",
   "language": "python",
   "name": "pixi-kernel-python3"
  },
  "language_info": {
   "codemirror_mode": {
    "name": "ipython",
    "version": 3
   },
   "file_extension": ".py",
   "mimetype": "text/x-python",
   "name": "python",
   "nbconvert_exporter": "python",
   "pygments_lexer": "ipython3",
   "version": "3.12.10"
  },
  "widgets": {
   "application/vnd.jupyter.widget-state+json": {
    "state": {
     "4d250c5d35aa493295ca814fb3eaa1ee": {
      "model_module": "@jupyter-widgets/base",
      "model_module_version": "1.2.0",
      "model_name": "LayoutModel",
      "state": {}
     },
     "6faf75ca5f3b41388f284e98ec2cf803": {
      "model_module": "jupyter-matplotlib",
      "model_module_version": "^0.9.0",
      "model_name": "ToolbarModel",
      "state": {
       "layout": "IPY_MODEL_9b061db2dc65459ca586b9b9f73c2362",
       "toolitems": [
        [
         "Home",
         "Reset original view",
         "home",
         "home"
        ],
        [
         "Back",
         "Back to previous view",
         "arrow-left",
         "back"
        ],
        [
         "Forward",
         "Forward to next view",
         "arrow-right",
         "forward"
        ],
        [
         "Pan",
         "Left button pans, Right button zooms\nx/y fixes axis, CTRL fixes aspect",
         "arrows",
         "pan"
        ],
        [
         "Zoom",
         "Zoom to rectangle\nx/y fixes axis, CTRL fixes aspect",
         "square-o",
         "zoom"
        ],
        [
         "Download",
         "Download plot",
         "floppy-o",
         "save_figure"
        ]
       ]
      }
     },
     "9b061db2dc65459ca586b9b9f73c2362": {
      "model_module": "@jupyter-widgets/base",
      "model_module_version": "1.2.0",
      "model_name": "LayoutModel",
      "state": {}
     },
     "c25a38234e8f4e818670d9767f95a430": {
      "model_module": "jupyter-matplotlib",
      "model_module_version": "^0.9.0",
      "model_name": "MPLCanvasModel",
      "state": {
       "_cursor": "default",
       "_figure_label": "Figure 1",
       "_height": 708,
       "_width": 1746,
       "layout": "IPY_MODEL_4d250c5d35aa493295ca814fb3eaa1ee",
       "toolbar": "IPY_MODEL_6faf75ca5f3b41388f284e98ec2cf803",
       "toolbar_position": "left"
      }
     }
    },
    "version_major": 2,
    "version_minor": 0
   }
  }
 },
 "nbformat": 4,
 "nbformat_minor": 4
}
