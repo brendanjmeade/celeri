{
 "cells": [
  {
   "cell_type": "code",
   "execution_count": 1,
   "metadata": {},
   "outputs": [],
   "source": [
    "%load_ext autoreload\n",
    "%autoreload 2\n",
    "%config InlineBackend.figure_format = \"retina\""
   ]
  },
  {
   "cell_type": "code",
   "execution_count": 2,
   "metadata": {
    "execution": {
     "iopub.execute_input": "2021-08-22T18:29:51.661926Z",
     "iopub.status.busy": "2021-08-22T18:29:51.661659Z",
     "iopub.status.idle": "2021-08-22T18:29:51.956035Z",
     "shell.execute_reply": "2021-08-22T18:29:51.955292Z",
     "shell.execute_reply.started": "2021-08-22T18:29:51.661900Z"
    },
    "tags": []
   },
   "outputs": [],
   "source": [
    "import addict\n",
    "import copy\n",
    "import sys\n",
    "import numpy as np\n",
    "import pandas as pd\n",
    "import matplotlib.pyplot as plt\n",
    "from importlib import reload\n",
    "from tqdm.notebook import tqdm\n",
    "from typing import List, Dict, Tuple\n",
    "\n",
    "import celeri\n",
    "\n",
    "plt.rcParams[\"text.usetex\"] = False # Plotting the global model is much much faster with tex fonts turned off"
   ]
  },
  {
   "cell_type": "markdown",
   "metadata": {},
   "source": [
    "# Read in data files, create storage dictionaries, and do basic processing"
   ]
  },
  {
   "cell_type": "code",
   "execution_count": 4,
   "metadata": {},
   "outputs": [],
   "source": [
    "# Japan example\n",
    "command_file_name = \"../data/command/japan_command.json\"\n",
    "\n",
    "# Western North America example\n",
    "# command_file_name = \"../data/command/western_north_america_command.json\""
   ]
  },
  {
   "cell_type": "code",
   "execution_count": 13,
   "metadata": {},
   "outputs": [
    {
     "name": "stdout",
     "output_type": "stream",
     "text": [
      "\u001b[32m2022-05-18 10:59:26.257\u001b[0m | \u001b[1mINFO    \u001b[0m | \u001b[36mceleri.celeri\u001b[0m:\u001b[36mget_logger\u001b[0m:\u001b[36m107\u001b[0m - \u001b[1mRead: ../data/command/japan_command.json\u001b[0m\n",
      "\u001b[32m2022-05-18 10:59:26.257\u001b[0m | \u001b[1mINFO    \u001b[0m | \u001b[36mceleri.celeri\u001b[0m:\u001b[36mget_logger\u001b[0m:\u001b[36m108\u001b[0m - \u001b[1mRUN_NAME: 2022-05-18-10-59-26\u001b[0m\n",
      "\u001b[32m2022-05-18 10:59:26.257\u001b[0m | \u001b[1mINFO    \u001b[0m | \u001b[36mceleri.celeri\u001b[0m:\u001b[36mget_logger\u001b[0m:\u001b[36m109\u001b[0m - \u001b[1mWrite log file: ../runs/2022-05-18-10-59-26/2022-05-18-10-59-26.log\u001b[0m\n",
      "\u001b[32m2022-05-18 10:59:26.258\u001b[0m | \u001b[1mINFO    \u001b[0m | \u001b[36mceleri.celeri\u001b[0m:\u001b[36mread_data\u001b[0m:\u001b[36m114\u001b[0m - \u001b[1mReading data files\u001b[0m\n",
      "\u001b[32m2022-05-18 10:59:26.261\u001b[0m | \u001b[32m\u001b[1mSUCCESS \u001b[0m | \u001b[36mceleri.celeri\u001b[0m:\u001b[36mread_data\u001b[0m:\u001b[36m118\u001b[0m - \u001b[32m\u001b[1mRead: ../data/segment/japan_segment.csv\u001b[0m\n",
      "\u001b[32m2022-05-18 10:59:26.263\u001b[0m | \u001b[32m\u001b[1mSUCCESS \u001b[0m | \u001b[36mceleri.celeri\u001b[0m:\u001b[36mread_data\u001b[0m:\u001b[36m123\u001b[0m - \u001b[32m\u001b[1mRead: ../data/block/japan_block.csv\u001b[0m\n",
      "\u001b[32m2022-05-18 10:59:26.264\u001b[0m | \u001b[32m\u001b[1mSUCCESS \u001b[0m | \u001b[36mceleri.celeri\u001b[0m:\u001b[36mread_data\u001b[0m:\u001b[36m130\u001b[0m - \u001b[32m\u001b[1mRead: ../data/mesh/japan_mesh_parameters.json\u001b[0m\n"
     ]
    },
    {
     "data": {
      "text/html": [
       "<pre style=\"white-space:pre;overflow-x:auto;line-height:normal;font-family:Menlo,'DejaVu Sans Mono',consolas,'Courier New',monospace\"><span style=\"color: #808000; text-decoration-color: #808000; font-weight: bold\">Warning:</span><span style=\"color: #808000; text-decoration-color: #808000\"> The file contains tag data that couldn't be processed.</span>\n",
       "</pre>\n"
      ],
      "text/plain": [
       "\u001b[1;33mWarning:\u001b[0m\u001b[33m The file contains tag data that couldn't be processed.\u001b[0m\n"
      ]
     },
     "metadata": {},
     "output_type": "display_data"
    },
    {
     "name": "stdout",
     "output_type": "stream",
     "text": [
      "\u001b[32m2022-05-18 10:59:26.286\u001b[0m | \u001b[32m\u001b[1mSUCCESS \u001b[0m | \u001b[36mceleri.celeri\u001b[0m:\u001b[36mread_data\u001b[0m:\u001b[36m236\u001b[0m - \u001b[32m\u001b[1mRead: ../data/mesh/nankai.msh\u001b[0m\n"
     ]
    },
    {
     "data": {
      "text/html": [
       "<pre style=\"white-space:pre;overflow-x:auto;line-height:normal;font-family:Menlo,'DejaVu Sans Mono',consolas,'Courier New',monospace\"><span style=\"color: #808000; text-decoration-color: #808000; font-weight: bold\">Warning:</span><span style=\"color: #808000; text-decoration-color: #808000\"> The file contains tag data that couldn't be processed.</span>\n",
       "</pre>\n"
      ],
      "text/plain": [
       "\u001b[1;33mWarning:\u001b[0m\u001b[33m The file contains tag data that couldn't be processed.\u001b[0m\n"
      ]
     },
     "metadata": {},
     "output_type": "display_data"
    },
    {
     "name": "stdout",
     "output_type": "stream",
     "text": [
      "\u001b[32m2022-05-18 10:59:26.325\u001b[0m | \u001b[32m\u001b[1mSUCCESS \u001b[0m | \u001b[36mceleri.celeri\u001b[0m:\u001b[36mread_data\u001b[0m:\u001b[36m236\u001b[0m - \u001b[32m\u001b[1mRead: ../data/mesh/japan.msh\u001b[0m\n"
     ]
    },
    {
     "data": {
      "text/html": [
       "<pre style=\"white-space:pre;overflow-x:auto;line-height:normal;font-family:Menlo,'DejaVu Sans Mono',consolas,'Courier New',monospace\"><span style=\"color: #808000; text-decoration-color: #808000; font-weight: bold\">Warning:</span><span style=\"color: #808000; text-decoration-color: #808000\"> The file contains tag data that couldn't be processed.</span>\n",
       "</pre>\n"
      ],
      "text/plain": [
       "\u001b[1;33mWarning:\u001b[0m\u001b[33m The file contains tag data that couldn't be processed.\u001b[0m\n"
      ]
     },
     "metadata": {},
     "output_type": "display_data"
    },
    {
     "name": "stdout",
     "output_type": "stream",
     "text": [
      "\u001b[32m2022-05-18 10:59:26.358\u001b[0m | \u001b[32m\u001b[1mSUCCESS \u001b[0m | \u001b[36mceleri.celeri\u001b[0m:\u001b[36mread_data\u001b[0m:\u001b[36m236\u001b[0m - \u001b[32m\u001b[1mRead: ../data/mesh/sagami.msh\u001b[0m\n",
      "\u001b[32m2022-05-18 10:59:26.362\u001b[0m | \u001b[32m\u001b[1mSUCCESS \u001b[0m | \u001b[36mceleri.celeri\u001b[0m:\u001b[36mread_data\u001b[0m:\u001b[36m272\u001b[0m - \u001b[32m\u001b[1mRead: ../data/station/japan_station.csv\u001b[0m\n",
      "\u001b[32m2022-05-18 10:59:26.363\u001b[0m | \u001b[1mINFO    \u001b[0m | \u001b[36mceleri.celeri\u001b[0m:\u001b[36mread_data\u001b[0m:\u001b[36m287\u001b[0m - \u001b[1mNo mogi_file_name\u001b[0m\n",
      "\u001b[32m2022-05-18 10:59:26.364\u001b[0m | \u001b[1mINFO    \u001b[0m | \u001b[36mceleri.celeri\u001b[0m:\u001b[36mread_data\u001b[0m:\u001b[36m309\u001b[0m - \u001b[1mNo sar_file_name\u001b[0m\n"
     ]
    }
   ],
   "source": [
    "from scipy.spatial.distance import cdist\n",
    "\n",
    "command = celeri.get_command(command_file_name)\n",
    "celeri.create_output_folder(command)\n",
    "logger = celeri.get_logger(command)\n",
    "segment, block, meshes, station, mogi, sar = celeri.read_data(command)\n",
    "\n",
    "segment = celeri.snap_segments(segment, meshes)\n",
    "\n",
    "# # For each mesh, find associated segments\n",
    "# cut_segment_idx = []\n",
    "# all_edge_segment = celeri.make_default_segment(0)\n",
    "# for i in range(len(meshes)):\n",
    "#     these_segments = np.where((segment.patch_flag != 0) & (segment.patch_file_name == i+1))[0]\n",
    "#     cut_segment_idx = np.append(cut_segment_idx, these_segments)\n",
    "#     # Get top coordinates of the mesh\n",
    "#     top_el_indices = np.where(meshes[i].top_elements)\n",
    "#     edges = (np.sort(meshes[i].ordered_edge_nodes[:-1], axis=1))\n",
    "#     top_verts = (np.sort(meshes[i].verts[top_el_indices], axis=1))\n",
    "#     # Concatenate edges with vertex pairs\n",
    "#     edges1 = np.vstack((edges, top_verts[:, 0:2]))\n",
    "#     # Find unique edges\n",
    "#     unique_edges1, unique_indices1, unique_counts1 = np.unique(edges1, axis=0, return_index=True, return_counts=True)\n",
    "#     # But keep those edges that appear twice\n",
    "#     top_edge_indices1 = unique_indices1[np.where(unique_counts1==2)]\n",
    "#     # Same process with 2nd and 3rd columns of the mesh vertex array\n",
    "#     edges2 = np.vstack((edges, top_verts[:, 1:3]))\n",
    "#     unique_edges2, unique_indices2, unique_counts2 = np.unique(edges2, axis=0, return_index=True, return_counts=True)\n",
    "#     top_edge_indices2 = unique_indices2[np.where(unique_counts2==2)]\n",
    "#     # Final selection\n",
    "#     top_edge_indices = np.sort(np.hstack((top_edge_indices1, top_edge_indices2)))\n",
    "#     # Get new segment coordinates from these indices\n",
    "#     edge_segs = celeri.make_default_segment(len(top_edge_indices))\n",
    "#     edge_segs.lon1 = meshes[i].meshio_object.points[meshes[i].ordered_edge_nodes[top_edge_indices, 0], 0]\n",
    "#     edge_segs.lat1 = meshes[i].meshio_object.points[meshes[i].ordered_edge_nodes[top_edge_indices, 0], 1]\n",
    "#     edge_segs.lon2 = meshes[i].meshio_object.points[meshes[i].ordered_edge_nodes[top_edge_indices, 1], 0]\n",
    "#     edge_segs.lat2 = meshes[i].meshio_object.points[meshes[i].ordered_edge_nodes[top_edge_indices, 1], 1]\n",
    "#     edge_segs.locking_depth =- 15\n",
    "#     edge_segs.patch_flag =+ 1\n",
    "#     edge_segs.patch_file_name =+ i+1\n",
    "#     all_edge_segment = all_edge_segment.append(edge_segs)\n",
    "\n",
    "# # Get indices of segments to keep\n",
    "# keep_segment_idx = np.setdiff1d(range(len(segment.lon1)), cut_segment_idx)\n",
    "# # Isolate kept segments and reindex\n",
    "# keep_segment = segment.loc[keep_segment_idx]\n",
    "# new_index = range(len(keep_segment_idx))\n",
    "# keep_segment.index = new_index\n",
    "# # Find hanging endpoints; these mark terminations of mesh-replaced segments\n",
    "# lons = np.hstack((keep_segment.lon1, keep_segment.lon2))\n",
    "# lats = np.hstack((keep_segment.lat1, keep_segment.lat2))\n",
    "# coords = np.array([lons, lats])\n",
    "# unique_coords, indices, counts = np.unique(coords, axis=1, return_index=True, return_counts=True)\n",
    "# hanging_idx = indices[np.where(counts == 1)]\n",
    "# # Calculate distance to all mesh edge coordinates \n",
    "# # Can't just use the terminations because we might have triple junctions in the middle of a mesh\n",
    "# elons = np.hstack((all_edge_segment.lon1, all_edge_segment.lon2))\n",
    "# elats = np.hstack((all_edge_segment.lat1, all_edge_segment.lat2))\n",
    "# ecoords = np.array([elons, elats])\n",
    "# hang_to_mesh_dist = cdist(coords[:,hanging_idx].T, ecoords.T)\n",
    "# # Find closest edge coordinate\n",
    "# closest_edge_idx = np.argmin(hang_to_mesh_dist, axis=1)\n",
    "# # Replace segment coordinates with closest mesh coordinate\n",
    "# # Using a loop because we need to evaluate whether to replace endpoint 1 or 2\n",
    "# for i in range(len(closest_edge_idx)):\n",
    "#     if hanging_idx[i] < len(keep_segment.lon1):\n",
    "#         keep_segment.loc[hanging_idx[i], 'lon1'] = ecoords[0, closest_edge_idx[i]]\n",
    "#         keep_segment.loc[hanging_idx[i], 'lat1'] = ecoords[1, closest_edge_idx[i]]\n",
    "#     else:\n",
    "#         keep_segment.loc[hanging_idx[i]-len(keep_segment.lon1), 'lon2'] = ecoords[0, closest_edge_idx[i]]\n",
    "#         keep_segment.loc[hanging_idx[i]-len(keep_segment.lon1), 'lat2'] = ecoords[1, closest_edge_idx[i]]    \n",
    "# # Merge with mesh edge segments\n",
    "# new_segments = keep_segment.append(all_edge_segment)\n",
    "# new_segments.to_csv('~/Desktop/file1.csv')\n",
    "\n",
    "    \n",
    "    "
   ]
  },
  {
   "cell_type": "code",
   "execution_count": null,
   "metadata": {
    "execution": {
     "iopub.execute_input": "2021-08-22T18:29:53.570589Z",
     "iopub.status.busy": "2021-08-22T18:29:53.570331Z",
     "iopub.status.idle": "2021-08-22T18:30:09.817977Z",
     "shell.execute_reply": "2021-08-22T18:30:09.817443Z",
     "shell.execute_reply.started": "2021-08-22T18:29:53.570561Z"
    },
    "tags": []
   },
   "outputs": [],
   "source": [
    "command = celeri.get_command(command_file_name)\n",
    "celeri.create_output_folder(command)\n",
    "logger = celeri.get_logger(command)\n",
    "segment, block, meshes, station, mogi, sar = celeri.read_data(command)\n",
    "station = celeri.process_station(station, command)\n",
    "segment = celeri.process_segment(segment, command, meshes)\n",
    "sar = celeri.process_sar(sar, command)\n",
    "closure, block = celeri.assign_block_labels(segment, station, block, mogi, sar)\n",
    "assembly = addict.Dict()\n",
    "operators = addict.Dict()\n",
    "operators.meshes = [addict.Dict()] * len(meshes)\n",
    "assembly = celeri.merge_geodetic_data(assembly, station, sar) # Not sure this works correctly"
   ]
  },
  {
   "cell_type": "markdown",
   "metadata": {},
   "source": [
    "# Get elastic operators and TDE smoothing operators"
   ]
  },
  {
   "cell_type": "code",
   "execution_count": null,
   "metadata": {},
   "outputs": [],
   "source": [
    "# Get all elastic operators for segments and TDEs\n",
    "celeri.get_elastic_operators(operators, meshes, segment, station, command)\n",
    "\n",
    "# Get TDE smoothing operators\n",
    "celeri.get_all_mesh_smoothing_matrices(meshes, operators)"
   ]
  },
  {
   "cell_type": "markdown",
   "metadata": {},
   "source": [
    "# Calculate non-elastic operators"
   ]
  },
  {
   "cell_type": "code",
   "execution_count": null,
   "metadata": {
    "tags": []
   },
   "outputs": [],
   "source": [
    "operators.rotation_to_velocities = celeri.get_rotation_to_velocities_partials(station)\n",
    "operators.global_float_block_rotation = celeri.get_global_float_block_rotation_partials(station)\n",
    "assembly, operators.block_motion_constraints = celeri.get_block_motion_constraints(assembly, block, command)\n",
    "assembly, operators.slip_rate_constraints = celeri.get_slip_rate_constraints(assembly, segment, block, command)\n",
    "operators.rotation_to_slip_rate = celeri.get_rotation_to_slip_rate_partials(segment, block)\n",
    "operators.block_strain_rate_to_velocities, strain_rate_block_index = celeri.get_block_strain_rate_to_velocities_partials(block, station, segment)\n",
    "operators.mogi_to_velocities = celeri.get_mogi_to_velocities_partials(mogi, station, command)\n",
    "celeri.get_tde_slip_rate_constraints(meshes, operators)"
   ]
  },
  {
   "cell_type": "markdown",
   "metadata": {},
   "source": [
    "# Plot input data"
   ]
  },
  {
   "cell_type": "code",
   "execution_count": null,
   "metadata": {},
   "outputs": [],
   "source": [
    "celeri.plot_input_summary(command, segment, station, block, meshes, mogi, sar, lon_range=(130.0, 150.0), lat_range=(30.0, 45.0), quiver_scale=1e2)"
   ]
  },
  {
   "cell_type": "markdown",
   "metadata": {},
   "source": [
    "# Snapping segments to conform to mesh geometries"
   ]
  },
  {
   "cell_type": "code",
   "execution_count": null,
   "metadata": {},
   "outputs": [],
   "source": [
    "default_segment = celeri.make_default_segment(5)\n",
    "print(default_segment)"
   ]
  },
  {
   "cell_type": "markdown",
   "metadata": {},
   "source": [
    "# Sketching out the assembly of the block model system\n",
    "\n",
    "$$\n",
    "\\begin{bmatrix}\n",
    "    \\mathrm{geodetic \\; velocities} \\\\\n",
    "    \\mathrm{plate \\; rotation \\; constraints} \\\\\n",
    "    \\mathrm{slip \\; rate \\; constraints} \\\\\n",
    "    \\mathrm{TDE \\; smoothing \\; pseudodata = 0} \\\\\n",
    "    \\mathrm{TDE \\; rate \\; constraints} \\\\\n",
    "    \\mathrm{InSAR \\; LOS \\; changes} \n",
    "\\end{bmatrix}\n",
    "=\n",
    "\\begin{bmatrix}\n",
    "    \\mathrm{(rotations-elastic \\; segments) \\; to \\; velocities} & \\mathrm{TDEs \\; to \\; velocities} & \\mathrm{block \\; strain \\; rate \\; to \\; velocities} & \\mathrm{Mogi \\; to \\; velocities}\\\\\n",
    "    \\mathrm{identities}                                          & 0                                   & 0 \\\\\n",
    "    \\mathrm{plate \\; rotations \\; to \\; slip \\; rates}           & 0                                   & 0 \\\\\n",
    "    0                                                            & \\mathrm{TDE \\; smoothing \\; matrix} & 0 \\\\\n",
    "    0                                                            & \\mathrm{identities}                 & 0 \\\\\n",
    "    \\mathrm{(rotations-elastic \\; segments) \\; to \\; LOS}        & \\mathrm{TDEs \\; to \\; LOS}          & \\mathrm{block \\; strain \\; rate \\; to \\; velocities}\n",
    "\\end{bmatrix}\n",
    "\\begin{bmatrix}\n",
    "    \\mathrm{plate \\; rotation \\; rates} \\\\\n",
    "    \\mathrm{TDE \\; slip \\; rates} \\\\\n",
    "    \\mathrm{block \\; strain \\; rates} \\\\\n",
    "    \\mathrm{Mogi \\; rates}\n",
    "\\end{bmatrix}\n",
    "$$"
   ]
  },
  {
   "cell_type": "markdown",
   "metadata": {},
   "source": [
    "# Estimate block model parameters (dense)"
   ]
  },
  {
   "cell_type": "code",
   "execution_count": null,
   "metadata": {},
   "outputs": [],
   "source": [
    "index, estimation = celeri.assemble_and_solve_dense(command, assembly, operators, station, block, meshes)\n",
    "celeri.post_process_estimation(estimation, operators, station, index)\n",
    "celeri.write_output(command, estimation, station, segment, block, meshes)"
   ]
  },
  {
   "cell_type": "markdown",
   "metadata": {},
   "source": [
    "# Plot model summary"
   ]
  },
  {
   "cell_type": "code",
   "execution_count": null,
   "metadata": {},
   "outputs": [],
   "source": [
    "celeri.plot_estimation_summary(command, segment, station, meshes, estimation, lon_range=(130.0, 150.0), lat_range=(30.0, 45.0), quiver_scale=1e2)"
   ]
  }
 ],
 "metadata": {
  "interpreter": {
   "hash": "9db77a64a61e4dcdfbbb2dda9aea9044a427395acdc27b94ca04048540f5e665"
  },
  "kernelspec": {
   "display_name": "Python 3.10.1 ('celeri')",
   "language": "python",
   "name": "python3"
  },
  "language_info": {
   "codemirror_mode": {
    "name": "ipython",
    "version": 3
   },
   "file_extension": ".py",
   "mimetype": "text/x-python",
   "name": "python",
   "nbconvert_exporter": "python",
   "pygments_lexer": "ipython3",
   "version": "3.10.1"
  },
  "widgets": {
   "application/vnd.jupyter.widget-state+json": {
    "state": {
     "4d250c5d35aa493295ca814fb3eaa1ee": {
      "model_module": "@jupyter-widgets/base",
      "model_module_version": "1.2.0",
      "model_name": "LayoutModel",
      "state": {}
     },
     "6faf75ca5f3b41388f284e98ec2cf803": {
      "model_module": "jupyter-matplotlib",
      "model_module_version": "^0.9.0",
      "model_name": "ToolbarModel",
      "state": {
       "layout": "IPY_MODEL_9b061db2dc65459ca586b9b9f73c2362",
       "toolitems": [
        [
         "Home",
         "Reset original view",
         "home",
         "home"
        ],
        [
         "Back",
         "Back to previous view",
         "arrow-left",
         "back"
        ],
        [
         "Forward",
         "Forward to next view",
         "arrow-right",
         "forward"
        ],
        [
         "Pan",
         "Left button pans, Right button zooms\nx/y fixes axis, CTRL fixes aspect",
         "arrows",
         "pan"
        ],
        [
         "Zoom",
         "Zoom to rectangle\nx/y fixes axis, CTRL fixes aspect",
         "square-o",
         "zoom"
        ],
        [
         "Download",
         "Download plot",
         "floppy-o",
         "save_figure"
        ]
       ]
      }
     },
     "9b061db2dc65459ca586b9b9f73c2362": {
      "model_module": "@jupyter-widgets/base",
      "model_module_version": "1.2.0",
      "model_name": "LayoutModel",
      "state": {}
     },
     "c25a38234e8f4e818670d9767f95a430": {
      "model_module": "jupyter-matplotlib",
      "model_module_version": "^0.9.0",
      "model_name": "MPLCanvasModel",
      "state": {
       "_cursor": "default",
       "_figure_label": "Figure 1",
       "_height": 708,
       "_width": 1746,
       "layout": "IPY_MODEL_4d250c5d35aa493295ca814fb3eaa1ee",
       "toolbar": "IPY_MODEL_6faf75ca5f3b41388f284e98ec2cf803",
       "toolbar_position": "left"
      }
     }
    },
    "version_major": 2,
    "version_minor": 0
   }
  }
 },
 "nbformat": 4,
 "nbformat_minor": 4
}
