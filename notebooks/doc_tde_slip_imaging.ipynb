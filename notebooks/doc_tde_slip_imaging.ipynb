{
 "cells": [
  {
   "cell_type": "code",
   "execution_count": null,
   "metadata": {},
   "outputs": [],
   "source": [
    "%load_ext autoreload\n",
    "%autoreload 2\n",
    "%config InlineBackend.figure_format = \"retina\""
   ]
  },
  {
   "cell_type": "code",
   "execution_count": null,
   "metadata": {
    "tags": []
   },
   "outputs": [],
   "source": [
    "import addict\n",
    "import copy\n",
    "import numpy as np\n",
    "import matplotlib.pyplot as plt\n",
    "import matplotlib.tri as tri\n",
    "from importlib import reload\n",
    "\n",
    "import celeri\n",
    "\n",
    "plt.rcParams[\"text.usetex\"] = (\n",
    "    False  # Plotting is much much faster with tex fonts turned off\n",
    ")"
   ]
  },
  {
   "cell_type": "markdown",
   "metadata": {},
   "source": [
    "# Read data, calculate elastic TDE to station partials and distance weighted smoothing matrix"
   ]
  },
  {
   "cell_type": "code",
   "execution_count": null,
   "metadata": {},
   "outputs": [],
   "source": [
    "COMMAND_FILE_NAME = \"../data/config/western_north_america_config.json\"\n",
    "\n",
    "model = celeri.build_model(COMMAND_FILE_NAME)\n",
    "operators = celeri.build_operators(model, tde=True, eigen=False)"
   ]
  },
  {
   "cell_type": "code",
   "execution_count": null,
   "metadata": {},
   "outputs": [],
   "source": [
    "# Eliminate matrix entries for vertical displacments and tensile slip\n",
    "tde_matrix = copy.deepcopy(operators.tde.tde_to_velocities[0])\n",
    "tde_matrix = np.delete(tde_matrix, np.arange(2, tde_matrix.shape[0], 3), axis=0)\n",
    "tde_matrix = np.delete(tde_matrix, np.arange(2, tde_matrix.shape[1], 3), axis=1)"
   ]
  },
  {
   "cell_type": "markdown",
   "metadata": {},
   "source": [
    "# Functions used throughout.  Some may eventually go celeri.py"
   ]
  },
  {
   "cell_type": "code",
   "execution_count": null,
   "metadata": {},
   "outputs": [],
   "source": [
    "def plot_slip_distributions(\n",
    "    mesh, slip_distribution_input, slip_distribution_estimated, suptitle_string\n",
    "):\n",
    "    triangulation = tri.Triangulation(mesh.centroids[:, 0], mesh.centroids[:, 1])\n",
    "\n",
    "    levels = np.linspace(-1.0, 1.0, 30)\n",
    "    vmin = -1.0\n",
    "    vmax = 1.0\n",
    "    plt.figure(figsize=(12, 4))\n",
    "\n",
    "    plt.subplot(1, 4, 1)\n",
    "    plt.title(\"input strike-slip\")\n",
    "    tcf = plt.tricontourf(\n",
    "        triangulation,\n",
    "        slip_distribution_input[0::2],\n",
    "        cmap=\"seismic\",\n",
    "        levels=levels,\n",
    "        vmin=vmin,\n",
    "        vmax=vmax,\n",
    "        extend=\"both\",\n",
    "    )\n",
    "    plt.tricontour(\n",
    "        triangulation,\n",
    "        slip_distribution_input[0::2],\n",
    "        colors=\"k\",\n",
    "        linewidths=0.25,\n",
    "        levels=levels,\n",
    "    )\n",
    "    plt.plot(mesh.x_perimeter, mesh.y_perimeter, color=\"black\", linewidth=1)\n",
    "    plt.colorbar(tcf)\n",
    "    plt.gca().set_aspect(\"equal\", adjustable=\"box\")\n",
    "    plt.xlim([230.0, 240.0])\n",
    "    plt.ylim([37.5, 52.5])\n",
    "    plt.xticks([])\n",
    "    plt.yticks([])\n",
    "\n",
    "    plt.subplot(1, 4, 2)\n",
    "    plt.title(\"estimated strike-slip\")\n",
    "    tcf = plt.tricontourf(\n",
    "        triangulation,\n",
    "        slip_distribution_estimated[0::2],\n",
    "        cmap=\"seismic\",\n",
    "        levels=levels,\n",
    "        vmin=vmin,\n",
    "        vmax=vmax,\n",
    "        extend=\"both\",\n",
    "    )\n",
    "    plt.tricontour(\n",
    "        triangulation,\n",
    "        slip_distribution_estimated[0::2],\n",
    "        colors=\"k\",\n",
    "        linewidths=0.25,\n",
    "        levels=levels,\n",
    "    )\n",
    "    plt.plot(mesh.x_perimeter, mesh.y_perimeter, color=\"black\", linewidth=1)\n",
    "    plt.colorbar(tcf)\n",
    "    plt.gca().set_aspect(\"equal\", adjustable=\"box\")\n",
    "    plt.xlim([230.0, 240.0])\n",
    "    plt.ylim([37.5, 52.5])\n",
    "    plt.xticks([])\n",
    "    plt.yticks([])\n",
    "\n",
    "    plt.subplot(1, 4, 3)\n",
    "    plt.title(\"input dip-slip\")\n",
    "    tcf = plt.tricontourf(\n",
    "        triangulation,\n",
    "        slip_distribution_input[1::2],\n",
    "        cmap=\"seismic\",\n",
    "        levels=levels,\n",
    "        vmin=vmin,\n",
    "        vmax=vmax,\n",
    "        extend=\"both\",\n",
    "    )\n",
    "    plt.tricontour(\n",
    "        triangulation,\n",
    "        slip_distribution_input[1::2],\n",
    "        colors=\"k\",\n",
    "        linewidths=0.25,\n",
    "        levels=levels,\n",
    "    )\n",
    "    plt.plot(mesh.x_perimeter, mesh.y_perimeter, color=\"black\", linewidth=1)\n",
    "    plt.colorbar(tcf)\n",
    "    plt.gca().set_aspect(\"equal\", adjustable=\"box\")\n",
    "    plt.xlim([230.0, 240.0])\n",
    "    plt.ylim([37.5, 52.5])\n",
    "    plt.xticks([])\n",
    "    plt.yticks([])\n",
    "\n",
    "    plt.subplot(1, 4, 4)\n",
    "    plt.title(\"estimated dip-slip\")\n",
    "    tcf = plt.tricontourf(\n",
    "        triangulation,\n",
    "        slip_distribution_estimated[1::2],\n",
    "        cmap=\"seismic\",\n",
    "        levels=levels,\n",
    "        vmin=vmin,\n",
    "        vmax=vmax,\n",
    "        extend=\"both\",\n",
    "    )\n",
    "    plt.tricontour(\n",
    "        triangulation,\n",
    "        slip_distribution_estimated[1::2],\n",
    "        colors=\"k\",\n",
    "        linewidths=0.25,\n",
    "        levels=levels,\n",
    "    )\n",
    "    plt.plot(mesh.x_perimeter, mesh.y_perimeter, color=\"black\", linewidth=1)\n",
    "    plt.colorbar(tcf)\n",
    "    plt.gca().set_aspect(\"equal\", adjustable=\"box\")\n",
    "    plt.xlim([230.0, 240.0])\n",
    "    plt.ylim([37.5, 52.5])\n",
    "    plt.xticks([])\n",
    "    plt.yticks([])\n",
    "\n",
    "    plt.suptitle(suptitle_string)\n",
    "    plt.show()\n",
    "\n",
    "\n",
    "def get_synthetic_displacements(mesh, tri_linear_operator):\n",
    "    \"\"\"\n",
    "    Prescribe dip-slip in a Gaussian pattern.\n",
    "    \"\"\"\n",
    "    tri_centroid_to_mesh_lon = mesh.centroids[:, 0] - np.mean(mesh.centroids[:, 0])\n",
    "    tri_centroid_to_mesh_lat = mesh.centroids[:, 1] - np.mean(mesh.centroids[:, 1])\n",
    "\n",
    "    # Hardcoded northern Cascadia example that Jack suggested.\n",
    "    tri_centroid_to_mesh_lon = mesh.centroids[:, 0] - 234.5\n",
    "    tri_centroid_to_mesh_lat = mesh.centroids[:, 1] - 48.5\n",
    "\n",
    "    # Southern Cascadia example\n",
    "    tri_centroid_to_mesh_lon = mesh.centroids[:, 0] - np.mean(mesh.centroids[:, 0]) - 2\n",
    "    tri_centroid_to_mesh_lat = mesh.centroids[:, 1] - np.mean(mesh.centroids[:, 1])\n",
    "\n",
    "    tri_centroid_to_mesh_centroid_distance = np.sqrt(\n",
    "        tri_centroid_to_mesh_lon**2 + tri_centroid_to_mesh_lat**2\n",
    "    )\n",
    "    dip_slip_distribution = np.exp(\n",
    "        -((tri_centroid_to_mesh_centroid_distance / 1.0) ** 2.0)\n",
    "    )\n",
    "    slip_distribution = np.zeros(2 * dip_slip_distribution.size)\n",
    "    slip_distribution[1::2] = dip_slip_distribution  # Dip slip only\n",
    "    slip_distribution[0::2] = 1e-4 * np.random.randn(\n",
    "        dip_slip_distribution.size\n",
    "    )  # Adding a teeny amount of non-zero noise here just so contouring works...ugh\n",
    "    synthetic_displacements = tri_linear_operator @ slip_distribution\n",
    "    return slip_distribution, synthetic_displacements\n",
    "\n",
    "\n",
    "# Generate Guassian slip source and synthetic displacements\n",
    "slip_distribution, synthetic_displacements = get_synthetic_displacements(\n",
    "    model.meshes[0], tde_matrix\n",
    ")\n",
    "slip_distribution_strike_slip_true = slip_distribution[0::2]\n",
    "slip_distribution_dip_slip_true = slip_distribution[1::2]"
   ]
  },
  {
   "cell_type": "markdown",
   "metadata": {},
   "source": [
    "# Slip estimation with direct inverse and smoothing"
   ]
  },
  {
   "cell_type": "code",
   "execution_count": null,
   "metadata": {},
   "outputs": [],
   "source": [
    "# Slip estimation with direct inverse and smoothing matrix\n",
    "smoothing_matrix = operators.smoothing_matrix[0].toarray()\n",
    "smoothing_matrix = np.delete(\n",
    "    smoothing_matrix, np.arange(2, smoothing_matrix.shape[0], 3), axis=0\n",
    ")\n",
    "smoothing_matrix = np.delete(\n",
    "    smoothing_matrix, np.arange(2, smoothing_matrix.shape[1], 3), axis=1\n",
    ")\n",
    "smoothing_matrix = (\n",
    "    model.meshes[0].config.smoothing_weight * 1e-8 * smoothing_matrix\n",
    ")  # Weight smoothing matrix\n",
    "tde_and_smoothing_matrix = np.vstack((tde_matrix, smoothing_matrix))\n",
    "synthetic_displacements_with_smoothing = np.hstack(\n",
    "    (synthetic_displacements, np.zeros(smoothing_matrix.shape[0]).T)\n",
    ")\n",
    "slip_distribution_estimated = (\n",
    "    np.linalg.inv(tde_and_smoothing_matrix.T @ tde_and_smoothing_matrix)\n",
    "    @ tde_and_smoothing_matrix.T\n",
    "    @ synthetic_displacements_with_smoothing\n",
    ")\n",
    "plot_slip_distributions(\n",
    "    model.meshes[0],\n",
    "    slip_distribution,\n",
    "    slip_distribution_estimated,\n",
    "    suptitle_string=\"Direct inverse - with smoothing\",\n",
    ")\n",
    "print(\n",
    "    \"Dip-slip residual = \"\n",
    "    + str(\n",
    "        np.sum(\n",
    "            np.abs(slip_distribution_dip_slip_true - slip_distribution_estimated[1::2])\n",
    "        )\n",
    "    )\n",
    ")"
   ]
  },
  {
   "cell_type": "code",
   "execution_count": null,
   "metadata": {},
   "outputs": [],
   "source": []
  },
  {
   "cell_type": "code",
   "execution_count": null,
   "metadata": {},
   "outputs": [],
   "source": []
  }
 ],
 "metadata": {
  "interpreter": {
   "hash": "1c99b817e7692020a25f5bce5fd58f988aabefee874a9cd895a1468d49750c9a"
  },
  "kernelspec": {
   "display_name": "Python (Pixi)",
   "language": "python",
   "name": "pixi-kernel-python3"
  },
  "language_info": {
   "codemirror_mode": {
    "name": "ipython",
    "version": 3
   },
   "file_extension": ".py",
   "mimetype": "text/x-python",
   "name": "python",
   "nbconvert_exporter": "python",
   "pygments_lexer": "ipython3",
   "version": "3.12.10"
  },
  "widgets": {
   "application/vnd.jupyter.widget-state+json": {
    "state": {
     "4d250c5d35aa493295ca814fb3eaa1ee": {
      "model_module": "@jupyter-widgets/base",
      "model_module_version": "1.2.0",
      "model_name": "LayoutModel",
      "state": {}
     },
     "6faf75ca5f3b41388f284e98ec2cf803": {
      "model_module": "jupyter-matplotlib",
      "model_module_version": "^0.9.0",
      "model_name": "ToolbarModel",
      "state": {
       "layout": "IPY_MODEL_9b061db2dc65459ca586b9b9f73c2362",
       "toolitems": [
        [
         "Home",
         "Reset original view",
         "home",
         "home"
        ],
        [
         "Back",
         "Back to previous view",
         "arrow-left",
         "back"
        ],
        [
         "Forward",
         "Forward to next view",
         "arrow-right",
         "forward"
        ],
        [
         "Pan",
         "Left button pans, Right button zooms\nx/y fixes axis, CTRL fixes aspect",
         "arrows",
         "pan"
        ],
        [
         "Zoom",
         "Zoom to rectangle\nx/y fixes axis, CTRL fixes aspect",
         "square-o",
         "zoom"
        ],
        [
         "Download",
         "Download plot",
         "floppy-o",
         "save_figure"
        ]
       ]
      }
     },
     "9b061db2dc65459ca586b9b9f73c2362": {
      "model_module": "@jupyter-widgets/base",
      "model_module_version": "1.2.0",
      "model_name": "LayoutModel",
      "state": {}
     },
     "c25a38234e8f4e818670d9767f95a430": {
      "model_module": "jupyter-matplotlib",
      "model_module_version": "^0.9.0",
      "model_name": "MPLCanvasModel",
      "state": {
       "_cursor": "default",
       "_figure_label": "Figure 1",
       "_height": 708,
       "_width": 1746,
       "layout": "IPY_MODEL_4d250c5d35aa493295ca814fb3eaa1ee",
       "toolbar": "IPY_MODEL_6faf75ca5f3b41388f284e98ec2cf803",
       "toolbar_position": "left"
      }
     }
    },
    "version_major": 2,
    "version_minor": 0
   }
  }
 },
 "nbformat": 4,
 "nbformat_minor": 4
}
