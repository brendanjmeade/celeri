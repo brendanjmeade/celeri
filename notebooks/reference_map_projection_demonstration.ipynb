{
 "cells": [
  {
   "cell_type": "code",
   "execution_count": 48,
   "metadata": {
    "execution": {
     "iopub.execute_input": "2021-08-22T18:29:50.539195Z",
     "iopub.status.busy": "2021-08-22T18:29:50.538938Z",
     "iopub.status.idle": "2021-08-22T18:29:50.550334Z",
     "shell.execute_reply": "2021-08-22T18:29:50.549700Z",
     "shell.execute_reply.started": "2021-08-22T18:29:50.539169Z"
    },
    "tags": []
   },
   "outputs": [],
   "source": [
    "%matplotlib widget\n",
    "%config InlineBackend.figure_format = 'svg'"
   ]
  },
  {
   "cell_type": "code",
   "execution_count": 49,
   "metadata": {
    "execution": {
     "iopub.execute_input": "2021-08-22T18:29:51.661926Z",
     "iopub.status.busy": "2021-08-22T18:29:51.661659Z",
     "iopub.status.idle": "2021-08-22T18:29:51.956035Z",
     "shell.execute_reply": "2021-08-22T18:29:51.955292Z",
     "shell.execute_reply.started": "2021-08-22T18:29:51.661900Z"
    },
    "tags": []
   },
   "outputs": [],
   "source": [
    "import addict\n",
    "import datetime\n",
    "import os\n",
    "import pyproj\n",
    "import numpy as np\n",
    "import pandas as pd\n",
    "import matplotlib.pyplot as plt\n",
    "from importlib import reload\n",
    "from okada_wrapper import dc3dwrapper\n",
    "\n",
    "import celeri\n",
    "\n",
    "# Plotting the global model is much much faster with tex fonts turned off\n",
    "plt.rcParams['text.usetex'] = False"
   ]
  },
  {
   "cell_type": "code",
   "execution_count": 51,
   "metadata": {
    "execution": {
     "iopub.execute_input": "2021-08-22T18:29:53.570589Z",
     "iopub.status.busy": "2021-08-22T18:29:53.570331Z",
     "iopub.status.idle": "2021-08-22T18:30:09.817977Z",
     "shell.execute_reply": "2021-08-22T18:30:09.817443Z",
     "shell.execute_reply.started": "2021-08-22T18:29:53.570561Z"
    },
    "tags": []
   },
   "outputs": [],
   "source": [
    "RUN_NAME = datetime.datetime.now().strftime(\"%y%m%d%H%M%S\") + os.sep\n",
    "command_file_name = './data/western_north_america/western_north_america_command.json'\n",
    "# command_file_name = './data/global/global_command.json'\n",
    "command, segment, block, meshes, station, mogi, sar = celeri.read_data(command_file_name)\n",
    "station = celeri.process_station(station, command)\n",
    "segment = celeri.process_segment(segment, command, meshes)\n",
    "sar = celeri.process_sar(sar, command)\n",
    "closure = celeri.assign_block_labels(segment, station, block, mogi, sar)\n",
    "# celeri.plot_block_labels(segment, block, station, closure)"
   ]
  },
  {
   "cell_type": "code",
   "execution_count": 52,
   "metadata": {
    "tags": []
   },
   "outputs": [
    {
     "name": "stdout",
     "output_type": "stream",
     "text": [
      "Isolating slip rate constraints\n",
      "- Dip-slip rate constraint on Nevada02abb: rate = -2.40 (mm/yr), 1-sigma uncertainty = +/-1.20 (mm/yr)\n",
      "- Strike-slip rate constraint on SierraConnectbb: rate = -1.70 (mm/yr), 1-sigma uncertainty = +/-0.80 (mm/yr)\n",
      "- Strike-slip rate constraint on TestSjfa: rate = -17.50 (mm/yr), 1-sigma uncertainty = +/-8.80 (mm/yr)\n",
      "- Strike-slip rate constraint on aaa: rate = -3.50 (mm/yr), 1-sigma uncertainty = +/-1.70 (mm/yr)\n",
      "- Strike-slip rate constraint on asdf: rate = -4.00 (mm/yr), 1-sigma uncertainty = +/-2.00 (mm/yr)\n",
      "- Strike-slip rate constraint on asdf: rate = 2.80 (mm/yr), 1-sigma uncertainty = +/-2.50 (mm/yr)\n",
      "- Strike-slip rate constraint on asdfb: rate = -9.20 (mm/yr), 1-sigma uncertainty = +/-4.60 (mm/yr)\n",
      "- Strike-slip rate constraint on asdfba: rate = -17.00 (mm/yr), 1-sigma uncertainty = +/-8.50 (mm/yr)\n",
      "- Dip-slip rate constraint on asdfbb: rate = -3.00 (mm/yr), 1-sigma uncertainty = +/-1.50 (mm/yr)\n",
      "- Strike-slip rate constraint on cfm_camp_rock_complete_trace_part1_s: rate = -1.40 (mm/yr), 1-sigma uncertainty = +/-0.70 (mm/yr)\n",
      "- Strike-slip rate constraint on cfm_newport_inglewood_rose_conyon_complete_trace_part2_s: rate = -1.50 (mm/yr), 1-sigma uncertainty = +/-0.80 (mm/yr)\n",
      "- Strike-slip rate constraint on cfm_palos_verdes_extruded_trace_part7_s_2: rate = -3.30 (mm/yr), 1-sigma uncertainty = +/-1.60 (mm/yr)\n",
      "- Strike-slip rate constraint on cfm_san_andreas_mojave_extruded_trace_part1_sa: rate = -35.60 (mm/yr), 1-sigma uncertainty = +/-17.80 (mm/yr)\n",
      "- Strike-slip rate constraint on cfm_san_bernardino_valley_san_jacinto_complete_trace_part5_s: rate = -2.50 (mm/yr), 1-sigma uncertainty = +/-1.20 (mm/yr)\n",
      "- Strike-slip rate constraint on cfma_carrizo_extruded_1_trace_part1_sa: rate = -42.50 (mm/yr), 1-sigma uncertainty = +/-21.20 (mm/yr)\n",
      "- Strike-slip rate constraint on cfma_carrizo_extruded_1_trace_part5_saa: rate = -33.90 (mm/yr), 1-sigma uncertainty = +/-16.90 (mm/yr)\n",
      "- Strike-slip rate constraint on cfma_garlock_complete_trace_part11_s: rate = 6.50 (mm/yr), 1-sigma uncertainty = +/-4.50 (mm/yr)\n",
      "- Dip-slip rate constraint on cfma_newport_inglewood_complete_trace_part4_s: rate = 1.20 (mm/yr), 1-sigma uncertainty = +/-0.60 (mm/yr)\n",
      "- Strike-slip rate constraint on cfma_north_san_gabriel_extruded_60_trace_part4_s_2: rate = -2.80 (mm/yr), 1-sigma uncertainty = +/-1.40 (mm/yr)\n",
      "- Strike-slip rate constraint on cfma_pisgah_bullion_mesquite_lake_extruded_90_trace_part3_s: rate = -1.00 (mm/yr), 1-sigma uncertainty = +/-0.50 (mm/yr)\n",
      "- Dip-slip rate constraint on cfma_raymond_complete_trace_part4_sa: rate = 1.50 (mm/yr), 1-sigma uncertainty = +/-0.80 (mm/yr)\n",
      "- Strike-slip rate constraint on cfma_sa_parkfield_extruded_90dip_trace_part1_sabb: rate = -24.80 (mm/yr), 1-sigma uncertainty = +/-12.40 (mm/yr)\n",
      "- Strike-slip rate constraint on cfma_san_andreas_coachella_alt2_complete_trace_part1_s: rate = -15.50 (mm/yr), 1-sigma uncertainty = +/-7.80 (mm/yr)\n",
      "- Strike-slip rate constraint on cfma_san_andreas_san_bernardino_alt2_complete_trace_part7_s: rate = -12.40 (mm/yr), 1-sigma uncertainty = +/-6.20 (mm/yr)\n",
      "- Dip-slip rate constraint on cfma_santa_susana_complete_trace_part4_s: rate = 6.00 (mm/yr), 1-sigma uncertainty = +/-3.90 (mm/yr)\n",
      "- Strike-slip rate constraint on cfma_white_wolf_long_complete_trace_part6_s: rate = 4.00 (mm/yr), 1-sigma uncertainty = +/-4.40 (mm/yr)\n",
      "- Dip-slip rate constraint on cfma_white_wolf_long_complete_trace_part6_s: rate = 2.30 (mm/yr), 1-sigma uncertainty = +/-4.40 (mm/yr)\n",
      "- Strike-slip rate constraint on conn: rate = -1.40 (mm/yr), 1-sigma uncertainty = +/-0.70 (mm/yr)\n",
      "- Dip-slip rate constraint on deepspringsvalley1b: rate = -1.00 (mm/yr), 1-sigma uncertainty = +/-0.80 (mm/yr)\n",
      "- Strike-slip rate constraint on dmga: rate = -8.40 (mm/yr), 1-sigma uncertainty = +/-4.20 (mm/yr)\n",
      "- Strike-slip rate constraint on dmgab: rate = -24.00 (mm/yr), 1-sigma uncertainty = +/-12.00 (mm/yr)\n",
      "- Strike-slip rate constraint on dmgbb: rate = -23.00 (mm/yr), 1-sigma uncertainty = +/-11.50 (mm/yr)\n",
      "- Strike-slip rate constraint on rrr: rate = -1.80 (mm/yr), 1-sigma uncertainty = +/-0.90 (mm/yr)\n",
      "- Dip-slip rate constraint on tahoeaabaa: rate = -0.80 (mm/yr), 1-sigma uncertainty = +/-0.50 (mm/yr)\n"
     ]
    }
   ],
   "source": [
    "assembly = addict.Dict()\n",
    "operators = addict.Dict()\n",
    "assembly = celeri.merge_geodetic_data(assembly, station, sar)\n",
    "assembly, operators.block_motion_constraints = celeri.block_constraints(assembly, block, command)\n",
    "assembly, operators.slip_rate_constraints = celeri.slip_rate_constraints(assembly, segment, block, command)"
   ]
  },
  {
   "cell_type": "code",
   "execution_count": 53,
   "metadata": {},
   "outputs": [
    {
     "name": "stdout",
     "output_type": "stream",
     "text": [
      "0\n"
     ]
    }
   ],
   "source": [
    "def fault_parameters_to_okada_format(sx1, sy1, sx2, sy2, dip, D, bd):\n",
    "    \"\"\"\n",
    "    This function takes fault trace, dip, and locking depth information\n",
    "    and calculates the anchor coordinates, length, width and strike of\n",
    "    the fault plane following (1985).\n",
    "\n",
    "    Arguments:\n",
    "        sx1 : x coord of fault trace endpoint 1\n",
    "        sy1 : y coord of fault trace endpoint 1\n",
    "        sx2 : x coord of fault trace endpoint 2\n",
    "        sy2 : y coord of fault trace endpoint 2\n",
    "        dip : dip of fault plane (degrees)\n",
    "        D : fault locking depth\n",
    "        bd : burial depth (top \"locking depth\")\n",
    "\n",
    "    Returned variables:\n",
    "        strike : stike of fault plane\n",
    "        L : fault length\n",
    "        W : fault width\n",
    "        ofx : x coord of fault anchor\n",
    "        ofy : y coord of fault anchor\n",
    "        ofxe : x coord of other buried corner\n",
    "        ofye : y coord of other buried corner\n",
    "        tfx : x coord of fault anchor (top relative)\n",
    "        tfy : y coord of fault anchor (top relative)\n",
    "        tfxe : x coord of other buried corner (top relative)\n",
    "        tfye : y coord of other buried corner (top relative)\n",
    "    \"\"\"\n",
    "\n",
    "    okada_parameters = addict.Dict()\n",
    "    okada_parameters.strike = np.arctan2(sy1 - sy2, sx1 - sx2) + np.pi # This is by convention\n",
    "    okada_parameters.L = np.sqrt((sx2 - sx1)**2 + (sy2 - sy1)**2)\n",
    "    okada_parameters.W = (D - bd) / np.sin(np.deg2rad(dip))\n",
    "\n",
    "    # Calculate fault segment anchor and other buried point\n",
    "    okada_parameters.ofx = sx1 + D / np.tan(np.deg2rad(dip)) * np.sin(np.deg2rad(okada_parameters.strike))\n",
    "    okada_parameters.ofy = sy1 - D / np.tan(np.deg2rad(dip)) * np.cos(np.deg2rad(okada_parameters.strike))\n",
    "    okada_parameters.ofxe = sx2 + D / np.tan(np.deg2rad(dip)) * np.sin(np.deg2rad(okada_parameters.strike))\n",
    "    okada_parameters.ofye = sy2 - D / np.tan(np.deg2rad(dip)) * np.cos(np.deg2rad(okada_parameters.strike))\n",
    "\n",
    "    # Calculate fault segment anchor and other buried point (top relative)\n",
    "    okada_parameters.tfx = sx1 + bd / np.tan(np.deg2rad(dip)) * np.sin(np.deg2rad(okada_parameters.strike))\n",
    "    okada_parameters.tfy = sy1 - bd / np.tan(np.deg2rad(dip)) * np.cos(np.deg2rad(okada_parameters.strike))\n",
    "    okada_parameters.tfxe = sx2 + bd / np.tan(np.deg2rad(dip)) * np.sin(np.deg2rad(okada_parameters.strike))\n",
    "    okada_parameters.tfye = sy2 - bd / np.tan(np.deg2rad(dip)) * np.cos(np.deg2rad(okada_parameters.strike))\n",
    "\n",
    "    return okada_parameters\n",
    "\n",
    "\n",
    "# def GetElasticPartials(segment, stations):\n",
    "\"\"\"\n",
    "Calculates the elastic displacement partial derivatives based on the Okada\n",
    "formulation, using the source and receiver geometries defined in\n",
    "dicitonaries segment and stations. Before calculating the partials for\n",
    "each segment, a local oblique Mercator project is done.\n",
    "\"\"\"\n",
    "\n",
    "n_stations = len(station)\n",
    "n_segments = len(segment)\n",
    "G = np.zeros((3 * n_stations, 3 * n_segments))\n",
    "v1 = np.zeros(n_segments)\n",
    "v2 = np.zeros(n_segments)\n",
    "v3 = np.zeros(n_segments)\n",
    "\n",
    "# Loop through each segment and calculate displacements\n",
    "# for i in range(n_segments):\n",
    "for i in range(1):\n",
    "    print(i)\n",
    "\n",
    "    # Local map projection\n",
    "    projection = celeri.get_segment_oblique_projection(segment.lon1[i], segment.lat1[i], segment.lon2[i], segment.lat2[i])\n",
    "    station_x, station_y = projection(station.lon, station.lat)\n",
    "    segment_x1, segment_y1 = projection(segment.lon1[i], segment.lat1[i])\n",
    "    segment_x2, segment_y2 = projection(segment.lon2[i], segment.lat2[i])\n",
    "\n",
    "    # Calculate fault parameters in Okada form\n",
    "    # okada_parameters = fault_parameters_to_okada_format(f.px1, f.py1, f.px2, f.py2, segment.dip[i], segment.locking_depth[i], segment.burial_depth[i])\n",
    "    okada_parameters = fault_parameters_to_okada_format(segment_x1, segment_y1,\n",
    "        segment_x2, segment_y2, segment.dip[i], segment.locking_depth[i], \n",
    "        segment.burial_depth[i])\n",
    "\n",
    "    # Translate observation coordinates relative to fault anchor\n",
    "\n",
    "    # Rotation observation coordinates to remove strike.\n",
    "    # rot = np.array([[cos(theta), -sin(theta)], [sin(theta), cos(theta)]])\n",
    "    rotation_matrix = np.array([[np.cos(np.deg2rad(okada_parameters.strike)), -np.sin(np.deg2rad(okada_parameters.strike))], \n",
    "                                [np.sin(np.deg2rad(okada_parameters.strike)), np.cos(np.deg2rad(okada_parameters.strike))]])\n",
    "\n",
    "#     % Displacements due to unit slip components\n",
    "#     [ves vns vus...\n",
    "#      ved vnd vud...\n",
    "#      vet vnt vut] = okada_partials(ofx, ofy, strike, f.lDep, deg_to_rad(f.dip), L, W, 1, 1, 1, s.fpx, s.fpy, command.poissons_ratio);\n",
    "     \n",
    "#     v1{i} = reshape([ves vns vus]', 3*nSta, 1)\n",
    "#     v2{i} = reshape(sign(90 - f.dip).*[ved vnd vud]', 3*nSta, 1)\n",
    "#     v3{i} = reshape((f.dip - 90 == 0).*[vet vnt vut]', 3*nSta, 1) \n",
    "#     v1{i} = xyz2enumat((v1{i}), -f.strike + 90)\n",
    "#     v2{i} = xyz2enumat((v2{i}), -f.strike + 90)\n",
    "#     v3{i} = xyz2enumat((v3{i}), -f.strike + 90)\n",
    "\n",
    "# Place cell arrays into the partials matrix\n",
    "# G[:, 0::3] = cell2mat(v1)\n",
    "# G[:, 1::3] = cell2mat(v2)\n",
    "# G[:, 2::3] = cell2mat(v3) \n"
   ]
  },
  {
   "cell_type": "code",
   "execution_count": 54,
   "metadata": {},
   "outputs": [
    {
     "data": {
      "application/vnd.jupyter.widget-view+json": {
       "model_id": "0dbd56cd55f84c988f37d06e73cd455c",
       "version_major": 2,
       "version_minor": 0
      },
      "text/plain": [
       "Canvas(toolbar=Toolbar(toolitems=[('Home', 'Reset original view', 'home', 'home'), ('Back', 'Back to previous …"
      ]
     },
     "metadata": {},
     "output_type": "display_data"
    },
    {
     "data": {
      "application/vnd.jupyter.widget-view+json": {
       "model_id": "04e27b5bb32d4946841cc395243d07ac",
       "version_major": 2,
       "version_minor": 0
      },
      "text/plain": [
       "Canvas(toolbar=Toolbar(toolitems=[('Home', 'Reset original view', 'home', 'home'), ('Back', 'Back to previous …"
      ]
     },
     "metadata": {},
     "output_type": "display_data"
    },
    {
     "data": {
      "application/vnd.jupyter.widget-view+json": {
       "model_id": "730a38f3f625404cadd7fc38dc0d31e5",
       "version_major": 2,
       "version_minor": 0
      },
      "text/plain": [
       "Canvas(toolbar=Toolbar(toolitems=[('Home', 'Reset original view', 'home', 'home'), ('Back', 'Back to previous …"
      ]
     },
     "metadata": {},
     "output_type": "display_data"
    },
    {
     "data": {
      "application/vnd.jupyter.widget-view+json": {
       "model_id": "049f3fc280c0455e8a5bc613fb7cadd6",
       "version_major": 2,
       "version_minor": 0
      },
      "text/plain": [
       "Canvas(toolbar=Toolbar(toolitems=[('Home', 'Reset original view', 'home', 'home'), ('Back', 'Back to previous …"
      ]
     },
     "metadata": {},
     "output_type": "display_data"
    },
    {
     "data": {
      "application/vnd.jupyter.widget-view+json": {
       "model_id": "2d411c01370146d4b69900bb9295d5c9",
       "version_major": 2,
       "version_minor": 0
      },
      "text/plain": [
       "Canvas(toolbar=Toolbar(toolitems=[('Home', 'Reset original view', 'home', 'home'), ('Back', 'Back to previous …"
      ]
     },
     "metadata": {},
     "output_type": "display_data"
    }
   ],
   "source": [
    "# TODO: Locking depths are currently meters rather than KM in inputfiles!!!\n",
    "# TODO: Do I really need two rotation matrices?\n",
    "# TODO: Is there another XYZ to ENU conversion needed?\n",
    "\n",
    "i = 0\n",
    "segment.locking_depth.values[i] *= celeri.KM2M\n",
    "segment.burial_depth.values[i] *= celeri.KM2M\n",
    "\n",
    "# Project coordinates to flat space using a local oblique Mercator projection\n",
    "projection = celeri.get_segment_oblique_projection(segment.lon1[i], segment.lat1[i], segment.lon2[i], segment.lat2[i], True)\n",
    "station_x, station_y = projection(station.lon, station.lat)\n",
    "segment_x1, segment_y1 = projection(segment.lon1[i], segment.lat1[i])\n",
    "segment_x2, segment_y2 = projection(segment.lon2[i], segment.lat2[i])\n",
    "\n",
    "# Calculate geometric fault parameters\n",
    "segment_strike = np.arctan2(segment_y2 - segment_y1, segment_x2 - segment_x1) # radians\n",
    "segment_length = np.sqrt((segment_y2 - segment_y1)**2.0 + (segment_x2 - segment_x1)**2.0)\n",
    "segment_up_dip_width = (segment.locking_depth[i] - segment.burial_depth[i]) / np.sin(np.deg2rad(segment.dip[i]))\n",
    "\n",
    "# Translate stations and segment so that segment mid-point is at the origin\n",
    "segment_x_mid = (segment_x1 + segment_x2) / 2.0\n",
    "segment_y_mid = (segment_y1 + segment_y2) / 2.0\n",
    "station_x -= segment_x_mid\n",
    "station_y -= segment_y_mid\n",
    "segment_x1 -= segment_x_mid\n",
    "segment_x2 -= segment_x_mid\n",
    "segment_y1 -= segment_y_mid\n",
    "segment_y2 -= segment_y_mid\n",
    "\n",
    "# Unrotate coordinates to eliminate strike, segment will lie along y = 0\n",
    "# np.einsum guidance from: https://stackoverflow.com/questions/26289972/use-numpy-to-multiply-a-matrix-across-an-array-of-points\n",
    "rotation_matrix = np.array([[np.cos(segment_strike), -np.sin(segment_strike)], \n",
    "                            [np.sin(segment_strike), np.cos(segment_strike)]])\n",
    "un_rotation_matrix = np.array([[np.cos(-segment_strike), -np.sin(-segment_strike)], \n",
    "                               [np.sin(-segment_strike), np.cos(-segment_strike)]])\n",
    "station_x_rotated, station_y_rotated = np.hsplit(np.einsum(\"ij,kj->ik\", np.dstack((station_x, station_y))[0], un_rotation_matrix), 2)\n",
    "segment_x1_rotated, segment_y1_rotated = un_rotation_matrix.dot([segment_x1, segment_y1])\n",
    "segment_x2_rotated, segment_y2_rotated = un_rotation_matrix.dot([segment_x2, segment_y2])\n",
    "\n",
    "# Elastic displacements due to fault slip from Okada 1985\n",
    "alpha = (command.material_lambda + command.material_mu) / (command.material_lambda + 2 * command.material_mu)\n",
    "u_x = np.zeros_like(station_x)\n",
    "u_y = np.zeros_like(station_x)\n",
    "u_z = np.zeros_like(station_x)\n",
    "for j in range(len(station)):\n",
    "    _, u, _ = dc3dwrapper(alpha, # (lambda + mu) / (lambda + 2 * mu)\n",
    "                          [station_x_rotated[j], station_y_rotated[j], 0], # (meters) observation point\n",
    "                          -segment.locking_depth[i], # (meters) depth of the fault origin\n",
    "                          segment.dip[i], # (degrees) the dip-angle of the rectangular dislocation surface\n",
    "                          [-segment_length / 2, segment_length / 2], # (meters) the along-strike range of the surface (al1,al2 in the original)\n",
    "                          [0, segment_up_dip_width], # (meters) along-dip range of the surface (aw1, aw2 in the original)\n",
    "                          [1.0, 0.0, 0.0]) # (meters) strike-slip, dip-slip, tensile-slip\n",
    "    u_x[j] = u[0]\n",
    "    u_y[j] = u[1]\n",
    "    u_z[j] = u[2]\n",
    "\n",
    "\n",
    "# Rotate displacement to account for projected fault strike\n",
    "u_x_un_rotated, u_y_un_rotated = np.hsplit(np.einsum(\"ij,kj->ik\", np.dstack((u_x, u_y))[0], rotation_matrix), 2)\n",
    "\n",
    "\n",
    "\n",
    "plt.figure()\n",
    "plt.plot([segment.lon1[i], segment.lon2[i]], [segment.lat1[i], segment.lat2[i]], \"-r\")\n",
    "plt.plot(station.lon, station.lat, '.b', markersize=1)\n",
    "plt.xlim([235, 255])\n",
    "plt.ylim([30, 50])\n",
    "plt.gca().set_aspect('equal', adjustable='box')\n",
    "plt.title(\"Positions: longitude and latitude\")\n",
    "plt.show()\n",
    "\n",
    "plt.figure()\n",
    "plt.plot([segment_x1, segment_x2], [segment_y1, segment_y2], \"-r\")\n",
    "plt.plot(station_x, station_y, '.b', markersize=1)\n",
    "plt.xlim([-1e6, 1e6])\n",
    "plt.ylim([-1e6, 1e6])\n",
    "plt.gca().set_aspect('equal', adjustable='box')\n",
    "plt.title(\"Positions: projected and translated\")\n",
    "plt.show()\n",
    "\n",
    "plt.figure()\n",
    "plt.plot([segment_x1_rotated, segment_x2_rotated], [segment_y1_rotated, segment_y2_rotated], \"-r\")\n",
    "plt.plot(station_x_rotated, station_y_rotated, '.b', markersize=1)\n",
    "plt.xlim([-1e6, 1e6])\n",
    "plt.ylim([-1e6, 1e6])\n",
    "plt.gca().set_aspect('equal', adjustable='box')\n",
    "plt.title(\"Positions: projected, translated, and rotated\")\n",
    "plt.show()\n",
    "\n",
    "plt.figure()\n",
    "plt.plot([segment_x1_rotated, segment_x2_rotated], [segment_y1_rotated, segment_y2_rotated], \"-r\")\n",
    "# plt.plot(station_x_rotated, station_y_rotated, '.b', markersize=1)\n",
    "plt.quiver(station_x_rotated, station_y_rotated, u_x, u_y, scale=1e-1, scale_units='inches')\n",
    "plt.xlim([-1e6, 1e6])\n",
    "plt.ylim([-1e6, 1e6])\n",
    "plt.gca().set_aspect('equal', adjustable='box')\n",
    "plt.title(\"Displacements: projected, translated, and rotated\")\n",
    "plt.show()\n",
    "\n",
    "plt.figure()\n",
    "plt.plot([segment_x1, segment_x2], [segment_y1, segment_y2], \"-r\")\n",
    "# plt.plot(station_x, station_y, '.b', markersize=1)\n",
    "plt.quiver(station_x, station_y, u_x_un_rotated, u_y_un_rotated, scale=1e-1, scale_units='inches')\n",
    "plt.xlim([-1e6, 1e6])\n",
    "plt.ylim([-1e6, 1e6])\n",
    "plt.gca().set_aspect('equal', adjustable='box')\n",
    "plt.title(\"Displacements: projected and translated\")\n",
    "plt.show()\n",
    "\n",
    "plt.figure()\n",
    "plt.plot([segment.lon1[i], segment.lon2[i]], [segment.lat1[i], segment.lat2[i]], \"-r\")\n",
    "# plt.plot(station_x, station_y, '.b', markersize=1)\n",
    "plt.quiver(station.lon, station.lat, u_x_un_rotated, u_y_un_rotated, scale=1e-1, scale_units='inches')\n",
    "plt.xlim([235, 255])\n",
    "plt.ylim([30, 50])\n",
    "plt.gca().set_aspect('equal', adjustable='box')\n",
    "plt.title(\"Displacements: longitude and latitude\")\n",
    "plt.show()\n",
    "\n",
    "\n"
   ]
  },
  {
   "cell_type": "code",
   "execution_count": 55,
   "metadata": {},
   "outputs": [
    {
     "data": {
      "application/vnd.jupyter.widget-view+json": {
       "model_id": "f3e2f3a80f1b4e01b5d72de2539f0819",
       "version_major": 2,
       "version_minor": 0
      },
      "text/plain": [
       "Canvas(toolbar=Toolbar(toolitems=[('Home', 'Reset original view', 'home', 'home'), ('Back', 'Back to previous …"
      ]
     },
     "metadata": {},
     "output_type": "display_data"
    },
    {
     "name": "stdout",
     "output_type": "stream",
     "text": [
      "[1.60772981e-06 4.74659691e-06 2.24518635e-06 ... 2.61234760e-04\n",
      " 2.60098808e-04 2.79337517e-04]\n"
     ]
    }
   ],
   "source": [
    "plt.figure()\n",
    "plt.plot(u_x)\n",
    "plt.show()\n",
    "print(u_x)"
   ]
  },
  {
   "cell_type": "code",
   "execution_count": 56,
   "metadata": {},
   "outputs": [
    {
     "ename": "NameError",
     "evalue": "name 'c' is not defined",
     "output_type": "error",
     "traceback": [
      "\u001b[0;31m---------------------------------------------------------------------------\u001b[0m",
      "\u001b[0;31mNameError\u001b[0m                                 Traceback (most recent call last)",
      "\u001b[0;32m/var/folders/fl/sm71y44x3tqc7r1wc40k10gc0000gn/T/ipykernel_60437/512219964.py\u001b[0m in \u001b[0;36m<module>\u001b[0;34m\u001b[0m\n\u001b[0;32m----> 1\u001b[0;31m \u001b[0mc\u001b[0m\u001b[0;34m[\u001b[0m\u001b[0mi\u001b[0m\u001b[0;34m]\u001b[0m\u001b[0;34m\u001b[0m\u001b[0;34m\u001b[0m\u001b[0m\n\u001b[0m\u001b[1;32m      2\u001b[0m \u001b[0;31m# Zoom on region of interest\u001b[0m\u001b[0;34m\u001b[0m\u001b[0;34m\u001b[0m\u001b[0;34m\u001b[0m\u001b[0m\n\u001b[1;32m      3\u001b[0m \u001b[0;34m\u001b[0m\u001b[0m\n\u001b[1;32m      4\u001b[0m \u001b[0;31m# Plot corners and achor point\u001b[0m\u001b[0;34m\u001b[0m\u001b[0;34m\u001b[0m\u001b[0;34m\u001b[0m\u001b[0m\n\u001b[1;32m      5\u001b[0m \u001b[0;34m\u001b[0m\u001b[0m\n",
      "\u001b[0;31mNameError\u001b[0m: name 'c' is not defined"
     ]
    }
   ],
   "source": [
    "c[i]\n",
    "# Zoom on region of interest\n",
    "\n",
    "# Plot corners and achor point\n",
    "\n",
    "# Plot strike-slip deformation\n",
    "\n",
    "# Plot dip-slip deformation\n",
    "\n",
    "# Plot tensile-slip_deformation"
   ]
  },
  {
   "cell_type": "code",
   "execution_count": null,
   "metadata": {},
   "outputs": [],
   "source": [
    "# Try Ben's test Okada\n",
    "\"\"\"\n",
    "Seven arguments are required:\n",
    "\n",
    "alpha = (lambda + mu) / (lambda + 2 * mu)\n",
    "xo = 3-vector representing the observation point (x, y, z in the original)\n",
    "depth = the depth of the fault origin\n",
    "dip = the dip-angle of the rectangular dislocation surface\n",
    "strike_width = the along-strike range of the surface (al1,al2 in the original)\n",
    "dip_width = the along-dip range of the surface (aw1, aw2 in the original)\n",
    "dislocation = 3-vector representing the direction of motion on the surface\n",
    "(DISL1 = strike-slip, DISL2 = dip-slip, DISL3 = opening/overlap)\n",
    "\"\"\"\n",
    "\n",
    "source_depth = 3.0e3 # meters\n",
    "dip = 90  # degrees\n",
    "alpha = (command.material_lambda + command.material_mu) / (command.material_lambda + 2 * command.material_mu)\n",
    "\n",
    "n_obs = 100\n",
    "x = np.linspace(-1, 1, n_obs)\n",
    "y = np.linspace(-1, 1, n_obs)\n",
    "x, y = np.meshgrid(x, y)\n",
    "x = x.flatten()\n",
    "y = y.flatten()\n",
    "\n",
    "# x = x - x_fault\n",
    "# y = y - yfault\n",
    "\n",
    "ux = np.zeros_like(x)\n",
    "uy = np.zeros_like(x)\n",
    "uz = np.zeros_like(x)\n",
    "for i in range(x.size):\n",
    "    _, u, _ = dc3dwrapper(alpha, # (lambda + mu) / (lambda + 2 * mu)\n",
    "                            [x[i], y[i], 0], # (meters) observation point\n",
    "                            source_depth, # (meters) depth of the fault origin\n",
    "                            dip, # (degrees) the dip-angle of the rectangular dislocation surface\n",
    "                            [-0.6, 0.6], # (meters) the along-strike range of the surface (al1,al2 in the original)\n",
    "                            [0, 3.0], # (meters) along-dip range of the surface (aw1, aw2 in the original)\n",
    "                            [1.0, 0.0, 0.0]) # (meters) strike-slip, dip-slip, tensile-slip\n",
    "    ux[i] = u[0]\n",
    "    uy[i] = u[1]\n",
    "    uz[i] = u[2]\n",
    "\n",
    "\n",
    "plt.figure()\n",
    "plt.quiver(x, y, ux, uy)\n",
    "plt.gca().set_aspect('equal', adjustable='box')\n",
    "plt.show()\n",
    "\n"
   ]
  },
  {
   "cell_type": "code",
   "execution_count": null,
   "metadata": {},
   "outputs": [],
   "source": [
    "# def okada_partials(xf, yf, strike, d, delta, L, W, U1, U2, U3, xs, ys, Pr):\n",
    "#   \"\"\"\n",
    "#   Arguments:\n",
    "#     xf     : x component of fault corner in Okada ref frame\n",
    "#     xf     : y component of fault corner in Okada ref frame\n",
    "#     strike : is the azimuth of the fault (should always be zero for blocks_sp1 case)\n",
    "#     d      : is the depth (-z) of the origin of the fault\n",
    "#     dip    : is the inclination of the fault (measured clockwise from horizontal left, facing along the strike)\n",
    "#     L      : is the along strike length of the fault plane\n",
    "#     W      : is the down dip length of fault plane\n",
    "#     U1     : is the magnitude of the strike slip dislocation\n",
    "#     U2     : is the magnitude of the dip slip dislocation\n",
    "#     U3     : is the magnitude of the tensile dislocation\n",
    "#     xs     : x component of station position\n",
    "#     ys     : y component of station position\n",
    "#     Pr     : is Poisson's ratio\n",
    "\n",
    "#   Returned variables:\n",
    "#     uxtot  : total x displacement\n",
    "#     uytot  : total y displacement\n",
    "#     uztot  : total z displacement\n",
    "\n",
    "#   \"\"\"\n",
    "#   uxtot\t\t\t       = zeros(length(xs), 1);\n",
    "#   uytot              = zeros(length(xr), 1);\n",
    "#   uztot              = zeros(length(xr), 1);\n",
    "\n",
    "#   tol                = 1.0e-4\n",
    "#   alpha              = -2 * Pr + 1\n",
    "\n",
    "#   # Get station locations relative to fault anchor and remove strike\n",
    "#   xt                 = xs - xf\n",
    "#   yt                 = ys - yf\n",
    "\n",
    "#   alpha_rot          = -strike\n",
    "#   xr, yr           = rotate_xy_vec(xt, yt, alpha_rot)\n",
    "\n",
    "\n",
    "# %%%%%%%%%%%%%%%%%%%%%%%%%%%%%%%%%%%%%%%%%%%%%%%%%%%%%%%%\n",
    "# %%  Calculate some values that are frequently needed  %%\n",
    "# %%%%%%%%%%%%%%%%%%%%%%%%%%%%%%%%%%%%%%%%%%%%%%%%%%%%%%%%\n",
    "# sind               = sin(delta);\n",
    "# cosd               = cos(delta);\n",
    "# twopi              = 2.*pi;\n",
    "\n",
    "\n",
    "# %%%%%%%%%%%%%%%%%%%%%%%%%%%%%%%%%%%%%%%%%%\n",
    "# %%  Find displacements at each station  %%\n",
    "# %%%%%%%%%%%%%%%%%%%%%%%%%%%%%%%%%%%%%%%%%%\n",
    "#   x               = xr;\n",
    "#   y               = yr;\n",
    "#   p               = y.*cosd + d.*sind;\n",
    "#   q               = repmat(y.*sind - d.*cosd, 1, 4);\n",
    "#   zi              = [x x x-L x-L];\n",
    "#   eta             = [p p-W p p-W];\n",
    "#   ybar            = eta.*cosd + q.*sind;\n",
    "#   dbar            = eta.*sind - q.*cosd;\n",
    "#   R               = sqrt(zi.^2 + eta.^2 + q.^2);\n",
    "#   X               = sqrt(zi.^2 + q.^2);\n",
    "\n",
    "#   %%%%%%%%%%%%%%%%%%%%%%%%%%%%%%%%%%%%%%%%%%%%%%%%\n",
    "#   %%  Calculate some more commonly used values  %%\n",
    "#   %%  These are introduced to reduce repetive   %%\n",
    "#   %%  calculations.  (see okada.m for Okada's   %%\n",
    "#   %%  form of the equations)                    %%\n",
    "#   %%%%%%%%%%%%%%%%%%%%%%%%%%%%%%%%%%%%%%%%%%%%%%%%\n",
    "#   Reta            = R+eta;\n",
    "#   Rzi             = R+zi;\n",
    "#   Rdbar           = R+dbar;\n",
    "#   qdivR           = q./R;\n",
    "#   phi             = atan(zi.*eta./q./R);\n",
    "\n",
    "\n",
    "#   if (abs(cosd) >= tol)\n",
    "#     I5            =  alpha * 2 ./ cosd * atan((eta.*(X + q.*cosd) ...\n",
    "#                      + (X.*(R + X)*sind))./(zi.*(R+X).*cosd));\n",
    "#     I4            =  alpha./cosd * (log(Rdbar) - sind.*log(Reta));\n",
    "#     I3            =  alpha .* (1./cosd.*ybar./Rdbar - log(Reta) )  ...\n",
    "#                      + sind./cosd.*I4;\n",
    "#     I2            =  alpha .* (-log(Reta)) - I3;\n",
    "#     I1            =  alpha .* (-1./cosd.*zi./Rdbar) - sind./cosd.*I5;\n",
    "#   else\n",
    "#     I5            = -alpha.*(zi.*sind)./Rdbar;\n",
    "#     I4            = -alpha.*q./Rdbar;\n",
    "#     I3            =  alpha./2 .*(eta./Rdbar + ybar.*q./Rdbar.^2 - log(Reta));\n",
    "#     I2            =  alpha .* (-log(Reta)) - I3;\n",
    "#     I1            = -alpha/2 .* (zi.*q)./Rdbar.^2;\n",
    "#   end\n",
    "\n",
    "#   uxs             = -U1./twopi .* (zi.*qdivR./(Reta) + phi + I1.*sind);\n",
    "#   uxd             = -U2./twopi .* (qdivR - I3.*sind.*cosd);\n",
    "#   uxt             =  U3./twopi .* (q.*qdivR./(Reta) - I3.*sind.^2);\n",
    "\n",
    "#   uys             = -U1./twopi .* (ybar.*qdivR./(Reta) + q.*cosd./(Reta) + I2.*sind);\n",
    "#   uyd             = -U2./twopi .* (ybar.*qdivR./(Rzi)  + cosd.*phi - I1.*sind.*cosd);\n",
    "#   uyt             =  U3./twopi .* (-dbar.*qdivR./(Rzi) - sind.*(zi.*qdivR./(Reta) - phi) - I1.*sind.^2);\n",
    "\n",
    "#   uzs             = -U1./twopi .* (dbar.*qdivR./(Reta) + q.*sind./(Reta) + I4.*sind);\n",
    "#   uzd             = -U2./twopi .* (dbar.*qdivR./(Rzi) + sind.*phi - I5.*sind.*cosd);\n",
    "#   uzt             =  U3./twopi .* (ybar.*qdivR./(Rzi) + cosd.*(zi.*qdivR./(Reta) - phi) - I5.*sind.^2);\n",
    "\n",
    "#   uxstot          = uxs(:, 1) - uxs(:, 2) - uxs(:, 3) + uxs(:, 4);\n",
    "#   uxdtot          = uxd(:, 1) - uxd(:, 2) - uxd(:, 3) + uxd(:, 4);\n",
    "#   uxttot          = uxt(:, 1) - uxt(:, 2) - uxt(:, 3) + uxt(:, 4);\n",
    "#   uystot          = uys(:, 1) - uys(:, 2) - uys(:, 3) + uys(:, 4);\n",
    "#   uydtot          = uyd(:, 1) - uyd(:, 2) - uyd(:, 3) + uyd(:, 4);\n",
    "#   uyttot          = uyt(:, 1) - uyt(:, 2) - uyt(:, 3) + uyt(:, 4);\n",
    "#   uzstot          = uzs(:, 1) - uzs(:, 2) - uzs(:, 3) + uzs(:, 4);\n",
    "#   uzdtot          = uzd(:, 1) - uzd(:, 2) - uzd(:, 3) + uzd(:, 4);\n",
    "#   uzttot          = uzt(:, 1) - uzt(:, 2) - uzt(:, 3) + uzt(:, 4);\n",
    "\n",
    "# %%  Rotate the station displacements back to include the effect of the strike\n",
    "# [uxstot, uystot]  = rotate_xy_vec(uxstot, uystot, -alpha_rot);\n",
    "# [uxdtot, uydtot]  = rotate_xy_vec(uxdtot, uydtot, -alpha_rot);\n",
    "# [uxttot, uyttot]  = rotate_xy_vec(uxttot, uyttot, -alpha_rot);\n",
    "\n",
    "# return uxstot, uystot, uzstot, uxdtot, uydtot, uzdtot, uxttot, uyttot, uzttot"
   ]
  },
  {
   "cell_type": "code",
   "execution_count": null,
   "metadata": {},
   "outputs": [],
   "source": []
  }
 ],
 "metadata": {
  "interpreter": {
   "hash": "1c99b817e7692020a25f5bce5fd58f988aabefee874a9cd895a1468d49750c9a"
  },
  "kernelspec": {
   "display_name": "Python 3.9.6 64-bit ('celeri': conda)",
   "name": "python3"
  },
  "language_info": {
   "codemirror_mode": {
    "name": "ipython",
    "version": 3
   },
   "file_extension": ".py",
   "mimetype": "text/x-python",
   "name": "python",
   "nbconvert_exporter": "python",
   "pygments_lexer": "ipython3",
   "version": "3.9.6"
  },
  "widgets": {
   "application/vnd.jupyter.widget-state+json": {
    "state": {
     "4d250c5d35aa493295ca814fb3eaa1ee": {
      "model_module": "@jupyter-widgets/base",
      "model_module_version": "1.2.0",
      "model_name": "LayoutModel",
      "state": {}
     },
     "6faf75ca5f3b41388f284e98ec2cf803": {
      "model_module": "jupyter-matplotlib",
      "model_module_version": "^0.9.0",
      "model_name": "ToolbarModel",
      "state": {
       "layout": "IPY_MODEL_9b061db2dc65459ca586b9b9f73c2362",
       "toolitems": [
        [
         "Home",
         "Reset original view",
         "home",
         "home"
        ],
        [
         "Back",
         "Back to previous view",
         "arrow-left",
         "back"
        ],
        [
         "Forward",
         "Forward to next view",
         "arrow-right",
         "forward"
        ],
        [
         "Pan",
         "Left button pans, Right button zooms\nx/y fixes axis, CTRL fixes aspect",
         "arrows",
         "pan"
        ],
        [
         "Zoom",
         "Zoom to rectangle\nx/y fixes axis, CTRL fixes aspect",
         "square-o",
         "zoom"
        ],
        [
         "Download",
         "Download plot",
         "floppy-o",
         "save_figure"
        ]
       ]
      }
     },
     "9b061db2dc65459ca586b9b9f73c2362": {
      "model_module": "@jupyter-widgets/base",
      "model_module_version": "1.2.0",
      "model_name": "LayoutModel",
      "state": {}
     },
     "c25a38234e8f4e818670d9767f95a430": {
      "model_module": "jupyter-matplotlib",
      "model_module_version": "^0.9.0",
      "model_name": "MPLCanvasModel",
      "state": {
       "_cursor": "default",
       "_figure_label": "Figure 1",
       "_height": 708,
       "_width": 1746,
       "layout": "IPY_MODEL_4d250c5d35aa493295ca814fb3eaa1ee",
       "toolbar": "IPY_MODEL_6faf75ca5f3b41388f284e98ec2cf803",
       "toolbar_position": "left"
      }
     }
    },
    "version_major": 2,
    "version_minor": 0
   }
  }
 },
 "nbformat": 4,
 "nbformat_minor": 4
}
