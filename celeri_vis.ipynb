{
 "cells": [
  {
   "cell_type": "code",
   "execution_count": null,
   "metadata": {
    "execution": {
     "iopub.execute_input": "2021-08-22T18:29:50.539195Z",
     "iopub.status.busy": "2021-08-22T18:29:50.538938Z",
     "iopub.status.idle": "2021-08-22T18:29:50.550334Z",
     "shell.execute_reply": "2021-08-22T18:29:50.549700Z",
     "shell.execute_reply.started": "2021-08-22T18:29:50.539169Z"
    },
    "tags": []
   },
   "outputs": [],
   "source": [
    "%matplotlib widget\n",
    "%config InlineBackend.figure_format = 'svg'"
   ]
  },
  {
   "cell_type": "code",
   "execution_count": null,
   "metadata": {
    "execution": {
     "iopub.execute_input": "2021-08-22T18:29:51.661926Z",
     "iopub.status.busy": "2021-08-22T18:29:51.661659Z",
     "iopub.status.idle": "2021-08-22T18:29:51.956035Z",
     "shell.execute_reply": "2021-08-22T18:29:51.955292Z",
     "shell.execute_reply.started": "2021-08-22T18:29:51.661900Z"
    },
    "tags": []
   },
   "outputs": [],
   "source": [
    "import pygmt\n",
    "import numpy as np\n",
    "import pandas as pd\n",
    "import matplotlib.pyplot as plt\n",
    "from importlib import reload\n",
    "\n",
    "import celeri\n",
    "celeri = reload(celeri)\n",
    "\n",
    "# Plotting the global model is much much faster with tex fonts turned off\n",
    "plt.rcParams['text.usetex'] = False"
   ]
  },
  {
   "cell_type": "code",
   "execution_count": null,
   "metadata": {
    "execution": {
     "iopub.execute_input": "2021-08-22T18:29:53.570589Z",
     "iopub.status.busy": "2021-08-22T18:29:53.570331Z",
     "iopub.status.idle": "2021-08-22T18:30:09.817977Z",
     "shell.execute_reply": "2021-08-22T18:30:09.817443Z",
     "shell.execute_reply.started": "2021-08-22T18:29:53.570561Z"
    },
    "tags": []
   },
   "outputs": [],
   "source": [
    "command_file_name = \"./data/western_north_america/basic_command.json\"\n",
    "command, segment, block, meshes, station, mogi, sar = celeri.read_data(command_file_name)\n",
    "station = celeri.process_station(station, command)\n",
    "segment = celeri.process_segment(segment, command, meshes)\n",
    "sar = celeri.process_sar(sar, command)\n",
    "closure, block = celeri.assign_block_labels(segment, station, block, mogi, sar)\n",
    "# celeri.plot_block_labels(segment, block, station, closure)"
   ]
  },
  {
   "cell_type": "code",
   "execution_count": null,
   "metadata": {
    "tags": []
   },
   "outputs": [],
   "source": [
    "# celeri.plot_segment_displacements(segment, station, command, segment_idx=0, strike_slip=1, dip_slip=0, tensile_slip=0, lon_min=235, lon_max=255, lat_min=30, lat_max=50, quiver_scale=1e-1)\n",
    "# Plot TDE displacements from a single element\n",
    "# tri_idx = 0\n",
    "# vel_east, vel_north, vel_up = celeri.get_tri_displacements(station.lon.to_numpy(), station.lat.to_numpy(), meshes, command.material_lambda, command.material_mu, tri_idx=0, strike_slip=1, dip_slip=0, tensile_slip=0)\n",
    "# plt.figure()\n",
    "# plt.plot(meshes[0].lon1[tri_idx], meshes[0].lat1[tri_idx], \".r\")\n",
    "# plt.plot(meshes[0].lon2[tri_idx], meshes[0].lat2[tri_idx], \".r\")\n",
    "# plt.plot(meshes[0].lon3[tri_idx], meshes[0].lat3[tri_idx], \".r\")\n",
    "# plt.quiver(station.lon, station.lat, vel_east, vel_north, scale=1e-3)\n",
    "# plt.show()"
   ]
  },
  {
   "cell_type": "code",
   "execution_count": null,
   "metadata": {},
   "outputs": [],
   "source": [
    "# Plot TDE displacements from a single element\n",
    "tri_idx = 0\n",
    "vel_east, vel_north, vel_up = celeri.get_tri_displacements(station.lon.to_numpy(), station.lat.to_numpy(), meshes, command.material_lambda, command.material_mu, tri_idx=0, strike_slip=1, dip_slip=0, tensile_slip=0)\n",
    "plt.figure()\n",
    "plt.plot(meshes[0].lon1[tri_idx], meshes[0].lat1[tri_idx], \".r\")\n",
    "plt.plot(meshes[0].lon2[tri_idx], meshes[0].lat2[tri_idx], \".r\")\n",
    "plt.plot(meshes[0].lon3[tri_idx], meshes[0].lat3[tri_idx], \".r\")\n",
    "plt.quiver(station.lon, station.lat, vel_east, vel_north, scale=1e-3)\n",
    "plt.show()"
   ]
  },
  {
   "cell_type": "code",
   "execution_count": null,
   "metadata": {},
   "outputs": [],
   "source": [
    "# Create a plot with coast, Miller projection (J) over the continental US\n",
    "min_lon = -135.0\n",
    "max_lon = -110.0\n",
    "min_lat = 30.0\n",
    "max_lat = 50.0\n",
    "region = [min_lon, max_lon, min_lat, max_lat]\n",
    "topo_data = '@earth_relief_30s'\n",
    "# topo_data = '@earth_relief_01m'\n",
    "projection = \"J-65/12c\"\n",
    "\n",
    "fig = pygmt.Figure()\n",
    "pygmt.config(MAP_FRAME_TYPE=\"plain\")\n",
    "pygmt.config(MAP_FRAME_PEN=\"0.25p\")\n",
    "pygmt.config(MAP_TICK_PEN=\"0.25p\")\n",
    "\n",
    "pygmt.makecpt(\n",
    "    cmap='topo',\n",
    "    # cmap='terra',\n",
    "    # series='-4000/4000/20',\n",
    "    # series='-11000/4000/500',\n",
    "    continuous=True\n",
    ")\n",
    "\n",
    "fig.grdimage(\n",
    "    grid=topo_data,\n",
    "    region=region,\n",
    "    # shading=True,\n",
    "    projection=projection,\n",
    "    )\n",
    "\n",
    "fig.coast(\n",
    "    region=region,\n",
    "    projection=projection,\n",
    "    # land=\"lightgray\",\n",
    "    # water=\"white\",\n",
    "    area_thresh=4000,\n",
    "    shorelines=\"0.25p,200/200/200\",\n",
    "    frame=\"p\",\n",
    ")\n",
    "\n",
    "# Plot block boundaries\n",
    "for i in range(closure.n_polygons()):\n",
    "    fig.plot(x=closure.polygons[i].vertices[:, 0], y=closure.polygons[i].vertices[:, 1], pen=\"0.25p,0/0/0\")\n",
    "\n",
    "# Plot GPS stations\n",
    "# fig.plot(x=station.lon, y=station.lat, style=\"c0.05\", color=\"yellow\", pen=\"0.1p,black\")\n",
    "fig.show()"
   ]
  },
  {
   "cell_type": "code",
   "execution_count": null,
   "metadata": {},
   "outputs": [],
   "source": [
    "# Stained glass block polygons\n",
    "fig = pygmt.Figure()\n",
    "pygmt.config(MAP_FRAME_TYPE=\"plain\")\n",
    "pygmt.config(MAP_FRAME_PEN=\"0.25p\")\n",
    "pygmt.config(MAP_TICK_PEN=\"0.25p\")\n",
    "\n",
    "pygmt.makecpt(\n",
    "    cmap='gray',\n",
    "    series='-4000/4000/20',\n",
    "    continuous=True\n",
    ")\n",
    "\n",
    "fig.grdimage(\n",
    "    grid=topo_data,\n",
    "    region=region,\n",
    "    shading=True,\n",
    "    projection=projection,\n",
    "    )\n",
    "\n",
    "# Plot blocks as transparent polygons\n",
    "for i in range(closure.n_polygons()):\n",
    "    red = 100 + 50 * np.random.rand(1)\n",
    "    green = 150 + 100 * np.random.rand(1)\n",
    "    blue = 150 + 100 * np.random.rand(1)\n",
    "    color_string = str(red[0]) + \"/\" + str(green[0]) + \"/\" + str(blue[0]) + \"@75\"\n",
    "    fig.plot(x=closure.polygons[i].vertices[:, 0], y=closure.polygons[i].vertices[:, 1], color=color_string)\n",
    "\n",
    "# Plot block boundaries\n",
    "for i in range(closure.n_polygons()):\n",
    "    fig.plot(x=closure.polygons[i].vertices[:, 0], y=closure.polygons[i].vertices[:, 1], pen=\"0.1p,0/0/0\")\n",
    "    \n",
    "fig.coast(\n",
    "    region=region,\n",
    "    projection=projection,\n",
    "    area_thresh=4000,\n",
    "    shorelines=\"0.25p,255/255/255\",\n",
    "    frame=\"p\",\n",
    ")\n",
    "\n",
    "fig.show()"
   ]
  },
  {
   "cell_type": "markdown",
   "metadata": {},
   "source": [
    "# Visualization of matrix operators"
   ]
  },
  {
   "cell_type": "code",
   "execution_count": null,
   "metadata": {},
   "outputs": [],
   "source": [
    "#TODO: add generation of matrix operators\n",
    "\n",
    "# Shrink operators.tri_station so that there are no vertical displacments and no tensile slip\n",
    "tde_matrix = copy.deepcopy(operators.tri_station)\n",
    "tde_matrix = np.delete(tde_matrix, np.arange(2, tde_matrix.shape[0], 3), axis=0)\n",
    "tde_matrix = np.delete(tde_matrix, np.arange(2, tde_matrix.shape[1], 3), axis=1)\n",
    "\n",
    "# Slip estimation with direct inverse and smoothing matrix\n",
    "smoothing_matrix = 1e2 * meshes[0].smoothing_matrix.toarray()\n",
    "smoothing_matrix = np.delete(smoothing_matrix, np.arange(2, smoothing_matrix.shape[0], 3), axis=0)\n",
    "smoothing_matrix = np.delete(smoothing_matrix, np.arange(2, smoothing_matrix.shape[1], 3), axis=1)\n",
    "smoothing_matrix = meshes[0].smoothing_weight * smoothing_matrix # Weight smoothing matrix\n",
    "tde_and_smoothing_matrix = np.vstack((tde_matrix, smoothing_matrix))\n",
    "\n",
    "print(tde_matrix.shape)\n",
    "print(smoothing_matrix.shape)\n",
    "print(tde_and_smoothing_matrix.shape)\n",
    "\n",
    "# Matrix figures for presentations...should probably replicate elsewhere\n",
    "# clip_column = 200\n",
    "# tde_matrix_small = copy.deepcopy(tde_matrix)\n",
    "# tde_matrix_small = tde_matrix_small[:, 0:clip_column]\n",
    "# smoothing_matrix_small = copy.deepcopy(smoothing_matrix)\n",
    "# smoothing_matrix_small += 1e-10\n",
    "# smoothing_matrix += 1e-10\n",
    "# smoothing_matrix_small = smoothing_matrix_small[0:clip_column, 0:clip_column]\n",
    "\n",
    "# plt.figure(figsize=(10,10))\n",
    "# # plt.imshow(np.log10(np.abs(tde_matrix)), cmap=\"inferno\", interpolation=\"none\")\n",
    "# plt.imshow(np.log10(np.abs(smoothing_matrix_small)), cmap=\"inferno_r\", interpolation=\"none\")\n",
    "# plt.gca().set_aspect(\"equal\", adjustable=\"box\")\n",
    "# plt.xticks([])\n",
    "# plt.yticks([])\n",
    "# plt.show()\n",
    "# plt.savefig(\"smoothing_matrix_small.png\", dpi=300)"
   ]
  },
  {
   "cell_type": "markdown",
   "metadata": {},
   "source": [
    "# Visualize mesh perimeter"
   ]
  },
  {
   "cell_type": "markdown",
   "metadata": {},
   "source": [
    "celeri.get_ordered_edge_nodes(meshes)\n",
    "plt.figure(figsize=(12,7))\n",
    "plt.plot(meshes[0].meshio_object.points[meshes[0].ordered_edge_nodes[:, 0], 0], meshes[0].meshio_object.points[meshes[0].ordered_edge_nodes[:, 0], 1])"
   ]
  }
 ],
 "metadata": {
  "interpreter": {
   "hash": "1c99b817e7692020a25f5bce5fd58f988aabefee874a9cd895a1468d49750c9a"
  },
  "kernelspec": {
   "display_name": "Python 3.9.6 64-bit ('celeri': conda)",
   "name": "python3"
  },
  "language_info": {
   "codemirror_mode": {
    "name": "ipython",
    "version": 3
   },
   "file_extension": ".py",
   "mimetype": "text/x-python",
   "name": "python",
   "nbconvert_exporter": "python",
   "pygments_lexer": "ipython3",
   "version": "3.9.6"
  },
  "widgets": {
   "application/vnd.jupyter.widget-state+json": {
    "state": {
     "4d250c5d35aa493295ca814fb3eaa1ee": {
      "model_module": "@jupyter-widgets/base",
      "model_module_version": "1.2.0",
      "model_name": "LayoutModel",
      "state": {}
     },
     "6faf75ca5f3b41388f284e98ec2cf803": {
      "model_module": "jupyter-matplotlib",
      "model_module_version": "^0.9.0",
      "model_name": "ToolbarModel",
      "state": {
       "layout": "IPY_MODEL_9b061db2dc65459ca586b9b9f73c2362",
       "toolitems": [
        [
         "Home",
         "Reset original view",
         "home",
         "home"
        ],
        [
         "Back",
         "Back to previous view",
         "arrow-left",
         "back"
        ],
        [
         "Forward",
         "Forward to next view",
         "arrow-right",
         "forward"
        ],
        [
         "Pan",
         "Left button pans, Right button zooms\nx/y fixes axis, CTRL fixes aspect",
         "arrows",
         "pan"
        ],
        [
         "Zoom",
         "Zoom to rectangle\nx/y fixes axis, CTRL fixes aspect",
         "square-o",
         "zoom"
        ],
        [
         "Download",
         "Download plot",
         "floppy-o",
         "save_figure"
        ]
       ]
      }
     },
     "9b061db2dc65459ca586b9b9f73c2362": {
      "model_module": "@jupyter-widgets/base",
      "model_module_version": "1.2.0",
      "model_name": "LayoutModel",
      "state": {}
     },
     "c25a38234e8f4e818670d9767f95a430": {
      "model_module": "jupyter-matplotlib",
      "model_module_version": "^0.9.0",
      "model_name": "MPLCanvasModel",
      "state": {
       "_cursor": "default",
       "_figure_label": "Figure 1",
       "_height": 708,
       "_width": 1746,
       "layout": "IPY_MODEL_4d250c5d35aa493295ca814fb3eaa1ee",
       "toolbar": "IPY_MODEL_6faf75ca5f3b41388f284e98ec2cf803",
       "toolbar_position": "left"
      }
     }
    },
    "version_major": 2,
    "version_minor": 0
   }
  }
 },
 "nbformat": 4,
 "nbformat_minor": 4
}
