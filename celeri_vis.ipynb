{
 "cells": [
  {
   "cell_type": "code",
   "execution_count": 1,
   "source": [
    "%matplotlib widget\n",
    "%config InlineBackend.figure_format = 'svg'"
   ],
   "outputs": [],
   "metadata": {
    "execution": {
     "iopub.execute_input": "2021-08-22T18:29:50.539195Z",
     "iopub.status.busy": "2021-08-22T18:29:50.538938Z",
     "iopub.status.idle": "2021-08-22T18:29:50.550334Z",
     "shell.execute_reply": "2021-08-22T18:29:50.549700Z",
     "shell.execute_reply.started": "2021-08-22T18:29:50.539169Z"
    },
    "tags": []
   }
  },
  {
   "cell_type": "code",
   "execution_count": 3,
   "source": [
    "import pygmt\n",
    "import numpy as np\n",
    "import pandas as pd\n",
    "import matplotlib.pyplot as plt\n",
    "from importlib import reload\n",
    "\n",
    "import celeri\n",
    "celeri = reload(celeri)\n",
    "\n",
    "# Plotting the global model is much much faster with tex fonts turned off\n",
    "plt.rcParams['text.usetex'] = False"
   ],
   "outputs": [],
   "metadata": {
    "execution": {
     "iopub.execute_input": "2021-08-22T18:29:51.661926Z",
     "iopub.status.busy": "2021-08-22T18:29:51.661659Z",
     "iopub.status.idle": "2021-08-22T18:29:51.956035Z",
     "shell.execute_reply": "2021-08-22T18:29:51.955292Z",
     "shell.execute_reply.started": "2021-08-22T18:29:51.661900Z"
    },
    "tags": []
   }
  },
  {
   "cell_type": "code",
   "execution_count": 4,
   "source": [
    "command_file_name = \"./data/western_north_america/basic_command.json\"\n",
    "command, segment, block, meshes, station, mogi, sar = celeri.read_data(command_file_name)\n",
    "station = celeri.process_station(station, command)\n",
    "segment = celeri.process_segment(segment, command, meshes)\n",
    "sar = celeri.process_sar(sar, command)\n",
    "closure, block = celeri.assign_block_labels(segment, station, block, mogi, sar)\n",
    "# celeri.plot_block_labels(segment, block, station, closure)"
   ],
   "outputs": [
    {
     "output_type": "stream",
     "name": "stderr",
     "text": [
      "WARNING:root:The file contains tag data that couldn't be processed.\n"
     ]
    }
   ],
   "metadata": {
    "execution": {
     "iopub.execute_input": "2021-08-22T18:29:53.570589Z",
     "iopub.status.busy": "2021-08-22T18:29:53.570331Z",
     "iopub.status.idle": "2021-08-22T18:30:09.817977Z",
     "shell.execute_reply": "2021-08-22T18:30:09.817443Z",
     "shell.execute_reply.started": "2021-08-22T18:29:53.570561Z"
    },
    "tags": []
   }
  },
  {
   "cell_type": "code",
   "execution_count": 5,
   "source": [
    "# celeri.plot_segment_displacements(segment, station, command, segment_idx=0, strike_slip=1, dip_slip=0, tensile_slip=0, lon_min=235, lon_max=255, lat_min=30, lat_max=50, quiver_scale=1e-1)\n"
   ],
   "outputs": [],
   "metadata": {
    "tags": []
   }
  },
  {
   "cell_type": "code",
   "execution_count": 6,
   "source": [
    "# Plot TDE displacements from a single element\n",
    "tri_idx = 0\n",
    "vel_east, vel_north, vel_up = celeri.get_tri_displacements(station.lon.to_numpy(), station.lat.to_numpy(), meshes, command.material_lambda, command.material_mu, tri_idx=0, strike_slip=1, dip_slip=0, tensile_slip=0)\n",
    "plt.figure()\n",
    "plt.plot(meshes[0].lon1[tri_idx], meshes[0].lat1[tri_idx], \".r\")\n",
    "plt.plot(meshes[0].lon2[tri_idx], meshes[0].lat2[tri_idx], \".r\")\n",
    "plt.plot(meshes[0].lon3[tri_idx], meshes[0].lat3[tri_idx], \".r\")\n",
    "plt.quiver(station.lon, station.lat, vel_east, vel_north, scale=1e-3)\n",
    "plt.show()"
   ],
   "outputs": [
    {
     "output_type": "stream",
     "name": "stderr",
     "text": [
      "/Users/meade/opt/anaconda3/envs/celeri/lib/python3.9/site-packages/cutde/coordinators.py:77: UserWarning: The obs_pts input array has Fortran ordering. Converting to C ordering. This may be expensive.\n",
      "  warnings.warn(\n"
     ]
    },
    {
     "output_type": "display_data",
     "data": {
      "application/vnd.jupyter.widget-view+json": {
       "version_major": 2,
       "version_minor": 0,
       "model_id": "29384b0bc2ef429083c771d449f792a7"
      },
      "text/plain": [
       "Canvas(toolbar=Toolbar(toolitems=[('Home', 'Reset original view', 'home', 'home'), ('Back', 'Back to previous …"
      ]
     },
     "metadata": {}
    }
   ],
   "metadata": {}
  },
  {
   "cell_type": "code",
   "execution_count": 92,
   "source": [
    "# Create a plot with coast, Miller projection (J) over the continental US\n",
    "min_lon = -130.0\n",
    "max_lon = -105.0\n",
    "min_lat = 30.0\n",
    "max_lat = 50.0\n",
    "# topo_data = '@earth_relief_30s'\n",
    "\n",
    "topo_data = '@earth_relief_01m'\n",
    "\n",
    "fig = pygmt.Figure()\n",
    "pygmt.config(MAP_FRAME_TYPE=\"plain\")\n",
    "pygmt.config(MAP_FRAME_PEN=\"0.25p\")\n",
    "\n",
    "pygmt.makecpt(\n",
    "    cmap='gray',\n",
    "    series='-20000/4000/2000',\n",
    "    continuous=True\n",
    ")\n",
    "\n",
    "fig.grdimage(\n",
    "    grid=topo_data,\n",
    "    region=[min_lon, max_lon, min_lat, max_lat],\n",
    "    shading=True,\n",
    "    projection=\"J-65/12c\",\n",
    "    )\n",
    "\n",
    "fig.coast(\n",
    "    region=[-130, -105, 30, 50],\n",
    "    projection=\"J-65/12c\",\n",
    "    land=\"lightgray\",\n",
    "    water=\"white\",\n",
    "    area_thresh=4000,\n",
    "    shorelines=\"0.25p,black\",\n",
    "    frame=\"p\",\n",
    ")\n",
    "\n",
    "n_glow = 10\n",
    "shading_array = np.linspace(255, 0, n_glow)\n",
    "shading_array = np.array([255, 245, 230, 210, 190, 170, 150, 130, 110, 0])\n",
    "pen_width_array = np.linspace(2.0, 0.01, n_glow)\n",
    "for i in range(len(segment)):\n",
    "# for i in range(10):\n",
    "    for j in range(n_glow):\n",
    "        pen_string = str(pen_width_array[j]) + \"p,255/\" + str(shading_array[j]) + \"/\" + str(shading_array[j])\n",
    "        fig.plot(x=[segment.lon1[i], segment.lon2[i]], y=[segment.lat1[i], segment.lat2[i]], pen=pen_string)    \n",
    "    # fig.plot(x=[segment.lon1[i], segment.lon2[i]], y=[segment.lat1[i], segment.lat2[i]], pen=\"3.0p,255/200/200\")\n",
    "    # fig.plot(x=[segment.lon1[i], segment.lon2[i]], y=[segment.lat1[i], segment.lat2[i]], pen=\"1.0p,255/50/50\")\n",
    "    # fig.plot(x=[segment.lon1[i], segment.lon2[i]], y=[segment.lat1[i], segment.lat2[i]], pen=\"0.1p,255/0/0\")\n",
    "    # fig.plot(x=[segment.lon1[i], segment.lon2[i]], y=[segment.lat1[i], segment.lat2[i]], pen=\"0.1p,210/0/0\")\n",
    "\n",
    "# Plot using inverted triangles (i) of 0.5 cm size\n",
    "fig.plot(x=station.lon, y=station.lat, style=\"c0.05\", color=\"yellow\", pen=\"0.1p,black\")\n",
    "fig.show()"
   ],
   "outputs": [],
   "metadata": {}
  },
  {
   "cell_type": "code",
   "execution_count": null,
   "source": [],
   "outputs": [],
   "metadata": {}
  }
 ],
 "metadata": {
  "interpreter": {
   "hash": "1c99b817e7692020a25f5bce5fd58f988aabefee874a9cd895a1468d49750c9a"
  },
  "kernelspec": {
   "name": "python3",
   "display_name": "Python 3.9.6 64-bit ('celeri': conda)"
  },
  "language_info": {
   "codemirror_mode": {
    "name": "ipython",
    "version": 3
   },
   "file_extension": ".py",
   "mimetype": "text/x-python",
   "name": "python",
   "nbconvert_exporter": "python",
   "pygments_lexer": "ipython3",
   "version": "3.9.6"
  },
  "widgets": {
   "application/vnd.jupyter.widget-state+json": {
    "state": {
     "4d250c5d35aa493295ca814fb3eaa1ee": {
      "model_module": "@jupyter-widgets/base",
      "model_module_version": "1.2.0",
      "model_name": "LayoutModel",
      "state": {}
     },
     "6faf75ca5f3b41388f284e98ec2cf803": {
      "model_module": "jupyter-matplotlib",
      "model_module_version": "^0.9.0",
      "model_name": "ToolbarModel",
      "state": {
       "layout": "IPY_MODEL_9b061db2dc65459ca586b9b9f73c2362",
       "toolitems": [
        [
         "Home",
         "Reset original view",
         "home",
         "home"
        ],
        [
         "Back",
         "Back to previous view",
         "arrow-left",
         "back"
        ],
        [
         "Forward",
         "Forward to next view",
         "arrow-right",
         "forward"
        ],
        [
         "Pan",
         "Left button pans, Right button zooms\nx/y fixes axis, CTRL fixes aspect",
         "arrows",
         "pan"
        ],
        [
         "Zoom",
         "Zoom to rectangle\nx/y fixes axis, CTRL fixes aspect",
         "square-o",
         "zoom"
        ],
        [
         "Download",
         "Download plot",
         "floppy-o",
         "save_figure"
        ]
       ]
      }
     },
     "9b061db2dc65459ca586b9b9f73c2362": {
      "model_module": "@jupyter-widgets/base",
      "model_module_version": "1.2.0",
      "model_name": "LayoutModel",
      "state": {}
     },
     "c25a38234e8f4e818670d9767f95a430": {
      "model_module": "jupyter-matplotlib",
      "model_module_version": "^0.9.0",
      "model_name": "MPLCanvasModel",
      "state": {
       "_cursor": "default",
       "_figure_label": "Figure 1",
       "_height": 708,
       "_width": 1746,
       "layout": "IPY_MODEL_4d250c5d35aa493295ca814fb3eaa1ee",
       "toolbar": "IPY_MODEL_6faf75ca5f3b41388f284e98ec2cf803",
       "toolbar_position": "left"
      }
     }
    },
    "version_major": 2,
    "version_minor": 0
   }
  }
 },
 "nbformat": 4,
 "nbformat_minor": 4
}