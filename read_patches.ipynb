{
 "cells": [
  {
   "cell_type": "code",
   "execution_count": 1,
   "source": [
    "import copy\n",
    "import datetime\n",
    "import json\n",
    "import os\n",
    "import scipy.spatial\n",
    "import networkx as nx\n",
    "import numpy as np\n",
    "import pandas as pd\n",
    "import matplotlib.pyplot as plt\n",
    "from importlib import reload\n",
    "\n",
    "import meshio\n",
    "\n",
    "import celeri\n",
    "celeri = reload(celeri)"
   ],
   "outputs": [],
   "metadata": {
    "tags": []
   }
  },
  {
   "cell_type": "code",
   "execution_count": 9,
   "source": [
    "meshes = {}\n",
    "\n",
    "mesh_param_filename = './data/test_mesh_param.json'\n",
    "with open(mesh_param_filename, 'r') as f:\n",
    "    mesh_param = json.load(f)\n",
    "for i in range(len(mesh_param)):\n",
    "     meshes[i] = meshio.read(mesh_param[i][\"mesh_filename\"])\n",
    "     meshes[i].verts = meshes[i].get_cells_type(\"triangle\")\n",
    "    # Expand mesh coordinates\n",
    "    meshes[i].lon1 = meshes[i].points[meshes[i].v[:,0],0]\n",
    "    meshes[i].lon2 = meshes[i].points[meshes[i].v[:,1],0]\n",
    "    meshes[i].lon3 = meshes[i].points[meshes[i].v[:,2],0]\n",
    "    meshes[i].lat1 = meshes[i].points[meshes[i].v[:,0],1]\n",
    "    meshes[i].lat2 = meshes[i].points[meshes[i].v[:,1],1]\n",
    "    meshes[i].lat3 = meshes[i].points[meshes[i].v[:,2],1]\n",
    "    meshes[i].dep1 = meshes[i].points[meshes[i].v[:,0],2]\n",
    "    meshes[i].dep2 = meshes[i].points[meshes[i].v[:,1],2]\n",
    "    meshes[i].dep3 = meshes[i].points[meshes[i].v[:,2],2]\n",
    "    meshes[i].centroids = np.mean(meshes[i].points[meshes[i].v, :], axis=1)\n",
    "    # Cartesian coordinates in meters\n",
    "    meshes[i].x1, meshes[i].y1, meshes[i].z1 = celeri.sph2cart(\n",
    "        meshes[i].lon1, meshes[i].lat1, celeri.RADIUS_EARTH+1000.*meshes[i].dep1\n",
    "        )\n",
    "    meshes[i].x2, meshes[i].y2, meshes[i].z2 = celeri.sph2cart(\n",
    "        meshes[i].lon2, meshes[i].lat2, celeri.RADIUS_EARTH+1000.*meshes[i].dep2)\n",
    "    meshes[i].x3, meshes[i].y3, meshes[i].z3 = celeri.sph2cart(\n",
    "        meshes[i].lon3, meshes[i].lat3, celeri.RADIUS_EARTH+1000.*meshes[i].dep3)\n",
    "    # Cross products for orientations\n",
    "    tri_leg1 = np.transpose([np.deg2rad(meshes[i].lon2-meshes[i].lon1), \n",
    "         np.deg2rad(meshes[i].lat2-meshes[i].lat1), \n",
    "         (1+1000.*meshes[i].dep2/celeri.RADIUS_EARTH)-(1+1000.*meshes[i].dep1/celeri.RADIUS_EARTH)])\n",
    "    tri_leg2 = np.transpose([np.deg2rad(meshes[i].lon3-meshes[i].lon1), \n",
    "         np.deg2rad(meshes[i].lat3-meshes[i].lat1), \n",
    "         (1+1000.*meshes[i].dep3/celeri.RADIUS_EARTH)-(1+1000.*meshes[i].dep1/celeri.RADIUS_EARTH)])\n",
    "    meshes[i].nv = np.cross(tri_leg1, tri_leg2)\n",
    "    azimuth, elevation, r = celeri.cart2sph(meshes[i].nv[:,0], meshes[i].nv[:,1], meshes[i].nv[:,2])\n",
    "    meshes[i].strike = celeri.wrap2360(-np.rad2deg(azimuth))\n",
    "    meshes[i].dip = 90 - np.rad2deg(elevation)\n",
    "    meshes[i].dip_flag = meshes[i].dip != 90\n",
    "\n",
    "# print(meshes[i].dip_flag[0:5])\n",
    "print(meshes[1].verts[0:5])"
   ],
   "outputs": [
    {
     "output_type": "stream",
     "name": "stdout",
     "text": [
      "[[101  36 132]\n",
      " [144  81  82]\n",
      " [ 83 144  82]\n",
      " [109 145 110]\n",
      " [149  81 144]]\n"
     ]
    }
   ],
   "metadata": {}
  }
 ],
 "metadata": {
  "kernelspec": {
   "name": "python3",
   "display_name": "Python 3.8.8 64-bit ('anaconda3': virtualenv)"
  },
  "language_info": {
   "codemirror_mode": {
    "name": "ipython",
    "version": 3
   },
   "file_extension": ".py",
   "mimetype": "text/x-python",
   "name": "python",
   "nbconvert_exporter": "python",
   "pygments_lexer": "ipython3",
   "version": "3.8.8"
  },
  "interpreter": {
   "hash": "dca0ade3e726a953b501b15e8e990130d2b7799f14cfd9f4271676035ebe5511"
  }
 },
 "nbformat": 4,
 "nbformat_minor": 5
}