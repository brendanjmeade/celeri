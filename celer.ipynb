{
 "cells": [
  {
   "cell_type": "code",
   "execution_count": 1,
   "source": [
    "%matplotlib widget\n",
    "import copy\n",
    "import datetime\n",
    "import json\n",
    "import os\n",
    "import scipy.spatial\n",
    "import networkx as nx\n",
    "import numpy as np\n",
    "import pandas as pd\n",
    "import matplotlib.pyplot as plt\n",
    "from importlib import reload\n",
    "\n",
    "import celeri\n",
    "celeri = reload(celeri)"
   ],
   "outputs": [],
   "metadata": {
    "execution": {
     "iopub.execute_input": "2021-08-04T03:00:09.278922Z",
     "iopub.status.busy": "2021-08-04T03:00:09.278702Z",
     "iopub.status.idle": "2021-08-04T03:00:09.389124Z",
     "shell.execute_reply": "2021-08-04T03:00:09.388173Z",
     "shell.execute_reply.started": "2021-08-04T03:00:09.278899Z"
    },
    "tags": []
   }
  },
  {
   "cell_type": "code",
   "execution_count": 2,
   "source": [
    "RUN_NAME = datetime.datetime.now().strftime(\"%y%m%d%H%M%S\") + os.sep\n",
    "with open('./data/western_north_america/command.json', 'r') as f:\n",
    "    command = json.load(f)\n",
    "station = pd.read_csv(command[\"station_file_name\"])\n",
    "segment = pd.read_csv(command[\"segment_file_name\"])\n",
    "block = pd.read_csv(command[\"block_file_name\"])"
   ],
   "outputs": [],
   "metadata": {
    "execution": {
     "iopub.execute_input": "2021-08-04T03:00:11.065032Z",
     "iopub.status.busy": "2021-08-04T03:00:11.064786Z",
     "iopub.status.idle": "2021-08-04T03:00:11.092432Z",
     "shell.execute_reply": "2021-08-04T03:00:11.091782Z",
     "shell.execute_reply.started": "2021-08-04T03:00:11.065007Z"
    },
    "tags": []
   }
  },
  {
   "cell_type": "code",
   "execution_count": 3,
   "source": [
    "station = celeri.process_station(station, command)\n",
    "segment = celeri.process_segment(segment, command)"
   ],
   "outputs": [],
   "metadata": {
    "execution": {
     "iopub.execute_input": "2021-08-04T03:00:12.007541Z",
     "iopub.status.busy": "2021-08-04T03:00:12.007316Z",
     "iopub.status.idle": "2021-08-04T03:00:12.293727Z",
     "shell.execute_reply": "2021-08-04T03:00:12.293008Z",
     "shell.execute_reply.started": "2021-08-04T03:00:12.007517Z"
    },
    "tags": []
   }
  },
  {
   "cell_type": "code",
   "execution_count": 4,
   "source": [
    "np_segments = np.zeros((len(segment), 2, 2))\n",
    "np_segments[:, 0, 0] = segment.lon1.to_numpy()\n",
    "np_segments[:, 1, 0] = segment.lon2.to_numpy()\n",
    "np_segments[:, 0, 1] = segment.lat1.to_numpy()\n",
    "np_segments[:, 1, 1] = segment.lat2.to_numpy()"
   ],
   "outputs": [],
   "metadata": {
    "tags": []
   }
  },
  {
   "cell_type": "code",
   "execution_count": 5,
   "source": [
    "# De-duplicate the vertices and build an ptr_edge array\n",
    "all_vertices = np_segments.reshape((-1, 2))\n",
    "tree = scipy.spatial.KDTree(all_vertices, leafsize=1000)\n",
    "duplicates = tree.query_ball_point(all_vertices, 1e-8)\n",
    "\n",
    "ptr_edges = []\n",
    "dedup_vertices = []\n",
    "original_to_new = dict()\n",
    "for i in range(np_segments.shape[0]):\n",
    "    v1_idx = duplicates[2 * i][0]\n",
    "    v2_idx = duplicates[2 * i + 1][0]\n",
    "    if v1_idx == 2 * i:\n",
    "        original_to_new[2 * i] = len(dedup_vertices)\n",
    "        dedup_vertices.append(np_segments[i][0])\n",
    "    if v2_idx == 2 * i + 1:\n",
    "        original_to_new[2 * i + 1] = len(dedup_vertices)\n",
    "        dedup_vertices.append(np_segments[i][1])\n",
    "    ptr_edges.append((original_to_new[v1_idx], original_to_new[v2_idx]))\n",
    "\n",
    "np_dedup_vertices = np.array(dedup_vertices)\n",
    "\n",
    "# Check that the vertices are unique up to 1e-8 now.\n",
    "new_tree = scipy.spatial.KDTree(np_dedup_vertices)\n",
    "np.all([v[0] == i for i,v in enumerate(new_tree.query_ball_point(np_dedup_vertices, 1e-8))])\n",
    "\n",
    "# Build the graph\n",
    "G = nx.Graph()\n",
    "for e in ptr_edges:\n",
    "    G.add_edge(*e)\n",
    "\n",
    "# Check that it is planar and build the PlanarEmbedding data structure.\n",
    "is_planar, planar_embedding = nx.check_planarity(G)\n",
    "\n",
    "# Extract each polygon. \n",
    "counted_half_edges = set()\n",
    "polygons = []\n",
    "for component in nx.connected_components(planar_embedding):\n",
    "    for v in component:\n",
    "        for w in planar_embedding.neighbors_cw_order(v):\n",
    "            if (v, w) not in counted_half_edges:\n",
    "                polygons.append(planar_embedding.traverse_face(v, w, counted_half_edges))\n",
    "\n",
    "print(\"Found \" + str(len(polygons)) + \" closed polygons\")\n",
    "\n",
    "# Map polygons boundaries back to 2 labesl for each block\n",
    "n_vertices = np_dedup_vertices.shape[0]\n",
    "n_edges = len(ptr_edges)\n",
    "\n",
    "vertex_to_polygon = [[] for i in range(n_vertices)] \n",
    "for p_idx, p in enumerate(polygons):\n",
    "    for v_idx in p:\n",
    "        vertex_to_polygon[v_idx].append(p_idx)\n",
    "\n",
    "edge_to_polygon = []\n",
    "for e in ptr_edges:\n",
    "    polys_v0 = vertex_to_polygon[e[0]]\n",
    "    polys_v1 = vertex_to_polygon[e[1]]\n",
    "    polys_edge = [p_idx for p_idx in polys_v0 if p_idx in polys_v1] # Intersection of lists\n",
    "    edge_to_polygon.append(polys_edge)\n",
    "\n",
    "segment[\"initial_label1\"] = np.array(edge_to_polygon)[:, 0]\n",
    "segment[\"initial_label2\"] = np.array(edge_to_polygon)[:, 1]\n"
   ],
   "outputs": [
    {
     "output_type": "stream",
     "name": "stdout",
     "text": [
      "Found 31 closed polygons\n"
     ]
    }
   ],
   "metadata": {}
  },
  {
   "cell_type": "code",
   "execution_count": 11,
   "source": [
    "correct_east_labels = np.nan * np.ones(len(segment))\n",
    "correct_west_labels = np.nan * np.ones(len(segment))\n",
    "longitude_east_offset = 1e-3\n",
    "\n",
    "# Select all segments with either label == 1\n",
    "current_block_label = 1\n",
    "current_block_idx = np.union1d(segment.index[segment.initial_label1 == current_block_label],\n",
    "                               segment.index[segment.initial_label2 == current_block_label])\n",
    "segment_current_block = copy.copy(segment.iloc[current_block_idx])\n",
    "polygon_vertex_idx = polygons[current_block_label]\n",
    "vertices_current_block = np.concatenate([np_dedup_vertices[polygon_vertex_idx], np_dedup_vertices[polygon_vertex_idx[0]][None,:]])\n",
    "is_midpoint_inpolygon = celeri.inpolygon(segment_current_block.mid_lon_plate_carree.values + longitude_east_offset,\n",
    "                           segment_current_block.mid_lat_plate_carree.values,\n",
    "                           vertices_current_block[:, 0], vertices_current_block[:, 1])\n",
    "correct_east_labels[current_block_idx[np.where(is_midpoint_inpolygon == True)]] = current_block_label\n",
    "correct_west_labels[current_block_idx[np.where(is_midpoint_inpolygon == False)]] = current_block_label\n",
    "\n",
    "\n",
    "\n",
    "plt.figure()\n",
    "for i in range(len(segment)):\n",
    "    plt.plot([segment.lon1.values[i], segment.lon2.values[i]],\n",
    "             [segment.lat1.values[i], segment.lat2.values[i]], \"-k\")\n",
    "    plt.text(segment.mid_lon.values[i] - 0.25, segment.mid_lat.values[i],\n",
    "             str(correct_west_labels[i]), fontsize=6)\n",
    "    plt.text(segment.mid_lon.values[i], segment.mid_lat.values[i],\n",
    "             str(correct_east_labels[i]), fontsize=6)\n"
   ],
   "outputs": [
    {
     "output_type": "display_data",
     "data": {
      "text/plain": [
       "Canvas(toolbar=Toolbar(toolitems=[('Home', 'Reset original view', 'home', 'home'), ('Back', 'Back to previous …"
      ],
      "application/vnd.jupyter.widget-view+json": {
       "version_major": 2,
       "version_minor": 0,
       "model_id": "f3b2bcdca70b49cbbb3bf458771a9c9d"
      }
     },
     "metadata": {}
    }
   ],
   "metadata": {}
  },
  {
   "cell_type": "code",
   "execution_count": 10,
   "source": [
    "p"
   ],
   "outputs": [
    {
     "output_type": "execute_result",
     "data": {
      "text/plain": [
       "[0,\n",
       " 20,\n",
       " 21,\n",
       " 22,\n",
       " 659,\n",
       " 660,\n",
       " 661,\n",
       " 662,\n",
       " 663,\n",
       " 664,\n",
       " 665,\n",
       " 693,\n",
       " 694,\n",
       " 23,\n",
       " 24,\n",
       " 25,\n",
       " 19,\n",
       " 17,\n",
       " 18,\n",
       " 658,\n",
       " 657,\n",
       " 656,\n",
       " 655,\n",
       " 654,\n",
       " 653,\n",
       " 650,\n",
       " 651,\n",
       " 652,\n",
       " 492,\n",
       " 490,\n",
       " 491,\n",
       " 495,\n",
       " 632,\n",
       " 797,\n",
       " 798,\n",
       " 799,\n",
       " 800,\n",
       " 801,\n",
       " 802,\n",
       " 803,\n",
       " 804,\n",
       " 805,\n",
       " 806,\n",
       " 667,\n",
       " 807,\n",
       " 699,\n",
       " 700,\n",
       " 647,\n",
       " 648,\n",
       " 649,\n",
       " 494,\n",
       " 493,\n",
       " 646,\n",
       " 645,\n",
       " 644,\n",
       " 643,\n",
       " 642,\n",
       " 46,\n",
       " 47,\n",
       " 48,\n",
       " 2,\n",
       " 1]"
      ]
     },
     "metadata": {},
     "execution_count": 10
    }
   ],
   "metadata": {}
  },
  {
   "cell_type": "code",
   "execution_count": null,
   "source": [],
   "outputs": [],
   "metadata": {}
  }
 ],
 "metadata": {
  "interpreter": {
   "hash": "749f0fc94df05971c9b3f3660cf19264b2aeee03fc6d4bf75e86fd251d69cf68"
  },
  "kernelspec": {
   "name": "python3",
   "display_name": "Python 3.8.8 64-bit ('base': conda)"
  },
  "language_info": {
   "codemirror_mode": {
    "name": "ipython",
    "version": 3
   },
   "file_extension": ".py",
   "mimetype": "text/x-python",
   "name": "python",
   "nbconvert_exporter": "python",
   "pygments_lexer": "ipython3",
   "version": "3.8.8"
  }
 },
 "nbformat": 4,
 "nbformat_minor": 4
}