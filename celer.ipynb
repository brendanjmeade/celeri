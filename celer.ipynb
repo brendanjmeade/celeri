{
 "cells": [
  {
   "cell_type": "code",
   "execution_count": 1,
   "source": [
    "%matplotlib widget\n",
    "import copy\n",
    "import datetime\n",
    "import json\n",
    "import os\n",
    "import scipy.spatial\n",
    "import networkx as nx\n",
    "import numpy as np\n",
    "import pandas as pd\n",
    "import matplotlib.pyplot as plt\n",
    "from importlib import reload\n",
    "\n",
    "import celeri\n",
    "celeri = reload(celeri)"
   ],
   "outputs": [],
   "metadata": {
    "execution": {
     "iopub.execute_input": "2021-08-04T03:00:09.278922Z",
     "iopub.status.busy": "2021-08-04T03:00:09.278702Z",
     "iopub.status.idle": "2021-08-04T03:00:09.389124Z",
     "shell.execute_reply": "2021-08-04T03:00:09.388173Z",
     "shell.execute_reply.started": "2021-08-04T03:00:09.278899Z"
    },
    "tags": []
   }
  },
  {
   "cell_type": "code",
   "execution_count": 2,
   "source": [
    "RUN_NAME = datetime.datetime.now().strftime(\"%y%m%d%H%M%S\") + os.sep\n",
    "with open('./data/western_north_america/command.json', 'r') as f:\n",
    "    command = json.load(f)\n",
    "station = pd.read_csv(command[\"station_file_name\"])\n",
    "segment = pd.read_csv(command[\"segment_file_name\"])\n",
    "block = pd.read_csv(command[\"block_file_name\"])"
   ],
   "outputs": [],
   "metadata": {
    "execution": {
     "iopub.execute_input": "2021-08-04T03:00:11.065032Z",
     "iopub.status.busy": "2021-08-04T03:00:11.064786Z",
     "iopub.status.idle": "2021-08-04T03:00:11.092432Z",
     "shell.execute_reply": "2021-08-04T03:00:11.091782Z",
     "shell.execute_reply.started": "2021-08-04T03:00:11.065007Z"
    },
    "tags": []
   }
  },
  {
   "cell_type": "code",
   "execution_count": 3,
   "source": [
    "station = celeri.process_station(station, command)\n",
    "segment = celeri.process_segment(segment, command)"
   ],
   "outputs": [],
   "metadata": {
    "execution": {
     "iopub.execute_input": "2021-08-04T03:00:12.007541Z",
     "iopub.status.busy": "2021-08-04T03:00:12.007316Z",
     "iopub.status.idle": "2021-08-04T03:00:12.293727Z",
     "shell.execute_reply": "2021-08-04T03:00:12.293008Z",
     "shell.execute_reply.started": "2021-08-04T03:00:12.007517Z"
    },
    "tags": []
   }
  },
  {
   "cell_type": "code",
   "execution_count": 4,
   "source": [
    "np_segments = np.zeros((len(segment), 2, 2))\n",
    "np_segments[:, 0, 0] = segment.lon1.to_numpy()\n",
    "np_segments[:, 1, 0] = segment.lon2.to_numpy()\n",
    "np_segments[:, 0, 1] = segment.lat1.to_numpy()\n",
    "np_segments[:, 1, 1] = segment.lat2.to_numpy()"
   ],
   "outputs": [],
   "metadata": {
    "tags": []
   }
  },
  {
   "cell_type": "code",
   "execution_count": 5,
   "source": [
    "# De-duplicate the vertices and build an ptr_edge array\n",
    "all_vertices = np_segments.reshape((-1, 2))\n",
    "tree = scipy.spatial.KDTree(all_vertices, leafsize=1000)\n",
    "duplicates = tree.query_ball_point(all_vertices, 1e-8)\n",
    "\n",
    "ptr_edges = []\n",
    "dedup_vertices = []\n",
    "original_to_new = dict()\n",
    "for i in range(np_segments.shape[0]):\n",
    "    v1_idx = duplicates[2 * i][0]\n",
    "    v2_idx = duplicates[2 * i + 1][0]\n",
    "    if v1_idx == 2 * i:\n",
    "        original_to_new[2 * i] = len(dedup_vertices)\n",
    "        dedup_vertices.append(np_segments[i][0])\n",
    "    if v2_idx == 2 * i + 1:\n",
    "        original_to_new[2 * i + 1] = len(dedup_vertices)\n",
    "        dedup_vertices.append(np_segments[i][1])\n",
    "    ptr_edges.append((original_to_new[v1_idx], original_to_new[v2_idx]))\n",
    "\n",
    "np_dedup_vertices = np.array(dedup_vertices)\n",
    "\n",
    "# Check that the vertices are unique up to 1e-8 now.\n",
    "new_tree = scipy.spatial.KDTree(np_dedup_vertices)\n",
    "np.all([v[0] == i for i,v in enumerate(new_tree.query_ball_point(np_dedup_vertices, 1e-8))])\n",
    "\n",
    "# Build the graph\n",
    "G = nx.Graph()\n",
    "for e in ptr_edges:\n",
    "    G.add_edge(*e)\n",
    "\n",
    "# Check that it is planar and build the PlanarEmbedding data structure.\n",
    "is_planar, planar_embedding = nx.check_planarity(G)\n",
    "\n",
    "# Extract each polygon. \n",
    "counted_half_edges = set()\n",
    "polygons = []\n",
    "for component in nx.connected_components(planar_embedding):\n",
    "    for v in component:\n",
    "        for w in planar_embedding.neighbors_cw_order(v):\n",
    "            if (v, w) not in counted_half_edges:\n",
    "                polygons.append(planar_embedding.traverse_face(v, w, counted_half_edges))\n",
    "\n",
    "print(\"Found \" + str(len(polygons)) + \" closed polygons\")\n",
    "\n",
    "# Map polygons boundaries back to 2 labesl for each block\n",
    "n_vertices = np_dedup_vertices.shape[0]\n",
    "n_edges = len(ptr_edges)\n",
    "\n",
    "vertex_to_polygon = [[] for i in range(n_vertices)] \n",
    "for p_idx, p in enumerate(polygons):\n",
    "    for v_idx in p:\n",
    "        vertex_to_polygon[v_idx].append(p_idx)\n",
    "\n",
    "edge_to_polygon = []\n",
    "for e in ptr_edges:\n",
    "    polys_v0 = vertex_to_polygon[e[0]]\n",
    "    polys_v1 = vertex_to_polygon[e[1]]\n",
    "    # Intersection of lists\n",
    "    polys_edge = [p_idx for p_idx in polys_v0 if p_idx in polys_v1]\n",
    "    edge_to_polygon.append(polys_edge)\n",
    "\n",
    "segment[\"east_label\"] = np.zeros_like(segment.lon1)\n",
    "segment[\"west_label\"] = np.zeros_like(segment.lon1)\n",
    "for i in range(len(segment)):\n",
    "    segment.east_label.values[i] = edge_to_polygon[i][0]\n",
    "    segment.west_label.values[i] = edge_to_polygon[i][1]\n",
    "\n",
    "segment.east_label = segment.east_label.astype(int)\n",
    "segment.west_label = segment.west_label.astype(int)"
   ],
   "outputs": [
    {
     "output_type": "stream",
     "name": "stdout",
     "text": [
      "Found 31 closed polygons\n"
     ]
    }
   ],
   "metadata": {}
  },
  {
   "cell_type": "code",
   "execution_count": 58,
   "source": [
    "# Select all segments with either label == 1\n",
    "swap_east_west_labels = np.zeros_like(segment.east_label).astype(\"bool\")\n",
    "\n",
    "current_block_label = 1\n",
    "east_idx = segment.index[segment.east_label == current_block_label]\n",
    "west_idx = segment.index[segment.west_label == current_block_label]\n",
    "current_block_idx = np.union1d(east_idx, west_idx)\n",
    "segment_current_block = copy.copy(segment.iloc[current_block_idx])\n",
    "\n",
    "# plt.figure()\n",
    "# for i in range(len(segment_current_block)):\n",
    "#     plt.plot([segment_current_block.lon1.values[i], segment_current_block.lon2.values[i]],\n",
    "#              [segment_current_block.lat1.values[i], segment_current_block.lat2.values[i]], \"-k\")\n",
    "#     plt.text(segment_current_block.mid_lon.values[i], segment_current_block.mid_lat.values[i],\n",
    "#              str(segment_current_block.east_label.values[i]))\n",
    "#     plt.text(segment_current_block.mid_lon.values[i] - 0.25, segment_current_block.mid_lat.values[i],\n",
    "#              str(segment_current_block.west_label.values[i]))\n",
    "\n",
    "p = polygons[current_block_label]\n",
    "vertices_current_block = np.concatenate([np_dedup_vertices[p], np_dedup_vertices[p[0]][None,:]])\n",
    "longitude_east_offset = 1e-3\n",
    "is_midpoint_east = celeri.inpolygon(segment_current_block.mid_lon_plate_carree.values + longitude_east_offset,\n",
    "                           segment_current_block.mid_lat_plate_carree.values,\n",
    "                           vertices_current_block[:, 0], vertices_current_block[:, 1])\n",
    "swap_east_west_labels[current_block_idx] = is_midpoint_east\n",
    "\n",
    "plt.figure()\n",
    "for i in range(len(segment_current_block)):\n",
    "    plt.plot([segment_current_block.lon1.values[i], segment_current_block.lon2.values[i]],\n",
    "             [segment_current_block.lat1.values[i], segment_current_block.lat2.values[i]], \"-k\")\n",
    "    plt.text(segment_current_block.mid_lon.values[i], segment_current_block.mid_lat.values[i],\n",
    "             str(segment_current_block.east_label.values[i]))\n",
    "    plt.text(segment_current_block.mid_lon.values[i] - 0.25, segment_current_block.mid_lat.values[i],\n",
    "             str(segment_current_block.west_label.values[i]))\n",
    "\n",
    "east_labels = copy.copy(segment.east_label.to_numpy())\n",
    "west_labels = copy.copy(segment.west_label.to_numpy())\n",
    "for i in range(len(segment)):\n",
    "    if swap_east_west_labels[i] == True:\n",
    "        plt.plot([segment.lon1.values[i], segment.lon2.values[i]],\n",
    "                 [segment.lat1.values[i], segment.lat2.values[i]], \"-r\")\n",
    "        east_labels[i], west_labels[i] = west_labels[i], east_labels[i]\n",
    "    if east_labels[i] != current_block_label:\n",
    "        plt.plot([segment.lon1.values[i], segment.lon2.values[i]],\n",
    "                 [segment.lat1.values[i], segment.lat2.values[i]], \"-g\")\n",
    "        east_labels[i], west_labels[i] = west_labels[i], east_labels[i]\n",
    "segment.east_label = east_labels\n",
    "segment.west_label = west_labels\n",
    "\n",
    "segment_current_block = copy.copy(segment.iloc[current_block_idx])\n",
    "plt.figure()\n",
    "for i in range(len(segment_current_block)):\n",
    "    plt.plot([segment_current_block.lon1.values[i], segment_current_block.lon2.values[i]],\n",
    "             [segment_current_block.lat1.values[i], segment_current_block.lat2.values[i]], \"-k\")\n",
    "    plt.text(segment_current_block.mid_lon.values[i], segment_current_block.mid_lat.values[i],\n",
    "             str(segment_current_block.east_label.values[i]), fontsize=6)\n",
    "    plt.text(segment_current_block.mid_lon.values[i] - 0.25, segment_current_block.mid_lat.values[i],\n",
    "             str(segment_current_block.west_label.values[i]), fontsize=6)\n"
   ],
   "outputs": [
    {
     "output_type": "display_data",
     "data": {
      "text/plain": [
       "Canvas(toolbar=Toolbar(toolitems=[('Home', 'Reset original view', 'home', 'home'), ('Back', 'Back to previous …"
      ],
      "application/vnd.jupyter.widget-view+json": {
       "version_major": 2,
       "version_minor": 0,
       "model_id": "7cbcad9edc5447ee89c0b7b54771d40e"
      }
     },
     "metadata": {}
    },
    {
     "output_type": "display_data",
     "data": {
      "text/plain": [
       "Canvas(toolbar=Toolbar(toolitems=[('Home', 'Reset original view', 'home', 'home'), ('Back', 'Back to previous …"
      ],
      "application/vnd.jupyter.widget-view+json": {
       "version_major": 2,
       "version_minor": 0,
       "model_id": "75514af1ccba4ae7993be98caabc9037"
      }
     },
     "metadata": {}
    }
   ],
   "metadata": {}
  },
  {
   "cell_type": "code",
   "execution_count": null,
   "source": [],
   "outputs": [],
   "metadata": {}
  }
 ],
 "metadata": {
  "interpreter": {
   "hash": "749f0fc94df05971c9b3f3660cf19264b2aeee03fc6d4bf75e86fd251d69cf68"
  },
  "kernelspec": {
   "name": "python3",
   "display_name": "Python 3.8.8 64-bit ('base': conda)"
  },
  "language_info": {
   "codemirror_mode": {
    "name": "ipython",
    "version": 3
   },
   "file_extension": ".py",
   "mimetype": "text/x-python",
   "name": "python",
   "nbconvert_exporter": "python",
   "pygments_lexer": "ipython3",
   "version": "3.8.8"
  }
 },
 "nbformat": 4,
 "nbformat_minor": 4
}