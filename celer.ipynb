{
 "cells": [
  {
   "cell_type": "code",
   "execution_count": 1,
   "source": [
    "%load_ext nb_black\n",
    "import copy\n",
    "import datetime\n",
    "import json\n",
    "import os\n",
    "import numpy as np\n",
    "import pandas as pd\n",
    "import matplotlib.pyplot as plt\n",
    "from importlib import reload\n",
    "\n",
    "import celeri\n",
    "celeri = reload(celeri)"
   ],
   "outputs": [
    {
     "output_type": "display_data",
     "data": {
      "text/plain": [
       "<IPython.core.display.Javascript object>"
      ],
      "application/javascript": "\n            setTimeout(function() {\n                var nbb_cell_id = 1;\n                var nbb_unformatted_code = \"%load_ext nb_black\\nimport copy\\nimport datetime\\nimport json\\nimport os\\nimport numpy as np\\nimport pandas as pd\\nimport matplotlib.pyplot as plt\\nfrom importlib import reload\\n\\nimport celer\\nceler = reload(celer)\";\n                var nbb_formatted_code = \"%load_ext nb_black\\nimport copy\\nimport datetime\\nimport json\\nimport os\\nimport numpy as np\\nimport pandas as pd\\nimport matplotlib.pyplot as plt\\nfrom importlib import reload\\n\\nimport celer\\n\\nceler = reload(celer)\";\n                var nbb_cells = Jupyter.notebook.get_cells();\n                for (var i = 0; i < nbb_cells.length; ++i) {\n                    if (nbb_cells[i].input_prompt_number == nbb_cell_id) {\n                        if (nbb_cells[i].get_text() == nbb_unformatted_code) {\n                             nbb_cells[i].set_text(nbb_formatted_code);\n                        }\n                        break;\n                    }\n                }\n            }, 500);\n            "
     },
     "metadata": {}
    }
   ],
   "metadata": {
    "execution": {
     "iopub.execute_input": "2021-08-04T03:00:09.278922Z",
     "iopub.status.busy": "2021-08-04T03:00:09.278702Z",
     "iopub.status.idle": "2021-08-04T03:00:09.389124Z",
     "shell.execute_reply": "2021-08-04T03:00:09.388173Z",
     "shell.execute_reply.started": "2021-08-04T03:00:09.278899Z"
    },
    "tags": []
   }
  },
  {
   "cell_type": "code",
   "execution_count": 2,
   "source": [
    "RUN_NAME = datetime.datetime.now().strftime(\"%y%m%d%H%M%S\") + os.sep\n",
    "with open('./examples/western_north_america/command.json', 'r') as f:\n",
    "    command = json.load(f)\n",
    "station = pd.read_csv(command[\"station_file_name\"])\n",
    "segment = pd.read_csv(command[\"segment_file_name\"])\n",
    "block = pd.read_csv(command[\"block_file_name\"])"
   ],
   "outputs": [
    {
     "output_type": "display_data",
     "data": {
      "text/plain": [
       "<IPython.core.display.Javascript object>"
      ],
      "application/javascript": "\n            setTimeout(function() {\n                var nbb_cell_id = 2;\n                var nbb_unformatted_code = \"RUN_NAME = datetime.datetime.now().strftime(\\\"%y%m%d%H%M%S\\\") + os.sep\\nwith open('./examples/western_north_america/command.json', 'r') as f:\\n    command = json.load(f)\\nstation = pd.read_csv(command[\\\"station_file_name\\\"])\\nsegment = pd.read_csv(command[\\\"segment_file_name\\\"])\\nblock = pd.read_csv(command[\\\"block_file_name\\\"])\";\n                var nbb_formatted_code = \"RUN_NAME = datetime.datetime.now().strftime(\\\"%y%m%d%H%M%S\\\") + os.sep\\nwith open(\\\"./examples/western_north_america/command.json\\\", \\\"r\\\") as f:\\n    command = json.load(f)\\nstation = pd.read_csv(command[\\\"station_file_name\\\"])\\nsegment = pd.read_csv(command[\\\"segment_file_name\\\"])\\nblock = pd.read_csv(command[\\\"block_file_name\\\"])\";\n                var nbb_cells = Jupyter.notebook.get_cells();\n                for (var i = 0; i < nbb_cells.length; ++i) {\n                    if (nbb_cells[i].input_prompt_number == nbb_cell_id) {\n                        if (nbb_cells[i].get_text() == nbb_unformatted_code) {\n                             nbb_cells[i].set_text(nbb_formatted_code);\n                        }\n                        break;\n                    }\n                }\n            }, 500);\n            "
     },
     "metadata": {}
    }
   ],
   "metadata": {
    "execution": {
     "iopub.execute_input": "2021-08-04T03:00:11.065032Z",
     "iopub.status.busy": "2021-08-04T03:00:11.064786Z",
     "iopub.status.idle": "2021-08-04T03:00:11.092432Z",
     "shell.execute_reply": "2021-08-04T03:00:11.091782Z",
     "shell.execute_reply.started": "2021-08-04T03:00:11.065007Z"
    },
    "tags": []
   }
  },
  {
   "cell_type": "code",
   "execution_count": 3,
   "source": [
    "station = celeri.process_station(station, command)\n",
    "segment = celeri.process_segment(segment, command)\n"
   ],
   "outputs": [
    {
     "output_type": "display_data",
     "data": {
      "text/plain": [
       "<IPython.core.display.Javascript object>"
      ],
      "application/javascript": "\n            setTimeout(function() {\n                var nbb_cell_id = 3;\n                var nbb_unformatted_code = \"station = celer.process_station(station, command)\\nsegment = celer.process_segment(segment, command)\";\n                var nbb_formatted_code = \"station = celer.process_station(station, command)\\nsegment = celer.process_segment(segment, command)\";\n                var nbb_cells = Jupyter.notebook.get_cells();\n                for (var i = 0; i < nbb_cells.length; ++i) {\n                    if (nbb_cells[i].input_prompt_number == nbb_cell_id) {\n                        if (nbb_cells[i].get_text() == nbb_unformatted_code) {\n                             nbb_cells[i].set_text(nbb_formatted_code);\n                        }\n                        break;\n                    }\n                }\n            }, 500);\n            "
     },
     "metadata": {}
    }
   ],
   "metadata": {
    "execution": {
     "iopub.execute_input": "2021-08-04T03:00:12.007541Z",
     "iopub.status.busy": "2021-08-04T03:00:12.007316Z",
     "iopub.status.idle": "2021-08-04T03:00:12.293727Z",
     "shell.execute_reply": "2021-08-04T03:00:12.293008Z",
     "shell.execute_reply.started": "2021-08-04T03:00:12.007517Z"
    },
    "tags": []
   }
  },
  {
   "cell_type": "code",
   "execution_count": 5,
   "source": [
    "np_segments_bm = np.zeros((len(segment_bm), 2, 2))\n",
    "np_segments_bm[:, 0, 0] = segment_bm.lon1.to_numpy()\n",
    "np_segments_bm[:, 1, 0] = segment_bm.lon2.to_numpy()\n",
    "np_segments_bm[:, 0, 1] = segment_bm.lat1.to_numpy()\n",
    "np_segments_bm[:, 1, 1] = segment_bm.lat2.to_numpy()\n",
    "np_segments = np_segments_bm # BJM REPLACEMENT HERE\n",
    "for i in range(np_segments.shape[0] - 1):\n",
    "    plt.plot(np_segments[i,:,0], np_segments[i,:,1], 'k-')\n",
    "plt.show()\n"
   ],
   "outputs": [
    {
     "output_type": "error",
     "ename": "NameError",
     "evalue": "name 'segment_bm' is not defined",
     "traceback": [
      "\u001b[0;31m---------------------------------------------------------------------------\u001b[0m",
      "\u001b[0;31mNameError\u001b[0m                                 Traceback (most recent call last)",
      "\u001b[0;32m<ipython-input-5-18d3cce0cce3>\u001b[0m in \u001b[0;36m<module>\u001b[0;34m\u001b[0m\n\u001b[0;32m----> 1\u001b[0;31m \u001b[0mnp_segments_bm\u001b[0m \u001b[0;34m=\u001b[0m \u001b[0mnp\u001b[0m\u001b[0;34m.\u001b[0m\u001b[0mzeros\u001b[0m\u001b[0;34m(\u001b[0m\u001b[0;34m(\u001b[0m\u001b[0mlen\u001b[0m\u001b[0;34m(\u001b[0m\u001b[0msegment_bm\u001b[0m\u001b[0;34m)\u001b[0m\u001b[0;34m,\u001b[0m \u001b[0;36m2\u001b[0m\u001b[0;34m,\u001b[0m \u001b[0;36m2\u001b[0m\u001b[0;34m)\u001b[0m\u001b[0;34m)\u001b[0m\u001b[0;34m\u001b[0m\u001b[0;34m\u001b[0m\u001b[0m\n\u001b[0m\u001b[1;32m      2\u001b[0m \u001b[0mnp_segments_bm\u001b[0m\u001b[0;34m[\u001b[0m\u001b[0;34m:\u001b[0m\u001b[0;34m,\u001b[0m \u001b[0;36m0\u001b[0m\u001b[0;34m,\u001b[0m \u001b[0;36m0\u001b[0m\u001b[0;34m]\u001b[0m \u001b[0;34m=\u001b[0m \u001b[0msegment_bm\u001b[0m\u001b[0;34m.\u001b[0m\u001b[0mlon1\u001b[0m\u001b[0;34m.\u001b[0m\u001b[0mto_numpy\u001b[0m\u001b[0;34m(\u001b[0m\u001b[0;34m)\u001b[0m\u001b[0;34m\u001b[0m\u001b[0;34m\u001b[0m\u001b[0m\n\u001b[1;32m      3\u001b[0m \u001b[0mnp_segments_bm\u001b[0m\u001b[0;34m[\u001b[0m\u001b[0;34m:\u001b[0m\u001b[0;34m,\u001b[0m \u001b[0;36m1\u001b[0m\u001b[0;34m,\u001b[0m \u001b[0;36m0\u001b[0m\u001b[0;34m]\u001b[0m \u001b[0;34m=\u001b[0m \u001b[0msegment_bm\u001b[0m\u001b[0;34m.\u001b[0m\u001b[0mlon2\u001b[0m\u001b[0;34m.\u001b[0m\u001b[0mto_numpy\u001b[0m\u001b[0;34m(\u001b[0m\u001b[0;34m)\u001b[0m\u001b[0;34m\u001b[0m\u001b[0;34m\u001b[0m\u001b[0m\n\u001b[1;32m      4\u001b[0m \u001b[0mnp_segments_bm\u001b[0m\u001b[0;34m[\u001b[0m\u001b[0;34m:\u001b[0m\u001b[0;34m,\u001b[0m \u001b[0;36m0\u001b[0m\u001b[0;34m,\u001b[0m \u001b[0;36m1\u001b[0m\u001b[0;34m]\u001b[0m \u001b[0;34m=\u001b[0m \u001b[0msegment_bm\u001b[0m\u001b[0;34m.\u001b[0m\u001b[0mlat1\u001b[0m\u001b[0;34m.\u001b[0m\u001b[0mto_numpy\u001b[0m\u001b[0;34m(\u001b[0m\u001b[0;34m)\u001b[0m\u001b[0;34m\u001b[0m\u001b[0;34m\u001b[0m\u001b[0m\n\u001b[1;32m      5\u001b[0m \u001b[0mnp_segments_bm\u001b[0m\u001b[0;34m[\u001b[0m\u001b[0;34m:\u001b[0m\u001b[0;34m,\u001b[0m \u001b[0;36m1\u001b[0m\u001b[0;34m,\u001b[0m \u001b[0;36m1\u001b[0m\u001b[0;34m]\u001b[0m \u001b[0;34m=\u001b[0m \u001b[0msegment_bm\u001b[0m\u001b[0;34m.\u001b[0m\u001b[0mlat2\u001b[0m\u001b[0;34m.\u001b[0m\u001b[0mto_numpy\u001b[0m\u001b[0;34m(\u001b[0m\u001b[0;34m)\u001b[0m\u001b[0;34m\u001b[0m\u001b[0;34m\u001b[0m\u001b[0m\n",
      "\u001b[0;31mNameError\u001b[0m: name 'segment_bm' is not defined"
     ]
    },
    {
     "output_type": "display_data",
     "data": {
      "text/plain": [
       "<IPython.core.display.Javascript object>"
      ],
      "application/javascript": "\n            setTimeout(function() {\n                var nbb_cell_id = 5;\n                var nbb_unformatted_code = \"np_segments_bm = np.zeros((len(segment_bm), 2, 2))\\nnp_segments_bm[:, 0, 0] = segment_bm.lon1.to_numpy()\\nnp_segments_bm[:, 1, 0] = segment_bm.lon2.to_numpy()\\nnp_segments_bm[:, 0, 1] = segment_bm.lat1.to_numpy()\\nnp_segments_bm[:, 1, 1] = segment_bm.lat2.to_numpy()\\nnp_segments = np_segments_bm # BJM REPLACEMENT HERE\\nfor i in range(np_segments.shape[0] - 1):\\n    plt.plot(np_segments[i,:,0], np_segments[i,:,1], 'k-')\\nplt.show()\";\n                var nbb_formatted_code = \"np_segments_bm = np.zeros((len(segment_bm), 2, 2))\\nnp_segments_bm[:, 0, 0] = segment_bm.lon1.to_numpy()\\nnp_segments_bm[:, 1, 0] = segment_bm.lon2.to_numpy()\\nnp_segments_bm[:, 0, 1] = segment_bm.lat1.to_numpy()\\nnp_segments_bm[:, 1, 1] = segment_bm.lat2.to_numpy()\\nnp_segments = np_segments_bm  # BJM REPLACEMENT HERE\\nfor i in range(np_segments.shape[0] - 1):\\n    plt.plot(np_segments[i, :, 0], np_segments[i, :, 1], \\\"k-\\\")\\nplt.show()\";\n                var nbb_cells = Jupyter.notebook.get_cells();\n                for (var i = 0; i < nbb_cells.length; ++i) {\n                    if (nbb_cells[i].input_prompt_number == nbb_cell_id) {\n                        if (nbb_cells[i].get_text() == nbb_unformatted_code) {\n                             nbb_cells[i].set_text(nbb_formatted_code);\n                        }\n                        break;\n                    }\n                }\n            }, 500);\n            "
     },
     "metadata": {}
    }
   ],
   "metadata": {
    "tags": []
   }
  },
  {
   "cell_type": "code",
   "execution_count": null,
   "source": [],
   "outputs": [],
   "metadata": {}
  }
 ],
 "metadata": {
  "interpreter": {
   "hash": "749f0fc94df05971c9b3f3660cf19264b2aeee03fc6d4bf75e86fd251d69cf68"
  },
  "kernelspec": {
   "name": "python3",
   "display_name": "Python 3.8.8 64-bit ('base': conda)"
  },
  "language_info": {
   "codemirror_mode": {
    "name": "ipython",
    "version": 3
   },
   "file_extension": ".py",
   "mimetype": "text/x-python",
   "name": "python",
   "nbconvert_exporter": "python",
   "pygments_lexer": "ipython3",
   "version": "3.8.8"
  }
 },
 "nbformat": 4,
 "nbformat_minor": 4
}