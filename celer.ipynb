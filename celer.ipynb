{
 "cells": [
  {
   "cell_type": "code",
   "execution_count": 1,
   "source": [
    "%load_ext nb_black\n",
    "%matplotlib widget\n",
    "import copy\n",
    "import datetime\n",
    "import json\n",
    "import os\n",
    "import scipy.spatial\n",
    "import networkx as nx\n",
    "import numpy as np\n",
    "import pandas as pd\n",
    "import matplotlib.pyplot as plt\n",
    "from importlib import reload\n",
    "\n",
    "import celeri\n",
    "celeri = reload(celeri)"
   ],
   "outputs": [
    {
     "output_type": "display_data",
     "data": {
      "text/plain": [
       "<IPython.core.display.Javascript object>"
      ],
      "application/javascript": "\n            setTimeout(function() {\n                var nbb_cell_id = 1;\n                var nbb_unformatted_code = \"%load_ext nb_black\\n%matplotlib widget\\nimport copy\\nimport datetime\\nimport json\\nimport os\\nimport scipy.spatial\\nimport networkx as nx\\nimport numpy as np\\nimport pandas as pd\\nimport matplotlib.pyplot as plt\\nfrom importlib import reload\\n\\nimport celeri\\nceleri = reload(celeri)\";\n                var nbb_formatted_code = \"%load_ext nb_black\\n%matplotlib widget\\nimport copy\\nimport datetime\\nimport json\\nimport os\\nimport scipy.spatial\\nimport networkx as nx\\nimport numpy as np\\nimport pandas as pd\\nimport matplotlib.pyplot as plt\\nfrom importlib import reload\\n\\nimport celeri\\n\\nceleri = reload(celeri)\";\n                var nbb_cells = Jupyter.notebook.get_cells();\n                for (var i = 0; i < nbb_cells.length; ++i) {\n                    if (nbb_cells[i].input_prompt_number == nbb_cell_id) {\n                        if (nbb_cells[i].get_text() == nbb_unformatted_code) {\n                             nbb_cells[i].set_text(nbb_formatted_code);\n                        }\n                        break;\n                    }\n                }\n            }, 500);\n            "
     },
     "metadata": {}
    }
   ],
   "metadata": {
    "execution": {
     "iopub.execute_input": "2021-08-04T03:00:09.278922Z",
     "iopub.status.busy": "2021-08-04T03:00:09.278702Z",
     "iopub.status.idle": "2021-08-04T03:00:09.389124Z",
     "shell.execute_reply": "2021-08-04T03:00:09.388173Z",
     "shell.execute_reply.started": "2021-08-04T03:00:09.278899Z"
    },
    "tags": []
   }
  },
  {
   "cell_type": "code",
   "execution_count": 2,
   "source": [
    "RUN_NAME = datetime.datetime.now().strftime(\"%y%m%d%H%M%S\") + os.sep\n",
    "with open('./data/western_north_america/command.json', 'r') as f:\n",
    "    command = json.load(f)\n",
    "station = pd.read_csv(command[\"station_file_name\"])\n",
    "segment = pd.read_csv(command[\"segment_file_name\"])\n",
    "block = pd.read_csv(command[\"block_file_name\"])"
   ],
   "outputs": [
    {
     "output_type": "display_data",
     "data": {
      "text/plain": [
       "<IPython.core.display.Javascript object>"
      ],
      "application/javascript": "\n            setTimeout(function() {\n                var nbb_cell_id = 2;\n                var nbb_unformatted_code = \"RUN_NAME = datetime.datetime.now().strftime(\\\"%y%m%d%H%M%S\\\") + os.sep\\nwith open('./data/western_north_america/command.json', 'r') as f:\\n    command = json.load(f)\\nstation = pd.read_csv(command[\\\"station_file_name\\\"])\\nsegment = pd.read_csv(command[\\\"segment_file_name\\\"])\\nblock = pd.read_csv(command[\\\"block_file_name\\\"])\";\n                var nbb_formatted_code = \"RUN_NAME = datetime.datetime.now().strftime(\\\"%y%m%d%H%M%S\\\") + os.sep\\nwith open(\\\"./data/western_north_america/command.json\\\", \\\"r\\\") as f:\\n    command = json.load(f)\\nstation = pd.read_csv(command[\\\"station_file_name\\\"])\\nsegment = pd.read_csv(command[\\\"segment_file_name\\\"])\\nblock = pd.read_csv(command[\\\"block_file_name\\\"])\";\n                var nbb_cells = Jupyter.notebook.get_cells();\n                for (var i = 0; i < nbb_cells.length; ++i) {\n                    if (nbb_cells[i].input_prompt_number == nbb_cell_id) {\n                        if (nbb_cells[i].get_text() == nbb_unformatted_code) {\n                             nbb_cells[i].set_text(nbb_formatted_code);\n                        }\n                        break;\n                    }\n                }\n            }, 500);\n            "
     },
     "metadata": {}
    }
   ],
   "metadata": {
    "execution": {
     "iopub.execute_input": "2021-08-04T03:00:11.065032Z",
     "iopub.status.busy": "2021-08-04T03:00:11.064786Z",
     "iopub.status.idle": "2021-08-04T03:00:11.092432Z",
     "shell.execute_reply": "2021-08-04T03:00:11.091782Z",
     "shell.execute_reply.started": "2021-08-04T03:00:11.065007Z"
    },
    "tags": []
   }
  },
  {
   "cell_type": "code",
   "execution_count": 3,
   "source": [
    "station = celeri.process_station(station, command)\n",
    "segment = celeri.process_segment(segment, command)"
   ],
   "outputs": [
    {
     "output_type": "display_data",
     "data": {
      "text/plain": [
       "<IPython.core.display.Javascript object>"
      ],
      "application/javascript": "\n            setTimeout(function() {\n                var nbb_cell_id = 3;\n                var nbb_unformatted_code = \"station = celeri.process_station(station, command)\\nsegment = celeri.process_segment(segment, command)\";\n                var nbb_formatted_code = \"station = celeri.process_station(station, command)\\nsegment = celeri.process_segment(segment, command)\";\n                var nbb_cells = Jupyter.notebook.get_cells();\n                for (var i = 0; i < nbb_cells.length; ++i) {\n                    if (nbb_cells[i].input_prompt_number == nbb_cell_id) {\n                        if (nbb_cells[i].get_text() == nbb_unformatted_code) {\n                             nbb_cells[i].set_text(nbb_formatted_code);\n                        }\n                        break;\n                    }\n                }\n            }, 500);\n            "
     },
     "metadata": {}
    }
   ],
   "metadata": {
    "execution": {
     "iopub.execute_input": "2021-08-04T03:00:12.007541Z",
     "iopub.status.busy": "2021-08-04T03:00:12.007316Z",
     "iopub.status.idle": "2021-08-04T03:00:12.293727Z",
     "shell.execute_reply": "2021-08-04T03:00:12.293008Z",
     "shell.execute_reply.started": "2021-08-04T03:00:12.007517Z"
    },
    "tags": []
   }
  },
  {
   "cell_type": "code",
   "execution_count": 4,
   "source": [
    "np_segments = np.zeros((len(segment), 2, 2))\n",
    "np_segments[:, 0, 0] = segment.lon1.to_numpy()\n",
    "np_segments[:, 1, 0] = segment.lon2.to_numpy()\n",
    "np_segments[:, 0, 1] = segment.lat1.to_numpy()\n",
    "np_segments[:, 1, 1] = segment.lat2.to_numpy()\n",
    "for i in range(np_segments.shape[0] - 1):\n",
    "    plt.plot(np_segments[i,:,0], np_segments[i,:,1], 'k-')\n",
    "plt.show()\n"
   ],
   "outputs": [
    {
     "output_type": "display_data",
     "data": {
      "text/plain": [
       "Canvas(toolbar=Toolbar(toolitems=[('Home', 'Reset original view', 'home', 'home'), ('Back', 'Back to previous …"
      ],
      "application/vnd.jupyter.widget-view+json": {
       "version_major": 2,
       "version_minor": 0,
       "model_id": "b19c6d7e0a4344d6bf8a959376751cb6"
      }
     },
     "metadata": {}
    },
    {
     "output_type": "display_data",
     "data": {
      "text/plain": [
       "<IPython.core.display.Javascript object>"
      ],
      "application/javascript": "\n            setTimeout(function() {\n                var nbb_cell_id = 4;\n                var nbb_unformatted_code = \"np_segments = np.zeros((len(segment), 2, 2))\\nnp_segments[:, 0, 0] = segment.lon1.to_numpy()\\nnp_segments[:, 1, 0] = segment.lon2.to_numpy()\\nnp_segments[:, 0, 1] = segment.lat1.to_numpy()\\nnp_segments[:, 1, 1] = segment.lat2.to_numpy()\\nfor i in range(np_segments.shape[0] - 1):\\n    plt.plot(np_segments[i,:,0], np_segments[i,:,1], 'k-')\\nplt.show()\";\n                var nbb_formatted_code = \"np_segments = np.zeros((len(segment), 2, 2))\\nnp_segments[:, 0, 0] = segment.lon1.to_numpy()\\nnp_segments[:, 1, 0] = segment.lon2.to_numpy()\\nnp_segments[:, 0, 1] = segment.lat1.to_numpy()\\nnp_segments[:, 1, 1] = segment.lat2.to_numpy()\\nfor i in range(np_segments.shape[0] - 1):\\n    plt.plot(np_segments[i, :, 0], np_segments[i, :, 1], \\\"k-\\\")\\nplt.show()\";\n                var nbb_cells = Jupyter.notebook.get_cells();\n                for (var i = 0; i < nbb_cells.length; ++i) {\n                    if (nbb_cells[i].input_prompt_number == nbb_cell_id) {\n                        if (nbb_cells[i].get_text() == nbb_unformatted_code) {\n                             nbb_cells[i].set_text(nbb_formatted_code);\n                        }\n                        break;\n                    }\n                }\n            }, 500);\n            "
     },
     "metadata": {}
    }
   ],
   "metadata": {
    "tags": []
   }
  },
  {
   "cell_type": "code",
   "execution_count": 29,
   "source": [
    "# De-duplicate the vertices and build an ptr_edge array\n",
    "all_vertices = np_segments.reshape((-1, 2))\n",
    "tree = scipy.spatial.KDTree(all_vertices, leafsize=1000)\n",
    "duplicates = tree.query_ball_point(all_vertices, 1e-8)\n",
    "\n",
    "ptr_edges = []\n",
    "dedup_vertices = []\n",
    "original_to_new = dict()\n",
    "for i in range(np_segments.shape[0]):\n",
    "    v1_idx = duplicates[2 * i][0]\n",
    "    v2_idx = duplicates[2 * i + 1][0]\n",
    "    if v1_idx == 2 * i:\n",
    "        original_to_new[2 * i] = len(dedup_vertices)\n",
    "        dedup_vertices.append(np_segments[i][0])\n",
    "    if v2_idx == 2 * i + 1:\n",
    "        original_to_new[2 * i + 1] = len(dedup_vertices)\n",
    "        dedup_vertices.append(np_segments[i][1])\n",
    "    ptr_edges.append((original_to_new[v1_idx], original_to_new[v2_idx]))\n",
    "\n",
    "np_dedup_vertices = np.array(dedup_vertices)\n",
    "\n",
    "# Check that the vertices are unique up to 1e-8 now.\n",
    "new_tree = scipy.spatial.KDTree(np_dedup_vertices)\n",
    "np.all([v[0] == i for i,v in enumerate(new_tree.query_ball_point(np_dedup_vertices, 1e-8))])\n",
    "\n",
    "# Build the graph\n",
    "G = nx.Graph()\n",
    "for e in ptr_edges:\n",
    "    G.add_edge(*e)\n",
    "\n",
    "# Check that it is planar and build the PlanarEmbedding data structure.\n",
    "is_planar, planar_embedding = nx.check_planarity(G)\n",
    "\n",
    "# Extract each polygon. \n",
    "counted_half_edges = set()\n",
    "polygons = []\n",
    "for component in nx.connected_components(planar_embedding):\n",
    "    for v in component:\n",
    "        for w in planar_embedding.neighbors_cw_order(v):\n",
    "            if (v, w) not in counted_half_edges:\n",
    "                polygons.append(planar_embedding.traverse_face(v, w, counted_half_edges))\n",
    "\n",
    "print(\"Found \" + str(len(polygons)) + \" closed polygons\")\n",
    "\n",
    "# Map polygons boundaries back to 2 labesl for each block\n",
    "n_vertices = np_dedup_vertices.shape[0]\n",
    "n_edges = len(ptr_edges)\n",
    "\n",
    "vertex_to_polygon = [[] for i in range(n_vertices)] \n",
    "for p_idx, p in enumerate(polygons):\n",
    "    for v_idx in p:\n",
    "        vertex_to_polygon[v_idx].append(p_idx)\n",
    "\n",
    "edge_to_polygon = []\n",
    "for e in ptr_edges:\n",
    "    polys_v0 = vertex_to_polygon[e[0]]\n",
    "    polys_v1 = vertex_to_polygon[e[1]]\n",
    "    # Intersection of lists\n",
    "    polys_edge = [p_idx for p_idx in polys_v0 if p_idx in polys_v1]\n",
    "    edge_to_polygon.append(polys_edge)\n",
    "\n",
    "segment[\"east_label\"] = np.zeros_like(segment.lon1)\n",
    "segment[\"west_label\"] = np.zeros_like(segment.lon1)\n",
    "for i in range(len(segment)):\n",
    "    segment.east_label.values[i] = edge_to_polygon[i][0]\n",
    "    segment.west_label.values[i] = edge_to_polygon[i][1]"
   ],
   "outputs": [
    {
     "output_type": "stream",
     "name": "stdout",
     "text": [
      "Found 31 closed polygons\n"
     ]
    },
    {
     "output_type": "display_data",
     "data": {
      "text/plain": [
       "<IPython.core.display.Javascript object>"
      ],
      "application/javascript": "\n            setTimeout(function() {\n                var nbb_cell_id = 29;\n                var nbb_unformatted_code = \"# De-duplicate the vertices and build an ptr_edge array\\nall_vertices = np_segments.reshape((-1, 2))\\ntree = scipy.spatial.KDTree(all_vertices, leafsize=1000)\\nduplicates = tree.query_ball_point(all_vertices, 1e-8)\\n\\nptr_edges = []\\ndedup_vertices = []\\noriginal_to_new = dict()\\nfor i in range(np_segments.shape[0]):\\n    v1_idx = duplicates[2 * i][0]\\n    v2_idx = duplicates[2 * i + 1][0]\\n    if v1_idx == 2 * i:\\n        original_to_new[2 * i] = len(dedup_vertices)\\n        dedup_vertices.append(np_segments[i][0])\\n    if v2_idx == 2 * i + 1:\\n        original_to_new[2 * i + 1] = len(dedup_vertices)\\n        dedup_vertices.append(np_segments[i][1])\\n    ptr_edges.append((original_to_new[v1_idx], original_to_new[v2_idx]))\\n\\nnp_dedup_vertices = np.array(dedup_vertices)\\n\\n# Check that the vertices are unique up to 1e-8 now.\\nnew_tree = scipy.spatial.KDTree(np_dedup_vertices)\\nnp.all([v[0] == i for i,v in enumerate(new_tree.query_ball_point(np_dedup_vertices, 1e-8))])\\n\\n# Build the graph\\nG = nx.Graph()\\nfor e in ptr_edges:\\n    G.add_edge(*e)\\n\\n# Check that it is planar and build the PlanarEmbedding data structure.\\nis_planar, planar_embedding = nx.check_planarity(G)\\n\\n# Extract each polygon. \\ncounted_half_edges = set()\\npolygons = []\\nfor component in nx.connected_components(planar_embedding):\\n    for v in component:\\n        for w in planar_embedding.neighbors_cw_order(v):\\n            if (v, w) not in counted_half_edges:\\n                polygons.append(planar_embedding.traverse_face(v, w, counted_half_edges))\\n\\nprint(\\\"Found \\\" + str(len(polygons)) + \\\" closed polygons\\\")\\n\\n# Map polygons boundaries back to 2 labesl for each block\\nn_vertices = np_dedup_vertices.shape[0]\\nn_edges = len(ptr_edges)\\n\\nvertex_to_polygon = [[] for i in range(n_vertices)] \\nfor p_idx, p in enumerate(polygons):\\n    for v_idx in p:\\n        vertex_to_polygon[v_idx].append(p_idx)\\n\\nedge_to_polygon = []\\nfor e in ptr_edges:\\n    polys_v0 = vertex_to_polygon[e[0]]\\n    polys_v1 = vertex_to_polygon[e[1]]\\n    # Intersection of lists\\n    polys_edge = [p_idx for p_idx in polys_v0 if p_idx in polys_v1]\\n    edge_to_polygon.append(polys_edge)\\n\\nsegment[\\\"east_label\\\"] = np.zeros_like(segment.lon1)\\nsegment[\\\"west_label\\\"] = np.zeros_like(segment.lon1)\\nfor i in range(len(segment)):\\n    segment.east_label.values[i] = edge_to_polygon[i][0]\\n    segment.west_label.values[i] = edge_to_polygon[i][1]\";\n                var nbb_formatted_code = \"# De-duplicate the vertices and build an ptr_edge array\\nall_vertices = np_segments.reshape((-1, 2))\\ntree = scipy.spatial.KDTree(all_vertices, leafsize=1000)\\nduplicates = tree.query_ball_point(all_vertices, 1e-8)\\n\\nptr_edges = []\\ndedup_vertices = []\\noriginal_to_new = dict()\\nfor i in range(np_segments.shape[0]):\\n    v1_idx = duplicates[2 * i][0]\\n    v2_idx = duplicates[2 * i + 1][0]\\n    if v1_idx == 2 * i:\\n        original_to_new[2 * i] = len(dedup_vertices)\\n        dedup_vertices.append(np_segments[i][0])\\n    if v2_idx == 2 * i + 1:\\n        original_to_new[2 * i + 1] = len(dedup_vertices)\\n        dedup_vertices.append(np_segments[i][1])\\n    ptr_edges.append((original_to_new[v1_idx], original_to_new[v2_idx]))\\n\\nnp_dedup_vertices = np.array(dedup_vertices)\\n\\n# Check that the vertices are unique up to 1e-8 now.\\nnew_tree = scipy.spatial.KDTree(np_dedup_vertices)\\nnp.all(\\n    [\\n        v[0] == i\\n        for i, v in enumerate(new_tree.query_ball_point(np_dedup_vertices, 1e-8))\\n    ]\\n)\\n\\n# Build the graph\\nG = nx.Graph()\\nfor e in ptr_edges:\\n    G.add_edge(*e)\\n\\n# Check that it is planar and build the PlanarEmbedding data structure.\\nis_planar, planar_embedding = nx.check_planarity(G)\\n\\n# Extract each polygon.\\ncounted_half_edges = set()\\npolygons = []\\nfor component in nx.connected_components(planar_embedding):\\n    for v in component:\\n        for w in planar_embedding.neighbors_cw_order(v):\\n            if (v, w) not in counted_half_edges:\\n                polygons.append(\\n                    planar_embedding.traverse_face(v, w, counted_half_edges)\\n                )\\n\\nprint(\\\"Found \\\" + str(len(polygons)) + \\\" closed polygons\\\")\\n\\n# Map polygons boundaries back to 2 labesl for each block\\nn_vertices = np_dedup_vertices.shape[0]\\nn_edges = len(ptr_edges)\\n\\nvertex_to_polygon = [[] for i in range(n_vertices)]\\nfor p_idx, p in enumerate(polygons):\\n    for v_idx in p:\\n        vertex_to_polygon[v_idx].append(p_idx)\\n\\nedge_to_polygon = []\\nfor e in ptr_edges:\\n    polys_v0 = vertex_to_polygon[e[0]]\\n    polys_v1 = vertex_to_polygon[e[1]]\\n    # Intersection of lists\\n    polys_edge = [p_idx for p_idx in polys_v0 if p_idx in polys_v1]\\n    edge_to_polygon.append(polys_edge)\\n\\nsegment[\\\"east_label\\\"] = np.zeros_like(segment.lon1)\\nsegment[\\\"west_label\\\"] = np.zeros_like(segment.lon1)\\nfor i in range(len(segment)):\\n    segment.east_label.values[i] = edge_to_polygon[i][0]\\n    segment.west_label.values[i] = edge_to_polygon[i][1]\";\n                var nbb_cells = Jupyter.notebook.get_cells();\n                for (var i = 0; i < nbb_cells.length; ++i) {\n                    if (nbb_cells[i].input_prompt_number == nbb_cell_id) {\n                        if (nbb_cells[i].get_text() == nbb_unformatted_code) {\n                             nbb_cells[i].set_text(nbb_formatted_code);\n                        }\n                        break;\n                    }\n                }\n            }, 500);\n            "
     },
     "metadata": {}
    }
   ],
   "metadata": {}
  },
  {
   "cell_type": "code",
   "execution_count": 32,
   "source": [
    "# Plot one polygon and with midpoints and labels\n",
    "plt.figure()\n",
    "for p in polygons[2:3]:\n",
    "    verts_loop = np.concatenate([np_dedup_vertices[p], np_dedup_vertices[p[0]][None,:]])\n",
    "    plt.plot(verts_loop[:, 0], verts_loop[:, 1])\n",
    "plt.show()"
   ],
   "outputs": [
    {
     "output_type": "display_data",
     "data": {
      "text/plain": [
       "Canvas(toolbar=Toolbar(toolitems=[('Home', 'Reset original view', 'home', 'home'), ('Back', 'Back to previous …"
      ],
      "application/vnd.jupyter.widget-view+json": {
       "version_major": 2,
       "version_minor": 0,
       "model_id": "3cc1fffffac44981bbe213329661151c"
      }
     },
     "metadata": {}
    },
    {
     "output_type": "display_data",
     "data": {
      "text/plain": [
       "<IPython.core.display.Javascript object>"
      ],
      "application/javascript": "\n            setTimeout(function() {\n                var nbb_cell_id = 32;\n                var nbb_unformatted_code = \"# Plot one polygon and with midpoints and labels\\nplt.figure()\\nfor p in polygons[2:3]:\\n    verts_loop = np.concatenate([np_dedup_vertices[p], np_dedup_vertices[p[0]][None,:]])\\n    plt.plot(verts_loop[:, 0], verts_loop[:, 1])\\nplt.show()\";\n                var nbb_formatted_code = \"# Plot one polygon and with midpoints and labels\\nplt.figure()\\nfor p in polygons[2:3]:\\n    verts_loop = np.concatenate(\\n        [np_dedup_vertices[p], np_dedup_vertices[p[0]][None, :]]\\n    )\\n    plt.plot(verts_loop[:, 0], verts_loop[:, 1])\\nplt.show()\";\n                var nbb_cells = Jupyter.notebook.get_cells();\n                for (var i = 0; i < nbb_cells.length; ++i) {\n                    if (nbb_cells[i].input_prompt_number == nbb_cell_id) {\n                        if (nbb_cells[i].get_text() == nbb_unformatted_code) {\n                             nbb_cells[i].set_text(nbb_formatted_code);\n                        }\n                        break;\n                    }\n                }\n            }, 500);\n            "
     },
     "metadata": {}
    }
   ],
   "metadata": {}
  },
  {
   "cell_type": "code",
   "execution_count": 28,
   "source": [],
   "outputs": [
    {
     "output_type": "display_data",
     "data": {
      "text/plain": [
       "<IPython.core.display.Javascript object>"
      ],
      "application/javascript": "\n            setTimeout(function() {\n                var nbb_cell_id = 28;\n                var nbb_unformatted_code = \"segment[\\\"east_label\\\"] = np.zeros_like(segment.lon1)\\nsegment[\\\"west_label\\\"] = np.zeros_like(segment.lon1)\\nfor i in range(len(segment)):\\n    segment.east_label.values[i] = edge_to_polygon[i][0]\\n    segment.west_label.values[i] = edge_to_polygon[i][1]\";\n                var nbb_formatted_code = \"segment[\\\"east_label\\\"] = np.zeros_like(segment.lon1)\\nsegment[\\\"west_label\\\"] = np.zeros_like(segment.lon1)\\nfor i in range(len(segment)):\\n    segment.east_label.values[i] = edge_to_polygon[i][0]\\n    segment.west_label.values[i] = edge_to_polygon[i][1]\";\n                var nbb_cells = Jupyter.notebook.get_cells();\n                for (var i = 0; i < nbb_cells.length; ++i) {\n                    if (nbb_cells[i].input_prompt_number == nbb_cell_id) {\n                        if (nbb_cells[i].get_text() == nbb_unformatted_code) {\n                             nbb_cells[i].set_text(nbb_formatted_code);\n                        }\n                        break;\n                    }\n                }\n            }, 500);\n            "
     },
     "metadata": {}
    }
   ],
   "metadata": {}
  },
  {
   "cell_type": "code",
   "execution_count": 25,
   "source": [
    "edge_to_polygon[0, 1]"
   ],
   "outputs": [
    {
     "output_type": "error",
     "ename": "TypeError",
     "evalue": "list indices must be integers or slices, not tuple",
     "traceback": [
      "\u001b[0;31m---------------------------------------------------------------------------\u001b[0m",
      "\u001b[0;31mTypeError\u001b[0m                                 Traceback (most recent call last)",
      "\u001b[0;32m<ipython-input-25-289b73799363>\u001b[0m in \u001b[0;36m<module>\u001b[0;34m\u001b[0m\n\u001b[0;32m----> 1\u001b[0;31m \u001b[0medge_to_polygon\u001b[0m\u001b[0;34m[\u001b[0m\u001b[0;36m0\u001b[0m\u001b[0;34m,\u001b[0m \u001b[0;36m1\u001b[0m\u001b[0;34m]\u001b[0m\u001b[0;34m\u001b[0m\u001b[0;34m\u001b[0m\u001b[0m\n\u001b[0m",
      "\u001b[0;31mTypeError\u001b[0m: list indices must be integers or slices, not tuple"
     ]
    },
    {
     "output_type": "display_data",
     "data": {
      "text/plain": [
       "<IPython.core.display.Javascript object>"
      ],
      "application/javascript": "\n            setTimeout(function() {\n                var nbb_cell_id = 25;\n                var nbb_unformatted_code = \"edge_to_polygon[0, 1]\";\n                var nbb_formatted_code = \"edge_to_polygon[0, 1]\";\n                var nbb_cells = Jupyter.notebook.get_cells();\n                for (var i = 0; i < nbb_cells.length; ++i) {\n                    if (nbb_cells[i].input_prompt_number == nbb_cell_id) {\n                        if (nbb_cells[i].get_text() == nbb_unformatted_code) {\n                             nbb_cells[i].set_text(nbb_formatted_code);\n                        }\n                        break;\n                    }\n                }\n            }, 500);\n            "
     },
     "metadata": {}
    }
   ],
   "metadata": {}
  },
  {
   "cell_type": "code",
   "execution_count": null,
   "source": [],
   "outputs": [],
   "metadata": {}
  }
 ],
 "metadata": {
  "interpreter": {
   "hash": "749f0fc94df05971c9b3f3660cf19264b2aeee03fc6d4bf75e86fd251d69cf68"
  },
  "kernelspec": {
   "name": "python3",
   "display_name": "Python 3.8.8 64-bit ('base': conda)"
  },
  "language_info": {
   "codemirror_mode": {
    "name": "ipython",
    "version": 3
   },
   "file_extension": ".py",
   "mimetype": "text/x-python",
   "name": "python",
   "nbconvert_exporter": "python",
   "pygments_lexer": "ipython3",
   "version": "3.8.8"
  }
 },
 "nbformat": 4,
 "nbformat_minor": 4
}