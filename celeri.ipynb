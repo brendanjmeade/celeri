{
 "cells": [
  {
   "cell_type": "code",
   "execution_count": 1,
   "metadata": {
    "execution": {
     "iopub.execute_input": "2021-08-22T18:29:50.539195Z",
     "iopub.status.busy": "2021-08-22T18:29:50.538938Z",
     "iopub.status.idle": "2021-08-22T18:29:50.550334Z",
     "shell.execute_reply": "2021-08-22T18:29:50.549700Z",
     "shell.execute_reply.started": "2021-08-22T18:29:50.539169Z"
    },
    "tags": []
   },
   "outputs": [],
   "source": [
    "%matplotlib widget\n",
    "%config InlineBackend.figure_format = 'svg'"
   ]
  },
  {
   "cell_type": "code",
   "execution_count": 2,
   "metadata": {
    "execution": {
     "iopub.execute_input": "2021-08-22T18:29:51.661926Z",
     "iopub.status.busy": "2021-08-22T18:29:51.661659Z",
     "iopub.status.idle": "2021-08-22T18:29:51.956035Z",
     "shell.execute_reply": "2021-08-22T18:29:51.955292Z",
     "shell.execute_reply.started": "2021-08-22T18:29:51.661900Z"
    },
    "tags": []
   },
   "outputs": [],
   "source": [
    "import addict\n",
    "import copy\n",
    "import numpy as np\n",
    "import pandas as pd\n",
    "import matplotlib.pyplot as plt\n",
    "from importlib import reload\n",
    "from tqdm.notebook import tqdm\n",
    "\n",
    "import celeri\n",
    "celeri = reload(celeri)\n",
    "\n",
    "plt.rcParams['text.usetex'] = False # Plotting the global model is much much faster with tex fonts turned off"
   ]
  },
  {
   "cell_type": "markdown",
   "metadata": {},
   "source": [
    "# Read in data files and do basic processing"
   ]
  },
  {
   "cell_type": "code",
   "execution_count": 3,
   "metadata": {
    "execution": {
     "iopub.execute_input": "2021-08-22T18:29:53.570589Z",
     "iopub.status.busy": "2021-08-22T18:29:53.570331Z",
     "iopub.status.idle": "2021-08-22T18:30:09.817977Z",
     "shell.execute_reply": "2021-08-22T18:30:09.817443Z",
     "shell.execute_reply.started": "2021-08-22T18:29:53.570561Z"
    },
    "tags": []
   },
   "outputs": [
    {
     "name": "stderr",
     "output_type": "stream",
     "text": [
      "WARNING:root:The file contains tag data that couldn't be processed.\n"
     ]
    }
   ],
   "source": [
    "command_file_name = \"./data/western_north_america/basic_command.json\"\n",
    "command, segment, block, meshes, station, mogi, sar = celeri.read_data(command_file_name)\n",
    "station = celeri.process_station(station, command)\n",
    "segment = celeri.process_segment(segment, command, meshes)\n",
    "sar = celeri.process_sar(sar, command)\n",
    "closure, block = celeri.assign_block_labels(segment, station, block, mogi, sar)\n",
    "# celeri.plot_block_labels(segment, block, station, closure)"
   ]
  },
  {
   "cell_type": "markdown",
   "metadata": {},
   "source": [
    "# Create storage dictionaries and calculate elastic operators"
   ]
  },
  {
   "cell_type": "code",
   "execution_count": 4,
   "metadata": {},
   "outputs": [
    {
     "data": {
      "application/vnd.jupyter.widget-view+json": {
       "model_id": "ab22a8c303d349e8abe0af31c5ad8a24",
       "version_major": 2,
       "version_minor": 0
      },
      "text/plain": [
       "Calculating Okada partials for segments:   0%|          | 0/837 [00:00<?, ?it/s]"
      ]
     },
     "metadata": {},
     "output_type": "display_data"
    },
    {
     "data": {
      "application/vnd.jupyter.widget-view+json": {
       "model_id": "2406ed29bcb042c4aa243b14fdf54f2f",
       "version_major": 2,
       "version_minor": 0
      },
      "text/plain": [
       "Calculating cutde partials for triangles:   0%|          | 0/1841 [00:00<?, ?it/s]"
      ]
     },
     "metadata": {},
     "output_type": "display_data"
    }
   ],
   "source": [
    "assembly = addict.Dict()\n",
    "operators = addict.Dict()\n",
    "assembly = celeri.merge_geodetic_data(assembly, station, sar) # Not sure this work correctly\n",
    "\n",
    "# Elastic operators\n",
    "operators.okada_segment_station = celeri.get_segment_station_operator_okada(segment, station, command)\n",
    "# celeri.plot_segment_displacements(segment, station, command, segment_idx=0, strike_slip=1, dip_slip=0, tensile_slip=0, lon_min=235, lon_max=255, lat_min=30, lat_max=50, quiver_scale=1e-1)\n",
    "operators.tri_station = celeri.get_tri_station_operator_okada(meshes, station, command)\n",
    "celeri.get_all_mesh_smoothing_matrices(meshes)"
   ]
  },
  {
   "cell_type": "markdown",
   "metadata": {},
   "source": [
    "# Calculate additional non-elastic operators"
   ]
  },
  {
   "cell_type": "code",
   "execution_count": 5,
   "metadata": {
    "tags": []
   },
   "outputs": [],
   "source": [
    "# Build all linear kinematic operators\n",
    "operators.block_rotation = celeri.get_block_rotation_operator(station)\n",
    "operators.global_float_block_rotation = celeri.get_global_float_block_rotation_operator(station)\n",
    "\n",
    "# TODO: Update celeri.block_constraints to properly use block.\n",
    "assembly, operators.block_motion_constraints = celeri.block_constraints(assembly, block, command)\n",
    "assembly, operators.slip_rate_constraints = celeri.slip_rate_constraints(assembly, segment, block, command)\n",
    "operators.slip_rate_segment_block = celeri.get_fault_slip_rate_partials(segment, block)\n",
    "operators.block_strain_rate, strain_rate_block_idx = celeri.get_strain_rate_centroid_operator(block, station, segment)\n",
    "operators.mogi_station = celeri.get_mogi_operator(mogi, station, command)\n",
    "\n",
    "# Get additional matrix shape information for assembly\n",
    "assembly.index.sz_elastic = operators.okada_segment_station.shape # Not sure this is correct\n",
    "assembly.index.sz_slip = operators.slip_rate_segment_block.shape # Not sure this is correct\n",
    "assembly.index.sz_rotation = operators.block_rotation.shape # Not sure this is correct\n",
    "assembly = celeri.station_row_keep(assembly) # Not sure this is correct"
   ]
  },
  {
   "cell_type": "code",
   "execution_count": 43,
   "metadata": {},
   "outputs": [
    {
     "name": "stdout",
     "output_type": "stream",
     "text": [
      "(3372, 3682)\n",
      "(3682, 3682)\n",
      "(7054, 3682)\n"
     ]
    },
    {
     "data": {
      "application/vnd.jupyter.widget-view+json": {
       "model_id": "2b6f90f56438426290abf17ab5bd42a3",
       "version_major": 2,
       "version_minor": 0
      },
      "text/plain": [
       "Canvas(toolbar=Toolbar(toolitems=[('Home', 'Reset original view', 'home', 'home'), ('Back', 'Back to previous …"
      ]
     },
     "metadata": {},
     "output_type": "display_data"
    }
   ],
   "source": [
    "# Shrink operators.tri_station so that there are no vertical displacments and no tensile slip\n",
    "tde_matrix = copy.deepcopy(operators.tri_station)\n",
    "tde_matrix = np.delete(tde_matrix, np.arange(2, tde_matrix.shape[0], 3), axis=0)\n",
    "tde_matrix = np.delete(tde_matrix, np.arange(2, tde_matrix.shape[1], 3), axis=1)\n",
    "\n",
    "# Slip estimation with direct inverse and smoothing matrix\n",
    "smoothing_matrix = 1e2 * meshes[0].smoothing_matrix.toarray()\n",
    "smoothing_matrix = np.delete(smoothing_matrix, np.arange(2, smoothing_matrix.shape[0], 3), axis=0)\n",
    "smoothing_matrix = np.delete(smoothing_matrix, np.arange(2, smoothing_matrix.shape[1], 3), axis=1)\n",
    "smoothing_matrix = meshes[0].smoothing_weight * smoothing_matrix # Weight smoothing matrix\n",
    "tde_and_smoothing_matrix = np.vstack((tde_matrix, smoothing_matrix))\n",
    "\n",
    "print(tde_matrix.shape)\n",
    "print(smoothing_matrix.shape)\n",
    "print(tde_and_smoothing_matrix.shape)"
   ]
  },
  {
   "cell_type": "markdown",
   "metadata": {},
   "source": [
    "# Sketching out the assembly of the block model system\n",
    "The list here is in as of right now (09/19/21)...a work in progress\n",
    "\n",
    "## The observation vector:    \n",
    "| What | Symbolically | Variable name |\n",
    "| - | - | - |\n",
    "| GPS velocities | $\\mathbf{v}$ | ```assembly.data.east_vel, assembly.data.north_vel``` |\n",
    "| Slip rate constraints | $\\dot{\\mathbf{s}}$ | ```assembly.slip_rate_constraints``` |\n",
    "| Rotation vector constraints | $\\boldsymbol{\\omega}$ | ```assembly.block_constraints``` |\n",
    "\n",
    "## The state vector:    \n",
    "| What | Symbolically | Variable name |\n",
    "| - | - | - |\n",
    "| Block rotation rates | $\\boldsymbol{\\Omega}$ | ```estimation.block_rotation_vectors``` |\n",
    "| TDE slip | $\\mathbf{t}$ | ```estimation.tri_slip_rates``` |\n",
    "  \n",
    "## Matrix operators:    \n",
    "| What | Symbolically | Variable name |\n",
    "| - | - | - |\n",
    "| Rotation vector to GPS | $\\boldsymbol{\\Omega} \\rightarrow \\mathbf{v}$ | ```operators.block_rotation``` | \n",
    "| Rotation vector to GPS | $\\boldsymbol{\\Omega} \\rightarrow \\mathbf{v}$ | ```operators.global_float_block_rotation``` | \n",
    "| Rotation vector to segment slip rates| $\\boldsymbol{\\Omega} \\rightarrow \\dot{\\mathbf{s}}$ | ```operators.slip_rate_segment_block``` | \n",
    "| Segment slip rates to elastic deformation | $\\dot{\\mathbf{s}} \\rightarrow \\mathbf{v}$ | ```operators.okada_segment_station``` | \n",
    "| TDE slip to GPS | $\\mathbf{t} \\rightarrow \\mathbf{v}$ | ```operators.tri_station``` |\n",
    "| Rotation vector to slip rate constraints| $\\boldsymbol{\\Omega} \\rightarrow \\dot{\\mathbf{s}}$ | ```operators.slip_rate_constraints``` |\n",
    "| Rotation vector to Euler pole contraints | $\\mathbf{I}$ | ```operators.block_motion_contraints``` |\n",
    "\n"
   ]
  },
  {
   "cell_type": "markdown",
   "metadata": {},
   "source": [
    "# Inversion with block motion only and no elastic deformation\n",
    "-  Runs and solution looks reasonable"
   ]
  },
  {
   "cell_type": "code",
   "execution_count": 7,
   "metadata": {},
   "outputs": [
    {
     "data": {
      "application/vnd.jupyter.widget-view+json": {
       "model_id": "a95893e674434ac3ad0a81a6ac25642e",
       "version_major": 2,
       "version_minor": 0
      },
      "text/plain": [
       "Canvas(toolbar=Toolbar(toolitems=[('Home', 'Reset original view', 'home', 'home'), ('Back', 'Back to previous …"
      ]
     },
     "metadata": {},
     "output_type": "display_data"
    },
    {
     "name": "stdout",
     "output_type": "stream",
     "text": [
      "12.59569094598103\n"
     ]
    }
   ],
   "source": [
    "# Rotations only - with JDF a priori and no global float\n",
    "data_vector = np.zeros(2 * assembly.data.n_stations\n",
    "                     + 3 * assembly.data.n_block_constraints)\n",
    "data_vector[0:2 * assembly.data.n_stations] = celeri.interleave2(assembly.data.east_vel, assembly.data.north_vel)\n",
    "\n",
    "# Add block motion costraints to data vector\n",
    "data_vector[2 * assembly.data.n_stations:2 * assembly.data.n_stations + 3 * assembly.data.n_block_constraints] = assembly.data.block_constraints\n",
    "data_vector[2 * assembly.data.n_stations:2 * assembly.data.n_stations + 3 * assembly.data.n_block_constraints] = 0\n",
    "operator = np.zeros((2 * assembly.data.n_stations + 3 * assembly.data.n_block_constraints, 3 * len(block)))\n",
    "operator[0:2 * assembly.data.n_stations, :] = np.delete(operators.block_rotation, np.arange(2, operators.block_rotation.shape[0], 3), axis=0) # Delete up velocity partials\n",
    "operator[2 * assembly.data.n_stations:2 * assembly.data.n_stations + 3 * assembly.data.n_block_constraints, :]  = operators.block_motion_constraints\n",
    "\n",
    "estimation = addict.Dict()\n",
    "state_vector = np.linalg.inv(operator.T @ operator) @ operator.T @ data_vector \n",
    "estimation.predictions = operator @ state_vector\n",
    "vel = estimation.predictions[0:2 * assembly.data.n_stations]\n",
    "estimation.east_vel = vel[0::2]\n",
    "estimation.north_vel = vel[1::2]\n",
    "east_vel_rotation_only = vel[0::2]\n",
    "north_vel_rotation_only = vel[1::2]\n",
    "\n",
    "# Plot observed and estimated velocities\n",
    "lon_min=235\n",
    "lon_max=255\n",
    "lat_min=30\n",
    "lat_max=50\n",
    "quiver_scale=1e2\n",
    "plt.figure()\n",
    "for i in range(len(segment)):\n",
    "    plt.plot([segment.lon1[i], segment.lon2[i]], [segment.lat1[i], segment.lat2[i]], \"-k\", linewidth=0.5)\n",
    "plt.quiver(station.lon, station.lat, station.east_vel, station.north_vel, scale=quiver_scale, scale_units=\"inches\", color=\"g\")\n",
    "plt.quiver(station.lon, station.lat, estimation.east_vel, estimation.north_vel, scale=quiver_scale, scale_units=\"inches\", color=\"r\")\n",
    "plt.xlim([lon_min, lon_max])\n",
    "plt.ylim([lat_min, lat_max])\n",
    "plt.gca().set_aspect(\"equal\", adjustable=\"box\")\n",
    "plt.title(\"observed and estimated velocities - block rotations only\")\n",
    "plt.show()\n",
    "\n",
    "# Calculate mean squared residual velocity\n",
    "east_vel_residual = estimation.east_vel - station.east_vel\n",
    "north_vel_residual = estimation.north_vel - station.north_vel\n",
    "residual = np.concatenate((east_vel_residual, north_vel_residual))\n",
    "print(np.sum(residual**2) / len(station))"
   ]
  },
  {
   "cell_type": "markdown",
   "metadata": {},
   "source": [
    "# Inversion with block rotations and fully locked rectangular segments\n",
    "- Runs and looks reasonable"
   ]
  },
  {
   "cell_type": "code",
   "execution_count": 8,
   "metadata": {},
   "outputs": [
    {
     "data": {
      "application/vnd.jupyter.widget-view+json": {
       "model_id": "a9dbb65cd44f413284d8b82f7007b7c2",
       "version_major": 2,
       "version_minor": 0
      },
      "text/plain": [
       "Canvas(toolbar=Toolbar(toolitems=[('Home', 'Reset original view', 'home', 'home'), ('Back', 'Back to previous …"
      ]
     },
     "metadata": {},
     "output_type": "display_data"
    },
    {
     "name": "stdout",
     "output_type": "stream",
     "text": [
      "7.396845959994106\n"
     ]
    }
   ],
   "source": [
    "# Elastic slip deficit contribution to velocities with fully locked fault segments\n",
    "slip_rate_to_okada_to_velocities = copy.deepcopy(operators.okada_segment_station)\n",
    "rotation_to_slip_rate = copy.deepcopy(operators.slip_rate_segment_block)\n",
    "\n",
    "# Delete rows associated with vertical velocities\n",
    "slip_rate_to_okada_to_velocities = np.delete(slip_rate_to_okada_to_velocities, np.arange(2, slip_rate_to_okada_to_velocities.shape[0], 3), axis=0)\n",
    "\n",
    "rotation_to_slip_rate_to_okada_to_velocities = slip_rate_to_okada_to_velocities @ rotation_to_slip_rate\n",
    "operator = np.zeros((2 * assembly.data.n_stations + 3 * assembly.data.n_block_constraints, 3 * len(block)))\n",
    "operator[0:2 * assembly.data.n_stations, :] = np.delete(operators.block_rotation, np.arange(2, operators.block_rotation.shape[0], 3), axis=0) - rotation_to_slip_rate_to_okada_to_velocities # Delete up velocity partials\n",
    "operator[2 * assembly.data.n_stations:2 * assembly.data.n_stations + 3 * assembly.data.n_block_constraints, :] = operators.block_motion_constraints\n",
    "\n",
    "estimation2 = addict.Dict()\n",
    "state_vector2 = np.linalg.inv(operator.T @ operator) @ operator.T @ data_vector \n",
    "estimation2.predictions = operator @ state_vector2\n",
    "vel = estimation2.predictions[0:2 * assembly.data.n_stations]\n",
    "estimation2.east_vel = vel[0::2]\n",
    "estimation2.north_vel = vel[1::2]\n",
    "\n",
    "# Plot observed and estimated velocities\n",
    "lon_min=235\n",
    "lon_max=255\n",
    "lat_min=30\n",
    "lat_max=50\n",
    "quiver_scale=1e2\n",
    "plt.figure()\n",
    "for i in range(len(segment)):\n",
    "    plt.plot([segment.lon1[i], segment.lon2[i]], [segment.lat1[i], segment.lat2[i]], \"-k\", linewidth=0.5)\n",
    "plt.quiver(station.lon, station.lat, station.east_vel, station.north_vel, scale=quiver_scale, scale_units=\"inches\", color=\"g\")\n",
    "plt.quiver(station.lon, station.lat, estimation.east_vel, estimation.north_vel, scale=quiver_scale, scale_units=\"inches\", color=\"r\")\n",
    "plt.xlim([lon_min, lon_max])\n",
    "plt.ylim([lat_min, lat_max])\n",
    "plt.gca().set_aspect(\"equal\", adjustable=\"box\")\n",
    "plt.title(\"observed and estimated velocities - block rotations and elastic segments\")\n",
    "plt.show()\n",
    "\n",
    "# Calculate mean squared residual velocity\n",
    "east_vel_residual = estimation2.east_vel - station.east_vel\n",
    "north_vel_residual = estimation2.north_vel - station.north_vel\n",
    "residual = np.concatenate((east_vel_residual, north_vel_residual))\n",
    "print(np.sum(residual**2) / len(station))\n"
   ]
  },
  {
   "cell_type": "markdown",
   "metadata": {},
   "source": [
    "# Plot elastic velocities only"
   ]
  },
  {
   "cell_type": "code",
   "execution_count": 9,
   "metadata": {},
   "outputs": [
    {
     "data": {
      "application/vnd.jupyter.widget-view+json": {
       "model_id": "c964e45582fa4bb4a3a115c7c9696581",
       "version_major": 2,
       "version_minor": 0
      },
      "text/plain": [
       "Canvas(toolbar=Toolbar(toolitems=[('Home', 'Reset original view', 'home', 'home'), ('Back', 'Back to previous …"
      ]
     },
     "metadata": {},
     "output_type": "display_data"
    }
   ],
   "source": [
    "# Calculate elastic velocities\n",
    "elastic_velocities = rotation_to_slip_rate_to_okada_to_velocities @ state_vector\n",
    "\n",
    "# Plot elastic velocities\n",
    "lon_min=235\n",
    "lon_max=255\n",
    "lat_min=30\n",
    "lat_max=50\n",
    "quiver_scale=1e2\n",
    "plt.figure()\n",
    "for i in range(len(segment)):\n",
    "    plt.plot([segment.lon1[i], segment.lon2[i]], [segment.lat1[i], segment.lat2[i]], \"-k\", linewidth=0.5)\n",
    "plt.quiver(station.lon, station.lat, elastic_velocities[0::2], elastic_velocities[1::2], scale=quiver_scale, scale_units=\"inches\", color=\"r\")\n",
    "plt.xlim([lon_min, lon_max])\n",
    "plt.ylim([lat_min, lat_max])\n",
    "plt.gca().set_aspect(\"equal\", adjustable=\"box\")\n",
    "plt.title(\"elastic velocity only -- Looks pretty good!!!\")\n",
    "plt.show()"
   ]
  },
  {
   "cell_type": "markdown",
   "metadata": {},
   "source": [
    "# Block model with block rotations, fully locked segments and partially locked subduction zone using the full tde_matrix and smoothing matrix"
   ]
  },
  {
   "cell_type": "code",
   "execution_count": 10,
   "metadata": {},
   "outputs": [
    {
     "name": "stdout",
     "output_type": "stream",
     "text": [
      "data_vector :(7057,)\n",
      "operators.block_motion_constraints.shape :(3, 93)\n",
      "rotation_to_velocities.shape :(3372, 93)\n",
      "rotation_to_slip_rate_to_okada_to_velocities.shape :(3372, 93)\n",
      "tde_matrix.shape: (3372, 3682)\n",
      "smoothing_matrix.shape(3682, 3682)\n",
      "tde_and_smoothing_matrix.shape(7054, 3682)\n",
      "n_tde: 1841\n",
      "operator.shape: (7057, 3775)\n",
      "Finished printing\n",
      "(7057, 3775)\n",
      "7054\n",
      "3775\n",
      "(7054, 3682)\n",
      "(7054, 3682)\n",
      "3.7155464167624905\n"
     ]
    }
   ],
   "source": [
    "n_tde = int(tde_matrix.shape[1] / 2)\n",
    "n_stations = assembly.data.n_stations\n",
    "n_blocks = len(block)\n",
    "n_block_constraints = assembly.data.n_block_constraints\n",
    "\n",
    "idx = addict.Dict()\n",
    "idx.start_station_row = 0\n",
    "idx.end_station_row = 2 * len(station)\n",
    "idx.start_block_col = 0\n",
    "idx.end_block_col = len(block)\n",
    "idx.start_tde_col = idx.end_block_col\n",
    "idx.end_tde_col = idx.start_tde_col + n_tde\n",
    "\n",
    "\n",
    "# Build data vector\n",
    "data_vector = np.zeros(2 * n_stations\n",
    "                     + 2 * n_tde\n",
    "                     + 3 * n_block_constraints)\n",
    "data_vector[0:2 * n_stations] = celeri.interleave2(assembly.data.east_vel, assembly.data.north_vel)\n",
    "\n",
    "# Add block motion costraints to data vector\n",
    "data_vector[2 * n_stations + 2 * n_tde:2 * n_stations + 2 * n_tde + 3 * n_block_constraints] = assembly.data.block_constraints # Not sure if units are correct\n",
    "\n",
    "# Elastic slip deficit contribution to velocities with fully locked fault segments\n",
    "slip_rate_to_okada_to_velocities = copy.deepcopy(operators.okada_segment_station)\n",
    "rotation_to_slip_rate = copy.deepcopy(operators.slip_rate_segment_block)\n",
    "\n",
    "# Delete rows associated with vertical velocities\n",
    "slip_rate_to_okada_to_velocities = np.delete(slip_rate_to_okada_to_velocities, np.arange(2, slip_rate_to_okada_to_velocities.shape[0], 3), axis=0)\n",
    "rotation_to_slip_rate_to_okada_to_velocities = slip_rate_to_okada_to_velocities @ rotation_to_slip_rate\n",
    "rotation_to_velocities = np.delete(operators.block_rotation, np.arange(2, operators.block_rotation.shape[0], 3), axis=0)\n",
    "\n",
    "# Print sizes of matrices that we'll use to build operator\n",
    "print(\"data_vector :\" + str(data_vector.shape))\n",
    "print(\"operators.block_motion_constraints.shape :\" + str(operators.block_motion_constraints.shape))\n",
    "print(\"rotation_to_velocities.shape :\" + str(rotation_to_velocities.shape))\n",
    "print(\"rotation_to_slip_rate_to_okada_to_velocities.shape :\" + str(rotation_to_slip_rate_to_okada_to_velocities.shape))\n",
    "print(\"tde_matrix.shape: \" + str(tde_matrix.shape))\n",
    "print(\"smoothing_matrix.shape\" + str(smoothing_matrix.shape))\n",
    "print(\"tde_and_smoothing_matrix.shape\" + str(tde_and_smoothing_matrix.shape))\n",
    "print(\"n_tde: \" + str(n_tde))\n",
    "\n",
    "\n",
    "# Build linear operator\n",
    "operator = np.zeros((2 * assembly.data.n_stations # start rows\n",
    "                     + 2 * n_tde\n",
    "                     + 3 * assembly.data.n_block_constraints,\n",
    "                       3 * len(block) # start columns\n",
    "                     + 2 * n_tde))\n",
    "print(\"operator.shape: \" + str(operator.shape))\n",
    "print(\"Finished printing\")\n",
    "\n",
    "# Insert block rotation and fully coupled segments\n",
    "operator[0:2 * n_stations, 0:3 * n_blocks] = rotation_to_velocities - rotation_to_slip_rate_to_okada_to_velocities\n",
    "\n",
    "# Insert block motion constraints\n",
    "operator[2 * n_stations + 2 * n_tde:2 * n_stations + 2 * n_tde + 3 * n_block_constraints, 0:3 * n_blocks] = operators.block_motion_constraints\n",
    "\n",
    "# Insert tdes and smoothing matrix\n",
    "print(operator.shape)\n",
    "print(2 * n_stations + 2 * n_tde)\n",
    "print(3 * n_blocks + 2 * n_tde)\n",
    "print(operator[0:2 * n_stations + 2 * n_tde, 3 * n_blocks : 3 * n_blocks + 2 * n_tde].shape)\n",
    "print(tde_and_smoothing_matrix.shape)\n",
    "\n",
    "operator[0:2 * n_stations + 2 * n_tde, 3 * n_blocks : 3 * n_blocks + 2 * n_tde] = tde_and_smoothing_matrix\n",
    "\n",
    "estimation3 = addict.Dict()\n",
    "state_vector3 = np.linalg.inv(operator.T @ operator) @ operator.T @ data_vector \n",
    "estimation3.predictions = operator @ state_vector3\n",
    "vel = estimation3.predictions[0:2 * n_stations]\n",
    "estimation3.east_vel = vel[0::2]\n",
    "estimation3.north_vel = vel[1::2]\n",
    "\n",
    "# Calculate mean squared residual velocity\n",
    "east_vel_residual = estimation3.east_vel - station.east_vel\n",
    "north_vel_residual = estimation3.north_vel - station.north_vel\n",
    "residual = np.concatenate((east_vel_residual, north_vel_residual))\n",
    "print(np.sum(residual**2) / len(station))"
   ]
  },
  {
   "cell_type": "markdown",
   "metadata": {},
   "source": [
    "# Plot observed and estimated velocities with block rotations, fully locked segments, and TDEs "
   ]
  },
  {
   "cell_type": "code",
   "execution_count": 14,
   "metadata": {},
   "outputs": [
    {
     "data": {
      "application/vnd.jupyter.widget-view+json": {
       "model_id": "6a93c114ff5048f1af223d1b39a7cdd1",
       "version_major": 2,
       "version_minor": 0
      },
      "text/plain": [
       "Canvas(toolbar=Toolbar(toolitems=[('Home', 'Reset original view', 'home', 'home'), ('Back', 'Back to previous …"
      ]
     },
     "metadata": {},
     "output_type": "display_data"
    }
   ],
   "source": [
    "# Extract TDE slip rates from state vector\n",
    "tde_rates = state_vector3[3 * n_blocks : 3 * n_blocks + 2 * n_tde]\n",
    "tde_strike_slip_rates = tde_rates[0::2]\n",
    "tde_dip_slip_rates = tde_rates[1::2]\n",
    "\n",
    "# Plot observed and estimated velocities\n",
    "lon_min=230\n",
    "lon_max=250\n",
    "lat_min=30\n",
    "lat_max=52\n",
    "quiver_scale=1e2\n",
    "plt.figure()\n",
    "for i in range(len(segment)):\n",
    "    plt.plot([segment.lon1[i], segment.lon2[i]], [segment.lat1[i], segment.lat2[i]], \"-k\", linewidth=0.5)\n",
    "\n",
    "plt.scatter(meshes[0].centroids[:, 0], meshes[0].centroids[:, 1], s=5, c=tde_dip_slip_rates, alpha=0.5)\n",
    "plt.colorbar()\n",
    "plt.quiver(station.lon, station.lat, station.east_vel, station.north_vel, scale=quiver_scale, scale_units=\"inches\", color=\"g\")\n",
    "plt.quiver(station.lon, station.lat, estimation3.east_vel, estimation3.north_vel, scale=quiver_scale, scale_units=\"inches\", color=\"r\")\n",
    "plt.xlim([lon_min, lon_max])\n",
    "plt.ylim([lat_min, lat_max])\n",
    "plt.gca().set_aspect(\"equal\", adjustable=\"box\")\n",
    "plt.title(\"block rotations + elastic segments + TDEs\")\n",
    "plt.show()\n"
   ]
  },
  {
   "cell_type": "code",
   "execution_count": 17,
   "metadata": {},
   "outputs": [
    {
     "data": {
      "application/vnd.jupyter.widget-view+json": {
       "model_id": "1ff85f36ce79418898e9d9c710ca03cf",
       "version_major": 2,
       "version_minor": 0
      },
      "text/plain": [
       "Canvas(toolbar=Toolbar(toolitems=[('Home', 'Reset original view', 'home', 'home'), ('Back', 'Back to previous …"
      ]
     },
     "metadata": {},
     "output_type": "display_data"
    }
   ],
   "source": [
    "# Compare residuals\n",
    "east_vel_residual = estimation.east_vel - station.east_vel\n",
    "north_vel_residual = estimation.north_vel - station.north_vel\n",
    "residual = np.concatenate((east_vel_residual, north_vel_residual))\n",
    "\n",
    "east_vel_residual2 = estimation2.east_vel - station.east_vel\n",
    "north_vel_residual2 = estimation2.north_vel - station.north_vel\n",
    "residual2 = np.concatenate((east_vel_residual2, north_vel_residual2))\n",
    "\n",
    "east_vel_residual3 = estimation3.east_vel - station.east_vel\n",
    "north_vel_residual3 = estimation3.north_vel - station.north_vel\n",
    "residual3 = np.concatenate((east_vel_residual3, north_vel_residual3))\n",
    "\n",
    "mean_squared_residual1 = np.sum(residual**2) / len(station)\n",
    "mean_squared_residual2 = np.sum(residual2**2) / len(station)\n",
    "mean_squared_residual3 = np.sum(residual3**2) / len(station)\n",
    "\n",
    "n_bins = 100\n",
    "plt.figure()\n",
    "n, bins, _ = plt.hist(residual, bins=np.linspace(-10, 10, n_bins), density=False, histtype='step', label=f\"block rotations : {mean_squared_residual1:.2f}\")\n",
    "n, bins, _ = plt.hist(residual2, bins=np.linspace(-10, 10, n_bins), density=False, histtype='step', label=f\"block rotations + elastic segments : {mean_squared_residual2:.2f}\")\n",
    "n, bins, _ = plt.hist(residual3, bins=np.linspace(-10, 10, n_bins), density=False, histtype='step', label=f\"block rotations + elastic segments + tdes : {mean_squared_residual3:.2f}\")\n",
    "plt.legend()\n",
    "plt.xlabel(\"residual (mm/yr)\")\n",
    "plt.ylabel(\"N\")\n",
    "plt.xlim(-10, 10)\n",
    "plt.show()"
   ]
  },
  {
   "cell_type": "code",
   "execution_count": null,
   "metadata": {},
   "outputs": [],
   "source": []
  }
 ],
 "metadata": {
  "interpreter": {
   "hash": "1c99b817e7692020a25f5bce5fd58f988aabefee874a9cd895a1468d49750c9a"
  },
  "kernelspec": {
   "display_name": "Python 3.9.6 64-bit ('celeri': conda)",
   "name": "python3"
  },
  "language_info": {
   "codemirror_mode": {
    "name": "ipython",
    "version": 3
   },
   "file_extension": ".py",
   "mimetype": "text/x-python",
   "name": "python",
   "nbconvert_exporter": "python",
   "pygments_lexer": "ipython3",
   "version": "3.9.6"
  },
  "widgets": {
   "application/vnd.jupyter.widget-state+json": {
    "state": {
     "4d250c5d35aa493295ca814fb3eaa1ee": {
      "model_module": "@jupyter-widgets/base",
      "model_module_version": "1.2.0",
      "model_name": "LayoutModel",
      "state": {}
     },
     "6faf75ca5f3b41388f284e98ec2cf803": {
      "model_module": "jupyter-matplotlib",
      "model_module_version": "^0.9.0",
      "model_name": "ToolbarModel",
      "state": {
       "layout": "IPY_MODEL_9b061db2dc65459ca586b9b9f73c2362",
       "toolitems": [
        [
         "Home",
         "Reset original view",
         "home",
         "home"
        ],
        [
         "Back",
         "Back to previous view",
         "arrow-left",
         "back"
        ],
        [
         "Forward",
         "Forward to next view",
         "arrow-right",
         "forward"
        ],
        [
         "Pan",
         "Left button pans, Right button zooms\nx/y fixes axis, CTRL fixes aspect",
         "arrows",
         "pan"
        ],
        [
         "Zoom",
         "Zoom to rectangle\nx/y fixes axis, CTRL fixes aspect",
         "square-o",
         "zoom"
        ],
        [
         "Download",
         "Download plot",
         "floppy-o",
         "save_figure"
        ]
       ]
      }
     },
     "9b061db2dc65459ca586b9b9f73c2362": {
      "model_module": "@jupyter-widgets/base",
      "model_module_version": "1.2.0",
      "model_name": "LayoutModel",
      "state": {}
     },
     "c25a38234e8f4e818670d9767f95a430": {
      "model_module": "jupyter-matplotlib",
      "model_module_version": "^0.9.0",
      "model_name": "MPLCanvasModel",
      "state": {
       "_cursor": "default",
       "_figure_label": "Figure 1",
       "_height": 708,
       "_width": 1746,
       "layout": "IPY_MODEL_4d250c5d35aa493295ca814fb3eaa1ee",
       "toolbar": "IPY_MODEL_6faf75ca5f3b41388f284e98ec2cf803",
       "toolbar_position": "left"
      }
     }
    },
    "version_major": 2,
    "version_minor": 0
   }
  }
 },
 "nbformat": 4,
 "nbformat_minor": 4
}
