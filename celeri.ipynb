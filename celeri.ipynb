{
 "cells": [
  {
   "cell_type": "code",
   "execution_count": 1,
   "source": [
    "%matplotlib widget\n",
    "%config InlineBackend.figure_format = 'svg'"
   ],
   "outputs": [],
   "metadata": {
    "execution": {
     "iopub.execute_input": "2021-08-22T18:29:50.539195Z",
     "iopub.status.busy": "2021-08-22T18:29:50.538938Z",
     "iopub.status.idle": "2021-08-22T18:29:50.550334Z",
     "shell.execute_reply": "2021-08-22T18:29:50.549700Z",
     "shell.execute_reply.started": "2021-08-22T18:29:50.539169Z"
    },
    "tags": []
   }
  },
  {
   "cell_type": "code",
   "execution_count": 17,
   "source": [
    "import addict\n",
    "import numpy as np\n",
    "import pandas as pd\n",
    "import matplotlib.pyplot as plt\n",
    "from importlib import reload\n",
    "from tqdm.notebook import tqdm\n",
    "\n",
    "import celeri\n",
    "celeri = reload(celeri)\n",
    "\n",
    "# Plotting the global model is much much faster with tex fonts turned off\n",
    "plt.rcParams['text.usetex'] = False"
   ],
   "outputs": [],
   "metadata": {
    "execution": {
     "iopub.execute_input": "2021-08-22T18:29:51.661926Z",
     "iopub.status.busy": "2021-08-22T18:29:51.661659Z",
     "iopub.status.idle": "2021-08-22T18:29:51.956035Z",
     "shell.execute_reply": "2021-08-22T18:29:51.955292Z",
     "shell.execute_reply.started": "2021-08-22T18:29:51.661900Z"
    },
    "tags": []
   }
  },
  {
   "cell_type": "code",
   "execution_count": 15,
   "source": [
    "command_file_name = \"./data/western_north_america/basic_command.json\"\n",
    "command, segment, block, meshes, station, mogi, sar = celeri.read_data(command_file_name)\n",
    "station = celeri.process_station(station, command)\n",
    "segment = celeri.process_segment(segment, command, meshes)\n",
    "sar = celeri.process_sar(sar, command)\n",
    "closure, block = celeri.assign_block_labels(segment, station, block, mogi, sar)\n",
    "# celeri.plot_block_labels(segment, block, station, closure)"
   ],
   "outputs": [
    {
     "output_type": "stream",
     "name": "stderr",
     "text": [
      "WARNING:root:The file contains tag data that couldn't be processed.\n"
     ]
    }
   ],
   "metadata": {
    "execution": {
     "iopub.execute_input": "2021-08-22T18:29:53.570589Z",
     "iopub.status.busy": "2021-08-22T18:29:53.570331Z",
     "iopub.status.idle": "2021-08-22T18:30:09.817977Z",
     "shell.execute_reply": "2021-08-22T18:30:09.817443Z",
     "shell.execute_reply.started": "2021-08-22T18:29:53.570561Z"
    },
    "tags": []
   }
  },
  {
   "cell_type": "code",
   "execution_count": 4,
   "source": [
    "assembly = addict.Dict()\n",
    "operators = addict.Dict()\n",
    "assembly = celeri.merge_geodetic_data(assembly, station, sar)\n",
    "assembly, operators.block_motion_constraints = celeri.block_constraints(assembly, block, command)\n",
    "assembly, operators.slip_rate_constraints = celeri.slip_rate_constraints(assembly, segment, block, command)\n",
    "operators.okada_segment_station = celeri.get_segment_station_operator_okada(segment, station, command)\n",
    "operators.slip_rate_segment_block = celeri.get_fault_slip_rate_partials(segment, block)\n",
    "assembly.index.sz_elastic = operators.okada_segment_station.shape # Not sure this is correct\n",
    "assembly.index.sz_slip = operators.slip_rate_segment_block.shape # Not sure this is correct\n",
    "operators.block_rotation = celeri.get_block_rotation_operator(station, block)\n",
    "assembly.index.sz_rotation = operators.block_rotation.shape # Not sure this is correct\n",
    "assembly = celeri.station_row_keep(assembly) # Not sure this is correct\n"
   ],
   "outputs": [
    {
     "output_type": "display_data",
     "data": {
      "text/plain": [
       "Calculating Okada partials for segments:   0%|          | 0/837 [00:00<?, ?it/s]"
      ],
      "application/vnd.jupyter.widget-view+json": {
       "version_major": 2,
       "version_minor": 0,
       "model_id": "6dab3e119e224ac3926d23965fc6e90f"
      }
     },
     "metadata": {}
    }
   ],
   "metadata": {
    "tags": []
   }
  },
  {
   "cell_type": "code",
   "execution_count": 5,
   "source": [
    "# celeri.plot_segment_displacements(segment, station, command, segment_idx=0, strike_slip=1, dip_slip=0, tensile_slip=0, lon_min=235, lon_max=255, lat_min=30, lat_max=50, quiver_scale=1e-1)"
   ],
   "outputs": [],
   "metadata": {}
  },
  {
   "cell_type": "code",
   "execution_count": 25,
   "source": [
    "model = addict.Dict()\n",
    "\n",
    "# function [strain, Index, Model] def get_strain_operator(block, station, segment, command, assembly)\n",
    "\"\"\"\n",
    "Wrapper function for calculating strain partial derivatives.\n",
    "\"\"\"\n",
    "\n",
    "strain = np.empty(len(station))\n",
    "assembly.index.strain_block = np.empty(0)\n",
    "model.lon_strain = np.zeros(len(block))\n",
    "model.lat_strain = np.zeros(len(block))\n",
    "\n",
    "if any(block.strain_rate_flag): # If any blocks have strain turned on\n",
    "    pass\n",
    "    if command.strain_method == 1:\n",
    "        pass\n",
    "#          [strain, Index.strainBlock,...\n",
    "#           Model.lonStrain, Model.latStrain]   = GetStrainCentroidPartials(Block, Station, Segment);\n",
    "#    if command.strain_method == 2: # Solve for the reference coordinates\n",
    "#          [strain, Index.strainBlock]          = GetStrain56Partials(Block, Station, Segment);\n",
    "#    if command.strain_method == 3: # Solve for the reference latitude only\n",
    "#          [strain, Index.strainBlock]          = GetStrain34Partials(Block, Station, Segment);\n",
    "#    if command.strain_method == 4: # Use the simulated annealing approach to solve for reference coordinates inside the block boundaries\n",
    "#          [strain, Index.strainBlock]          = GetStrainSearchPartials(Block, Station, Segment);\n",
    "#    end      \n",
    "\n",
    "def get_strain_rate_centroid_operator(block, station, segment):\n",
    "    \"\"\"\n",
    "    Calculate strain partial derivatives assuming a strain centroid at the center of each block\n",
    "    \"\"\"\n",
    "    n_stations = len(station)\n",
    "    n_blocks = len(block)\n",
    "    G = np.zeros((3 * n_stations, 3 * n_blocks))  # TODO: Redo so that it's only for the blocks with internal strain\n",
    "    earth_radius_mm = celeri.RADIUS_EARTH * celeri.M2MM # radius of Earth in mm\n",
    "\n",
    "    # Convert station positions into radians and co-latitude\n",
    "    station_lon = np.deg2rad(station.lon)\n",
    "    station_lat = station.lat.to_numpy()\n",
    "    station_lat[np.where(station_lat >= 0)[0]] = 90.0 - station_lat[np.where(station_lat >= 0)[0]]\n",
    "    station_lat[np.where(station_lat < 0)[0]] = -90.0 - station_lat[np.where(station.lat < 0)[0]]\n",
    "    station_lat = np.deg2rad(station_lat)\n",
    "\n",
    "    # Create array containing column index limits of the design matrix\n",
    "    first_column_idx = 3 * station.block_label\n",
    "    last_column_idx = 3 * station.block_label + 3\n",
    "    # block_centroid_lon = np.zeros(n_blocks)\n",
    "    # block_centroid_lat = np.zeros(n_blocks)\n",
    "\n",
    "    for i in range(len(station)):\n",
    "        if block.strain_rate_flag[station.block_label[i]] == 1: # what does this line mean????\n",
    "            # Partials with block centroid\n",
    "            # The block \"centroid\" is only an approximation given by the mean of its coordinates\n",
    "            # This should work reasonably well for the \"chopped\" case but is not exact or general\n",
    "            idx = np.union(np.where(segment.east_label == station.block_label[i])[0], np.where(segment.west_label == station.block_label[i])[0])\n",
    "            lon0  = np.mean(np.concatenate(segment.lon1[idx], segment.lon2[idx]))\n",
    "            lat0  = np.mean(np.concatenate(segment.lat1[idx], segment.lat2[idx]))\n",
    "            # block_centroid_lon[station.block_label[i]] = lon0\n",
    "            # block_centroid_lat[station.block_label[i]] = lat0\n",
    "            lon0 = np.deg2rad(lon0)\n",
    "            if lat0 >= 0:\n",
    "                lat0 = 90.0 - lat0\n",
    "            elif lat0 < 0:\n",
    "                lat0 = -90.0 - lat0\n",
    "            lat0 = np.deg2rad(lat0)\n",
    "            G[3 * i:3 * i + 3, first_column_idx[i]:last_column_idx[i]] = np.array([[earth_radius_mm * (station_lon[i] - lon0) * np.sin(lat0), earth_radius_mm * (station_lat[i] - lat0), 0], \n",
    "                       [0, earth_radius_mm * (station_lon[i] - lon0) * np.sin(lat0), earth_radius_mm * (station_lat[i] - lat0)],\n",
    "                       [0, 0, 0]])\n",
    "\n",
    "    # TODO: This should become command toggle or just throw a warning rather than doing it automatically\n",
    "    # Write a test here that checks the number of stations on each block that includes\n",
    "    # internal strain.  Send an error if any of those blocks have less the N_STATIONS_STRAIN_RATE_BLOCK stations on them\n",
    "    # Get rid of blocks that don't have enough stations on them\n",
    "    # for i = 1:size(G, 2)/3;\n",
    "    #    j                                        = 3*i-1;\n",
    "    #    numSta(i)                                = numel(find(G(:, j)));\n",
    "    # end\n",
    "    # toDelete                                    = [3*find(numSta<2*minSta)-2 3*find(numSta<2*minSta)-1 3*find(numSta<2*minSta)];\n",
    "    # strainBlockIdx                              = setdiff(1:1:nBlocks*3, toDelete);\n",
    "    # G(:,toDelete)                               = [];\n",
    "    # return G, strainBlockIdx, block, toDelete\n",
    "    strain_rate_block_idx = np.where(block.strain_rate_flag.to_numpy() > 0)[0]\n",
    "    return G, strain_rate_block_idx\n",
    "\n",
    "G, strain_rate_block_idx = get_strain_rate_centroid_operator(block, station, segment)\n",
    "print(strain_rate_block_idx)"
   ],
   "outputs": [
    {
     "output_type": "stream",
     "name": "stdout",
     "text": [
      "[]\n"
     ]
    }
   ],
   "metadata": {}
  },
  {
   "cell_type": "code",
   "execution_count": 23,
   "source": [
    "G.shape\n",
    "print(np.min(G), np.max(G))\n",
    "plt.figure()\n",
    "plt.imshow(G, aspect=\"auto\")\n",
    "plt.show()"
   ],
   "outputs": [
    {
     "output_type": "stream",
     "name": "stdout",
     "text": [
      "0.0 0.0\n"
     ]
    },
    {
     "output_type": "display_data",
     "data": {
      "text/plain": [
       "Canvas(toolbar=Toolbar(toolitems=[('Home', 'Reset original view', 'home', 'home'), ('Back', 'Back to previous …"
      ],
      "application/vnd.jupyter.widget-view+json": {
       "version_major": 2,
       "version_minor": 0,
       "model_id": "edfc5fda9b0343d49ca3ed5ea4426909"
      }
     },
     "metadata": {}
    }
   ],
   "metadata": {}
  },
  {
   "cell_type": "code",
   "execution_count": null,
   "source": [],
   "outputs": [],
   "metadata": {}
  }
 ],
 "metadata": {
  "interpreter": {
   "hash": "1c99b817e7692020a25f5bce5fd58f988aabefee874a9cd895a1468d49750c9a"
  },
  "kernelspec": {
   "name": "python3",
   "display_name": "Python 3.9.6 64-bit ('celeri': conda)"
  },
  "language_info": {
   "codemirror_mode": {
    "name": "ipython",
    "version": 3
   },
   "file_extension": ".py",
   "mimetype": "text/x-python",
   "name": "python",
   "nbconvert_exporter": "python",
   "pygments_lexer": "ipython3",
   "version": "3.9.6"
  },
  "widgets": {
   "application/vnd.jupyter.widget-state+json": {
    "state": {
     "4d250c5d35aa493295ca814fb3eaa1ee": {
      "model_module": "@jupyter-widgets/base",
      "model_module_version": "1.2.0",
      "model_name": "LayoutModel",
      "state": {}
     },
     "6faf75ca5f3b41388f284e98ec2cf803": {
      "model_module": "jupyter-matplotlib",
      "model_module_version": "^0.9.0",
      "model_name": "ToolbarModel",
      "state": {
       "layout": "IPY_MODEL_9b061db2dc65459ca586b9b9f73c2362",
       "toolitems": [
        [
         "Home",
         "Reset original view",
         "home",
         "home"
        ],
        [
         "Back",
         "Back to previous view",
         "arrow-left",
         "back"
        ],
        [
         "Forward",
         "Forward to next view",
         "arrow-right",
         "forward"
        ],
        [
         "Pan",
         "Left button pans, Right button zooms\nx/y fixes axis, CTRL fixes aspect",
         "arrows",
         "pan"
        ],
        [
         "Zoom",
         "Zoom to rectangle\nx/y fixes axis, CTRL fixes aspect",
         "square-o",
         "zoom"
        ],
        [
         "Download",
         "Download plot",
         "floppy-o",
         "save_figure"
        ]
       ]
      }
     },
     "9b061db2dc65459ca586b9b9f73c2362": {
      "model_module": "@jupyter-widgets/base",
      "model_module_version": "1.2.0",
      "model_name": "LayoutModel",
      "state": {}
     },
     "c25a38234e8f4e818670d9767f95a430": {
      "model_module": "jupyter-matplotlib",
      "model_module_version": "^0.9.0",
      "model_name": "MPLCanvasModel",
      "state": {
       "_cursor": "default",
       "_figure_label": "Figure 1",
       "_height": 708,
       "_width": 1746,
       "layout": "IPY_MODEL_4d250c5d35aa493295ca814fb3eaa1ee",
       "toolbar": "IPY_MODEL_6faf75ca5f3b41388f284e98ec2cf803",
       "toolbar_position": "left"
      }
     }
    },
    "version_major": 2,
    "version_minor": 0
   }
  }
 },
 "nbformat": 4,
 "nbformat_minor": 4
}