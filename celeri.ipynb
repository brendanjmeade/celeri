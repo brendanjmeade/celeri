{
 "cells": [
  {
   "cell_type": "code",
   "execution_count": 1,
   "source": [
    "%matplotlib widget\n",
    "%config InlineBackend.figure_format = 'svg'"
   ],
   "outputs": [],
   "metadata": {
    "execution": {
     "iopub.execute_input": "2021-08-22T18:29:50.539195Z",
     "iopub.status.busy": "2021-08-22T18:29:50.538938Z",
     "iopub.status.idle": "2021-08-22T18:29:50.550334Z",
     "shell.execute_reply": "2021-08-22T18:29:50.549700Z",
     "shell.execute_reply.started": "2021-08-22T18:29:50.539169Z"
    },
    "tags": []
   }
  },
  {
   "cell_type": "code",
   "execution_count": 2,
   "source": [
    "import addict\n",
    "import numpy as np\n",
    "import pandas as pd\n",
    "import matplotlib.pyplot as plt\n",
    "from importlib import reload\n",
    "from tqdm.notebook import tqdm\n",
    "\n",
    "import celeri\n",
    "celeri = reload(celeri)\n",
    "\n",
    "# Plotting the global model is much much faster with tex fonts turned off\n",
    "plt.rcParams['text.usetex'] = False"
   ],
   "outputs": [],
   "metadata": {
    "execution": {
     "iopub.execute_input": "2021-08-22T18:29:51.661926Z",
     "iopub.status.busy": "2021-08-22T18:29:51.661659Z",
     "iopub.status.idle": "2021-08-22T18:29:51.956035Z",
     "shell.execute_reply": "2021-08-22T18:29:51.955292Z",
     "shell.execute_reply.started": "2021-08-22T18:29:51.661900Z"
    },
    "tags": []
   }
  },
  {
   "cell_type": "code",
   "execution_count": 3,
   "source": [
    "command_file_name = './data/western_north_america/western_north_america_command.json'\n",
    "# command_file_name = './data/global/global_command.json'\n",
    "command, segment, block, meshes, station, mogi, sar = celeri.read_data(command_file_name)\n",
    "station = celeri.process_station(station, command)\n",
    "segment = celeri.process_segment(segment, command, meshes)\n",
    "sar = celeri.process_sar(sar, command)\n",
    "closure = celeri.assign_block_labels(segment, station, block, mogi, sar)\n",
    "# celeri.plot_block_labels(segment, block, station, closure)"
   ],
   "outputs": [],
   "metadata": {
    "execution": {
     "iopub.execute_input": "2021-08-22T18:29:53.570589Z",
     "iopub.status.busy": "2021-08-22T18:29:53.570331Z",
     "iopub.status.idle": "2021-08-22T18:30:09.817977Z",
     "shell.execute_reply": "2021-08-22T18:30:09.817443Z",
     "shell.execute_reply.started": "2021-08-22T18:29:53.570561Z"
    },
    "tags": []
   }
  },
  {
   "cell_type": "code",
   "execution_count": 4,
   "source": [
    "assembly = addict.Dict()\n",
    "operators = addict.Dict()\n",
    "assembly = celeri.merge_geodetic_data(assembly, station, sar)\n",
    "assembly, operators.block_motion_constraints = celeri.block_constraints(assembly, block, command)\n",
    "assembly, operators.slip_rate_constraints = celeri.slip_rate_constraints(assembly, segment, block, command)\n",
    "operators.okada_segment_station = celeri.get_segment_station_operator_okada(segment, station, command)"
   ],
   "outputs": [
    {
     "output_type": "display_data",
     "data": {
      "text/plain": [
       "Calculating Okada partials for segments:   0%|          | 0/837 [00:00<?, ?it/s]"
      ],
      "application/vnd.jupyter.widget-view+json": {
       "version_major": 2,
       "version_minor": 0,
       "model_id": "39caa862021c46829c065ee7eeacc92c"
      }
     },
     "metadata": {}
    }
   ],
   "metadata": {
    "tags": []
   }
  },
  {
   "cell_type": "code",
   "execution_count": 5,
   "source": [
    "celeri.plot_segment_displacements(segment, station, command, segment_idx=0, strike_slip=1, dip_slip=0, tensile_slip=0, lon_min=235, lon_max=255, lat_min=30, lat_max=50, quiver_scale=1e-1)"
   ],
   "outputs": [
    {
     "output_type": "display_data",
     "data": {
      "text/plain": [
       "Canvas(toolbar=Toolbar(toolitems=[('Home', 'Reset original view', 'home', 'home'), ('Back', 'Back to previous …"
      ],
      "application/vnd.jupyter.widget-view+json": {
       "version_major": 2,
       "version_minor": 0,
       "model_id": "922e40b9e3f94cd6ba71a36fda3b5f00"
      }
     },
     "metadata": {}
    }
   ],
   "metadata": {}
  },
  {
   "cell_type": "code",
   "execution_count": null,
   "source": [
    "# function [G] = GetSlipPartials(Segment, Block)\n",
    "# % Calculate slip partial derivatives\n",
    "# nSegments                                   = numel(Segment.lon1);\n",
    "# nBlocks                                     = numel(Block.eulerLon);\n",
    "# G                                           = zeros(3*nSegments, 3*nBlocks);\n",
    "# for iSegment = 1:nSegments\n",
    "#    % Projection from Cartesian to spherical coordinates at segment mid-points\n",
    "#    rowIdx                                   = (iSegment-1)*3+1;\n",
    "#    colIdxE                                  = (Segment.eastLabel(iSegment)-1)*3+1;\n",
    "#    colIdxW                                  = (Segment.westLabel(iSegment)-1)*3+1;\n",
    "#    R                                        = GetCrossPartials([Segment.midX(iSegment) Segment.midY(iSegment) Segment.midZ(iSegment)]);\n",
    "#    [vn_wx ve_wx vu_wx]                      = CartVecToSphVec(R(1,1), R(2,1), R(3,1), Segment.midLon(iSegment), Segment.midLat(iSegment));\n",
    "#    [vn_wy ve_wy vu_wy]                      = CartVecToSphVec(R(1,2), R(2,2), R(3,2), Segment.midLon(iSegment), Segment.midLat(iSegment));\n",
    "#    [vn_wz ve_wz vu_wz]                      = CartVecToSphVec(R(1,3), R(2,3), R(3,3), Segment.midLon(iSegment), Segment.midLat(iSegment));\n",
    "# %    R                                        = [ve_wx ve_wy ve_wz ; vn_wx vn_wy vn_wz ; vu_wx vu_wy vu_wz];\n",
    "   \n",
    "#    % Build unit vector for the fault\n",
    "#    % Projection on to fault strike\n",
    "#    faz                                      = azimuth(Segment.lat1(iSegment), Segment.lon1(iSegment), Segment.lat2(iSegment), Segment.lon2(iSegment));\n",
    "#    uxpar                                    = cos(deg_to_rad(90 - faz));\n",
    "#    uypar                                    = sin(deg_to_rad(90 - faz));\n",
    "#    uxper                                    = sin(deg_to_rad(faz - 90));\n",
    "#    uyper                                    = cos(deg_to_rad(faz - 90));\n",
    "#    % Projection onto fault dip\n",
    "#    if (Segment.lat2(iSegment) < Segment.lat1(iSegment))\n",
    "#       uxpar                                 = -uxpar;\n",
    "#       uypar                                 = -uypar;\n",
    "#       uxper                                 = -uxper;\n",
    "#       uyper                                 = -uyper;\n",
    "#    end\n",
    "\n",
    "#    if (Segment.dip(iSegment) ~= 90)\n",
    "#       sf                                    = 1/abs(cos(DegToRad(Segment.dip(iSegment))));\n",
    "#       R                                     = [uxpar*ve_wx+uypar*vn_wx uxpar*ve_wy+uypar*vn_wy uxpar*ve_wz+uypar*vn_wz;...\n",
    "#                                                sf*(uxper*ve_wx+uyper*vn_wx) sf*(uxper*ve_wy+uyper*vn_wy) sf*(uxper*ve_wz+uyper*vn_wz);...\n",
    "#                                                0 0 0];\n",
    "#    else\n",
    "#       sf                                    = -1;\n",
    "#       R                                     = [uxpar*ve_wx+uypar*vn_wx uxpar*ve_wy+uypar*vn_wy uxpar*ve_wz+uypar*vn_wz;...\n",
    "#                                                0 0 0;...\n",
    "#                                                sf*(uxper*ve_wx+uyper*vn_wx) sf*(uxper*ve_wy+uyper*vn_wy) sf*(uxper*ve_wz+uyper*vn_wz)];\n",
    "#    end\n",
    "#    G(rowIdx:rowIdx+2,colIdxE:colIdxE+2)     = R;\n",
    "#    G(rowIdx:rowIdx+2,colIdxW:colIdxW+2)     = -R;\n",
    "# %    G(rowIdx:rowIdx+2,colIdxE:colIdxE+2)     = -R;\n",
    "# %    G(rowIdx:rowIdx+2,colIdxW:colIdxW+2)     = R;\n",
    "# end\n"
   ],
   "outputs": [],
   "metadata": {}
  }
 ],
 "metadata": {
  "interpreter": {
   "hash": "1c99b817e7692020a25f5bce5fd58f988aabefee874a9cd895a1468d49750c9a"
  },
  "kernelspec": {
   "name": "python3",
   "display_name": "Python 3.9.6 64-bit ('celeri': conda)"
  },
  "language_info": {
   "codemirror_mode": {
    "name": "ipython",
    "version": 3
   },
   "file_extension": ".py",
   "mimetype": "text/x-python",
   "name": "python",
   "nbconvert_exporter": "python",
   "pygments_lexer": "ipython3",
   "version": "3.9.6"
  },
  "widgets": {
   "application/vnd.jupyter.widget-state+json": {
    "state": {
     "4d250c5d35aa493295ca814fb3eaa1ee": {
      "model_module": "@jupyter-widgets/base",
      "model_module_version": "1.2.0",
      "model_name": "LayoutModel",
      "state": {}
     },
     "6faf75ca5f3b41388f284e98ec2cf803": {
      "model_module": "jupyter-matplotlib",
      "model_module_version": "^0.9.0",
      "model_name": "ToolbarModel",
      "state": {
       "layout": "IPY_MODEL_9b061db2dc65459ca586b9b9f73c2362",
       "toolitems": [
        [
         "Home",
         "Reset original view",
         "home",
         "home"
        ],
        [
         "Back",
         "Back to previous view",
         "arrow-left",
         "back"
        ],
        [
         "Forward",
         "Forward to next view",
         "arrow-right",
         "forward"
        ],
        [
         "Pan",
         "Left button pans, Right button zooms\nx/y fixes axis, CTRL fixes aspect",
         "arrows",
         "pan"
        ],
        [
         "Zoom",
         "Zoom to rectangle\nx/y fixes axis, CTRL fixes aspect",
         "square-o",
         "zoom"
        ],
        [
         "Download",
         "Download plot",
         "floppy-o",
         "save_figure"
        ]
       ]
      }
     },
     "9b061db2dc65459ca586b9b9f73c2362": {
      "model_module": "@jupyter-widgets/base",
      "model_module_version": "1.2.0",
      "model_name": "LayoutModel",
      "state": {}
     },
     "c25a38234e8f4e818670d9767f95a430": {
      "model_module": "jupyter-matplotlib",
      "model_module_version": "^0.9.0",
      "model_name": "MPLCanvasModel",
      "state": {
       "_cursor": "default",
       "_figure_label": "Figure 1",
       "_height": 708,
       "_width": 1746,
       "layout": "IPY_MODEL_4d250c5d35aa493295ca814fb3eaa1ee",
       "toolbar": "IPY_MODEL_6faf75ca5f3b41388f284e98ec2cf803",
       "toolbar_position": "left"
      }
     }
    },
    "version_major": 2,
    "version_minor": 0
   }
  }
 },
 "nbformat": 4,
 "nbformat_minor": 4
}