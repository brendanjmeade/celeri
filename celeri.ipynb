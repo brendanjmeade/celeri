{
 "cells": [
  {
   "cell_type": "code",
   "execution_count": 2,
   "metadata": {},
   "outputs": [],
   "source": [
    "%matplotlib widget\n",
    "%config InlineBackend.figure_format = 'svg'"
   ]
  },
  {
   "cell_type": "code",
   "execution_count": 3,
   "metadata": {
    "tags": []
   },
   "outputs": [],
   "source": [
    "import addict\n",
    "import copy\n",
    "import datetime\n",
    "import os\n",
    "import numpy as np\n",
    "import pandas as pd\n",
    "import matplotlib.pyplot as plt\n",
    "from importlib import reload\n",
    "\n",
    "import celeri\n",
    "celeri = reload(celeri)"
   ]
  },
  {
   "cell_type": "code",
   "execution_count": 4,
   "metadata": {
    "tags": []
   },
   "outputs": [
    {
     "name": "stdout",
     "output_type": "stream",
     "text": [
      "Isolating slip rate constraints\n",
      "- Tensile-slip rate constraint on 11ba: rate = 0.00 (mm/yr), 1-sigma uncertainty = +/-1.00 (mm/yr)\n",
      "- Tensile-slip rate constraint on 11bb: rate = 0.00 (mm/yr), 1-sigma uncertainty = +/-1.00 (mm/yr)\n",
      "- Dip-slip rate constraint on AN_Iran_fault_2: rate = 0.00 (mm/yr), 1-sigma uncertainty = +/-3.00 (mm/yr)\n",
      "- Dip-slip rate constraint on AN_Iran_fault_6: rate = 1.50 (mm/yr), 1-sigma uncertainty = +/-1.00 (mm/yr)\n",
      "- Tensile-slip rate constraint on AWAT_fault_3: rate = 0.00 (mm/yr), 1-sigma uncertainty = +/-5.00 (mm/yr)\n",
      "- Strike-slip rate constraint on Akar_connect2: rate = -8.00 (mm/yr), 1-sigma uncertainty = +/-5.00 (mm/yr)\n",
      "- Dip-slip rate constraint on BOOB_fault_1: rate = 0.00 (mm/yr), 1-sigma uncertainty = +/-10.00 (mm/yr)\n",
      "- Dip-slip rate constraint on BOOB_fault_4: rate = 0.00 (mm/yr), 1-sigma uncertainty = +/-10.00 (mm/yr)\n",
      "- Tensile-slip rate constraint on BTFZ_Baldwin12b: rate = 0.00 (mm/yr), 1-sigma uncertainty = +/-10.00 (mm/yr)\n",
      "- Tensile-slip rate constraint on CAFA_close: rate = 0.00 (mm/yr), 1-sigma uncertainty = +/-5.00 (mm/yr)\n",
      "- Tensile-slip rate constraint on CLAR_fault_1: rate = 0.00 (mm/yr), 1-sigma uncertainty = +/-5.00 (mm/yr)\n",
      "- Tensile-slip rate constraint on Chiloe_block_Moreno_2011_8: rate = 0.00 (mm/yr), 1-sigma uncertainty = +/-5.00 (mm/yr)\n",
      "- Dip-slip rate constraint on DS_Iran_fault345: rate = 0.00 (mm/yr), 1-sigma uncertainty = +/-3.00 (mm/yr)\n",
      "- Dip-slip rate constraint on EL_Iran_fault_3: rate = 2.00 (mm/yr), 1-sigma uncertainty = +/-5.00 (mm/yr)\n",
      "- Dip-slip rate constraint on EL_Iran_fault_4: rate = 2.00 (mm/yr), 1-sigma uncertainty = +/-5.00 (mm/yr)\n",
      "- Dip-slip rate constraint on GF_5: rate = 0.00 (mm/yr), 1-sigma uncertainty = +/-5.00 (mm/yr)\n",
      "- Dip-slip rate constraint on HBAY_fault_1: rate = 0.00 (mm/yr), 1-sigma uncertainty = +/-5.00 (mm/yr)\n",
      "- Tensile-slip rate constraint on HBAY_fault_1: rate = 0.00 (mm/yr), 1-sigma uncertainty = +/-5.00 (mm/yr)\n",
      "- Dip-slip rate constraint on HBAY_fault_3: rate = 1.00 (mm/yr), 1-sigma uncertainty = +/-1.50 (mm/yr)\n",
      "- Tensile-slip rate constraint on HBAY_fault_3: rate = -1.00 (mm/yr), 1-sigma uncertainty = +/-1.50 (mm/yr)\n",
      "- Strike-slip rate constraint on HOPE_fault_1: rate = -18.00 (mm/yr), 1-sigma uncertainty = +/-6.00 (mm/yr)\n",
      "- Dip-slip rate constraint on KEKE_fault_6: rate = 0.00 (mm/yr), 1-sigma uncertainty = +/-5.00 (mm/yr)\n",
      "- Tensile-slip rate constraint on KEKE_fault_6: rate = 0.00 (mm/yr), 1-sigma uncertainty = +/-10.00 (mm/yr)\n",
      "- Dip-slip rate constraint on LosBajos_usgs_2: rate = 0.00 (mm/yr), 1-sigma uncertainty = +/-5.00 (mm/yr)\n",
      "- Tensile-slip rate constraint on Lwadle_close1: rate = 1.00 (mm/yr), 1-sigma uncertainty = +/-0.50 (mm/yr)\n",
      "- Strike-slip rate constraint on Medial_fault_USGSba: rate = -5.00 (mm/yr), 1-sigma uncertainty = +/-5.00 (mm/yr)\n",
      "- Dip-slip rate constraint on NTIMO2_2: rate = 60.00 (mm/yr), 1-sigma uncertainty = +/-20.00 (mm/yr)\n",
      "- Tensile-slip rate constraint on NZadd_new: rate = 0.00 (mm/yr), 1-sigma uncertainty = +/-5.00 (mm/yr)\n",
      "- Strike-slip rate constraint on PENN_Li16_close: rate = 0.00 (mm/yr), 1-sigma uncertainty = +/-5.00 (mm/yr)\n",
      "- Tensile-slip rate constraint on PENN_Li16_close: rate = 0.00 (mm/yr), 1-sigma uncertainty = +/-5.00 (mm/yr)\n",
      "- Tensile-slip rate constraint on PNG_151: rate = 5.00 (mm/yr), 1-sigma uncertainty = +/-5.00 (mm/yr)\n",
      "- Dip-slip rate constraint on Patch10_57: rate = 50.00 (mm/yr), 1-sigma uncertainty = +/-15.00 (mm/yr)\n",
      "- Dip-slip rate constraint on Patch14_new: rate = 45.00 (mm/yr), 1-sigma uncertainty = +/-20.00 (mm/yr)\n",
      "- Dip-slip rate constraint on Patch16_12: rate = 4.00 (mm/yr), 1-sigma uncertainty = +/-3.00 (mm/yr)\n",
      "- Dip-slip rate constraint on Patch16_19: rate = 8.00 (mm/yr), 1-sigma uncertainty = +/-8.00 (mm/yr)\n",
      "- Dip-slip rate constraint on Patch16_37: rate = 21.00 (mm/yr), 1-sigma uncertainty = +/-1.50 (mm/yr)\n",
      "- Dip-slip rate constraint on Patch6_44: rate = 70.00 (mm/yr), 1-sigma uncertainty = +/-10.00 (mm/yr)\n",
      "- Dip-slip rate constraint on Patch6_55: rate = 62.00 (mm/yr), 1-sigma uncertainty = +/-10.00 (mm/yr)\n",
      "- Tensile-slip rate constraint on Philippine_fault_11: rate = 0.00 (mm/yr), 1-sigma uncertainty = +/-5.00 (mm/yr)\n",
      "- Strike-slip rate constraint on Philippine_fault_12aa: rate = 25.00 (mm/yr), 1-sigma uncertainty = +/-10.00 (mm/yr)\n",
      "- Tensile-slip rate constraint on Philippine_fault_12aa: rate = 0.00 (mm/yr), 1-sigma uncertainty = +/-5.00 (mm/yr)\n",
      "- Strike-slip rate constraint on Philippine_fault_12ab: rate = 25.00 (mm/yr), 1-sigma uncertainty = +/-10.00 (mm/yr)\n",
      "- Tensile-slip rate constraint on Philippine_fault_12ab: rate = 0.00 (mm/yr), 1-sigma uncertainty = +/-5.00 (mm/yr)\n",
      "- Strike-slip rate constraint on Philippine_fault_12ba: rate = 25.00 (mm/yr), 1-sigma uncertainty = +/-10.00 (mm/yr)\n",
      "- Tensile-slip rate constraint on Philippine_fault_12ba: rate = 0.00 (mm/yr), 1-sigma uncertainty = +/-5.00 (mm/yr)\n",
      "- Strike-slip rate constraint on Philippine_fault_12bb: rate = 25.00 (mm/yr), 1-sigma uncertainty = +/-10.00 (mm/yr)\n",
      "- Tensile-slip rate constraint on Philippine_fault_12bb: rate = 0.00 (mm/yr), 1-sigma uncertainty = +/-5.00 (mm/yr)\n",
      "- Tensile-slip rate constraint on Philippine_fault_13: rate = 0.00 (mm/yr), 1-sigma uncertainty = +/-5.00 (mm/yr)\n",
      "- Tensile-slip rate constraint on Philippine_fault_14: rate = 0.00 (mm/yr), 1-sigma uncertainty = +/-5.00 (mm/yr)\n",
      "- Tensile-slip rate constraint on Philippines_sliver_southba: rate = 0.00 (mm/yr), 1-sigma uncertainty = +/-10.00 (mm/yr)\n",
      "- Tensile-slip rate constraint on Rhod_connect2: rate = -10.00 (mm/yr), 1-sigma uncertainty = +/-20.00 (mm/yr)\n",
      "- Tensile-slip rate constraint on Saria14_Lwandle_1: rate = 1.00 (mm/yr), 1-sigma uncertainty = +/-0.50 (mm/yr)\n",
      "- Tensile-slip rate constraint on Saria14_Lwandle_2: rate = 1.00 (mm/yr), 1-sigma uncertainty = +/-0.50 (mm/yr)\n",
      "- Tensile-slip rate constraint on Saria14_Lwandle_21: rate = 1.00 (mm/yr), 1-sigma uncertainty = +/-0.50 (mm/yr)\n",
      "- Tensile-slip rate constraint on Saria14_Lwandle_22: rate = 1.00 (mm/yr), 1-sigma uncertainty = +/-0.50 (mm/yr)\n",
      "- Tensile-slip rate constraint on Saria14_Lwandle_23: rate = 1.00 (mm/yr), 1-sigma uncertainty = +/-0.50 (mm/yr)\n",
      "- Tensile-slip rate constraint on Saria14_Lwandle_24: rate = 1.00 (mm/yr), 1-sigma uncertainty = +/-0.50 (mm/yr)\n",
      "- Tensile-slip rate constraint on Saria14_Lwandle_3: rate = 1.00 (mm/yr), 1-sigma uncertainty = +/-0.50 (mm/yr)\n",
      "- Tensile-slip rate constraint on Saria14_Lwandle_4: rate = 1.00 (mm/yr), 1-sigma uncertainty = +/-0.50 (mm/yr)\n",
      "- Tensile-slip rate constraint on Saria14_Lwandle_7: rate = 1.00 (mm/yr), 1-sigma uncertainty = +/-0.50 (mm/yr)\n",
      "- Tensile-slip rate constraint on Saria14_Lwandle_8: rate = 1.00 (mm/yr), 1-sigma uncertainty = +/-0.50 (mm/yr)\n",
      "- Tensile-slip rate constraint on Saria14_Lwandle_9: rate = 1.00 (mm/yr), 1-sigma uncertainty = +/-0.50 (mm/yr)\n",
      "- Tensile-slip rate constraint on Saria14_Rovuma_14: rate = 1.00 (mm/yr), 1-sigma uncertainty = +/-2.00 (mm/yr)\n",
      "- Tensile-slip rate constraint on Sorong_fault_Bock03a: rate = 0.00 (mm/yr), 1-sigma uncertainty = +/-10.00 (mm/yr)\n",
      "- Tensile-slip rate constraint on Sorong_fault_Bock03ba: rate = 0.00 (mm/yr), 1-sigma uncertainty = +/-10.00 (mm/yr)\n",
      "- Tensile-slip rate constraint on Sorong_fault_Bock03bb: rate = 0.00 (mm/yr), 1-sigma uncertainty = +/-10.00 (mm/yr)\n",
      "- Tensile-slip rate constraint on Symithe15_HISP_4: rate = 3.00 (mm/yr), 1-sigma uncertainty = +/-5.00 (mm/yr)\n",
      "- Tensile-slip rate constraint on Symithe15_NHIS_6: rate = 0.00 (mm/yr), 1-sigma uncertainty = +/-10.00 (mm/yr)\n",
      "- Tensile-slip rate constraint on TAFZ_Spicaka: rate = 0.00 (mm/yr), 1-sigma uncertainty = +/-10.00 (mm/yr)\n",
      "- Dip-slip rate constraint on TG_4: rate = 0.00 (mm/yr), 1-sigma uncertainty = +/-5.00 (mm/yr)\n",
      "- Dip-slip rate constraint on TVZE_fault_16: rate = 0.00 (mm/yr), 1-sigma uncertainty = +/-10.00 (mm/yr)\n",
      "- Strike-slip rate constraint on TVZE_fault_3: rate = 0.00 (mm/yr), 1-sigma uncertainty = +/-5.00 (mm/yr)\n",
      "- Tensile-slip rate constraint on TonVan1113: rate = 0.00 (mm/yr), 1-sigma uncertainty = +/-10.00 (mm/yr)\n",
      "- Tensile-slip rate constraint on TonVan_385: rate = 55.00 (mm/yr), 1-sigma uncertainty = +/-20.00 (mm/yr)\n",
      "- Tensile-slip rate constraint on TonVan_405: rate = 90.00 (mm/yr), 1-sigma uncertainty = +/-20.00 (mm/yr)\n",
      "- Tensile-slip rate constraint on Totschunda_Koons10_2: rate = 0.00 (mm/yr), 1-sigma uncertainty = +/-5.00 (mm/yr)\n",
      "- Dip-slip rate constraint on WL_117b: rate = 25.00 (mm/yr), 1-sigma uncertainty = +/-20.00 (mm/yr)\n",
      "- Dip-slip rate constraint on WSPR_fault_6: rate = -50.00 (mm/yr), 1-sigma uncertainty = +/-20.00 (mm/yr)\n",
      "- Dip-slip rate constraint on WSPR_fault_7: rate = -50.00 (mm/yr), 1-sigma uncertainty = +/-20.00 (mm/yr)\n",
      "- Tensile-slip rate constraint on asdf: rate = 0.00 (mm/yr), 1-sigma uncertainty = +/-1.00 (mm/yr)\n",
      "- Tensile-slip rate constraint on au_271: rate = 19.00 (mm/yr), 1-sigma uncertainty = +/-5.00 (mm/yr)\n",
      "- Tensile-slip rate constraint on cfm_death_valley_split_complete_trace_part13_s: rate = 0.00 (mm/yr), 1-sigma uncertainty = +/-1.00 (mm/yr)\n",
      "- Tensile-slip rate constraint on cfm_east_montebello_complete_trace_part1_s: rate = 0.00 (mm/yr), 1-sigma uncertainty = +/-1.00 (mm/yr)\n",
      "- Dip-slip rate constraint on cfm_east_north_frontal_zone_smooth_extruded_trace_part1_s: rate = 0.00 (mm/yr), 1-sigma uncertainty = +/-1.00 (mm/yr)\n",
      "- Dip-slip rate constraint on cfm_east_north_frontal_zone_smooth_extruded_trace_part2_s: rate = 0.00 (mm/yr), 1-sigma uncertainty = +/-1.00 (mm/yr)\n",
      "- Tensile-slip rate constraint on cfm_eureka_peak_west_deception_canyon_extruded_trace_part1_s_2b: rate = 0.00 (mm/yr), 1-sigma uncertainty = +/-1.00 (mm/yr)\n",
      "- Tensile-slip rate constraint on cfm_landers_detailed_complete_trace_part1_s: rate = 0.00 (mm/yr), 1-sigma uncertainty = +/-1.00 (mm/yr)\n",
      "- Strike-slip rate constraint on cfm_newport_inglewood_rose_conyon_complete_trace_part11_s: rate = -0.80 (mm/yr), 1-sigma uncertainty = +/-1.60 (mm/yr)\n",
      "- Tensile-slip rate constraint on cfm_palos_verdes_extruded_trace_part1_s_2: rate = 0.00 (mm/yr), 1-sigma uncertainty = +/-1.00 (mm/yr)\n",
      "- Tensile-slip rate constraint on cfm_san_bernardino_valley_san_jacinto_complete_trace_part5_s: rate = 0.00 (mm/yr), 1-sigma uncertainty = +/-1.00 (mm/yr)\n",
      "- Tensile-slip rate constraint on cfma_blackwater_extruded_90_trace_part2_s: rate = 0.00 (mm/yr), 1-sigma uncertainty = +/-1.00 (mm/yr)\n",
      "- Tensile-slip rate constraint on cfma_chino_extruded_65_upper_complete_trace_part4_sa: rate = 0.00 (mm/yr), 1-sigma uncertainty = +/-1.00 (mm/yr)\n",
      "- Tensile-slip rate constraint on cfma_glen_ivy_complete_trace_part2_s: rate = 0.00 (mm/yr), 1-sigma uncertainty = +/-1.00 (mm/yr)\n",
      "- Tensile-slip rate constraint on cfma_goldstone_lake_extruded_90_trace_part4_s: rate = 0.00 (mm/yr), 1-sigma uncertainty = +/-1.00 (mm/yr)\n",
      "- Tensile-slip rate constraint on cfma_helendale_south_lockhart_extruded_90_trace_part3_sbb: rate = 0.00 (mm/yr), 1-sigma uncertainty = +/-1.00 (mm/yr)\n",
      "- Strike-slip rate constraint on cfma_julian_elsinore_extrapolated_trace_part5_s_2: rate = -4.00 (mm/yr), 1-sigma uncertainty = +/-0.50 (mm/yr)\n",
      "- Tensile-slip rate constraint on cfma_pisgah_bullion_mesquite_lake_extruded_90_trace_part5_s: rate = 0.00 (mm/yr), 1-sigma uncertainty = +/-1.00 (mm/yr)\n",
      "- Tensile-slip rate constraint on cfma_san_jacinto_valley_san_jacinto_extruded_90dip_trace_part1_s: rate = 0.00 (mm/yr), 1-sigma uncertainty = +/-1.00 (mm/yr)\n",
      "- Tensile-slip rate constraint on dmgab: rate = 0.00 (mm/yr), 1-sigma uncertainty = +/-5.00 (mm/yr)\n",
      "- Tensile-slip rate constraint on koybayashi_SAF: rate = 0.00 (mm/yr), 1-sigma uncertainty = +/-5.00 (mm/yr)\n",
      "- Tensile-slip rate constraint on n_ridge_3aaaaabb: rate = 20.00 (mm/yr), 1-sigma uncertainty = +/-5.00 (mm/yr)\n",
      "- Tensile-slip rate constraint on newb: rate = 0.00 (mm/yr), 1-sigma uncertainty = +/-1.00 (mm/yr)\n",
      "- Dip-slip rate constraint on phil_taiwan_connect: rate = 100.00 (mm/yr), 1-sigma uncertainty = +/-10.00 (mm/yr)\n",
      "- Tensile-slip rate constraint on rSAP_deshon_2: rate = 0.00 (mm/yr), 1-sigma uncertainty = +/-5.00 (mm/yr)\n",
      "- Strike-slip rate constraint on ri_61: rate = 5.00 (mm/yr), 1-sigma uncertainty = +/-1.00 (mm/yr)\n",
      "- Tensile-slip rate constraint on sumatran_fault_chlieh_50: rate = 0.00 (mm/yr), 1-sigma uncertainty = +/-10.00 (mm/yr)\n",
      "- Tensile-slip rate constraint on sumatran_fault_splay_chlieh_5: rate = 0.00 (mm/yr), 1-sigma uncertainty = +/-5.00 (mm/yr)\n",
      "- Dip-slip rate constraint on waif_fault_1: rate = 0.00 (mm/yr), 1-sigma uncertainty = +/-10.00 (mm/yr)\n",
      "- Strike-slip rate constraint on well_fault_11: rate = -5.00 (mm/yr), 1-sigma uncertainty = +/-5.00 (mm/yr)\n",
      "- Dip-slip rate constraint on well_fault_13: rate = 0.00 (mm/yr), 1-sigma uncertainty = +/-5.00 (mm/yr)\n",
      "- Dip-slip rate constraint on well_fault_2: rate = 0.00 (mm/yr), 1-sigma uncertainty = +/-5.00 (mm/yr)\n",
      "- Strike-slip rate constraint on well_fault_3: rate = -5.00 (mm/yr), 1-sigma uncertainty = +/-2.00 (mm/yr)\n",
      "- Dip-slip rate constraint on well_fault_6: rate = 0.00 (mm/yr), 1-sigma uncertainty = +/-15.00 (mm/yr)\n",
      "- Dip-slip rate constraint on yamanobeb: rate = 4.00 (mm/yr), 1-sigma uncertainty = +/-2.00 (mm/yr)\n"
     ]
    }
   ],
   "source": [
    "import celeri\n",
    "celeri = reload(celeri)\n",
    "\n",
    "RUN_NAME = datetime.datetime.now().strftime(\"%y%m%d%H%M%S\") + os.sep\n",
    "# command_file_name = './data/western_north_america/western_north_america_command.json'\n",
    "command_file_name = './data/global/global_command.json'\n",
    "command, segment, block, meshes, station, mogi, sar = celeri.read_data(command_file_name)\n",
    "station = celeri.process_station(station, command)\n",
    "segment = celeri.process_segment(segment, command, meshes)\n",
    "sar = celeri.process_sar(sar, command)\n",
    "closure = celeri.assign_block_labels(segment, station, block, mogi, sar)\n",
    "assembly = addict.Dict()\n",
    "operators = addict.Dict()\n",
    "assembly = celeri.merge_geodetic_data(assembly, station, sar)\n",
    "assembly, operators.block_motion_constraints = celeri.block_constraints(assembly, block, command)\n",
    "assembly, operators.slip_rate_constraints = celeri.slip_rate_constraints(assembly, segment, block, command)\n"
   ]
  },
  {
   "cell_type": "code",
   "execution_count": 5,
   "metadata": {},
   "outputs": [],
   "source": [
    "command = addict.Dict(command)"
   ]
  },
  {
   "cell_type": "code",
   "execution_count": null,
   "metadata": {},
   "outputs": [],
   "source": []
  }
 ],
 "metadata": {
  "interpreter": {
   "hash": "749f0fc94df05971c9b3f3660cf19264b2aeee03fc6d4bf75e86fd251d69cf68"
  },
  "kernelspec": {
   "display_name": "Python 3 (ipykernel)",
   "language": "python",
   "name": "python3"
  },
  "language_info": {
   "codemirror_mode": {
    "name": "ipython",
    "version": 3
   },
   "file_extension": ".py",
   "mimetype": "text/x-python",
   "name": "python",
   "nbconvert_exporter": "python",
   "pygments_lexer": "ipython3",
   "version": "3.9.6"
  },
  "widgets": {
   "application/vnd.jupyter.widget-state+json": {
    "state": {},
    "version_major": 2,
    "version_minor": 0
   }
  }
 },
 "nbformat": 4,
 "nbformat_minor": 4
}
