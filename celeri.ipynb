{
 "cells": [
  {
   "cell_type": "code",
   "execution_count": 1,
   "source": [
    "%matplotlib widget\n",
    "%config InlineBackend.figure_format = 'svg'\n",
    "# %load_ext line_profiler # Example: %lprun -T lprof0 -f celeri.celeri.get_okada_displacements u_east, u_north, u_up = celeri.get_okada_displacements(segment.lon1.values[segment_idx], segment.lat1[segment_idx], segment.lon2[segment_idx], segment.lat2[segment_idx], segment.locking_depth[segment_idx], segment.burial_depth[segment_idx], segment.dip[segment_idx], command.material_lambda, command.material_mu, 1, 0, 0, station.lon, station.lat)"
   ],
   "outputs": [],
   "metadata": {
    "execution": {
     "iopub.execute_input": "2021-08-22T18:29:50.539195Z",
     "iopub.status.busy": "2021-08-22T18:29:50.538938Z",
     "iopub.status.idle": "2021-08-22T18:29:50.550334Z",
     "shell.execute_reply": "2021-08-22T18:29:50.549700Z",
     "shell.execute_reply.started": "2021-08-22T18:29:50.539169Z"
    },
    "tags": []
   }
  },
  {
   "cell_type": "code",
   "execution_count": 2,
   "source": [
    "import addict\n",
    "import numpy as np\n",
    "import pandas as pd\n",
    "import matplotlib.pyplot as plt\n",
    "from importlib import reload\n",
    "from tqdm.notebook import tqdm\n",
    "\n",
    "import celeri\n",
    "celeri = reload(celeri)\n",
    "\n",
    "# Plotting the global model is much much faster with tex fonts turned off\n",
    "plt.rcParams['text.usetex'] = False"
   ],
   "outputs": [],
   "metadata": {
    "execution": {
     "iopub.execute_input": "2021-08-22T18:29:51.661926Z",
     "iopub.status.busy": "2021-08-22T18:29:51.661659Z",
     "iopub.status.idle": "2021-08-22T18:29:51.956035Z",
     "shell.execute_reply": "2021-08-22T18:29:51.955292Z",
     "shell.execute_reply.started": "2021-08-22T18:29:51.661900Z"
    },
    "tags": []
   }
  },
  {
   "cell_type": "code",
   "execution_count": 3,
   "source": [
    "command_file_name = \"./data/western_north_america/basic_command.json\"\n",
    "command, segment, block, meshes, station, mogi, sar = celeri.read_data(command_file_name)\n",
    "station = celeri.process_station(station, command)\n",
    "segment = celeri.process_segment(segment, command, meshes)\n",
    "sar = celeri.process_sar(sar, command)\n",
    "closure, block = celeri.assign_block_labels(segment, station, block, mogi, sar)\n",
    "# celeri.plot_block_labels(segment, block, station, closure)"
   ],
   "outputs": [
    {
     "output_type": "stream",
     "name": "stderr",
     "text": [
      "WARNING:root:The file contains tag data that couldn't be processed.\n"
     ]
    }
   ],
   "metadata": {
    "execution": {
     "iopub.execute_input": "2021-08-22T18:29:53.570589Z",
     "iopub.status.busy": "2021-08-22T18:29:53.570331Z",
     "iopub.status.idle": "2021-08-22T18:30:09.817977Z",
     "shell.execute_reply": "2021-08-22T18:30:09.817443Z",
     "shell.execute_reply.started": "2021-08-22T18:29:53.570561Z"
    },
    "tags": []
   }
  },
  {
   "cell_type": "code",
   "execution_count": 4,
   "source": [
    "assembly = addict.Dict()\n",
    "operators = addict.Dict()\n",
    "assembly = celeri.merge_geodetic_data(assembly, station, sar) # Not sure this work correctly\n",
    "\n",
    "# Build all linear operators\n",
    "operators.block_rotation = celeri.get_block_rotation_operator(station)\n",
    "operators.global_float_block_rotation = celeri.get_global_float_block_rotation_operator(station)\n",
    "assembly, operators.block_motion_constraints = celeri.block_constraints(assembly, block, command)\n",
    "assembly, operators.slip_rate_constraints = celeri.slip_rate_constraints(assembly, segment, block, command)\n",
    "# operators.okada_segment_station = celeri.get_segment_station_operator_okada(segment, station, command)\n",
    "# celeri.plot_segment_displacements(segment, station, command, segment_idx=0, strike_slip=1, dip_slip=0, tensile_slip=0, lon_min=235, lon_max=255, lat_min=30, lat_max=50, quiver_scale=1e-1)\n",
    "operators.slip_rate_segment_block = celeri.get_fault_slip_rate_partials(segment, block)\n",
    "operators.block_strain_rate, strain_rate_block_idx = celeri.get_strain_rate_centroid_operator(block, station, segment)\n",
    "operators.mogi_station = celeri.get_mogi_operator(mogi, station, command)\n",
    "\n",
    "# Triangles here\n",
    "# operators.tri_station = celeri.get_tri_station_operator_okada(meshes, station, command)\n",
    "# plt.figure()\n",
    "# plt.imshow(np.log10(np.abs(operators.tri_station)), aspect=\"auto\")\n",
    "# plt.show()\n",
    "\n",
    "# Get additiona matrix shape information for assembly\n",
    "assembly.index.sz_elastic = operators.okada_segment_station.shape # Not sure this is correct\n",
    "assembly.index.sz_slip = operators.slip_rate_segment_block.shape # Not sure this is correct\n",
    "assembly.index.sz_rotation = operators.block_rotation.shape # Not sure this is correct\n",
    "assembly = celeri.station_row_keep(assembly) # Not sure this is correct"
   ],
   "outputs": [],
   "metadata": {
    "tags": []
   }
  },
  {
   "cell_type": "code",
   "execution_count": 5,
   "source": [
    "# Plot TDE displacements from a single element\n",
    "tri_idx = 0\n",
    "vel_east, vel_north, vel_up = celeri.get_tri_displacements(station.lon.to_numpy(), station.lat.to_numpy(), meshes, command.material_lambda, command.material_mu, tri_idx=0, strike_slip=1, dip_slip=0, tensile_slip=0)\n",
    "plt.figure()\n",
    "plt.plot(meshes[0].lon1[tri_idx], meshes[0].lat1[tri_idx], \".r\")\n",
    "plt.plot(meshes[0].lon2[tri_idx], meshes[0].lat2[tri_idx], \".r\")\n",
    "plt.plot(meshes[0].lon3[tri_idx], meshes[0].lat3[tri_idx], \".r\")\n",
    "plt.quiver(station.lon, station.lat, vel_east, vel_north, scale=1e-3)\n",
    "plt.show()"
   ],
   "outputs": [
    {
     "output_type": "stream",
     "name": "stderr",
     "text": [
      "/Users/meade/opt/anaconda3/envs/celeri/lib/python3.9/site-packages/cutde/coordinators.py:77: UserWarning: The obs_pts input array has Fortran ordering. Converting to C ordering. This may be expensive.\n",
      "  warnings.warn(\n"
     ]
    },
    {
     "output_type": "display_data",
     "data": {
      "application/vnd.jupyter.widget-view+json": {
       "version_major": 2,
       "version_minor": 0,
       "model_id": "5730083186f14d39813913e442105a00"
      },
      "text/plain": [
       "Canvas(toolbar=Toolbar(toolitems=[('Home', 'Reset original view', 'home', 'home'), ('Back', 'Back to previous …"
      ]
     },
     "metadata": {}
    }
   ],
   "metadata": {}
  },
  {
   "cell_type": "code",
   "execution_count": 75,
   "source": [
    "def get_shared_sides(vertices):\n",
    "    \"\"\"\n",
    "    Determine the indices of the triangular elements sharing \n",
    "    one side with a particular element.  \n",
    "    Inputs:\n",
    "    vertices: n x 3 array containing the 3 vertex indices of the n elements,\n",
    "        assumes that values increase monotonically from 1:n\n",
    "\n",
    "    Outputs:\n",
    "    share: n x 3 array containing the indices of the m elements sharing a\n",
    "        side with each of the n elements.  \"-1\" values in the array\n",
    "        indicate elements with fewer than m neighbors (i.e., on\n",
    "        the edge of the geometry).\n",
    "\n",
    "    In general, elements will have 1 (mesh corners), 2 (mesh edges), or 3 \n",
    "    (mesh interiors) neighbors, but in the case of branching faults that \n",
    "    have been adjusted with mergepatches, it's for edges and corners to \n",
    "    also up to 3 neighbors.\n",
    "    \"\"\"\n",
    "    # Make side arrays containing vertex indices of sides\n",
    "    side_1 = np.sort(np.vstack((vertices[:, 0], vertices[:, 1])).T, 1)\n",
    "    side_2 = np.sort(np.vstack((vertices[:, 1], vertices[:, 2])).T, 1)\n",
    "    side_3 = np.sort(np.vstack((vertices[:, 0], vertices[:, 2])).T, 1)\n",
    "    sides_all = np.vstack((side_1, side_2, side_3))\n",
    "\n",
    "    # Find the unique sides - each side can part of at most 2 elements\n",
    "    _, first_occurence_idx = np.unique(sides_all, return_index=True, axis=0)\n",
    "    _, last_occurence_idx = np.unique(np.flipud(sides_all), return_index=True, axis=0)\n",
    "\n",
    "    # Shared sides are those whose first and last indices are not equal\n",
    "    shared = np.where((last_occurence_idx - first_occurence_idx) != 0)[0]\n",
    "\n",
    "    # These are the indices of the shared sides\n",
    "    sside1 = first_occurence_idx[shared] # What should I name these variables?\n",
    "    sside2 = last_occurence_idx[shared]\n",
    "                \n",
    "    el1, sh1 = np.unravel_index(sside1, vertices.shape, order='F')  # \"F\" is for fortran ordering.  What should I call this variables?\n",
    "    el2, sh2 = np.unravel_index(sside2, vertices.shape, order='F')\n",
    "    share = -1 * np.ones((vertices.shape[0], 3))\n",
    "    for i in range(el1.size):\n",
    "        share[el1[i], sh1[i]] = el2[i]\n",
    "        share[el2[i], sh2[i]] = el1[i]\n",
    "    share = share.astype(int)\n",
    "    return share\n",
    "\n",
    "share = get_shared_sides(meshes[0].verts)"
   ],
   "outputs": [],
   "metadata": {}
  },
  {
   "cell_type": "code",
   "execution_count": 80,
   "source": [
    "def get_tri_shared_sides_distances(share, x_centroid, y_centroid, z_centroid):\n",
    "    \"\"\"\n",
    "    Calculates the distances between the centroids of adjacent triangular\n",
    "    elements, for use in smoothing algorithms.\n",
    "\n",
    "    Inputs:\n",
    "    share: n x 3 array output from ShareSides, containing the indices\n",
    "        of up to 3 elements that share a side with each of the n elements.\n",
    "    x_centroid: x coordinates of element centroids\n",
    "    y_centroid: y coordinates of element centroids\n",
    "    z_centroid: z coordinates of element centroids\n",
    "\n",
    "    Outputs:\n",
    "    dists: n x 3 array containing distance between each of the n elements\n",
    "        and its 3 or fewer neighbors.  A distance of 0 does not imply\n",
    "        collocated elements, but rather implies that there are fewer \n",
    "        than 3 elements that share a side with the element in that row.\n",
    "    \"\"\"\n",
    "    tri_shared_sides_distances = np.zeros(share.shape)\n",
    "    for i in range(share.shape[0]):\n",
    "        share[i, np.where(share[i, :] == -1)[0]] = i\n",
    "        tri_shared_sides_distances[i, :] = np.sqrt((x_centroid[i] - x_centroid[share[i, :]])**2.0 + (y_centroid[i] - y_centroid[share[i, :]])**2.0 + (z_centroid[i] - z_centroid[share[i, :]])**2.0)\n",
    "    return tri_shared_sides_distances\n",
    "\n",
    "# TODO: Move centroid calculation to initial mesh read in???\n",
    "meshes[0].x_centroid = (meshes[0].x1 + meshes[0].x2 + meshes[0].x3) / 3.0\n",
    "meshes[0].y_centroid = (meshes[0].y1 + meshes[0].y2 + meshes[0].y3) / 3.0\n",
    "meshes[0].z_centroid = (meshes[0].z1 + meshes[0].z2 + meshes[0].z3) / 3.0\n",
    "tri_shared_sides_distances = get_tri_shared_sides_distances(share, meshes[0].x_centroid, meshes[0].x_centroid, meshes[0].x_centroid)"
   ],
   "outputs": [],
   "metadata": {}
  },
  {
   "cell_type": "code",
   "execution_count": 82,
   "source": [
    "import copy\n",
    "\n",
    "# function w = MakeTriSmooth(share, tri_shared_sides_distances)\n",
    "\"\"\"\n",
    "Produces a smoothing matrix based on the scale-dependent\n",
    "umbrella operator (e.g., Desbrun et al., 1999; Resor, 2004).\n",
    "\n",
    "Inputs:\n",
    "share: n x 3 array of indices of the up to 3 elements sharing a side \n",
    "    with each of the n elements\n",
    "tri_shared_sides_distances: n x 3 array of distances between each of the\n",
    "    n elements and its up to 3 neighbors\n",
    "\n",
    "Outputs:\n",
    "w: n x n smoothing matrix\n",
    "\"\"\"\n",
    "\n",
    "n = share.shape[0]\n",
    "\n",
    "# Allocate space for the smoothing matrix\n",
    "# w = spalloc(3*n, 3*n, 27*n) % TODO: Why is this so large and what is the third dimension?\n",
    "# w = spalloc(n, 3*n, 9*n)\n",
    "\n",
    "# Create a design matrix for Laplacian construction\n",
    "s = copy.deepcopy(share)\n",
    "# s(find(share)) = 1;\n",
    "\n",
    "# Sum the distances between each element and its neighbors\n",
    "# sdists = sum(dists, 2);\n",
    "# lcoeff = 2./sdists; % leading coefficient\n",
    "\n",
    "# Replace zero distances with 1\n",
    "# dists(find(~dists)) = 1;\n",
    "\n",
    "# Take the reciprocal of the distances\n",
    "# idists = 1./dists;\n",
    "\n",
    "# % diagonal terms\n",
    "# selfs = -lcoeff.*sum(idists.*s, 2);\n",
    "\n",
    "# % off diagonals\n",
    "# offdi = repmat(lcoeff, 1, 3).*idists.*s;\n",
    "\n",
    "# % place the weights into the smoothing operator\n",
    "# for j = 1:3;\n",
    "# \tfor i = 1:n;\n",
    "# \t\tw(3*i-(3-j), 3*i-(3-j))\t= selfs(i);\n",
    "# %\t\tw(i, 3*i-(3-j))\t\t\t= selfs(i);\n",
    "# \t\tif share(i, j) ~= 0;\n",
    "# %\t\t\tm\t\t\t\t\t\t\t= 3*share(i, j)-2:3*share(i, j);\n",
    "# \t\t\tk \t\t\t\t\t\t\t= 3*i - [2 1 0];\n",
    "# \t\t\tm\t\t\t\t\t\t\t= 3*share(i, j) - [2 1 0];\n",
    "# \t\t\tp \t\t\t\t\t\t\t= sub2ind(size(w), k, m);\n",
    "# \t\t\tw(p)\t\t\t\t\t\t= offdi(i, j);\n",
    "# %\t\t\tw(i, m)\t\t\t\t\t= offdi(i, j);\n",
    "# \t\tend\n",
    "# \tend\n",
    "# end\t\n"
   ],
   "outputs": [],
   "metadata": {}
  },
  {
   "cell_type": "code",
   "execution_count": 83,
   "source": [
    "print(n)"
   ],
   "outputs": [
    {
     "output_type": "stream",
     "name": "stdout",
     "text": [
      "1841\n"
     ]
    }
   ],
   "metadata": {}
  },
  {
   "cell_type": "code",
   "execution_count": null,
   "source": [],
   "outputs": [],
   "metadata": {}
  }
 ],
 "metadata": {
  "interpreter": {
   "hash": "1c99b817e7692020a25f5bce5fd58f988aabefee874a9cd895a1468d49750c9a"
  },
  "kernelspec": {
   "name": "python3",
   "display_name": "Python 3.9.6 64-bit ('celeri': conda)"
  },
  "language_info": {
   "codemirror_mode": {
    "name": "ipython",
    "version": 3
   },
   "file_extension": ".py",
   "mimetype": "text/x-python",
   "name": "python",
   "nbconvert_exporter": "python",
   "pygments_lexer": "ipython3",
   "version": "3.9.6"
  },
  "widgets": {
   "application/vnd.jupyter.widget-state+json": {
    "state": {
     "4d250c5d35aa493295ca814fb3eaa1ee": {
      "model_module": "@jupyter-widgets/base",
      "model_module_version": "1.2.0",
      "model_name": "LayoutModel",
      "state": {}
     },
     "6faf75ca5f3b41388f284e98ec2cf803": {
      "model_module": "jupyter-matplotlib",
      "model_module_version": "^0.9.0",
      "model_name": "ToolbarModel",
      "state": {
       "layout": "IPY_MODEL_9b061db2dc65459ca586b9b9f73c2362",
       "toolitems": [
        [
         "Home",
         "Reset original view",
         "home",
         "home"
        ],
        [
         "Back",
         "Back to previous view",
         "arrow-left",
         "back"
        ],
        [
         "Forward",
         "Forward to next view",
         "arrow-right",
         "forward"
        ],
        [
         "Pan",
         "Left button pans, Right button zooms\nx/y fixes axis, CTRL fixes aspect",
         "arrows",
         "pan"
        ],
        [
         "Zoom",
         "Zoom to rectangle\nx/y fixes axis, CTRL fixes aspect",
         "square-o",
         "zoom"
        ],
        [
         "Download",
         "Download plot",
         "floppy-o",
         "save_figure"
        ]
       ]
      }
     },
     "9b061db2dc65459ca586b9b9f73c2362": {
      "model_module": "@jupyter-widgets/base",
      "model_module_version": "1.2.0",
      "model_name": "LayoutModel",
      "state": {}
     },
     "c25a38234e8f4e818670d9767f95a430": {
      "model_module": "jupyter-matplotlib",
      "model_module_version": "^0.9.0",
      "model_name": "MPLCanvasModel",
      "state": {
       "_cursor": "default",
       "_figure_label": "Figure 1",
       "_height": 708,
       "_width": 1746,
       "layout": "IPY_MODEL_4d250c5d35aa493295ca814fb3eaa1ee",
       "toolbar": "IPY_MODEL_6faf75ca5f3b41388f284e98ec2cf803",
       "toolbar_position": "left"
      }
     }
    },
    "version_major": 2,
    "version_minor": 0
   }
  }
 },
 "nbformat": 4,
 "nbformat_minor": 4
}