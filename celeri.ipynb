{
 "cells": [
  {
   "cell_type": "code",
   "execution_count": null,
   "source": [
    "%matplotlib widget\n",
    "%config InlineBackend.figure_format = 'svg'\n",
    "# %load_ext line_profiler\n",
    "# Example: %lprun -T lprof0 -f celeri.celeri.get_okada_displacements u_east, u_north, u_up = celeri.get_okada_displacements(segment.lon1.values[segment_idx], segment.lat1[segment_idx], segment.lon2[segment_idx], segment.lat2[segment_idx], segment.locking_depth[segment_idx], segment.burial_depth[segment_idx], segment.dip[segment_idx], command.material_lambda, command.material_mu, 1, 0, 0, station.lon, station.lat)"
   ],
   "outputs": [],
   "metadata": {
    "execution": {
     "iopub.execute_input": "2021-08-22T18:29:50.539195Z",
     "iopub.status.busy": "2021-08-22T18:29:50.538938Z",
     "iopub.status.idle": "2021-08-22T18:29:50.550334Z",
     "shell.execute_reply": "2021-08-22T18:29:50.549700Z",
     "shell.execute_reply.started": "2021-08-22T18:29:50.539169Z"
    },
    "tags": []
   }
  },
  {
   "cell_type": "code",
   "execution_count": null,
   "source": [
    "import addict\n",
    "import numpy as np\n",
    "import pandas as pd\n",
    "import matplotlib.pyplot as plt\n",
    "from importlib import reload\n",
    "from tqdm.notebook import tqdm\n",
    "\n",
    "import celeri\n",
    "celeri = reload(celeri)\n",
    "\n",
    "# Plotting the global model is much much faster with tex fonts turned off\n",
    "plt.rcParams['text.usetex'] = False"
   ],
   "outputs": [],
   "metadata": {
    "execution": {
     "iopub.execute_input": "2021-08-22T18:29:51.661926Z",
     "iopub.status.busy": "2021-08-22T18:29:51.661659Z",
     "iopub.status.idle": "2021-08-22T18:29:51.956035Z",
     "shell.execute_reply": "2021-08-22T18:29:51.955292Z",
     "shell.execute_reply.started": "2021-08-22T18:29:51.661900Z"
    },
    "tags": []
   }
  },
  {
   "cell_type": "code",
   "execution_count": null,
   "source": [
    "command_file_name = \"./data/western_north_america/basic_command.json\"\n",
    "command, segment, block, meshes, station, mogi, sar = celeri.read_data(command_file_name)\n",
    "station = celeri.process_station(station, command)\n",
    "segment = celeri.process_segment(segment, command, meshes)\n",
    "sar = celeri.process_sar(sar, command)\n",
    "closure, block = celeri.assign_block_labels(segment, station, block, mogi, sar)\n",
    "# celeri.plot_block_labels(segment, block, station, closure)"
   ],
   "outputs": [],
   "metadata": {
    "execution": {
     "iopub.execute_input": "2021-08-22T18:29:53.570589Z",
     "iopub.status.busy": "2021-08-22T18:29:53.570331Z",
     "iopub.status.idle": "2021-08-22T18:30:09.817977Z",
     "shell.execute_reply": "2021-08-22T18:30:09.817443Z",
     "shell.execute_reply.started": "2021-08-22T18:29:53.570561Z"
    },
    "tags": []
   }
  },
  {
   "cell_type": "code",
   "execution_count": null,
   "source": [
    "assembly = addict.Dict()\n",
    "operators = addict.Dict()\n",
    "assembly = celeri.merge_geodetic_data(assembly, station, sar) # Not sure this work correctly\n",
    "\n",
    "# Build all linear operators\n",
    "operators.block_rotation = celeri.get_block_rotation_operator(station)\n",
    "operators.global_float_block_rotation = celeri.get_global_float_block_rotation_operator(station)\n",
    "assembly, operators.block_motion_constraints = celeri.block_constraints(assembly, block, command)\n",
    "assembly, operators.slip_rate_constraints = celeri.slip_rate_constraints(assembly, segment, block, command)\n",
    "operators.slip_rate_segment_block = celeri.get_fault_slip_rate_partials(segment, block)\n",
    "operators.block_strain_rate, strain_rate_block_idx = celeri.get_strain_rate_centroid_operator(block, station, segment)\n",
    "operators.mogi_station = celeri.get_mogi_operator(mogi, station, command)\n",
    "\n",
    "# Elastic operators\n",
    "operators.okada_segment_station = celeri.get_segment_station_operator_okada(segment, station, command)\n",
    "# celeri.plot_segment_displacements(segment, station, command, segment_idx=0, strike_slip=1, dip_slip=0, tensile_slip=0, lon_min=235, lon_max=255, lat_min=30, lat_max=50, quiver_scale=1e-1)\n",
    "operators.tri_station = celeri.get_tri_station_operator_okada(meshes, station, command)\n",
    "\n",
    "# Get additional matrix shape information for assembly\n",
    "assembly.index.sz_elastic = operators.okada_segment_station.shape # Not sure this is correct\n",
    "assembly.index.sz_slip = operators.slip_rate_segment_block.shape # Not sure this is correct\n",
    "assembly.index.sz_rotation = operators.block_rotation.shape # Not sure this is correct\n",
    "assembly = celeri.station_row_keep(assembly) # Not sure this is correct"
   ],
   "outputs": [],
   "metadata": {
    "tags": []
   }
  },
  {
   "cell_type": "code",
   "execution_count": null,
   "source": [
    "celeri.get_all_mesh_smoothing_matrices(meshes)  #TODO: I don't think this is right because I only see terms on the main diagonal.\n",
    "plt.figure()\n",
    "plt.imshow(meshes[0].smoothing_matrix.toarray()[0:40, 0:40])\n",
    "plt.colorbar()\n",
    "plt.show()"
   ],
   "outputs": [],
   "metadata": {}
  },
  {
   "cell_type": "code",
   "execution_count": null,
   "source": [
    "import copy\n",
    "# Let's prescribe and recover a Cascadia slip model without any blocks.  Essentially coseismic slip\n",
    "\n",
    "def get_synthetic_displacements(mesh, tri_linear_operator):\n",
    "    tri_centroid_to_mesh_lon = mesh.centroids[:, 0] - np.mean(mesh.centroids[:, 0])\n",
    "    tri_centroid_to_mesh_lat = mesh.centroids[:, 1] - np.mean(mesh.centroids[:, 1])\n",
    "    tri_centroid_to_mesh_centroid_distance = np.sqrt(tri_centroid_to_mesh_lon ** 2 + tri_centroid_to_mesh_lat ** 2)\n",
    "    dip_slip_distribution = np.exp(-(tri_centroid_to_mesh_centroid_distance / 1.0) ** 2.0)\n",
    "    slip_distribution = np.zeros(2 * dip_slip_distribution.size)\n",
    "    slip_distribution[1::2] = dip_slip_distribution # Dip slip only\n",
    "    synthetic_displacements = tri_linear_operator @ slip_distribution\n",
    "    return slip_distribution, synthetic_displacements\n",
    "\n",
    "\n",
    "# Shrink operators.tri_station so that there are no vertical displacments and no tensile slip\n",
    "T = copy.deepcopy(operators.tri_station)\n",
    "T = np.delete(T, np.arange(2, T.shape[0], 3), axis=0)\n",
    "T = np.delete(T, np.arange(2, T.shape[1], 3), axis=1)\n",
    "\n",
    "# Generate Guassian slip source and synthetic displacements\n",
    "slip_distribution, synthetic_displacements = get_synthetic_displacements(meshes[0], T)\n",
    "\n",
    "# Visualize prescibed slip and synthetic displacements\n",
    "plt.figure()\n",
    "plt.scatter(meshes[0].centroids[:, 0], meshes[0].centroids[:, 1], s=2, c=slip_distribution[1::2], alpha=0.5)\n",
    "plt.colorbar()\n",
    "plt.quiver(station.lon, station.lat, synthetic_displacements[0::2], synthetic_displacements[1::2], scale=2e0)\n",
    "plt.gca().set_aspect(\"equal\", adjustable=\"box\")\n",
    "plt.xlim([230.0, 245.0])\n",
    "plt.ylim([37.5, 52.5])\n",
    "plt.show()\n",
    "\n",
    "# TODO: Arrange linear system for solve\n",
    "\n",
    "# TODO: Solve for coseismic slip distribution\n",
    "estimated_slip_distribution = np.linalg.lstsq(T, synthetic_displacements, rcond=None)\n",
    "\n",
    "\n",
    "# TODO: Visualized prescribed and recovered slip\n",
    "plt.figure()\n",
    "plt.scatter(meshes[0].centroids[:, 0], meshes[0].centroids[:, 1], s=2, c=estimated_slip_distribution[0][1::2], alpha=0.5)\n",
    "plt.colorbar()\n",
    "# plt.quiver(station.lon, station.lat, synthetic_displacements[0::2], synthetic_displacements[1::2], scale=2e0)\n",
    "plt.gca().set_aspect(\"equal\", adjustable=\"box\")\n",
    "plt.xlim([230.0, 245.0])\n",
    "plt.ylim([37.5, 52.5])\n",
    "plt.show()"
   ],
   "outputs": [],
   "metadata": {}
  },
  {
   "cell_type": "code",
   "execution_count": null,
   "source": [
    "plt.figure(figsize=(12, 7))\n",
    "\n",
    "plt.subplot(2, 2, 1)\n",
    "plt.title(\"input strike-slip\")\n",
    "plt.scatter(meshes[0].centroids[:, 0], meshes[0].centroids[:, 1], s=2, c=slip_distribution[0::2], alpha=0.5)\n",
    "plt.colorbar()\n",
    "plt.gca().set_aspect(\"equal\", adjustable=\"box\")\n",
    "plt.xlim([230.0, 245.0])\n",
    "plt.ylim([37.5, 52.5])\n",
    "\n",
    "plt.subplot(2, 2, 2)\n",
    "plt.title(\"input dip-slip\")\n",
    "plt.scatter(meshes[0].centroids[:, 0], meshes[0].centroids[:, 1], s=2, c=slip_distribution[1::2], alpha=0.5)\n",
    "plt.colorbar()\n",
    "plt.gca().set_aspect(\"equal\", adjustable=\"box\")\n",
    "plt.xlim([230.0, 245.0])\n",
    "plt.ylim([37.5, 52.5])\n",
    "\n",
    "plt.subplot(2, 2, 3)\n",
    "plt.title(\"estimated strike-slip\")\n",
    "plt.scatter(meshes[0].centroids[:, 0], meshes[0].centroids[:, 1], s=2, c=estimated_slip_distribution[0][0::2], alpha=0.5)\n",
    "plt.colorbar()\n",
    "plt.gca().set_aspect(\"equal\", adjustable=\"box\")\n",
    "plt.xlim([230.0, 245.0])\n",
    "plt.ylim([37.5, 52.5])\n",
    "\n",
    "plt.subplot(2, 2, 4)\n",
    "plt.title(\"estimated dip-slip\")\n",
    "plt.scatter(meshes[0].centroids[:, 0], meshes[0].centroids[:, 1], s=2, c=estimated_slip_distribution[0][1::2], alpha=0.5)\n",
    "plt.colorbar()\n",
    "plt.gca().set_aspect(\"equal\", adjustable=\"box\")\n",
    "plt.xlim([230.0, 245.0])\n",
    "plt.ylim([37.5, 52.5])\n",
    "plt.show()"
   ],
   "outputs": [],
   "metadata": {}
  },
  {
   "cell_type": "code",
   "execution_count": null,
   "source": [
    "estimated_slip_distribution[0]"
   ],
   "outputs": [],
   "metadata": {}
  },
  {
   "cell_type": "code",
   "execution_count": null,
   "source": [],
   "outputs": [],
   "metadata": {}
  }
 ],
 "metadata": {
  "interpreter": {
   "hash": "1c99b817e7692020a25f5bce5fd58f988aabefee874a9cd895a1468d49750c9a"
  },
  "kernelspec": {
   "name": "python3",
   "display_name": "Python 3.9.6 64-bit ('celeri': conda)"
  },
  "language_info": {
   "codemirror_mode": {
    "name": "ipython",
    "version": 3
   },
   "file_extension": ".py",
   "mimetype": "text/x-python",
   "name": "python",
   "nbconvert_exporter": "python",
   "pygments_lexer": "ipython3",
   "version": "3.9.6"
  },
  "widgets": {
   "application/vnd.jupyter.widget-state+json": {
    "state": {
     "4d250c5d35aa493295ca814fb3eaa1ee": {
      "model_module": "@jupyter-widgets/base",
      "model_module_version": "1.2.0",
      "model_name": "LayoutModel",
      "state": {}
     },
     "6faf75ca5f3b41388f284e98ec2cf803": {
      "model_module": "jupyter-matplotlib",
      "model_module_version": "^0.9.0",
      "model_name": "ToolbarModel",
      "state": {
       "layout": "IPY_MODEL_9b061db2dc65459ca586b9b9f73c2362",
       "toolitems": [
        [
         "Home",
         "Reset original view",
         "home",
         "home"
        ],
        [
         "Back",
         "Back to previous view",
         "arrow-left",
         "back"
        ],
        [
         "Forward",
         "Forward to next view",
         "arrow-right",
         "forward"
        ],
        [
         "Pan",
         "Left button pans, Right button zooms\nx/y fixes axis, CTRL fixes aspect",
         "arrows",
         "pan"
        ],
        [
         "Zoom",
         "Zoom to rectangle\nx/y fixes axis, CTRL fixes aspect",
         "square-o",
         "zoom"
        ],
        [
         "Download",
         "Download plot",
         "floppy-o",
         "save_figure"
        ]
       ]
      }
     },
     "9b061db2dc65459ca586b9b9f73c2362": {
      "model_module": "@jupyter-widgets/base",
      "model_module_version": "1.2.0",
      "model_name": "LayoutModel",
      "state": {}
     },
     "c25a38234e8f4e818670d9767f95a430": {
      "model_module": "jupyter-matplotlib",
      "model_module_version": "^0.9.0",
      "model_name": "MPLCanvasModel",
      "state": {
       "_cursor": "default",
       "_figure_label": "Figure 1",
       "_height": 708,
       "_width": 1746,
       "layout": "IPY_MODEL_4d250c5d35aa493295ca814fb3eaa1ee",
       "toolbar": "IPY_MODEL_6faf75ca5f3b41388f284e98ec2cf803",
       "toolbar_position": "left"
      }
     }
    },
    "version_major": 2,
    "version_minor": 0
   }
  }
 },
 "nbformat": 4,
 "nbformat_minor": 4
}