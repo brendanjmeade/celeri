{
 "cells": [
  {
   "cell_type": "code",
   "execution_count": null,
   "source": [
    "%matplotlib widget\n",
    "%config InlineBackend.figure_format = 'svg'\n",
    "%load_ext line_profiler # Example: %lprun -T lprof0 -f celeri.celeri.get_okada_displacements u_east, u_north, u_up = celeri.get_okada_displacements(segment.lon1.values[segment_idx], segment.lat1[segment_idx], segment.lon2[segment_idx], segment.lat2[segment_idx], segment.locking_depth[segment_idx], segment.burial_depth[segment_idx], segment.dip[segment_idx], command.material_lambda, command.material_mu, 1, 0, 0, station.lon, station.lat)"
   ],
   "outputs": [],
   "metadata": {
    "execution": {
     "iopub.execute_input": "2021-08-22T18:29:50.539195Z",
     "iopub.status.busy": "2021-08-22T18:29:50.538938Z",
     "iopub.status.idle": "2021-08-22T18:29:50.550334Z",
     "shell.execute_reply": "2021-08-22T18:29:50.549700Z",
     "shell.execute_reply.started": "2021-08-22T18:29:50.539169Z"
    },
    "tags": []
   }
  },
  {
   "cell_type": "code",
   "execution_count": null,
   "source": [
    "import addict\n",
    "import numpy as np\n",
    "import pandas as pd\n",
    "import matplotlib.pyplot as plt\n",
    "from importlib import reload\n",
    "from tqdm.notebook import tqdm\n",
    "\n",
    "import celeri\n",
    "celeri = reload(celeri)\n",
    "\n",
    "# Plotting the global model is much much faster with tex fonts turned off\n",
    "plt.rcParams['text.usetex'] = False"
   ],
   "outputs": [],
   "metadata": {
    "execution": {
     "iopub.execute_input": "2021-08-22T18:29:51.661926Z",
     "iopub.status.busy": "2021-08-22T18:29:51.661659Z",
     "iopub.status.idle": "2021-08-22T18:29:51.956035Z",
     "shell.execute_reply": "2021-08-22T18:29:51.955292Z",
     "shell.execute_reply.started": "2021-08-22T18:29:51.661900Z"
    },
    "tags": []
   }
  },
  {
   "cell_type": "code",
   "execution_count": null,
   "source": [
    "command_file_name = \"./data/western_north_america/basic_command.json\"\n",
    "command, segment, block, meshes, station, mogi, sar = celeri.read_data(command_file_name)\n",
    "station = celeri.process_station(station, command)\n",
    "segment = celeri.process_segment(segment, command, meshes)\n",
    "sar = celeri.process_sar(sar, command)\n",
    "closure, block = celeri.assign_block_labels(segment, station, block, mogi, sar)\n",
    "celeri.plot_block_labels(segment, block, station, closure)"
   ],
   "outputs": [],
   "metadata": {
    "execution": {
     "iopub.execute_input": "2021-08-22T18:29:53.570589Z",
     "iopub.status.busy": "2021-08-22T18:29:53.570331Z",
     "iopub.status.idle": "2021-08-22T18:30:09.817977Z",
     "shell.execute_reply": "2021-08-22T18:30:09.817443Z",
     "shell.execute_reply.started": "2021-08-22T18:29:53.570561Z"
    },
    "tags": []
   }
  },
  {
   "cell_type": "code",
   "execution_count": null,
   "source": [
    "assembly = addict.Dict()\n",
    "operators = addict.Dict()\n",
    "assembly = celeri.merge_geodetic_data(assembly, station, sar)\n",
    "assembly, operators.block_motion_constraints = celeri.block_constraints(assembly, block, command)\n",
    "assembly, operators.slip_rate_constraints = celeri.slip_rate_constraints(assembly, segment, block, command)\n",
    "operators.okada_segment_station = celeri.get_segment_station_operator_okada(segment, station, command)\n",
    "celeri.plot_segment_displacements(segment, station, command, segment_idx=0, strike_slip=1, dip_slip=0, tensile_slip=0, lon_min=235, lon_max=255, lat_min=30, lat_max=50, quiver_scale=1e-1)\n",
    "operators.slip_rate_segment_block = celeri.get_fault_slip_rate_partials(segment, block)\n",
    "assembly.index.sz_elastic = operators.okada_segment_station.shape # Not sure this is correct\n",
    "assembly.index.sz_slip = operators.slip_rate_segment_block.shape # Not sure this is correct\n",
    "operators.block_rotation = celeri.get_block_rotation_operator(station, block)\n",
    "assembly.index.sz_rotation = operators.block_rotation.shape # Not sure this is correct\n",
    "assembly = celeri.station_row_keep(assembly) # Not sure this is correct\n",
    "operators.block_strain_rate, strain_rate_block_idx = celeri.get_strain_rate_centroid_operator(block, station, segment) # This function need work\n",
    "operators.mogi_station = celeri.get_mogi_operator(mogi, station, command)\n",
    "block_strain_rate_operator, strain_rate_block_idx = celeri.get_strain_rate_centroid_operator(block, station, segment)\n",
    "celeri.plot_strain_rate_components_for_block(closure, segment, station, block_idx=0)"
   ],
   "outputs": [],
   "metadata": {
    "tags": []
   }
  },
  {
   "cell_type": "code",
   "execution_count": 142,
   "source": [
    "a = station.to_dict()"
   ],
   "outputs": [],
   "metadata": {}
  },
  {
   "cell_type": "code",
   "execution_count": 175,
   "source": [
    "# def get_block_rotation_operator(station, block):\n",
    "#     \"\"\"\n",
    "#     Get partial derivatives relating displacement to Euler pole rotation\n",
    "#     TODO: Do I have to reoder the blocks dataframe so that block label 0 is at the top?\n",
    "#     If so this should be done right after the block closure algorithm is run rather than here.\n",
    "#     \"\"\"\n",
    "#     block_rotation_operator = np.zeros((3 * len(station), 3 * len(block)))\n",
    "#     for i in range(len(station)):\n",
    "#         start_row_idx = 3 + i\n",
    "#         start_column_idx = 3 * station.block_label[i]\n",
    "#         cross_product_operator = celeri.get_cross_partials(\n",
    "#             [station.x[i], station.y[i], station.z[i]]\n",
    "#         )\n",
    "#         vn_wx, ve_wx, vu_wx = celeri.cartesian_vector_to_spherical_vector(\n",
    "#             cross_product_operator[0, 0],\n",
    "#             cross_product_operator[1, 0],\n",
    "#             cross_product_operator[2, 0],\n",
    "#             station.lon[i],\n",
    "#             station.lat[i],\n",
    "#         )\n",
    "#         vn_wy, ve_wy, vu_wy = celeri.cartesian_vector_to_spherical_vector(\n",
    "#             cross_product_operator[0, 1],\n",
    "#             cross_product_operator[1, 1],\n",
    "#             cross_product_operator[2, 1],\n",
    "#             station.lon[i],\n",
    "#             station.lat[i],\n",
    "#         )\n",
    "#         vn_wz, ve_wz, vu_wz = celeri.cartesian_vector_to_spherical_vector(\n",
    "#             cross_product_operator[0, 2],\n",
    "#             cross_product_operator[1, 2],\n",
    "#             cross_product_operator[2, 2],\n",
    "#             station.lon[i],\n",
    "#             station.lat[i],\n",
    "#         )\n",
    "#         block_rotation_operator[\n",
    "#             start_row_idx : start_row_idx + 3, start_column_idx : start_column_idx + 3\n",
    "#         ] = np.array(\n",
    "#             [[ve_wx, ve_wy, ve_wz], [vn_wx, vn_wy, vn_wz], [vu_wx, vu_wy, vu_wz]]\n",
    "#         )\n",
    "#     return block_rotation_operator\n",
    "\n",
    "# TODO: Function to take rotation vector and predict enu velocities on a block or at all stations\n",
    "\n",
    "\n",
    "def get_rotation_displacements(station, omega_x, omega_y, omega_z):\n",
    "    \"\"\"\n",
    "    Get displacments at all stations\n",
    "    \"\"\"\n",
    "    vel_east = np.zeros(len(station))\n",
    "    vel_north = np.zeros(len(station))\n",
    "    vel_up = np.zeros(len(station))\n",
    "    for i in range(len(station)):\n",
    "        cross_product_operator = celeri.get_cross_partials([station.x.values[i], station.y.values[i], station.z.values[i]])\n",
    "        vel_north_from_omega_x, vel_east_from_omega_x, vel_up_from_omega_x = celeri.cartesian_vector_to_spherical_vector(cross_product_operator[0, 0], cross_product_operator[1, 0], cross_product_operator[2, 0], station.lon.values[i], station.lat.values[i])\n",
    "        vel_north_from_omega_y, vel_east_from_omega_y, vel_up_from_omega_y = celeri.cartesian_vector_to_spherical_vector(cross_product_operator[0, 1], cross_product_operator[1, 1], cross_product_operator[2, 1], station.lon.values[i], station.lat.values[i])\n",
    "        vel_north_from_omega_z, vel_east_from_omega_z, vel_up_from_omega_z = celeri.cartesian_vector_to_spherical_vector(cross_product_operator[0, 2], cross_product_operator[1, 2], cross_product_operator[2, 2], station.lon.values[i], station.lat.values[i])\n",
    "        vel_east[i] = omega_x * vel_east_from_omega_x + omega_y * vel_east_from_omega_y + omega_z * vel_east_from_omega_z\n",
    "        vel_north[i] = omega_x * vel_north_from_omega_x + omega_y * vel_north_from_omega_y + omega_z * vel_north_from_omega_z\n",
    "    return vel_east, vel_north, vel_up\n",
    "\n",
    "\n",
    "block_idx = 4\n",
    "vel_east, vel_north, vel_up = get_rotation_displacements(station[station.block_label==block_idx], omega_x=1, omega_y=0, omega_z=0)\n",
    "\n",
    "plt.figure()\n",
    "plt.plot(vel_east, \"-r\")\n",
    "plt.plot(vel_north, \"-b\")\n",
    "plt.plot(vel_up, \"-g\")\n",
    "plt.show()\n",
    "print(len(station))\n"
   ],
   "outputs": [
    {
     "output_type": "display_data",
     "data": {
      "text/plain": [
       "Canvas(toolbar=Toolbar(toolitems=[('Home', 'Reset original view', 'home', 'home'), ('Back', 'Back to previous …"
      ],
      "application/vnd.jupyter.widget-view+json": {
       "version_major": 2,
       "version_minor": 0,
       "model_id": "5c4e82bf6e824d19a04bf24c83a145f9"
      }
     },
     "metadata": {}
    },
    {
     "output_type": "stream",
     "name": "stdout",
     "text": [
      "1686\n"
     ]
    }
   ],
   "metadata": {}
  },
  {
   "cell_type": "code",
   "execution_count": 176,
   "source": [
    "\n",
    "\n",
    "def plot_strain_rate_components_for_block(closure, station, block_idx):\n",
    "    plt.figure(figsize=(10, 3))\n",
    "    plt.subplot(1, 3, 1)\n",
    "    vel_east, vel_north, vel_up = get_rotation_displacements(\n",
    "        station,\n",
    "        omega_x=1,\n",
    "        omega_y=0,\n",
    "        omega_z=0,\n",
    "    )\n",
    "    for i in range(closure.n_polygons()):\n",
    "        plt.plot(\n",
    "            closure.polygons[i].vertices[:, 0],\n",
    "            closure.polygons[i].vertices[:, 1],\n",
    "            \"k-\",\n",
    "            linewidth=0.5,\n",
    "        )\n",
    "    plt.quiver(\n",
    "        station.lon,\n",
    "        station.lat,\n",
    "        vel_east,\n",
    "        vel_north,\n",
    "        scale=1e7,\n",
    "        scale_units=\"inches\",\n",
    "        color=\"r\",\n",
    "    )\n",
    "\n",
    "    plt.subplot(1, 3, 2)\n",
    "    vel_east, vel_north, vel_up = get_rotation_displacements(\n",
    "        station,\n",
    "        omega_x=0,\n",
    "        omega_y=1,\n",
    "        omega_z=0,\n",
    "    )\n",
    "    for i in range(closure.n_polygons()):\n",
    "        plt.plot(\n",
    "            closure.polygons[i].vertices[:, 0],\n",
    "            closure.polygons[i].vertices[:, 1],\n",
    "            \"k-\",\n",
    "            linewidth=0.5,\n",
    "        )\n",
    "    plt.quiver(\n",
    "        station.lon,\n",
    "        station.lat,\n",
    "        vel_east,\n",
    "        vel_north,\n",
    "        scale=1e7,\n",
    "        scale_units=\"inches\",\n",
    "        color=\"r\",\n",
    "    )\n",
    "\n",
    "    plt.subplot(1, 3, 3)\n",
    "    vel_east, vel_north, vel_up = get_rotation_displacements(\n",
    "        station,\n",
    "        omega_x=0,\n",
    "        omega_y=0,\n",
    "        omega_z=1,\n",
    "    )\n",
    "    for i in range(closure.n_polygons()):\n",
    "        plt.plot(\n",
    "            closure.polygons[i].vertices[:, 0],\n",
    "            closure.polygons[i].vertices[:, 1],\n",
    "            \"k-\",\n",
    "            linewidth=0.5,\n",
    "        )\n",
    "    plt.quiver(\n",
    "        station.lon,\n",
    "        station.lat,\n",
    "        vel_east,\n",
    "        vel_north,\n",
    "        scale=1e7,\n",
    "        scale_units=\"inches\",\n",
    "        color=\"r\",\n",
    "    )\n",
    "    plt.show()\n",
    "\n",
    "plot_strain_rate_components_for_block(closure, station, block_idx)\n"
   ],
   "outputs": [
    {
     "output_type": "display_data",
     "data": {
      "text/plain": [
       "Canvas(toolbar=Toolbar(toolitems=[('Home', 'Reset original view', 'home', 'home'), ('Back', 'Back to previous …"
      ],
      "application/vnd.jupyter.widget-view+json": {
       "version_major": 2,
       "version_minor": 0,
       "model_id": "71da6bd5873d4d4eb8499d57f1985e43"
      }
     },
     "metadata": {}
    }
   ],
   "metadata": {}
  },
  {
   "cell_type": "code",
   "execution_count": 156,
   "source": [
    "len(a)\n",
    "len(station)"
   ],
   "outputs": [
    {
     "output_type": "execute_result",
     "data": {
      "text/plain": [
       "1686"
      ]
     },
     "metadata": {},
     "execution_count": 156
    }
   ],
   "metadata": {}
  },
  {
   "cell_type": "code",
   "execution_count": null,
   "source": [],
   "outputs": [],
   "metadata": {}
  }
 ],
 "metadata": {
  "interpreter": {
   "hash": "1c99b817e7692020a25f5bce5fd58f988aabefee874a9cd895a1468d49750c9a"
  },
  "kernelspec": {
   "name": "python3",
   "display_name": "Python 3.9.6 64-bit ('celeri': conda)"
  },
  "language_info": {
   "codemirror_mode": {
    "name": "ipython",
    "version": 3
   },
   "file_extension": ".py",
   "mimetype": "text/x-python",
   "name": "python",
   "nbconvert_exporter": "python",
   "pygments_lexer": "ipython3",
   "version": "3.9.6"
  },
  "widgets": {
   "application/vnd.jupyter.widget-state+json": {
    "state": {
     "4d250c5d35aa493295ca814fb3eaa1ee": {
      "model_module": "@jupyter-widgets/base",
      "model_module_version": "1.2.0",
      "model_name": "LayoutModel",
      "state": {}
     },
     "6faf75ca5f3b41388f284e98ec2cf803": {
      "model_module": "jupyter-matplotlib",
      "model_module_version": "^0.9.0",
      "model_name": "ToolbarModel",
      "state": {
       "layout": "IPY_MODEL_9b061db2dc65459ca586b9b9f73c2362",
       "toolitems": [
        [
         "Home",
         "Reset original view",
         "home",
         "home"
        ],
        [
         "Back",
         "Back to previous view",
         "arrow-left",
         "back"
        ],
        [
         "Forward",
         "Forward to next view",
         "arrow-right",
         "forward"
        ],
        [
         "Pan",
         "Left button pans, Right button zooms\nx/y fixes axis, CTRL fixes aspect",
         "arrows",
         "pan"
        ],
        [
         "Zoom",
         "Zoom to rectangle\nx/y fixes axis, CTRL fixes aspect",
         "square-o",
         "zoom"
        ],
        [
         "Download",
         "Download plot",
         "floppy-o",
         "save_figure"
        ]
       ]
      }
     },
     "9b061db2dc65459ca586b9b9f73c2362": {
      "model_module": "@jupyter-widgets/base",
      "model_module_version": "1.2.0",
      "model_name": "LayoutModel",
      "state": {}
     },
     "c25a38234e8f4e818670d9767f95a430": {
      "model_module": "jupyter-matplotlib",
      "model_module_version": "^0.9.0",
      "model_name": "MPLCanvasModel",
      "state": {
       "_cursor": "default",
       "_figure_label": "Figure 1",
       "_height": 708,
       "_width": 1746,
       "layout": "IPY_MODEL_4d250c5d35aa493295ca814fb3eaa1ee",
       "toolbar": "IPY_MODEL_6faf75ca5f3b41388f284e98ec2cf803",
       "toolbar_position": "left"
      }
     }
    },
    "version_major": 2,
    "version_minor": 0
   }
  }
 },
 "nbformat": 4,
 "nbformat_minor": 4
}