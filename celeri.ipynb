{
 "cells": [
  {
   "cell_type": "code",
   "execution_count": 15,
   "source": [
    "%matplotlib widget\n",
    "%config InlineBackend.figure_format = 'svg'"
   ],
   "outputs": [],
   "metadata": {}
  },
  {
   "cell_type": "code",
   "execution_count": 16,
   "source": [
    "import copy\n",
    "import datetime\n",
    "import os\n",
    "import numpy as np\n",
    "import pandas as pd\n",
    "import matplotlib.pyplot as plt\n",
    "from importlib import reload\n",
    "\n",
    "import celeri\n",
    "celeri = reload(celeri)"
   ],
   "outputs": [],
   "metadata": {
    "tags": []
   }
  },
  {
   "cell_type": "code",
   "execution_count": 18,
   "source": [
    "import celeri\n",
    "celeri = reload(celeri)\n",
    "\n",
    "RUN_NAME = datetime.datetime.now().strftime(\"%y%m%d%H%M%S\") + os.sep\n",
    "command_file_name = './data/western_north_america/western_north_america_command.json'\n",
    "# command_file_name = './data/global/global_command.json'\n",
    "command, segment, block, meshes, station, mogi, sar = celeri.read_data(command_file_name)\n",
    "station = celeri.process_station(station, command)\n",
    "segment = celeri.process_segment(segment, command, meshes)\n",
    "sar = celeri.process_sar(sar, command)\n",
    "segment, station, block, mogi, sar = celeri.assign_block_labels(segment, station, block, mogi, sar)\n",
    "# assembly, operators = celeri.initialize_assembly_and_operators()\n",
    "# assembly = celeri.merge_geodetic_data(assembly, station, sar)\n",
    "# assembly, operators.block_motion_constraints = celeri.block_constraints(assembly, block, command)\n",
    "# assembly, operators.slip_rate_constraints = celeri.slip_rate_constraints(assembly, segment, block, command)\n"
   ],
   "outputs": [],
   "metadata": {
    "tags": []
   }
  },
  {
   "cell_type": "code",
   "execution_count": 25,
   "source": [
    "def initialize_assembly_and_operators():\n",
    "    \"\"\"\n",
    "    Initialize assembly and operators as lightweight objects\n",
    "    The purpose oof this is so that we can use dot notation easily.\n",
    "    \"\"\"\n",
    "\n",
    "    class Operators:\n",
    "        pass\n",
    "\n",
    "    class Assembly:\n",
    "        class data:\n",
    "            pass\n",
    "        class sigma:\n",
    "            pass\n",
    "        class index:\n",
    "            pass\n",
    "\n",
    "    assembly = Assembly()\n",
    "    operators = Operators()\n",
    "    return assembly, operators\n",
    "\n",
    "assembly, operators = initialize_assembly_and_operators()\n",
    "assembly.data.n_stations = len(station)\n",
    "type(assembly.data)\n",
    "\n"
   ],
   "outputs": [
    {
     "output_type": "execute_result",
     "data": {
      "text/plain": [
       "type"
      ]
     },
     "metadata": {},
     "execution_count": 25
    }
   ],
   "metadata": {}
  },
  {
   "cell_type": "code",
   "execution_count": null,
   "source": [],
   "outputs": [],
   "metadata": {}
  }
 ],
 "metadata": {
  "interpreter": {
   "hash": "749f0fc94df05971c9b3f3660cf19264b2aeee03fc6d4bf75e86fd251d69cf68"
  },
  "kernelspec": {
   "name": "python3",
   "display_name": "Python 3.8.8 64-bit ('base': conda)"
  },
  "language_info": {
   "codemirror_mode": {
    "name": "ipython",
    "version": 3
   },
   "file_extension": ".py",
   "mimetype": "text/x-python",
   "name": "python",
   "nbconvert_exporter": "python",
   "pygments_lexer": "ipython3",
   "version": "3.8.8"
  },
  "widgets": {
   "application/vnd.jupyter.widget-state+json": {
    "state": {},
    "version_major": 2,
    "version_minor": 0
   }
  }
 },
 "nbformat": 4,
 "nbformat_minor": 4
}