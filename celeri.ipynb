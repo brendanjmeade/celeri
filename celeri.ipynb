{
 "cells": [
  {
   "cell_type": "code",
   "execution_count": 4,
   "source": [
    "%matplotlib widget\n",
    "%config InlineBackend.figure_format = 'svg'"
   ],
   "outputs": [],
   "metadata": {}
  },
  {
   "cell_type": "code",
   "execution_count": 5,
   "source": [
    "import copy\n",
    "import datetime\n",
    "import json\n",
    "import os\n",
    "import string\n",
    "import numpy as np\n",
    "import pandas as pd\n",
    "import matplotlib.pyplot as plt\n",
    "from importlib import reload\n",
    "\n",
    "import celeri\n",
    "celeri = reload(celeri)"
   ],
   "outputs": [],
   "metadata": {
    "tags": []
   }
  },
  {
   "cell_type": "code",
   "execution_count": 14,
   "source": [
    "RUN_NAME = datetime.datetime.now().strftime(\"%y%m%d%H%M%S\") + os.sep\n",
    "with open('./data/western_north_america/western_north_america_command.json', 'r') as f:\n",
    "    command = json.load(f)\n",
    "segment = pd.read_csv(command[\"segment_file_name\"])\n",
    "block = pd.read_csv(command[\"block_file_name\"])\n",
    "\n",
    "if command.__contains__(\"station_file_name\"):\n",
    "    if len(command[\"station_file_name\"]) != 0:\n",
    "        station = pd.read_csv(command[\"station_file_name\"])\n",
    "    else:\n",
    "        station = pd.DataFrame()\n",
    "else:\n",
    "    station = pd.DataFrame()\n",
    "\n",
    "if command.__contains__(\"mogi_file_name\"):\n",
    "    if len(command[\"mogi_file_name\"]) != 0:\n",
    "        mogi = pd.read_csv(command[\"mogi_file_name\"])\n",
    "    else:\n",
    "        mogi = pd.DataFrame()\n",
    "else:\n",
    "    mogi = pd.DataFrame()\n",
    "\n",
    "if command.__contains__(\"sar_file_name\"):\n",
    "    if len(command[\"sar_file_name\"]) != 0:\n",
    "        sar = pd.read_csv(command[\"sar_file_name\"])\n",
    "    else:\n",
    "        sar = pd.DataFrame()\n",
    "else:\n",
    "    sar = pd.DataFrame()\n"
   ],
   "outputs": [],
   "metadata": {
    "tags": []
   }
  },
  {
   "cell_type": "code",
   "execution_count": 18,
   "source": [
    "not station.empty"
   ],
   "outputs": [
    {
     "output_type": "execute_result",
     "data": {
      "text/plain": [
       "True"
      ]
     },
     "metadata": {},
     "execution_count": 18
    }
   ],
   "metadata": {}
  },
  {
   "cell_type": "code",
   "execution_count": 16,
   "source": [
    "station = celeri.process_station(station, command)\n",
    "segment = celeri.process_segment(segment, command)\n",
    "segment, station, block, sar = celeri.assign_block_labels(segment, station, block, sar)"
   ],
   "outputs": [],
   "metadata": {
    "tags": []
   }
  },
  {
   "cell_type": "code",
   "execution_count": null,
   "source": [
    "plt.figure()\n",
    "plt.title(\"West and east labels\")\n",
    "for i in range(len(segment)):\n",
    "    plt.plot([segment.lon1.values[i], segment.lon2.values[i]],\n",
    "             [segment.lat1.values[i], segment.lat2.values[i]],\n",
    "             \"-k\", linewidth=0.5)\n",
    "    plt.text(segment.mid_lon_plate_carree.values[i],\n",
    "             segment.mid_lat_plate_carree.values[i],\n",
    "             str(segment['west_labels'][i]) + \",\" + str(segment['east_labels'][i]),\n",
    "             fontsize=8, color=\"m\", horizontalalignment=\"center\", verticalalignment=\"center\")\n",
    "\n",
    "for i in range(len(station)):\n",
    "    plt.text(station.lon.values[i],\n",
    "             station.lat.values[i],\n",
    "             str(station.block_label[i]),\n",
    "             fontsize=8, color=\"k\", horizontalalignment=\"center\", verticalalignment=\"center\")\n",
    "\n",
    "for i in range(len(block)):\n",
    "    plt.text(block.interior_lon.values[i],\n",
    "             block.interior_lat.values[i],\n",
    "             str(block.block_label[i]),\n",
    "             fontsize=8, color=\"g\", horizontalalignment=\"center\", verticalalignment=\"center\")\n",
    "\n",
    "plt.gca().set_aspect('equal')\n",
    "plt.show()"
   ],
   "outputs": [
    {
     "output_type": "display_data",
     "data": {
      "text/plain": [
       "Canvas(toolbar=Toolbar(toolitems=[('Home', 'Reset original view', 'home', 'home'), ('Back', 'Back to previous …"
      ],
      "application/vnd.jupyter.widget-view+json": {
       "version_major": 2,
       "version_minor": 0,
       "model_id": "17899f4cec6841c295d4636e22f309e1"
      }
     },
     "metadata": {}
    }
   ],
   "metadata": {}
  },
  {
   "cell_type": "code",
   "execution_count": null,
   "source": [],
   "outputs": [],
   "metadata": {}
  }
 ],
 "metadata": {
  "interpreter": {
   "hash": "749f0fc94df05971c9b3f3660cf19264b2aeee03fc6d4bf75e86fd251d69cf68"
  },
  "kernelspec": {
   "name": "python3",
   "display_name": "Python 3.8.8 64-bit ('base': conda)"
  },
  "language_info": {
   "codemirror_mode": {
    "name": "ipython",
    "version": 3
   },
   "file_extension": ".py",
   "mimetype": "text/x-python",
   "name": "python",
   "nbconvert_exporter": "python",
   "pygments_lexer": "ipython3",
   "version": "3.8.8"
  },
  "widgets": {
   "application/vnd.jupyter.widget-state+json": {
    "state": {},
    "version_major": 2,
    "version_minor": 0
   }
  }
 },
 "nbformat": 4,
 "nbformat_minor": 4
}