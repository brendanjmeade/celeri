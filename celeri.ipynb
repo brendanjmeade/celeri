{
 "cells": [
  {
   "cell_type": "code",
   "execution_count": 1,
   "metadata": {
    "execution": {
     "iopub.execute_input": "2021-08-22T18:29:51.661926Z",
     "iopub.status.busy": "2021-08-22T18:29:51.661659Z",
     "iopub.status.idle": "2021-08-22T18:29:51.956035Z",
     "shell.execute_reply": "2021-08-22T18:29:51.955292Z",
     "shell.execute_reply.started": "2021-08-22T18:29:51.661900Z"
    },
    "tags": []
   },
   "outputs": [],
   "source": [
    "%matplotlib widget\n",
    "%config InlineBackend.figure_format = \"svg\"\n",
    "\n",
    "import addict\n",
    "import copy\n",
    "import numpy as np\n",
    "import pandas as pd\n",
    "import matplotlib.pyplot as plt\n",
    "from importlib import reload\n",
    "from tqdm.notebook import tqdm\n",
    "from typing import List, Dict, Tuple\n",
    "\n",
    "import celeri\n",
    "celeri = reload(celeri)\n",
    "\n",
    "plt.rcParams[\"text.usetex\"] = False # Plotting the global model is much much faster with tex fonts turned off"
   ]
  },
  {
   "cell_type": "markdown",
   "metadata": {},
   "source": [
    "# Read in data files, create storage dictionaries, and do basic processing"
   ]
  },
  {
   "cell_type": "code",
   "execution_count": 2,
   "metadata": {
    "execution": {
     "iopub.execute_input": "2021-08-22T18:29:53.570589Z",
     "iopub.status.busy": "2021-08-22T18:29:53.570331Z",
     "iopub.status.idle": "2021-08-22T18:30:09.817977Z",
     "shell.execute_reply": "2021-08-22T18:30:09.817443Z",
     "shell.execute_reply.started": "2021-08-22T18:29:53.570561Z"
    },
    "tags": []
   },
   "outputs": [
    {
     "name": "stderr",
     "output_type": "stream",
     "text": [
      "WARNING:root:The file contains tag data that couldn't be processed.\n"
     ]
    }
   ],
   "source": [
    "command_file_name = \"./data/western_north_america/basic_command.json\"\n",
    "command, segment, block, meshes, station, mogi, sar = celeri.read_data(command_file_name)\n",
    "station = celeri.process_station(station, command)\n",
    "segment = celeri.process_segment(segment, command, meshes)\n",
    "sar = celeri.process_sar(sar, command)\n",
    "closure, block = celeri.assign_block_labels(segment, station, block, mogi, sar)\n",
    "assembly = addict.Dict()\n",
    "operators = addict.Dict()\n",
    "operators.meshes = [addict.Dict()] * len(meshes)\n",
    "assembly = celeri.merge_geodetic_data(assembly, station, sar) # Not sure this works correctly"
   ]
  },
  {
   "cell_type": "markdown",
   "metadata": {},
   "source": [
    "# Get elastic operators and TDE smoothing operators"
   ]
  },
  {
   "cell_type": "code",
   "execution_count": 3,
   "metadata": {},
   "outputs": [],
   "source": [
    "# Get all elastic operators for segments and TDEs\n",
    "celeri.get_elastic_operators(operators, meshes, segment, station, command)\n",
    "\n",
    "# Get TDE smoothing operators\n",
    "celeri.get_all_mesh_smoothing_matrices(meshes, operators)\n",
    "celeri.get_all_mesh_smoothing_matrices_simple(meshes, operators)"
   ]
  },
  {
   "cell_type": "markdown",
   "metadata": {},
   "source": [
    "# Calculate non-elastic operators"
   ]
  },
  {
   "cell_type": "code",
   "execution_count": 4,
   "metadata": {
    "tags": []
   },
   "outputs": [],
   "source": [
    "# Build all linear kinematic operators\n",
    "operators.rotation_to_velocities = celeri.get_block_rotation_operator(station)\n",
    "operators.global_float_block_rotation = celeri.get_global_float_block_rotation_operator(station)\n",
    "assembly, operators.block_motion_constraints = celeri.block_constraints(assembly, block, command)\n",
    "assembly, operators.slip_rate_constraints = celeri.slip_rate_constraints(assembly, segment, block, command)\n",
    "operators.rotation_to_slip_rate = celeri.get_fault_slip_rate_partials(segment, block)\n",
    "operators.block_strain_rate_to_velocities, strain_rate_block_idx = celeri.get_strain_rate_centroid_operator(block, station, segment)\n",
    "operators.mogi_to_velocities = celeri.get_mogi_operator(mogi, station, command)"
   ]
  },
  {
   "cell_type": "markdown",
   "metadata": {},
   "source": [
    "# Sketching out the assembly of the block model system\n",
    "\n",
    "$$\n",
    "\\begin{bmatrix}\n",
    "    \\mathrm{geodetic \\; velocities} \\\\\n",
    "    \\mathrm{plate \\; rotation \\; constraints} \\\\\n",
    "    \\mathrm{slip \\; rate \\; constraints} \\\\\n",
    "    \\mathrm{TDE \\; rate \\; constraints} \\\\\n",
    "    \\mathrm{TDE \\; smoothing \\; pseudodata = 0} \\\\\n",
    "    \\mathrm{InSAR \\; LOS \\; changes} \n",
    "\\end{bmatrix}\n",
    "=\n",
    "\\begin{bmatrix}\n",
    "    \\mathrm{(rotations-elastic \\; segments) \\; to \\; velocities} & \\mathrm{TDEs \\; to \\; velocities} & \\mathrm{block \\; strain \\; rate \\; to \\; velocities} & \\mathrm{Mogi \\; to \\; velocities}\\\\\n",
    "    \\mathrm{identities}                                          & 0                                   & 0                                & 0\\\\\n",
    "    \\mathrm{plate \\; rotations \\; to \\; slip \\; rates}           & 0                                   & 0                                & 0\\\\\n",
    "    0                                                            & \\mathrm{identities}                 & 0                                & 0\\\\\n",
    "    0                                                            & \\mathrm{TDE \\; smoothing \\; matrix} & 0                                & 0\\\\\n",
    "    \\mathrm{(rotations-elastic \\; segments) \\; to \\; LOS}        & \\mathrm{TDEs \\; to \\; LOS}          & \\mathrm{block \\; strain \\; rate \\; to \\; velocities}  & \\mathrm{Mogi \\; to \\; LOS}\n",
    "\\end{bmatrix}\n",
    "\\begin{bmatrix}\n",
    "    \\mathrm{plate \\; rotation \\; rates} \\\\\n",
    "    \\mathrm{TDE \\; slip \\; rates} \\\\\n",
    "    \\mathrm{block \\; strain \\; rates} \\\\\n",
    "    \\mathrm{Mogi \\; sources} \n",
    "\\end{bmatrix}\n",
    "$$"
   ]
  },
  {
   "cell_type": "markdown",
   "metadata": {},
   "source": [
    "# Block model with block rotations, fully locked segments and partially locked subduction zone using the full tde_matrix and smoothing matrix"
   ]
  },
  {
   "cell_type": "code",
   "execution_count": 5,
   "metadata": {},
   "outputs": [],
   "source": [
    "# TODO: What should this converstion be?\n",
    "DEG_PER_MYR_TO_RAD_PER_YR = np.deg2rad(1) / 1e6\n",
    "DEG_PER_MYR_TO_RAD_PER_YR = 1 / 1e6\n",
    "\n",
    "\n",
    "# Create dictionary to store indices and sizes for operator building\n",
    "# idx.meshes[i].n_tri ???\n",
    "idx = addict.Dict()\n",
    "idx.n_tde = meshes[0].n_tde\n",
    "idx.n_stations = assembly.data.n_stations\n",
    "idx.vertical_velocities = np.arange(2, 3 * idx.n_stations, 3)\n",
    "idx.n_blocks = len(block)\n",
    "idx.n_block_constraints = assembly.data.n_block_constraints\n",
    "idx.start_station_row = 0\n",
    "idx.end_station_row = 2 * len(station)\n",
    "idx.start_block_col = 0\n",
    "idx.end_block_col = len(block)\n",
    "idx.start_tde_col = idx.end_block_col\n",
    "idx.end_tde_col = idx.start_tde_col + idx.n_tde\n",
    "idx.meshes[0].start_tde_col = 0\n",
    "idx.meshes[0].end_tde_col = 0\n",
    "idx.meshes[0].start_tde_eigs_col = 0\n",
    "idx.meshes[0].end_tde_eig_col = 0\n",
    "\n",
    "# Initialize and build data vector\n",
    "data_vector = np.zeros(2 * idx.n_stations + 2 * idx.n_tde + 3 * idx.n_block_constraints)\n",
    "data_vector[0:2 * idx.n_stations] = celeri.interleave2(assembly.data.east_vel, assembly.data.north_vel) # add GPS data\n",
    "data_vector[2 * idx.n_stations + 2 * idx.n_tde:2 * idx.n_stations + 2 * idx.n_tde + 3 * idx.n_block_constraints] = DEG_PER_MYR_TO_RAD_PER_YR * assembly.data.block_constraints # add plate motion constraints Not sure if units are correct\n",
    "\n",
    "# Initialize linear operator\n",
    "estimation = addict.Dict()\n",
    "estimation.operator = np.zeros((2 * idx.n_stations + 2 * idx.n_tde + 3 * idx.n_block_constraints,\n",
    "                     3 * idx.n_blocks + 2 * idx.n_tde))\n",
    "\n",
    "# Insert block rotation and fully coupled segments\n",
    "operators.rotation_to_slip_rate_to_okada_to_velocities = operators.slip_rate_to_okada_to_velocities @ operators.rotation_to_slip_rate\n",
    "operators.rotation_to_slip_rate_to_okada_to_velocities = np.delete(operators.rotation_to_slip_rate_to_okada_to_velocities, idx.vertical_velocities, axis=0)\n",
    "operators.rotation_to_velocities = np.delete(operators.rotation_to_velocities, idx.vertical_velocities, axis=0)\n",
    "\n",
    "# Insert block rotations and elastic velocities from fully locked segments\n",
    "estimation.operator[0:2 * idx.n_stations, 0:3 * idx.n_blocks] = operators.rotation_to_velocities - operators.rotation_to_slip_rate_to_okada_to_velocities\n",
    "\n",
    "# Insert block motion constraints\n",
    "estimation.operator[2 * idx.n_stations + 2 * idx.n_tde:2 * idx.n_stations + 2 * idx.n_tde + 3 * idx.n_block_constraints,\n",
    "         0:3 * idx.n_blocks] = operators.block_motion_constraints\n",
    "\n",
    "tde_keep_row_idx = celeri.get_keep_idx_12(operators.meshes[0].tde_to_velocities.shape[0])\n",
    "tde_keep_col_idx = celeri.get_keep_idx_12(operators.meshes[0].tde_to_velocities.shape[1])\n",
    "estimation.operator[0:2 * idx.n_stations,\n",
    "         3 * idx.n_blocks : 3 * idx.n_blocks + 2 * idx.n_tde] = operators.meshes[0].tde_to_velocities[tde_keep_row_idx, :][:, tde_keep_col_idx]\n",
    "\n",
    "# Insert TDE smoothing matrix\n",
    "smoothing_keep_idx = celeri.get_keep_idx_12(operators.meshes[0].smoothing_matrix.shape[0])\n",
    "estimation.operator[(2 * idx.n_stations + 3 * idx.n_block_constraints): (2 * idx.n_stations + 3 * idx.n_block_constraints + 2 * idx.n_tde),\n",
    "         3 * idx.n_blocks : 3 * idx.n_blocks + 2 * idx.n_tde] = meshes[0].smoothing_weight * operators.meshes[0].smoothing_matrix.toarray()[smoothing_keep_idx, :][:, smoothing_keep_idx]\n",
    "\n",
    "# Solve the overdetermined linear system\n",
    "estimation.state_covariance_matrix = np.linalg.inv(estimation.operator.T @ estimation.operator)\n",
    "estimation.state_vector = estimation.state_covariance_matrix @ estimation.operator.T @ data_vector"
   ]
  },
  {
   "cell_type": "code",
   "execution_count": 6,
   "metadata": {},
   "outputs": [],
   "source": [
    "def post_process_estimation(estimation: Dict, station: pd.DataFrame, idx: Dict) -> None:\n",
    "    \"\"\"Calculate derived values derived from the block model linear estimate (e.g., velocities, undertainties)\n",
    "\n",
    "    Args:\n",
    "        estimation (Dict): Estimated state vector and model covariance\n",
    "        station (pd.DataFrame): GPS station data\n",
    "        idx (Dict): Indices and counts of data and array sizes\n",
    "    \"\"\"    \n",
    "    \n",
    "    estimation.predictions = estimation.operator @ estimation.state_vector\n",
    "    estimation.vel = estimation.predictions[0:2 * idx.n_stations]\n",
    "    estimation.east_vel = estimation.vel[0::2]\n",
    "    estimation.north_vel = estimation.vel[1::2]\n",
    "\n",
    "    # Estimate slip rate uncertainties\n",
    "    estimation.slip_rate_sigma = np.sqrt(np.diag(operators.rotation_to_slip_rate @ estimation.state_covariance_matrix[0:3 * idx.n_blocks, 0:3 * idx.n_blocks] @ operators.rotation_to_slip_rate.T)) # I don't think this is correct because for the case when there is a rotation vector a priori\n",
    "    estimation.strike_slip_rate_sigma = estimation.slip_rate_sigma[0::3]\n",
    "    estimation.dip_slip_rate_sigma = estimation.slip_rate_sigma[1::3]\n",
    "    estimation.tensile_slip_rate_sigma = estimation.slip_rate_sigma[2::3]\n",
    "\n",
    "    # Calculate mean squared residual velocity\n",
    "    estimation.east_vel_residual = estimation.east_vel - station.east_vel\n",
    "    estimation.north_vel_residual = estimation.north_vel - station.north_vel\n",
    "\n",
    "    # Extract TDE slip rates from state vector\n",
    "    estimation.tde_rates = estimation.state_vector[3 * idx.n_blocks : 3 * idx.n_blocks + 2 * idx.n_tde]\n",
    "    estimation.tde_strike_slip_rates = estimation.tde_rates[0::2]\n",
    "    estimation.tde_dip_slip_rates = estimation.tde_rates[1::2]\n",
    "\n",
    "    # Extract segment slip rates from state vector\n",
    "    estimation.slip_rates = operators.rotation_to_slip_rate @ estimation.state_vector[0:3 * idx.n_blocks]\n",
    "    estimation.strike_slip_rates = estimation.slip_rates[0::3]\n",
    "    estimation.dip_slip_rates = estimation.slip_rates[1::3]\n",
    "    estimation.tensile_slip_rates = estimation.slip_rates[2::3]\n",
    "\n",
    "    # Calculate rotation only velocities\n",
    "    estimation.vel_rotation = operators.rotation_to_velocities @ estimation.state_vector[0:3 * idx.n_blocks]\n",
    "    estimation.east_vel_rotation = estimation.vel_rotation[0::2]\n",
    "    estimation.north_vel_rotation = estimation.vel_rotation[1::2]\n",
    "\n",
    "    # Calculate fully locked segment velocities\n",
    "    estimation.vel_elastic_segment = operators.rotation_to_slip_rate_to_okada_to_velocities @ estimation.state_vector[0:3 * idx.n_blocks]\n",
    "    estimation.east_vel_elastic_segment = estimation.vel_elastic_segment[0::2]\n",
    "    estimation.north_vel_elastic_segment = estimation.vel_elastic_segment[1::2]\n",
    "\n",
    "    # Calculate TDE velocities\n",
    "    tde_keep_row_idx = celeri.get_keep_idx_12(operators.meshes[0].tde_to_velocities.shape[0])\n",
    "    tde_keep_col_idx = celeri.get_keep_idx_12(operators.meshes[0].tde_to_velocities.shape[1])\n",
    "    estimation.vel_tde = operators.meshes[0].tde_to_velocities[tde_keep_row_idx, :][:, tde_keep_col_idx] @ estimation.state_vector[3 * idx.n_blocks:]\n",
    "    estimation.east_vel_tde = estimation.vel_tde[0::2]\n",
    "    estimation.north_vel_tde = estimation.vel_tde[1::2]\n",
    "\n",
    "post_process_estimation(estimation, station, idx)"
   ]
  },
  {
   "cell_type": "markdown",
   "metadata": {},
   "source": [
    "# Plot model summary "
   ]
  },
  {
   "cell_type": "code",
   "execution_count": 7,
   "metadata": {},
   "outputs": [
    {
     "data": {
      "application/vnd.jupyter.widget-view+json": {
       "model_id": "16766c8647614bd19bb4897ff286ceb9",
       "version_major": 2,
       "version_minor": 0
      },
      "text/plain": [
       "Canvas(toolbar=Toolbar(toolitems=[('Home', 'Reset original view', 'home', 'home'), ('Back', 'Back to previous …"
      ]
     },
     "metadata": {},
     "output_type": "display_data"
    }
   ],
   "source": [
    "celeri.plot_estimation_summary(segment, station, estimation, lon_range=(225, 250), lat_range=(30, 52), quiver_scale=1e2)"
   ]
  },
  {
   "cell_type": "code",
   "execution_count": 8,
   "metadata": {},
   "outputs": [
    {
     "ename": "NameError",
     "evalue": "name 'operator' is not defined",
     "output_type": "error",
     "traceback": [
      "\u001b[0;31m---------------------------------------------------------------------------\u001b[0m",
      "\u001b[0;31mNameError\u001b[0m                                 Traceback (most recent call last)",
      "\u001b[0;32m/var/folders/fl/sm71y44x3tqc7r1wc40k10gc0000gn/T/ipykernel_17230/396411914.py\u001b[0m in \u001b[0;36m<module>\u001b[0;34m\u001b[0m\n\u001b[0;32m----> 1\u001b[0;31m \u001b[0moperator_eps\u001b[0m \u001b[0;34m=\u001b[0m \u001b[0mcopy\u001b[0m\u001b[0;34m.\u001b[0m\u001b[0mdeepcopy\u001b[0m\u001b[0;34m(\u001b[0m\u001b[0moperator\u001b[0m\u001b[0;34m)\u001b[0m \u001b[0;34m+\u001b[0m \u001b[0;36m1e-10\u001b[0m\u001b[0;34m\u001b[0m\u001b[0;34m\u001b[0m\u001b[0m\n\u001b[0m\u001b[1;32m      2\u001b[0m \u001b[0mplt\u001b[0m\u001b[0;34m.\u001b[0m\u001b[0mfigure\u001b[0m\u001b[0;34m(\u001b[0m\u001b[0;34m)\u001b[0m\u001b[0;34m\u001b[0m\u001b[0;34m\u001b[0m\u001b[0m\n\u001b[1;32m      3\u001b[0m \u001b[0mplt\u001b[0m\u001b[0;34m.\u001b[0m\u001b[0mimshow\u001b[0m\u001b[0;34m(\u001b[0m\u001b[0mnp\u001b[0m\u001b[0;34m.\u001b[0m\u001b[0mlog10\u001b[0m\u001b[0;34m(\u001b[0m\u001b[0mnp\u001b[0m\u001b[0;34m.\u001b[0m\u001b[0mabs\u001b[0m\u001b[0;34m(\u001b[0m\u001b[0moperator_eps\u001b[0m\u001b[0;34m)\u001b[0m\u001b[0;34m)\u001b[0m\u001b[0;34m,\u001b[0m \u001b[0mcmap\u001b[0m\u001b[0;34m=\u001b[0m\u001b[0;34m\"plasma\"\u001b[0m\u001b[0;34m)\u001b[0m\u001b[0;34m\u001b[0m\u001b[0;34m\u001b[0m\u001b[0m\n\u001b[1;32m      4\u001b[0m \u001b[0mplt\u001b[0m\u001b[0;34m.\u001b[0m\u001b[0mcolorbar\u001b[0m\u001b[0;34m(\u001b[0m\u001b[0;34m)\u001b[0m\u001b[0;34m\u001b[0m\u001b[0;34m\u001b[0m\u001b[0m\n\u001b[1;32m      5\u001b[0m \u001b[0mplt\u001b[0m\u001b[0;34m.\u001b[0m\u001b[0mshow\u001b[0m\u001b[0;34m(\u001b[0m\u001b[0;34m)\u001b[0m\u001b[0;34m\u001b[0m\u001b[0;34m\u001b[0m\u001b[0m\n",
      "\u001b[0;31mNameError\u001b[0m: name 'operator' is not defined"
     ]
    }
   ],
   "source": [
    "operator_eps = copy.deepcopy(operator) + 1e-10\n",
    "plt.figure()\n",
    "plt.imshow(np.log10(np.abs(operator_eps)), cmap=\"plasma\")\n",
    "plt.colorbar()\n",
    "plt.show()"
   ]
  },
  {
   "cell_type": "code",
   "execution_count": null,
   "metadata": {},
   "outputs": [],
   "source": [
    "meshes[0].n_tde"
   ]
  },
  {
   "cell_type": "code",
   "execution_count": null,
   "metadata": {},
   "outputs": [],
   "source": []
  }
 ],
 "metadata": {
  "interpreter": {
   "hash": "b49ecae73d9755d1e6525bca8f2b993ba748c0e2e7c79677d2e15f06ac3538b9"
  },
  "kernelspec": {
   "display_name": "Python 3.9.6 64-bit ('celeri': conda)",
   "name": "python3"
  },
  "language_info": {
   "codemirror_mode": {
    "name": "ipython",
    "version": 3
   },
   "file_extension": ".py",
   "mimetype": "text/x-python",
   "name": "python",
   "nbconvert_exporter": "python",
   "pygments_lexer": "ipython3",
   "version": "3.9.6"
  },
  "widgets": {
   "application/vnd.jupyter.widget-state+json": {
    "state": {
     "4d250c5d35aa493295ca814fb3eaa1ee": {
      "model_module": "@jupyter-widgets/base",
      "model_module_version": "1.2.0",
      "model_name": "LayoutModel",
      "state": {}
     },
     "6faf75ca5f3b41388f284e98ec2cf803": {
      "model_module": "jupyter-matplotlib",
      "model_module_version": "^0.9.0",
      "model_name": "ToolbarModel",
      "state": {
       "layout": "IPY_MODEL_9b061db2dc65459ca586b9b9f73c2362",
       "toolitems": [
        [
         "Home",
         "Reset original view",
         "home",
         "home"
        ],
        [
         "Back",
         "Back to previous view",
         "arrow-left",
         "back"
        ],
        [
         "Forward",
         "Forward to next view",
         "arrow-right",
         "forward"
        ],
        [
         "Pan",
         "Left button pans, Right button zooms\nx/y fixes axis, CTRL fixes aspect",
         "arrows",
         "pan"
        ],
        [
         "Zoom",
         "Zoom to rectangle\nx/y fixes axis, CTRL fixes aspect",
         "square-o",
         "zoom"
        ],
        [
         "Download",
         "Download plot",
         "floppy-o",
         "save_figure"
        ]
       ]
      }
     },
     "9b061db2dc65459ca586b9b9f73c2362": {
      "model_module": "@jupyter-widgets/base",
      "model_module_version": "1.2.0",
      "model_name": "LayoutModel",
      "state": {}
     },
     "c25a38234e8f4e818670d9767f95a430": {
      "model_module": "jupyter-matplotlib",
      "model_module_version": "^0.9.0",
      "model_name": "MPLCanvasModel",
      "state": {
       "_cursor": "default",
       "_figure_label": "Figure 1",
       "_height": 708,
       "_width": 1746,
       "layout": "IPY_MODEL_4d250c5d35aa493295ca814fb3eaa1ee",
       "toolbar": "IPY_MODEL_6faf75ca5f3b41388f284e98ec2cf803",
       "toolbar_position": "left"
      }
     }
    },
    "version_major": 2,
    "version_minor": 0
   }
  }
 },
 "nbformat": 4,
 "nbformat_minor": 4
}
