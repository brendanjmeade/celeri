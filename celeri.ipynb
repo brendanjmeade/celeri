{
 "cells": [
  {
   "cell_type": "code",
   "execution_count": 1,
   "metadata": {},
   "outputs": [],
   "source": [
    "%matplotlib widget\n",
    "%config InlineBackend.figure_format = 'svg'"
   ]
  },
  {
   "cell_type": "code",
   "execution_count": 2,
   "metadata": {
    "tags": []
   },
   "outputs": [],
   "source": [
    "import addict\n",
    "import copy\n",
    "import datetime\n",
    "import os\n",
    "import numpy as np\n",
    "import pandas as pd\n",
    "import matplotlib.pyplot as plt\n",
    "from importlib import reload\n",
    "\n",
    "# Plotting the global model is much much faster with tex fonts turned off\n",
    "plt.rcParams['text.usetex'] = False"
   ]
  },
  {
   "cell_type": "code",
   "execution_count": 3,
   "metadata": {
    "tags": []
   },
   "outputs": [],
   "source": [
    "import celeri_closure\n",
    "celeri_closure = reload(celeri_closure)\n",
    "import celeri\n",
    "celeri = reload(celeri)"
   ]
  },
  {
   "cell_type": "code",
   "execution_count": 4,
   "metadata": {
    "tags": []
   },
   "outputs": [
    {
     "name": "stdout",
     "output_type": "stream",
     "text": [
      "CPU times: user 20.1 s, sys: 2.12 s, total: 22.2 s\n",
      "Wall time: 22.2 s\n"
     ]
    }
   ],
   "source": [
    "%%time\n",
    "RUN_NAME = datetime.datetime.now().strftime(\"%y%m%d%H%M%S\") + os.sep\n",
    "command_file_name = './data/western_north_america/western_north_america_command.json'\n",
    "command_file_name = './data/global/global_command.json'\n",
    "command, segment, block, meshes, station, mogi, sar = celeri.read_data(command_file_name)\n",
    "station = celeri.process_station(station, command)\n",
    "segment = celeri.process_segment(segment, command, meshes)\n",
    "sar = celeri.process_sar(sar, command)\n",
    "closure = celeri.assign_block_labels(segment, station, block, mogi, sar)"
   ]
  },
  {
   "cell_type": "code",
   "execution_count": 5,
   "metadata": {},
   "outputs": [
    {
     "data": {
      "text/plain": [
       "0"
      ]
     },
     "execution_count": 5,
     "metadata": {},
     "output_type": "execute_result"
    }
   ],
   "source": [
    "(station['block_label'] == -1).sum()"
   ]
  },
  {
   "cell_type": "code",
   "execution_count": 6,
   "metadata": {},
   "outputs": [
    {
     "data": {
      "application/vnd.jupyter.widget-view+json": {
       "model_id": "c25a38234e8f4e818670d9767f95a430",
       "version_major": 2,
       "version_minor": 0
      },
      "text/plain": [
       "Canvas(toolbar=Toolbar(toolitems=[('Home', 'Reset original view', 'home', 'home'), ('Back', 'Back to previous …"
      ]
     },
     "metadata": {},
     "output_type": "display_data"
    }
   ],
   "source": [
    "celeri.plot_block_labels(segment, block, station, closure)"
   ]
  },
  {
   "cell_type": "code",
   "execution_count": 8,
   "metadata": {},
   "outputs": [
    {
     "data": {
      "text/plain": [
       "Polygon(edge_idxs=[3590, 15375, 15376, 15378, 15380, 15382, 15385, 15387, 15389, 15391, 15777, 15799, 15821, 15843, 15865, 15871, 15873, 15875, 15877, 15779, 15781, 15783, 15785, 15787, 15789, 15791, 15793, 15795, 15797, 15801, 15803, 15805, 15807, 7670, 7668, 7666, 7664, 8024, 8022, 8020, 8018, 8016, 8015, 8013, 8011, 8009, 8007, 8005, 8003, 8001, 7999, 15819, 15823, 15825, 15827, 15829, 15831, 15833, 15835, 15837, 15839, 15841, 15845, 15847, 15849, 15851, 15853, 15855, 15857, 15859, 15861, 15863, 15867, 15869, 16933, 16935, 16567, 16569, 16571, 16573, 16575, 16577, 16579, 16581, 16585, 16587, 16589, 16591, 16593, 16595, 16597, 16599, 16601, 16603, 16607, 16609, 16611, 16613, 16615, 16617, 16619, 16621, 16622, 16625, 16629, 16631, 16633, 16635, 16637, 16639, 16641, 16642, 16645, 16647, 16651, 16653, 16655, 16657, 16659, 16661, 12727, 12753, 12855, 13047, 13189, 13211, 13225, 13227, 13229, 12729, 12731, 12733, 12735, 12737, 12739, 12741, 12743, 12745, 12747, 12755, 12777, 12801, 12811, 12835, 12837, 12839, 12841, 12851, 12853, 12857, 12875, 12897, 12919, 12931, 12941, 12959, 12981, 13003, 13025, 13048, 13071, 13093, 13115, 13137, 13159, 13181, 13183, 13185, 13187, 13191, 13193, 13195, 13197, 13199, 13201, 13203, 13205, 13207, 13209, 13213, 13215, 13217, 13219, 13221, 13223, 5925, 5927, 5929, 5931, 5933, 5935, 5937, 5939, 5941, 11161, 11163, 11165, 11167, 11169, 11171, 11173, 11175, 11177, 11179, 15907, 16121, 16333, 16381, 16403, 16425, 16447, 16469, 16491, 15909, 15931, 15953, 15975, 15995, 16015, 16037, 16057, 16077, 16099, 16123, 16145, 16166, 16189, 16211, 16233, 16255, 16276, 16299, 16320, 16335, 16356, 16365, 16366, 16369, 16370, 16373, 16375, 16377, 16379, 16383, 16385, 16387, 16389, 16391, 16393, 16395, 16397, 16398, 16401, 16405, 16407, 16408, 16411, 16413, 16415, 9799, 9801, 9803, 9805, 9807, 9809, 9811, 9812, 9815, 9817, 9819, 9821, 9823, 9825, 9827, 9828, 9831, 9833, 9834, 9837, 9838, 9841, 9842, 9845, 9847, 9848, 9851, 9852, 9855, 9857, 9859, 9861, 7996, 7995, 7993, 7990, 7989, 7986, 7985, 7983, 7980, 7978, 7977, 7974, 7973, 7970, 7969, 7966, 7965, 7962, 7961, 7959, 7957, 7955, 7953, 7951, 7949, 7947, 7945, 7943, 7941, 7939, 7937, 7935, 7933, 7931, 7929, 7927, 7925, 7923, 7921, 7919, 7917, 7915, 7913, 7911, 7909, 7907, 7905, 7903, 7901, 7899, 7896, 7895, 7893, 7890, 7888, 7887, 7885, 7883, 7881, 7879, 7877, 7875, 7873, 7871, 7869, 7867, 7865, 7863, 7861, 7859, 7857, 7855, 7853, 7851, 7849, 7846, 7845, 7843, 7841, 7839, 7837, 7835, 7833, 7831, 7829, 7827, 7825, 7823, 7821, 7819, 7817, 7815, 7813, 7811, 7809, 7807, 7805, 7802, 7801, 7799, 7797, 7795, 7793, 7791, 7789, 7787, 7785, 7783, 7781, 7779, 7777, 7775, 7773, 7771, 7769, 7767, 7765, 7762, 7760, 7758, 7757, 7755, 7753, 7751, 7749, 7747, 7745, 7743, 7741, 7739, 7737, 7735, 7733, 7731, 7729, 7727, 7725, 7723, 7721, 7719, 7717, 7715, 7713, 7711, 7709, 7707, 7705, 7703, 7701, 7699, 7697, 7695, 7693, 7691, 7689, 7687, 7685, 11245, 11263, 11265, 11267, 11269, 11271, 11273, 11275, 11277, 11247, 11249, 11251, 11253, 11255, 11257, 11259, 11261, 13629, 13991, 14125, 14301, 14449, 14471, 14501, 14559, 14641, 13631, 13653, 13815, 13837, 13859, 13881, 13903, 13925, 13947, 13969, 13993, 14015, 14017, 14019, 14027, 14039, 14043, 14059, 14081, 14103, 14127, 14149, 14171, 14193, 14213, 14235, 14257, 14279, 14297, 14299, 14303, 14305, 14319, 14341, 14363, 14385, 14407, 14429, 14445, 14447, 14451, 14453, 14455, 14457, 14459, 14461, 14463, 14465, 14467, 14469, 14473, 14475, 14477, 14479, 14489, 14491, 14493, 14495, 14497, 14499, 14503, 14505, 14507, 14509, 14511, 14513, 14529, 14533, 14535, 14537, 14561, 14583, 14601, 14603, 14605, 14607, 14609, 14611, 14613, 14621, 14643, 14658, 14661, 14663, 14665, 14667, 14669, 14671, 14673, 14675, 13633, 13635, 13637, 13639, 13641, 13643, 13645, 13647, 13649, 13651, 13655, 13659, 13681, 13703, 13725, 13747, 13769, 13791, 13811, 13813, 13817, 13819, 13821, 13822, 13825, 13827, 13829, 13831, 13833, 13835, 13839, 13841, 13843, 13845, 13847, 13849, 13851, 13853, 13855, 13857, 13861, 13863, 13864, 13867, 13869, 13871, 13873, 13875, 13877, 13879, 13883, 13885, 13887, 13889, 13891, 13893, 13894, 13897, 13899, 13901, 13905, 13907, 13908, 13911, 13913, 13914, 13917, 13919, 7683, 7681, 7679, 7677, 7675, 7673, 13241, 13307, 13421, 13515, 13537, 13559, 13565, 13567, 13569, 13243, 13245, 13247, 13249, 13251, 13255, 13277, 13294, 13303, 13305, 13309, 13329, 13351, 13373, 13395, 13409, 13413, 13415, 13417, 13419, 13423, 13425, 13427, 13429, 13431, 13433, 13441, 13463, 13485, 13507, 13517, 13519, 13521, 13523, 13525, 13527, 13529, 13531, 13533, 13535, 13539, 13541, 13543, 13545, 13547, 13549, 13551, 13553, 13555, 13557, 13561, 13563, 3592], vertex_idxs=[1870, 7473, 7474, 7475, 493, 7476, 7477, 7478, 7479, 7480, 7663, 7675, 7684, 7695, 7706, 7709, 7710, 7711, 7664, 7665, 7666, 7667, 7668, 7669, 7670, 7671, 7672, 7673, 7674, 7676, 7677, 7678, 3790, 3789, 3788, 3787, 3786, 3969, 3968, 3967, 3966, 3965, 3964, 3963, 3962, 3961, 3960, 3959, 3958, 3956, 3957, 7683, 7685, 7686, 7687, 7688, 7689, 7690, 7691, 7692, 7693, 7694, 7696, 7697, 7698, 7699, 7700, 7701, 7702, 7703, 7704, 7705, 7707, 7708, 8207, 8039, 8040, 8041, 8042, 8043, 8044, 8045, 8046, 8047, 8049, 8050, 8051, 8052, 8053, 8054, 8055, 8056, 8057, 8058, 8060, 8061, 8062, 8063, 8064, 8065, 8066, 8067, 8068, 8069, 8071, 8072, 8073, 8074, 8075, 8076, 8077, 8078, 8079, 8080, 8082, 8083, 8084, 8085, 8086, 6211, 6212, 6225, 6273, 6365, 6435, 6446, 6452, 6453, 6213, 6214, 6215, 6216, 6217, 6218, 6219, 6220, 6221, 6222, 6223, 6226, 6236, 6248, 6253, 6262, 6263, 6264, 6265, 6271, 6272, 6274, 6283, 6294, 6305, 6309, 6313, 6321, 6332, 6343, 6354, 6366, 6377, 6388, 6399, 6410, 6421, 6431, 6432, 6433, 6434, 6436, 6437, 6438, 6439, 6440, 6441, 6442, 6443, 6444, 6445, 6447, 6448, 6449, 6450, 6451, 3013, 3014, 3015, 3016, 3017, 3018, 3019, 3020, 3021, 3022, 5451, 5452, 5453, 5454, 5455, 5456, 5457, 5458, 5459, 5460, 7722, 7829, 7933, 7956, 7967, 7977, 7988, 7999, 7723, 7724, 7735, 7746, 7757, 7767, 7777, 7788, 7798, 7808, 7819, 7830, 7841, 7852, 7863, 7874, 7885, 7896, 7907, 7918, 7929, 7934, 7945, 7948, 7949, 7950, 7951, 7952, 7953, 7954, 7955, 7957, 7958, 7959, 7960, 7961, 7962, 7963, 7964, 7965, 7966, 7968, 7969, 7970, 7971, 7972, 4846, 4847, 4848, 4849, 4850, 4851, 4852, 4853, 4854, 4855, 4856, 4857, 4858, 4859, 4860, 4861, 4862, 4863, 4864, 4865, 4866, 4867, 4868, 4869, 4870, 4871, 4872, 4873, 4874, 4875, 4876, 4877, 3955, 3954, 3953, 3952, 3951, 3950, 3949, 3948, 3947, 3946, 3945, 3944, 3943, 3942, 3941, 3940, 3939, 3938, 3937, 3936, 3935, 3934, 3933, 3932, 3931, 3930, 3929, 3928, 3927, 3926, 3925, 3924, 3923, 3922, 3921, 3920, 3919, 3918, 3917, 3916, 3915, 3914, 3913, 3912, 3911, 3910, 3909, 3908, 3907, 3906, 3905, 3904, 3903, 3902, 3901, 3900, 3899, 3898, 3897, 3896, 3895, 3894, 3893, 3892, 3891, 3890, 3889, 3888, 3887, 3886, 3885, 3884, 3883, 3882, 3881, 3880, 3879, 3878, 3877, 3876, 3875, 3874, 3873, 3872, 3871, 3870, 3869, 3868, 3867, 3866, 3865, 3864, 3863, 3862, 3861, 3860, 3859, 3858, 3857, 3856, 3855, 3854, 3853, 3852, 3851, 3850, 3849, 3848, 3847, 3846, 3845, 3844, 3843, 3842, 3841, 3840, 3839, 3838, 3837, 3836, 3835, 3834, 3833, 3832, 3831, 3830, 3829, 3828, 3827, 3826, 3825, 3824, 3823, 3822, 3821, 3820, 3819, 3818, 3817, 3816, 3815, 3814, 3813, 3812, 3811, 3810, 3809, 3808, 3807, 3806, 3805, 3804, 3803, 3802, 3801, 3800, 3798, 3799, 5487, 5497, 5498, 5499, 5500, 5501, 5502, 5503, 5488, 5489, 5490, 5491, 5492, 5493, 5494, 5495, 5496, 6636, 6818, 6884, 6970, 7042, 7053, 7068, 7097, 6637, 6638, 6650, 6731, 6742, 6753, 6764, 6775, 6785, 6796, 6807, 6819, 6829, 6830, 6831, 6835, 6841, 6843, 6851, 6862, 6873, 6885, 6896, 6907, 6918, 6927, 6938, 6949, 6960, 6968, 6969, 6971, 6972, 6979, 6990, 7001, 7012, 7023, 7034, 7040, 7041, 7043, 7044, 7045, 7046, 7047, 7048, 7049, 7050, 7051, 7052, 7054, 7055, 7056, 7057, 7062, 7063, 7064, 7065, 7066, 7067, 7069, 7070, 7071, 7072, 7073, 7074, 7082, 7084, 7085, 7086, 7098, 7109, 7117, 7118, 7119, 7120, 7121, 7122, 7123, 7127, 7137, 7144, 7145, 7146, 7147, 7148, 7149, 7150, 7151, 6639, 6640, 6641, 6642, 6643, 6644, 6645, 6646, 6647, 6648, 6649, 6651, 6654, 6665, 6676, 6687, 6698, 6709, 6720, 6729, 6730, 6732, 6733, 6734, 6735, 6736, 6737, 6738, 6739, 6740, 6741, 6743, 6744, 6745, 6746, 6747, 6748, 6749, 6750, 6751, 6752, 6754, 6755, 6756, 6757, 6758, 6759, 6760, 6761, 6762, 6763, 6765, 6766, 6767, 6768, 6769, 6770, 6771, 6772, 6773, 6774, 6776, 6777, 6778, 6779, 6780, 6781, 6782, 3797, 3796, 3795, 3794, 3793, 3791, 3792, 6456, 6487, 6544, 6592, 6603, 6614, 6616, 6617, 6457, 6458, 6459, 6460, 6461, 6462, 6464, 6475, 6482, 6485, 6486, 6488, 6498, 6509, 6520, 6531, 6538, 6540, 6541, 6542, 6543, 6545, 6546, 6547, 6548, 6549, 6550, 6555, 6566, 6577, 6588, 6593, 6594, 6595, 6596, 6597, 6598, 6599, 6600, 6601, 6602, 6604, 6605, 6606, 6607, 6608, 6609, 6610, 6611, 6612, 6613, 6615, 1872, 1871], vertices=array([[283.995, -46.648],\n",
       "       [284.003, -47.08 ],\n",
       "       [283.679, -47.478],\n",
       "       ...,\n",
       "       [284.032, -45.815],\n",
       "       [284.014, -46.231],\n",
       "       [283.995, -46.648]]), vertices_xyz=array([[ 0.16601607, -0.66610172, -0.72715003],\n",
       "       [ 0.16477773, -0.66073999, -0.73230524],\n",
       "       [ 0.15983188, -0.65670269, -0.73701787],\n",
       "       ...,\n",
       "       [ 0.16899177, -0.67617991, -0.7170931 ],\n",
       "       [ 0.16751409, -0.67116364, -0.72213461],\n",
       "       [ 0.16601607, -0.66610172, -0.72715003]]), interior_xyz=array([ 0.16534799, -0.66343701, -0.72973377]), bounds=BoundingBox(min_lon=0.0, max_lon=360.0, inverse_lon=False, min_lat=-66.163, max_lat=-25.651), _sg_polygon=SingleSphericalPolygon(array([[ 0.16601607, -0.66610172, -0.72715003],\n",
       "       [ 0.16477773, -0.66073999, -0.73230524],\n",
       "       [ 0.15983188, -0.65670269, -0.73701787],\n",
       "       ...,\n",
       "       [ 0.16899177, -0.67617991, -0.7170931 ],\n",
       "       [ 0.16751409, -0.67116364, -0.72213461],\n",
       "       [ 0.16601607, -0.66610172, -0.72715003]]), array([ 0.16534799, -0.66343701, -0.72973377])), area_steradians=1.4324314814839454)"
      ]
     },
     "execution_count": 8,
     "metadata": {},
     "output_type": "execute_result"
    }
   ],
   "source": [
    "closure.polygons[228].bounds"
   ]
  },
  {
   "cell_type": "code",
   "execution_count": 78,
   "metadata": {},
   "outputs": [],
   "source": [
    "vertices = closure.polygon_vertices[6]"
   ]
  },
  {
   "cell_type": "code",
   "execution_count": 93,
   "metadata": {},
   "outputs": [],
   "source": [
    "maxs = closure.polygon_vertices_xyz[6].max(axis=0)\n",
    "mins = closure.polygon_vertices_xyz[6].min(axis=0)"
   ]
  },
  {
   "cell_type": "code",
   "execution_count": 100,
   "metadata": {},
   "outputs": [
    {
     "data": {
      "text/plain": [
       "array([ True,  True,  True,  True,  True,  True,  True,  True,  True,\n",
       "        True,  True,  True,  True,  True,  True,  True,  True,  True,\n",
       "        True,  True,  True,  True,  True])"
      ]
     },
     "execution_count": 100,
     "metadata": {},
     "output_type": "execute_result"
    }
   ],
   "source": [
    "np.all((closure.polygon_vertices_xyz[6] <= maxs[None,:]) & (closure.polygon_vertices_xyz[6] >= mins[None,:]), axis=1)"
   ]
  },
  {
   "cell_type": "code",
   "execution_count": 5,
   "metadata": {
    "tags": []
   },
   "outputs": [
    {
     "name": "stdout",
     "output_type": "stream",
     "text": [
      "Isolating slip rate constraints\n",
      "- Tensile-slip rate constraint on 11ba: rate = 0.00 (mm/yr), 1-sigma uncertainty = +/-1.00 (mm/yr)\n",
      "- Tensile-slip rate constraint on 11bb: rate = 0.00 (mm/yr), 1-sigma uncertainty = +/-1.00 (mm/yr)\n",
      "- Dip-slip rate constraint on AN_Iran_fault_2: rate = 0.00 (mm/yr), 1-sigma uncertainty = +/-3.00 (mm/yr)\n",
      "- Dip-slip rate constraint on AN_Iran_fault_6: rate = 1.50 (mm/yr), 1-sigma uncertainty = +/-1.00 (mm/yr)\n",
      "- Tensile-slip rate constraint on AWAT_fault_3: rate = 0.00 (mm/yr), 1-sigma uncertainty = +/-5.00 (mm/yr)\n",
      "- Strike-slip rate constraint on Akar_connect2: rate = -8.00 (mm/yr), 1-sigma uncertainty = +/-5.00 (mm/yr)\n",
      "- Dip-slip rate constraint on BOOB_fault_1: rate = 0.00 (mm/yr), 1-sigma uncertainty = +/-10.00 (mm/yr)\n",
      "- Dip-slip rate constraint on BOOB_fault_4: rate = 0.00 (mm/yr), 1-sigma uncertainty = +/-10.00 (mm/yr)\n",
      "- Tensile-slip rate constraint on BTFZ_Baldwin12b: rate = 0.00 (mm/yr), 1-sigma uncertainty = +/-10.00 (mm/yr)\n",
      "- Tensile-slip rate constraint on CAFA_close: rate = 0.00 (mm/yr), 1-sigma uncertainty = +/-5.00 (mm/yr)\n",
      "- Tensile-slip rate constraint on CLAR_fault_1: rate = 0.00 (mm/yr), 1-sigma uncertainty = +/-5.00 (mm/yr)\n",
      "- Tensile-slip rate constraint on Chiloe_block_Moreno_2011_8: rate = 0.00 (mm/yr), 1-sigma uncertainty = +/-5.00 (mm/yr)\n",
      "- Dip-slip rate constraint on DS_Iran_fault345: rate = 0.00 (mm/yr), 1-sigma uncertainty = +/-3.00 (mm/yr)\n",
      "- Dip-slip rate constraint on EL_Iran_fault_3: rate = 2.00 (mm/yr), 1-sigma uncertainty = +/-5.00 (mm/yr)\n",
      "- Dip-slip rate constraint on EL_Iran_fault_4: rate = 2.00 (mm/yr), 1-sigma uncertainty = +/-5.00 (mm/yr)\n",
      "- Dip-slip rate constraint on GF_5: rate = 0.00 (mm/yr), 1-sigma uncertainty = +/-5.00 (mm/yr)\n",
      "- Dip-slip rate constraint on HBAY_fault_1: rate = 0.00 (mm/yr), 1-sigma uncertainty = +/-5.00 (mm/yr)\n",
      "- Tensile-slip rate constraint on HBAY_fault_1: rate = 0.00 (mm/yr), 1-sigma uncertainty = +/-5.00 (mm/yr)\n",
      "- Dip-slip rate constraint on HBAY_fault_3: rate = 1.00 (mm/yr), 1-sigma uncertainty = +/-1.50 (mm/yr)\n",
      "- Tensile-slip rate constraint on HBAY_fault_3: rate = -1.00 (mm/yr), 1-sigma uncertainty = +/-1.50 (mm/yr)\n",
      "- Strike-slip rate constraint on HOPE_fault_1: rate = -18.00 (mm/yr), 1-sigma uncertainty = +/-6.00 (mm/yr)\n",
      "- Dip-slip rate constraint on KEKE_fault_6: rate = 0.00 (mm/yr), 1-sigma uncertainty = +/-5.00 (mm/yr)\n",
      "- Tensile-slip rate constraint on KEKE_fault_6: rate = 0.00 (mm/yr), 1-sigma uncertainty = +/-10.00 (mm/yr)\n",
      "- Dip-slip rate constraint on LosBajos_usgs_2: rate = 0.00 (mm/yr), 1-sigma uncertainty = +/-5.00 (mm/yr)\n",
      "- Tensile-slip rate constraint on Lwadle_close1: rate = 1.00 (mm/yr), 1-sigma uncertainty = +/-0.50 (mm/yr)\n",
      "- Strike-slip rate constraint on Medial_fault_USGSba: rate = -5.00 (mm/yr), 1-sigma uncertainty = +/-5.00 (mm/yr)\n",
      "- Dip-slip rate constraint on NTIMO2_2: rate = 60.00 (mm/yr), 1-sigma uncertainty = +/-20.00 (mm/yr)\n",
      "- Tensile-slip rate constraint on NZadd_new: rate = 0.00 (mm/yr), 1-sigma uncertainty = +/-5.00 (mm/yr)\n",
      "- Strike-slip rate constraint on PENN_Li16_close: rate = 0.00 (mm/yr), 1-sigma uncertainty = +/-5.00 (mm/yr)\n",
      "- Tensile-slip rate constraint on PENN_Li16_close: rate = 0.00 (mm/yr), 1-sigma uncertainty = +/-5.00 (mm/yr)\n",
      "- Tensile-slip rate constraint on PNG_151: rate = 5.00 (mm/yr), 1-sigma uncertainty = +/-5.00 (mm/yr)\n",
      "- Dip-slip rate constraint on Patch10_57: rate = 50.00 (mm/yr), 1-sigma uncertainty = +/-15.00 (mm/yr)\n",
      "- Dip-slip rate constraint on Patch14_new: rate = 45.00 (mm/yr), 1-sigma uncertainty = +/-20.00 (mm/yr)\n",
      "- Dip-slip rate constraint on Patch16_12: rate = 4.00 (mm/yr), 1-sigma uncertainty = +/-3.00 (mm/yr)\n",
      "- Dip-slip rate constraint on Patch16_19: rate = 8.00 (mm/yr), 1-sigma uncertainty = +/-8.00 (mm/yr)\n",
      "- Dip-slip rate constraint on Patch16_37: rate = 21.00 (mm/yr), 1-sigma uncertainty = +/-1.50 (mm/yr)\n",
      "- Dip-slip rate constraint on Patch6_44: rate = 70.00 (mm/yr), 1-sigma uncertainty = +/-10.00 (mm/yr)\n",
      "- Dip-slip rate constraint on Patch6_55: rate = 62.00 (mm/yr), 1-sigma uncertainty = +/-10.00 (mm/yr)\n",
      "- Tensile-slip rate constraint on Philippine_fault_11: rate = 0.00 (mm/yr), 1-sigma uncertainty = +/-5.00 (mm/yr)\n",
      "- Strike-slip rate constraint on Philippine_fault_12aa: rate = 25.00 (mm/yr), 1-sigma uncertainty = +/-10.00 (mm/yr)\n",
      "- Tensile-slip rate constraint on Philippine_fault_12aa: rate = 0.00 (mm/yr), 1-sigma uncertainty = +/-5.00 (mm/yr)\n",
      "- Strike-slip rate constraint on Philippine_fault_12ab: rate = 25.00 (mm/yr), 1-sigma uncertainty = +/-10.00 (mm/yr)\n",
      "- Tensile-slip rate constraint on Philippine_fault_12ab: rate = 0.00 (mm/yr), 1-sigma uncertainty = +/-5.00 (mm/yr)\n",
      "- Strike-slip rate constraint on Philippine_fault_12ba: rate = 25.00 (mm/yr), 1-sigma uncertainty = +/-10.00 (mm/yr)\n",
      "- Tensile-slip rate constraint on Philippine_fault_12ba: rate = 0.00 (mm/yr), 1-sigma uncertainty = +/-5.00 (mm/yr)\n",
      "- Strike-slip rate constraint on Philippine_fault_12bb: rate = 25.00 (mm/yr), 1-sigma uncertainty = +/-10.00 (mm/yr)\n",
      "- Tensile-slip rate constraint on Philippine_fault_12bb: rate = 0.00 (mm/yr), 1-sigma uncertainty = +/-5.00 (mm/yr)\n",
      "- Tensile-slip rate constraint on Philippine_fault_13: rate = 0.00 (mm/yr), 1-sigma uncertainty = +/-5.00 (mm/yr)\n",
      "- Tensile-slip rate constraint on Philippine_fault_14: rate = 0.00 (mm/yr), 1-sigma uncertainty = +/-5.00 (mm/yr)\n",
      "- Tensile-slip rate constraint on Philippines_sliver_southba: rate = 0.00 (mm/yr), 1-sigma uncertainty = +/-10.00 (mm/yr)\n",
      "- Tensile-slip rate constraint on Rhod_connect2: rate = -10.00 (mm/yr), 1-sigma uncertainty = +/-20.00 (mm/yr)\n",
      "- Tensile-slip rate constraint on Saria14_Lwandle_1: rate = 1.00 (mm/yr), 1-sigma uncertainty = +/-0.50 (mm/yr)\n",
      "- Tensile-slip rate constraint on Saria14_Lwandle_2: rate = 1.00 (mm/yr), 1-sigma uncertainty = +/-0.50 (mm/yr)\n",
      "- Tensile-slip rate constraint on Saria14_Lwandle_21: rate = 1.00 (mm/yr), 1-sigma uncertainty = +/-0.50 (mm/yr)\n",
      "- Tensile-slip rate constraint on Saria14_Lwandle_22: rate = 1.00 (mm/yr), 1-sigma uncertainty = +/-0.50 (mm/yr)\n",
      "- Tensile-slip rate constraint on Saria14_Lwandle_23: rate = 1.00 (mm/yr), 1-sigma uncertainty = +/-0.50 (mm/yr)\n",
      "- Tensile-slip rate constraint on Saria14_Lwandle_24: rate = 1.00 (mm/yr), 1-sigma uncertainty = +/-0.50 (mm/yr)\n",
      "- Tensile-slip rate constraint on Saria14_Lwandle_3: rate = 1.00 (mm/yr), 1-sigma uncertainty = +/-0.50 (mm/yr)\n",
      "- Tensile-slip rate constraint on Saria14_Lwandle_4: rate = 1.00 (mm/yr), 1-sigma uncertainty = +/-0.50 (mm/yr)\n",
      "- Tensile-slip rate constraint on Saria14_Lwandle_7: rate = 1.00 (mm/yr), 1-sigma uncertainty = +/-0.50 (mm/yr)\n",
      "- Tensile-slip rate constraint on Saria14_Lwandle_8: rate = 1.00 (mm/yr), 1-sigma uncertainty = +/-0.50 (mm/yr)\n",
      "- Tensile-slip rate constraint on Saria14_Lwandle_9: rate = 1.00 (mm/yr), 1-sigma uncertainty = +/-0.50 (mm/yr)\n",
      "- Tensile-slip rate constraint on Saria14_Rovuma_14: rate = 1.00 (mm/yr), 1-sigma uncertainty = +/-2.00 (mm/yr)\n",
      "- Tensile-slip rate constraint on Sorong_fault_Bock03a: rate = 0.00 (mm/yr), 1-sigma uncertainty = +/-10.00 (mm/yr)\n",
      "- Tensile-slip rate constraint on Sorong_fault_Bock03ba: rate = 0.00 (mm/yr), 1-sigma uncertainty = +/-10.00 (mm/yr)\n",
      "- Tensile-slip rate constraint on Sorong_fault_Bock03bb: rate = 0.00 (mm/yr), 1-sigma uncertainty = +/-10.00 (mm/yr)\n",
      "- Tensile-slip rate constraint on Symithe15_HISP_4: rate = 3.00 (mm/yr), 1-sigma uncertainty = +/-5.00 (mm/yr)\n",
      "- Tensile-slip rate constraint on Symithe15_NHIS_6: rate = 0.00 (mm/yr), 1-sigma uncertainty = +/-10.00 (mm/yr)\n",
      "- Tensile-slip rate constraint on TAFZ_Spicaka: rate = 0.00 (mm/yr), 1-sigma uncertainty = +/-10.00 (mm/yr)\n",
      "- Dip-slip rate constraint on TG_4: rate = 0.00 (mm/yr), 1-sigma uncertainty = +/-5.00 (mm/yr)\n",
      "- Dip-slip rate constraint on TVZE_fault_16: rate = 0.00 (mm/yr), 1-sigma uncertainty = +/-10.00 (mm/yr)\n",
      "- Strike-slip rate constraint on TVZE_fault_3: rate = 0.00 (mm/yr), 1-sigma uncertainty = +/-5.00 (mm/yr)\n",
      "- Tensile-slip rate constraint on TonVan1113: rate = 0.00 (mm/yr), 1-sigma uncertainty = +/-10.00 (mm/yr)\n",
      "- Tensile-slip rate constraint on TonVan_385: rate = 55.00 (mm/yr), 1-sigma uncertainty = +/-20.00 (mm/yr)\n",
      "- Tensile-slip rate constraint on TonVan_405: rate = 90.00 (mm/yr), 1-sigma uncertainty = +/-20.00 (mm/yr)\n",
      "- Tensile-slip rate constraint on Totschunda_Koons10_2: rate = 0.00 (mm/yr), 1-sigma uncertainty = +/-5.00 (mm/yr)\n",
      "- Dip-slip rate constraint on WL_117b: rate = 25.00 (mm/yr), 1-sigma uncertainty = +/-20.00 (mm/yr)\n",
      "- Dip-slip rate constraint on WSPR_fault_6: rate = -50.00 (mm/yr), 1-sigma uncertainty = +/-20.00 (mm/yr)\n",
      "- Dip-slip rate constraint on WSPR_fault_7: rate = -50.00 (mm/yr), 1-sigma uncertainty = +/-20.00 (mm/yr)\n",
      "- Tensile-slip rate constraint on asdf: rate = 0.00 (mm/yr), 1-sigma uncertainty = +/-1.00 (mm/yr)\n",
      "- Tensile-slip rate constraint on au_271: rate = 19.00 (mm/yr), 1-sigma uncertainty = +/-5.00 (mm/yr)\n",
      "- Tensile-slip rate constraint on cfm_death_valley_split_complete_trace_part13_s: rate = 0.00 (mm/yr), 1-sigma uncertainty = +/-1.00 (mm/yr)\n",
      "- Tensile-slip rate constraint on cfm_east_montebello_complete_trace_part1_s: rate = 0.00 (mm/yr), 1-sigma uncertainty = +/-1.00 (mm/yr)\n",
      "- Dip-slip rate constraint on cfm_east_north_frontal_zone_smooth_extruded_trace_part1_s: rate = 0.00 (mm/yr), 1-sigma uncertainty = +/-1.00 (mm/yr)\n",
      "- Dip-slip rate constraint on cfm_east_north_frontal_zone_smooth_extruded_trace_part2_s: rate = 0.00 (mm/yr), 1-sigma uncertainty = +/-1.00 (mm/yr)\n",
      "- Tensile-slip rate constraint on cfm_eureka_peak_west_deception_canyon_extruded_trace_part1_s_2b: rate = 0.00 (mm/yr), 1-sigma uncertainty = +/-1.00 (mm/yr)\n",
      "- Tensile-slip rate constraint on cfm_landers_detailed_complete_trace_part1_s: rate = 0.00 (mm/yr), 1-sigma uncertainty = +/-1.00 (mm/yr)\n",
      "- Strike-slip rate constraint on cfm_newport_inglewood_rose_conyon_complete_trace_part11_s: rate = -0.80 (mm/yr), 1-sigma uncertainty = +/-1.60 (mm/yr)\n",
      "- Tensile-slip rate constraint on cfm_palos_verdes_extruded_trace_part1_s_2: rate = 0.00 (mm/yr), 1-sigma uncertainty = +/-1.00 (mm/yr)\n",
      "- Tensile-slip rate constraint on cfm_san_bernardino_valley_san_jacinto_complete_trace_part5_s: rate = 0.00 (mm/yr), 1-sigma uncertainty = +/-1.00 (mm/yr)\n",
      "- Tensile-slip rate constraint on cfma_blackwater_extruded_90_trace_part2_s: rate = 0.00 (mm/yr), 1-sigma uncertainty = +/-1.00 (mm/yr)\n",
      "- Tensile-slip rate constraint on cfma_chino_extruded_65_upper_complete_trace_part4_sa: rate = 0.00 (mm/yr), 1-sigma uncertainty = +/-1.00 (mm/yr)\n",
      "- Tensile-slip rate constraint on cfma_glen_ivy_complete_trace_part2_s: rate = 0.00 (mm/yr), 1-sigma uncertainty = +/-1.00 (mm/yr)\n",
      "- Tensile-slip rate constraint on cfma_goldstone_lake_extruded_90_trace_part4_s: rate = 0.00 (mm/yr), 1-sigma uncertainty = +/-1.00 (mm/yr)\n",
      "- Tensile-slip rate constraint on cfma_helendale_south_lockhart_extruded_90_trace_part3_sbb: rate = 0.00 (mm/yr), 1-sigma uncertainty = +/-1.00 (mm/yr)\n",
      "- Strike-slip rate constraint on cfma_julian_elsinore_extrapolated_trace_part5_s_2: rate = -4.00 (mm/yr), 1-sigma uncertainty = +/-0.50 (mm/yr)\n",
      "- Tensile-slip rate constraint on cfma_pisgah_bullion_mesquite_lake_extruded_90_trace_part5_s: rate = 0.00 (mm/yr), 1-sigma uncertainty = +/-1.00 (mm/yr)\n",
      "- Tensile-slip rate constraint on cfma_san_jacinto_valley_san_jacinto_extruded_90dip_trace_part1_s: rate = 0.00 (mm/yr), 1-sigma uncertainty = +/-1.00 (mm/yr)\n",
      "- Tensile-slip rate constraint on dmgab: rate = 0.00 (mm/yr), 1-sigma uncertainty = +/-5.00 (mm/yr)\n",
      "- Tensile-slip rate constraint on koybayashi_SAF: rate = 0.00 (mm/yr), 1-sigma uncertainty = +/-5.00 (mm/yr)\n",
      "- Tensile-slip rate constraint on n_ridge_3aaaaabb: rate = 20.00 (mm/yr), 1-sigma uncertainty = +/-5.00 (mm/yr)\n",
      "- Tensile-slip rate constraint on newb: rate = 0.00 (mm/yr), 1-sigma uncertainty = +/-1.00 (mm/yr)\n",
      "- Dip-slip rate constraint on phil_taiwan_connect: rate = 100.00 (mm/yr), 1-sigma uncertainty = +/-10.00 (mm/yr)\n",
      "- Tensile-slip rate constraint on rSAP_deshon_2: rate = 0.00 (mm/yr), 1-sigma uncertainty = +/-5.00 (mm/yr)\n",
      "- Strike-slip rate constraint on ri_61: rate = 5.00 (mm/yr), 1-sigma uncertainty = +/-1.00 (mm/yr)\n",
      "- Tensile-slip rate constraint on sumatran_fault_chlieh_50: rate = 0.00 (mm/yr), 1-sigma uncertainty = +/-10.00 (mm/yr)\n",
      "- Tensile-slip rate constraint on sumatran_fault_splay_chlieh_5: rate = 0.00 (mm/yr), 1-sigma uncertainty = +/-5.00 (mm/yr)\n",
      "- Dip-slip rate constraint on waif_fault_1: rate = 0.00 (mm/yr), 1-sigma uncertainty = +/-10.00 (mm/yr)\n",
      "- Strike-slip rate constraint on well_fault_11: rate = -5.00 (mm/yr), 1-sigma uncertainty = +/-5.00 (mm/yr)\n",
      "- Dip-slip rate constraint on well_fault_13: rate = 0.00 (mm/yr), 1-sigma uncertainty = +/-5.00 (mm/yr)\n",
      "- Dip-slip rate constraint on well_fault_2: rate = 0.00 (mm/yr), 1-sigma uncertainty = +/-5.00 (mm/yr)\n",
      "- Strike-slip rate constraint on well_fault_3: rate = -5.00 (mm/yr), 1-sigma uncertainty = +/-2.00 (mm/yr)\n",
      "- Dip-slip rate constraint on well_fault_6: rate = 0.00 (mm/yr), 1-sigma uncertainty = +/-15.00 (mm/yr)\n",
      "- Dip-slip rate constraint on yamanobeb: rate = 4.00 (mm/yr), 1-sigma uncertainty = +/-2.00 (mm/yr)\n"
     ]
    }
   ],
   "source": [
    "assembly = addict.Dict()\n",
    "operators = addict.Dict()\n",
    "assembly = celeri.merge_geodetic_data(assembly, station, sar)\n",
    "assembly, operators.block_motion_constraints = celeri.block_constraints(assembly, block, command)\n",
    "assembly, operators.slip_rate_constraints = celeri.slip_rate_constraints(assembly, segment, block, command)"
   ]
  },
  {
   "cell_type": "code",
   "execution_count": 6,
   "metadata": {},
   "outputs": [],
   "source": [
    "command = addict.Dict(command)"
   ]
  }
 ],
 "metadata": {
  "interpreter": {
   "hash": "749f0fc94df05971c9b3f3660cf19264b2aeee03fc6d4bf75e86fd251d69cf68"
  },
  "kernelspec": {
   "display_name": "Python 3 (ipykernel)",
   "language": "python",
   "name": "python3"
  },
  "language_info": {
   "codemirror_mode": {
    "name": "ipython",
    "version": 3
   },
   "file_extension": ".py",
   "mimetype": "text/x-python",
   "name": "python",
   "nbconvert_exporter": "python",
   "pygments_lexer": "ipython3",
   "version": "3.9.6"
  },
  "widgets": {
   "application/vnd.jupyter.widget-state+json": {
    "state": {
     "4d250c5d35aa493295ca814fb3eaa1ee": {
      "model_module": "@jupyter-widgets/base",
      "model_module_version": "1.2.0",
      "model_name": "LayoutModel",
      "state": {}
     },
     "6faf75ca5f3b41388f284e98ec2cf803": {
      "model_module": "jupyter-matplotlib",
      "model_module_version": "^0.9.0",
      "model_name": "ToolbarModel",
      "state": {
       "layout": "IPY_MODEL_9b061db2dc65459ca586b9b9f73c2362",
       "toolitems": [
        [
         "Home",
         "Reset original view",
         "home",
         "home"
        ],
        [
         "Back",
         "Back to previous view",
         "arrow-left",
         "back"
        ],
        [
         "Forward",
         "Forward to next view",
         "arrow-right",
         "forward"
        ],
        [
         "Pan",
         "Left button pans, Right button zooms\nx/y fixes axis, CTRL fixes aspect",
         "arrows",
         "pan"
        ],
        [
         "Zoom",
         "Zoom to rectangle\nx/y fixes axis, CTRL fixes aspect",
         "square-o",
         "zoom"
        ],
        [
         "Download",
         "Download plot",
         "floppy-o",
         "save_figure"
        ]
       ]
      }
     },
     "9b061db2dc65459ca586b9b9f73c2362": {
      "model_module": "@jupyter-widgets/base",
      "model_module_version": "1.2.0",
      "model_name": "LayoutModel",
      "state": {}
     },
     "c25a38234e8f4e818670d9767f95a430": {
      "model_module": "jupyter-matplotlib",
      "model_module_version": "^0.9.0",
      "model_name": "MPLCanvasModel",
      "state": {
       "_cursor": "default",
       "_figure_label": "Figure 1",
       "_height": 708,
       "_width": 1746,
       "layout": "IPY_MODEL_4d250c5d35aa493295ca814fb3eaa1ee",
       "toolbar": "IPY_MODEL_6faf75ca5f3b41388f284e98ec2cf803",
       "toolbar_position": "left"
      }
     }
    },
    "version_major": 2,
    "version_minor": 0
   }
  }
 },
 "nbformat": 4,
 "nbformat_minor": 4
}
