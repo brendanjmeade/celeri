{
 "cells": [
  {
   "cell_type": "code",
   "execution_count": 1,
   "source": [
    "%matplotlib widget\n",
    "%config InlineBackend.figure_format = 'svg'"
   ],
   "outputs": [],
   "metadata": {
    "execution": {
     "iopub.execute_input": "2021-08-22T18:29:50.539195Z",
     "iopub.status.busy": "2021-08-22T18:29:50.538938Z",
     "iopub.status.idle": "2021-08-22T18:29:50.550334Z",
     "shell.execute_reply": "2021-08-22T18:29:50.549700Z",
     "shell.execute_reply.started": "2021-08-22T18:29:50.539169Z"
    },
    "tags": []
   }
  },
  {
   "cell_type": "code",
   "execution_count": 2,
   "source": [
    "import addict\n",
    "import copy\n",
    "import numpy as np\n",
    "import pandas as pd\n",
    "import matplotlib.pyplot as plt\n",
    "from importlib import reload\n",
    "from tqdm.notebook import tqdm\n",
    "\n",
    "import celeri\n",
    "celeri = reload(celeri)\n",
    "\n",
    "plt.rcParams['text.usetex'] = False # Plotting the global model is much much faster with tex fonts turned off"
   ],
   "outputs": [],
   "metadata": {
    "execution": {
     "iopub.execute_input": "2021-08-22T18:29:51.661926Z",
     "iopub.status.busy": "2021-08-22T18:29:51.661659Z",
     "iopub.status.idle": "2021-08-22T18:29:51.956035Z",
     "shell.execute_reply": "2021-08-22T18:29:51.955292Z",
     "shell.execute_reply.started": "2021-08-22T18:29:51.661900Z"
    },
    "tags": []
   }
  },
  {
   "cell_type": "code",
   "execution_count": 3,
   "source": [
    "command_file_name = \"./data/western_north_america/basic_command.json\"\n",
    "command, segment, block, meshes, station, mogi, sar = celeri.read_data(command_file_name)\n",
    "station = celeri.process_station(station, command)\n",
    "segment = celeri.process_segment(segment, command, meshes)\n",
    "sar = celeri.process_sar(sar, command)\n",
    "closure, block = celeri.assign_block_labels(segment, station, block, mogi, sar)\n",
    "# celeri.plot_block_labels(segment, block, station, closure)"
   ],
   "outputs": [
    {
     "output_type": "stream",
     "name": "stderr",
     "text": [
      "WARNING:root:The file contains tag data that couldn't be processed.\n"
     ]
    }
   ],
   "metadata": {
    "execution": {
     "iopub.execute_input": "2021-08-22T18:29:53.570589Z",
     "iopub.status.busy": "2021-08-22T18:29:53.570331Z",
     "iopub.status.idle": "2021-08-22T18:30:09.817977Z",
     "shell.execute_reply": "2021-08-22T18:30:09.817443Z",
     "shell.execute_reply.started": "2021-08-22T18:29:53.570561Z"
    },
    "tags": []
   }
  },
  {
   "cell_type": "code",
   "execution_count": 4,
   "source": [
    "assembly = addict.Dict()\n",
    "operators = addict.Dict()\n",
    "assembly = celeri.merge_geodetic_data(assembly, station, sar) # Not sure this work correctly\n",
    "\n",
    "# Elastic operators\n",
    "operators.okada_segment_station = celeri.get_segment_station_operator_okada(segment, station, command)\n",
    "# celeri.plot_segment_displacements(segment, station, command, segment_idx=0, strike_slip=1, dip_slip=0, tensile_slip=0, lon_min=235, lon_max=255, lat_min=30, lat_max=50, quiver_scale=1e-1)\n",
    "operators.tri_station = celeri.get_tri_station_operator_okada(meshes, station, command)\n",
    "celeri.get_all_mesh_smoothing_matrices(meshes)\n"
   ],
   "outputs": [
    {
     "output_type": "display_data",
     "data": {
      "application/vnd.jupyter.widget-view+json": {
       "version_major": 2,
       "version_minor": 0,
       "model_id": "d8772ebe83b3449eb51c194cc1998c08"
      },
      "text/plain": [
       "Calculating Okada partials for segments:   0%|          | 0/837 [00:00<?, ?it/s]"
      ]
     },
     "metadata": {}
    },
    {
     "output_type": "display_data",
     "data": {
      "application/vnd.jupyter.widget-view+json": {
       "version_major": 2,
       "version_minor": 0,
       "model_id": "407c660bfb3644d4a77bf7be5747328a"
      },
      "text/plain": [
       "Calculating cutde partials for triangles:   0%|          | 0/1841 [00:00<?, ?it/s]"
      ]
     },
     "metadata": {}
    }
   ],
   "metadata": {}
  },
  {
   "cell_type": "code",
   "execution_count": 5,
   "source": [
    "# Build all linear kinematic operators\n",
    "operators.block_rotation = celeri.get_block_rotation_operator(station)\n",
    "operators.global_float_block_rotation = celeri.get_global_float_block_rotation_operator(station)\n",
    "\n",
    "# TODO: Update celeri.block_constraints to properly use block.\n",
    "assembly, operators.block_motion_constraints = celeri.block_constraints(assembly, block, command)\n",
    "assembly, operators.slip_rate_constraints = celeri.slip_rate_constraints(assembly, segment, block, command)\n",
    "operators.slip_rate_segment_block = celeri.get_fault_slip_rate_partials(segment, block)\n",
    "operators.block_strain_rate, strain_rate_block_idx = celeri.get_strain_rate_centroid_operator(block, station, segment)\n",
    "operators.mogi_station = celeri.get_mogi_operator(mogi, station, command)\n",
    "\n",
    "# Get additional matrix shape information for assembly\n",
    "assembly.index.sz_elastic = operators.okada_segment_station.shape # Not sure this is correct\n",
    "assembly.index.sz_slip = operators.slip_rate_segment_block.shape # Not sure this is correct\n",
    "assembly.index.sz_rotation = operators.block_rotation.shape # Not sure this is correct\n",
    "assembly = celeri.station_row_keep(assembly) # Not sure this is correct"
   ],
   "outputs": [],
   "metadata": {
    "tags": []
   }
  },
  {
   "cell_type": "code",
   "execution_count": 6,
   "source": [
    "def plot_slip_distributions(mesh, slip_distribution_input, slip_distribution_estimated, suptitle_string):\n",
    "    marker_size = 2.0\n",
    "    plt.figure(figsize=(12, 7))\n",
    "\n",
    "    plt.subplot(2, 2, 1)\n",
    "    plt.title(\"input strike-slip\")\n",
    "    plt.scatter(mesh.centroids[:, 0], mesh.centroids[:, 1], s=marker_size, c=slip_distribution_input[0::2], alpha=0.5)\n",
    "    plt.colorbar()\n",
    "    plt.gca().set_aspect(\"equal\", adjustable=\"box\")\n",
    "    plt.xlim([230.0, 245.0])\n",
    "    plt.ylim([37.5, 52.5])\n",
    "\n",
    "    plt.subplot(2, 2, 2)\n",
    "    plt.title(\"input dip-slip\")\n",
    "    plt.scatter(mesh.centroids[:, 0], mesh.centroids[:, 1], s=marker_size, c=slip_distribution_input[1::2], alpha=0.5)\n",
    "    plt.colorbar()\n",
    "    plt.gca().set_aspect(\"equal\", adjustable=\"box\")\n",
    "    plt.xlim([230.0, 245.0])\n",
    "    plt.ylim([37.5, 52.5])\n",
    "\n",
    "    plt.subplot(2, 2, 3)\n",
    "    plt.title(\"estimated strike-slip\")\n",
    "    plt.scatter(mesh.centroids[:, 0], mesh.centroids[:, 1], s=marker_size, c=slip_distribution_estimated[0::2], alpha=0.5)\n",
    "    plt.colorbar()\n",
    "    plt.gca().set_aspect(\"equal\", adjustable=\"box\")\n",
    "    plt.xlim([230.0, 245.0])\n",
    "    plt.ylim([37.5, 52.5])\n",
    "\n",
    "    plt.subplot(2, 2, 4)\n",
    "    plt.title(\"estimated dip-slip\")\n",
    "    plt.scatter(mesh.centroids[:, 0], mesh.centroids[:, 1], s=marker_size, c=slip_distribution_estimated[1::2], alpha=0.5)\n",
    "    plt.colorbar()\n",
    "    plt.gca().set_aspect(\"equal\", adjustable=\"box\")\n",
    "    plt.xlim([230.0, 245.0])\n",
    "    plt.ylim([37.5, 52.5])\n",
    "\n",
    "    plt.suptitle(suptitle_string)\n",
    "    plt.show()\n",
    "\n",
    "\n",
    "def get_synthetic_displacements(mesh, tri_linear_operator):\n",
    "    \"\"\"\n",
    "    Prescribe dip-slip in a Gaussian pattern.\n",
    "    \"\"\"\n",
    "    tri_centroid_to_mesh_lon = mesh.centroids[:, 0] - np.mean(mesh.centroids[:, 0])\n",
    "    tri_centroid_to_mesh_lat = mesh.centroids[:, 1] - np.mean(mesh.centroids[:, 1])\n",
    "\n",
    "    # Hardcoded northern Cascadia example that Jack suggested.\n",
    "    tri_centroid_to_mesh_lon = mesh.centroids[:, 0] - 234.5\n",
    "    tri_centroid_to_mesh_lat = mesh.centroids[:, 1] - 48.5\n",
    "\n",
    "    tri_centroid_to_mesh_centroid_distance = np.sqrt(tri_centroid_to_mesh_lon ** 2 + tri_centroid_to_mesh_lat ** 2)\n",
    "    dip_slip_distribution = np.exp(-(tri_centroid_to_mesh_centroid_distance / 1.0) ** 2.0)\n",
    "    slip_distribution = np.zeros(2 * dip_slip_distribution.size)\n",
    "    slip_distribution[1::2] = dip_slip_distribution # Dip slip only\n",
    "    synthetic_displacements = tri_linear_operator @ slip_distribution\n",
    "    return slip_distribution, synthetic_displacements\n",
    "\n",
    "\n",
    "# Shrink operators.tri_station so that there are no vertical displacments and no tensile slip\n",
    "tde_matrix = copy.deepcopy(operators.tri_station)\n",
    "tde_matrix = np.delete(tde_matrix, np.arange(2, tde_matrix.shape[0], 3), axis=0)\n",
    "tde_matrix = np.delete(tde_matrix, np.arange(2, tde_matrix.shape[1], 3), axis=1)\n",
    "\n",
    "# Generate Guassian slip source and synthetic displacements\n",
    "slip_distribution, synthetic_displacements = get_synthetic_displacements(meshes[0], tde_matrix)\n",
    "\n",
    "# Slip estimation with direct inverse and smoothing matrix\n",
    "smoothing_matrix = meshes[0].smoothing_matrix.toarray()\n",
    "smoothing_matrix = np.delete(smoothing_matrix, np.arange(2, smoothing_matrix.shape[0], 3), axis=0)\n",
    "smoothing_matrix = np.delete(smoothing_matrix, np.arange(2, smoothing_matrix.shape[1], 3), axis=1)\n",
    "smoothing_matrix = meshes[0].smoothing_weight * smoothing_matrix # Weight smoothing matrix\n",
    "tde_and_smoothing_matrix = np.vstack((tde_matrix, smoothing_matrix))\n",
    "# synthetic_displacements_with_smoothing = np.hstack((synthetic_displacements, np.zeros(smoothing_matrix.shape[0]).T))\n",
    "# estimated_slip_distribution = np.linalg.inv(tde_and_smoothing_matrix.T @ tde_and_smoothing_matrix) @ tde_and_smoothing_matrix.T @ synthetic_displacements_with_smoothing\n",
    "# plot_slip_distributions(meshes[0], slip_distribution, estimated_slip_distribution, suptitle_string=\"Direct inverse - with smoothing\")"
   ],
   "outputs": [],
   "metadata": {}
  },
  {
   "cell_type": "markdown",
   "source": [
    "# Sketching out the assembly of the block model system\n",
    "The list here is in as of right now (09/19/21)...a work in progress\n",
    "\n",
    "## The observation vector:    \n",
    "| What | Symbolically | Variable name |\n",
    "| - | - | - |\n",
    "| GPS velocities | $\\mathbf{v}$ | ```assembly.data.east_vel, assembly.data.north_vel``` |\n",
    "| Slip rate constraints | $\\dot{\\mathbf{s}}$ | ```assembly.slip_rate_constraints``` |\n",
    "| Rotation vector constraints | $\\boldsymbol{\\omega}$ | ```assembly.block_constraints``` |\n",
    "\n",
    "## The state vector:    \n",
    "| What | Symbolically | Variable name |\n",
    "| - | - | - |\n",
    "| Block rotation rates | $\\boldsymbol{\\Omega}$ | ```estimation.block_rotation_vectors``` |\n",
    "| TDE slip | $\\mathbf{t}$ | ```estimation.tri_slip_rates``` |\n",
    "  \n",
    "## Matrix operators:    \n",
    "| What | Symbolically | Variable name |\n",
    "| - | - | - |\n",
    "| Rotation vector to GPS | $\\boldsymbol{\\Omega} \\rightarrow \\mathbf{v}$ | ```operators.block_rotation``` | \n",
    "| Rotation vector to GPS | $\\boldsymbol{\\Omega} \\rightarrow \\mathbf{v}$ | ```operators.global_float_block_rotation``` | \n",
    "| Rotation vector to segment slip rates| $\\boldsymbol{\\Omega} \\rightarrow \\dot{\\mathbf{s}}$ | ```operators.slip_rate_segment_block``` | \n",
    "| Segment slip rates to elastic deformation | $\\dot{\\mathbf{s}} \\rightarrow \\mathbf{v}$ | ```operators.okada_segment_station``` | \n",
    "| TDE slip to GPS | $\\mathbf{t} \\rightarrow \\mathbf{v}$ | ```operators.tri_station``` |\n",
    "| Rotation vector to slip rate constraints| $\\boldsymbol{\\Omega} \\rightarrow \\dot{\\mathbf{s}}$ | ```operators.slip_rate_constraints``` |\n",
    "| Rotation vector to Euler pole contraints | $\\mathbf{I}$ | ```operators.block_motion_contraints``` |\n",
    "\n"
   ],
   "metadata": {}
  },
  {
   "cell_type": "markdown",
   "source": [],
   "metadata": {}
  },
  {
   "cell_type": "code",
   "execution_count": 7,
   "source": [
    "print(operators.keys())\n",
    "print(assembly.data.keys())"
   ],
   "outputs": [
    {
     "output_type": "stream",
     "name": "stdout",
     "text": [
      "dict_keys(['okada_segment_station', 'tri_station', 'block_rotation', 'global_float_block_rotation', 'block_motion_constraints', 'slip_rate_constraints', 'slip_rate_segment_block', 'block_strain_rate', 'mogi_station'])\n",
      "dict_keys(['n_stations', 'n_sar', 'east_vel', 'north_vel', 'up_vel', 'sar_line_of_sight_change_val', 'lon', 'lat', 'depth', 'x', 'y', 'z', 'block_label', 'n_block_constraints', 'block_constraints', 'n_slip_rate_constraints', 'slip_rate_constraints'])\n"
     ]
    }
   ],
   "metadata": {}
  },
  {
   "cell_type": "code",
   "execution_count": 26,
   "source": [
    "# Rotations only - with JDF a priori and no global float\n",
    "\n",
    "data_vector = np.zeros(2 * assembly.data.n_stations\n",
    "                     + 3 * assembly.data.n_block_constraints)\n",
    "data_vector[0:2 * assembly.data.n_stations] = celeri.interleave2(assembly.data.east_vel, assembly.data.north_vel)\n",
    "\n",
    "# Add block motion costraints to data vector\n",
    "data_vector[2 * assembly.data.n_stations:2 * assembly.data.n_stations + 3 * assembly.data.n_block_constraints] = assembly.data.block_constraints\n",
    "data_vector[2 * assembly.data.n_stations:2 * assembly.data.n_stations + 3 * assembly.data.n_block_constraints] = 0\n",
    "\n",
    "\n",
    "operator = np.zeros((2 * assembly.data.n_stations + 3 * assembly.data.n_block_constraints, 3 * len(block)))\n",
    "operator[0:2 * assembly.data.n_stations, :] = np.delete(operators.block_rotation, np.arange(2, operators.block_rotation.shape[0], 3), axis=0) # Delete up velocity partials\n",
    "operator[2 * assembly.data.n_stations:2 * assembly.data.n_stations + 3 * assembly.data.n_block_constraints, :]  = operators.block_motion_constraints\n",
    "\n",
    "estimation = addict.Dict()\n",
    "state_vector = np.linalg.inv(operator.T @ operator) @ operator.T @ data_vector \n",
    "\n",
    "estimation.predictions = operator @ state_vector\n",
    "vel = estimation.predictions[0:2 * assembly.data.n_stations]\n",
    "estimation.east_vel = vel[0::2]\n",
    "estimation.north_vel = vel[1::2]\n",
    "\n",
    "# Plot observed and estimated velocities\n",
    "lon_min=235\n",
    "lon_max=255\n",
    "lat_min=30\n",
    "lat_max=50\n",
    "quiver_scale=1e2\n",
    "\n",
    "plt.figure()\n",
    "for i in range(len(segment)):\n",
    "    plt.plot([segment.lon1[i], segment.lon2[i]], [segment.lat1[i], segment.lat2[i]], \"-k\", linewidth=0.5)\n",
    "\n",
    "plt.quiver(station.lon, station.lat, station.east_vel, station.north_vel, scale=quiver_scale, scale_units=\"inches\", color=\"g\")\n",
    "plt.quiver(station.lon, station.lat, estimation.east_vel, estimation.north_vel, scale=quiver_scale, scale_units=\"inches\", color=\"r\")\n",
    "\n",
    "plt.xlim([lon_min, lon_max])\n",
    "plt.ylim([lat_min, lat_max])\n",
    "plt.gca().set_aspect(\"equal\", adjustable=\"box\")\n",
    "plt.title(\"observed and estimated velocities\")\n",
    "plt.show()\n"
   ],
   "outputs": [
    {
     "output_type": "display_data",
     "data": {
      "application/vnd.jupyter.widget-view+json": {
       "version_major": 2,
       "version_minor": 0,
       "model_id": "cc261d413dd94484a695faecb6800995"
      },
      "text/plain": [
       "Canvas(toolbar=Toolbar(toolitems=[('Home', 'Reset original view', 'home', 'home'), ('Back', 'Back to previous …"
      ]
     },
     "metadata": {}
    }
   ],
   "metadata": {}
  },
  {
   "cell_type": "code",
   "execution_count": 31,
   "source": [
    "# Rotations only - with JDF a priori and global float\n",
    "# data_vector = np.zeros(2 * assembly.data.n_stations\n",
    "#                      + 3 * assembly.data.n_block_constraints)\n",
    "# data_vector[0:2 * assembly.data.n_stations] = celeri.interleave2(assembly.data.east_vel, assembly.data.north_vel)\n",
    "# data_vector[2 * assembly.data.n_stations:2 * assembly.data.n_stations + 3 * assembly.data.n_block_constraints] = assembly.data.block_constraints\n",
    "\n",
    "operator2 = np.zeros((2 * assembly.data.n_stations + 3 * assembly.data.n_block_constraints, 3 * len(block) + 3)) # the \"+3\" at the end is for the global reference frame float\n",
    "operator2[0:2 * assembly.data.n_stations, 0:-3] = np.delete(operators.block_rotation, np.arange(2, operators.block_rotation.shape[0], 3), axis=0) # Delete up velocity partials\n",
    "operator2[2 * assembly.data.n_stations:2 * assembly.data.n_stations + 3 * assembly.data.n_block_constraints, 0:-3]  = operators.block_motion_constraints\n",
    "operator2[0:2 * assembly.data.n_stations, -3:] = np.delete(operators.global_float_block_rotation, np.arange(2, operators.global_float_block_rotation.shape[0], 3), axis=0) # Global float\n",
    "\n",
    "estimation2 = addict.Dict()\n",
    "state_vector2 = np.linalg.inv(operator2.T @ operator2) @ operator2.T @ data_vector \n",
    "estimation2.predictions = operator2 @ state_vector2\n",
    "vel = estimation2.predictions[0:2 * assembly.data.n_stations]\n",
    "estimation2.east_vel = vel[0::2]\n",
    "estimation2.north_vel = vel[1::2]\n",
    "\n",
    "# Isolate the part of the state vector assocated with the global float\n",
    "state_vector3 = copy.deepcopy(state_vector2)\n",
    "state_vector3[0:-3] = 0\n",
    "estimation3 = addict.Dict()\n",
    "estimation3.predictions = operator2 @ state_vector3\n",
    "vel = estimation3.predictions[0:2 * assembly.data.n_stations]\n",
    "estimation3.east_vel = vel[0::2]\n",
    "estimation3.north_vel = vel[1::2]\n",
    "\n",
    "# Plot observed and estimated velocities\n",
    "lon_min=235\n",
    "lon_max=255\n",
    "lat_min=30\n",
    "lat_max=50\n",
    "quiver_scale=1e2\n",
    "\n",
    "plt.figure()\n",
    "for i in range(len(segment)):\n",
    "    plt.plot([segment.lon1[i], segment.lon2[i]], [segment.lat1[i], segment.lat2[i]], \"-k\", linewidth=0.5)\n",
    "plt.quiver(station.lon, station.lat, station.east_vel, station.north_vel, scale=quiver_scale, scale_units=\"inches\", color=\"g\")\n",
    "plt.quiver(station.lon, station.lat, estimation2.east_vel, estimation2.north_vel, scale=quiver_scale, scale_units=\"inches\", color=\"r\")\n",
    "plt.xlim([lon_min, lon_max])\n",
    "plt.ylim([lat_min, lat_max])\n",
    "plt.gca().set_aspect(\"equal\", adjustable=\"box\")\n",
    "plt.title(\"observed and estimated velocities\")\n",
    "plt.show()\n"
   ],
   "outputs": [
    {
     "output_type": "display_data",
     "data": {
      "application/vnd.jupyter.widget-view+json": {
       "version_major": 2,
       "version_minor": 0,
       "model_id": "51b43b0bbab04c2b8031b8ffedefd3e3"
      },
      "text/plain": [
       "Canvas(toolbar=Toolbar(toolitems=[('Home', 'Reset original view', 'home', 'home'), ('Back', 'Back to previous …"
      ]
     },
     "metadata": {}
    }
   ],
   "metadata": {}
  },
  {
   "cell_type": "code",
   "execution_count": 28,
   "source": [
    "# Compare residuals\n",
    "east_vel_residual = estimation.east_vel - station.east_vel\n",
    "north_vel_residual = estimation.north_vel - station.north_vel\n",
    "residual = np.concatenate((east_vel_residual, north_vel_residual))\n",
    "\n",
    "east_vel_residual2 = estimation2.east_vel - station.east_vel\n",
    "north_vel_residual2 = estimation2.north_vel - station.north_vel\n",
    "residual2 = np.concatenate((east_vel_residual2, north_vel_residual2))\n",
    "\n",
    "east_vel_residual3 = estimation3.east_vel - station.east_vel\n",
    "north_vel_residual3 = estimation3.north_vel - station.north_vel\n",
    "residual3 = np.concatenate((east_vel_residual3, north_vel_residual3))\n",
    "\n",
    "print(np.sum(residual**2))\n",
    "print(np.sum(residual2**2))\n",
    "print(np.sum(residual3**2))\n",
    "\n",
    "num_bins = 10\n",
    "plt.figure()\n",
    "n, bins, _ = plt.hist(residual, num_bins, density=True, histtype='step', label=\"no global float\")\n",
    "n, bins, _ = plt.hist(residual2, num_bins, density=True, histtype='step', label=\"global float\")\n",
    "n, bins, _ = plt.hist(residual3, num_bins, density=True, histtype='step', label=\"only global float\")\n",
    "plt.legend()\n",
    "plt.show()"
   ],
   "outputs": [
    {
     "output_type": "stream",
     "name": "stdout",
     "text": [
      "21236.334934924016\n",
      "52538.17671930704\n",
      "611043.8410400748\n"
     ]
    },
    {
     "output_type": "display_data",
     "data": {
      "application/vnd.jupyter.widget-view+json": {
       "version_major": 2,
       "version_minor": 0,
       "model_id": "05c619a55f784237a1d89d06a912fad9"
      },
      "text/plain": [
       "Canvas(toolbar=Toolbar(toolitems=[('Home', 'Reset original view', 'home', 'home'), ('Back', 'Back to previous …"
      ]
     },
     "metadata": {}
    }
   ],
   "metadata": {}
  },
  {
   "cell_type": "code",
   "execution_count": 30,
   "source": [
    "print(state_vector.shape)\n",
    "print(state_vector2.shape)\n",
    "\n",
    "plt.figure()\n",
    "# plt.plot(np.log10(np.abs(state_vector)), \"r+\")\n",
    "# plt.plot(np.log10(np.abs(state_vector2)), \"bx\")\n",
    "\n",
    "plt.plot(state_vector, \"r+\")\n",
    "plt.plot(state_vector2, \"bx\")\n",
    "plt.plot(state_vector3, \"g.\")\n",
    "plt.show()"
   ],
   "outputs": [
    {
     "output_type": "stream",
     "name": "stdout",
     "text": [
      "(93,)\n",
      "(96,)\n"
     ]
    },
    {
     "output_type": "stream",
     "name": "stderr",
     "text": [
      "/var/folders/fl/sm71y44x3tqc7r1wc40k10gc0000gn/T/ipykernel_99311/2324614039.py:4: RuntimeWarning: More than 20 figures have been opened. Figures created through the pyplot interface (`matplotlib.pyplot.figure`) are retained until explicitly closed and may consume too much memory. (To control this warning, see the rcParam `figure.max_open_warning`).\n",
      "  plt.figure()\n"
     ]
    },
    {
     "output_type": "display_data",
     "data": {
      "application/vnd.jupyter.widget-view+json": {
       "version_major": 2,
       "version_minor": 0,
       "model_id": "32733cda41704dc084e4722e2088eb57"
      },
      "text/plain": [
       "Canvas(toolbar=Toolbar(toolitems=[('Home', 'Reset original view', 'home', 'home'), ('Back', 'Back to previous …"
      ]
     },
     "metadata": {}
    }
   ],
   "metadata": {}
  },
  {
   "cell_type": "code",
   "execution_count": null,
   "source": [],
   "outputs": [],
   "metadata": {}
  }
 ],
 "metadata": {
  "interpreter": {
   "hash": "1c99b817e7692020a25f5bce5fd58f988aabefee874a9cd895a1468d49750c9a"
  },
  "kernelspec": {
   "name": "python3",
   "display_name": "Python 3.9.6 64-bit ('celeri': conda)"
  },
  "language_info": {
   "codemirror_mode": {
    "name": "ipython",
    "version": 3
   },
   "file_extension": ".py",
   "mimetype": "text/x-python",
   "name": "python",
   "nbconvert_exporter": "python",
   "pygments_lexer": "ipython3",
   "version": "3.9.6"
  },
  "widgets": {
   "application/vnd.jupyter.widget-state+json": {
    "state": {
     "4d250c5d35aa493295ca814fb3eaa1ee": {
      "model_module": "@jupyter-widgets/base",
      "model_module_version": "1.2.0",
      "model_name": "LayoutModel",
      "state": {}
     },
     "6faf75ca5f3b41388f284e98ec2cf803": {
      "model_module": "jupyter-matplotlib",
      "model_module_version": "^0.9.0",
      "model_name": "ToolbarModel",
      "state": {
       "layout": "IPY_MODEL_9b061db2dc65459ca586b9b9f73c2362",
       "toolitems": [
        [
         "Home",
         "Reset original view",
         "home",
         "home"
        ],
        [
         "Back",
         "Back to previous view",
         "arrow-left",
         "back"
        ],
        [
         "Forward",
         "Forward to next view",
         "arrow-right",
         "forward"
        ],
        [
         "Pan",
         "Left button pans, Right button zooms\nx/y fixes axis, CTRL fixes aspect",
         "arrows",
         "pan"
        ],
        [
         "Zoom",
         "Zoom to rectangle\nx/y fixes axis, CTRL fixes aspect",
         "square-o",
         "zoom"
        ],
        [
         "Download",
         "Download plot",
         "floppy-o",
         "save_figure"
        ]
       ]
      }
     },
     "9b061db2dc65459ca586b9b9f73c2362": {
      "model_module": "@jupyter-widgets/base",
      "model_module_version": "1.2.0",
      "model_name": "LayoutModel",
      "state": {}
     },
     "c25a38234e8f4e818670d9767f95a430": {
      "model_module": "jupyter-matplotlib",
      "model_module_version": "^0.9.0",
      "model_name": "MPLCanvasModel",
      "state": {
       "_cursor": "default",
       "_figure_label": "Figure 1",
       "_height": 708,
       "_width": 1746,
       "layout": "IPY_MODEL_4d250c5d35aa493295ca814fb3eaa1ee",
       "toolbar": "IPY_MODEL_6faf75ca5f3b41388f284e98ec2cf803",
       "toolbar_position": "left"
      }
     }
    },
    "version_major": 2,
    "version_minor": 0
   }
  }
 },
 "nbformat": 4,
 "nbformat_minor": 4
}