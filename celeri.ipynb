{
 "cells": [
  {
   "cell_type": "code",
   "execution_count": 1,
   "source": [
    "%matplotlib widget\n",
    "%config InlineBackend.figure_format = 'svg'"
   ],
   "outputs": [],
   "metadata": {
    "execution": {
     "iopub.execute_input": "2021-08-22T18:29:50.539195Z",
     "iopub.status.busy": "2021-08-22T18:29:50.538938Z",
     "iopub.status.idle": "2021-08-22T18:29:50.550334Z",
     "shell.execute_reply": "2021-08-22T18:29:50.549700Z",
     "shell.execute_reply.started": "2021-08-22T18:29:50.539169Z"
    },
    "tags": []
   }
  },
  {
   "cell_type": "code",
   "execution_count": 2,
   "source": [
    "import addict\n",
    "import numpy as np\n",
    "import pandas as pd\n",
    "import matplotlib.pyplot as plt\n",
    "from importlib import reload\n",
    "from tqdm.notebook import tqdm\n",
    "\n",
    "import celeri\n",
    "celeri = reload(celeri)\n",
    "\n",
    "# Plotting the global model is much much faster with tex fonts turned off\n",
    "plt.rcParams['text.usetex'] = False"
   ],
   "outputs": [],
   "metadata": {
    "execution": {
     "iopub.execute_input": "2021-08-22T18:29:51.661926Z",
     "iopub.status.busy": "2021-08-22T18:29:51.661659Z",
     "iopub.status.idle": "2021-08-22T18:29:51.956035Z",
     "shell.execute_reply": "2021-08-22T18:29:51.955292Z",
     "shell.execute_reply.started": "2021-08-22T18:29:51.661900Z"
    },
    "tags": []
   }
  },
  {
   "cell_type": "code",
   "execution_count": 3,
   "source": [
    "command_file_name = './data/western_north_america/basic_command.json'\n",
    "command, segment, block, meshes, station, mogi, sar = celeri.read_data(command_file_name)\n",
    "station = celeri.process_station(station, command)\n",
    "segment = celeri.process_segment(segment, command, meshes)\n",
    "sar = celeri.process_sar(sar, command)\n",
    "closure = celeri.assign_block_labels(segment, station, block, mogi, sar)\n",
    "# celeri.plot_block_labels(segment, block, station, closure)"
   ],
   "outputs": [
    {
     "output_type": "stream",
     "name": "stderr",
     "text": [
      "WARNING:root:The file contains tag data that couldn't be processed.\n"
     ]
    }
   ],
   "metadata": {
    "execution": {
     "iopub.execute_input": "2021-08-22T18:29:53.570589Z",
     "iopub.status.busy": "2021-08-22T18:29:53.570331Z",
     "iopub.status.idle": "2021-08-22T18:30:09.817977Z",
     "shell.execute_reply": "2021-08-22T18:30:09.817443Z",
     "shell.execute_reply.started": "2021-08-22T18:29:53.570561Z"
    },
    "tags": []
   }
  },
  {
   "cell_type": "code",
   "execution_count": 4,
   "source": [
    "assembly = addict.Dict()\n",
    "operators = addict.Dict()\n",
    "assembly = celeri.merge_geodetic_data(assembly, station, sar)\n",
    "assembly, operators.block_motion_constraints = celeri.block_constraints(assembly, block, command)\n",
    "assembly, operators.slip_rate_constraints = celeri.slip_rate_constraints(assembly, segment, block, command)\n",
    "operators.okada_segment_station = celeri.get_segment_station_operator_okada(segment, station, command)\n",
    "operators.slip_rate_segment_block = celeri.get_fault_slip_rate_partials(segment, block)\n",
    "assembly.index.sz_elastic = operators.okada_segment_station.shape # Not sure this is correct\n",
    "assembly.index.sz_slip = operators.slip_rate_segment_block.shape # Not sure this is correct\n",
    "operators.block_rotation = celeri.get_block_rotation_operator(station, block)\n",
    "assembly.index.sz_rotation = operators.block_rotation.shape # Not sure this is correct\n",
    "assembly = celeri.station_row_keep(assembly) # Not sure this is correct\n"
   ],
   "outputs": [
    {
     "output_type": "display_data",
     "data": {
      "text/plain": [
       "Calculating Okada partials for segments:   0%|          | 0/837 [00:00<?, ?it/s]"
      ],
      "application/vnd.jupyter.widget-view+json": {
       "version_major": 2,
       "version_minor": 0,
       "model_id": "c496544fd9584b3087d01cdfd75f5aa5"
      }
     },
     "metadata": {}
    }
   ],
   "metadata": {
    "tags": []
   }
  },
  {
   "cell_type": "code",
   "execution_count": 5,
   "source": [
    "celeri.plot_segment_displacements(segment, station, command, segment_idx=0, strike_slip=1, dip_slip=0, tensile_slip=0, lon_min=235, lon_max=255, lat_min=30, lat_max=50, quiver_scale=1e-1)"
   ],
   "outputs": [
    {
     "output_type": "display_data",
     "data": {
      "text/plain": [
       "Canvas(toolbar=Toolbar(toolitems=[('Home', 'Reset original view', 'home', 'home'), ('Back', 'Back to previous …"
      ],
      "application/vnd.jupyter.widget-view+json": {
       "version_major": 2,
       "version_minor": 0,
       "model_id": "4833e720ff88432293f5551cd2246a55"
      }
     },
     "metadata": {}
    }
   ],
   "metadata": {}
  },
  {
   "cell_type": "code",
   "execution_count": 6,
   "source": [
    "model = addict.Dict()\n",
    "\n",
    "# function [strain, Index, Model] def get_strain_operator(block, station, segment, command, assembly)\n",
    "\"\"\"\n",
    "Wrapper function for calculating strain partial derivatives.\n",
    "\"\"\"\n",
    "\n",
    "# [strain, Index.strainBlock]                = deal(zeros(3*numel(Station.lon), 0), []);\n",
    "# [Model.lonStrain, Model.latStrain]         = deal(zeros(size(Block.interiorLon)));\n",
    "\n",
    "# TODO: rename block_rotation_flag\n",
    "# TODO: block.strain_flag for this: Add to matlab converter\n",
    "# if any(block.strain_flag) # If any blocks have strain turned on\n",
    "#    if command.strain_method == 1:\n",
    "#          [strain, Index.strainBlock,...\n",
    "#           Model.lonStrain, Model.latStrain]   = GetStrainCentroidPartials(Block, Station, Segment);\n",
    "#    if command.strain_method == 2: # Solve for the reference coordinates\n",
    "#          [strain, Index.strainBlock]          = GetStrain56Partials(Block, Station, Segment);\n",
    "#    if command.strain_method == 3: # Solve for the reference latitude only\n",
    "#          [strain, Index.strainBlock]          = GetStrain34Partials(Block, Station, Segment);\n",
    "#    if command.strain_method == 4: # Use the simulated annealing approach to solve for reference coordinates inside the block boundaries\n",
    "#          [strain, Index.strainBlock]          = GetStrainSearchPartials(Block, Station, Segment);\n",
    "#    end      \n",
    "# end\n",
    "\n",
    "# function [G, strainBlockIdx, cLon, cLat, toDelete]  = GetStrainCentroidPartials(Block, Station, Segment)\n",
    "# % Calculate strain partial derivatives\n",
    "# nStations                                   = numel(Station.lon);\n",
    "# nBlocks\t                                   = numel(Block.interiorLon);\n",
    "# G                                           = zeros(3*nStations, 3*nBlocks);\n",
    "# R              \t\t\t\t                 = 6371*1e6; % radius of Earth in mm\n",
    "# minSta                                      = 3; % 3 for Jack\n",
    "\n",
    "# % Convert station positions into radians and co-latitude\n",
    "# Station.lon                                 = deg2rad(Station.lon);\n",
    "# Station.lat(find(Station.lat)>=0)           = 90 - Station.lat(find(Station.lat)>=0);\n",
    "# Station.lat(find(Station.lat)<0)            = -90 - Station.lat(find(Station.lat)<0);\n",
    "# Station.lat                                 = deg2rad(Station.lat);\n",
    "\n",
    "# % Create array containing column index limits of the design matrix\n",
    "# firstCol                                    = 3*Station.blockLabel - 2;\n",
    "# lastCol                                     = 3*Station.blockLabel;\n",
    "\n",
    "# [cLon, cLat]\t\t\t\t\t\t\t\t\t \t  = deal(zeros(nBlocks, 1));\t\n",
    "\n",
    "# for iStation = 1:nStations\n",
    "#    if Block.rotationInfo(Station.blockLabel(iStation)) == 1\n",
    "#       % Partials with block centroid\n",
    "#       % The block \"centroid\" is only an approximation given by the mean of its coordinates\n",
    "#       % This should work reasonably well for the \"chopped\" case but is not exact or general\n",
    "#       idx1                                  = find(Segment.eastLabel == Station.blockLabel(iStation));\n",
    "#       idx2                                  = find(Segment.westLabel == Station.blockLabel(iStation));\n",
    "#       idx                                   = union(idx1, idx2);\n",
    "#       lonVec                                = [Segment.lon1(idx);Segment.lon2(idx)];\n",
    "#       latVec                                = [Segment.lat1(idx);Segment.lat2(idx)];\n",
    "# %       [lat0 lon0]                           = meanm(latVec(:), lonVec(:));\n",
    "#       lat0                                  = mean(latVec(:));\n",
    "#       lon0                                  = mean(lonVec(:));\n",
    "#       cLon(Station.blockLabel(iStation))\t  = lon0;\n",
    "#       cLat(Station.blockLabel(iStation))\t  = lat0;\n",
    "#       lon0                                  = deg2rad(lon0);\n",
    "#       lat0(lat0>=0)                         = 90 - lat0(lat0>=0);\n",
    "#       lat0(lat0<0)                          = -90 - lat0(lat0<0);      \n",
    "#       lat0                                  = deg2rad(lat0);\n",
    "#       G(3*iStation-2:3*iStation, firstCol(iStation):lastCol(iStation)) = [R*(Station.lon(iStation)-lon0).*sin(lat0) R*(Station.lat(iStation)-lat0) 0;...\n",
    "#                                                                           0 R*(Station.lon(iStation)-lon0).*sin(lat0) R*(Station.lat(iStation)-lat0);...\n",
    "#                                                                           0 0 0];\n",
    "#    end\n",
    "# end\n",
    "\n",
    "# % Get rid of blocks that don't have enough stations on them\n",
    "# for i = 1:size(G, 2)/3;\n",
    "#    j                                        = 3*i-1;\n",
    "#    numSta(i)                                = numel(find(G(:, j)));\n",
    "# end\n",
    "# toDelete                                    = [3*find(numSta<2*minSta)-2 3*find(numSta<2*minSta)-1 3*find(numSta<2*minSta)];\n",
    "# strainBlockIdx                              = setdiff(1:1:nBlocks*3, toDelete);\n",
    "# G(:,toDelete)                               = [];\n",
    "\n",
    "\n",
    "\n"
   ],
   "outputs": [
    {
     "output_type": "execute_result",
     "data": {
      "text/plain": [
       "'\\nWrapper function for calculating strain partial derivatives.\\n'"
      ]
     },
     "metadata": {},
     "execution_count": 6
    }
   ],
   "metadata": {}
  },
  {
   "cell_type": "code",
   "execution_count": 7,
   "source": [
    "meshes[0]"
   ],
   "outputs": [
    {
     "output_type": "execute_result",
     "data": {
      "text/plain": [
       "{'meshio_object': <meshio mesh object>\n",
       "   Number of points: 1916\n",
       "   Number of cells:\n",
       "     vertex: 939\n",
       "     line: 529\n",
       "     triangle: 1841\n",
       "   Cell data: gmsh:physical, gmsh:geometrical,\n",
       " 'verts': array([[ 959, 1448,  958],\n",
       "        [ 968, 1451,  967],\n",
       "        [1452,  942, 1449],\n",
       "        ...,\n",
       "        [1348, 1418, 1417],\n",
       "        [1323, 1392, 1391],\n",
       "        [1324, 1392, 1323]], dtype=int32),\n",
       " 'lon1': array([234.16884, 234.59692, 232.46514, ..., 237.38835, 237.36071,\n",
       "        237.52994]),\n",
       " 'lon2': array([234.30769, 234.84839, 232.35332, ..., 237.69473, 237.77738,\n",
       "        237.77738]),\n",
       " 'lon3': array([234.11219, 234.56599, 232.6475 , ..., 237.70365, 237.59935,\n",
       "        237.36071]),\n",
       " 'lat1': array([46.489017, 44.899407, 49.414525, ..., 44.235789, 48.677958,\n",
       "        48.535287]),\n",
       " 'lat2': array([46.623271, 45.04691 , 49.252602, ..., 44.08235 , 48.678275,\n",
       "        48.678275]),\n",
       " 'lat3': array([46.664495, 45.077935, 49.285313, ..., 44.262152, 48.814083,\n",
       "        48.677958]),\n",
       " 'dep1': array([  0.     ,   0.     ,  -4.15682, ..., -60.     , -60.     ,\n",
       "        -60.     ]),\n",
       " 'dep2': array([ -1.8694907,  -4.9990969,   0.       , ..., -70.       ,\n",
       "        -70.       , -70.       ]),\n",
       " 'dep3': array([  0.       ,   0.       ,  -4.9763993, ..., -70.       ,\n",
       "        -70.       , -60.       ]),\n",
       " 'centroids': array([[234.19624   ,  46.592261  ,  -0.62316357],\n",
       "        [234.67043333,  45.008084  ,  -1.66636563],\n",
       "        [232.48865333,  49.31748   ,  -3.04440643],\n",
       "        ...,\n",
       "        [237.59557667,  44.19343033, -66.66666667],\n",
       "        [237.57914667,  48.72343867, -66.66666667],\n",
       "        [237.55601   ,  48.63050667, -63.33333333]]),\n",
       " 'x1': array([-2566355.59574609, -2612964.97459932, -2522171.93478065, ...,\n",
       "        -2435547.32218687, -2246249.273539  , -2242206.48322626]),\n",
       " 'y1': array([-3554263.96578923, -3676380.35228102, -3282820.93139806, ...,\n",
       "        -3806653.69919674, -3507061.26758694, -3523621.06739307]),\n",
       " 'z1': array([4617940.89169556, 4494551.48022562, 4832511.51699113, ...,\n",
       "        4400153.96985656, 4736955.09469758, 4726569.87282174]),\n",
       " 'x2': array([-2550665.4767816 , -2588100.36941015, -2538562.72809442, ...,\n",
       "        -2417606.98504707, -2217151.13793065, -2217151.13793065]),\n",
       " 'y2': array([-3550632.1481773 , -3675452.39549018, -3290841.17311149, ...,\n",
       "        -3823497.41483236, -3517695.62226384, -3517695.62226384]),\n",
       " 'z2': array([4626841.70609502, 4502610.31770913, 4823941.86432662, ...,\n",
       "        4381078.99884763, 4729467.99864429, 4729467.99864429]),\n",
       " 'x3': array([-2561565.74723296, -2606817.17072967, -2517992.02409776, ...,\n",
       "        -2409654.04837548, -2222057.52605203, -2246249.273539  ]),\n",
       " 'y3': array([-3540249.79472744, -3663540.73323148, -3299061.61247351, ...,\n",
       "        -3812233.45274471, -3501314.5924372 , -3507061.26758694]),\n",
       " 'z3': array([4631345.78444043, 4508583.47997037, 4822541.96202415, ...,\n",
       "        4395253.42596348, 4739310.67616628, 4736955.09469758]),\n",
       " 'nv': array([[ 8.99203883e-07,  2.90292230e-07,  9.73880454e-06],\n",
       "        [ 2.44630207e-06,  4.23822163e-07,  1.50653735e-05],\n",
       "        [ 1.83598931e-06,  1.82659466e-06,  1.33960884e-05],\n",
       "        ...,\n",
       "        [ 4.92840860e-06, -2.44498975e-07,  1.71976067e-05],\n",
       "        [ 3.72252431e-06,  4.87983773e-06,  1.72546135e-05],\n",
       "        [ 3.91064050e-06,  4.63862798e-06,  1.81248496e-05]]),\n",
       " 'strike': array([342.10823463, 350.171064  , 315.14696519, ...,   2.8401224 ,\n",
       "        307.33775454, 310.1328896 ]),\n",
       " 'dip': array([ 5.54173653,  9.3581208 , 10.94192175, ..., 16.00965154,\n",
       "        19.58083632, 18.50748477]),\n",
       " 'dip_flag': array([ True,  True,  True, ...,  True,  True,  True])}"
      ]
     },
     "metadata": {},
     "execution_count": 7
    }
   ],
   "metadata": {}
  },
  {
   "cell_type": "code",
   "execution_count": null,
   "source": [],
   "outputs": [],
   "metadata": {}
  }
 ],
 "metadata": {
  "interpreter": {
   "hash": "1c99b817e7692020a25f5bce5fd58f988aabefee874a9cd895a1468d49750c9a"
  },
  "kernelspec": {
   "name": "python3",
   "display_name": "Python 3.9.6 64-bit ('celeri': conda)"
  },
  "language_info": {
   "codemirror_mode": {
    "name": "ipython",
    "version": 3
   },
   "file_extension": ".py",
   "mimetype": "text/x-python",
   "name": "python",
   "nbconvert_exporter": "python",
   "pygments_lexer": "ipython3",
   "version": "3.9.6"
  },
  "widgets": {
   "application/vnd.jupyter.widget-state+json": {
    "state": {
     "4d250c5d35aa493295ca814fb3eaa1ee": {
      "model_module": "@jupyter-widgets/base",
      "model_module_version": "1.2.0",
      "model_name": "LayoutModel",
      "state": {}
     },
     "6faf75ca5f3b41388f284e98ec2cf803": {
      "model_module": "jupyter-matplotlib",
      "model_module_version": "^0.9.0",
      "model_name": "ToolbarModel",
      "state": {
       "layout": "IPY_MODEL_9b061db2dc65459ca586b9b9f73c2362",
       "toolitems": [
        [
         "Home",
         "Reset original view",
         "home",
         "home"
        ],
        [
         "Back",
         "Back to previous view",
         "arrow-left",
         "back"
        ],
        [
         "Forward",
         "Forward to next view",
         "arrow-right",
         "forward"
        ],
        [
         "Pan",
         "Left button pans, Right button zooms\nx/y fixes axis, CTRL fixes aspect",
         "arrows",
         "pan"
        ],
        [
         "Zoom",
         "Zoom to rectangle\nx/y fixes axis, CTRL fixes aspect",
         "square-o",
         "zoom"
        ],
        [
         "Download",
         "Download plot",
         "floppy-o",
         "save_figure"
        ]
       ]
      }
     },
     "9b061db2dc65459ca586b9b9f73c2362": {
      "model_module": "@jupyter-widgets/base",
      "model_module_version": "1.2.0",
      "model_name": "LayoutModel",
      "state": {}
     },
     "c25a38234e8f4e818670d9767f95a430": {
      "model_module": "jupyter-matplotlib",
      "model_module_version": "^0.9.0",
      "model_name": "MPLCanvasModel",
      "state": {
       "_cursor": "default",
       "_figure_label": "Figure 1",
       "_height": 708,
       "_width": 1746,
       "layout": "IPY_MODEL_4d250c5d35aa493295ca814fb3eaa1ee",
       "toolbar": "IPY_MODEL_6faf75ca5f3b41388f284e98ec2cf803",
       "toolbar_position": "left"
      }
     }
    },
    "version_major": 2,
    "version_minor": 0
   }
  }
 },
 "nbformat": 4,
 "nbformat_minor": 4
}