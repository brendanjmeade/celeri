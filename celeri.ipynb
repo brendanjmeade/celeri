{
 "cells": [
  {
   "cell_type": "code",
   "execution_count": 11,
   "source": [
    "%matplotlib widget\n",
    "%config InlineBackend.figure_format = 'svg'\n",
    "# %load_ext line_profiler # Example: %lprun -T lprof0 -f celeri.celeri.get_okada_displacements u_east, u_north, u_up = celeri.get_okada_displacements(segment.lon1.values[segment_idx], segment.lat1[segment_idx], segment.lon2[segment_idx], segment.lat2[segment_idx], segment.locking_depth[segment_idx], segment.burial_depth[segment_idx], segment.dip[segment_idx], command.material_lambda, command.material_mu, 1, 0, 0, station.lon, station.lat)"
   ],
   "outputs": [],
   "metadata": {
    "execution": {
     "iopub.execute_input": "2021-08-22T18:29:50.539195Z",
     "iopub.status.busy": "2021-08-22T18:29:50.538938Z",
     "iopub.status.idle": "2021-08-22T18:29:50.550334Z",
     "shell.execute_reply": "2021-08-22T18:29:50.549700Z",
     "shell.execute_reply.started": "2021-08-22T18:29:50.539169Z"
    },
    "tags": []
   }
  },
  {
   "cell_type": "code",
   "execution_count": 12,
   "source": [
    "import addict\n",
    "import numpy as np\n",
    "import pandas as pd\n",
    "import matplotlib.pyplot as plt\n",
    "from importlib import reload\n",
    "from tqdm.notebook import tqdm\n",
    "\n",
    "import celeri\n",
    "celeri = reload(celeri)\n",
    "\n",
    "# Plotting the global model is much much faster with tex fonts turned off\n",
    "plt.rcParams['text.usetex'] = False"
   ],
   "outputs": [],
   "metadata": {
    "execution": {
     "iopub.execute_input": "2021-08-22T18:29:51.661926Z",
     "iopub.status.busy": "2021-08-22T18:29:51.661659Z",
     "iopub.status.idle": "2021-08-22T18:29:51.956035Z",
     "shell.execute_reply": "2021-08-22T18:29:51.955292Z",
     "shell.execute_reply.started": "2021-08-22T18:29:51.661900Z"
    },
    "tags": []
   }
  },
  {
   "cell_type": "code",
   "execution_count": 13,
   "source": [
    "command_file_name = \"./data/western_north_america/basic_command.json\"\n",
    "command, segment, block, meshes, station, mogi, sar = celeri.read_data(command_file_name)\n",
    "station = celeri.process_station(station, command)\n",
    "segment = celeri.process_segment(segment, command, meshes)\n",
    "sar = celeri.process_sar(sar, command)\n",
    "closure, block = celeri.assign_block_labels(segment, station, block, mogi, sar)\n",
    "# celeri.plot_block_labels(segment, block, station, closure)"
   ],
   "outputs": [
    {
     "output_type": "stream",
     "name": "stderr",
     "text": [
      "WARNING:root:The file contains tag data that couldn't be processed.\n"
     ]
    }
   ],
   "metadata": {
    "execution": {
     "iopub.execute_input": "2021-08-22T18:29:53.570589Z",
     "iopub.status.busy": "2021-08-22T18:29:53.570331Z",
     "iopub.status.idle": "2021-08-22T18:30:09.817977Z",
     "shell.execute_reply": "2021-08-22T18:30:09.817443Z",
     "shell.execute_reply.started": "2021-08-22T18:29:53.570561Z"
    },
    "tags": []
   }
  },
  {
   "cell_type": "code",
   "execution_count": null,
   "source": [
    "assembly = addict.Dict()\n",
    "operators = addict.Dict()\n",
    "assembly = celeri.merge_geodetic_data(assembly, station, sar) # Not sure this work correctly\n",
    "\n",
    "# Build all linear operators\n",
    "operators.block_rotation = celeri.get_block_rotation_operator(station)\n",
    "operators.global_float_block_rotation = celeri.get_global_float_block_rotation_operator(station)\n",
    "assembly, operators.block_motion_constraints = celeri.block_constraints(assembly, block, command)\n",
    "assembly, operators.slip_rate_constraints = celeri.slip_rate_constraints(assembly, segment, block, command)\n",
    "operators.okada_segment_station = celeri.get_segment_station_operator_okada(segment, station, command)\n",
    "# celeri.plot_segment_displacements(segment, station, command, segment_idx=0, strike_slip=1, dip_slip=0, tensile_slip=0, lon_min=235, lon_max=255, lat_min=30, lat_max=50, quiver_scale=1e-1)\n",
    "operators.slip_rate_segment_block = celeri.get_fault_slip_rate_partials(segment, block)\n",
    "operators.block_strain_rate, strain_rate_block_idx = celeri.get_strain_rate_centroid_operator(block, station, segment)\n",
    "operators.mogi_station = celeri.get_mogi_operator(mogi, station, command)\n",
    "\n",
    "# Get additiona matrix shape information for assembly\n",
    "assembly.index.sz_elastic = operators.okada_segment_station.shape # Not sure this is correct\n",
    "assembly.index.sz_slip = operators.slip_rate_segment_block.shape # Not sure this is correct\n",
    "assembly.index.sz_rotation = operators.block_rotation.shape # Not sure this is correct\n",
    "assembly = celeri.station_row_keep(assembly) # Not sure this is correct"
   ],
   "outputs": [],
   "metadata": {
    "tags": []
   }
  },
  {
   "cell_type": "code",
   "execution_count": 6,
   "source": [
    "# Starting work on TDEs\n",
    "import matplotlib.pyplot as plt\n",
    "import numpy as np\n",
    "import cutde\n",
    "\n",
    "xs = np.linspace(-2, 2, 200)\n",
    "ys = np.linspace(-2, 2, 200)\n",
    "obsx, obsy = np.meshgrid(xs, ys)\n",
    "pts = np.array([obsx, obsy, 0 * obsy]).reshape((3, -1)).T.copy()\n",
    "\n",
    "fault_pts = np.array([[-1, 0, 0], [1, 0, 0], [1, 0, -1], [-1, 0, -1]])\n",
    "fault_tris = np.array([[0, 1, 2], [0, 2, 3]], dtype=np.int64)\n",
    "\n",
    "%time disp_mat = cutde.fullspace.disp_matrix(obs_pts=pts, tris=fault_pts[fault_tris], nu=0.25)\n",
    "\n",
    "slip = np.array([[1, 0, 0], [1, 0, 0]])\n",
    "disp = disp_mat.reshape((-1, 6)).dot(slip.flatten())\n",
    "disp_grid = disp.reshape((*obsx.shape, 3))\n",
    "\n",
    "plt.figure()\n",
    "cntf = plt.contourf(obsx, obsy, disp_grid[:, :, 0], levels=21)\n",
    "plt.contour(obsx, obsy, disp_grid[:, :, 0], colors=\"k\", linestyles=\"-\", linewidths=0.5,levels=21)\n",
    "plt.colorbar(cntf)\n",
    "plt.title(\"u_x\")\n",
    "plt.tight_layout()\n",
    "# plt.savefig(\"docs/example.png\", bbox_inches=\"tight\")"
   ],
   "outputs": [
    {
     "output_type": "stream",
     "name": "stdout",
     "text": [
      "CPU times: user 248 ms, sys: 5.98 ms, total: 254 ms\n",
      "Wall time: 28.4 ms\n"
     ]
    },
    {
     "output_type": "display_data",
     "data": {
      "application/vnd.jupyter.widget-view+json": {
       "version_major": 2,
       "version_minor": 0,
       "model_id": "6c047a816ebe4e56ac8dc26dd002f170"
      },
      "text/plain": [
       "Canvas(toolbar=Toolbar(toolitems=[('Home', 'Reset original view', 'home', 'home'), ('Back', 'Back to previous …"
      ]
     },
     "metadata": {}
    }
   ],
   "metadata": {}
  },
  {
   "cell_type": "code",
   "execution_count": 8,
   "source": [
    "\n",
    "segment_locking_depth *= celeri.KM2M\n",
    "segment_burial_depth *= celeri.KM2M\n",
    "\n",
    "# Project coordinates to flat space using a local oblique Mercator projection\n",
    "projection = celeri.get_segment_oblique_projection(segment_lon1, segment_lat1, segment_lon2, segment_lat2)\n",
    "station_x, station_y = projection(station_lon, station_lat)\n",
    "segment_x1, segment_y1 = projection(segment_lon1, segment_lat1)\n",
    "segment_x2, segment_y2 = projection(segment_lon2, segment_lat2)\n",
    "\n",
    "# Translate stations and segment so that segment mid-point is at the origin\n",
    "segment_x_mid = (segment_x1 + segment_x2) / 2.0\n",
    "segment_y_mid = (segment_y1 + segment_y2) / 2.0\n",
    "station_x -= segment_x_mid\n",
    "station_y -= segment_y_mid\n",
    "segment_x1 -= segment_x_mid\n",
    "segment_x2 -= segment_x_mid\n",
    "segment_y1 -= segment_y_mid\n",
    "segment_y2 -= segment_y_mid\n",
    "\n",
    "# Unrotate coordinates to eliminate strike, segment will lie along y = 0\n",
    "rotation_matrix = np.array(\n",
    "    [\n",
    "        [np.cos(segment_strike), -np.sin(segment_strike)],\n",
    "        [np.sin(segment_strike), np.cos(segment_strike)],\n",
    "    ]\n",
    ")\n",
    "station_x_rotated, station_y_rotated = np.hsplit(np.einsum(\"ij,kj->ik\", np.dstack((station_x, station_y))[0], rotation_matrix.T), 2)\n",
    "\n",
    "# Elastic displacements from Okada 1992\n",
    "u_x = np.zeros_like(station_x)\n",
    "u_y = np.zeros_like(station_x)\n",
    "u_up = np.zeros_like(station_x)\n",
    "for i in range(len(station_x)):\n",
    "    _, u, _ = okada_wrapper.dc3dwrapper(\n",
    "        alpha,  # (lambda + mu) / (lambda + 2 * mu)\n",
    "        [\n",
    "            station_x_rotated[i],\n",
    "            station_y_rotated[i],\n",
    "            0,\n",
    "        ],  # (meters) observation point\n",
    "        -segment_locking_depth,  # (meters) depth of the fault origin\n",
    "        segment_dip,  # (degrees) the dip-angle of the rectangular dislocation surface\n",
    "        [\n",
    "            -segment_length / 2,\n",
    "            segment_length / 2,\n",
    "        ],  # (meters) the along-strike range of the surface (al1,al2 in the original)\n",
    "        [\n",
    "            0,\n",
    "            segment_up_dip_width,\n",
    "        ],  # (meters) along-dip range of the surface (aw1, aw2 in the original)\n",
    "        [strike_slip, dip_slip, tensile_slip],\n",
    "    )  # (meters) strike-slip, dip-slip, tensile-slip\n",
    "    u_x[i] = u[0]\n",
    "    u_y[i] = u[1]\n",
    "    u_up[i] = u[2]\n",
    "\n",
    "# Un-rotate displacement to account for projected fault strike\n",
    "u_east, u_north = np.hsplit(np.einsum(\"ij,kj->ik\", np.dstack((u_x, u_y))[0], rotation_matrix), 2)\n"
   ],
   "outputs": [
    {
     "output_type": "execute_result",
     "data": {
      "text/plain": [
       "(40000, 3)"
      ]
     },
     "metadata": {},
     "execution_count": 8
    }
   ],
   "metadata": {}
  },
  {
   "cell_type": "code",
   "execution_count": 70,
   "source": [
    "import pyproj\n",
    "def get_transverse_projection(lon0, lat0):\n",
    "    \"\"\"\n",
    "    Use pyproj oblique mercator: https://proj.org/operations/projections/tmerc.html\n",
    "    \"\"\"\n",
    "    if lon0 > 180.0:\n",
    "        lon0 = lon0 - 360\n",
    "    projection_string = (\n",
    "        \"+proj=tmerc \"\n",
    "        + \"+lon_0=\"\n",
    "        + str(lon0)\n",
    "        + \" \"\n",
    "        + \"+lat_0=\"\n",
    "        + str(lat0)\n",
    "        + \" \"\n",
    "        + \"+ellps=WGS84\"\n",
    "    )\n",
    "    projection = pyproj.Proj(pyproj.CRS.from_proj4(projection_string))\n",
    "    return projection\n",
    "\n",
    "\n",
    "tri_idx = 0\n",
    "plt.figure()\n",
    "plt.plot(station.lon, station.lat, \"r.\")\n",
    "plt.plot(meshes[0].lon1[tri_idx], meshes[0].lat1[tri_idx], \"+k\")\n",
    "plt.plot(meshes[0].lon2[tri_idx], meshes[0].lat2[tri_idx], \"+k\")\n",
    "plt.plot(meshes[0].lon3[tri_idx], meshes[0].lat3[tri_idx], \"+k\")\n",
    "plt.show()\n",
    "\n",
    "# Try a projected version\n",
    "tri_centroid_lon = meshes[0].centroids[tri_idx, 0]\n",
    "tri_centroid_lat = meshes[0].centroids[tri_idx, 1]\n",
    "projection = get_transverse_projection(tri_centroid_lon, tri_centroid_lat)\n",
    "station_x, station_y = projection(station.lon, station.lat)\n",
    "tri_x1, tri_y1 = projection(meshes[0].lon1[tri_idx], meshes[0].lat1[tri_idx])\n",
    "tri_x2, tri_y2 = projection(meshes[0].lon2[tri_idx], meshes[0].lat2[tri_idx])\n",
    "tri_x3, tri_y3 = projection(meshes[0].lon3[tri_idx], meshes[0].lat3[tri_idx])\n",
    "tri_z1 = celeri.KM2M * meshes[0].dep1[tri_idx]\n",
    "tri_z2 = celeri.KM2M * meshes[0].dep2[tri_idx]\n",
    "tri_z3 = celeri.KM2M * meshes[0].dep3[tri_idx]\n",
    "\n",
    "plt.figure()\n",
    "plt.plot(station_x, station_y, \"r.\")\n",
    "plt.plot(tri_x1, tri_y1, \"+k\")\n",
    "plt.plot(tri_x2, tri_y2, \"+k\")\n",
    "plt.plot(tri_x3, tri_y3, \"+k\")\n",
    "plt.show()\n",
    "\n",
    "# Package coordinates for cutde call\n",
    "obs_coords = np.vstack((station_x, station_y, np.zeros_like(station_x))).T\n",
    "# tri_coords = np.array([[-1, 0, 0], [1, 0, 0], [1, 0, -1]])\n",
    "tri_coords = np.array([[tri_x1, tri_y1, tri_z1], [tri_x2, tri_y2, tri_z2], [tri_x3, tri_y3, tri_z3]])\n",
    "fault_tris = np.array([[0, 1, 2]], dtype=np.int64)\n",
    "# %time disp_mat = cutde.fullspace.disp_matrix(obs_pts=pts, tris=fault_pts[fault_tris], nu=0.25)\n",
    "%time disp_mat = cutde.fullspace.disp_matrix(obs_pts=obs_coords, tris=np.array([tri_coords]), nu=0.25)\n",
    "# %time disp_mat = cutde.fullspace.disp_matrix(obs_pts=obs_coords, tris=fault_pts[fault_tris], nu=0.25)\n",
    "\n",
    "slip = np.array([[1, 0, 0]])\n",
    "disp = disp_mat.reshape((-1, 3)).dot(slip.flatten())\n",
    "u_x = disp[0::3]\n",
    "u_y = disp[1::3]\n",
    "u_z = disp[2::3]\n",
    "\n",
    "plt.figure()\n",
    "plt.plot(station_x, station_y, \"r.\")\n",
    "plt.plot(tri_x1, tri_y1, \"+k\")\n",
    "plt.plot(tri_x2, tri_y2, \"+k\")\n",
    "plt.plot(tri_x3, tri_y3, \"+k\")\n",
    "plt.quiver(station_x, station_y, u_x, u_y, scale=1e7, scale_units=\"inches\",)\n",
    "plt.show()\n"
   ],
   "outputs": [
    {
     "output_type": "display_data",
     "data": {
      "application/vnd.jupyter.widget-view+json": {
       "version_major": 2,
       "version_minor": 0,
       "model_id": "3bf6544f4ccf43ee93a246ca401536a8"
      },
      "text/plain": [
       "Canvas(toolbar=Toolbar(toolitems=[('Home', 'Reset original view', 'home', 'home'), ('Back', 'Back to previous …"
      ]
     },
     "metadata": {}
    },
    {
     "output_type": "display_data",
     "data": {
      "application/vnd.jupyter.widget-view+json": {
       "version_major": 2,
       "version_minor": 0,
       "model_id": "628671150ef04b8baa932e7659074cd1"
      },
      "text/plain": [
       "Canvas(toolbar=Toolbar(toolitems=[('Home', 'Reset original view', 'home', 'home'), ('Back', 'Back to previous …"
      ]
     },
     "metadata": {}
    },
    {
     "output_type": "stream",
     "name": "stdout",
     "text": [
      "CPU times: user 6.81 ms, sys: 1.25 ms, total: 8.06 ms\n",
      "Wall time: 2.12 ms\n"
     ]
    },
    {
     "output_type": "stream",
     "name": "stderr",
     "text": [
      "/Users/meade/opt/anaconda3/envs/celeri/lib/python3.9/site-packages/cutde/coordinators.py:77: UserWarning: The obs_pts input array has Fortran ordering. Converting to C ordering. This may be expensive.\n",
      "  warnings.warn(\n"
     ]
    },
    {
     "output_type": "display_data",
     "data": {
      "application/vnd.jupyter.widget-view+json": {
       "version_major": 2,
       "version_minor": 0,
       "model_id": "8cc6f2e5301d43cbb297f5d13832b383"
      },
      "text/plain": [
       "Canvas(toolbar=Toolbar(toolitems=[('Home', 'Reset original view', 'home', 'home'), ('Back', 'Back to previous …"
      ]
     },
     "metadata": {}
    }
   ],
   "metadata": {}
  },
  {
   "cell_type": "code",
   "execution_count": null,
   "source": [],
   "outputs": [],
   "metadata": {}
  }
 ],
 "metadata": {
  "interpreter": {
   "hash": "1c99b817e7692020a25f5bce5fd58f988aabefee874a9cd895a1468d49750c9a"
  },
  "kernelspec": {
   "name": "python3",
   "display_name": "Python 3.9.6 64-bit ('celeri': conda)"
  },
  "language_info": {
   "codemirror_mode": {
    "name": "ipython",
    "version": 3
   },
   "file_extension": ".py",
   "mimetype": "text/x-python",
   "name": "python",
   "nbconvert_exporter": "python",
   "pygments_lexer": "ipython3",
   "version": "3.9.6"
  },
  "widgets": {
   "application/vnd.jupyter.widget-state+json": {
    "state": {
     "4d250c5d35aa493295ca814fb3eaa1ee": {
      "model_module": "@jupyter-widgets/base",
      "model_module_version": "1.2.0",
      "model_name": "LayoutModel",
      "state": {}
     },
     "6faf75ca5f3b41388f284e98ec2cf803": {
      "model_module": "jupyter-matplotlib",
      "model_module_version": "^0.9.0",
      "model_name": "ToolbarModel",
      "state": {
       "layout": "IPY_MODEL_9b061db2dc65459ca586b9b9f73c2362",
       "toolitems": [
        [
         "Home",
         "Reset original view",
         "home",
         "home"
        ],
        [
         "Back",
         "Back to previous view",
         "arrow-left",
         "back"
        ],
        [
         "Forward",
         "Forward to next view",
         "arrow-right",
         "forward"
        ],
        [
         "Pan",
         "Left button pans, Right button zooms\nx/y fixes axis, CTRL fixes aspect",
         "arrows",
         "pan"
        ],
        [
         "Zoom",
         "Zoom to rectangle\nx/y fixes axis, CTRL fixes aspect",
         "square-o",
         "zoom"
        ],
        [
         "Download",
         "Download plot",
         "floppy-o",
         "save_figure"
        ]
       ]
      }
     },
     "9b061db2dc65459ca586b9b9f73c2362": {
      "model_module": "@jupyter-widgets/base",
      "model_module_version": "1.2.0",
      "model_name": "LayoutModel",
      "state": {}
     },
     "c25a38234e8f4e818670d9767f95a430": {
      "model_module": "jupyter-matplotlib",
      "model_module_version": "^0.9.0",
      "model_name": "MPLCanvasModel",
      "state": {
       "_cursor": "default",
       "_figure_label": "Figure 1",
       "_height": 708,
       "_width": 1746,
       "layout": "IPY_MODEL_4d250c5d35aa493295ca814fb3eaa1ee",
       "toolbar": "IPY_MODEL_6faf75ca5f3b41388f284e98ec2cf803",
       "toolbar_position": "left"
      }
     }
    },
    "version_major": 2,
    "version_minor": 0
   }
  }
 },
 "nbformat": 4,
 "nbformat_minor": 4
}