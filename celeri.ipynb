{
 "cells": [
  {
   "cell_type": "code",
   "execution_count": 139,
   "source": [
    "%matplotlib widget\n",
    "%config InlineBackend.figure_format = 'svg'"
   ],
   "outputs": [],
   "metadata": {}
  },
  {
   "cell_type": "code",
   "execution_count": 140,
   "source": [
    "import copy\n",
    "import datetime\n",
    "import os\n",
    "import string\n",
    "import numpy as np\n",
    "import pandas as pd\n",
    "import matplotlib.pyplot as plt\n",
    "from importlib import reload\n",
    "\n",
    "import celeri\n",
    "celeri = reload(celeri)"
   ],
   "outputs": [],
   "metadata": {
    "tags": []
   }
  },
  {
   "cell_type": "code",
   "execution_count": 141,
   "source": [
    "RUN_NAME = datetime.datetime.now().strftime(\"%y%m%d%H%M%S\") + os.sep\n",
    "command_file_name = './data/western_north_america/western_north_america_command.json'\n",
    "command, segment, block, station, mogi, sar = celeri.read_data(command_file_name)\n",
    "station = celeri.process_station(station, command)\n",
    "segment = celeri.process_segment(segment, command)\n",
    "sar = celeri.process_sar(sar, command)\n",
    "segment, station, block, mogi, sar = celeri.assign_block_labels(segment, station, block, mogi, sar)\n",
    "geodetic_data = celeri.merge_geodetic_data(station, sar)"
   ],
   "outputs": [],
   "metadata": {
    "tags": []
   }
  },
  {
   "cell_type": "code",
   "execution_count": 176,
   "source": [
    "# celeri.plot_block_labels(segment, block, station)"
   ],
   "outputs": [
    {
     "output_type": "display_data",
     "data": {
      "text/plain": [
       "Canvas(toolbar=Toolbar(toolitems=[('Home', 'Reset original view', 'home', 'home'), ('Back', 'Back to previous …"
      ],
      "application/vnd.jupyter.widget-view+json": {
       "version_major": 2,
       "version_minor": 0,
       "model_id": "2675701a4b7f40f3a157e2510cf13574"
      }
     },
     "metadata": {}
    }
   ],
   "metadata": {}
  },
  {
   "cell_type": "code",
   "execution_count": 143,
   "source": [
    "def get_block_constraint_partials(block):\n",
    "    \"\"\"\n",
    "    Partials for a priori block motion constraints.\n",
    "    Essentially a set of eye(3) matrices\n",
    "    \"\"\"\n",
    "    n_blocks = len(block)\n",
    "    apriori_blocks_idx = np.where(block.apriori_flag.to_numpy() == 1)\n",
    "    partials = np.zeros(3 * len(apriori_blocks_idx), 3 * n_blocks)\n",
    "    for i in range(len(apriori_blocks_idx)):\n",
    "    #     partials(3*(i-1) + (1:3), 3*(ap(i)-1) + (1:3)) = np.eye(3)\n",
    "    return partials\n",
    "\n",
    "def block_constraints(block, index, data, sigma, command):\n",
    "    \"\"\"\n",
    "    Applying a priori block motion constraints\n",
    "    \"\"\"\n",
    "    block_constraint_partials = get_block_constraint_partials(block)\n",
    "    index.block_constraints = np.where(block.apriori_flag.to_numpy == 1)\n",
    "    data.n_block_constraints = 3 * len(index.block_constraints)\n",
    "    data.block_constraints = np.zeros(block_constraint_partials.size[0])\n",
    "    sigma.block_constraints = np.zeros(block_constraint_partials.size[0])\n",
    "    if data.n_block_constraints > 0:\n",
    "    #    apLons, apLats, apRates = deal(Block.eulerLon(Index.blockCon), Block.eulerLat(Index.blockCon), Block.rotationRate(Index.blockCon).*1e6)\n",
    "    #    apbx, apby, apbz = EulerToOmega(apLons, apLats, apRates)\n",
    "    #    data.block_constraints[0::3] = apbx\n",
    "    #    data.block_constraints[1::3] = apby\n",
    "    #    data.block_constraints[2::3] = apbz\n",
    "    #    apbcov = stack3([deg_to_rad(Block.eulerLatSig(Index.blockCon)), deg_to_rad(Block.eulerLonSig(Index.blockCon)), deg_to_rad(Block.rotationRateSig(Index.blockCon))])\n",
    "    #    apbsx, apbsy, apbsz = epoles_cov_to_omega_cov(apbx, apby, apbz, diag(apbcov))\n",
    "    #    sigma.block_constraints[0::3] = apbsx\n",
    "    #    sigma.block_constraints[1::3] = apbsy\n",
    "    #    sigma.block_constraints[2::3] = apbsz\n",
    "\n",
    "    sigma.block_constraint_weight = command[\"block_constraint_weight\"]\n",
    "    return block_constraint_partials, index, data, sigma"
   ],
   "outputs": [],
   "metadata": {}
  },
  {
   "cell_type": "code",
   "execution_count": 150,
   "source": [
    "a = np.array([1, 2, 3, 4, 5, 6, 7, 8, 9,10])\n",
    "np.eye(3)\n",
    "0::2"
   ],
   "outputs": [
    {
     "output_type": "error",
     "ename": "SyntaxError",
     "evalue": "invalid syntax (<ipython-input-150-263fd1cb6c13>, line 3)",
     "traceback": [
      "\u001b[0;36m  File \u001b[0;32m\"<ipython-input-150-263fd1cb6c13>\"\u001b[0;36m, line \u001b[0;32m3\u001b[0m\n\u001b[0;31m    0::2\u001b[0m\n\u001b[0m      ^\u001b[0m\n\u001b[0;31mSyntaxError\u001b[0m\u001b[0;31m:\u001b[0m invalid syntax\n"
     ]
    }
   ],
   "metadata": {}
  },
  {
   "cell_type": "code",
   "execution_count": 163,
   "source": [
    "station.lat.to_numpy()[0:5]"
   ],
   "outputs": [
    {
     "output_type": "execute_result",
     "data": {
      "text/plain": [
       "array([-43.956, -17.577,   8.722,  19.801,  20.707])"
      ]
     },
     "metadata": {},
     "execution_count": 163
    }
   ],
   "metadata": {}
  },
  {
   "cell_type": "code",
   "execution_count": 157,
   "source": [
    "station.lon[0:5]"
   ],
   "outputs": [
    {
     "output_type": "execute_result",
     "data": {
      "text/plain": [
       "0    100.0\n",
       "1    100.0\n",
       "2    100.0\n",
       "3    100.0\n",
       "4    100.0\n",
       "Name: lon, dtype: float64"
      ]
     },
     "metadata": {},
     "execution_count": 157
    }
   ],
   "metadata": {}
  },
  {
   "cell_type": "code",
   "execution_count": 164,
   "source": [
    "command[\"station_file_name\"]"
   ],
   "outputs": [
    {
     "output_type": "execute_result",
     "data": {
      "text/plain": [
       "'./data/western_north_america/western_north_america_station.csv'"
      ]
     },
     "metadata": {},
     "execution_count": 164
    }
   ],
   "metadata": {}
  },
  {
   "cell_type": "code",
   "execution_count": 166,
   "source": [
    "station[\"jack\"] = np.ones_like(station.lon)"
   ],
   "outputs": [],
   "metadata": {}
  },
  {
   "cell_type": "code",
   "execution_count": 171,
   "source": [
    "station.lon = station.lon.to_numpy()"
   ],
   "outputs": [],
   "metadata": {}
  },
  {
   "cell_type": "code",
   "execution_count": 173,
   "source": [
    "type(station.lon)"
   ],
   "outputs": [
    {
     "output_type": "execute_result",
     "data": {
      "text/plain": [
       "pandas.core.series.Series"
      ]
     },
     "metadata": {},
     "execution_count": 173
    }
   ],
   "metadata": {}
  },
  {
   "cell_type": "code",
   "execution_count": 175,
   "source": [
    "station = station[station.flag ==1]"
   ],
   "outputs": [],
   "metadata": {}
  },
  {
   "cell_type": "code",
   "execution_count": null,
   "source": [],
   "outputs": [],
   "metadata": {}
  }
 ],
 "metadata": {
  "interpreter": {
   "hash": "749f0fc94df05971c9b3f3660cf19264b2aeee03fc6d4bf75e86fd251d69cf68"
  },
  "kernelspec": {
   "name": "python3",
   "display_name": "Python 3.8.8 64-bit ('base': conda)"
  },
  "language_info": {
   "codemirror_mode": {
    "name": "ipython",
    "version": 3
   },
   "file_extension": ".py",
   "mimetype": "text/x-python",
   "name": "python",
   "nbconvert_exporter": "python",
   "pygments_lexer": "ipython3",
   "version": "3.8.8"
  },
  "widgets": {
   "application/vnd.jupyter.widget-state+json": {
    "state": {},
    "version_major": 2,
    "version_minor": 0
   }
  }
 },
 "nbformat": 4,
 "nbformat_minor": 4
}