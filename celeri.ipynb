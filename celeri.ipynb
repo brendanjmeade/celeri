{
 "cells": [
  {
   "cell_type": "code",
   "execution_count": 3,
   "metadata": {
    "execution": {
     "iopub.execute_input": "2021-08-22T18:29:51.661926Z",
     "iopub.status.busy": "2021-08-22T18:29:51.661659Z",
     "iopub.status.idle": "2021-08-22T18:29:51.956035Z",
     "shell.execute_reply": "2021-08-22T18:29:51.955292Z",
     "shell.execute_reply.started": "2021-08-22T18:29:51.661900Z"
    },
    "tags": []
   },
   "outputs": [],
   "source": [
    "%matplotlib widget\n",
    "%config InlineBackend.figure_format = \"svg\"\n",
    "\n",
    "import addict\n",
    "import copy\n",
    "import numpy as np\n",
    "import pandas as pd\n",
    "import matplotlib.pyplot as plt\n",
    "from importlib import reload\n",
    "from tqdm.notebook import tqdm\n",
    "from typing import List, Dict, Tuple\n",
    "\n",
    "import celeri\n",
    "celeri = reload(celeri)\n",
    "\n",
    "plt.rcParams[\"text.usetex\"] = False # Plotting the global model is much much faster with tex fonts turned off"
   ]
  },
  {
   "cell_type": "markdown",
   "metadata": {},
   "source": [
    "# Read in data files, create storage dictionaries, and do basic processing"
   ]
  },
  {
   "cell_type": "code",
   "execution_count": 4,
   "metadata": {
    "execution": {
     "iopub.execute_input": "2021-08-22T18:29:53.570589Z",
     "iopub.status.busy": "2021-08-22T18:29:53.570331Z",
     "iopub.status.idle": "2021-08-22T18:30:09.817977Z",
     "shell.execute_reply": "2021-08-22T18:30:09.817443Z",
     "shell.execute_reply.started": "2021-08-22T18:29:53.570561Z"
    },
    "tags": []
   },
   "outputs": [
    {
     "name": "stderr",
     "output_type": "stream",
     "text": [
      "WARNING:root:The file contains tag data that couldn't be processed.\n"
     ]
    }
   ],
   "source": [
    "command_file_name = \"./data/western_north_america/basic_command.json\"\n",
    "command, segment, block, meshes, station, mogi, sar = celeri.read_data(command_file_name)\n",
    "station = celeri.process_station(station, command)\n",
    "segment = celeri.process_segment(segment, command, meshes)\n",
    "sar = celeri.process_sar(sar, command)\n",
    "closure, block = celeri.assign_block_labels(segment, station, block, mogi, sar)\n",
    "assembly = addict.Dict()\n",
    "operators = addict.Dict()\n",
    "operators.meshes = [addict.Dict()] * len(meshes)\n",
    "assembly = celeri.merge_geodetic_data(assembly, station, sar) # Not sure this works correctly"
   ]
  },
  {
   "cell_type": "markdown",
   "metadata": {},
   "source": [
    "# Get elastic operators and TDE smoothing operators"
   ]
  },
  {
   "cell_type": "code",
   "execution_count": 5,
   "metadata": {},
   "outputs": [],
   "source": [
    "# Get all elastic operators for segments and TDEs\n",
    "celeri.get_elastic_operators(operators, meshes, segment, station, command)\n",
    "\n",
    "# Get TDE smoothing operators\n",
    "celeri.get_all_mesh_smoothing_matrices(meshes, operators)\n",
    "celeri.get_all_mesh_smoothing_matrices_simple(meshes, operators)"
   ]
  },
  {
   "cell_type": "markdown",
   "metadata": {},
   "source": [
    "# Calculate non-elastic operators"
   ]
  },
  {
   "cell_type": "code",
   "execution_count": 6,
   "metadata": {
    "tags": []
   },
   "outputs": [],
   "source": [
    "operators.rotation_to_velocities = celeri.get_block_rotation_operator(station)\n",
    "operators.global_float_block_rotation = celeri.get_global_float_block_rotation_operator(station)\n",
    "assembly, operators.block_motion_constraints = celeri.block_constraints(assembly, block, command)\n",
    "assembly, operators.slip_rate_constraints = celeri.slip_rate_constraints(assembly, segment, block, command)\n",
    "operators.rotation_to_slip_rate = celeri.get_fault_slip_rate_partials(segment, block)\n",
    "operators.block_strain_rate_to_velocities, strain_rate_block_index = celeri.get_strain_rate_centroid_operator(block, station, segment)\n",
    "operators.mogi_to_velocities = celeri.get_mogi_operator(mogi, station, command)"
   ]
  },
  {
   "cell_type": "markdown",
   "metadata": {},
   "source": [
    "# Plot input data"
   ]
  },
  {
   "cell_type": "code",
   "execution_count": 7,
   "metadata": {},
   "outputs": [
    {
     "data": {
      "application/vnd.jupyter.widget-view+json": {
       "model_id": "4adfac447329417aae392a8b7d09dc84",
       "version_major": 2,
       "version_minor": 0
      },
      "text/plain": [
       "Canvas(toolbar=Toolbar(toolitems=[('Home', 'Reset original view', 'home', 'home'), ('Back', 'Back to previous …"
      ]
     },
     "metadata": {},
     "output_type": "display_data"
    }
   ],
   "source": [
    "celeri.plot_input_summary(segment, station, block, meshes, mogi, sar, lon_range=(225, 250), lat_range=(30, 52), quiver_scale=1e2)"
   ]
  },
  {
   "cell_type": "markdown",
   "metadata": {},
   "source": [
    "# Sketching out the assembly of the block model system\n",
    "\n",
    "$$\n",
    "\\begin{bmatrix}\n",
    "    \\mathrm{geodetic \\; velocities} \\\\\n",
    "    \\mathrm{plate \\; rotation \\; constraints} \\\\\n",
    "    \\mathrm{slip \\; rate \\; constraints} \\\\\n",
    "    \\mathrm{TDE \\; smoothing \\; pseudodata = 0} \\\\\n",
    "    \\mathrm{TDE \\; rate \\; constraints} \\\\\n",
    "    \\mathrm{InSAR \\; LOS \\; changes} \n",
    "\\end{bmatrix}\n",
    "=\n",
    "\\begin{bmatrix}\n",
    "    \\mathrm{(rotations-elastic \\; segments) \\; to \\; velocities} & \\mathrm{TDEs \\; to \\; velocities} & \\mathrm{block \\; strain \\; rate \\; to \\; velocities} & \\mathrm{Mogi \\; to \\; velocities}\\\\\n",
    "    \\mathrm{identities}                                          & 0                                   & 0                                & 0\\\\\n",
    "    \\mathrm{plate \\; rotations \\; to \\; slip \\; rates}           & 0                                   & 0                                & 0\\\\\n",
    "    0                                                            & \\mathrm{TDE \\; smoothing \\; matrix} & 0                                & 0\\\\\n",
    "    0                                                            & \\mathrm{identities}                 & 0                                & 0\\\\\n",
    "    \\mathrm{(rotations-elastic \\; segments) \\; to \\; LOS}        & \\mathrm{TDEs \\; to \\; LOS}          & \\mathrm{block \\; strain \\; rate \\; to \\; velocities}  & \\mathrm{Mogi \\; to \\; LOS}\n",
    "\\end{bmatrix}\n",
    "\\begin{bmatrix}\n",
    "    \\mathrm{plate \\; rotation \\; rates} \\\\\n",
    "    \\mathrm{TDE \\; slip \\; rates} \\\\\n",
    "    \\mathrm{block \\; strain \\; rates} \\\\\n",
    "    \\mathrm{Mogi \\; sources} \n",
    "\\end{bmatrix}\n",
    "$$"
   ]
  },
  {
   "cell_type": "markdown",
   "metadata": {},
   "source": [
    "# Block model with block rotations, fully locked segments and partially locked subduction zone using the full tde_matrix and smoothing matrix"
   ]
  },
  {
   "cell_type": "code",
   "execution_count": 8,
   "metadata": {},
   "outputs": [
    {
     "name": "stdout",
     "output_type": "stream",
     "text": [
      "(7058, 7058)\n",
      "True\n"
     ]
    }
   ],
   "source": [
    "# TODO: What should this conversion be?\n",
    "DEG_PER_MYR_TO_RAD_PER_YR = np.deg2rad(1) / 1e6\n",
    "DEG_PER_MYR_TO_RAD_PER_YR = 1 / 1e6\n",
    "\n",
    "# Create dictionary to store indices and sizes for operator building\n",
    "index = addict.Dict()\n",
    "index.n_stations = assembly.data.n_stations\n",
    "index.vertical_velocities = np.arange(2, 3 * index.n_stations, 3)\n",
    "index.n_blocks = len(block)\n",
    "index.n_block_constraints = assembly.data.n_block_constraints\n",
    "index.station_row_keep_index = celeri.get_keep_index_12(3 * len(station))\n",
    "index.start_station_row = 0\n",
    "index.end_station_row = 2 * len(station)\n",
    "index.start_block_col = 0\n",
    "index.end_block_col = 3 * len(block)\n",
    "index.start_block_constraints_row = index.end_station_row\n",
    "index.end_block_constraints_row = index.start_block_constraints_row + 3 * index.n_block_constraints\n",
    "index.n_slip_rate_constraints = assembly.data.slip_rate_constraints.size\n",
    "index.start_slip_rate_constraints_row = index.end_block_constraints_row\n",
    "index.end_slip_rate_constraints_row = index.start_slip_rate_constraints_row + index.n_slip_rate_constraints\n",
    "\n",
    "index.meshes = [addict.Dict()] * len(meshes)\n",
    "index.n_tde_total = 0\n",
    "for i in range(len(meshes)):\n",
    "    index.meshes[i].n_tde = meshes[i].n_tde\n",
    "    index.n_tde_total += index.meshes[i].n_tde\n",
    "    if i == 0:\n",
    "        index.meshes[i].start_tde_col = index.end_block_col\n",
    "        index.meshes[i].end_tde_col = index.meshes[i].start_tde_col + 2 * index.meshes[i].n_tde\n",
    "        index.meshes[i].start_tde_smoothing_row = index.end_slip_rate_constraints_row\n",
    "        index.meshes[i].end_tde_smoothing_row = index.meshes[i].start_tde_smoothing_row + 2 * index.meshes[i].n_tde\n",
    "    else:\n",
    "        index.meshes[i].start_tde_col = index.meshes[i - 1].end_tde_col\n",
    "        index.meshes[i].end_tde_col = index.meshes[i].start_tde_col + 2 * index.meshes[i].n_tde\n",
    "        index.meshes[i].start_tde_smoothing_row = index.meshes[i - 1].end_tde_smoothing_row\n",
    "        index.meshes[i].end_tde_smoothing_row = index.meshes[i].start_tde_smoothing_row + 2 * index.meshes[i].n_tde\n",
    "\n",
    "index.start_tde_col = index.end_block_col\n",
    "index.end_tde_col = index.start_tde_col + 2 * index.meshes[0].n_tde\n",
    "index.start_tde_smoothing_row = index.end_slip_rate_constraints_row\n",
    "index.end_tde_smoothing_row = index.start_tde_smoothing_row + 2 * index.meshes[0].n_tde\n",
    "\n",
    "# Initialize data vector\n",
    "estimation = addict.Dict()\n",
    "estimation.data_vector = np.zeros(2 * index.n_stations + 3 * index.n_block_constraints + index.n_slip_rate_constraints + 2 * index.n_tde_total)\n",
    "\n",
    "# Add GPS stations to data vector\n",
    "estimation.data_vector[index.start_station_row:index.end_station_row] = celeri.interleave2(assembly.data.east_vel, assembly.data.north_vel)\n",
    "\n",
    "# Add block motion constraints to data vector\n",
    "estimation.data_vector[index.start_block_constraints_row:index.end_block_constraints_row] = DEG_PER_MYR_TO_RAD_PER_YR * assembly.data.block_constraints\n",
    "\n",
    "# Add slip rate constraints to data vector\n",
    "estimation.data_vector[index.start_slip_rate_constraints_row:index.end_slip_rate_constraints_row] = assembly.data.slip_rate_constraints\n",
    "\n",
    "# Initialize and build weighting matrix\n",
    "estimation.weighting_vector = np.ones(2 * index.n_stations + 3 * index.n_block_constraints + index.n_slip_rate_constraints + 2 * index.n_tde_total)\n",
    "estimation.weighting_vector[index.start_station_row:index.end_station_row] = celeri.interleave2(station.east_sig, station.north_sig)\n",
    "estimation.weighting_vector[index.start_block_constraints_row:index.end_block_constraints_row] = 1.0\n",
    "estimation.weighting_vector[index.start_slip_rate_constraints_row:index.end_slip_rate_constraints_row] = command.slip_constraint_weight * np.ones(index.n_slip_rate_constraints)\n",
    "\n",
    "# TODO: No need to calculate this anymore because the weighting vector approach works!!!  Show Jack first\n",
    "estimation.weighting_matrix = np.diag(estimation.weighting_vector)\n",
    "print(estimation.weighting_matrix.shape)\n",
    "\n",
    "# Initialize linear operator\n",
    "estimation.operator = np.zeros((2 * index.n_stations + 3 * index.n_block_constraints + index.n_slip_rate_constraints + 2 * index.n_tde_total,\n",
    "                                3 * index.n_blocks + 2 * index.n_tde_total))\n",
    "\n",
    "# Insert block rotations and elastic velocities from fully locked segments\n",
    "operators.rotation_to_slip_rate_to_okada_to_velocities = operators.slip_rate_to_okada_to_velocities @ operators.rotation_to_slip_rate\n",
    "estimation.operator[index.start_station_row:index.end_station_row, index.start_block_col:index.end_block_col] = operators.rotation_to_velocities[index.station_row_keep_index, :] - operators.rotation_to_slip_rate_to_okada_to_velocities[index.station_row_keep_index, :]\n",
    "\n",
    "# Insert block motion constraints\n",
    "estimation.operator[index.start_block_constraints_row:index.end_block_constraints_row, index.start_block_col:index.end_block_col] = operators.block_motion_constraints\n",
    "\n",
    "# Insert slip rate constraints\n",
    "estimation.operator[index.start_slip_rate_constraints_row:index.end_slip_rate_constraints_row, index.start_block_col:index.end_block_col] = operators.slip_rate_constraints\n",
    "\n",
    "# Insert TDE to velocity matrix\n",
    "for i in range(len(meshes)):\n",
    "    # Insert TDE to velocity matrix\n",
    "    tde_keep_row_index = celeri.get_keep_index_12(operators.meshes[i].tde_to_velocities.shape[0])\n",
    "    tde_keep_col_index = celeri.get_keep_index_12(operators.meshes[i].tde_to_velocities.shape[1])\n",
    "    estimation.operator[index.start_station_row:index.end_station_row, index.meshes[i].start_tde_col:index.meshes[i].end_tde_col] = operators.meshes[i].tde_to_velocities[tde_keep_row_index, :][:, tde_keep_col_index]\n",
    "\n",
    "    # Insert TDE smoothing matrix\n",
    "    smoothing_keep_index = celeri.get_keep_index_12(operators.meshes[i].smoothing_matrix.shape[0])\n",
    "    estimation.operator[index.meshes[i].start_tde_smoothing_row:index.meshes[i].end_tde_smoothing_row, index.meshes[i].start_tde_col:index.meshes[i].end_tde_col] = meshes[i].smoothing_weight * operators.meshes[i].smoothing_matrix.toarray()[smoothing_keep_index, :][:, smoothing_keep_index]\n",
    "\n",
    "# Solve the overdetermined linear system\n",
    "estimation.state_covariance_matrix = np.linalg.inv(estimation.operator.T @ estimation.weighting_matrix @ estimation.operator)\n",
    "estimation.state_vector = estimation.state_covariance_matrix @ estimation.operator.T @ estimation.weighting_matrix @ estimation.data_vector\n",
    "\n",
    "# Solve the overdetermined linear system using only a weighting vector rather than matrix\n",
    "test_state_covariance_matrix = np.linalg.inv(estimation.operator.T * estimation.weighting_vector @ estimation.operator)\n",
    "test_state_vector = test_state_covariance_matrix @ estimation.operator.T * estimation.weighting_vector @ estimation.data_vector\n",
    "print(np.allclose(estimation.state_vector, test_state_vector))\n",
    "\n",
    "celeri.post_process_estimation(estimation, operators, station, index)"
   ]
  },
  {
   "cell_type": "markdown",
   "metadata": {},
   "source": [
    "# Plot model summary "
   ]
  },
  {
   "cell_type": "code",
   "execution_count": 9,
   "metadata": {},
   "outputs": [
    {
     "data": {
      "application/vnd.jupyter.widget-view+json": {
       "model_id": "b2491bbc276e452692b74413bc5724fb",
       "version_major": 2,
       "version_minor": 0
      },
      "text/plain": [
       "Canvas(toolbar=Toolbar(toolitems=[('Home', 'Reset original view', 'home', 'home'), ('Back', 'Back to previous …"
      ]
     },
     "metadata": {},
     "output_type": "display_data"
    }
   ],
   "source": [
    "celeri.plot_estimation_summary(segment, station, estimation, lon_range=(225, 250), lat_range=(30, 52), quiver_scale=1e2)"
   ]
  },
  {
   "cell_type": "code",
   "execution_count": 10,
   "metadata": {},
   "outputs": [
    {
     "data": {
      "application/vnd.jupyter.widget-view+json": {
       "model_id": "1e1a5bb59c2b403fa1a2a2c21b6a4e59",
       "version_major": 2,
       "version_minor": 0
      },
      "text/plain": [
       "Canvas(toolbar=Toolbar(toolitems=[('Home', 'Reset original view', 'home', 'home'), ('Back', 'Back to previous …"
      ]
     },
     "metadata": {},
     "output_type": "display_data"
    }
   ],
   "source": [
    "operator_eps = copy.deepcopy(estimation.operator) + 1e-10\n",
    "plt.figure(figsize=(10, 10))\n",
    "plt.imshow(np.log10(np.abs(operator_eps)), cmap=\"plasma_r\")\n",
    "plt.colorbar()\n",
    "plt.show()"
   ]
  },
  {
   "cell_type": "code",
   "execution_count": 11,
   "metadata": {},
   "outputs": [
    {
     "data": {
      "application/vnd.jupyter.widget-view+json": {
       "model_id": "2991813f86e641679933d0e1bff3e0d0",
       "version_major": 2,
       "version_minor": 0
      },
      "text/plain": [
       "Canvas(toolbar=Toolbar(toolitems=[('Home', 'Reset original view', 'home', 'home'), ('Back', 'Back to previous …"
      ]
     },
     "metadata": {},
     "output_type": "display_data"
    },
    {
     "name": "stdout",
     "output_type": "stream",
     "text": [
      "(7058,)\n"
     ]
    }
   ],
   "source": [
    "plt.figure()\n",
    "# plt.plot(np.log10(np.abs(estimation.data_vector)), \"rx\")\n",
    "plt.plot(estimation.data_vector, \"rx\")\n",
    "plt.show()\n",
    "print(estimation.data_vector.shape)"
   ]
  },
  {
   "cell_type": "code",
   "execution_count": 12,
   "metadata": {},
   "outputs": [
    {
     "name": "stdout",
     "output_type": "stream",
     "text": [
      "1.52 s ± 127 ms per loop (mean ± std. dev. of 7 runs, 1 loop each)\n",
      "52.2 ms ± 219 µs per loop (mean ± std. dev. of 7 runs, 10 loops each)\n"
     ]
    },
    {
     "ename": "NameError",
     "evalue": "name 'a' is not defined",
     "output_type": "error",
     "traceback": [
      "\u001b[0;31m---------------------------------------------------------------------------\u001b[0m",
      "\u001b[0;31mNameError\u001b[0m                                 Traceback (most recent call last)",
      "\u001b[0;32m/var/folders/fl/sm71y44x3tqc7r1wc40k10gc0000gn/T/ipykernel_51999/978594097.py\u001b[0m in \u001b[0;36m<module>\u001b[0;34m\u001b[0m\n\u001b[1;32m      1\u001b[0m \u001b[0mget_ipython\u001b[0m\u001b[0;34m(\u001b[0m\u001b[0;34m)\u001b[0m\u001b[0;34m.\u001b[0m\u001b[0mrun_line_magic\u001b[0m\u001b[0;34m(\u001b[0m\u001b[0;34m'timeit'\u001b[0m\u001b[0;34m,\u001b[0m \u001b[0;34m'a = estimation.operator.T @ estimation.weighting_matrix'\u001b[0m\u001b[0;34m)\u001b[0m\u001b[0;34m\u001b[0m\u001b[0;34m\u001b[0m\u001b[0m\n\u001b[1;32m      2\u001b[0m \u001b[0mget_ipython\u001b[0m\u001b[0;34m(\u001b[0m\u001b[0;34m)\u001b[0m\u001b[0;34m.\u001b[0m\u001b[0mrun_line_magic\u001b[0m\u001b[0;34m(\u001b[0m\u001b[0;34m'timeit'\u001b[0m\u001b[0;34m,\u001b[0m \u001b[0;34m'b = estimation.operator.T * estimation.weighting_vector'\u001b[0m\u001b[0;34m)\u001b[0m\u001b[0;34m\u001b[0m\u001b[0;34m\u001b[0m\u001b[0m\n\u001b[0;32m----> 3\u001b[0;31m \u001b[0mprint\u001b[0m\u001b[0;34m(\u001b[0m\u001b[0mnp\u001b[0m\u001b[0;34m.\u001b[0m\u001b[0mallclose\u001b[0m\u001b[0;34m(\u001b[0m\u001b[0ma\u001b[0m\u001b[0;34m,\u001b[0m \u001b[0mb\u001b[0m\u001b[0;34m)\u001b[0m\u001b[0;34m)\u001b[0m\u001b[0;34m\u001b[0m\u001b[0;34m\u001b[0m\u001b[0m\n\u001b[0m",
      "\u001b[0;31mNameError\u001b[0m: name 'a' is not defined"
     ]
    }
   ],
   "source": [
    "%timeit a = estimation.operator.T @ estimation.weighting_matrix\n",
    "%timeit b = estimation.operator.T * estimation.weighting_vector\n",
    "print(np.allclose(a, b))"
   ]
  },
  {
   "cell_type": "code",
   "execution_count": 31,
   "metadata": {},
   "outputs": [
    {
     "name": "stdout",
     "output_type": "stream",
     "text": [
      "6c2da83baf12f521132dbb63e6818b602eecc3c8b90e1b79b3f8f5a672ffd145\n",
      "<class 'str'>\n"
     ]
    }
   ],
   "source": [
    "import hashlib\n",
    "a = hashlib.sha256(operators.meshes[0].tde_to_velocities).hexdigest()\n",
    "print(a)\n",
    "print(type(a))"
   ]
  },
  {
   "cell_type": "code",
   "execution_count": null,
   "metadata": {},
   "outputs": [],
   "source": []
  }
 ],
 "metadata": {
  "interpreter": {
   "hash": "b49ecae73d9755d1e6525bca8f2b993ba748c0e2e7c79677d2e15f06ac3538b9"
  },
  "kernelspec": {
   "display_name": "Python 3.9.6 64-bit ('celeri': conda)",
   "name": "python3"
  },
  "language_info": {
   "codemirror_mode": {
    "name": "ipython",
    "version": 3
   },
   "file_extension": ".py",
   "mimetype": "text/x-python",
   "name": "python",
   "nbconvert_exporter": "python",
   "pygments_lexer": "ipython3",
   "version": "3.9.6"
  },
  "widgets": {
   "application/vnd.jupyter.widget-state+json": {
    "state": {
     "4d250c5d35aa493295ca814fb3eaa1ee": {
      "model_module": "@jupyter-widgets/base",
      "model_module_version": "1.2.0",
      "model_name": "LayoutModel",
      "state": {}
     },
     "6faf75ca5f3b41388f284e98ec2cf803": {
      "model_module": "jupyter-matplotlib",
      "model_module_version": "^0.9.0",
      "model_name": "ToolbarModel",
      "state": {
       "layout": "IPY_MODEL_9b061db2dc65459ca586b9b9f73c2362",
       "toolitems": [
        [
         "Home",
         "Reset original view",
         "home",
         "home"
        ],
        [
         "Back",
         "Back to previous view",
         "arrow-left",
         "back"
        ],
        [
         "Forward",
         "Forward to next view",
         "arrow-right",
         "forward"
        ],
        [
         "Pan",
         "Left button pans, Right button zooms\nx/y fixes axis, CTRL fixes aspect",
         "arrows",
         "pan"
        ],
        [
         "Zoom",
         "Zoom to rectangle\nx/y fixes axis, CTRL fixes aspect",
         "square-o",
         "zoom"
        ],
        [
         "Download",
         "Download plot",
         "floppy-o",
         "save_figure"
        ]
       ]
      }
     },
     "9b061db2dc65459ca586b9b9f73c2362": {
      "model_module": "@jupyter-widgets/base",
      "model_module_version": "1.2.0",
      "model_name": "LayoutModel",
      "state": {}
     },
     "c25a38234e8f4e818670d9767f95a430": {
      "model_module": "jupyter-matplotlib",
      "model_module_version": "^0.9.0",
      "model_name": "MPLCanvasModel",
      "state": {
       "_cursor": "default",
       "_figure_label": "Figure 1",
       "_height": 708,
       "_width": 1746,
       "layout": "IPY_MODEL_4d250c5d35aa493295ca814fb3eaa1ee",
       "toolbar": "IPY_MODEL_6faf75ca5f3b41388f284e98ec2cf803",
       "toolbar_position": "left"
      }
     }
    },
    "version_major": 2,
    "version_minor": 0
   }
  }
 },
 "nbformat": 4,
 "nbformat_minor": 4
}
