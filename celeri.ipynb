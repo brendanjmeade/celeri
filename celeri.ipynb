{
 "cells": [
  {
   "cell_type": "code",
   "execution_count": 1,
   "source": [
    "%matplotlib widget\n",
    "%config InlineBackend.figure_format = 'svg'"
   ],
   "outputs": [],
   "metadata": {
    "execution": {
     "iopub.execute_input": "2021-08-22T18:29:50.539195Z",
     "iopub.status.busy": "2021-08-22T18:29:50.538938Z",
     "iopub.status.idle": "2021-08-22T18:29:50.550334Z",
     "shell.execute_reply": "2021-08-22T18:29:50.549700Z",
     "shell.execute_reply.started": "2021-08-22T18:29:50.539169Z"
    },
    "tags": []
   }
  },
  {
   "cell_type": "code",
   "execution_count": 2,
   "source": [
    "import addict\n",
    "import numpy as np\n",
    "import pandas as pd\n",
    "import matplotlib.pyplot as plt\n",
    "from importlib import reload\n",
    "from tqdm.notebook import tqdm\n",
    "\n",
    "import celeri\n",
    "celeri = reload(celeri)\n",
    "\n",
    "# Plotting the global model is much much faster with tex fonts turned off\n",
    "plt.rcParams['text.usetex'] = False"
   ],
   "outputs": [],
   "metadata": {
    "execution": {
     "iopub.execute_input": "2021-08-22T18:29:51.661926Z",
     "iopub.status.busy": "2021-08-22T18:29:51.661659Z",
     "iopub.status.idle": "2021-08-22T18:29:51.956035Z",
     "shell.execute_reply": "2021-08-22T18:29:51.955292Z",
     "shell.execute_reply.started": "2021-08-22T18:29:51.661900Z"
    },
    "tags": []
   }
  },
  {
   "cell_type": "code",
   "execution_count": 3,
   "source": [
    "command_file_name = \"./data/western_north_america/basic_command.json\"\n",
    "command, segment, block, meshes, station, mogi, sar = celeri.read_data(command_file_name)\n",
    "station = celeri.process_station(station, command)\n",
    "segment = celeri.process_segment(segment, command, meshes)\n",
    "sar = celeri.process_sar(sar, command)\n",
    "closure, block = celeri.assign_block_labels(segment, station, block, mogi, sar)\n",
    "# celeri.plot_block_labels(segment, block, station, closure)"
   ],
   "outputs": [
    {
     "output_type": "stream",
     "name": "stderr",
     "text": [
      "WARNING:root:The file contains tag data that couldn't be processed.\n"
     ]
    }
   ],
   "metadata": {
    "execution": {
     "iopub.execute_input": "2021-08-22T18:29:53.570589Z",
     "iopub.status.busy": "2021-08-22T18:29:53.570331Z",
     "iopub.status.idle": "2021-08-22T18:30:09.817977Z",
     "shell.execute_reply": "2021-08-22T18:30:09.817443Z",
     "shell.execute_reply.started": "2021-08-22T18:29:53.570561Z"
    },
    "tags": []
   }
  },
  {
   "cell_type": "code",
   "execution_count": 4,
   "source": [
    "assembly = addict.Dict()\n",
    "operators = addict.Dict()\n",
    "assembly = celeri.merge_geodetic_data(assembly, station, sar)\n",
    "assembly, operators.block_motion_constraints = celeri.block_constraints(assembly, block, command)\n",
    "assembly, operators.slip_rate_constraints = celeri.slip_rate_constraints(assembly, segment, block, command)\n",
    "operators.okada_segment_station = celeri.get_segment_station_operator_okada(segment, station, command)\n",
    "#celeri.plot_segment_displacements(segment, station, command, segment_idx=0, strike_slip=1, dip_slip=0, tensile_slip=0, lon_min=235, lon_max=255, lat_min=30, lat_max=50, quiver_scale=1e-1)\n",
    "operators.slip_rate_segment_block = celeri.get_fault_slip_rate_partials(segment, block)\n",
    "assembly.index.sz_elastic = operators.okada_segment_station.shape # Not sure this is correct\n",
    "assembly.index.sz_slip = operators.slip_rate_segment_block.shape # Not sure this is correct\n",
    "operators.block_rotation = celeri.get_block_rotation_operator(station, block)\n",
    "assembly.index.sz_rotation = operators.block_rotation.shape # Not sure this is correct\n",
    "assembly = celeri.station_row_keep(assembly) # Not sure this is correct\n",
    "operators.block_strain_rate, strain_rate_block_idx = celeri.get_strain_rate_centroid_operator(block, station, segment) # This function need work\n"
   ],
   "outputs": [
    {
     "output_type": "display_data",
     "data": {
      "text/plain": [
       "Calculating Okada partials for segments:   0%|          | 0/837 [00:00<?, ?it/s]"
      ],
      "application/vnd.jupyter.widget-view+json": {
       "version_major": 2,
       "version_minor": 0,
       "model_id": "3c2b2efb8b69457799e8dfeb94460736"
      }
     },
     "metadata": {}
    }
   ],
   "metadata": {
    "tags": []
   }
  },
  {
   "cell_type": "code",
   "execution_count": 30,
   "source": [
    "def get_mogi_operator(mogi, station, command):\n",
    "    \"\"\"\n",
    "    # Calculates partial derivatives for Mogi sources\n",
    "    # Uses Equation 7.14 of \"Earthquake and Volcano Deformation\" by P. Segall\n",
    "    \"\"\"\n",
    "    mogi_depth = celeri.KM2M * mogi.depth\n",
    "    poissons_ratio = command.material_mu / (2 * (command.material_lambda + command.material_mu))\n",
    "    mogi_operator = np.zeros((3 * len(station), len(mogi)))\n",
    "\n",
    "    for i in range(len(mogi)):\n",
    "        # Calculate great circle distance and azimuth between source and stations\n",
    "        # source_to_obs_distance = gcdist(Mogi.lon(i), Mogi.lat(i), Station.lon, Station.lat)\n",
    "        # source_to_obs_azimuth = sphereazimuth(Mogi.lon(i), Mogi.lat(i), Station.lon, Station.lat)\n",
    "    \n",
    "        # Calculate partials relating displacement (rate) to unit volume change (rate)\n",
    "        # Segall Equation 7.14\n",
    "        u_up = (1 - poissons_ratio) / np.pi * mogi_depth[i] / ((source_to_obs_distance ** 2.0 + mogi_depth[i] ** 2) ** 1.5)\n",
    "        u_radial = (1 - poissons_ratio) / np.pi * source_to_obs_distance / ((source_to_obs_distance ** 2 + mogi_depth[i] ** 2.0) ** 1.5)\n",
    "    \n",
    "        # Convert radial displacement to east and north components\n",
    "        # TODO: Do I have to convert for geologic strike to Cartesian angle???\n",
    "        u_east = u_radial * np.sin(source_to_obs_azimuth)\n",
    "        u_north = u_radial * np.cos(source_to_obs_azimuth)\n",
    "    \n",
    "        #Insert components into partials matrix\n",
    "        mogi_operator[0::3, i] = u_east\n",
    "        mogi_operator[1::3, i] = u_north\n",
    "        mogi_operator[2::3, i] = u_up\n",
    "    return mogi_operator\n",
    "\n",
    "# def mogi_forward(mogi, station, command):\n",
    "#     \"\"\"\n",
    "#     Calculate displacements from a single Mogi source using\n",
    "#     equation 7.14 from \"Earthquake and Volcano Deformation\" by Paul Segall\n",
    "#     \"\"\"\n",
    "    # Calculate great circle distance and azimuth between source and stations\n",
    "\n",
    "# i = 0\n",
    "# mogi_depth = celeri.KM2M * mogi.depth\n",
    "# poissons_ratio = command.material_mu / (2 * (command.material_lambda + command.material_mu))\n",
    "\n",
    "# source_to_obs_distance = gcdist(mogi.lon[i], mogi.lat[i], station.lon, station.lat)\n",
    "# source_to_obs_azimuth = sphereazimuth(mogi.lon[i], mogi.lat[i], Station.lon, Station.lat)\n",
    "\n",
    "# # Calculate partials relating displacement (rate) to unit volume change (rate)\n",
    "# # Segall Equation 7.14\n",
    "# u_up = (1 - poissons_ratio) / np.pi * mogi_depth[i] / ((source_to_obs_distance ** 2.0 + mogi_depth[i] ** 2) ** 1.5)\n",
    "# u_radial = (1 - poissons_ratio) / np.pi * source_to_obs_distance / ((source_to_obs_distance ** 2 + mogi_depth[i] ** 2.0) ** 1.5)\n",
    "\n",
    "# # Convert radial displacement to east and north components\n",
    "# # TODO: Do I have to convert for geologic strike to Cartesian angle???\n",
    "# u_east = u_radial * np.sin(source_to_obs_azimuth)\n",
    "# u_north = u_radial * np.cos(source_to_obs_azimuth)\n",
    "    \n",
    "\n",
    "# % Make some figures for testing\n",
    "\n",
    "# % Segall Figure 7.5\n",
    "# %figure\n",
    "# %plot(dist(:, 1)./Mogi.dep(i), ur./max(uz));\n",
    "# %hold on\n",
    "# %plot(dist(:, 1)./Mogi.dep(i), uz./max(uz));\n",
    "# %xlabel('Radial distance (r/depth)')\n",
    "# %ylabel('Normalized displacement')\n",
    "# %\n",
    "# %figure('position', [100 100 1000 200]);\n",
    "# %subplot(1, 4, 1)\n",
    "# %scatter(Station.lon, Station.lat, 25, uz, 'filled');\n",
    "# %title('Vertical displacement')\n",
    "# %subplot(1, 4, 2)\n",
    "# %scatter(Station.lon, Station.lat, 25, ur, 'filled');\n",
    "# %title('Radial displacement')\n",
    "# %subplot(1, 4, 3)\n",
    "# %scatter(Station.lon, Station.lat, 25, ue, 'filled');\n",
    "# %title('East displacement')\n",
    "# %subplot(1, 4, 4)\n",
    "# %scatter(Station.lon, Station.lat, 25, un, 'filled');\n",
    "# %title('North displacement')\n",
    "\n",
    "mogi = addict.Dict()\n",
    "mogi.lon = np.array([20])\n",
    "mogi.lat = np.array([45])\n",
    "mogi.depth = np.array([5])\n",
    "sta = addict.Dict()\n",
    "lon_mat, lat_mat = np.meshgrid(np.linspace(19, 21, 20), np.linspace(44, 46, 20))\n",
    "sta.lon = lon_mat.flatten()\n",
    "sta.lat = lat_mat.flatten()\n",
    "\n",
    "mogi_depth = celeri.KM2M * mogi.depth\n",
    "poissons_ratio = command.material_mu / (2 * (command.material_lambda + command.material_mu))\n",
    "\n",
    "u_east = np.zeros_like(sta.lon)\n",
    "u_north = np.zeros_like(sta.lon)\n",
    "u_up = np.zeros_like(sta.lon)\n",
    "for i in range(sta.lon.size):\n",
    "    source_to_obs_forward_azimuth, source_to_obs_backward_azimuth, source_to_obs_distance = celeri.GEOID.inv(mogi.lon[0], mogi.lat[0], sta.lon[i], sta.lat[i])\n",
    "    # Calculate partials relating displacement (rate) to unit volume change (rate)\n",
    "    # Segall Equation 7.14\n",
    "    u_up[i] = (1 - poissons_ratio) / np.pi * mogi.depth[0] / ((source_to_obs_distance ** 2.0 + mogi_depth[0] ** 2) ** 1.5)\n",
    "    u_radial = (1 - poissons_ratio) / np.pi * source_to_obs_distance / ((source_to_obs_distance ** 2 + mogi_depth[0] ** 2.0) ** 1.5)\n",
    "\n",
    "    # Convert radial displacement to east and north components\n",
    "    # TODO: Do I have to convert for geologic strike to Cartesian angle???\n",
    "    u_east[i] = u_radial * np.sin(np.deg2rad(source_to_obs_forward_azimuth))\n",
    "    u_north[i] = u_radial * np.cos(np.deg2rad(source_to_obs_forward_azimuth))\n",
    "\n",
    "plt.figure()\n",
    "plt.quiver(sta.lon, sta.lat, u_east, u_north)\n",
    "plt.gca().set_aspect(\"equal\")\n",
    "plt.show()\n"
   ],
   "outputs": [
    {
     "output_type": "display_data",
     "data": {
      "text/plain": [
       "Canvas(toolbar=Toolbar(toolitems=[('Home', 'Reset original view', 'home', 'home'), ('Back', 'Back to previous …"
      ],
      "application/vnd.jupyter.widget-view+json": {
       "version_major": 2,
       "version_minor": 0,
       "model_id": "ff5169b495dd40fc90297677b7e6a965"
      }
     },
     "metadata": {}
    }
   ],
   "metadata": {}
  },
  {
   "cell_type": "code",
   "execution_count": 17,
   "source": [
    "mogi.lon[i]"
   ],
   "outputs": [
    {
     "output_type": "execute_result",
     "data": {
      "text/plain": [
       "20"
      ]
     },
     "metadata": {},
     "execution_count": 17
    }
   ],
   "metadata": {}
  },
  {
   "cell_type": "code",
   "execution_count": 21,
   "source": [
    "sta.lon.size"
   ],
   "outputs": [
    {
     "output_type": "execute_result",
     "data": {
      "text/plain": [
       "400"
      ]
     },
     "metadata": {},
     "execution_count": 21
    }
   ],
   "metadata": {}
  },
  {
   "cell_type": "code",
   "execution_count": 14,
   "source": [
    "segment_forward_azimuth"
   ],
   "outputs": [
    {
     "output_type": "execute_result",
     "data": {
      "text/plain": [
       "90.54441342829426"
      ]
     },
     "metadata": {},
     "execution_count": 14
    }
   ],
   "metadata": {}
  },
  {
   "cell_type": "code",
   "execution_count": null,
   "source": [],
   "outputs": [],
   "metadata": {}
  }
 ],
 "metadata": {
  "interpreter": {
   "hash": "1c99b817e7692020a25f5bce5fd58f988aabefee874a9cd895a1468d49750c9a"
  },
  "kernelspec": {
   "name": "python3",
   "display_name": "Python 3.9.6 64-bit ('celeri': conda)"
  },
  "language_info": {
   "codemirror_mode": {
    "name": "ipython",
    "version": 3
   },
   "file_extension": ".py",
   "mimetype": "text/x-python",
   "name": "python",
   "nbconvert_exporter": "python",
   "pygments_lexer": "ipython3",
   "version": "3.9.6"
  },
  "widgets": {
   "application/vnd.jupyter.widget-state+json": {
    "state": {
     "4d250c5d35aa493295ca814fb3eaa1ee": {
      "model_module": "@jupyter-widgets/base",
      "model_module_version": "1.2.0",
      "model_name": "LayoutModel",
      "state": {}
     },
     "6faf75ca5f3b41388f284e98ec2cf803": {
      "model_module": "jupyter-matplotlib",
      "model_module_version": "^0.9.0",
      "model_name": "ToolbarModel",
      "state": {
       "layout": "IPY_MODEL_9b061db2dc65459ca586b9b9f73c2362",
       "toolitems": [
        [
         "Home",
         "Reset original view",
         "home",
         "home"
        ],
        [
         "Back",
         "Back to previous view",
         "arrow-left",
         "back"
        ],
        [
         "Forward",
         "Forward to next view",
         "arrow-right",
         "forward"
        ],
        [
         "Pan",
         "Left button pans, Right button zooms\nx/y fixes axis, CTRL fixes aspect",
         "arrows",
         "pan"
        ],
        [
         "Zoom",
         "Zoom to rectangle\nx/y fixes axis, CTRL fixes aspect",
         "square-o",
         "zoom"
        ],
        [
         "Download",
         "Download plot",
         "floppy-o",
         "save_figure"
        ]
       ]
      }
     },
     "9b061db2dc65459ca586b9b9f73c2362": {
      "model_module": "@jupyter-widgets/base",
      "model_module_version": "1.2.0",
      "model_name": "LayoutModel",
      "state": {}
     },
     "c25a38234e8f4e818670d9767f95a430": {
      "model_module": "jupyter-matplotlib",
      "model_module_version": "^0.9.0",
      "model_name": "MPLCanvasModel",
      "state": {
       "_cursor": "default",
       "_figure_label": "Figure 1",
       "_height": 708,
       "_width": 1746,
       "layout": "IPY_MODEL_4d250c5d35aa493295ca814fb3eaa1ee",
       "toolbar": "IPY_MODEL_6faf75ca5f3b41388f284e98ec2cf803",
       "toolbar_position": "left"
      }
     }
    },
    "version_major": 2,
    "version_minor": 0
   }
  }
 },
 "nbformat": 4,
 "nbformat_minor": 4
}