{
 "cells": [
  {
   "cell_type": "code",
   "execution_count": 1,
   "source": [
    "%matplotlib widget\n",
    "%config InlineBackend.figure_format = 'svg'\n",
    "import copy\n",
    "import datetime\n",
    "import json\n",
    "import os\n",
    "import scipy.spatial\n",
    "import networkx as nx\n",
    "import numpy as np\n",
    "import pandas as pd\n",
    "import matplotlib.pyplot as plt\n",
    "from importlib import reload\n",
    "\n",
    "import celeri\n",
    "celeri = reload(celeri)"
   ],
   "outputs": [],
   "metadata": {
    "execution": {
     "iopub.execute_input": "2021-08-04T03:00:09.278922Z",
     "iopub.status.busy": "2021-08-04T03:00:09.278702Z",
     "iopub.status.idle": "2021-08-04T03:00:09.389124Z",
     "shell.execute_reply": "2021-08-04T03:00:09.388173Z",
     "shell.execute_reply.started": "2021-08-04T03:00:09.278899Z"
    },
    "tags": []
   }
  },
  {
   "cell_type": "code",
   "execution_count": 2,
   "source": [
    "RUN_NAME = datetime.datetime.now().strftime(\"%y%m%d%H%M%S\") + os.sep\n",
    "with open('./data/western_north_america/command.json', 'r') as f:\n",
    "    command = json.load(f)\n",
    "station = pd.read_csv(command[\"station_file_name\"])\n",
    "segment = pd.read_csv(command[\"segment_file_name\"])\n",
    "block = pd.read_csv(command[\"block_file_name\"])"
   ],
   "outputs": [],
   "metadata": {
    "execution": {
     "iopub.execute_input": "2021-08-04T03:00:11.065032Z",
     "iopub.status.busy": "2021-08-04T03:00:11.064786Z",
     "iopub.status.idle": "2021-08-04T03:00:11.092432Z",
     "shell.execute_reply": "2021-08-04T03:00:11.091782Z",
     "shell.execute_reply.started": "2021-08-04T03:00:11.065007Z"
    },
    "tags": []
   }
  },
  {
   "cell_type": "code",
   "execution_count": 3,
   "source": [
    "station = celeri.process_station(station, command)\n",
    "segment = celeri.process_segment(segment, command)"
   ],
   "outputs": [],
   "metadata": {
    "execution": {
     "iopub.execute_input": "2021-08-04T03:00:12.007541Z",
     "iopub.status.busy": "2021-08-04T03:00:12.007316Z",
     "iopub.status.idle": "2021-08-04T03:00:12.293727Z",
     "shell.execute_reply": "2021-08-04T03:00:12.293008Z",
     "shell.execute_reply.started": "2021-08-04T03:00:12.007517Z"
    },
    "tags": []
   }
  },
  {
   "cell_type": "code",
   "execution_count": null,
   "source": [
    "# Trying a direct port of BlockLabel from Blocks\n",
    "# This is the old Cartesian version\n",
    "n_segments = len(segment)\n",
    "\n",
    "# Make sure western vertex is the start point\n",
    "segx, i = np.sort([s.lon1(:) s.lon2(:)], 2);\n",
    "segy = np.array([segment.lat1[:] segment.lat2[:]]])\n",
    "# i = (i-1)*nseg + repmat((1:nseg)', 1, 2);\n",
    "# segy = segy(i);\n",
    "\n",
    "# % make sure there are no hanging segments\n",
    "# allc \t\t\t\t\t\t\t\t= [segx(:) segy(:)];\n",
    "# allc                       = [[s.lon1(:) s.lat1(:)]; [s.lon2(:) s.lat2(:)]];\n",
    "# [cou, i1]\t\t\t\t\t \t= unique(allc, 'rows', 'first');\n",
    "# [cou, i2]\t\t\t\t\t\t= unique(allc, 'rows', 'last');\n",
    "# if isempty(~find(i2-i1, 1))\n",
    "# \tfprintf(1, '*** All blocks are not closed! ***\\n');\n",
    "# else\n",
    "# \tfprintf(1, 'No hanging segments found');\n",
    "# end\n",
    "\n",
    "# % Carry out a few operations on all segments\n",
    "\n",
    "# % Find unique points and indices to them\n",
    "# [unp, unidx, ui] = unique(allc, 'rows', 'first');\n",
    "# us = ui(1:nseg); ue = ui(nseg+1:end);\n",
    "\n",
    "# % Calculate the azimuth of each fault segment\n",
    "# % Using atan instead of azimuth because azimuth breaks down for very long segments\n",
    "# az1 = rad2deg(atan2(segx(:, 1) - segx(:, 2), segy(:, 1) - segy(:, 2)));\n",
    "# az2 = rad2deg(atan2(segx(:, 2) - segx(:, 1), segy(:, 2) - segy(:, 1)));\n",
    "# az = [az2 az1];\n",
    "# az(az < 0) = az(az < 0) + 360;\n",
    "\n",
    "# % Declare array to store polygon segment indices\n",
    "# poly_ver                   = zeros(1, nseg);\n",
    "# trav_ord                   = poly_ver;\n",
    "# seg_poly_ver               = zeros(nseg);\n",
    "# seg_trav_ord\t\t\t\t\t= seg_poly_ver;\n",
    "\n",
    "\n",
    "# for i = 1:nseg\n",
    "# \t% establish starting coordinates\n",
    "# \tcs = i; % current segment start\n",
    "# \tcp = us(i); % current point: start point of the current segment\n",
    "# \tse = 1; % flag indicating that it's looking towards ending point\n",
    "#    starti = cs; % index of the starting point\n",
    "#    seg_cnt = 1;\n",
    "\t\n",
    "# \tclear poly_vec trav_ord\n",
    "\t\n",
    "#    while 1\n",
    "# \t\tmatchss = (us == cp); % starts matching current\n",
    "# \t\tmatchss(cs) = 0;\n",
    "# \t\tmatchss = find(matchss);\n",
    "# \t\tmatches = (ue == cp); % ends matching current\n",
    "# \t\tmatches(cs) = 0;\n",
    "# \t\tmatches = find(matches);\n",
    "\n",
    "#       match = [matchss; matches];\n",
    "      \n",
    "#       % If it's a multiple intersection, find which path to take\n",
    "#       if numel(match) > 1\n",
    "#       \tdaz = az(cs, se) - [az(matchss, 2); az(matches, 1)];\n",
    "#          daz(find(abs(daz) > 180)) = daz(find(abs(daz) > 180)) - sign(daz(find(abs(daz) > 180)))*360;\n",
    "#          [maz, mi] = max(daz);\n",
    "#       else\n",
    "#          mi = 1;\n",
    "#       end\n",
    "#       match = match(mi);\n",
    "      \n",
    "#       % Determine the new starting point\n",
    "#       cs = match; % current index\n",
    "#       if mi <= numel(matchss) % if the index is a start-current match\n",
    "#       \tcp = ue(cs); % the new point is the match's ending point\n",
    "#       \tse = 2; % looking towards the start point\n",
    "#       else\n",
    "#       \tcp = us(cs); % otherwise it's the match's starting point\n",
    "#       \tse = 1; % looking towards the end point\n",
    "#       end\n",
    "\n",
    "#       % Prevent endless loops\n",
    "#       if seg_cnt > nseg\n",
    "#       \tdisp(sprintf('Cannot close block starting with segment: %s', s.name(starti, :)))\n",
    "#    break;\n",
    "#       end\n",
    "      \n",
    "#       % Break upon returning to the starting segment\n",
    "#       if match == starti && seg_cnt > 1\n",
    "#          seg_cnt              = 1;\n",
    "#          poly_vec             = [poly_vec, starti];\n",
    "#          trav_ord             = [trav_ord, se];\n",
    "#    break;\n",
    "#       else\n",
    "#          poly_vec(seg_cnt)    = cs;\n",
    "#          trav_ord(seg_cnt)    = se;\n",
    "#          seg_cnt              = seg_cnt + 1;\n",
    "#       end\n",
    "#    end\n",
    "\n",
    "#    %%%%%%%%%%%%%%%%%%%%%%%%%%%%%%%%%%%%%%%%%%%%%%%%%%%%%%%%%\n",
    "#    %%  Put poly_vec into seg_poly_ver                     %%\n",
    "#    %%%%%%%%%%%%%%%%%%%%%%%%%%%%%%%%%%%%%%%%%%%%%%%%%%%%%%%%%\n",
    "#    seg_poly_ver(i, 1:length(poly_vec)) = poly_vec;\n",
    "#    seg_trav_ord(i, 1:length(trav_ord)) = trav_ord;\n",
    "# end\t\n",
    "\n",
    "# % Determine the unique block polygons\n",
    "# [so, blockrows] = unique(sort(seg_poly_ver, 2), 'rows');\n",
    "# seg_poly_ver = seg_poly_ver(blockrows, :);\n",
    "# seg_trav_ord = seg_trav_ord(blockrows, :);\n",
    "# z = find(so == 0);\n",
    "# so(z) = NaN;\n",
    "# so = sort(so, 2);\n",
    "# [so, blockrows] = sortrows(so);\n",
    "# seg_poly_ver = seg_poly_ver(blockrows, :);\n",
    "# seg_trav_ord = seg_trav_ord(blockrows, :);\n",
    "\n",
    "# % Determine number of blocks\n",
    "# nblock = size(seg_poly_ver, 1);\n",
    "\n",
    "# % Calculate block area and label each block\n",
    "# %bcx = zeros(nblock, nseg); % make an array for holding the circulation coordinates\n",
    "# %bcy = bcx;\n",
    "# barea = zeros(nblock, 1);\n",
    "# alabel = zeros(nblock, 1);\n",
    "# ext = 0;\n",
    "\n",
    "# el = zeros(nseg, 1);\n",
    "# wl = el;\n",
    "# stl = zeros(numel(st.lon), 1);\n",
    "# dLon = 1e-6;\n",
    "\n",
    "\n",
    "# for i = 1:nblock\n",
    "# \t% Take block coordinates from the traversal order matrix\n",
    "# \tsib = seg_poly_ver(i, (seg_poly_ver(i, :) ~= 0)); % segments in block\n",
    "# \tooc = seg_trav_ord(i, (seg_trav_ord(i, :) ~= 0)); % order in which the segments are traversed\n",
    "# \tcind = (ooc-1)*nseg + sib; % convert index pairs to linear index\n",
    "# %  bcx(i, 1:numel(cind)) = segx(cind);\n",
    "# %\tbcy(i, 1:numel(cind)) = segy(cind);\n",
    "#    bcx = segx(cind)';\n",
    "#    bcy = segy(cind)';\n",
    "#    barea(i) = polyarea(bcx, bcy);\n",
    "# \t% Test which block interior points lie within the current circulation\n",
    "# \tbin = inpolygon(b.interiorLon, b.interiorLat, bcx, bcy);\n",
    "#    % Now test the segments for labeling east and west sides\n",
    "#    testlon = s.midLon(sib) + dLon; % perturbed midpoint longitude\n",
    "#    cin = inpolygon(testlon, s.midLat(sib), bcx, bcy); % test to see which perturbed coordinates lie within the current block\n",
    "#    % Now test the station coordinates for block identification\n",
    "#    stin = inpolygon(st.lon, st.lat, bcx, bcy);   \n",
    "# \tif numel(find(bin)) > 1 % exterior block or error\n",
    "#       if barea(i) == max(barea) && ext == 0 % if the area is the largest and exterior hasn't yet been assigned\n",
    "# \t      alabel(find(~bin)) = i; % ...assign this block as the exterior\n",
    "#    \t   ext = i; % and specifically declare the exterior label\n",
    "#    \telseif ext > 0\n",
    "#    \t\tdisp('Interior points do not uniquely define blocks!')\n",
    "#          break;\n",
    "#       end\n",
    "#    else % if there is only one interior point within the segment polygon (i.e., all other blocks)...\n",
    "#       alabel(find(bin)) = i; % assign that block associate label to the current block\n",
    "#       el(sib(cin > 0)) = i; % segments within the polygon are assigned this block as their east label\n",
    "#       wl(sib(cin == 0)) = i; % those that don't are assigned this block as their west label\n",
    "#       stl(stin > 0) = i; % associate stations with the block\n",
    "#    end\n",
    "\n",
    "#    % Add ordered polygons to the blocks structure\n",
    "#    b.orderLon{i} = bcx;\n",
    "#    b.orderLat{i} = bcy;\n",
    "   \n",
    "# end\n",
    "\n",
    "# if ext == 0 % Special case for a single block\n",
    "#    ext = 2;\n",
    "#    alabel = [1 2];\n",
    "# end\n",
    "\n",
    "# % treat exterior block segment labels - set exterior block for yet undefined segment labels\n",
    "# el(el == 0) = ext;\n",
    "# wl(wl == 0) = ext;\n",
    "# % treat exterior block stations\n",
    "# stl(stl == 0) = ext;\n",
    "\n",
    "# % Final outputs\n",
    "# s.eastLabel = el;\n",
    "# s.westLabel = wl;\n",
    "\n",
    "# [st.blockLabel, st.blockLabelUnused] = deal(stl);\n",
    "# % Reorder block properties\n",
    "# b = BlockReorder(alabel, b);\n",
    "# b.associateLabel = alabel;\n",
    "# b.exteriorBlockLabel = ext;"
   ],
   "outputs": [],
   "metadata": {}
  },
  {
   "cell_type": "code",
   "execution_count": 4,
   "source": [
    "np_segments = np.zeros((len(segment), 2, 2))\n",
    "np_segments[:, 0, 0] = segment.lon1.to_numpy()\n",
    "np_segments[:, 1, 0] = segment.lon2.to_numpy()\n",
    "np_segments[:, 0, 1] = segment.lat1.to_numpy()\n",
    "np_segments[:, 1, 1] = segment.lat2.to_numpy()"
   ],
   "outputs": [],
   "metadata": {
    "tags": []
   }
  },
  {
   "cell_type": "code",
   "execution_count": 5,
   "source": [
    "# De-duplicate the vertices and build an ptr_edge array\n",
    "all_vertices = np_segments.reshape((-1, 2))\n",
    "tree = scipy.spatial.KDTree(all_vertices, leafsize=1000)\n",
    "duplicates = tree.query_ball_point(all_vertices, 1e-8)\n",
    "\n",
    "ptr_edges = []\n",
    "dedup_vertices = []\n",
    "original_to_new = dict()\n",
    "for i in range(np_segments.shape[0]):\n",
    "    v1_idx = duplicates[2 * i][0]\n",
    "    v2_idx = duplicates[2 * i + 1][0]\n",
    "    if v1_idx == 2 * i:\n",
    "        original_to_new[2 * i] = len(dedup_vertices)\n",
    "        dedup_vertices.append(np_segments[i][0])\n",
    "    if v2_idx == 2 * i + 1:\n",
    "        original_to_new[2 * i + 1] = len(dedup_vertices)\n",
    "        dedup_vertices.append(np_segments[i][1])\n",
    "    ptr_edges.append((original_to_new[v1_idx], original_to_new[v2_idx]))\n",
    "\n",
    "np_dedup_vertices = np.array(dedup_vertices)\n",
    "\n",
    "# Check that the vertices are unique up to 1e-8 now.\n",
    "new_tree = scipy.spatial.KDTree(np_dedup_vertices)\n",
    "np.all([v[0] == i for i,v in enumerate(new_tree.query_ball_point(np_dedup_vertices, 1e-8))])\n",
    "\n",
    "# Build the graph\n",
    "G = nx.Graph()\n",
    "for e in ptr_edges:\n",
    "    G.add_edge(*e)\n",
    "\n",
    "# Check that it is planar and build the PlanarEmbedding data structure.\n",
    "is_planar, planar_embedding = nx.check_planarity(G)\n",
    "\n",
    "# Extract each polygon. \n",
    "counted_half_edges = set()\n",
    "polygons = []\n",
    "for component in nx.connected_components(planar_embedding):\n",
    "    for v in component:\n",
    "        for w in planar_embedding.neighbors_cw_order(v):\n",
    "            if (v, w) not in counted_half_edges:\n",
    "                polygons.append(planar_embedding.traverse_face(v, w, counted_half_edges))\n",
    "\n",
    "print(\"Found \" + str(len(polygons)) + \" closed polygons\")\n",
    "\n",
    "# Map polygons boundaries back to 2 labesl for each block\n",
    "n_vertices = np_dedup_vertices.shape[0]\n",
    "n_edges = len(ptr_edges)\n",
    "\n",
    "vertex_to_polygon = [[] for i in range(n_vertices)] \n",
    "for p_idx, p in enumerate(polygons):\n",
    "    for v_idx in p:\n",
    "        vertex_to_polygon[v_idx].append(p_idx)\n",
    "\n",
    "edge_to_polygon = []\n",
    "for e in ptr_edges:\n",
    "    polys_v0 = vertex_to_polygon[e[0]]\n",
    "    polys_v1 = vertex_to_polygon[e[1]]\n",
    "    polys_edge = [p_idx for p_idx in polys_v0 if p_idx in polys_v1] # Intersection of lists\n",
    "    edge_to_polygon.append(polys_edge)\n",
    "\n",
    "segment[\"initial_label1\"] = np.array(edge_to_polygon)[:, 0]\n",
    "segment[\"initial_label2\"] = np.array(edge_to_polygon)[:, 1]"
   ],
   "outputs": [
    {
     "output_type": "stream",
     "name": "stdout",
     "text": [
      "Found 6 closed polygons\n"
     ]
    }
   ],
   "metadata": {}
  },
  {
   "cell_type": "code",
   "execution_count": 6,
   "source": [
    "polygon_count = 0\n",
    "for p in polygons:\n",
    "    verts_loop = np.concatenate([np_dedup_vertices[p], np_dedup_vertices[p[0]][None,:]])\n",
    "    plt.figure()\n",
    "    plt.plot(verts_loop[:, 0], verts_loop[:, 1])\n",
    "    plt.title(str(polygon_count))\n",
    "    plt.show()\n",
    "    polygon_count += 1"
   ],
   "outputs": [
    {
     "output_type": "display_data",
     "data": {
      "text/plain": [
       "Canvas(toolbar=Toolbar(toolitems=[('Home', 'Reset original view', 'home', 'home'), ('Back', 'Back to previous …"
      ],
      "application/vnd.jupyter.widget-view+json": {
       "version_major": 2,
       "version_minor": 0,
       "model_id": "b43e526e50fc4f21b0da0eb7bff20313"
      }
     },
     "metadata": {}
    },
    {
     "output_type": "display_data",
     "data": {
      "text/plain": [
       "Canvas(toolbar=Toolbar(toolitems=[('Home', 'Reset original view', 'home', 'home'), ('Back', 'Back to previous …"
      ],
      "application/vnd.jupyter.widget-view+json": {
       "version_major": 2,
       "version_minor": 0,
       "model_id": "6578a6c11157475ba7daa2ed56681849"
      }
     },
     "metadata": {}
    },
    {
     "output_type": "display_data",
     "data": {
      "text/plain": [
       "Canvas(toolbar=Toolbar(toolitems=[('Home', 'Reset original view', 'home', 'home'), ('Back', 'Back to previous …"
      ],
      "application/vnd.jupyter.widget-view+json": {
       "version_major": 2,
       "version_minor": 0,
       "model_id": "ad7faee1687e46ac83d02662f980c55d"
      }
     },
     "metadata": {}
    },
    {
     "output_type": "display_data",
     "data": {
      "text/plain": [
       "Canvas(toolbar=Toolbar(toolitems=[('Home', 'Reset original view', 'home', 'home'), ('Back', 'Back to previous …"
      ],
      "application/vnd.jupyter.widget-view+json": {
       "version_major": 2,
       "version_minor": 0,
       "model_id": "eddba2d8e4514b16a4fe8c6fe3631cf2"
      }
     },
     "metadata": {}
    },
    {
     "output_type": "display_data",
     "data": {
      "text/plain": [
       "Canvas(toolbar=Toolbar(toolitems=[('Home', 'Reset original view', 'home', 'home'), ('Back', 'Back to previous …"
      ],
      "application/vnd.jupyter.widget-view+json": {
       "version_major": 2,
       "version_minor": 0,
       "model_id": "e6c2630b7dde4bf3a34b325d0c8f6f29"
      }
     },
     "metadata": {}
    },
    {
     "output_type": "display_data",
     "data": {
      "text/plain": [
       "Canvas(toolbar=Toolbar(toolitems=[('Home', 'Reset original view', 'home', 'home'), ('Back', 'Back to previous …"
      ],
      "application/vnd.jupyter.widget-view+json": {
       "version_major": 2,
       "version_minor": 0,
       "model_id": "c516864f8dcb4430a1b5660209341d32"
      }
     },
     "metadata": {}
    }
   ],
   "metadata": {}
  },
  {
   "cell_type": "code",
   "execution_count": 7,
   "source": [
    "longitude_east_offset = 1e-3\n",
    "unprocessed_value = 99\n",
    "correct_east_labels = unprocessed_value * np.ones(len(segment))\n",
    "correct_west_labels = unprocessed_value * np.ones(len(segment))\n",
    "\n",
    "for current_block_label in range(len(polygons)):\n",
    "    current_block_idx = np.union1d(segment.index[segment.initial_label1 == current_block_label],\n",
    "                                   segment.index[segment.initial_label2 == current_block_label])\n",
    "    segment_current_block = segment.iloc[current_block_idx]\n",
    "    polygon_vertex_idx = polygons[current_block_label]\n",
    "    vertices_current_block = np.concatenate([np_dedup_vertices[polygon_vertex_idx], np_dedup_vertices[polygon_vertex_idx[0]][None,:]])\n",
    "    is_midpoint_inpolygon = celeri.inpolygon(segment_current_block.mid_lon_plate_carree.values + longitude_east_offset,\n",
    "                                segment_current_block.mid_lat_plate_carree.values,\n",
    "                                vertices_current_block[:, 0], vertices_current_block[:, 1])\n",
    "    correct_east_labels[current_block_idx[np.where(is_midpoint_inpolygon == True)]] = current_block_label\n",
    "    correct_west_labels[current_block_idx[np.where(is_midpoint_inpolygon == False)]] = current_block_label\n",
    "\n",
    "# Find unprocessed indices\n",
    "unprocessed_idx = np.union1d(np.where(correct_east_labels == unprocessed_value),\n",
    "                             np.where(correct_west_labels == unprocessed_value))\n",
    "\n",
    "# plt.figure()\n",
    "# plt.title(\"Segment indices\")\n",
    "# for i in range(len(segment)):\n",
    "#     plt.plot([segment.lon1.values[i], segment.lon2.values[i]],\n",
    "#              [segment.lat1.values[i], segment.lat2.values[i]], \"-k\")\n",
    "#     plt.text(segment.mid_lon_plate_carree.values[i] - 0.25,\n",
    "#              segment.mid_lat_plate_carree.values[i],\n",
    "#              str(i), fontsize=6)\n",
    "\n",
    "plt.figure()\n",
    "plt.title(\"Initial labels\")\n",
    "for i in range(len(segment)):\n",
    "    plt.plot([segment.lon1.values[i], segment.lon2.values[i]],\n",
    "             [segment.lat1.values[i], segment.lat2.values[i]], \"-k\")\n",
    "    plt.text(segment.mid_lon_plate_carree.values[i] - 0.25,\n",
    "             segment.mid_lat_plate_carree.values[i],\n",
    "             str(segment.initial_label1[i]), fontsize=16)\n",
    "    plt.text(segment.mid_lon_plate_carree.values[i] + 0.25,\n",
    "             segment.mid_lat_plate_carree.values[i],\n",
    "             str(segment.initial_label2[i]), fontsize=16)\n",
    "\n",
    "plt.figure()\n",
    "plt.title(\"Attempt at east and west labels\")\n",
    "for i in range(len(segment)):\n",
    "    plt.plot([segment.lon1.values[i], segment.lon2.values[i]],\n",
    "             [segment.lat1.values[i], segment.lat2.values[i]], \"-k\")\n",
    "    plt.text(segment.mid_lon_plate_carree.values[i] - 0.25,\n",
    "             segment.mid_lat_plate_carree.values[i],\n",
    "             str(correct_west_labels[i]), fontsize=16)\n",
    "    plt.text(segment.mid_lon_plate_carree.values[i] + 0.25,\n",
    "             segment.mid_lat_plate_carree.values[i],\n",
    "             str(correct_east_labels[i]), fontsize=16)\n",
    "\n",
    "for i in range(len(unprocessed_idx)):\n",
    "    plt.plot([segment.lon1.values[unprocessed_idx[i]], segment.lon2.values[unprocessed_idx[i]]],\n",
    "             [segment.lat1.values[unprocessed_idx[i]], segment.lat2.values[unprocessed_idx[i]]], \"-r\")\n"
   ],
   "outputs": [
    {
     "output_type": "display_data",
     "data": {
      "text/plain": [
       "Canvas(toolbar=Toolbar(toolitems=[('Home', 'Reset original view', 'home', 'home'), ('Back', 'Back to previous …"
      ],
      "application/vnd.jupyter.widget-view+json": {
       "version_major": 2,
       "version_minor": 0,
       "model_id": "d89a070134e24164b721ec32ab08b588"
      }
     },
     "metadata": {}
    },
    {
     "output_type": "display_data",
     "data": {
      "text/plain": [
       "Canvas(toolbar=Toolbar(toolitems=[('Home', 'Reset original view', 'home', 'home'), ('Back', 'Back to previous …"
      ],
      "application/vnd.jupyter.widget-view+json": {
       "version_major": 2,
       "version_minor": 0,
       "model_id": "0e3accc246d84a018d7db9063898aaac"
      }
     },
     "metadata": {}
    }
   ],
   "metadata": {}
  },
  {
   "cell_type": "code",
   "execution_count": 17,
   "source": [
    "a = np.array([segment.lon1, segment.lon2])\n",
    "a.shape\n",
    "np.sort(a, axis = 1)"
   ],
   "outputs": [
    {
     "output_type": "execute_result",
     "data": {
      "text/plain": [
       "array([[131.169, 131.169, 145.025, 163.856, 164.764, 164.764, 179.964,\n",
       "        180.29 , 191.226, 204.097, 205.239, 205.239, 211.394, 220.823,\n",
       "        223.835, 225.484, 227.225, 227.225, 229.851, 230.457, 230.457,\n",
       "        230.935, 231.263, 231.725, 231.725, 231.762, 231.952, 232.353,\n",
       "        232.353, 232.507, 232.507, 232.954, 232.954, 233.07 , 233.273,\n",
       "        233.335, 233.335, 233.53 , 233.53 , 233.592, 233.911, 233.987,\n",
       "        234.08 , 234.08 , 234.081, 234.292, 234.438, 234.438, 234.509,\n",
       "        234.538, 234.561, 234.626, 234.632, 234.714, 234.714, 234.735,\n",
       "        234.914, 235.065, 235.238, 235.24 , 235.24 , 235.24 , 235.5  ,\n",
       "        235.573, 235.814, 236.021, 236.021, 236.048, 236.048, 236.204,\n",
       "        236.381, 236.403, 236.523, 236.685, 236.685, 236.934, 237.067,\n",
       "        237.598, 237.635, 237.76 , 237.836, 237.836, 238.085, 238.156,\n",
       "        238.202, 238.242, 238.406, 238.406, 238.498, 238.498, 238.525,\n",
       "        238.525, 238.573, 238.731, 238.785, 238.894, 238.894, 238.894,\n",
       "        247.749, 252.514, 259.341, 260.639, 260.639, 272.027, 274.413,\n",
       "        325.661, 325.661],\n",
       "       [124.115, 124.115, 142.758, 142.758, 145.025, 162.871, 162.871,\n",
       "        163.856, 179.964, 180.29 , 191.226, 204.097, 211.394, 215.06 ,\n",
       "        215.06 , 220.823, 220.823, 223.835, 225.484, 227.225, 229.517,\n",
       "        229.517, 229.851, 230.426, 230.426, 230.457, 230.885, 230.885,\n",
       "        230.935, 231.263, 231.725, 231.762, 231.952, 232.405, 232.405,\n",
       "        232.623, 232.623, 233.029, 233.029, 233.07 , 233.273, 233.554,\n",
       "        233.554, 233.592, 233.911, 233.987, 234.031, 234.031, 234.081,\n",
       "        234.292, 234.509, 234.538, 234.557, 234.557, 234.561, 234.599,\n",
       "        234.599, 234.626, 234.632, 234.696, 234.696, 234.735, 234.914,\n",
       "        235.065, 235.238, 235.5  , 235.558, 235.558, 235.573, 235.814,\n",
       "        236.204, 236.283, 236.283, 236.381, 236.403, 236.523, 236.934,\n",
       "        237.067, 237.178, 237.178, 237.598, 237.635, 237.746, 237.746,\n",
       "        237.76 , 238.076, 238.076, 238.085, 238.156, 238.202, 238.242,\n",
       "        238.524, 238.524, 238.573, 238.573, 238.65 , 238.65 , 238.709,\n",
       "        238.709, 238.731, 238.785, 247.749, 252.514, 259.341, 260.639,\n",
       "        272.027, 274.413]])"
      ]
     },
     "metadata": {},
     "execution_count": 17
    }
   ],
   "metadata": {}
  },
  {
   "cell_type": "code",
   "execution_count": null,
   "source": [],
   "outputs": [],
   "metadata": {}
  }
 ],
 "metadata": {
  "interpreter": {
   "hash": "749f0fc94df05971c9b3f3660cf19264b2aeee03fc6d4bf75e86fd251d69cf68"
  },
  "kernelspec": {
   "name": "python3",
   "display_name": "Python 3.8.8 64-bit ('base': conda)"
  },
  "language_info": {
   "codemirror_mode": {
    "name": "ipython",
    "version": 3
   },
   "file_extension": ".py",
   "mimetype": "text/x-python",
   "name": "python",
   "nbconvert_exporter": "python",
   "pygments_lexer": "ipython3",
   "version": "3.8.8"
  }
 },
 "nbformat": 4,
 "nbformat_minor": 4
}