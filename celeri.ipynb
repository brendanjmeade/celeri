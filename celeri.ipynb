{
 "cells": [
  {
   "cell_type": "code",
   "execution_count": 2,
   "source": [
    "%matplotlib widget\n",
    "%config InlineBackend.figure_format = 'svg'"
   ],
   "outputs": [],
   "metadata": {
    "execution": {
     "iopub.execute_input": "2021-08-22T18:29:50.539195Z",
     "iopub.status.busy": "2021-08-22T18:29:50.538938Z",
     "iopub.status.idle": "2021-08-22T18:29:50.550334Z",
     "shell.execute_reply": "2021-08-22T18:29:50.549700Z",
     "shell.execute_reply.started": "2021-08-22T18:29:50.539169Z"
    },
    "tags": []
   }
  },
  {
   "cell_type": "code",
   "execution_count": 3,
   "source": [
    "import addict\n",
    "import numpy as np\n",
    "import pandas as pd\n",
    "import matplotlib.pyplot as plt\n",
    "from importlib import reload\n",
    "from tqdm.notebook import tqdm\n",
    "\n",
    "import celeri\n",
    "celeri = reload(celeri)\n",
    "\n",
    "# Plotting the global model is much much faster with tex fonts turned off\n",
    "plt.rcParams['text.usetex'] = False"
   ],
   "outputs": [],
   "metadata": {
    "execution": {
     "iopub.execute_input": "2021-08-22T18:29:51.661926Z",
     "iopub.status.busy": "2021-08-22T18:29:51.661659Z",
     "iopub.status.idle": "2021-08-22T18:29:51.956035Z",
     "shell.execute_reply": "2021-08-22T18:29:51.955292Z",
     "shell.execute_reply.started": "2021-08-22T18:29:51.661900Z"
    },
    "tags": []
   }
  },
  {
   "cell_type": "code",
   "execution_count": 4,
   "source": [
    "command_file_name = \"./data/western_north_america/basic_command.json\"\n",
    "command_file_name = \"./data/global/global_command.json\"\n",
    "command, segment, block, meshes, station, mogi, sar = celeri.read_data(command_file_name)\n",
    "station = celeri.process_station(station, command)\n",
    "segment = celeri.process_segment(segment, command, meshes)\n",
    "sar = celeri.process_sar(sar, command)\n",
    "closure, block = celeri.assign_block_labels(segment, station, block, mogi, sar)\n",
    "# celeri.plot_block_labels(segment, block, station, closure)"
   ],
   "outputs": [
    {
     "output_type": "stream",
     "name": "stderr",
     "text": [
      "WARNING:root:The file contains tag data that couldn't be processed.\n"
     ]
    }
   ],
   "metadata": {
    "execution": {
     "iopub.execute_input": "2021-08-22T18:29:53.570589Z",
     "iopub.status.busy": "2021-08-22T18:29:53.570331Z",
     "iopub.status.idle": "2021-08-22T18:30:09.817977Z",
     "shell.execute_reply": "2021-08-22T18:30:09.817443Z",
     "shell.execute_reply.started": "2021-08-22T18:29:53.570561Z"
    },
    "tags": []
   }
  },
  {
   "cell_type": "code",
   "execution_count": null,
   "source": [
    "assembly = addict.Dict()\n",
    "operators = addict.Dict()\n",
    "assembly = celeri.merge_geodetic_data(assembly, station, sar)\n",
    "assembly, operators.block_motion_constraints = celeri.block_constraints(assembly, block, command)\n",
    "assembly, operators.slip_rate_constraints = celeri.slip_rate_constraints(assembly, segment, block, command)\n",
    "operators.okada_segment_station = celeri.get_segment_station_operator_okada(segment, station, command)\n",
    "operators.slip_rate_segment_block = celeri.get_fault_slip_rate_partials(segment, block)\n",
    "assembly.index.sz_elastic = operators.okada_segment_station.shape # Not sure this is correct\n",
    "assembly.index.sz_slip = operators.slip_rate_segment_block.shape # Not sure this is correct\n",
    "operators.block_rotation = celeri.get_block_rotation_operator(station, block)\n",
    "assembly.index.sz_rotation = operators.block_rotation.shape # Not sure this is correct\n",
    "assembly = celeri.station_row_keep(assembly) # Not sure this is correct\n"
   ],
   "outputs": [],
   "metadata": {
    "tags": []
   }
  },
  {
   "cell_type": "code",
   "execution_count": null,
   "source": [
    "# celeri.plot_segment_displacements(segment, station, command, segment_idx=0, strike_slip=1, dip_slip=0, tensile_slip=0, lon_min=235, lon_max=255, lat_min=30, lat_max=50, quiver_scale=1e-1)"
   ],
   "outputs": [],
   "metadata": {}
  },
  {
   "cell_type": "code",
   "execution_count": null,
   "source": [
    "model = addict.Dict()\n",
    "\n",
    "# function [strain, Index, Model] def get_strain_operator(block, station, segment, command, assembly)\n",
    "\"\"\"\n",
    "Wrapper function for calculating strain partial derivatives.\n",
    "\"\"\"\n",
    "\n",
    "# [strain, Index.strainBlock]                = deal(zeros(3*numel(Station.lon), 0), []);\n",
    "# [Model.lonStrain, Model.latStrain]         = deal(zeros(size(Block.interiorLon)));\n",
    "\n",
    "# TODO: rename block_rotation_flag\n",
    "# TODO: block.strain_flag for this: Add to matlab converter\n",
    "# if any(block.strain_flag) # If any blocks have strain turned on\n",
    "#    if command.strain_method == 1:\n",
    "#          [strain, Index.strainBlock,...\n",
    "#           Model.lonStrain, Model.latStrain]   = GetStrainCentroidPartials(Block, Station, Segment);\n",
    "#    if command.strain_method == 2: # Solve for the reference coordinates\n",
    "#          [strain, Index.strainBlock]          = GetStrain56Partials(Block, Station, Segment);\n",
    "#    if command.strain_method == 3: # Solve for the reference latitude only\n",
    "#          [strain, Index.strainBlock]          = GetStrain34Partials(Block, Station, Segment);\n",
    "#    if command.strain_method == 4: # Use the simulated annealing approach to solve for reference coordinates inside the block boundaries\n",
    "#          [strain, Index.strainBlock]          = GetStrainSearchPartials(Block, Station, Segment);\n",
    "#    end      \n",
    "# end\n",
    "\n",
    "# function [G, strainBlockIdx, cLon, cLat, toDelete]  = GetStrainCentroidPartials(Block, Station, Segment)\n",
    "# % Calculate strain partial derivatives\n",
    "# nStations                                   = numel(Station.lon);\n",
    "# nBlocks\t                                   = numel(Block.interiorLon);\n",
    "# G                                           = zeros(3*nStations, 3*nBlocks);\n",
    "# R              \t\t\t\t                 = 6371*1e6; % radius of Earth in mm\n",
    "# minSta                                      = 3; % 3 for Jack\n",
    "\n",
    "# % Convert station positions into radians and co-latitude\n",
    "# Station.lon                                 = deg2rad(Station.lon);\n",
    "# Station.lat(find(Station.lat)>=0)           = 90 - Station.lat(find(Station.lat)>=0);\n",
    "# Station.lat(find(Station.lat)<0)            = -90 - Station.lat(find(Station.lat)<0);\n",
    "# Station.lat                                 = deg2rad(Station.lat);\n",
    "\n",
    "# % Create array containing column index limits of the design matrix\n",
    "# firstCol                                    = 3*Station.blockLabel - 2;\n",
    "# lastCol                                     = 3*Station.blockLabel;\n",
    "\n",
    "# [cLon, cLat]\t\t\t\t\t\t\t\t\t \t  = deal(zeros(nBlocks, 1));\t\n",
    "\n",
    "# for iStation = 1:nStations\n",
    "#    if Block.rotationInfo(Station.blockLabel(iStation)) == 1\n",
    "#       % Partials with block centroid\n",
    "#       % The block \"centroid\" is only an approximation given by the mean of its coordinates\n",
    "#       % This should work reasonably well for the \"chopped\" case but is not exact or general\n",
    "#       idx1                                  = find(Segment.eastLabel == Station.blockLabel(iStation));\n",
    "#       idx2                                  = find(Segment.westLabel == Station.blockLabel(iStation));\n",
    "#       idx                                   = union(idx1, idx2);\n",
    "#       lonVec                                = [Segment.lon1(idx);Segment.lon2(idx)];\n",
    "#       latVec                                = [Segment.lat1(idx);Segment.lat2(idx)];\n",
    "# %       [lat0 lon0]                           = meanm(latVec(:), lonVec(:));\n",
    "#       lat0                                  = mean(latVec(:));\n",
    "#       lon0                                  = mean(lonVec(:));\n",
    "#       cLon(Station.blockLabel(iStation))\t  = lon0;\n",
    "#       cLat(Station.blockLabel(iStation))\t  = lat0;\n",
    "#       lon0                                  = deg2rad(lon0);\n",
    "#       lat0(lat0>=0)                         = 90 - lat0(lat0>=0);\n",
    "#       lat0(lat0<0)                          = -90 - lat0(lat0<0);      \n",
    "#       lat0                                  = deg2rad(lat0);\n",
    "#       G(3*iStation-2:3*iStation, firstCol(iStation):lastCol(iStation)) = [R*(Station.lon(iStation)-lon0).*sin(lat0) R*(Station.lat(iStation)-lat0) 0;...\n",
    "#                                                                           0 R*(Station.lon(iStation)-lon0).*sin(lat0) R*(Station.lat(iStation)-lat0);...\n",
    "#                                                                           0 0 0];\n",
    "#    end\n",
    "# end\n",
    "\n",
    "# % Get rid of blocks that don't have enough stations on them\n",
    "# for i = 1:size(G, 2)/3;\n",
    "#    j                                        = 3*i-1;\n",
    "#    numSta(i)                                = numel(find(G(:, j)));\n",
    "# end\n",
    "# toDelete                                    = [3*find(numSta<2*minSta)-2 3*find(numSta<2*minSta)-1 3*find(numSta<2*minSta)];\n",
    "# strainBlockIdx                              = setdiff(1:1:nBlocks*3, toDelete);\n",
    "# G(:,toDelete)                               = [];\n",
    "\n",
    "\n",
    "\n"
   ],
   "outputs": [],
   "metadata": {}
  },
  {
   "cell_type": "code",
   "execution_count": 18,
   "source": [
    "with open('test.npy', 'wb') as f:\n",
    "    np.save(f, closure.polygons)\n",
    "with open('test.npy', 'rb') as f:\n",
    "    saved_closure = np.load(f)\n",
    "\n",
    "len(closure.polygons)"
   ],
   "outputs": [
    {
     "output_type": "error",
     "ename": "ValueError",
     "evalue": "Object arrays cannot be loaded when allow_pickle=False",
     "traceback": [
      "\u001b[0;31m---------------------------------------------------------------------------\u001b[0m",
      "\u001b[0;31mValueError\u001b[0m                                Traceback (most recent call last)",
      "\u001b[0;32m/var/folders/fl/sm71y44x3tqc7r1wc40k10gc0000gn/T/ipykernel_43949/3252233099.py\u001b[0m in \u001b[0;36m<module>\u001b[0;34m\u001b[0m\n\u001b[1;32m      2\u001b[0m     \u001b[0mnp\u001b[0m\u001b[0;34m.\u001b[0m\u001b[0msave\u001b[0m\u001b[0;34m(\u001b[0m\u001b[0mf\u001b[0m\u001b[0;34m,\u001b[0m \u001b[0mclosure\u001b[0m\u001b[0;34m.\u001b[0m\u001b[0mpolygons\u001b[0m\u001b[0;34m)\u001b[0m\u001b[0;34m\u001b[0m\u001b[0;34m\u001b[0m\u001b[0m\n\u001b[1;32m      3\u001b[0m \u001b[0;32mwith\u001b[0m \u001b[0mopen\u001b[0m\u001b[0;34m(\u001b[0m\u001b[0;34m'test.npy'\u001b[0m\u001b[0;34m,\u001b[0m \u001b[0;34m'rb'\u001b[0m\u001b[0;34m)\u001b[0m \u001b[0;32mas\u001b[0m \u001b[0mf\u001b[0m\u001b[0;34m:\u001b[0m\u001b[0;34m\u001b[0m\u001b[0;34m\u001b[0m\u001b[0m\n\u001b[0;32m----> 4\u001b[0;31m     \u001b[0msaved_closure\u001b[0m \u001b[0;34m=\u001b[0m \u001b[0mnp\u001b[0m\u001b[0;34m.\u001b[0m\u001b[0mload\u001b[0m\u001b[0;34m(\u001b[0m\u001b[0mf\u001b[0m\u001b[0;34m)\u001b[0m\u001b[0;34m\u001b[0m\u001b[0;34m\u001b[0m\u001b[0m\n\u001b[0m\u001b[1;32m      5\u001b[0m \u001b[0;34m\u001b[0m\u001b[0m\n\u001b[1;32m      6\u001b[0m \u001b[0mlen\u001b[0m\u001b[0;34m(\u001b[0m\u001b[0mclosure\u001b[0m\u001b[0;34m.\u001b[0m\u001b[0mpolygons\u001b[0m\u001b[0;34m)\u001b[0m\u001b[0;34m\u001b[0m\u001b[0;34m\u001b[0m\u001b[0m\n",
      "\u001b[0;32m~/opt/anaconda3/envs/celeri/lib/python3.9/site-packages/numpy/lib/npyio.py\u001b[0m in \u001b[0;36mload\u001b[0;34m(file, mmap_mode, allow_pickle, fix_imports, encoding)\u001b[0m\n\u001b[1;32m    438\u001b[0m                 \u001b[0;32mreturn\u001b[0m \u001b[0mformat\u001b[0m\u001b[0;34m.\u001b[0m\u001b[0mopen_memmap\u001b[0m\u001b[0;34m(\u001b[0m\u001b[0mfile\u001b[0m\u001b[0;34m,\u001b[0m \u001b[0mmode\u001b[0m\u001b[0;34m=\u001b[0m\u001b[0mmmap_mode\u001b[0m\u001b[0;34m)\u001b[0m\u001b[0;34m\u001b[0m\u001b[0;34m\u001b[0m\u001b[0m\n\u001b[1;32m    439\u001b[0m             \u001b[0;32melse\u001b[0m\u001b[0;34m:\u001b[0m\u001b[0;34m\u001b[0m\u001b[0;34m\u001b[0m\u001b[0m\n\u001b[0;32m--> 440\u001b[0;31m                 return format.read_array(fid, allow_pickle=allow_pickle,\n\u001b[0m\u001b[1;32m    441\u001b[0m                                          pickle_kwargs=pickle_kwargs)\n\u001b[1;32m    442\u001b[0m         \u001b[0;32melse\u001b[0m\u001b[0;34m:\u001b[0m\u001b[0;34m\u001b[0m\u001b[0;34m\u001b[0m\u001b[0m\n",
      "\u001b[0;32m~/opt/anaconda3/envs/celeri/lib/python3.9/site-packages/numpy/lib/format.py\u001b[0m in \u001b[0;36mread_array\u001b[0;34m(fp, allow_pickle, pickle_kwargs)\u001b[0m\n\u001b[1;32m    741\u001b[0m         \u001b[0;31m# The array contained Python objects. We need to unpickle the data.\u001b[0m\u001b[0;34m\u001b[0m\u001b[0;34m\u001b[0m\u001b[0;34m\u001b[0m\u001b[0m\n\u001b[1;32m    742\u001b[0m         \u001b[0;32mif\u001b[0m \u001b[0;32mnot\u001b[0m \u001b[0mallow_pickle\u001b[0m\u001b[0;34m:\u001b[0m\u001b[0;34m\u001b[0m\u001b[0;34m\u001b[0m\u001b[0m\n\u001b[0;32m--> 743\u001b[0;31m             raise ValueError(\"Object arrays cannot be loaded when \"\n\u001b[0m\u001b[1;32m    744\u001b[0m                              \"allow_pickle=False\")\n\u001b[1;32m    745\u001b[0m         \u001b[0;32mif\u001b[0m \u001b[0mpickle_kwargs\u001b[0m \u001b[0;32mis\u001b[0m \u001b[0;32mNone\u001b[0m\u001b[0;34m:\u001b[0m\u001b[0;34m\u001b[0m\u001b[0;34m\u001b[0m\u001b[0m\n",
      "\u001b[0;31mValueError\u001b[0m: Object arrays cannot be loaded when allow_pickle=False"
     ]
    }
   ],
   "metadata": {}
  },
  {
   "cell_type": "code",
   "execution_count": 32,
   "source": [
    "closure.polygons[0].edge_idxs"
   ],
   "outputs": [
    {
     "output_type": "execute_result",
     "data": {
      "text/plain": [
       "[0,\n",
       " 2,\n",
       " 1320,\n",
       " 1323,\n",
       " 1324,\n",
       " 1330,\n",
       " 1332,\n",
       " 1334,\n",
       " 1364,\n",
       " 1382,\n",
       " 1326,\n",
       " 1328,\n",
       " 1502,\n",
       " 1500,\n",
       " 1498,\n",
       " 1496,\n",
       " 1494,\n",
       " 1490,\n",
       " 1492,\n",
       " 1506,\n",
       " 1504,\n",
       " 17,\n",
       " 19,\n",
       " 21,\n",
       " 22,\n",
       " 24,\n",
       " 1588,\n",
       " 1586,\n",
       " 1584,\n",
       " 240,\n",
       " 624,\n",
       " 608,\n",
       " 626,\n",
       " 622,\n",
       " 620,\n",
       " 618,\n",
       " 114,\n",
       " 112,\n",
       " 706,\n",
       " 218,\n",
       " 584,\n",
       " 582,\n",
       " 580,\n",
       " 578,\n",
       " 1040,\n",
       " 1044,\n",
       " 978,\n",
       " 1354,\n",
       " 1385,\n",
       " 1315,\n",
       " 1317,\n",
       " 1319,\n",
       " 1285,\n",
       " 1282,\n",
       " 1281,\n",
       " 1279,\n",
       " 1277,\n",
       " 1274,\n",
       " 34,\n",
       " 32,\n",
       " 30]"
      ]
     },
     "metadata": {},
     "execution_count": 32
    }
   ],
   "metadata": {}
  },
  {
   "cell_type": "code",
   "execution_count": null,
   "source": [],
   "outputs": [],
   "metadata": {}
  }
 ],
 "metadata": {
  "interpreter": {
   "hash": "1c99b817e7692020a25f5bce5fd58f988aabefee874a9cd895a1468d49750c9a"
  },
  "kernelspec": {
   "name": "python3",
   "display_name": "Python 3.9.6 64-bit ('celeri': conda)"
  },
  "language_info": {
   "codemirror_mode": {
    "name": "ipython",
    "version": 3
   },
   "file_extension": ".py",
   "mimetype": "text/x-python",
   "name": "python",
   "nbconvert_exporter": "python",
   "pygments_lexer": "ipython3",
   "version": "3.9.6"
  },
  "widgets": {
   "application/vnd.jupyter.widget-state+json": {
    "state": {
     "4d250c5d35aa493295ca814fb3eaa1ee": {
      "model_module": "@jupyter-widgets/base",
      "model_module_version": "1.2.0",
      "model_name": "LayoutModel",
      "state": {}
     },
     "6faf75ca5f3b41388f284e98ec2cf803": {
      "model_module": "jupyter-matplotlib",
      "model_module_version": "^0.9.0",
      "model_name": "ToolbarModel",
      "state": {
       "layout": "IPY_MODEL_9b061db2dc65459ca586b9b9f73c2362",
       "toolitems": [
        [
         "Home",
         "Reset original view",
         "home",
         "home"
        ],
        [
         "Back",
         "Back to previous view",
         "arrow-left",
         "back"
        ],
        [
         "Forward",
         "Forward to next view",
         "arrow-right",
         "forward"
        ],
        [
         "Pan",
         "Left button pans, Right button zooms\nx/y fixes axis, CTRL fixes aspect",
         "arrows",
         "pan"
        ],
        [
         "Zoom",
         "Zoom to rectangle\nx/y fixes axis, CTRL fixes aspect",
         "square-o",
         "zoom"
        ],
        [
         "Download",
         "Download plot",
         "floppy-o",
         "save_figure"
        ]
       ]
      }
     },
     "9b061db2dc65459ca586b9b9f73c2362": {
      "model_module": "@jupyter-widgets/base",
      "model_module_version": "1.2.0",
      "model_name": "LayoutModel",
      "state": {}
     },
     "c25a38234e8f4e818670d9767f95a430": {
      "model_module": "jupyter-matplotlib",
      "model_module_version": "^0.9.0",
      "model_name": "MPLCanvasModel",
      "state": {
       "_cursor": "default",
       "_figure_label": "Figure 1",
       "_height": 708,
       "_width": 1746,
       "layout": "IPY_MODEL_4d250c5d35aa493295ca814fb3eaa1ee",
       "toolbar": "IPY_MODEL_6faf75ca5f3b41388f284e98ec2cf803",
       "toolbar_position": "left"
      }
     }
    },
    "version_major": 2,
    "version_minor": 0
   }
  }
 },
 "nbformat": 4,
 "nbformat_minor": 4
}