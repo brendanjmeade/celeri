{
 "cells": [
  {
   "cell_type": "code",
   "execution_count": 1,
   "metadata": {
    "execution": {
     "iopub.execute_input": "2021-08-22T18:29:50.539195Z",
     "iopub.status.busy": "2021-08-22T18:29:50.538938Z",
     "iopub.status.idle": "2021-08-22T18:29:50.550334Z",
     "shell.execute_reply": "2021-08-22T18:29:50.549700Z",
     "shell.execute_reply.started": "2021-08-22T18:29:50.539169Z"
    },
    "tags": []
   },
   "outputs": [],
   "source": [
    "%matplotlib widget\n",
    "%config InlineBackend.figure_format = 'svg'"
   ]
  },
  {
   "cell_type": "code",
   "execution_count": 24,
   "metadata": {
    "execution": {
     "iopub.execute_input": "2021-08-22T18:29:51.661926Z",
     "iopub.status.busy": "2021-08-22T18:29:51.661659Z",
     "iopub.status.idle": "2021-08-22T18:29:51.956035Z",
     "shell.execute_reply": "2021-08-22T18:29:51.955292Z",
     "shell.execute_reply.started": "2021-08-22T18:29:51.661900Z"
    },
    "tags": []
   },
   "outputs": [],
   "source": [
    "import addict\n",
    "import copy\n",
    "import numpy as np\n",
    "import pandas as pd\n",
    "import matplotlib.pyplot as plt\n",
    "from importlib import reload\n",
    "from tqdm.notebook import tqdm\n",
    "from typing import List, Dict, Tuple\n",
    "\n",
    "import celeri\n",
    "celeri = reload(celeri)\n",
    "\n",
    "plt.rcParams['text.usetex'] = False # Plotting the global model is much much faster with tex fonts turned off"
   ]
  },
  {
   "cell_type": "markdown",
   "metadata": {},
   "source": [
    "# Read in data files and do basic processing"
   ]
  },
  {
   "cell_type": "code",
   "execution_count": 3,
   "metadata": {
    "execution": {
     "iopub.execute_input": "2021-08-22T18:29:53.570589Z",
     "iopub.status.busy": "2021-08-22T18:29:53.570331Z",
     "iopub.status.idle": "2021-08-22T18:30:09.817977Z",
     "shell.execute_reply": "2021-08-22T18:30:09.817443Z",
     "shell.execute_reply.started": "2021-08-22T18:29:53.570561Z"
    },
    "tags": []
   },
   "outputs": [
    {
     "name": "stderr",
     "output_type": "stream",
     "text": [
      "WARNING:root:The file contains tag data that couldn't be processed.\n"
     ]
    }
   ],
   "source": [
    "command_file_name = \"./data/western_north_america/basic_command.json\"\n",
    "command, segment, block, meshes, station, mogi, sar = celeri.read_data(command_file_name)\n",
    "station = celeri.process_station(station, command)\n",
    "segment = celeri.process_segment(segment, command, meshes)\n",
    "sar = celeri.process_sar(sar, command)\n",
    "closure, block = celeri.assign_block_labels(segment, station, block, mogi, sar)"
   ]
  },
  {
   "cell_type": "markdown",
   "metadata": {},
   "source": [
    "# Create storage dictionaries and calculate elastic operators"
   ]
  },
  {
   "cell_type": "code",
   "execution_count": 4,
   "metadata": {},
   "outputs": [
    {
     "data": {
      "application/vnd.jupyter.widget-view+json": {
       "model_id": "33ee16b3467144cf9a13d2791f00480d",
       "version_major": 2,
       "version_minor": 0
      },
      "text/plain": [
       "Calculating Okada partials for segments:   0%|          | 0/837 [00:00<?, ?it/s]"
      ]
     },
     "metadata": {},
     "output_type": "display_data"
    },
    {
     "data": {
      "application/vnd.jupyter.widget-view+json": {
       "model_id": "185afaed52064edeb2efc7722167c740",
       "version_major": 2,
       "version_minor": 0
      },
      "text/plain": [
       "Calculating cutde partials for triangles:   0%|          | 0/1841 [00:00<?, ?it/s]"
      ]
     },
     "metadata": {},
     "output_type": "display_data"
    }
   ],
   "source": [
    "assembly = addict.Dict()\n",
    "operators = addict.Dict()\n",
    "assembly = celeri.merge_geodetic_data(assembly, station, sar) # Not sure this work correctly\n",
    "\n",
    "# Elastic operators and TDE smoothing\n",
    "# TODO: add n_tde_dims to get_all_mesh_smoothing_matrices\n",
    "operators.okada_segment_station = celeri.get_segment_station_operator_okada(segment, station, command)\n",
    "operators.tri_station = celeri.get_tri_station_operator_okada(meshes, station, command)\n",
    "celeri.get_all_mesh_smoothing_matrices(meshes)\n",
    "celeri.get_all_mesh_smoothing_matrices_simple(meshes, 2)"
   ]
  },
  {
   "cell_type": "markdown",
   "metadata": {},
   "source": [
    "# Calculate additional non-elastic operators"
   ]
  },
  {
   "cell_type": "code",
   "execution_count": 5,
   "metadata": {
    "tags": []
   },
   "outputs": [],
   "source": [
    "# Build all linear kinematic operators\n",
    "operators.block_rotation = celeri.get_block_rotation_operator(station)\n",
    "operators.global_float_block_rotation = celeri.get_global_float_block_rotation_operator(station)\n",
    "\n",
    "# TODO: Update celeri.block_constraints to properly use block.\n",
    "assembly, operators.block_motion_constraints = celeri.block_constraints(assembly, block, command)\n",
    "assembly, operators.slip_rate_constraints = celeri.slip_rate_constraints(assembly, segment, block, command)\n",
    "operators.slip_rate_segment_block = celeri.get_fault_slip_rate_partials(segment, block)\n",
    "operators.block_strain_rate, strain_rate_block_idx = celeri.get_strain_rate_centroid_operator(block, station, segment)\n",
    "operators.mogi_station = celeri.get_mogi_operator(mogi, station, command)\n",
    "\n",
    "# Get additional matrix shape information for assembly\n",
    "assembly.index.sz_elastic = operators.okada_segment_station.shape # Not sure this is correct\n",
    "assembly.index.sz_slip = operators.slip_rate_segment_block.shape # Not sure this is correct\n",
    "assembly.index.sz_rotation = operators.block_rotation.shape # Not sure this is correct\n",
    "assembly = celeri.station_row_keep(assembly) # Not sure this is correct"
   ]
  },
  {
   "cell_type": "code",
   "execution_count": 6,
   "metadata": {},
   "outputs": [],
   "source": [
    "# Shrink operators.tri_station so that there are no vertical displacments and no tensile slip\n",
    "tde_matrix = copy.deepcopy(operators.tri_station)\n",
    "tde_matrix = np.delete(tde_matrix, np.arange(2, tde_matrix.shape[0], 3), axis=0)\n",
    "tde_matrix = np.delete(tde_matrix, np.arange(2, tde_matrix.shape[1], 3), axis=1)\n",
    "\n",
    "# Slip estimation with direct inverse and smoothing matrix\n",
    "smoothing_matrix = 1e2 * meshes[0].smoothing_matrix.toarray()\n",
    "smoothing_matrix = np.delete(smoothing_matrix, np.arange(2, smoothing_matrix.shape[0], 3), axis=0)\n",
    "smoothing_matrix = np.delete(smoothing_matrix, np.arange(2, smoothing_matrix.shape[1], 3), axis=1)\n",
    "smoothing_matrix = meshes[0].smoothing_weight * smoothing_matrix # Weight smoothing matrix\n",
    "tde_and_smoothing_matrix = np.vstack((tde_matrix, smoothing_matrix))"
   ]
  },
  {
   "cell_type": "markdown",
   "metadata": {},
   "source": [
    "# Sketching out the assembly of the block model system\n",
    "The list here is in as of right now (09/19/21)...a work in progress\n",
    "\n",
    "## The observation vector:    \n",
    "| What | Symbolically | Variable name |\n",
    "| - | - | - |\n",
    "| GPS velocities | $\\mathbf{v}$ | ```assembly.data.east_vel, assembly.data.north_vel``` |\n",
    "| Slip rate constraints | $\\dot{\\mathbf{s}}$ | ```assembly.slip_rate_constraints``` |\n",
    "| Rotation vector constraints | $\\boldsymbol{\\omega}$ | ```assembly.block_constraints``` |\n",
    "\n",
    "## The state vector:    \n",
    "| What | Symbolically | Variable name |\n",
    "| - | - | - |\n",
    "| Block rotation rates | $\\boldsymbol{\\Omega}$ | ```estimation.block_rotation_vectors``` |\n",
    "| TDE slip | $\\mathbf{t}$ | ```estimation.tri_slip_rates``` |\n",
    "  \n",
    "## Matrix operators:    \n",
    "| What | Symbolically | Variable name |\n",
    "| - | - | - |\n",
    "| Rotation vector to GPS | $\\boldsymbol{\\Omega} \\rightarrow \\mathbf{v}$ | ```operators.block_rotation``` | \n",
    "| Rotation vector to GPS | $\\boldsymbol{\\Omega} \\rightarrow \\mathbf{v}$ | ```operators.global_float_block_rotation``` | \n",
    "| Rotation vector to segment slip rates| $\\boldsymbol{\\Omega} \\rightarrow \\dot{\\mathbf{s}}$ | ```operators.slip_rate_segment_block``` | \n",
    "| Segment slip rates to elastic deformation | $\\dot{\\mathbf{s}} \\rightarrow \\mathbf{v}$ | ```operators.okada_segment_station``` | \n",
    "| TDE slip to GPS | $\\mathbf{t} \\rightarrow \\mathbf{v}$ | ```operators.tri_station``` |\n",
    "| Rotation vector to slip rate constraints| $\\boldsymbol{\\Omega} \\rightarrow \\dot{\\mathbf{s}}$ | ```operators.slip_rate_constraints``` |\n",
    "| Rotation vector to Euler pole contraints | $\\mathbf{I}$ | ```operators.block_motion_contraints``` |\n",
    "\n"
   ]
  },
  {
   "cell_type": "markdown",
   "metadata": {},
   "source": [
    "# Block model with block rotations, fully locked segments and partially locked subduction zone using the full tde_matrix and smoothing matrix"
   ]
  },
  {
   "cell_type": "code",
   "execution_count": 27,
   "metadata": {},
   "outputs": [
    {
     "name": "stdout",
     "output_type": "stream",
     "text": [
      "data_vector: (7057,)\n",
      "operators.block_motion_constraints.shape: (3, 93)\n",
      "rotation_to_velocities.shape: (3372, 93)\n",
      "rotation_to_slip_rate_to_okada_to_velocities.shape: (3372, 93)\n",
      "tde_matrix.shape: (3372, 3682)\n",
      "smoothing_matrix.shape: (3682, 3682)\n",
      "tde_and_smoothing_matrix.shape: (7054, 3682)\n",
      "n_tde: 1841\n",
      "operator.shape: (7057, 3775)\n",
      "Finished printing\n",
      "(7057, 3775)\n",
      "7054\n",
      "3775\n",
      "(7054, 3682)\n",
      "(7054, 3682)\n"
     ]
    }
   ],
   "source": [
    "# TODO: What should this converstion be?\n",
    "DEG_PER_MYR_TO_RAD_PER_YR = np.deg2rad(1) / 1e6\n",
    "# DEG_PER_MYR_TO_RAD_PER_YR = 1 / 1e6\n",
    "\n",
    "n_tde = int(tde_matrix.shape[1] / 2)\n",
    "n_stations = assembly.data.n_stations\n",
    "n_blocks = len(block)\n",
    "n_block_constraints = assembly.data.n_block_constraints\n",
    "\n",
    "idx = addict.Dict()\n",
    "idx.start_station_row = 0\n",
    "idx.end_station_row = 2 * len(station)\n",
    "idx.start_block_col = 0\n",
    "idx.end_block_col = len(block)\n",
    "idx.start_tde_col = idx.end_block_col\n",
    "idx.end_tde_col = idx.start_tde_col + n_tde\n",
    "idx.meshes[0].start_tde_col = 0\n",
    "idx.meshes[0].end_tde_col = 0\n",
    "idx.meshes[0].start_tde_eigs_col = 0\n",
    "idx.meshes[0].end_tde_eig_col = 0\n",
    "\n",
    "# Build data vector\n",
    "data_vector = np.zeros(2 * n_stations + 2 * n_tde + 3 * n_block_constraints)\n",
    "data_vector[0:2 * n_stations] = celeri.interleave2(assembly.data.east_vel, assembly.data.north_vel) # add GPS data\n",
    "data_vector[2 * n_stations + 2 * n_tde:2 * n_stations + 2 * n_tde + 3 * n_block_constraints] = DEG_PER_MYR_TO_RAD_PER_YR * assembly.data.block_constraints # add plate motion constraints Not sure if units are correct\n",
    "\n",
    "# Elastic slip deficit contribution to velocities with fully locked fault segments\n",
    "slip_rate_to_okada_to_velocities = copy.deepcopy(operators.okada_segment_station)\n",
    "rotation_to_slip_rate = copy.deepcopy(operators.slip_rate_segment_block)\n",
    "\n",
    "# Delete rows associated with vertical velocities\n",
    "slip_rate_to_okada_to_velocities = np.delete(slip_rate_to_okada_to_velocities, np.arange(2, slip_rate_to_okada_to_velocities.shape[0], 3), axis=0)\n",
    "rotation_to_slip_rate_to_okada_to_velocities = slip_rate_to_okada_to_velocities @ rotation_to_slip_rate\n",
    "rotation_to_velocities = np.delete(operators.block_rotation, np.arange(2, operators.block_rotation.shape[0], 3), axis=0)\n",
    "\n",
    "# Print sizes of matrices that we'll use to build operator\n",
    "print(\"data_vector: \" + str(data_vector.shape))\n",
    "print(\"operators.block_motion_constraints.shape: \" + str(operators.block_motion_constraints.shape))\n",
    "print(\"rotation_to_velocities.shape: \" + str(rotation_to_velocities.shape))\n",
    "print(\"rotation_to_slip_rate_to_okada_to_velocities.shape: \" + str(rotation_to_slip_rate_to_okada_to_velocities.shape))\n",
    "print(\"tde_matrix.shape: \" + str(tde_matrix.shape))\n",
    "print(\"smoothing_matrix.shape: \" + str(smoothing_matrix.shape))\n",
    "print(\"tde_and_smoothing_matrix.shape: \" + str(tde_and_smoothing_matrix.shape))\n",
    "print(\"n_tde: \" + str(n_tde))\n",
    "\n",
    "# Build linear operator\n",
    "operator = np.zeros((2 * assembly.data.n_stations # start rows\n",
    "                     + 2 * n_tde\n",
    "                     + 3 * assembly.data.n_block_constraints,\n",
    "                       3 * len(block) # start columns\n",
    "                     + 2 * n_tde))\n",
    "print(\"operator.shape: \" + str(operator.shape))\n",
    "print(\"Finished printing\")\n",
    "\n",
    "# Insert block rotation and fully coupled segments\n",
    "operator[0:2 * n_stations, 0:3 * n_blocks] = rotation_to_velocities - rotation_to_slip_rate_to_okada_to_velocities\n",
    "\n",
    "# Insert block motion constraints\n",
    "operator[2 * n_stations + 2 * n_tde:2 * n_stations + 2 * n_tde + 3 * n_block_constraints, 0:3 * n_blocks] = operators.block_motion_constraints\n",
    "\n",
    "# Insert tdes and smoothing matrix\n",
    "print(operator.shape)\n",
    "print(2 * n_stations + 2 * n_tde)\n",
    "print(3 * n_blocks + 2 * n_tde)\n",
    "print(operator[0:2 * n_stations + 2 * n_tde, 3 * n_blocks : 3 * n_blocks + 2 * n_tde].shape)\n",
    "print(tde_and_smoothing_matrix.shape)\n",
    "\n",
    "operator[0:2 * n_stations + 2 * n_tde, 3 * n_blocks : 3 * n_blocks + 2 * n_tde] = tde_and_smoothing_matrix\n",
    "\n",
    "# Solve the linear system\n",
    "estimation = addict.Dict()\n",
    "state_vector = np.linalg.inv(operator.T @ operator) @ operator.T @ data_vector \n",
    "state_covariance_matrix = np.linalg.inv(operator.T @ operator)\n",
    "estimation.predictions = operator @ state_vector\n",
    "estimation.vel = estimation.predictions[0:2 * n_stations]\n",
    "estimation.east_vel = estimation.vel[0::2]\n",
    "estimation.north_vel = estimation.vel[1::2]\n",
    "\n",
    "# Estimate slip rate uncertainties\n",
    "estimation.slip_rate_sigma = np.sqrt(np.diag(rotation_to_slip_rate @ state_covariance_matrix[0:3 * n_blocks, 0:3 * n_blocks] @ rotation_to_slip_rate.T))\n",
    "estimation.strike_slip_rate_sigma = estimation.slip_rate_sigma[0::3]\n",
    "estimation.dip_slip_rate_sigma = estimation.slip_rate_sigma[1::3]\n",
    "estimation.tensile_slip_rate_sigma = estimation.slip_rate_sigma[2::3]\n",
    "\n",
    "# Calculate mean squared residual velocity\n",
    "estimation.east_vel_residual = estimation.east_vel - station.east_vel\n",
    "estimation.north_vel_residual = estimation.north_vel - station.north_vel\n",
    "\n",
    "# Extract TDE slip rates from state vector\n",
    "estimation.tde_rates = state_vector[3 * n_blocks : 3 * n_blocks + 2 * n_tde]\n",
    "estimation.tde_strike_slip_rates = estimation.tde_rates[0::2]\n",
    "estimation.tde_dip_slip_rates = estimation.tde_rates[1::2]\n",
    "\n",
    "# Extract segment slip rates from state vector\n",
    "estimation.slip_rates = rotation_to_slip_rate @ state_vector[0:3 * n_blocks]\n",
    "estimation.strike_slip_rates = estimation.slip_rates[0::3]\n",
    "estimation.dip_slip_rates = estimation.slip_rates[1::3]\n",
    "estimation.tensile_slip_rates = estimation.slip_rates[2::3]\n",
    "\n",
    "# Calculate rotation only velocities\n",
    "estimation.vel_rotation = rotation_to_velocities @ state_vector[0:3 * n_blocks]\n",
    "estimation.east_vel_rotation = estimation.vel_rotation[0::2]\n",
    "estimation.north_vel_rotation = estimation.vel_rotation[1::2]\n",
    "\n",
    "# Calculate fully locked segment velocities\n",
    "estimation.vel_elastic_segment = rotation_to_slip_rate_to_okada_to_velocities @ state_vector[0:3 * n_blocks]\n",
    "estimation.east_vel_elastic_segment = estimation.vel_elastic_segment[0::2]\n",
    "estimation.north_vel_elastic_segment = estimation.vel_elastic_segment[1::2]\n",
    "\n",
    "# Calculate TDE velocities\n",
    "estimation.vel_tde = tde_matrix @ state_vector[3 * n_blocks:]\n",
    "estimation.east_vel_tde = estimation.vel_tde[0::2]\n",
    "estimation.north_vel_tde = estimation.vel_tde[1::2]"
   ]
  },
  {
   "cell_type": "markdown",
   "metadata": {},
   "source": [
    "# Plot model summary "
   ]
  },
  {
   "cell_type": "code",
   "execution_count": 28,
   "metadata": {},
   "outputs": [
    {
     "data": {
      "application/vnd.jupyter.widget-view+json": {
       "model_id": "ce743dc446434526b466b2fa66c0a4cc",
       "version_major": 2,
       "version_minor": 0
      },
      "text/plain": [
       "Canvas(toolbar=Toolbar(toolitems=[('Home', 'Reset original view', 'home', 'home'), ('Back', 'Back to previous …"
      ]
     },
     "metadata": {},
     "output_type": "display_data"
    }
   ],
   "source": [
    "lon_range = (225, 250)\n",
    "lat_range = (30, 52)\n",
    "quiver_scale = 1e2\n",
    "celeri.plot_estimation_summary(segment, station, estimation, lon_range, lat_range, quiver_scale)"
   ]
  },
  {
   "cell_type": "code",
   "execution_count": 29,
   "metadata": {},
   "outputs": [
    {
     "data": {
      "application/vnd.jupyter.widget-view+json": {
       "model_id": "f337b52e76c342d4b589aead4e4c235a",
       "version_major": 2,
       "version_minor": 0
      },
      "text/plain": [
       "Canvas(toolbar=Toolbar(toolitems=[('Home', 'Reset original view', 'home', 'home'), ('Back', 'Back to previous …"
      ]
     },
     "metadata": {},
     "output_type": "display_data"
    }
   ],
   "source": [
    "plt.figure()\n",
    "plt.plot(state_vector[0:3*n_blocks], \"r+\")\n",
    "plt.show()"
   ]
  },
  {
   "cell_type": "code",
   "execution_count": 30,
   "metadata": {},
   "outputs": [
    {
     "data": {
      "text/plain": [
       "array([ 1.11769822e-07,  3.69426272e-08, -2.56201413e-07,  5.79786821e-07,\n",
       "        1.05313217e-06, -1.69075803e-06, -2.44295987e-06,  5.48062974e-06,\n",
       "       -7.80202530e-06, -1.33592767e-06,  8.21256290e-06, -1.01984612e-05,\n",
       "        7.07885575e-06,  1.63144592e-05, -1.39336431e-05,  1.23576983e-05,\n",
       "        2.95781676e-05, -2.18426992e-05, -5.13866324e-07,  3.48616127e-07,\n",
       "        2.90344741e-06,  8.31106002e-07,  1.84507687e-06, -2.07037775e-06,\n",
       "        1.66727155e-06,  3.31905410e-06, -3.96749711e-06,  3.40416090e-06,\n",
       "        7.00401544e-06, -8.23827477e-06,  1.97457526e-06,  4.01164196e-06,\n",
       "       -4.83329425e-06,  4.72536811e-06,  9.00506404e-06, -1.01302768e-05,\n",
       "       -2.33925810e-06, -2.04424823e-06,  6.18874584e-07, -1.81118855e-06,\n",
       "       -5.84119142e-07, -1.35121698e-06, -7.38605176e-06, -1.02397424e-05,\n",
       "        7.59929556e-06, -1.05476281e-05, -1.03636194e-05,  4.62776112e-06,\n",
       "        5.59939105e-05,  9.20804840e-05, -8.65514323e-05,  1.95245722e-06,\n",
       "        6.00441810e-06, -5.95136307e-06,  1.73545709e-05,  3.30400989e-05,\n",
       "       -3.13028742e-05, -6.67436830e-06, -8.45177972e-06,  4.37611072e-06,\n",
       "        1.50683683e-05,  3.71141470e-05, -2.91633051e-05,  1.94460278e-05,\n",
       "        4.55949376e-05, -3.86099521e-05, -3.29119887e-06, -3.81245216e-06,\n",
       "        1.33002183e-06,  1.06607006e-05,  2.21824971e-05, -1.96088518e-05,\n",
       "       -1.09364584e-05, -9.97531027e-06,  3.07108573e-06, -3.90148645e-05,\n",
       "       -5.18818415e-05,  4.73172718e-05,  1.99696493e-05,  4.37489809e-05,\n",
       "       -4.17430116e-05,  1.42508818e-05,  2.97253847e-05, -2.87420755e-05,\n",
       "       -5.26433321e-06, -1.24812326e-06, -1.34285179e-06,  6.06117054e-10,\n",
       "       -2.71834669e-11,  1.64131878e-10,  1.66310156e-06,  3.59657606e-06,\n",
       "       -4.39908603e-06])"
      ]
     },
     "execution_count": 30,
     "metadata": {},
     "output_type": "execute_result"
    }
   ],
   "source": [
    "state_vector[0:3*n_blocks]"
   ]
  },
  {
   "cell_type": "code",
   "execution_count": null,
   "metadata": {},
   "outputs": [],
   "source": []
  }
 ],
 "metadata": {
  "interpreter": {
   "hash": "b49ecae73d9755d1e6525bca8f2b993ba748c0e2e7c79677d2e15f06ac3538b9"
  },
  "kernelspec": {
   "display_name": "Python 3.9.6 64-bit ('celeri': conda)",
   "name": "python3"
  },
  "language_info": {
   "codemirror_mode": {
    "name": "ipython",
    "version": 3
   },
   "file_extension": ".py",
   "mimetype": "text/x-python",
   "name": "python",
   "nbconvert_exporter": "python",
   "pygments_lexer": "ipython3",
   "version": "3.9.6"
  },
  "widgets": {
   "application/vnd.jupyter.widget-state+json": {
    "state": {
     "4d250c5d35aa493295ca814fb3eaa1ee": {
      "model_module": "@jupyter-widgets/base",
      "model_module_version": "1.2.0",
      "model_name": "LayoutModel",
      "state": {}
     },
     "6faf75ca5f3b41388f284e98ec2cf803": {
      "model_module": "jupyter-matplotlib",
      "model_module_version": "^0.9.0",
      "model_name": "ToolbarModel",
      "state": {
       "layout": "IPY_MODEL_9b061db2dc65459ca586b9b9f73c2362",
       "toolitems": [
        [
         "Home",
         "Reset original view",
         "home",
         "home"
        ],
        [
         "Back",
         "Back to previous view",
         "arrow-left",
         "back"
        ],
        [
         "Forward",
         "Forward to next view",
         "arrow-right",
         "forward"
        ],
        [
         "Pan",
         "Left button pans, Right button zooms\nx/y fixes axis, CTRL fixes aspect",
         "arrows",
         "pan"
        ],
        [
         "Zoom",
         "Zoom to rectangle\nx/y fixes axis, CTRL fixes aspect",
         "square-o",
         "zoom"
        ],
        [
         "Download",
         "Download plot",
         "floppy-o",
         "save_figure"
        ]
       ]
      }
     },
     "9b061db2dc65459ca586b9b9f73c2362": {
      "model_module": "@jupyter-widgets/base",
      "model_module_version": "1.2.0",
      "model_name": "LayoutModel",
      "state": {}
     },
     "c25a38234e8f4e818670d9767f95a430": {
      "model_module": "jupyter-matplotlib",
      "model_module_version": "^0.9.0",
      "model_name": "MPLCanvasModel",
      "state": {
       "_cursor": "default",
       "_figure_label": "Figure 1",
       "_height": 708,
       "_width": 1746,
       "layout": "IPY_MODEL_4d250c5d35aa493295ca814fb3eaa1ee",
       "toolbar": "IPY_MODEL_6faf75ca5f3b41388f284e98ec2cf803",
       "toolbar_position": "left"
      }
     }
    },
    "version_major": 2,
    "version_minor": 0
   }
  }
 },
 "nbformat": 4,
 "nbformat_minor": 4
}
