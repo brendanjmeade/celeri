{
 "cells": [
  {
   "cell_type": "code",
   "execution_count": 35,
   "source": [
    "%matplotlib widget\n",
    "%config InlineBackend.figure_format = 'svg'"
   ],
   "outputs": [],
   "metadata": {
    "execution": {
     "iopub.execute_input": "2021-08-22T18:29:50.539195Z",
     "iopub.status.busy": "2021-08-22T18:29:50.538938Z",
     "iopub.status.idle": "2021-08-22T18:29:50.550334Z",
     "shell.execute_reply": "2021-08-22T18:29:50.549700Z",
     "shell.execute_reply.started": "2021-08-22T18:29:50.539169Z"
    },
    "tags": []
   }
  },
  {
   "cell_type": "code",
   "execution_count": 36,
   "source": [
    "import addict\n",
    "import numpy as np\n",
    "import pandas as pd\n",
    "import matplotlib.pyplot as plt\n",
    "from importlib import reload\n",
    "from tqdm.notebook import tqdm\n",
    "# import okada_wrapper\n",
    "\n",
    "# Plotting the global model is much much faster with tex fonts turned off\n",
    "plt.rcParams['text.usetex'] = False"
   ],
   "outputs": [],
   "metadata": {
    "execution": {
     "iopub.execute_input": "2021-08-22T18:29:51.661926Z",
     "iopub.status.busy": "2021-08-22T18:29:51.661659Z",
     "iopub.status.idle": "2021-08-22T18:29:51.956035Z",
     "shell.execute_reply": "2021-08-22T18:29:51.955292Z",
     "shell.execute_reply.started": "2021-08-22T18:29:51.661900Z"
    },
    "tags": []
   }
  },
  {
   "cell_type": "code",
   "execution_count": 37,
   "source": [
    "import celeri\n",
    "celeri = reload(celeri)"
   ],
   "outputs": [],
   "metadata": {
    "execution": {
     "iopub.execute_input": "2021-08-22T18:29:52.614271Z",
     "iopub.status.busy": "2021-08-22T18:29:52.614009Z",
     "iopub.status.idle": "2021-08-22T18:29:52.905586Z",
     "shell.execute_reply": "2021-08-22T18:29:52.905027Z",
     "shell.execute_reply.started": "2021-08-22T18:29:52.614243Z"
    },
    "tags": []
   }
  },
  {
   "cell_type": "code",
   "execution_count": 38,
   "source": [
    "command_file_name = './data/western_north_america/western_north_america_command.json'\n",
    "# command_file_name = './data/global/global_command.json'\n",
    "command, segment, block, meshes, station, mogi, sar = celeri.read_data(command_file_name)\n",
    "station = celeri.process_station(station, command)\n",
    "segment = celeri.process_segment(segment, command, meshes)\n",
    "sar = celeri.process_sar(sar, command)\n",
    "closure = celeri.assign_block_labels(segment, station, block, mogi, sar)\n",
    "# celeri.plot_block_labels(segment, block, station, closure)"
   ],
   "outputs": [],
   "metadata": {
    "execution": {
     "iopub.execute_input": "2021-08-22T18:29:53.570589Z",
     "iopub.status.busy": "2021-08-22T18:29:53.570331Z",
     "iopub.status.idle": "2021-08-22T18:30:09.817977Z",
     "shell.execute_reply": "2021-08-22T18:30:09.817443Z",
     "shell.execute_reply.started": "2021-08-22T18:29:53.570561Z"
    },
    "tags": []
   }
  },
  {
   "cell_type": "code",
   "execution_count": 39,
   "source": [
    "assembly = addict.Dict()\n",
    "operators = addict.Dict()\n",
    "assembly = celeri.merge_geodetic_data(assembly, station, sar)\n",
    "assembly, operators.block_motion_constraints = celeri.block_constraints(assembly, block, command)\n",
    "assembly, operators.slip_rate_constraints = celeri.slip_rate_constraints(assembly, segment, block, command)"
   ],
   "outputs": [],
   "metadata": {
    "tags": []
   }
  },
  {
   "cell_type": "code",
   "execution_count": 40,
   "source": [
    "# TODO: add tqdm to environment and install for celeri for progress monitoring\n",
    "# TODO: rename G\n",
    "# TODO: assemble G\n",
    "# TODO: push text from above to log file.\n",
    "# def get_segment_operator_okada(segment, stations, command):\n",
    "\"\"\"\n",
    "Calculates the elastic displacement partial derivatives based on the Okada\n",
    "formulation, using the source and receiver geometries defined in\n",
    "dicitonaries segment and stations. Before calculating the partials for\n",
    "each segment, a local oblique Mercator project is done.\n",
    "\"\"\"\n",
    "\n",
    "n_stations = len(station)\n",
    "n_segments = len(segment)\n",
    "G = np.zeros((3 * n_stations, 3 * n_segments))\n",
    "v1 = np.zeros(n_segments)\n",
    "v2 = np.zeros(n_segments)\n",
    "v3 = np.zeros(n_segments)\n",
    "\n",
    "# Loop through each segment and calculate displacements\n",
    "for i in tqdm(range(n_segments)):\n",
    "# for i in range(1):\n",
    "    pass\n",
    "    # u_east, u_north, u_up = celeri.get_okada_displacements(segment.lon1[i], segment.lat1[i], segment.lon2[i], segment.lat2[i], segment.locking_depth[i], segment.burial_depth[i], segment.dip[i], command.material_lambda, command.material_mu, 1, 0, 0, station.lon, station.lat)\n",
    "\n",
    "#     % Displacements due to unit slip components\n",
    "#     [ves vns vus...\n",
    "#      ved vnd vud...\n",
    "#      vet vnt vut] = okada_partials(ofx, ofy, strike, f.lDep, deg_to_rad(f.dip), L, W, 1, 1, 1, s.fpx, s.fpy, command.poissons_ratio);\n",
    "     \n",
    "#     v1{i} = reshape([ves vns vus]', 3*nSta, 1)\n",
    "#     v2{i} = reshape(sign(90 - f.dip).*[ved vnd vud]', 3*nSta, 1)\n",
    "#     v3{i} = reshape((f.dip - 90 == 0).*[vet vnt vut]', 3*nSta, 1) \n",
    "#     v1{i} = xyz2enumat((v1{i}), -f.strike + 90)\n",
    "#     v2{i} = xyz2enumat((v2{i}), -f.strike + 90)\n",
    "#     v3{i} = xyz2enumat((v3{i}), -f.strike + 90)\n",
    "\n",
    "# Place cell arrays into the partials matrix\n",
    "# G[:, 0::3] = cell2mat(v1)\n",
    "# G[:, 1::3] = cell2mat(v2)\n",
    "# G[:, 2::3] = cell2mat(v3) \n"
   ],
   "outputs": [
    {
     "output_type": "display_data",
     "data": {
      "text/plain": [
       "  0%|          | 0/837 [00:00<?, ?it/s]"
      ],
      "application/vnd.jupyter.widget-view+json": {
       "version_major": 2,
       "version_minor": 0,
       "model_id": "a98b3132ce554780b9d03f9e5d5da210"
      }
     },
     "metadata": {}
    }
   ],
   "metadata": {}
  },
  {
   "cell_type": "code",
   "execution_count": 41,
   "source": [
    "i = 0\n",
    "u_east, u_north, u_up = celeri.get_okada_displacements(segment.lon1.values[i], segment.lat1[i], segment.lon2[i], segment.lat2[i], segment.locking_depth[i], segment.burial_depth[i], segment.dip[i], command.material_lambda, command.material_mu, 1, 0, 0, station.lon, station.lat)\n",
    "plt.figure()\n",
    "plt.plot([segment.lon1[i], segment.lon2[i]], [segment.lat1[i], segment.lat2[i]], \"-r\")\n",
    "plt.quiver(station.lon, station.lat, u_east, u_north, scale=1e-1, scale_units='inches')\n",
    "plt.xlim([235, 255])\n",
    "plt.ylim([30, 50])\n",
    "plt.gca().set_aspect('equal', adjustable='box')\n",
    "plt.title(\"Displacements: longitude and latitude\")\n",
    "plt.show()\n"
   ],
   "outputs": [
    {
     "output_type": "display_data",
     "data": {
      "text/plain": [
       "Canvas(toolbar=Toolbar(toolitems=[('Home', 'Reset original view', 'home', 'home'), ('Back', 'Back to previous …"
      ],
      "application/vnd.jupyter.widget-view+json": {
       "version_major": 2,
       "version_minor": 0,
       "model_id": "e86727b84d114a5f92e459c8512f769e"
      }
     },
     "metadata": {}
    }
   ],
   "metadata": {}
  },
  {
   "cell_type": "code",
   "execution_count": 42,
   "source": [
    "celeri.RUN_NAME"
   ],
   "outputs": [
    {
     "output_type": "execute_result",
     "data": {
      "text/plain": [
       "'2021-08-26-12-41-55'"
      ]
     },
     "metadata": {},
     "execution_count": 42
    }
   ],
   "metadata": {}
  },
  {
   "cell_type": "code",
   "execution_count": null,
   "source": [],
   "outputs": [],
   "metadata": {}
  }
 ],
 "metadata": {
  "interpreter": {
   "hash": "1c99b817e7692020a25f5bce5fd58f988aabefee874a9cd895a1468d49750c9a"
  },
  "kernelspec": {
   "name": "python3",
   "display_name": "Python 3.9.6 64-bit ('celeri': conda)"
  },
  "language_info": {
   "codemirror_mode": {
    "name": "ipython",
    "version": 3
   },
   "file_extension": ".py",
   "mimetype": "text/x-python",
   "name": "python",
   "nbconvert_exporter": "python",
   "pygments_lexer": "ipython3",
   "version": "3.9.6"
  },
  "widgets": {
   "application/vnd.jupyter.widget-state+json": {
    "state": {
     "4d250c5d35aa493295ca814fb3eaa1ee": {
      "model_module": "@jupyter-widgets/base",
      "model_module_version": "1.2.0",
      "model_name": "LayoutModel",
      "state": {}
     },
     "6faf75ca5f3b41388f284e98ec2cf803": {
      "model_module": "jupyter-matplotlib",
      "model_module_version": "^0.9.0",
      "model_name": "ToolbarModel",
      "state": {
       "layout": "IPY_MODEL_9b061db2dc65459ca586b9b9f73c2362",
       "toolitems": [
        [
         "Home",
         "Reset original view",
         "home",
         "home"
        ],
        [
         "Back",
         "Back to previous view",
         "arrow-left",
         "back"
        ],
        [
         "Forward",
         "Forward to next view",
         "arrow-right",
         "forward"
        ],
        [
         "Pan",
         "Left button pans, Right button zooms\nx/y fixes axis, CTRL fixes aspect",
         "arrows",
         "pan"
        ],
        [
         "Zoom",
         "Zoom to rectangle\nx/y fixes axis, CTRL fixes aspect",
         "square-o",
         "zoom"
        ],
        [
         "Download",
         "Download plot",
         "floppy-o",
         "save_figure"
        ]
       ]
      }
     },
     "9b061db2dc65459ca586b9b9f73c2362": {
      "model_module": "@jupyter-widgets/base",
      "model_module_version": "1.2.0",
      "model_name": "LayoutModel",
      "state": {}
     },
     "c25a38234e8f4e818670d9767f95a430": {
      "model_module": "jupyter-matplotlib",
      "model_module_version": "^0.9.0",
      "model_name": "MPLCanvasModel",
      "state": {
       "_cursor": "default",
       "_figure_label": "Figure 1",
       "_height": 708,
       "_width": 1746,
       "layout": "IPY_MODEL_4d250c5d35aa493295ca814fb3eaa1ee",
       "toolbar": "IPY_MODEL_6faf75ca5f3b41388f284e98ec2cf803",
       "toolbar_position": "left"
      }
     }
    },
    "version_major": 2,
    "version_minor": 0
   }
  }
 },
 "nbformat": 4,
 "nbformat_minor": 4
}