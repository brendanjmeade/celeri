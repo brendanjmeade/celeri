{
 "cells": [
  {
   "cell_type": "code",
   "execution_count": 154,
   "source": [
    "%matplotlib widget\n",
    "%config InlineBackend.figure_format = 'svg'"
   ],
   "outputs": [],
   "metadata": {}
  },
  {
   "cell_type": "code",
   "execution_count": 160,
   "source": [
    "import copy\n",
    "import datetime\n",
    "import os\n",
    "import numpy as np\n",
    "import pandas as pd\n",
    "import matplotlib.pyplot as plt\n",
    "from importlib import reload\n",
    "\n",
    "import celeri\n",
    "celeri = reload(celeri)"
   ],
   "outputs": [],
   "metadata": {
    "tags": []
   }
  },
  {
   "cell_type": "code",
   "execution_count": 161,
   "source": [
    "RUN_NAME = datetime.datetime.now().strftime(\"%y%m%d%H%M%S\") + os.sep\n",
    "command_file_name = './data/western_north_america/western_north_america_command.json'\n",
    "command, segment, block, meshes, station, mogi, sar = celeri.read_data(command_file_name)\n",
    "station = celeri.process_station(station, command)\n",
    "segment = celeri.process_segment(segment, command)\n",
    "sar = celeri.process_sar(sar, command)\n",
    "segment, station, block, mogi, sar = celeri.assign_block_labels(segment, station, block, mogi, sar)\n",
    "# celeri.plot_block_labels(segment, block, station)\n",
    "assembly = celeri.create_assembly_dictionary()\n",
    "assembly = celeri.merge_geodetic_data(assembly, station, sar) \n",
    "assembly, block_constraint_partials = celeri.block_constraints(assembly, block, command)"
   ],
   "outputs": [],
   "metadata": {
    "tags": []
   }
  },
  {
   "cell_type": "code",
   "execution_count": 205,
   "source": [
    "def get_cross_partials(vector):\n",
    "    \"\"\"\n",
    "    Returns a linear operator R that when multiplied by \n",
    "    vector a gives the cross product a cross b\n",
    "    \"\"\"\n",
    "    return np.array([[0, vector[2], -vector[1]], [-vector[2], 0, vector[0]], [vector[1], -vector[0], 0]])\n",
    "\n",
    "\n",
    "def cartesian_vector_to_spherical_vector(vel_x, vel_y, vel_z, lon, lat):\n",
    "    \"\"\"\n",
    "    This function transforms vectors from Cartesian to spherical components.\n",
    "    Arguments:\n",
    "        vel_x: array of x components of velocity\n",
    "        vel_y: array of y components of velocity\n",
    "        vel_z: array of z components of velocity\n",
    "        lon: array of station longitudes\n",
    "        lat: array of station latitudes\n",
    "    Returned variables:\n",
    "        vel_north: array of north components of velocity\n",
    "        vel_east: array of east components of velocity\n",
    "        vel_up: array of up components of velocity\n",
    "    \"\"\"\n",
    "    projection_matrix = np.array([[-np.sin(np.deg2rad(lat)) * np.cos(np.deg2rad(lon)), -np.sin(np.deg2rad(lat)) * np.sin(np.deg2rad(lon)), np.cos(np.deg2rad(lat))],\n",
    "                                  [-np.sin(np.deg2rad(lon)), np.cos(np.deg2rad(lon)), 0],\n",
    "                                  [-np.cos(np.deg2rad(lat)) * np.cos(np.deg2rad(lon)), -np.cos(np.deg2rad(lat)) * np.sin(np.deg2rad(lon)), -np.sin(np.deg2rad(lat))]])\n",
    "    vel_north, vel_east, vel_up = np.dot(projection_matrix, np.array([vel_x, vel_y, vel_z]))\n",
    "    return vel_north, vel_east, vel_up\n",
    "\n",
    "\n",
    "def get_fault_slip_rate_partials(segment, block):\n",
    "    \"\"\"\n",
    "    Calculate partial derivatives for slip rate constraints\n",
    "    \"\"\"\n",
    "    n_segments = len(segment)\n",
    "    n_blocks = len(block)\n",
    "    fault_slip_rate_partials = np.zeros((3 * n_segments, 3 * n_blocks))\n",
    "    for i in range(n_segments):\n",
    "        # Project velocities from Cartesian to spherical coordinates at segment mid-points\n",
    "        row_idx = 3 * i\n",
    "        column_idx_east = 3 * segment.east_labels[i]\n",
    "        column_idx_west = 3 * segment.west_labels[i]\n",
    "        R = get_cross_partials([segment.mid_x[i], segment.mid_y[i], segment.mid_z[i]])\n",
    "        vn_wx, ve_wx, vu_wx = cartesian_vector_to_spherical_vector(R[0, 0], R[1, 0], R[2, 0], segment.mid_lon[i], segment.mid_lat[i])\n",
    "        vn_wy, ve_wy, vu_wy = cartesian_vector_to_spherical_vector(R[0, 1], R[1, 1], R[2, 1], segment.mid_lon[i], segment.mid_lat[i])\n",
    "        vn_wz, ve_wz, vu_wz = cartesian_vector_to_spherical_vector(R[0, 2], R[1, 2], R[2, 2], segment.mid_lon[i], segment.mid_lat[i])\n",
    "\n",
    "        # Build unit vector for the fault\n",
    "        # Projection on to fault strike\n",
    "        # segment_azimuth = azimuth(segment.lat1[i], segment.lon1[i], segment.lat2[i], segment.lon2[i])\n",
    "        segment_azimuth, _, _ = celeri.GEOID.inv( segment.lon1[i], segment.lat1[i], segment.lon2[i], segment.lat2[i])  # TODO: Need to check this vs. matlab azimuth for consistency\n",
    "        uxpar = np.cos(np.deg2rad(90 - segment_azimuth))\n",
    "        uypar = np.sin(np.deg2rad(90 - segment_azimuth))\n",
    "        uxper = np.sin(np.deg2rad(segment_azimuth - 90))\n",
    "        uyper = np.cos(np.deg2rad(segment_azimuth - 90))\n",
    "        \n",
    "        # Projection onto fault dip\n",
    "        if segment.lat2[i] < segment.lat1[i]:\n",
    "            uxpar = -uxpar\n",
    "            uypar = -uypar\n",
    "            uxper = -uxper\n",
    "            uyper = -uyper\n",
    "\n",
    "        # This is the logic for dipping vs. non-dipping faults\n",
    "        # TODO: Better document the logic here\n",
    "        if segment.dip[i] != 90:\n",
    "            sf = 1/abs(np.cos(np.deg2rad(segment.dip[i])))\n",
    "            R = np.array([[uxpar * ve_wx + uypar * vn_wx, uxpar * ve_wy + uypar * vn_wy, uxpar * ve_wz + uypar * vn_wz],\n",
    "                          [sf * (uxper * ve_wx + uyper * vn_wx), sf * (uxper * ve_wy + uyper * vn_wy), sf * (uxper * ve_wz + uyper * vn_wz)],\n",
    "                          [0, 0, 0]])\n",
    "        else:\n",
    "            sf = -1\n",
    "            R = np.array([[uxpar * ve_wx + uypar * vn_wx, uxpar * ve_wy + uypar * vn_wy, uxpar * ve_wz + uypar * vn_wz],\n",
    "                          [0, 0, 0],\n",
    "                          [sf * (uxper * ve_wx + uyper * vn_wx), sf * (uxper * ve_wy + uyper * vn_wy), sf * (uxper * ve_wz + uyper * vn_wz)]])\n",
    "\n",
    "        fault_slip_rate_partials[row_idx:row_idx + 3, column_idx_east:column_idx_east + 3] = R\n",
    "        fault_slip_rate_partials[row_idx:row_idx + 3, column_idx_west:column_idx_west + 3] = -R\n",
    "    return fault_slip_rate_partials\n",
    "\n",
    "\n",
    "# function [slipCon, Index, Data, Sigma] = SlipConstraints(Segment, Block, Index, Data, Sigma, Command);\n",
    "print(\"Isolating slip rate constraints\")\n",
    "# for i in range(len(segment.lon1)):\n",
    "#     if segment.ss_rate_flag[i] == 1:\n",
    "#         \"{:.2f}\".format(segment.ss_rate[i])\n",
    "#         print(\"- Strike-slip constraint on \" + segment.name[i].strip() + \": rate = \" + \"{:.2f}\".format(segment.ss_rate[i]) + \" (mm/yr), 1-sigma uncertainty = +/-\" + \"{:.2f}\".format(segment.ss_rate_sig[i]) + \" (mm/yr)\")\n",
    "#     if segment.ds_rate_flag[i] == 1:\n",
    "#         print(\"- Dip-slip constraint on \" + segment.name[i].strip() + \": rate = \" + \"{:.2f}\".format(segment.ds_rate[i]) + \" (mm/yr), 1-sigma uncertainty = +/-\" + \"{:.2f}\".format(segment.ds_rate_sig[i]) + \" (mm/yr)\")\n",
    "#     if segment.ts_rate_flag[i] == 1:\n",
    "#         print(\"- Tensile-slip constraint on \" + segment.name[i].strip() + \": rate = \" + \"{:.2f}\".format(segment.ts_rate[i]) + \" (mm/yr), 1-sigma uncertainty = +/-\" + \"{:.2f}\".format(segment.ts_rate_sig[i]) + \" (mm/yr)\")\n",
    "\n",
    "slip_constraints = get_fault_slip_rate_partials(segment, block)\n",
    "# slipToggle = stack3([Segment.ssRateTog(:) Segment.dsRateTog(:) Segment.tsRateTog(:)]);\n",
    "# Index.slip_constraints = find(slipToggle)\n",
    "# Data.nSlipCon = length(Index.slipCon);\n",
    "# Data.slipCon = stack3([Segment.ssRate(:) Segment.dsRate(:) Segment.tsRate(:)]);\n",
    "# Data.slipCon = Data.slipCon(Index.slipCon);\n",
    "# Sigma.slipCon = stack3([Segment.ssRateSig(:) Segment.dsRateSig(:) Segment.tsRateSig(:)]);\n",
    "# Sigma.slipCon = Sigma.slipCon(Index.slipCon);\n",
    "# slipCon = slipCon(Index.slipCon, :);\n",
    "assembly[\"sigma\"][\"slip_constraint_weight\"] = command[\"slip_constraint_weight\"]\n"
   ],
   "outputs": [
    {
     "output_type": "stream",
     "name": "stdout",
     "text": [
      "Isolating slip rate constraints\n"
     ]
    }
   ],
   "metadata": {}
  },
  {
   "cell_type": "code",
   "execution_count": 200,
   "source": [
    "a = 1\n",
    "b = np.array([1])\n",
    "c = np.array(1)"
   ],
   "outputs": [],
   "metadata": {}
  },
  {
   "cell_type": "code",
   "execution_count": 213,
   "source": [
    "len(segment)"
   ],
   "outputs": [
    {
     "output_type": "execute_result",
     "data": {
      "text/plain": [
       "837"
      ]
     },
     "metadata": {},
     "execution_count": 213
    }
   ],
   "metadata": {}
  },
  {
   "cell_type": "code",
   "execution_count": null,
   "source": [],
   "outputs": [],
   "metadata": {}
  }
 ],
 "metadata": {
  "interpreter": {
   "hash": "749f0fc94df05971c9b3f3660cf19264b2aeee03fc6d4bf75e86fd251d69cf68"
  },
  "kernelspec": {
   "name": "python3",
   "display_name": "Python 3.8.8 64-bit ('base': conda)"
  },
  "language_info": {
   "codemirror_mode": {
    "name": "ipython",
    "version": 3
   },
   "file_extension": ".py",
   "mimetype": "text/x-python",
   "name": "python",
   "nbconvert_exporter": "python",
   "pygments_lexer": "ipython3",
   "version": "3.8.8"
  },
  "widgets": {
   "application/vnd.jupyter.widget-state+json": {
    "state": {},
    "version_major": 2,
    "version_minor": 0
   }
  }
 },
 "nbformat": 4,
 "nbformat_minor": 4
}