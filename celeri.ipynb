{
 "cells": [
  {
   "cell_type": "code",
   "execution_count": 1,
   "source": [
    "%matplotlib widget\n",
    "%config InlineBackend.figure_format = 'svg'"
   ],
   "outputs": [],
   "metadata": {
    "execution": {
     "iopub.execute_input": "2021-08-22T18:29:50.539195Z",
     "iopub.status.busy": "2021-08-22T18:29:50.538938Z",
     "iopub.status.idle": "2021-08-22T18:29:50.550334Z",
     "shell.execute_reply": "2021-08-22T18:29:50.549700Z",
     "shell.execute_reply.started": "2021-08-22T18:29:50.539169Z"
    },
    "tags": []
   }
  },
  {
   "cell_type": "code",
   "execution_count": 2,
   "source": [
    "import addict\n",
    "import copy\n",
    "import numpy as np\n",
    "import pandas as pd\n",
    "import matplotlib.pyplot as plt\n",
    "from importlib import reload\n",
    "from tqdm.notebook import tqdm\n",
    "\n",
    "import celeri\n",
    "celeri = reload(celeri)\n",
    "\n",
    "plt.rcParams['text.usetex'] = False # Plotting the global model is much much faster with tex fonts turned off"
   ],
   "outputs": [],
   "metadata": {
    "execution": {
     "iopub.execute_input": "2021-08-22T18:29:51.661926Z",
     "iopub.status.busy": "2021-08-22T18:29:51.661659Z",
     "iopub.status.idle": "2021-08-22T18:29:51.956035Z",
     "shell.execute_reply": "2021-08-22T18:29:51.955292Z",
     "shell.execute_reply.started": "2021-08-22T18:29:51.661900Z"
    },
    "tags": []
   }
  },
  {
   "cell_type": "markdown",
   "source": [
    "# Read in data files and do basic processing"
   ],
   "metadata": {}
  },
  {
   "cell_type": "code",
   "execution_count": 3,
   "source": [
    "command_file_name = \"./data/western_north_america/basic_command.json\"\n",
    "command, segment, block, meshes, station, mogi, sar = celeri.read_data(command_file_name)\n",
    "station = celeri.process_station(station, command)\n",
    "segment = celeri.process_segment(segment, command, meshes)\n",
    "sar = celeri.process_sar(sar, command)\n",
    "closure, block = celeri.assign_block_labels(segment, station, block, mogi, sar)\n",
    "# celeri.plot_block_labels(segment, block, station, closure)"
   ],
   "outputs": [
    {
     "output_type": "stream",
     "name": "stderr",
     "text": [
      "WARNING:root:The file contains tag data that couldn't be processed.\n"
     ]
    }
   ],
   "metadata": {
    "execution": {
     "iopub.execute_input": "2021-08-22T18:29:53.570589Z",
     "iopub.status.busy": "2021-08-22T18:29:53.570331Z",
     "iopub.status.idle": "2021-08-22T18:30:09.817977Z",
     "shell.execute_reply": "2021-08-22T18:30:09.817443Z",
     "shell.execute_reply.started": "2021-08-22T18:29:53.570561Z"
    },
    "tags": []
   }
  },
  {
   "cell_type": "markdown",
   "source": [
    "# Create storage dictionaries and calculate elastic operators"
   ],
   "metadata": {}
  },
  {
   "cell_type": "code",
   "execution_count": 4,
   "source": [
    "assembly = addict.Dict()\n",
    "operators = addict.Dict()\n",
    "assembly = celeri.merge_geodetic_data(assembly, station, sar) # Not sure this work correctly\n",
    "\n",
    "# Elastic operators\n",
    "operators.okada_segment_station = celeri.get_segment_station_operator_okada(segment, station, command)\n",
    "# celeri.plot_segment_displacements(segment, station, command, segment_idx=0, strike_slip=1, dip_slip=0, tensile_slip=0, lon_min=235, lon_max=255, lat_min=30, lat_max=50, quiver_scale=1e-1)\n",
    "operators.tri_station = celeri.get_tri_station_operator_okada(meshes, station, command)\n",
    "celeri.get_all_mesh_smoothing_matrices(meshes)"
   ],
   "outputs": [
    {
     "output_type": "display_data",
     "data": {
      "application/vnd.jupyter.widget-view+json": {
       "version_major": 2,
       "version_minor": 0,
       "model_id": "6b3ea36484b14f1290efea37b16b02e0"
      },
      "text/plain": [
       "Calculating Okada partials for segments:   0%|          | 0/837 [00:00<?, ?it/s]"
      ]
     },
     "metadata": {}
    },
    {
     "output_type": "display_data",
     "data": {
      "application/vnd.jupyter.widget-view+json": {
       "version_major": 2,
       "version_minor": 0,
       "model_id": "af2ebd0a05e94afcaa5110cbc91c1474"
      },
      "text/plain": [
       "Calculating cutde partials for triangles:   0%|          | 0/1841 [00:00<?, ?it/s]"
      ]
     },
     "metadata": {}
    }
   ],
   "metadata": {}
  },
  {
   "cell_type": "markdown",
   "source": [
    "# Calculate additional non-elastic operators"
   ],
   "metadata": {}
  },
  {
   "cell_type": "code",
   "execution_count": 5,
   "source": [
    "# Build all linear kinematic operators\n",
    "operators.block_rotation = celeri.get_block_rotation_operator(station)\n",
    "operators.global_float_block_rotation = celeri.get_global_float_block_rotation_operator(station)\n",
    "\n",
    "# TODO: Update celeri.block_constraints to properly use block.\n",
    "assembly, operators.block_motion_constraints = celeri.block_constraints(assembly, block, command)\n",
    "assembly, operators.slip_rate_constraints = celeri.slip_rate_constraints(assembly, segment, block, command)\n",
    "operators.slip_rate_segment_block = celeri.get_fault_slip_rate_partials(segment, block)\n",
    "operators.block_strain_rate, strain_rate_block_idx = celeri.get_strain_rate_centroid_operator(block, station, segment)\n",
    "operators.mogi_station = celeri.get_mogi_operator(mogi, station, command)\n",
    "\n",
    "# Get additional matrix shape information for assembly\n",
    "assembly.index.sz_elastic = operators.okada_segment_station.shape # Not sure this is correct\n",
    "assembly.index.sz_slip = operators.slip_rate_segment_block.shape # Not sure this is correct\n",
    "assembly.index.sz_rotation = operators.block_rotation.shape # Not sure this is correct\n",
    "assembly = celeri.station_row_keep(assembly) # Not sure this is correct"
   ],
   "outputs": [],
   "metadata": {
    "tags": []
   }
  },
  {
   "cell_type": "code",
   "execution_count": 61,
   "source": [
    "def plot_slip_distributions(mesh, slip_distribution_input, slip_distribution_estimated, suptitle_string):\n",
    "    marker_size = 2.0\n",
    "    plt.figure(figsize=(12, 7))\n",
    "\n",
    "    plt.subplot(2, 2, 1)\n",
    "    plt.title(\"input strike-slip\")\n",
    "    plt.scatter(mesh.centroids[:, 0], mesh.centroids[:, 1], s=marker_size, c=slip_distribution_input[0::2], alpha=0.5)\n",
    "    plt.colorbar()\n",
    "    plt.gca().set_aspect(\"equal\", adjustable=\"box\")\n",
    "    plt.xlim([230.0, 245.0])\n",
    "    plt.ylim([37.5, 52.5])\n",
    "\n",
    "    plt.subplot(2, 2, 2)\n",
    "    plt.title(\"input dip-slip\")\n",
    "    plt.scatter(mesh.centroids[:, 0], mesh.centroids[:, 1], s=marker_size, c=slip_distribution_input[1::2], alpha=0.5)\n",
    "    plt.colorbar()\n",
    "    plt.gca().set_aspect(\"equal\", adjustable=\"box\")\n",
    "    plt.xlim([230.0, 245.0])\n",
    "    plt.ylim([37.5, 52.5])\n",
    "\n",
    "    plt.subplot(2, 2, 3)\n",
    "    plt.title(\"estimated strike-slip\")\n",
    "    plt.scatter(mesh.centroids[:, 0], mesh.centroids[:, 1], s=marker_size, c=slip_distribution_estimated[0::2], alpha=0.5)\n",
    "    plt.colorbar()\n",
    "    plt.gca().set_aspect(\"equal\", adjustable=\"box\")\n",
    "    plt.xlim([230.0, 245.0])\n",
    "    plt.ylim([37.5, 52.5])\n",
    "\n",
    "    plt.subplot(2, 2, 4)\n",
    "    plt.title(\"estimated dip-slip\")\n",
    "    plt.scatter(mesh.centroids[:, 0], mesh.centroids[:, 1], s=marker_size, c=slip_distribution_estimated[1::2], alpha=0.5)\n",
    "    plt.colorbar()\n",
    "    plt.gca().set_aspect(\"equal\", adjustable=\"box\")\n",
    "    plt.xlim([230.0, 245.0])\n",
    "    plt.ylim([37.5, 52.5])\n",
    "\n",
    "    plt.suptitle(suptitle_string)\n",
    "    plt.show()\n",
    "\n",
    "\n",
    "def get_synthetic_displacements(mesh, tri_linear_operator):\n",
    "    \"\"\"\n",
    "    Prescribe dip-slip in a Gaussian pattern.\n",
    "    \"\"\"\n",
    "    tri_centroid_to_mesh_lon = mesh.centroids[:, 0] - np.mean(mesh.centroids[:, 0])\n",
    "    tri_centroid_to_mesh_lat = mesh.centroids[:, 1] - np.mean(mesh.centroids[:, 1])\n",
    "\n",
    "    # Hardcoded northern Cascadia example that Jack suggested.\n",
    "    tri_centroid_to_mesh_lon = mesh.centroids[:, 0] - 234.5\n",
    "    tri_centroid_to_mesh_lat = mesh.centroids[:, 1] - 48.5\n",
    "\n",
    "    tri_centroid_to_mesh_centroid_distance = np.sqrt(tri_centroid_to_mesh_lon ** 2 + tri_centroid_to_mesh_lat ** 2)\n",
    "    dip_slip_distribution = np.exp(-(tri_centroid_to_mesh_centroid_distance / 1.0) ** 2.0)\n",
    "    slip_distribution = np.zeros(2 * dip_slip_distribution.size)\n",
    "    slip_distribution[1::2] = dip_slip_distribution # Dip slip only\n",
    "    synthetic_displacements = tri_linear_operator @ slip_distribution\n",
    "    return slip_distribution, synthetic_displacements\n",
    "\n",
    "\n",
    "# Shrink operators.tri_station so that there are no vertical displacments and no tensile slip\n",
    "tde_matrix = copy.deepcopy(operators.tri_station)\n",
    "tde_matrix = np.delete(tde_matrix, np.arange(2, tde_matrix.shape[0], 3), axis=0)\n",
    "tde_matrix = np.delete(tde_matrix, np.arange(2, tde_matrix.shape[1], 3), axis=1)\n",
    "\n",
    "# Generate Guassian slip source and synthetic displacements\n",
    "slip_distribution, synthetic_displacements = get_synthetic_displacements(meshes[0], tde_matrix)\n",
    "\n",
    "# Slip estimation with direct inverse and smoothing matrix\n",
    "smoothing_matrix = 1e5 * meshes[0].smoothing_matrix.toarray()\n",
    "smoothing_matrix = np.delete(smoothing_matrix, np.arange(2, smoothing_matrix.shape[0], 3), axis=0)\n",
    "smoothing_matrix = np.delete(smoothing_matrix, np.arange(2, smoothing_matrix.shape[1], 3), axis=1)\n",
    "smoothing_matrix = meshes[0].smoothing_weight * smoothing_matrix # Weight smoothing matrix\n",
    "tde_and_smoothing_matrix = np.vstack((tde_matrix, smoothing_matrix))\n",
    "\n",
    "\n",
    "print(tde_matrix.shape)\n",
    "print(smoothing_matrix.shape)\n",
    "print(tde_and_smoothing_matrix.shape)\n",
    "\n",
    "# synthetic_displacements_with_smoothing = np.hstack((synthetic_displacements, np.zeros(smoothing_matrix.shape[0]).T))\n",
    "# estimated_slip_distribution = np.linalg.inv(tde_and_smoothing_matrix.T @ tde_and_smoothing_matrix) @ tde_and_smoothing_matrix.T @ synthetic_displacements_with_smoothing\n",
    "# plot_slip_distributions(meshes[0], slip_distribution, estimated_slip_distribution, suptitle_string=\"Direct inverse - with smoothing\")"
   ],
   "outputs": [
    {
     "output_type": "stream",
     "name": "stdout",
     "text": [
      "(3372, 3682)\n",
      "(3682, 3682)\n",
      "(7054, 3682)\n"
     ]
    }
   ],
   "metadata": {}
  },
  {
   "cell_type": "markdown",
   "source": [
    "# Sketching out the assembly of the block model system\n",
    "The list here is in as of right now (09/19/21)...a work in progress\n",
    "\n",
    "## The observation vector:    \n",
    "| What | Symbolically | Variable name |\n",
    "| - | - | - |\n",
    "| GPS velocities | $\\mathbf{v}$ | ```assembly.data.east_vel, assembly.data.north_vel``` |\n",
    "| Slip rate constraints | $\\dot{\\mathbf{s}}$ | ```assembly.slip_rate_constraints``` |\n",
    "| Rotation vector constraints | $\\boldsymbol{\\omega}$ | ```assembly.block_constraints``` |\n",
    "\n",
    "## The state vector:    \n",
    "| What | Symbolically | Variable name |\n",
    "| - | - | - |\n",
    "| Block rotation rates | $\\boldsymbol{\\Omega}$ | ```estimation.block_rotation_vectors``` |\n",
    "| TDE slip | $\\mathbf{t}$ | ```estimation.tri_slip_rates``` |\n",
    "  \n",
    "## Matrix operators:    \n",
    "| What | Symbolically | Variable name |\n",
    "| - | - | - |\n",
    "| Rotation vector to GPS | $\\boldsymbol{\\Omega} \\rightarrow \\mathbf{v}$ | ```operators.block_rotation``` | \n",
    "| Rotation vector to GPS | $\\boldsymbol{\\Omega} \\rightarrow \\mathbf{v}$ | ```operators.global_float_block_rotation``` | \n",
    "| Rotation vector to segment slip rates| $\\boldsymbol{\\Omega} \\rightarrow \\dot{\\mathbf{s}}$ | ```operators.slip_rate_segment_block``` | \n",
    "| Segment slip rates to elastic deformation | $\\dot{\\mathbf{s}} \\rightarrow \\mathbf{v}$ | ```operators.okada_segment_station``` | \n",
    "| TDE slip to GPS | $\\mathbf{t} \\rightarrow \\mathbf{v}$ | ```operators.tri_station``` |\n",
    "| Rotation vector to slip rate constraints| $\\boldsymbol{\\Omega} \\rightarrow \\dot{\\mathbf{s}}$ | ```operators.slip_rate_constraints``` |\n",
    "| Rotation vector to Euler pole contraints | $\\mathbf{I}$ | ```operators.block_motion_contraints``` |\n",
    "\n"
   ],
   "metadata": {}
  },
  {
   "cell_type": "markdown",
   "source": [
    "# Inversion with block motion only and no elastic deformation\n",
    "-  Runs and solution looks reasonable"
   ],
   "metadata": {}
  },
  {
   "cell_type": "code",
   "execution_count": 7,
   "source": [
    "# Rotations only - with JDF a priori and no global float\n",
    "data_vector = np.zeros(2 * assembly.data.n_stations\n",
    "                     + 3 * assembly.data.n_block_constraints)\n",
    "data_vector[0:2 * assembly.data.n_stations] = celeri.interleave2(assembly.data.east_vel, assembly.data.north_vel)\n",
    "\n",
    "# Add block motion costraints to data vector\n",
    "data_vector[2 * assembly.data.n_stations:2 * assembly.data.n_stations + 3 * assembly.data.n_block_constraints] = assembly.data.block_constraints\n",
    "data_vector[2 * assembly.data.n_stations:2 * assembly.data.n_stations + 3 * assembly.data.n_block_constraints] = 0\n",
    "operator = np.zeros((2 * assembly.data.n_stations + 3 * assembly.data.n_block_constraints, 3 * len(block)))\n",
    "operator[0:2 * assembly.data.n_stations, :] = np.delete(operators.block_rotation, np.arange(2, operators.block_rotation.shape[0], 3), axis=0) # Delete up velocity partials\n",
    "operator[2 * assembly.data.n_stations:2 * assembly.data.n_stations + 3 * assembly.data.n_block_constraints, :]  = operators.block_motion_constraints\n",
    "\n",
    "estimation = addict.Dict()\n",
    "state_vector = np.linalg.inv(operator.T @ operator) @ operator.T @ data_vector \n",
    "estimation.predictions = operator @ state_vector\n",
    "vel = estimation.predictions[0:2 * assembly.data.n_stations]\n",
    "estimation.east_vel = vel[0::2]\n",
    "estimation.north_vel = vel[1::2]\n",
    "east_vel_rotation_only = vel[0::2]\n",
    "north_vel_rotation_only = vel[1::2]\n",
    "\n",
    "# Plot observed and estimated velocities\n",
    "lon_min=235\n",
    "lon_max=255\n",
    "lat_min=30\n",
    "lat_max=50\n",
    "quiver_scale=1e2\n",
    "plt.figure()\n",
    "for i in range(len(segment)):\n",
    "    plt.plot([segment.lon1[i], segment.lon2[i]], [segment.lat1[i], segment.lat2[i]], \"-k\", linewidth=0.5)\n",
    "plt.quiver(station.lon, station.lat, station.east_vel, station.north_vel, scale=quiver_scale, scale_units=\"inches\", color=\"g\")\n",
    "plt.quiver(station.lon, station.lat, estimation.east_vel, estimation.north_vel, scale=quiver_scale, scale_units=\"inches\", color=\"r\")\n",
    "plt.xlim([lon_min, lon_max])\n",
    "plt.ylim([lat_min, lat_max])\n",
    "plt.gca().set_aspect(\"equal\", adjustable=\"box\")\n",
    "plt.title(\"observed and estimated velocities - block rotations only\")\n",
    "plt.show()\n",
    "\n",
    "# Calculate mean squared residual velocity\n",
    "east_vel_residual = estimation.east_vel - station.east_vel\n",
    "north_vel_residual = estimation.north_vel - station.north_vel\n",
    "residual = np.concatenate((east_vel_residual, north_vel_residual))\n",
    "print(np.sum(residual**2) / len(station))"
   ],
   "outputs": [
    {
     "output_type": "display_data",
     "data": {
      "application/vnd.jupyter.widget-view+json": {
       "version_major": 2,
       "version_minor": 0,
       "model_id": "dea213e2edab45248c72f7ec7e3a1706"
      },
      "text/plain": [
       "Canvas(toolbar=Toolbar(toolitems=[('Home', 'Reset original view', 'home', 'home'), ('Back', 'Back to previous …"
      ]
     },
     "metadata": {}
    },
    {
     "output_type": "stream",
     "name": "stdout",
     "text": [
      "12.59569094598103\n"
     ]
    }
   ],
   "metadata": {}
  },
  {
   "cell_type": "markdown",
   "source": [
    "# Inversion with block rotations and fully locked rectangular segments\n",
    "- Runs and looks reasonable"
   ],
   "metadata": {}
  },
  {
   "cell_type": "code",
   "execution_count": 8,
   "source": [
    "# Elastic slip deficit contribution to velocities with fully locked fault segments\n",
    "slip_rate_to_okada_to_velocities = copy.deepcopy(operators.okada_segment_station)\n",
    "rotation_to_slip_rate = copy.deepcopy(operators.slip_rate_segment_block)\n",
    "\n",
    "# Delete rows associated with vertical velocities\n",
    "slip_rate_to_okada_to_velocities = np.delete(slip_rate_to_okada_to_velocities, np.arange(2, slip_rate_to_okada_to_velocities.shape[0], 3), axis=0)\n",
    "\n",
    "rotation_to_slip_rate_to_okada_to_velocities = slip_rate_to_okada_to_velocities @ rotation_to_slip_rate\n",
    "operator = np.zeros((2 * assembly.data.n_stations + 3 * assembly.data.n_block_constraints, 3 * len(block)))\n",
    "operator[0:2 * assembly.data.n_stations, :] = np.delete(operators.block_rotation, np.arange(2, operators.block_rotation.shape[0], 3), axis=0) - rotation_to_slip_rate_to_okada_to_velocities # Delete up velocity partials\n",
    "operator[2 * assembly.data.n_stations:2 * assembly.data.n_stations + 3 * assembly.data.n_block_constraints, :] = operators.block_motion_constraints\n",
    "\n",
    "estimation2 = addict.Dict()\n",
    "state_vector2 = np.linalg.inv(operator.T @ operator) @ operator.T @ data_vector \n",
    "estimation2.predictions = operator @ state_vector2\n",
    "vel = estimation2.predictions[0:2 * assembly.data.n_stations]\n",
    "estimation2.east_vel = vel[0::2]\n",
    "estimation2.north_vel = vel[1::2]\n",
    "\n",
    "# Plot observed and estimated velocities\n",
    "lon_min=235\n",
    "lon_max=255\n",
    "lat_min=30\n",
    "lat_max=50\n",
    "quiver_scale=1e2\n",
    "plt.figure()\n",
    "for i in range(len(segment)):\n",
    "    plt.plot([segment.lon1[i], segment.lon2[i]], [segment.lat1[i], segment.lat2[i]], \"-k\", linewidth=0.5)\n",
    "plt.quiver(station.lon, station.lat, station.east_vel, station.north_vel, scale=quiver_scale, scale_units=\"inches\", color=\"g\")\n",
    "plt.quiver(station.lon, station.lat, estimation.east_vel, estimation.north_vel, scale=quiver_scale, scale_units=\"inches\", color=\"r\")\n",
    "plt.xlim([lon_min, lon_max])\n",
    "plt.ylim([lat_min, lat_max])\n",
    "plt.gca().set_aspect(\"equal\", adjustable=\"box\")\n",
    "plt.title(\"observed and estimated velocities - block rotations and elastic segments\")\n",
    "plt.show()\n",
    "\n",
    "# Calculate mean squared residual velocity\n",
    "east_vel_residual = estimation2.east_vel - station.east_vel\n",
    "north_vel_residual = estimation2.north_vel - station.north_vel\n",
    "residual = np.concatenate((east_vel_residual, north_vel_residual))\n",
    "print(np.sum(residual**2) / len(station))\n"
   ],
   "outputs": [
    {
     "output_type": "display_data",
     "data": {
      "application/vnd.jupyter.widget-view+json": {
       "version_major": 2,
       "version_minor": 0,
       "model_id": "ead7668e100c48849555ca27ef8e3c79"
      },
      "text/plain": [
       "Canvas(toolbar=Toolbar(toolitems=[('Home', 'Reset original view', 'home', 'home'), ('Back', 'Back to previous …"
      ]
     },
     "metadata": {}
    },
    {
     "output_type": "stream",
     "name": "stdout",
     "text": [
      "7.396845959994106\n"
     ]
    }
   ],
   "metadata": {}
  },
  {
   "cell_type": "markdown",
   "source": [
    "# Plot elastic velocities only"
   ],
   "metadata": {}
  },
  {
   "cell_type": "code",
   "execution_count": 9,
   "source": [
    "# Calculate elastic velocities\n",
    "elastic_velocities = rotation_to_slip_rate_to_okada_to_velocities @ state_vector\n",
    "\n",
    "# Plot elastic velocities\n",
    "lon_min=235\n",
    "lon_max=255\n",
    "lat_min=30\n",
    "lat_max=50\n",
    "quiver_scale=1e2\n",
    "plt.figure()\n",
    "for i in range(len(segment)):\n",
    "    plt.plot([segment.lon1[i], segment.lon2[i]], [segment.lat1[i], segment.lat2[i]], \"-k\", linewidth=0.5)\n",
    "plt.quiver(station.lon, station.lat, elastic_velocities[0::2], elastic_velocities[1::2], scale=quiver_scale, scale_units=\"inches\", color=\"r\")\n",
    "plt.xlim([lon_min, lon_max])\n",
    "plt.ylim([lat_min, lat_max])\n",
    "plt.gca().set_aspect(\"equal\", adjustable=\"box\")\n",
    "plt.title(\"elastic velocity only -- Looks pretty good!!!\")\n",
    "plt.show()"
   ],
   "outputs": [
    {
     "output_type": "display_data",
     "data": {
      "application/vnd.jupyter.widget-view+json": {
       "version_major": 2,
       "version_minor": 0,
       "model_id": "9ea4d78032e246639117bfe8ef3de4af"
      },
      "text/plain": [
       "Canvas(toolbar=Toolbar(toolitems=[('Home', 'Reset original view', 'home', 'home'), ('Back', 'Back to previous …"
      ]
     },
     "metadata": {}
    }
   ],
   "metadata": {}
  },
  {
   "cell_type": "markdown",
   "source": [
    "# Block model with block rotations, fully locked segments and partially locked subduction zone using the full tde_matrix and smoothing matrix"
   ],
   "metadata": {}
  },
  {
   "cell_type": "code",
   "execution_count": 62,
   "source": [
    "n_tde = int(tde_matrix.shape[1] / 2)\n",
    "n_stations = assembly.data.n_stations\n",
    "n_blocks = len(block)\n",
    "n_block_constraints = assembly.data.n_block_constraints\n",
    "\n",
    "idx = addict.Dict()\n",
    "idx.start_station_row = 0\n",
    "idx.end_station_row = 2 * len(station)\n",
    "idx.start_block_col = 0\n",
    "idx.end_block_col = len(block)\n",
    "idx.start_tde_col = idx.end_block_col\n",
    "idx.end_tde_col = idx.start_tde_col + n_tde\n",
    "\n",
    "\n",
    "\n",
    "data_vector = np.zeros(2 * n_stations\n",
    "                     + 2 * n_tde\n",
    "                     + 3 * n_block_constraints)\n",
    "data_vector[0:2 * n_stations] = celeri.interleave2(assembly.data.east_vel, assembly.data.north_vel)\n",
    "\n",
    "# Add block motion costraints to data vector\n",
    "data_vector[2 * n_stations + 2 * n_tde:2 * n_stations + 2 * n_tde + 3 * n_block_constraints] = assembly.data.block_constraints # Not sure if units are correct\n",
    "\n",
    "# Elastic slip deficit contribution to velocities with fully locked fault segments\n",
    "slip_rate_to_okada_to_velocities = copy.deepcopy(operators.okada_segment_station)\n",
    "rotation_to_slip_rate = copy.deepcopy(operators.slip_rate_segment_block)\n",
    "\n",
    "# Delete rows associated with vertical velocities\n",
    "slip_rate_to_okada_to_velocities = np.delete(slip_rate_to_okada_to_velocities, np.arange(2, slip_rate_to_okada_to_velocities.shape[0], 3), axis=0)\n",
    "rotation_to_slip_rate_to_okada_to_velocities = slip_rate_to_okada_to_velocities @ rotation_to_slip_rate\n",
    "rotation_to_velocities = np.delete(operators.block_rotation, np.arange(2, operators.block_rotation.shape[0], 3), axis=0)\n",
    "\n",
    "# Print sizes of matrices that we'll use to build operator\n",
    "print(\"data_vector :\" + str(data_vector.shape))\n",
    "print(\"operators.block_motion_constraints.shape :\" + str(operators.block_motion_constraints.shape))\n",
    "print(\"rotation_to_velocities.shape :\" + str(rotation_to_velocities.shape))\n",
    "print(\"rotation_to_slip_rate_to_okada_to_velocities.shape :\" + str(rotation_to_slip_rate_to_okada_to_velocities.shape))\n",
    "print(\"tde_matrix.shape: \" + str(tde_matrix.shape))\n",
    "print(\"smoothing_matrix.shape\" + str(smoothing_matrix.shape))\n",
    "print(\"tde_and_smoothing_matrix.shape\" + str(tde_and_smoothing_matrix.shape))\n",
    "print(\"n_tde: \" + str(n_tde))\n",
    "\n",
    "operator = np.zeros((2 * assembly.data.n_stations # start rows\n",
    "                     + 2 * n_tde\n",
    "                     + 3 * assembly.data.n_block_constraints,\n",
    "                     3 * len(block) # start columns\n",
    "                     + 2 * n_tde))\n",
    "print(\"operator.shape: \" + str(operator.shape))\n",
    "print(\"Finished printing\")\n",
    "\n",
    "# Insert block rotation and fully coupled segments\n",
    "operator[0:2 * n_stations, 0:3 * n_blocks] = rotation_to_velocities - rotation_to_slip_rate_to_okada_to_velocities\n",
    "\n",
    "# Insert block motion constraints\n",
    "operator[2 * n_stations + 2 * n_tde:2 * n_stations + 2 * n_tde + 3 * n_block_constraints, 0:3 * n_blocks] = operators.block_motion_constraints\n",
    "\n",
    "# Insert tdes and smoothing matrix\n",
    "print(operator.shape)\n",
    "print(2 * n_stations + 2 * n_tde)\n",
    "print(3 * n_blocks + 2 * n_tde)\n",
    "print(operator[0:2 * n_stations + 2 * n_tde, 3 * n_blocks : 3 * n_blocks + 2 * n_tde].shape)\n",
    "print(tde_and_smoothing_matrix.shape)\n",
    "\n",
    "operator[0:2 * n_stations + 2 * n_tde, 3 * n_blocks : 3 * n_blocks + 2 * n_tde] = tde_and_smoothing_matrix\n",
    "\n",
    "estimation3 = addict.Dict()\n",
    "state_vector3 = np.linalg.inv(operator.T @ operator) @ operator.T @ data_vector \n",
    "estimation3.predictions = operator @ state_vector3\n",
    "vel = estimation3.predictions[0:2 * n_stations]\n",
    "estimation3.east_vel = vel[0::2]\n",
    "estimation3.north_vel = vel[1::2]\n",
    "\n",
    "# Calculate mean squared residual velocity\n",
    "east_vel_residual = estimation3.east_vel - station.east_vel\n",
    "north_vel_residual = estimation3.north_vel - station.north_vel\n",
    "residual = np.concatenate((east_vel_residual, north_vel_residual))\n",
    "print(np.sum(residual**2) / len(station))"
   ],
   "outputs": [
    {
     "output_type": "stream",
     "name": "stdout",
     "text": [
      "data_vector :(7057,)\n",
      "operators.block_motion_constraints.shape :(3, 93)\n",
      "rotation_to_velocities.shape :(3372, 93)\n",
      "rotation_to_slip_rate_to_okada_to_velocities.shape :(3372, 93)\n",
      "tde_matrix.shape: (3372, 3682)\n",
      "smoothing_matrix.shape(3682, 3682)\n",
      "tde_and_smoothing_matrix.shape(7054, 3682)\n",
      "n_tde: 1841\n",
      "operator.shape: (7057, 3775)\n",
      "Finished printing\n",
      "(7057, 3775)\n",
      "7054\n",
      "3775\n",
      "(7054, 3682)\n",
      "(7054, 3682)\n",
      "5.858921617944536\n"
     ]
    }
   ],
   "metadata": {}
  },
  {
   "cell_type": "code",
   "execution_count": 63,
   "source": [
    "# Plot TDE result\n",
    "\n",
    "# Extract TDE slip rates from state vector\n",
    "tde_rates = state_vector3[3 * n_blocks : 3 * n_blocks + 2 * n_tde]\n",
    "print(tde_rates.shape)\n",
    "tde_strike_slip_rates = tde_rates[0::2]\n",
    "tde_dip_slip_rates = tde_rates[1::2]\n",
    "\n",
    "# Plot observed and estimated velocities\n",
    "lon_min=230\n",
    "lon_max=250\n",
    "lat_min=30\n",
    "lat_max=52\n",
    "quiver_scale=1e2\n",
    "plt.figure()\n",
    "for i in range(len(segment)):\n",
    "    plt.plot([segment.lon1[i], segment.lon2[i]], [segment.lat1[i], segment.lat2[i]], \"-k\", linewidth=0.5)\n",
    "\n",
    "plt.scatter(meshes[0].centroids[:, 0], meshes[0].centroids[:, 1], s=5, c=tde_dip_slip_rates, alpha=0.5)\n",
    "plt.colorbar()\n",
    "plt.quiver(station.lon, station.lat, station.east_vel, station.north_vel, scale=quiver_scale, scale_units=\"inches\", color=\"g\")\n",
    "plt.quiver(station.lon, station.lat, estimation3.east_vel, estimation3.north_vel, scale=quiver_scale, scale_units=\"inches\", color=\"r\")\n",
    "plt.xlim([lon_min, lon_max])\n",
    "plt.ylim([lat_min, lat_max])\n",
    "plt.gca().set_aspect(\"equal\", adjustable=\"box\")\n",
    "plt.title(\"observed and estimated velocities: block rotations + elastic segments + TDEs\")\n",
    "plt.show()\n",
    "\n",
    "\n",
    "# plt.title(\"estimated strike-slip\")\n",
    "# plt.scatter(mesh.centroids[:, 0], mesh.centroids[:, 1], s=marker_size, c=slip_distribution_estimated[0::2], alpha=0.5)\n",
    "# plt.colorbar()\n",
    "# plt.gca().set_aspect(\"equal\", adjustable=\"box\")\n",
    "# plt.xlim([230.0, 245.0])\n",
    "# plt.ylim([37.5, 52.5])"
   ],
   "outputs": [
    {
     "output_type": "stream",
     "name": "stdout",
     "text": [
      "(3682,)\n"
     ]
    },
    {
     "output_type": "display_data",
     "data": {
      "application/vnd.jupyter.widget-view+json": {
       "version_major": 2,
       "version_minor": 0,
       "model_id": "70a82fae58c745e48b52287bbbf3790e"
      },
      "text/plain": [
       "Canvas(toolbar=Toolbar(toolitems=[('Home', 'Reset original view', 'home', 'home'), ('Back', 'Back to previous …"
      ]
     },
     "metadata": {}
    }
   ],
   "metadata": {}
  },
  {
   "cell_type": "code",
   "execution_count": 49,
   "source": [
    "# Compare residuals\n",
    "east_vel_residual = estimation.east_vel - station.east_vel\n",
    "north_vel_residual = estimation.north_vel - station.north_vel\n",
    "residual = np.concatenate((east_vel_residual, north_vel_residual))\n",
    "\n",
    "east_vel_residual2 = estimation2.east_vel - station.east_vel\n",
    "north_vel_residual2 = estimation2.north_vel - station.north_vel\n",
    "residual2 = np.concatenate((east_vel_residual2, north_vel_residual2))\n",
    "east_vel_residual3 = estimation3.east_vel - station.east_vel\n",
    "north_vel_residual3 = estimation3.north_vel - station.north_vel\n",
    "residual3 = np.concatenate((east_vel_residual3, north_vel_residual3))\n",
    "\n",
    "print(np.sum(residual**2) / len(station))\n",
    "print(np.sum(residual2**2) / len(station))\n",
    "print(np.sum(residual3**2) / len(station))\n",
    "\n",
    "num_bins = 100\n",
    "plt.figure()\n",
    "n, bins, _ = plt.hist(residual, num_bins, density=False, histtype='step', label=\"block rotations only\")\n",
    "n, bins, _ = plt.hist(residual2, num_bins, density=False, histtype='step', label=\"block rotations + elastic segments\")\n",
    "n, bins, _ = plt.hist(residual3, num_bins, density=False, histtype='step', label=\"block rotations + elastic segments + tdes\")\n",
    "plt.legend(bbox_to_anchor=(0,1.02,1,0.2), loc=\"lower left\", mode=\"expand\", borderaxespad=0, ncol=2)\n",
    "plt.xlabel(\"residual (mm/yr)\")\n",
    "plt.ylabel(\"N\")\n",
    "plt.xlim(-10, 10)\n",
    "plt.show()"
   ],
   "outputs": [
    {
     "output_type": "stream",
     "name": "stdout",
     "text": [
      "12.59569094598103\n",
      "7.396845959994106\n",
      "5.858921617944536\n"
     ]
    },
    {
     "output_type": "display_data",
     "data": {
      "application/vnd.jupyter.widget-view+json": {
       "version_major": 2,
       "version_minor": 0,
       "model_id": "f768a003e3f9440d8eb3ee73af2cc85c"
      },
      "text/plain": [
       "Canvas(toolbar=Toolbar(toolitems=[('Home', 'Reset original view', 'home', 'home'), ('Back', 'Back to previous …"
      ]
     },
     "metadata": {}
    }
   ],
   "metadata": {}
  },
  {
   "cell_type": "code",
   "execution_count": 59,
   "source": [
    "plt.figure()\n",
    "plt.plot(tde_strike_slip_rates, \"r.\")\n",
    "plt.show()"
   ],
   "outputs": [
    {
     "output_type": "display_data",
     "data": {
      "application/vnd.jupyter.widget-view+json": {
       "version_major": 2,
       "version_minor": 0,
       "model_id": "a89abc224cff40a98899c601f8391755"
      },
      "text/plain": [
       "Canvas(toolbar=Toolbar(toolitems=[('Home', 'Reset original view', 'home', 'home'), ('Back', 'Back to previous …"
      ]
     },
     "metadata": {}
    }
   ],
   "metadata": {}
  },
  {
   "cell_type": "code",
   "execution_count": null,
   "source": [],
   "outputs": [],
   "metadata": {}
  }
 ],
 "metadata": {
  "interpreter": {
   "hash": "1c99b817e7692020a25f5bce5fd58f988aabefee874a9cd895a1468d49750c9a"
  },
  "kernelspec": {
   "name": "python3",
   "display_name": "Python 3.9.6 64-bit ('celeri': conda)"
  },
  "language_info": {
   "codemirror_mode": {
    "name": "ipython",
    "version": 3
   },
   "file_extension": ".py",
   "mimetype": "text/x-python",
   "name": "python",
   "nbconvert_exporter": "python",
   "pygments_lexer": "ipython3",
   "version": "3.9.6"
  },
  "widgets": {
   "application/vnd.jupyter.widget-state+json": {
    "state": {
     "4d250c5d35aa493295ca814fb3eaa1ee": {
      "model_module": "@jupyter-widgets/base",
      "model_module_version": "1.2.0",
      "model_name": "LayoutModel",
      "state": {}
     },
     "6faf75ca5f3b41388f284e98ec2cf803": {
      "model_module": "jupyter-matplotlib",
      "model_module_version": "^0.9.0",
      "model_name": "ToolbarModel",
      "state": {
       "layout": "IPY_MODEL_9b061db2dc65459ca586b9b9f73c2362",
       "toolitems": [
        [
         "Home",
         "Reset original view",
         "home",
         "home"
        ],
        [
         "Back",
         "Back to previous view",
         "arrow-left",
         "back"
        ],
        [
         "Forward",
         "Forward to next view",
         "arrow-right",
         "forward"
        ],
        [
         "Pan",
         "Left button pans, Right button zooms\nx/y fixes axis, CTRL fixes aspect",
         "arrows",
         "pan"
        ],
        [
         "Zoom",
         "Zoom to rectangle\nx/y fixes axis, CTRL fixes aspect",
         "square-o",
         "zoom"
        ],
        [
         "Download",
         "Download plot",
         "floppy-o",
         "save_figure"
        ]
       ]
      }
     },
     "9b061db2dc65459ca586b9b9f73c2362": {
      "model_module": "@jupyter-widgets/base",
      "model_module_version": "1.2.0",
      "model_name": "LayoutModel",
      "state": {}
     },
     "c25a38234e8f4e818670d9767f95a430": {
      "model_module": "jupyter-matplotlib",
      "model_module_version": "^0.9.0",
      "model_name": "MPLCanvasModel",
      "state": {
       "_cursor": "default",
       "_figure_label": "Figure 1",
       "_height": 708,
       "_width": 1746,
       "layout": "IPY_MODEL_4d250c5d35aa493295ca814fb3eaa1ee",
       "toolbar": "IPY_MODEL_6faf75ca5f3b41388f284e98ec2cf803",
       "toolbar_position": "left"
      }
     }
    },
    "version_major": 2,
    "version_minor": 0
   }
  }
 },
 "nbformat": 4,
 "nbformat_minor": 4
}