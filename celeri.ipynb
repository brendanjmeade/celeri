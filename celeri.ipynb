{
 "cells": [
  {
   "cell_type": "code",
   "execution_count": 6,
   "source": [
    "#%config InlineBackend.figure_format='retina'"
   ],
   "outputs": [],
   "metadata": {}
  },
  {
   "cell_type": "code",
   "execution_count": 7,
   "source": [
    "%matplotlib widget\n",
    "%config InlineBackend.figure_format = 'svg'"
   ],
   "outputs": [],
   "metadata": {}
  },
  {
   "cell_type": "code",
   "execution_count": 8,
   "source": [
    "import copy\n",
    "import datetime\n",
    "import json\n",
    "import os\n",
    "import scipy.spatial\n",
    "import networkx as nx\n",
    "import numpy as np\n",
    "import pandas as pd\n",
    "import matplotlib.pyplot as plt\n",
    "from importlib import reload\n",
    "\n",
    "import celeri\n",
    "celeri = reload(celeri)"
   ],
   "outputs": [],
   "metadata": {
    "tags": []
   }
  },
  {
   "cell_type": "code",
   "execution_count": 9,
   "source": [
    "RUN_NAME = datetime.datetime.now().strftime(\"%y%m%d%H%M%S\") + os.sep\n",
    "with open('./data/western_north_america/western_north_america_command.json', 'r') as f:\n",
    "    command = json.load(f)\n",
    "station = pd.read_csv(command[\"station_file_name\"])\n",
    "segment = pd.read_csv(command[\"segment_file_name\"])\n",
    "block = pd.read_csv(command[\"block_file_name\"])"
   ],
   "outputs": [],
   "metadata": {
    "tags": []
   }
  },
  {
   "cell_type": "code",
   "execution_count": 10,
   "source": [
    "station = celeri.process_station(station, command)\n",
    "segment = celeri.process_segment(segment, command)"
   ],
   "outputs": [],
   "metadata": {
    "tags": []
   }
  },
  {
   "cell_type": "code",
   "execution_count": 11,
   "source": [
    "np_segments = np.zeros((len(segment), 2, 2))\n",
    "np_segments[:, 0, 0] = segment.lon1.to_numpy()\n",
    "np_segments[:, 1, 0] = segment.lon2.to_numpy()\n",
    "np_segments[:, 0, 1] = segment.lat1.to_numpy()\n",
    "np_segments[:, 1, 1] = segment.lat2.to_numpy()"
   ],
   "outputs": [],
   "metadata": {
    "tags": []
   }
  },
  {
   "cell_type": "code",
   "execution_count": 12,
   "source": [
    "# De-duplicate the vertices and build an ptr_edge array\n",
    "all_vertices = np_segments.reshape((-1, 2))\n",
    "tree = scipy.spatial.KDTree(all_vertices, leafsize=1000)\n",
    "duplicates = tree.query_ball_point(all_vertices, 1e-8)\n",
    "\n",
    "edge_idx_to_vertex_idx = []\n",
    "vertex_idx_to_edge_idx = []\n",
    "dedup_vertices = []\n",
    "original_to_new = dict()\n",
    "for i in range(np_segments.shape[0]):\n",
    "    v1_idx = duplicates[2 * i][0]\n",
    "    v2_idx = duplicates[2 * i + 1][0]\n",
    "    \n",
    "    if v1_idx == 2 * i:\n",
    "        original_to_new[2 * i] = len(dedup_vertices)\n",
    "        dedup_vertices.append(np_segments[i][0])\n",
    "        vertex_idx_to_edge_idx.append([])\n",
    "        \n",
    "    if v2_idx == 2 * i + 1:\n",
    "        original_to_new[2 * i + 1] = len(dedup_vertices)\n",
    "        dedup_vertices.append(np_segments[i][1])\n",
    "        vertex_idx_to_edge_idx.append([])\n",
    "        \n",
    "    edge_idx = len(edge_idx_to_vertex_idx)\n",
    "    edge_idx_to_vertex_idx.append((original_to_new[v1_idx], original_to_new[v2_idx]))\n",
    "    vertex_idx_to_edge_idx[original_to_new[v1_idx]].append(edge_idx)\n",
    "    vertex_idx_to_edge_idx[original_to_new[v2_idx]].append(edge_idx)\n",
    "\n",
    "n_edges = len(edge_idx_to_vertex_idx)\n",
    "n_vertices = len(dedup_vertices)\n",
    "\n",
    "edge_idx_to_vertex_idx = np.array(edge_idx_to_vertex_idx, dtype=int)\n",
    "#reverse_edge_idx_to_vertex_idx = np.fliplr(edge_idx_to_vertex_idx)\n",
    "vertex_idx_to_edge_idx = np.array(vertex_idx_to_edge_idx, dtype=object)\n",
    "dedup_vertices = np.array(dedup_vertices)"
   ],
   "outputs": [],
   "metadata": {}
  },
  {
   "cell_type": "code",
   "execution_count": 13,
   "source": [
    "# Check that the vertices are unique up to 1e-8 now.\n",
    "new_tree = scipy.spatial.KDTree(dedup_vertices)\n",
    "assert(np.all([v[0] == i for i,v in enumerate(new_tree.query_ball_point(dedup_vertices, 1e-8))]))"
   ],
   "outputs": [],
   "metadata": {}
  },
  {
   "cell_type": "code",
   "execution_count": 14,
   "source": [
    "def angle(v1, v2, v3):\n",
    "    \"\"\"\n",
    "    Compute the angle between the vector (v2, v3) and (v1, v2)\n",
    "    The angle is constrained to lie in [-np.pi, np.pi]\n",
    "    No turn will result in an angle of 0. \n",
    "    A left turn will produce a positive angle.\n",
    "    A right turn will produce a negative angle.\n",
    "    \"\"\"\n",
    "    A1 = np.arctan2(v3[1] - v2[1], v3[0] - v2[0])\n",
    "    A2 = np.arctan2(v2[1] - v1[1], v2[0] - v1[0])\n",
    "    \n",
    "    angle = A1 - A2\n",
    "    if angle < -np.pi:\n",
    "        angle += 2 * np.pi\n",
    "    elif angle > np.pi:\n",
    "        angle -= 2 * np.pi\n",
    "    return angle"
   ],
   "outputs": [],
   "metadata": {
    "tags": []
   }
  },
  {
   "cell_type": "code",
   "execution_count": 15,
   "source": [
    "%%time\n",
    "def identify_rightward_half_edge(v1_idx, v2_idx, edge_idx):\n",
    "    v1, v2 = dedup_vertices[[v1_idx, v2_idx]]\n",
    "    \n",
    "    # All the edges connected to v2 except for the edge (v1,v2)\n",
    "    possible_edges = [e_i for e_i in vertex_idx_to_edge_idx[v2_idx] if e_i != edge_idx]\n",
    "\n",
    "    # Identify the angle for each potential edge. \n",
    "    angles = []\n",
    "    edge_direction = []\n",
    "    for e in possible_edges:\n",
    "        possible_vs = edge_idx_to_vertex_idx[e]\n",
    "        direction = 1 if possible_vs[0] == v2_idx else 0\n",
    "        v3 = dedup_vertices[possible_vs[direction]]\n",
    "        angles.append(angle(v1, v2, v3))\n",
    "        edge_direction.append(direction)\n",
    "    \n",
    "    # The right turn will have the smallest angle.\n",
    "    right_idx = np.argmin(angles)\n",
    "    \n",
    "    # Return a half edge index instead of an edge index. \n",
    "    return 2 * possible_edges[right_idx] + edge_direction[right_idx]\n",
    "\n",
    "\"\"\"\n",
    "Introducing... half edges! \n",
    "Now, the edge from v1_idx --> v2_idx will be different from the edge from v2_idx --> v1_idx.\n",
    "half edge idx 2*edge_idx+0 refers to the edge (v2_idx, v1_idx0)\n",
    "half edge idx 2*edge_idx+1 refers to the edge (v1_idx, v2_idx0)\n",
    "Thus every edge corresponds to two oppositely ordered half edges.\n",
    "\n",
    "Then, for each half edge, identify the next half edge that is \"to the right\"\n",
    "in the direction that the half edge points. That is, following the vector\n",
    "from the first vertex to the second vertex along that half edge, which half \n",
    "edge from the connected edges is the one that turns most sharply to the right.\n",
    "\n",
    "From this right_half_edge data structure, it will be straightforward to follow\n",
    "the next rightwards half edge around a polygon and identify each individual \n",
    "polygon. \n",
    "\"\"\"\n",
    "\n",
    "right_half_edge = np.empty(n_edges * 2, dtype=int)\n",
    "for edge_idx in range(n_edges):\n",
    "    v1_idx, v2_idx = edge_idx_to_vertex_idx[edge_idx]\n",
    "    right_half_edge[2 * edge_idx + 0] = identify_rightward_half_edge(v2_idx, v1_idx, edge_idx)\n",
    "    right_half_edge[2 * edge_idx + 1] = identify_rightward_half_edge(v1_idx, v2_idx, edge_idx)"
   ],
   "outputs": [
    {
     "output_type": "stream",
     "name": "stdout",
     "text": [
      "CPU times: user 41.7 ms, sys: 13.7 ms, total: 55.4 ms\n",
      "Wall time: 43.5 ms\n"
     ]
    }
   ],
   "metadata": {
    "tags": []
   }
  },
  {
   "cell_type": "code",
   "execution_count": 16,
   "source": [
    "%%time\n",
    "def get_half_edge_vertices(half_edge_idx):\n",
    "    \"\"\"\n",
    "    A helper function to get the vertex indices corresponding to a half edge.\n",
    "    \"\"\"\n",
    "    v1_idx, v2_idx = edge_idx_to_vertex_idx[half_edge_idx // 2]\n",
    "    if half_edge_idx % 2 == 0:\n",
    "        v2_idx, v1_idx = v1_idx, v2_idx\n",
    "    return v1_idx, v2_idx\n",
    "\n",
    "# Which polygon lies to the right of the half edge.\n",
    "right_polygon = np.full(n_edges * 2, -1, dtype=int)\n",
    "\n",
    "# Lists specifying which half edges lie in each polygon.\n",
    "polygons = []\n",
    "    \n",
    "for half_edge_idx in range(2 * n_edges):\n",
    "    # If this half edge is already in a polygon, skip it.\n",
    "    if right_polygon[half_edge_idx] >= 0:\n",
    "        continue\n",
    "    \n",
    "    # Follow a new polygon around its loop by indexing the right_half_edge array.\n",
    "    polygon_idx = len(polygons)\n",
    "    polygons.append([half_edge_idx])\n",
    "    next_idx = right_half_edge[half_edge_idx]\n",
    "    while next_idx != half_edge_idx:\n",
    "        # Step 1) Check that we don't have errors!\n",
    "        if next_idx in polygons[-1]:\n",
    "            raise Exception(\"Geometry problem: unexpected loop found in polygon traversal.\")\n",
    "        if right_polygon[next_idx] != -1:\n",
    "            raise Exception(\"Geometry problem: write a better error message here\")\n",
    "        \n",
    "        # Step 2) Record the half edge\n",
    "        polygons[-1].append(next_idx)\n",
    "        \n",
    "        # Step 3) \n",
    "        next_idx = right_half_edge[next_idx]\n",
    "        \n",
    "    right_polygon[polygons[-1]] = polygon_idx"
   ],
   "outputs": [
    {
     "output_type": "stream",
     "name": "stdout",
     "text": [
      "CPU times: user 3.52 ms, sys: 65 µs, total: 3.58 ms\n",
      "Wall time: 3.61 ms\n"
     ]
    }
   ],
   "metadata": {}
  },
  {
   "cell_type": "code",
   "execution_count": 17,
   "source": [
    "# Convert the polygons array which lists half edges into a \n",
    "# polygon_vertices array which lists the vertices for each polygon.\n",
    "polygon_vertices = []\n",
    "for p in polygons:\n",
    "    polygon_vertices.append([])\n",
    "    for half_edge_idx in p:\n",
    "        v1_idx, v2_idx = get_half_edge_vertices(half_edge_idx)\n",
    "        polygon_vertices[-1].append(v2_idx)"
   ],
   "outputs": [],
   "metadata": {}
  },
  {
   "cell_type": "code",
   "execution_count": 18,
   "source": [
    "plt.close(\"all\")"
   ],
   "outputs": [],
   "metadata": {}
  },
  {
   "cell_type": "code",
   "execution_count": 24,
   "source": [
    "for p in polygon_vertices:\n",
    "    plt.figure()\n",
    "    vs = np.concatenate([dedup_vertices[p], dedup_vertices[p[0]][None,:]])\n",
    "    plt.plot(vs[:,0], vs[:,1], 'k-o')\n",
    "    plt.show()"
   ],
   "outputs": [
    {
     "output_type": "display_data",
     "data": {
      "text/plain": [
       "Canvas(toolbar=Toolbar(toolitems=[('Home', 'Reset original view', 'home', 'home'), ('Back', 'Back to previous …"
      ],
      "application/vnd.jupyter.widget-view+json": {
       "version_major": 2,
       "version_minor": 0,
       "model_id": "242e9e6ff942475faf1182dc83333b6c"
      }
     },
     "metadata": {}
    },
    {
     "output_type": "display_data",
     "data": {
      "text/plain": [
       "Canvas(toolbar=Toolbar(toolitems=[('Home', 'Reset original view', 'home', 'home'), ('Back', 'Back to previous …"
      ],
      "application/vnd.jupyter.widget-view+json": {
       "version_major": 2,
       "version_minor": 0,
       "model_id": "4b587b8fd5654db093aa0fdbdb78a22e"
      }
     },
     "metadata": {}
    },
    {
     "output_type": "display_data",
     "data": {
      "text/plain": [
       "Canvas(toolbar=Toolbar(toolitems=[('Home', 'Reset original view', 'home', 'home'), ('Back', 'Back to previous …"
      ],
      "application/vnd.jupyter.widget-view+json": {
       "version_major": 2,
       "version_minor": 0,
       "model_id": "20a4b0730c454d009bddb0abca0fb0d9"
      }
     },
     "metadata": {}
    },
    {
     "output_type": "display_data",
     "data": {
      "text/plain": [
       "Canvas(toolbar=Toolbar(toolitems=[('Home', 'Reset original view', 'home', 'home'), ('Back', 'Back to previous …"
      ],
      "application/vnd.jupyter.widget-view+json": {
       "version_major": 2,
       "version_minor": 0,
       "model_id": "9ed5fb5be75a4aada9bcc36d91d6ee7a"
      }
     },
     "metadata": {}
    },
    {
     "output_type": "display_data",
     "data": {
      "text/plain": [
       "Canvas(toolbar=Toolbar(toolitems=[('Home', 'Reset original view', 'home', 'home'), ('Back', 'Back to previous …"
      ],
      "application/vnd.jupyter.widget-view+json": {
       "version_major": 2,
       "version_minor": 0,
       "model_id": "3d045fce56284211aadce9f1df176573"
      }
     },
     "metadata": {}
    },
    {
     "output_type": "display_data",
     "data": {
      "text/plain": [
       "Canvas(toolbar=Toolbar(toolitems=[('Home', 'Reset original view', 'home', 'home'), ('Back', 'Back to previous …"
      ],
      "application/vnd.jupyter.widget-view+json": {
       "version_major": 2,
       "version_minor": 0,
       "model_id": "0d9e4443fc3545acb2b858148c9b6c59"
      }
     },
     "metadata": {}
    },
    {
     "output_type": "display_data",
     "data": {
      "text/plain": [
       "Canvas(toolbar=Toolbar(toolitems=[('Home', 'Reset original view', 'home', 'home'), ('Back', 'Back to previous …"
      ],
      "application/vnd.jupyter.widget-view+json": {
       "version_major": 2,
       "version_minor": 0,
       "model_id": "bcffcde48e9744db9f12b6cd2e793b75"
      }
     },
     "metadata": {}
    },
    {
     "output_type": "display_data",
     "data": {
      "text/plain": [
       "Canvas(toolbar=Toolbar(toolitems=[('Home', 'Reset original view', 'home', 'home'), ('Back', 'Back to previous …"
      ],
      "application/vnd.jupyter.widget-view+json": {
       "version_major": 2,
       "version_minor": 0,
       "model_id": "cb53fbaa93074c6a876e238ddedad3e1"
      }
     },
     "metadata": {}
    },
    {
     "output_type": "display_data",
     "data": {
      "text/plain": [
       "Canvas(toolbar=Toolbar(toolitems=[('Home', 'Reset original view', 'home', 'home'), ('Back', 'Back to previous …"
      ],
      "application/vnd.jupyter.widget-view+json": {
       "version_major": 2,
       "version_minor": 0,
       "model_id": "a111dcaa82c14f0d84ccbab65a5c5f6f"
      }
     },
     "metadata": {}
    },
    {
     "output_type": "display_data",
     "data": {
      "text/plain": [
       "Canvas(toolbar=Toolbar(toolitems=[('Home', 'Reset original view', 'home', 'home'), ('Back', 'Back to previous …"
      ],
      "application/vnd.jupyter.widget-view+json": {
       "version_major": 2,
       "version_minor": 0,
       "model_id": "95b7c8b0bf7a4bae943aac5b7e6e2a45"
      }
     },
     "metadata": {}
    },
    {
     "output_type": "display_data",
     "data": {
      "text/plain": [
       "Canvas(toolbar=Toolbar(toolitems=[('Home', 'Reset original view', 'home', 'home'), ('Back', 'Back to previous …"
      ],
      "application/vnd.jupyter.widget-view+json": {
       "version_major": 2,
       "version_minor": 0,
       "model_id": "8e026ff117454cb6b6a246e671ba4533"
      }
     },
     "metadata": {}
    },
    {
     "output_type": "display_data",
     "data": {
      "text/plain": [
       "Canvas(toolbar=Toolbar(toolitems=[('Home', 'Reset original view', 'home', 'home'), ('Back', 'Back to previous …"
      ],
      "application/vnd.jupyter.widget-view+json": {
       "version_major": 2,
       "version_minor": 0,
       "model_id": "de8664afc49b44da8a6bb7d54feeeec2"
      }
     },
     "metadata": {}
    },
    {
     "output_type": "display_data",
     "data": {
      "text/plain": [
       "Canvas(toolbar=Toolbar(toolitems=[('Home', 'Reset original view', 'home', 'home'), ('Back', 'Back to previous …"
      ],
      "application/vnd.jupyter.widget-view+json": {
       "version_major": 2,
       "version_minor": 0,
       "model_id": "44c003eff9154655b99b5013cb3e75d5"
      }
     },
     "metadata": {}
    },
    {
     "output_type": "display_data",
     "data": {
      "text/plain": [
       "Canvas(toolbar=Toolbar(toolitems=[('Home', 'Reset original view', 'home', 'home'), ('Back', 'Back to previous …"
      ],
      "application/vnd.jupyter.widget-view+json": {
       "version_major": 2,
       "version_minor": 0,
       "model_id": "b8c7ecd9d4e14be195308dffe1cf8b72"
      }
     },
     "metadata": {}
    },
    {
     "output_type": "display_data",
     "data": {
      "text/plain": [
       "Canvas(toolbar=Toolbar(toolitems=[('Home', 'Reset original view', 'home', 'home'), ('Back', 'Back to previous …"
      ],
      "application/vnd.jupyter.widget-view+json": {
       "version_major": 2,
       "version_minor": 0,
       "model_id": "aabd9be123dd4545b7881bcc82a70a60"
      }
     },
     "metadata": {}
    },
    {
     "output_type": "display_data",
     "data": {
      "text/plain": [
       "Canvas(toolbar=Toolbar(toolitems=[('Home', 'Reset original view', 'home', 'home'), ('Back', 'Back to previous …"
      ],
      "application/vnd.jupyter.widget-view+json": {
       "version_major": 2,
       "version_minor": 0,
       "model_id": "455966489a7c4362b4d6220085f1f9f7"
      }
     },
     "metadata": {}
    },
    {
     "output_type": "display_data",
     "data": {
      "text/plain": [
       "Canvas(toolbar=Toolbar(toolitems=[('Home', 'Reset original view', 'home', 'home'), ('Back', 'Back to previous …"
      ],
      "application/vnd.jupyter.widget-view+json": {
       "version_major": 2,
       "version_minor": 0,
       "model_id": "b21295f1022f4b6c80a0358c14dd5b68"
      }
     },
     "metadata": {}
    },
    {
     "output_type": "display_data",
     "data": {
      "text/plain": [
       "Canvas(toolbar=Toolbar(toolitems=[('Home', 'Reset original view', 'home', 'home'), ('Back', 'Back to previous …"
      ],
      "application/vnd.jupyter.widget-view+json": {
       "version_major": 2,
       "version_minor": 0,
       "model_id": "83ff3cef8d86494eb039d369ed1ac22b"
      }
     },
     "metadata": {}
    },
    {
     "output_type": "display_data",
     "data": {
      "text/plain": [
       "Canvas(toolbar=Toolbar(toolitems=[('Home', 'Reset original view', 'home', 'home'), ('Back', 'Back to previous …"
      ],
      "application/vnd.jupyter.widget-view+json": {
       "version_major": 2,
       "version_minor": 0,
       "model_id": "5da727bc773549209651d94752bcb20c"
      }
     },
     "metadata": {}
    },
    {
     "output_type": "display_data",
     "data": {
      "text/plain": [
       "Canvas(toolbar=Toolbar(toolitems=[('Home', 'Reset original view', 'home', 'home'), ('Back', 'Back to previous …"
      ],
      "application/vnd.jupyter.widget-view+json": {
       "version_major": 2,
       "version_minor": 0,
       "model_id": "72347d4d2577470f88932cb704bf66c6"
      }
     },
     "metadata": {}
    },
    {
     "output_type": "display_data",
     "data": {
      "text/plain": [
       "Canvas(toolbar=Toolbar(toolitems=[('Home', 'Reset original view', 'home', 'home'), ('Back', 'Back to previous …"
      ],
      "application/vnd.jupyter.widget-view+json": {
       "version_major": 2,
       "version_minor": 0,
       "model_id": "021daaa69be84022ad2a0bef916fb491"
      }
     },
     "metadata": {}
    },
    {
     "output_type": "display_data",
     "data": {
      "text/plain": [
       "Canvas(toolbar=Toolbar(toolitems=[('Home', 'Reset original view', 'home', 'home'), ('Back', 'Back to previous …"
      ],
      "application/vnd.jupyter.widget-view+json": {
       "version_major": 2,
       "version_minor": 0,
       "model_id": "096fa6a00e27423a8e41fd6b21b0652e"
      }
     },
     "metadata": {}
    },
    {
     "output_type": "display_data",
     "data": {
      "text/plain": [
       "Canvas(toolbar=Toolbar(toolitems=[('Home', 'Reset original view', 'home', 'home'), ('Back', 'Back to previous …"
      ],
      "application/vnd.jupyter.widget-view+json": {
       "version_major": 2,
       "version_minor": 0,
       "model_id": "65ead62f2455499dacd06602cc7ee4d1"
      }
     },
     "metadata": {}
    },
    {
     "output_type": "display_data",
     "data": {
      "text/plain": [
       "Canvas(toolbar=Toolbar(toolitems=[('Home', 'Reset original view', 'home', 'home'), ('Back', 'Back to previous …"
      ],
      "application/vnd.jupyter.widget-view+json": {
       "version_major": 2,
       "version_minor": 0,
       "model_id": "ed2d5a763ce3488493dc1925576e0287"
      }
     },
     "metadata": {}
    },
    {
     "output_type": "display_data",
     "data": {
      "text/plain": [
       "Canvas(toolbar=Toolbar(toolitems=[('Home', 'Reset original view', 'home', 'home'), ('Back', 'Back to previous …"
      ],
      "application/vnd.jupyter.widget-view+json": {
       "version_major": 2,
       "version_minor": 0,
       "model_id": "fa5bae60729d401d950fc1bed7f03d2e"
      }
     },
     "metadata": {}
    },
    {
     "output_type": "display_data",
     "data": {
      "text/plain": [
       "Canvas(toolbar=Toolbar(toolitems=[('Home', 'Reset original view', 'home', 'home'), ('Back', 'Back to previous …"
      ],
      "application/vnd.jupyter.widget-view+json": {
       "version_major": 2,
       "version_minor": 0,
       "model_id": "7b87799006b14e32adc8f602f538af80"
      }
     },
     "metadata": {}
    },
    {
     "output_type": "display_data",
     "data": {
      "text/plain": [
       "Canvas(toolbar=Toolbar(toolitems=[('Home', 'Reset original view', 'home', 'home'), ('Back', 'Back to previous …"
      ],
      "application/vnd.jupyter.widget-view+json": {
       "version_major": 2,
       "version_minor": 0,
       "model_id": "847cd3bb7834445abfa93b78e1ab248b"
      }
     },
     "metadata": {}
    },
    {
     "output_type": "display_data",
     "data": {
      "text/plain": [
       "Canvas(toolbar=Toolbar(toolitems=[('Home', 'Reset original view', 'home', 'home'), ('Back', 'Back to previous …"
      ],
      "application/vnd.jupyter.widget-view+json": {
       "version_major": 2,
       "version_minor": 0,
       "model_id": "868a0d523a1841278af10cef439574e6"
      }
     },
     "metadata": {}
    },
    {
     "output_type": "display_data",
     "data": {
      "text/plain": [
       "Canvas(toolbar=Toolbar(toolitems=[('Home', 'Reset original view', 'home', 'home'), ('Back', 'Back to previous …"
      ],
      "application/vnd.jupyter.widget-view+json": {
       "version_major": 2,
       "version_minor": 0,
       "model_id": "05724abfadda4ffb98f3a3c6053c5a52"
      }
     },
     "metadata": {}
    },
    {
     "output_type": "display_data",
     "data": {
      "text/plain": [
       "Canvas(toolbar=Toolbar(toolitems=[('Home', 'Reset original view', 'home', 'home'), ('Back', 'Back to previous …"
      ],
      "application/vnd.jupyter.widget-view+json": {
       "version_major": 2,
       "version_minor": 0,
       "model_id": "7f33e5705ee9482c88abafe74cfe842f"
      }
     },
     "metadata": {}
    },
    {
     "output_type": "display_data",
     "data": {
      "text/plain": [
       "Canvas(toolbar=Toolbar(toolitems=[('Home', 'Reset original view', 'home', 'home'), ('Back', 'Back to previous …"
      ],
      "application/vnd.jupyter.widget-view+json": {
       "version_major": 2,
       "version_minor": 0,
       "model_id": "413b0c05c6d04048ab19e377d0b38fd4"
      }
     },
     "metadata": {}
    }
   ],
   "metadata": {}
  },
  {
   "cell_type": "code",
   "execution_count": 20,
   "source": [
    "unprocessed_value = -1 # use negative number here so that it never accidentally collides with a real block label\n",
    "segment['east_labels'] = unprocessed_value\n",
    "segment['west_labels'] = unprocessed_value"
   ],
   "outputs": [],
   "metadata": {}
  },
  {
   "cell_type": "code",
   "execution_count": 21,
   "source": [
    "# Identify east and west labels based on the blocks assigned to each half edge.\n",
    "for current_block_label, p in enumerate(polygons):\n",
    "    for half_edge_idx in p:\n",
    "        v1_idx, v2_idx = get_half_edge_vertices(half_edge_idx)\n",
    "        v1 = dedup_vertices[v1_idx]\n",
    "        v2 = dedup_vertices[v2_idx]\n",
    "        edge_vector = v2 - v1\n",
    "        edge_right_normal = [edge_vector[1], -edge_vector[0]]\n",
    "        \n",
    "        # East side because right-hand normal points east\n",
    "        # And west side if not!\n",
    "        # Remember, because we're dealing with half edges, \n",
    "        # we need to do integer division by two to get the normal edge index\n",
    "        # if edge_right_normal[0] > 0:\n",
    "        #     segment['east_labels'].iloc[half_edge_idx // 2] = current_block_label\n",
    "        # else:\n",
    "        #     segment['west_labels'].iloc[half_edge_idx // 2] = current_block_label\n",
    "\n",
    "        if edge_right_normal[0] > 0:\n",
    "            segment['east_labels'].values[half_edge_idx // 2] = current_block_label\n",
    "        else:\n",
    "            segment['west_labels'].values[half_edge_idx // 2] = current_block_label\n",
    "\n",
    "                        "
   ],
   "outputs": [
    {
     "output_type": "stream",
     "name": "stderr",
     "text": [
      "/Users/meade/opt/anaconda3/lib/python3.8/site-packages/pandas/core/indexing.py:1637: SettingWithCopyWarning: \n",
      "A value is trying to be set on a copy of a slice from a DataFrame\n",
      "\n",
      "See the caveats in the documentation: https://pandas.pydata.org/pandas-docs/stable/user_guide/indexing.html#returning-a-view-versus-a-copy\n",
      "  self._setitem_single_block(indexer, value, name)\n"
     ]
    }
   ],
   "metadata": {}
  },
  {
   "cell_type": "code",
   "execution_count": 22,
   "source": [
    "# Check for unprocessed indices\n",
    "np.union1d(np.where(segment['east_labels'] == unprocessed_value),\n",
    "           np.where(segment['west_labels'] == unprocessed_value))"
   ],
   "outputs": [
    {
     "output_type": "execute_result",
     "data": {
      "text/plain": [
       "array([], dtype=int64)"
      ]
     },
     "metadata": {},
     "execution_count": 22
    }
   ],
   "metadata": {}
  },
  {
   "cell_type": "code",
   "execution_count": 25,
   "source": [
    "plt.figure()\n",
    "plt.title(\"West and east labels\")\n",
    "for i in range(len(segment)):\n",
    "    plt.plot([segment.lon1.values[i], segment.lon2.values[i]],\n",
    "             [segment.lat1.values[i], segment.lat2.values[i]],\n",
    "             \"-k\", linewidth=0.5)\n",
    "    plt.text(segment.mid_lon_plate_carree.values[i],\n",
    "             segment.mid_lat_plate_carree.values[i],\n",
    "             str(segment['west_labels'][i]) + \",\" + str(segment['east_labels'][i]),\n",
    "             fontsize=8, color=\"m\", horizontalalignment=\"center\", verticalalignment=\"center\")\n",
    "plt.tight_layout()\n",
    "plt.gca().set_aspect('equal')\n",
    "plt.show()"
   ],
   "outputs": [
    {
     "output_type": "display_data",
     "data": {
      "text/plain": [
       "Canvas(toolbar=Toolbar(toolitems=[('Home', 'Reset original view', 'home', 'home'), ('Back', 'Back to previous …"
      ],
      "application/vnd.jupyter.widget-view+json": {
       "version_major": 2,
       "version_minor": 0,
       "model_id": "9d620ed065b14d3290bc176d29052976"
      }
     },
     "metadata": {}
    }
   ],
   "metadata": {}
  },
  {
   "cell_type": "code",
   "execution_count": null,
   "source": [],
   "outputs": [],
   "metadata": {}
  }
 ],
 "metadata": {
  "interpreter": {
   "hash": "749f0fc94df05971c9b3f3660cf19264b2aeee03fc6d4bf75e86fd251d69cf68"
  },
  "kernelspec": {
   "name": "python3",
   "display_name": "Python 3.8.8 64-bit ('base': conda)"
  },
  "language_info": {
   "codemirror_mode": {
    "name": "ipython",
    "version": 3
   },
   "file_extension": ".py",
   "mimetype": "text/x-python",
   "name": "python",
   "nbconvert_exporter": "python",
   "pygments_lexer": "ipython3",
   "version": "3.8.8"
  },
  "widgets": {
   "application/vnd.jupyter.widget-state+json": {
    "state": {},
    "version_major": 2,
    "version_minor": 0
   }
  }
 },
 "nbformat": 4,
 "nbformat_minor": 4
}