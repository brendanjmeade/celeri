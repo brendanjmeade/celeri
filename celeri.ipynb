{
 "cells": [
  {
   "cell_type": "code",
   "execution_count": 11,
   "source": [
    "%matplotlib widget\n",
    "%config InlineBackend.figure_format = 'svg'"
   ],
   "outputs": [],
   "metadata": {}
  },
  {
   "cell_type": "code",
   "execution_count": 12,
   "source": [
    "import addict\n",
    "import copy\n",
    "import datetime\n",
    "import os\n",
    "import numpy as np\n",
    "import pandas as pd\n",
    "import matplotlib.pyplot as plt\n",
    "from importlib import reload\n",
    "\n",
    "import celeri\n",
    "celeri = reload(celeri)"
   ],
   "outputs": [],
   "metadata": {
    "tags": []
   }
  },
  {
   "cell_type": "code",
   "execution_count": 13,
   "source": [
    "import celeri\n",
    "celeri = reload(celeri)\n",
    "\n",
    "RUN_NAME = datetime.datetime.now().strftime(\"%y%m%d%H%M%S\") + os.sep\n",
    "command_file_name = './data/western_north_america/western_north_america_command.json'\n",
    "# command_file_name = './data/global/global_command.json'\n",
    "command, segment, block, meshes, station, mogi, sar = celeri.read_data(command_file_name)\n",
    "station = celeri.process_station(station, command)\n",
    "segment = celeri.process_segment(segment, command, meshes)\n",
    "sar = celeri.process_sar(sar, command)\n",
    "closure = celeri.assign_block_labels(segment, station, block, mogi, sar)\n",
    "assembly = addict.Dict()\n",
    "operators = addict.Dict()\n",
    "assembly = celeri.merge_geodetic_data(assembly, station, sar)\n",
    "assembly, operators.block_motion_constraints = celeri.block_constraints(assembly, block, command)\n",
    "assembly, operators.slip_rate_constraints = celeri.slip_rate_constraints(assembly, segment, block, command)\n"
   ],
   "outputs": [
    {
     "output_type": "stream",
     "name": "stdout",
     "text": [
      "Isolating slip rate constraints\n",
      "- Dip-slip rate constraint on Nevada02abb: rate = -2.40 (mm/yr), 1-sigma uncertainty = +/-1.20 (mm/yr)\n",
      "- Strike-slip rate constraint on SierraConnectbb: rate = -1.70 (mm/yr), 1-sigma uncertainty = +/-0.80 (mm/yr)\n",
      "- Strike-slip rate constraint on TestSjfa: rate = -17.50 (mm/yr), 1-sigma uncertainty = +/-8.80 (mm/yr)\n",
      "- Strike-slip rate constraint on aaa: rate = -3.50 (mm/yr), 1-sigma uncertainty = +/-1.70 (mm/yr)\n",
      "- Strike-slip rate constraint on asdf: rate = -4.00 (mm/yr), 1-sigma uncertainty = +/-2.00 (mm/yr)\n",
      "- Strike-slip rate constraint on asdf: rate = 2.80 (mm/yr), 1-sigma uncertainty = +/-2.50 (mm/yr)\n",
      "- Strike-slip rate constraint on asdfb: rate = -9.20 (mm/yr), 1-sigma uncertainty = +/-4.60 (mm/yr)\n",
      "- Strike-slip rate constraint on asdfba: rate = -17.00 (mm/yr), 1-sigma uncertainty = +/-8.50 (mm/yr)\n",
      "- Dip-slip rate constraint on asdfbb: rate = -3.00 (mm/yr), 1-sigma uncertainty = +/-1.50 (mm/yr)\n",
      "- Strike-slip rate constraint on cfm_camp_rock_complete_trace_part1_s: rate = -1.40 (mm/yr), 1-sigma uncertainty = +/-0.70 (mm/yr)\n",
      "- Strike-slip rate constraint on cfm_newport_inglewood_rose_conyon_complete_trace_part2_s: rate = -1.50 (mm/yr), 1-sigma uncertainty = +/-0.80 (mm/yr)\n",
      "- Strike-slip rate constraint on cfm_palos_verdes_extruded_trace_part7_s_2: rate = -3.30 (mm/yr), 1-sigma uncertainty = +/-1.60 (mm/yr)\n",
      "- Strike-slip rate constraint on cfm_san_andreas_mojave_extruded_trace_part1_sa: rate = -35.60 (mm/yr), 1-sigma uncertainty = +/-17.80 (mm/yr)\n",
      "- Strike-slip rate constraint on cfm_san_bernardino_valley_san_jacinto_complete_trace_part5_s: rate = -2.50 (mm/yr), 1-sigma uncertainty = +/-1.20 (mm/yr)\n",
      "- Strike-slip rate constraint on cfma_carrizo_extruded_1_trace_part1_sa: rate = -42.50 (mm/yr), 1-sigma uncertainty = +/-21.20 (mm/yr)\n",
      "- Strike-slip rate constraint on cfma_carrizo_extruded_1_trace_part5_saa: rate = -33.90 (mm/yr), 1-sigma uncertainty = +/-16.90 (mm/yr)\n",
      "- Strike-slip rate constraint on cfma_garlock_complete_trace_part11_s: rate = 6.50 (mm/yr), 1-sigma uncertainty = +/-4.50 (mm/yr)\n",
      "- Dip-slip rate constraint on cfma_newport_inglewood_complete_trace_part4_s: rate = 1.20 (mm/yr), 1-sigma uncertainty = +/-0.60 (mm/yr)\n",
      "- Strike-slip rate constraint on cfma_north_san_gabriel_extruded_60_trace_part4_s_2: rate = -2.80 (mm/yr), 1-sigma uncertainty = +/-1.40 (mm/yr)\n",
      "- Strike-slip rate constraint on cfma_pisgah_bullion_mesquite_lake_extruded_90_trace_part3_s: rate = -1.00 (mm/yr), 1-sigma uncertainty = +/-0.50 (mm/yr)\n",
      "- Dip-slip rate constraint on cfma_raymond_complete_trace_part4_sa: rate = 1.50 (mm/yr), 1-sigma uncertainty = +/-0.80 (mm/yr)\n",
      "- Strike-slip rate constraint on cfma_sa_parkfield_extruded_90dip_trace_part1_sabb: rate = -24.80 (mm/yr), 1-sigma uncertainty = +/-12.40 (mm/yr)\n",
      "- Strike-slip rate constraint on cfma_san_andreas_coachella_alt2_complete_trace_part1_s: rate = -15.50 (mm/yr), 1-sigma uncertainty = +/-7.80 (mm/yr)\n",
      "- Strike-slip rate constraint on cfma_san_andreas_san_bernardino_alt2_complete_trace_part7_s: rate = -12.40 (mm/yr), 1-sigma uncertainty = +/-6.20 (mm/yr)\n",
      "- Dip-slip rate constraint on cfma_santa_susana_complete_trace_part4_s: rate = 6.00 (mm/yr), 1-sigma uncertainty = +/-3.90 (mm/yr)\n",
      "- Strike-slip rate constraint on cfma_white_wolf_long_complete_trace_part6_s: rate = 4.00 (mm/yr), 1-sigma uncertainty = +/-4.40 (mm/yr)\n",
      "- Dip-slip rate constraint on cfma_white_wolf_long_complete_trace_part6_s: rate = 2.30 (mm/yr), 1-sigma uncertainty = +/-4.40 (mm/yr)\n",
      "- Strike-slip rate constraint on conn: rate = -1.40 (mm/yr), 1-sigma uncertainty = +/-0.70 (mm/yr)\n",
      "- Dip-slip rate constraint on deepspringsvalley1b: rate = -1.00 (mm/yr), 1-sigma uncertainty = +/-0.80 (mm/yr)\n",
      "- Strike-slip rate constraint on dmga: rate = -8.40 (mm/yr), 1-sigma uncertainty = +/-4.20 (mm/yr)\n",
      "- Strike-slip rate constraint on dmgab: rate = -24.00 (mm/yr), 1-sigma uncertainty = +/-12.00 (mm/yr)\n",
      "- Strike-slip rate constraint on dmgbb: rate = -23.00 (mm/yr), 1-sigma uncertainty = +/-11.50 (mm/yr)\n",
      "- Strike-slip rate constraint on rrr: rate = -1.80 (mm/yr), 1-sigma uncertainty = +/-0.90 (mm/yr)\n",
      "- Dip-slip rate constraint on tahoeaabaa: rate = -0.80 (mm/yr), 1-sigma uncertainty = +/-0.50 (mm/yr)\n"
     ]
    }
   ],
   "metadata": {
    "tags": []
   }
  },
  {
   "cell_type": "code",
   "execution_count": 15,
   "source": [
    "# celeri.plot_block_labels(segment, block, station)"
   ],
   "outputs": [
    {
     "output_type": "display_data",
     "data": {
      "text/plain": [
       "Canvas(toolbar=Toolbar(toolitems=[('Home', 'Reset original view', 'home', 'home'), ('Back', 'Back to previous …"
      ],
      "application/vnd.jupyter.widget-view+json": {
       "version_major": 2,
       "version_minor": 0,
       "model_id": "2709ae8b014b45cbaeab0e8da6196465"
      }
     },
     "metadata": {}
    },
    {
     "output_type": "error",
     "ename": "KeyboardInterrupt",
     "evalue": "",
     "traceback": [
      "\u001b[0;31m---------------------------------------------------------------------------\u001b[0m",
      "\u001b[0;31mKeyboardInterrupt\u001b[0m                         Traceback (most recent call last)",
      "\u001b[0;32m<ipython-input-15-e546f4afa02d>\u001b[0m in \u001b[0;36m<module>\u001b[0;34m\u001b[0m\n\u001b[0;32m----> 1\u001b[0;31m \u001b[0mceleri\u001b[0m\u001b[0;34m.\u001b[0m\u001b[0mplot_block_labels\u001b[0m\u001b[0;34m(\u001b[0m\u001b[0msegment\u001b[0m\u001b[0;34m,\u001b[0m \u001b[0mblock\u001b[0m\u001b[0;34m,\u001b[0m \u001b[0mstation\u001b[0m\u001b[0;34m)\u001b[0m\u001b[0;34m\u001b[0m\u001b[0;34m\u001b[0m\u001b[0m\n\u001b[0m",
      "\u001b[0;32m~/Desktop/celeri/celeri.py\u001b[0m in \u001b[0;36mplot_block_labels\u001b[0;34m(segment, block, station)\u001b[0m\n\u001b[1;32m   1069\u001b[0m     \u001b[0;32mfor\u001b[0m \u001b[0mi\u001b[0m \u001b[0;32min\u001b[0m \u001b[0mrange\u001b[0m\u001b[0;34m(\u001b[0m\u001b[0mlen\u001b[0m\u001b[0;34m(\u001b[0m\u001b[0mstation\u001b[0m\u001b[0;34m)\u001b[0m\u001b[0;34m)\u001b[0m\u001b[0;34m:\u001b[0m\u001b[0;34m\u001b[0m\u001b[0;34m\u001b[0m\u001b[0m\n\u001b[1;32m   1070\u001b[0m \u001b[0;34m\u001b[0m\u001b[0m\n\u001b[0;32m-> 1071\u001b[0;31m         plt.text(\n\u001b[0m\u001b[1;32m   1072\u001b[0m             \u001b[0mstation\u001b[0m\u001b[0;34m.\u001b[0m\u001b[0mlon\u001b[0m\u001b[0;34m.\u001b[0m\u001b[0mvalues\u001b[0m\u001b[0;34m[\u001b[0m\u001b[0mi\u001b[0m\u001b[0;34m]\u001b[0m\u001b[0;34m,\u001b[0m\u001b[0;34m\u001b[0m\u001b[0;34m\u001b[0m\u001b[0m\n\u001b[1;32m   1073\u001b[0m             \u001b[0mstation\u001b[0m\u001b[0;34m.\u001b[0m\u001b[0mlat\u001b[0m\u001b[0;34m.\u001b[0m\u001b[0mvalues\u001b[0m\u001b[0;34m[\u001b[0m\u001b[0mi\u001b[0m\u001b[0;34m]\u001b[0m\u001b[0;34m,\u001b[0m\u001b[0;34m\u001b[0m\u001b[0;34m\u001b[0m\u001b[0m\n",
      "\u001b[0;32m~/opt/anaconda3/lib/python3.8/site-packages/matplotlib/pyplot.py\u001b[0m in \u001b[0;36mtext\u001b[0;34m(x, y, s, fontdict, **kwargs)\u001b[0m\n\u001b[1;32m   3007\u001b[0m \u001b[0;34m@\u001b[0m\u001b[0m_copy_docstring_and_deprecators\u001b[0m\u001b[0;34m(\u001b[0m\u001b[0mAxes\u001b[0m\u001b[0;34m.\u001b[0m\u001b[0mtext\u001b[0m\u001b[0;34m)\u001b[0m\u001b[0;34m\u001b[0m\u001b[0;34m\u001b[0m\u001b[0m\n\u001b[1;32m   3008\u001b[0m \u001b[0;32mdef\u001b[0m \u001b[0mtext\u001b[0m\u001b[0;34m(\u001b[0m\u001b[0mx\u001b[0m\u001b[0;34m,\u001b[0m \u001b[0my\u001b[0m\u001b[0;34m,\u001b[0m \u001b[0ms\u001b[0m\u001b[0;34m,\u001b[0m \u001b[0mfontdict\u001b[0m\u001b[0;34m=\u001b[0m\u001b[0;32mNone\u001b[0m\u001b[0;34m,\u001b[0m \u001b[0;34m**\u001b[0m\u001b[0mkwargs\u001b[0m\u001b[0;34m)\u001b[0m\u001b[0;34m:\u001b[0m\u001b[0;34m\u001b[0m\u001b[0;34m\u001b[0m\u001b[0m\n\u001b[0;32m-> 3009\u001b[0;31m     \u001b[0;32mreturn\u001b[0m \u001b[0mgca\u001b[0m\u001b[0;34m(\u001b[0m\u001b[0;34m)\u001b[0m\u001b[0;34m.\u001b[0m\u001b[0mtext\u001b[0m\u001b[0;34m(\u001b[0m\u001b[0mx\u001b[0m\u001b[0;34m,\u001b[0m \u001b[0my\u001b[0m\u001b[0;34m,\u001b[0m \u001b[0ms\u001b[0m\u001b[0;34m,\u001b[0m \u001b[0mfontdict\u001b[0m\u001b[0;34m=\u001b[0m\u001b[0mfontdict\u001b[0m\u001b[0;34m,\u001b[0m \u001b[0;34m**\u001b[0m\u001b[0mkwargs\u001b[0m\u001b[0;34m)\u001b[0m\u001b[0;34m\u001b[0m\u001b[0;34m\u001b[0m\u001b[0m\n\u001b[0m\u001b[1;32m   3010\u001b[0m \u001b[0;34m\u001b[0m\u001b[0m\n\u001b[1;32m   3011\u001b[0m \u001b[0;34m\u001b[0m\u001b[0m\n",
      "\u001b[0;32m~/opt/anaconda3/lib/python3.8/site-packages/matplotlib/axes/_axes.py\u001b[0m in \u001b[0;36mtext\u001b[0;34m(self, x, y, s, fontdict, **kwargs)\u001b[0m\n\u001b[1;32m    763\u001b[0m             \u001b[0;34m**\u001b[0m\u001b[0mkwargs\u001b[0m\u001b[0;34m,\u001b[0m\u001b[0;34m\u001b[0m\u001b[0;34m\u001b[0m\u001b[0m\n\u001b[1;32m    764\u001b[0m         }\n\u001b[0;32m--> 765\u001b[0;31m         \u001b[0mt\u001b[0m \u001b[0;34m=\u001b[0m \u001b[0mmtext\u001b[0m\u001b[0;34m.\u001b[0m\u001b[0mText\u001b[0m\u001b[0;34m(\u001b[0m\u001b[0mx\u001b[0m\u001b[0;34m,\u001b[0m \u001b[0my\u001b[0m\u001b[0;34m,\u001b[0m \u001b[0mtext\u001b[0m\u001b[0;34m=\u001b[0m\u001b[0ms\u001b[0m\u001b[0;34m,\u001b[0m \u001b[0;34m**\u001b[0m\u001b[0meffective_kwargs\u001b[0m\u001b[0;34m)\u001b[0m\u001b[0;34m\u001b[0m\u001b[0;34m\u001b[0m\u001b[0m\n\u001b[0m\u001b[1;32m    766\u001b[0m         \u001b[0mt\u001b[0m\u001b[0;34m.\u001b[0m\u001b[0mset_clip_path\u001b[0m\u001b[0;34m(\u001b[0m\u001b[0mself\u001b[0m\u001b[0;34m.\u001b[0m\u001b[0mpatch\u001b[0m\u001b[0;34m)\u001b[0m\u001b[0;34m\u001b[0m\u001b[0;34m\u001b[0m\u001b[0m\n\u001b[1;32m    767\u001b[0m         \u001b[0mself\u001b[0m\u001b[0;34m.\u001b[0m\u001b[0m_add_text\u001b[0m\u001b[0;34m(\u001b[0m\u001b[0mt\u001b[0m\u001b[0;34m)\u001b[0m\u001b[0;34m\u001b[0m\u001b[0;34m\u001b[0m\u001b[0m\n",
      "\u001b[0;32m~/opt/anaconda3/lib/python3.8/site-packages/matplotlib/text.py\u001b[0m in \u001b[0;36m__init__\u001b[0;34m(self, x, y, text, color, verticalalignment, horizontalalignment, multialignment, fontproperties, rotation, linespacing, rotation_mode, usetex, wrap, **kwargs)\u001b[0m\n\u001b[1;32m    146\u001b[0m         \u001b[0;34m%\u001b[0m\u001b[0;34m(\u001b[0m\u001b[0mText\u001b[0m\u001b[0;34m)\u001b[0m\u001b[0ms\u001b[0m\u001b[0;34m\u001b[0m\u001b[0;34m\u001b[0m\u001b[0m\n\u001b[1;32m    147\u001b[0m         \"\"\"\n\u001b[0;32m--> 148\u001b[0;31m         \u001b[0mArtist\u001b[0m\u001b[0;34m.\u001b[0m\u001b[0m__init__\u001b[0m\u001b[0;34m(\u001b[0m\u001b[0mself\u001b[0m\u001b[0;34m)\u001b[0m\u001b[0;34m\u001b[0m\u001b[0;34m\u001b[0m\u001b[0m\n\u001b[0m\u001b[1;32m    149\u001b[0m         \u001b[0mself\u001b[0m\u001b[0;34m.\u001b[0m\u001b[0m_x\u001b[0m\u001b[0;34m,\u001b[0m \u001b[0mself\u001b[0m\u001b[0;34m.\u001b[0m\u001b[0m_y\u001b[0m \u001b[0;34m=\u001b[0m \u001b[0mx\u001b[0m\u001b[0;34m,\u001b[0m \u001b[0my\u001b[0m\u001b[0;34m\u001b[0m\u001b[0;34m\u001b[0m\u001b[0m\n\u001b[1;32m    150\u001b[0m         \u001b[0mself\u001b[0m\u001b[0;34m.\u001b[0m\u001b[0m_text\u001b[0m \u001b[0;34m=\u001b[0m \u001b[0;34m''\u001b[0m\u001b[0;34m\u001b[0m\u001b[0;34m\u001b[0m\u001b[0m\n",
      "\u001b[0;32m~/opt/anaconda3/lib/python3.8/site-packages/matplotlib/artist.py\u001b[0m in \u001b[0;36m__init__\u001b[0;34m(self)\u001b[0m\n\u001b[1;32m    103\u001b[0m         \u001b[0mself\u001b[0m\u001b[0;34m.\u001b[0m\u001b[0m_sketch\u001b[0m \u001b[0;34m=\u001b[0m \u001b[0mmpl\u001b[0m\u001b[0;34m.\u001b[0m\u001b[0mrcParams\u001b[0m\u001b[0;34m[\u001b[0m\u001b[0;34m'path.sketch'\u001b[0m\u001b[0;34m]\u001b[0m\u001b[0;34m\u001b[0m\u001b[0;34m\u001b[0m\u001b[0m\n\u001b[1;32m    104\u001b[0m         \u001b[0mself\u001b[0m\u001b[0;34m.\u001b[0m\u001b[0m_path_effects\u001b[0m \u001b[0;34m=\u001b[0m \u001b[0mmpl\u001b[0m\u001b[0;34m.\u001b[0m\u001b[0mrcParams\u001b[0m\u001b[0;34m[\u001b[0m\u001b[0;34m'path.effects'\u001b[0m\u001b[0;34m]\u001b[0m\u001b[0;34m\u001b[0m\u001b[0;34m\u001b[0m\u001b[0m\n\u001b[0;32m--> 105\u001b[0;31m         \u001b[0mself\u001b[0m\u001b[0;34m.\u001b[0m\u001b[0m_sticky_edges\u001b[0m \u001b[0;34m=\u001b[0m \u001b[0m_XYPair\u001b[0m\u001b[0;34m(\u001b[0m\u001b[0;34m[\u001b[0m\u001b[0;34m]\u001b[0m\u001b[0;34m,\u001b[0m \u001b[0;34m[\u001b[0m\u001b[0;34m]\u001b[0m\u001b[0;34m)\u001b[0m\u001b[0;34m\u001b[0m\u001b[0;34m\u001b[0m\u001b[0m\n\u001b[0m\u001b[1;32m    106\u001b[0m         \u001b[0mself\u001b[0m\u001b[0;34m.\u001b[0m\u001b[0m_in_layout\u001b[0m \u001b[0;34m=\u001b[0m \u001b[0;32mTrue\u001b[0m\u001b[0;34m\u001b[0m\u001b[0;34m\u001b[0m\u001b[0m\n\u001b[1;32m    107\u001b[0m \u001b[0;34m\u001b[0m\u001b[0m\n",
      "\u001b[0;32m<string>\u001b[0m in \u001b[0;36m__new__\u001b[0;34m(_cls, x, y)\u001b[0m\n",
      "\u001b[0;31mKeyboardInterrupt\u001b[0m: "
     ]
    }
   ],
   "metadata": {}
  },
  {
   "cell_type": "code",
   "execution_count": null,
   "source": [],
   "outputs": [],
   "metadata": {}
  }
 ],
 "metadata": {
  "interpreter": {
   "hash": "749f0fc94df05971c9b3f3660cf19264b2aeee03fc6d4bf75e86fd251d69cf68"
  },
  "kernelspec": {
   "name": "python3",
   "display_name": "Python 3.8.8 64-bit ('base': conda)"
  },
  "language_info": {
   "codemirror_mode": {
    "name": "ipython",
    "version": 3
   },
   "file_extension": ".py",
   "mimetype": "text/x-python",
   "name": "python",
   "nbconvert_exporter": "python",
   "pygments_lexer": "ipython3",
   "version": "3.8.8"
  },
  "widgets": {
   "application/vnd.jupyter.widget-state+json": {
    "state": {},
    "version_major": 2,
    "version_minor": 0
   }
  }
 },
 "nbformat": 4,
 "nbformat_minor": 4
}