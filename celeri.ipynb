{
 "cells": [
  {
   "cell_type": "code",
   "execution_count": 39,
   "source": [
    "%matplotlib widget\n",
    "%config InlineBackend.figure_format = 'svg'"
   ],
   "outputs": [],
   "metadata": {
    "execution": {
     "iopub.execute_input": "2021-08-22T18:29:50.539195Z",
     "iopub.status.busy": "2021-08-22T18:29:50.538938Z",
     "iopub.status.idle": "2021-08-22T18:29:50.550334Z",
     "shell.execute_reply": "2021-08-22T18:29:50.549700Z",
     "shell.execute_reply.started": "2021-08-22T18:29:50.539169Z"
    },
    "tags": []
   }
  },
  {
   "cell_type": "code",
   "execution_count": 40,
   "source": [
    "import addict\n",
    "import datetime\n",
    "import os\n",
    "import pyproj\n",
    "import numpy as np\n",
    "import pandas as pd\n",
    "import matplotlib.pyplot as plt\n",
    "from importlib import reload\n",
    "from okada_wrapper import dc3dwrapper\n",
    "\n",
    "# Plotting the global model is much much faster with tex fonts turned off\n",
    "plt.rcParams['text.usetex'] = False"
   ],
   "outputs": [],
   "metadata": {
    "execution": {
     "iopub.execute_input": "2021-08-22T18:29:51.661926Z",
     "iopub.status.busy": "2021-08-22T18:29:51.661659Z",
     "iopub.status.idle": "2021-08-22T18:29:51.956035Z",
     "shell.execute_reply": "2021-08-22T18:29:51.955292Z",
     "shell.execute_reply.started": "2021-08-22T18:29:51.661900Z"
    },
    "tags": []
   }
  },
  {
   "cell_type": "code",
   "execution_count": 41,
   "source": [
    "import celeri\n",
    "celeri = reload(celeri)"
   ],
   "outputs": [],
   "metadata": {
    "execution": {
     "iopub.execute_input": "2021-08-22T18:29:52.614271Z",
     "iopub.status.busy": "2021-08-22T18:29:52.614009Z",
     "iopub.status.idle": "2021-08-22T18:29:52.905586Z",
     "shell.execute_reply": "2021-08-22T18:29:52.905027Z",
     "shell.execute_reply.started": "2021-08-22T18:29:52.614243Z"
    },
    "tags": []
   }
  },
  {
   "cell_type": "code",
   "execution_count": 42,
   "source": [
    "RUN_NAME = datetime.datetime.now().strftime(\"%y%m%d%H%M%S\") + os.sep\n",
    "command_file_name = './data/western_north_america/western_north_america_command.json'\n",
    "# command_file_name = './data/global/global_command.json'\n",
    "command, segment, block, meshes, station, mogi, sar = celeri.read_data(command_file_name)\n",
    "station = celeri.process_station(station, command)\n",
    "segment = celeri.process_segment(segment, command, meshes)\n",
    "sar = celeri.process_sar(sar, command)\n",
    "closure = celeri.assign_block_labels(segment, station, block, mogi, sar)\n",
    "# celeri.plot_block_labels(segment, block, station, closure)"
   ],
   "outputs": [],
   "metadata": {
    "execution": {
     "iopub.execute_input": "2021-08-22T18:29:53.570589Z",
     "iopub.status.busy": "2021-08-22T18:29:53.570331Z",
     "iopub.status.idle": "2021-08-22T18:30:09.817977Z",
     "shell.execute_reply": "2021-08-22T18:30:09.817443Z",
     "shell.execute_reply.started": "2021-08-22T18:29:53.570561Z"
    },
    "tags": []
   }
  },
  {
   "cell_type": "code",
   "execution_count": 43,
   "source": [
    "assembly = addict.Dict()\n",
    "operators = addict.Dict()\n",
    "assembly = celeri.merge_geodetic_data(assembly, station, sar)\n",
    "assembly, operators.block_motion_constraints = celeri.block_constraints(assembly, block, command)\n",
    "assembly, operators.slip_rate_constraints = celeri.slip_rate_constraints(assembly, segment, block, command)"
   ],
   "outputs": [
    {
     "output_type": "stream",
     "name": "stdout",
     "text": [
      "Isolating slip rate constraints\n",
      "- Dip-slip rate constraint on Nevada02abb: rate = -2.40 (mm/yr), 1-sigma uncertainty = +/-1.20 (mm/yr)\n",
      "- Strike-slip rate constraint on SierraConnectbb: rate = -1.70 (mm/yr), 1-sigma uncertainty = +/-0.80 (mm/yr)\n",
      "- Strike-slip rate constraint on TestSjfa: rate = -17.50 (mm/yr), 1-sigma uncertainty = +/-8.80 (mm/yr)\n",
      "- Strike-slip rate constraint on aaa: rate = -3.50 (mm/yr), 1-sigma uncertainty = +/-1.70 (mm/yr)\n",
      "- Strike-slip rate constraint on asdf: rate = -4.00 (mm/yr), 1-sigma uncertainty = +/-2.00 (mm/yr)\n",
      "- Strike-slip rate constraint on asdf: rate = 2.80 (mm/yr), 1-sigma uncertainty = +/-2.50 (mm/yr)\n",
      "- Strike-slip rate constraint on asdfb: rate = -9.20 (mm/yr), 1-sigma uncertainty = +/-4.60 (mm/yr)\n",
      "- Strike-slip rate constraint on asdfba: rate = -17.00 (mm/yr), 1-sigma uncertainty = +/-8.50 (mm/yr)\n",
      "- Dip-slip rate constraint on asdfbb: rate = -3.00 (mm/yr), 1-sigma uncertainty = +/-1.50 (mm/yr)\n",
      "- Strike-slip rate constraint on cfm_camp_rock_complete_trace_part1_s: rate = -1.40 (mm/yr), 1-sigma uncertainty = +/-0.70 (mm/yr)\n",
      "- Strike-slip rate constraint on cfm_newport_inglewood_rose_conyon_complete_trace_part2_s: rate = -1.50 (mm/yr), 1-sigma uncertainty = +/-0.80 (mm/yr)\n",
      "- Strike-slip rate constraint on cfm_palos_verdes_extruded_trace_part7_s_2: rate = -3.30 (mm/yr), 1-sigma uncertainty = +/-1.60 (mm/yr)\n",
      "- Strike-slip rate constraint on cfm_san_andreas_mojave_extruded_trace_part1_sa: rate = -35.60 (mm/yr), 1-sigma uncertainty = +/-17.80 (mm/yr)\n",
      "- Strike-slip rate constraint on cfm_san_bernardino_valley_san_jacinto_complete_trace_part5_s: rate = -2.50 (mm/yr), 1-sigma uncertainty = +/-1.20 (mm/yr)\n",
      "- Strike-slip rate constraint on cfma_carrizo_extruded_1_trace_part1_sa: rate = -42.50 (mm/yr), 1-sigma uncertainty = +/-21.20 (mm/yr)\n",
      "- Strike-slip rate constraint on cfma_carrizo_extruded_1_trace_part5_saa: rate = -33.90 (mm/yr), 1-sigma uncertainty = +/-16.90 (mm/yr)\n",
      "- Strike-slip rate constraint on cfma_garlock_complete_trace_part11_s: rate = 6.50 (mm/yr), 1-sigma uncertainty = +/-4.50 (mm/yr)\n",
      "- Dip-slip rate constraint on cfma_newport_inglewood_complete_trace_part4_s: rate = 1.20 (mm/yr), 1-sigma uncertainty = +/-0.60 (mm/yr)\n",
      "- Strike-slip rate constraint on cfma_north_san_gabriel_extruded_60_trace_part4_s_2: rate = -2.80 (mm/yr), 1-sigma uncertainty = +/-1.40 (mm/yr)\n",
      "- Strike-slip rate constraint on cfma_pisgah_bullion_mesquite_lake_extruded_90_trace_part3_s: rate = -1.00 (mm/yr), 1-sigma uncertainty = +/-0.50 (mm/yr)\n",
      "- Dip-slip rate constraint on cfma_raymond_complete_trace_part4_sa: rate = 1.50 (mm/yr), 1-sigma uncertainty = +/-0.80 (mm/yr)\n",
      "- Strike-slip rate constraint on cfma_sa_parkfield_extruded_90dip_trace_part1_sabb: rate = -24.80 (mm/yr), 1-sigma uncertainty = +/-12.40 (mm/yr)\n",
      "- Strike-slip rate constraint on cfma_san_andreas_coachella_alt2_complete_trace_part1_s: rate = -15.50 (mm/yr), 1-sigma uncertainty = +/-7.80 (mm/yr)\n",
      "- Strike-slip rate constraint on cfma_san_andreas_san_bernardino_alt2_complete_trace_part7_s: rate = -12.40 (mm/yr), 1-sigma uncertainty = +/-6.20 (mm/yr)\n",
      "- Dip-slip rate constraint on cfma_santa_susana_complete_trace_part4_s: rate = 6.00 (mm/yr), 1-sigma uncertainty = +/-3.90 (mm/yr)\n",
      "- Strike-slip rate constraint on cfma_white_wolf_long_complete_trace_part6_s: rate = 4.00 (mm/yr), 1-sigma uncertainty = +/-4.40 (mm/yr)\n",
      "- Dip-slip rate constraint on cfma_white_wolf_long_complete_trace_part6_s: rate = 2.30 (mm/yr), 1-sigma uncertainty = +/-4.40 (mm/yr)\n",
      "- Strike-slip rate constraint on conn: rate = -1.40 (mm/yr), 1-sigma uncertainty = +/-0.70 (mm/yr)\n",
      "- Dip-slip rate constraint on deepspringsvalley1b: rate = -1.00 (mm/yr), 1-sigma uncertainty = +/-0.80 (mm/yr)\n",
      "- Strike-slip rate constraint on dmga: rate = -8.40 (mm/yr), 1-sigma uncertainty = +/-4.20 (mm/yr)\n",
      "- Strike-slip rate constraint on dmgab: rate = -24.00 (mm/yr), 1-sigma uncertainty = +/-12.00 (mm/yr)\n",
      "- Strike-slip rate constraint on dmgbb: rate = -23.00 (mm/yr), 1-sigma uncertainty = +/-11.50 (mm/yr)\n",
      "- Strike-slip rate constraint on rrr: rate = -1.80 (mm/yr), 1-sigma uncertainty = +/-0.90 (mm/yr)\n",
      "- Dip-slip rate constraint on tahoeaabaa: rate = -0.80 (mm/yr), 1-sigma uncertainty = +/-0.50 (mm/yr)\n"
     ]
    }
   ],
   "metadata": {
    "tags": []
   }
  },
  {
   "cell_type": "code",
   "execution_count": 44,
   "source": [
    "def fault_parameters_to_okada_format(sx1, sy1, sx2, sy2, dip, D, bd):\n",
    "    \"\"\"\n",
    "    This function takes fault trace, dip, and locking depth information\n",
    "    and calculates the anchor coordinates, length, width and strike of\n",
    "    the fault plane following (1985).\n",
    "\n",
    "    Arguments:\n",
    "        sx1 : x coord of fault trace endpoint 1\n",
    "        sy1 : y coord of fault trace endpoint 1\n",
    "        sx2 : x coord of fault trace endpoint 2\n",
    "        sy2 : y coord of fault trace endpoint 2\n",
    "        dip : dip of fault plane (degrees)\n",
    "        D : fault locking depth\n",
    "        bd : burial depth (top \"locking depth\")\n",
    "\n",
    "    Returned variables:\n",
    "        strike : stike of fault plane\n",
    "        L : fault length\n",
    "        W : fault width\n",
    "        ofx : x coord of fault anchor\n",
    "        ofy : y coord of fault anchor\n",
    "        ofxe : x coord of other buried corner\n",
    "        ofye : y coord of other buried corner\n",
    "        tfx : x coord of fault anchor (top relative)\n",
    "        tfy : y coord of fault anchor (top relative)\n",
    "        tfxe : x coord of other buried corner (top relative)\n",
    "        tfye : y coord of other buried corner (top relative)\n",
    "    \"\"\"\n",
    "\n",
    "    okada_parameters = addict.Dict()\n",
    "    okada_parameters.strike = np.arctan2(sy1 - sy2, sx1 - sx2) + np.pi # This is by convention\n",
    "    okada_parameters.L = np.sqrt((sx2 - sx1)**2 + (sy2 - sy1)**2)\n",
    "    okada_parameters.W = (D - bd) / np.sin(np.deg2rad(dip))\n",
    "\n",
    "    # Calculate fault segment anchor and other buried point\n",
    "    okada_parameters.ofx = sx1 + D / np.tan(np.deg2rad(dip)) * np.sin(np.deg2rad(okada_parameters.strike))\n",
    "    okada_parameters.ofy = sy1 - D / np.tan(np.deg2rad(dip)) * np.cos(np.deg2rad(okada_parameters.strike))\n",
    "    okada_parameters.ofxe = sx2 + D / np.tan(np.deg2rad(dip)) * np.sin(np.deg2rad(okada_parameters.strike))\n",
    "    okada_parameters.ofye = sy2 - D / np.tan(np.deg2rad(dip)) * np.cos(np.deg2rad(okada_parameters.strike))\n",
    "\n",
    "    # Calculate fault segment anchor and other buried point (top relative)\n",
    "    okada_parameters.tfx = sx1 + bd / np.tan(np.deg2rad(dip)) * np.sin(np.deg2rad(okada_parameters.strike))\n",
    "    okada_parameters.tfy = sy1 - bd / np.tan(np.deg2rad(dip)) * np.cos(np.deg2rad(okada_parameters.strike))\n",
    "    okada_parameters.tfxe = sx2 + bd / np.tan(np.deg2rad(dip)) * np.sin(np.deg2rad(okada_parameters.strike))\n",
    "    okada_parameters.tfye = sy2 - bd / np.tan(np.deg2rad(dip)) * np.cos(np.deg2rad(okada_parameters.strike))\n",
    "\n",
    "    return okada_parameters\n",
    "\n",
    "\n",
    "# def GetElasticPartials(segment, stations):\n",
    "\"\"\"\n",
    "Calculates the elastic displacement partial derivatives based on the Okada\n",
    "formulation, using the source and receiver geometries defined in\n",
    "dicitonaries segment and stations. Before calculating the partials for\n",
    "each segment, a local oblique Mercator project is done.\n",
    "\"\"\"\n",
    "\n",
    "n_stations = len(station)\n",
    "n_segments = len(segment)\n",
    "G = np.zeros((3 * n_stations, 3 * n_segments))\n",
    "v1 = np.zeros(n_segments)\n",
    "v2 = np.zeros(n_segments)\n",
    "v3 = np.zeros(n_segments)\n",
    "\n",
    "# Loop through each segment and calculate displacements\n",
    "# for i in range(n_segments):\n",
    "for i in range(1):\n",
    "    print(i)\n",
    "\n",
    "    # Local map projection\n",
    "    projection = celeri.get_segment_oblique_projection(segment.lon1[i], segment.lat1[i], segment.lon2[i], segment.lat2[i])\n",
    "    station_x, station_y = projection(station.lon, station.lat)\n",
    "    segment_x1, segment_y1 = projection(segment.lon1[i], segment.lat1[i])\n",
    "    segment_x2, segment_y2 = projection(segment.lon2[i], segment.lat2[i])\n",
    "\n",
    "    # Calculate fault parameters in Okada form\n",
    "    # okada_parameters = fault_parameters_to_okada_format(f.px1, f.py1, f.px2, f.py2, segment.dip[i], segment.locking_depth[i], segment.burial_depth[i])\n",
    "    okada_parameters = fault_parameters_to_okada_format(segment_x1, segment_y1,\n",
    "        segment_x2, segment_y2, segment.dip[i], segment.locking_depth[i], \n",
    "        segment.burial_depth[i])\n",
    "\n",
    "    # Translate observation coordinates relative to fault anchor\n",
    "\n",
    "    # Rotation observation coordinates to remove strike.\n",
    "    # rot = np.array([[cos(theta), -sin(theta)], [sin(theta), cos(theta)]])\n",
    "    rotation_matrix = np.array([[np.cos(np.deg2rad(okada_parameters.strike)), -np.sin(np.deg2rad(okada_parameters.strike))], \n",
    "                                [np.sin(np.deg2rad(okada_parameters.strike)), np.cos(np.deg2rad(okada_parameters.strike))]])\n",
    "\n",
    "#     % Displacements due to unit slip components\n",
    "#     [ves vns vus...\n",
    "#      ved vnd vud...\n",
    "#      vet vnt vut] = okada_partials(ofx, ofy, strike, f.lDep, deg_to_rad(f.dip), L, W, 1, 1, 1, s.fpx, s.fpy, command.poissons_ratio);\n",
    "     \n",
    "#     v1{i} = reshape([ves vns vus]', 3*nSta, 1)\n",
    "#     v2{i} = reshape(sign(90 - f.dip).*[ved vnd vud]', 3*nSta, 1)\n",
    "#     v3{i} = reshape((f.dip - 90 == 0).*[vet vnt vut]', 3*nSta, 1) \n",
    "#     v1{i} = xyz2enumat((v1{i}), -f.strike + 90)\n",
    "#     v2{i} = xyz2enumat((v2{i}), -f.strike + 90)\n",
    "#     v3{i} = xyz2enumat((v3{i}), -f.strike + 90)\n",
    "\n",
    "# Place cell arrays into the partials matrix\n",
    "# G[:, 0::3] = cell2mat(v1)\n",
    "# G[:, 1::3] = cell2mat(v2)\n",
    "# G[:, 2::3] = cell2mat(v3) \n"
   ],
   "outputs": [
    {
     "output_type": "stream",
     "name": "stdout",
     "text": [
      "0\n"
     ]
    }
   ],
   "metadata": {}
  },
  {
   "cell_type": "code",
   "execution_count": 49,
   "source": [
    "# TODO: Locking depths are currently meters rather than KM in inputfiles!!!\n",
    "# TODO: Is there another XYZ to ENU conversion needed?\n",
    "\n",
    "i = 0\n",
    "segment.locking_depth.values[i] *= celeri.KM2M\n",
    "segment.burial_depth.values[i] *= celeri.KM2M\n",
    "\n",
    "# Project coordinates to flat space using a local oblique Mercator projection\n",
    "projection = celeri.get_segment_oblique_projection(segment.lon1[i], segment.lat1[i], segment.lon2[i], segment.lat2[i], True)\n",
    "station_x, station_y = projection(station.lon, station.lat)\n",
    "segment_x1, segment_y1 = projection(segment.lon1[i], segment.lat1[i])\n",
    "segment_x2, segment_y2 = projection(segment.lon2[i], segment.lat2[i])\n",
    "\n",
    "# Calculate geometric fault parameters\n",
    "print(type(segment_x1), segment_x1)\n",
    "print(type(segment_y1), segment_y1)\n",
    "print(type(segment_x2), segment_x2)\n",
    "print(type(segment_y2), segment_y2)\n",
    "segment_strike = np.arctan2(segment_y2 - segment_y1, segment_x2 - segment_x1) # radians\n",
    "print(type(segment_strike), segment_strike)\n",
    "\n",
    "segment_length = np.sqrt((segment_y2 - segment_y1)**2.0 + (segment_x2 - segment_x1)**2.0)\n",
    "segment_up_dip_width = (segment.locking_depth[i] - segment.burial_depth[i]) / np.sin(np.deg2rad(segment.dip[i]))\n",
    "\n",
    "# Translate stations and segment so that segment mid-point is at the origin\n",
    "segment_x_mid = (segment_x1 + segment_x2) / 2.0\n",
    "segment_y_mid = (segment_y1 + segment_y2) / 2.0\n",
    "station_x -= segment_x_mid\n",
    "station_y -= segment_y_mid\n",
    "segment_x1 -= segment_x_mid\n",
    "segment_x2 -= segment_x_mid\n",
    "segment_y1 -= segment_y_mid\n",
    "segment_y2 -= segment_y_mid\n",
    "\n",
    "# Unrotate coordinates to eliminate strike, segment will lie along y = 0\n",
    "# np.einsum guidance from: https://stackoverflow.com/questions/26289972/use-numpy-to-multiply-a-matrix-across-an-array-of-points\n",
    "rotation_matrix = np.array([[np.cos(segment_strike), -np.sin(segment_strike)], \n",
    "                            [np.sin(segment_strike), np.cos(segment_strike)]])\n",
    "un_rotation_matrix = np.array([[np.cos(-segment_strike), -np.sin(-segment_strike)], \n",
    "                               [np.sin(-segment_strike), np.cos(-segment_strike)]])\n",
    "station_x_rotated, station_y_rotated = np.hsplit(np.einsum(\"ij,kj->ik\", np.dstack((station_x, station_y))[0], un_rotation_matrix), 2)\n",
    "segment_x1_rotated, segment_y1_rotated = un_rotation_matrix.dot([segment_x1, segment_y1])\n",
    "segment_x2_rotated, segment_y2_rotated = un_rotation_matrix.dot([segment_x2, segment_y2])\n",
    "\n",
    "# print(station_x.shape, type(station_x))\n",
    "# print(station_y.shape, type(station_y))\n",
    "# print(un_rotation_matrix.shape, un_rotation_matrix)\n",
    "# print(type(un_rotation_matrix))\n",
    "# print(type(segment_strike), segment_strike)\n",
    "\n",
    "\n",
    "\n",
    "# Elastic displacements due to fault slip from Okada 1985\n",
    "alpha = (command.material_lambda + command.material_mu) / (command.material_lambda + 2 * command.material_mu)\n",
    "u_x = np.zeros_like(station_x)\n",
    "u_y = np.zeros_like(station_x)\n",
    "u_z = np.zeros_like(station_x)\n",
    "for j in range(len(station)):\n",
    "    _, u, _ = dc3dwrapper(alpha, # (lambda + mu) / (lambda + 2 * mu)\n",
    "                          [station_x_rotated[j], station_y_rotated[j], 0], # (meters) observation point\n",
    "                          -segment.locking_depth[i], # (meters) depth of the fault origin\n",
    "                          segment.dip[i], # (degrees) the dip-angle of the rectangular dislocation surface\n",
    "                          [-segment_length / 2, segment_length / 2], # (meters) the along-strike range of the surface (al1,al2 in the original)\n",
    "                          [0, segment_up_dip_width], # (meters) along-dip range of the surface (aw1, aw2 in the original)\n",
    "                          [1.0, 0.0, 0.0]) # (meters) strike-slip, dip-slip, tensile-slip\n",
    "    u_x[j] = u[0]\n",
    "    u_y[j] = u[1]\n",
    "    u_z[j] = u[2]\n",
    "\n",
    "\n",
    "# Un-rotate displacement to account for projected fault strike\n",
    "u_x_un_rotated, u_y_un_rotated = np.hsplit(np.einsum(\"ij,kj->ik\", np.dstack((u_x, u_y))[0], rotation_matrix), 2)\n",
    "\n",
    "\n",
    "\n",
    "# plt.figure()\n",
    "# plt.plot([segment.lon1[i], segment.lon2[i]], [segment.lat1[i], segment.lat2[i]], \"-r\")\n",
    "# plt.plot(station.lon, station.lat, '.b', markersize=1)\n",
    "# plt.xlim([235, 255])\n",
    "# plt.ylim([30, 50])\n",
    "# plt.gca().set_aspect('equal', adjustable='box')\n",
    "# plt.title(\"Positions: longitude and latitude\")\n",
    "# plt.show()\n",
    "\n",
    "# plt.figure()\n",
    "# plt.plot([segment_x1, segment_x2], [segment_y1, segment_y2], \"-r\")\n",
    "# plt.plot(station_x, station_y, '.b', markersize=1)\n",
    "# plt.xlim([-1e6, 1e6])\n",
    "# plt.ylim([-1e6, 1e6])\n",
    "# plt.gca().set_aspect('equal', adjustable='box')\n",
    "# plt.title(\"Positions: projected and translated\")\n",
    "# plt.show()\n",
    "\n",
    "# plt.figure()\n",
    "# plt.plot([segment_x1_rotated, segment_x2_rotated], [segment_y1_rotated, segment_y2_rotated], \"-r\")\n",
    "# plt.plot(station_x_rotated, station_y_rotated, '.b', markersize=1)\n",
    "# plt.xlim([-1e6, 1e6])\n",
    "# plt.ylim([-1e6, 1e6])\n",
    "# plt.gca().set_aspect('equal', adjustable='box')\n",
    "# plt.title(\"Positions: projected, translated, and rotated\")\n",
    "# plt.show()\n",
    "\n",
    "# plt.figure()\n",
    "# plt.plot([segment_x1_rotated, segment_x2_rotated], [segment_y1_rotated, segment_y2_rotated], \"-r\")\n",
    "# # plt.plot(station_x_rotated, station_y_rotated, '.b', markersize=1)\n",
    "# plt.quiver(station_x_rotated, station_y_rotated, u_x, u_y, scale=1e-1, scale_units='inches')\n",
    "# plt.xlim([-1e6, 1e6])\n",
    "# plt.ylim([-1e6, 1e6])\n",
    "# plt.gca().set_aspect('equal', adjustable='box')\n",
    "# plt.title(\"Displacements: projected, translated, and rotated\")\n",
    "# plt.show()\n",
    "\n",
    "# plt.figure()\n",
    "# plt.plot([segment_x1, segment_x2], [segment_y1, segment_y2], \"-r\")\n",
    "# # plt.plot(station_x, station_y, '.b', markersize=1)\n",
    "# plt.quiver(station_x, station_y, u_x_un_rotated, u_y_un_rotated, scale=1e-1, scale_units='inches')\n",
    "# plt.xlim([-1e6, 1e6])\n",
    "# plt.ylim([-1e6, 1e6])\n",
    "# plt.gca().set_aspect('equal', adjustable='box')\n",
    "# plt.title(\"Displacements: projected and translated\")\n",
    "# plt.show()\n",
    "\n",
    "# plt.figure()\n",
    "# plt.plot([segment.lon1[i], segment.lon2[i]], [segment.lat1[i], segment.lat2[i]], \"-r\")\n",
    "# # plt.plot(station_x, station_y, '.b', markersize=1)\n",
    "# plt.quiver(station.lon, station.lat, u_x_un_rotated, u_y_un_rotated, scale=1e-1, scale_units='inches')\n",
    "# plt.xlim([235, 255])\n",
    "# plt.ylim([30, 50])\n",
    "# plt.gca().set_aspect('equal', adjustable='box')\n",
    "# plt.title(\"Displacements: longitude and latitude\")\n",
    "# plt.show()\n",
    "\n",
    "\n"
   ],
   "outputs": [
    {
     "output_type": "stream",
     "name": "stdout",
     "text": [
      "<class 'float'> -1093573.9280795865\n",
      "<class 'float'> 4890861.787021328\n",
      "<class 'float'> -1053279.8319317077\n",
      "<class 'float'> 4710651.880738813\n",
      "<class 'numpy.float64'> -1.3508192569114943\n"
     ]
    }
   ],
   "metadata": {}
  },
  {
   "cell_type": "code",
   "execution_count": 55,
   "source": [
    "def get_okada_displacements(segment_lon1, segment_lat1, segment_lon2, segment_lat2, segment_locking_depth, segment_burial_depth, segment_dip, material_lambda, material_mu, station_lon, station_lat):\n",
    "    \"\"\"\n",
    "    TODO: Locking depths are currently meters rather than KM in inputfiles!!!\n",
    "    TODO: Is there another XYZ to ENU conversion needed?\n",
    "    \"\"\"\n",
    "    segment_locking_depth *= celeri.KM2M\n",
    "    segment_burial_depth *= celeri.KM2M\n",
    "\n",
    "    # Project coordinates to flat space using a local oblique Mercator projection\n",
    "    projection = celeri.get_segment_oblique_projection(segment_lon1, segment_lat1, segment_lon2, segment_lat2)\n",
    "    station_x, station_y = projection(station_lon, station_lat)\n",
    "    segment_x1, segment_y1 = projection(segment_lon1, segment_lat1)\n",
    "    segment_x2, segment_y2 = projection(segment_lon2, segment_lat2)\n",
    "\n",
    "    # Calculate geometric fault parameters\n",
    "    segment_strike = np.arctan2(segment_y2 - segment_y1, segment_x2 - segment_x1) # radians\n",
    "    segment_length = np.sqrt((segment_y2 - segment_y1)**2.0 + (segment_x2 - segment_x1)**2.0)\n",
    "    segment_up_dip_width = (segment_locking_depth - segment_burial_depth) / np.sin(np.deg2rad(segment_dip))\n",
    "\n",
    "    # Translate stations and segment so that segment mid-point is at the origin\n",
    "    segment_x_mid = (segment_x1 + segment_x2) / 2.0\n",
    "    segment_y_mid = (segment_y1 + segment_y2) / 2.0\n",
    "    station_x -= segment_x_mid\n",
    "    station_y -= segment_y_mid\n",
    "    segment_x1 -= segment_x_mid\n",
    "    segment_x2 -= segment_x_mid\n",
    "    segment_y1 -= segment_y_mid\n",
    "    segment_y2 -= segment_y_mid\n",
    "\n",
    "    # Unrotate coordinates to eliminate strike, segment will lie along y = 0\n",
    "    rotation_matrix = np.array([[np.cos(segment_strike), -np.sin(segment_strike)], \n",
    "                                [np.sin(segment_strike), np.cos(segment_strike)]])\n",
    "    un_rotation_matrix = np.array([[np.cos(-segment_strike), -np.sin(-segment_strike)], \n",
    "                                [np.sin(-segment_strike), np.cos(-segment_strike)]])\n",
    "    station_x_rotated, station_y_rotated = np.hsplit(np.einsum(\"ij,kj->ik\", np.dstack((station_x, station_y))[0], un_rotation_matrix), 2)\n",
    "\n",
    "    # Elastic displacements due to fault slip from Okada 1985\n",
    "    # alpha = (command.material_lambda + command.material_mu) / (command.material_lambda + 2 * command.material_mu)\n",
    "    alpha = (material_lambda + material_mu) / (material_lambda + 2 * material_mu)\n",
    "    u_x = np.zeros_like(station_x)\n",
    "    u_y = np.zeros_like(station_x)\n",
    "    u_up = np.zeros_like(station_x)\n",
    "    for i in range(len(station)):\n",
    "        _, u, _ = dc3dwrapper(alpha, # (lambda + mu) / (lambda + 2 * mu)\n",
    "                            [station_x_rotated[i], station_y_rotated[i], 0], # (meters) observation point\n",
    "                            -segment_locking_depth, # (meters) depth of the fault origin\n",
    "                            segment_dip, # (degrees) the dip-angle of the rectangular dislocation surface\n",
    "                            [-segment_length / 2, segment_length / 2], # (meters) the along-strike range of the surface (al1,al2 in the original)\n",
    "                            [0, segment_up_dip_width], # (meters) along-dip range of the surface (aw1, aw2 in the original)\n",
    "                            [1.0, 0.0, 0.0]) # (meters) strike-slip, dip-slip, tensile-slip\n",
    "        u_x[i] = u[0]\n",
    "        u_y[i] = u[1]\n",
    "        u_up[i] = u[2]\n",
    "\n",
    "    # Un-rotate displacement to account for projected fault strike\n",
    "    u_east, u_north = np.hsplit(np.einsum(\"ij,kj->ik\", np.dstack((u_x, u_y))[0], rotation_matrix), 2)\n",
    "    return u_east, u_north, u_up\n",
    "\n",
    "i = 0\n",
    "u_east, u_north, u_up = get_okada_displacements(segment.lon1.values[i], segment.lat1[i], segment.lon2[i], segment.lat2[i], segment.locking_depth[i], segment.burial_depth[i], segment.dip[i], command.material_lambda, command.material_mu, station.lon, station.lat)"
   ],
   "outputs": [
    {
     "output_type": "stream",
     "name": "stdout",
     "text": [
      "<class 'numpy.float64'> 184659.75334849526\n"
     ]
    }
   ],
   "metadata": {}
  },
  {
   "cell_type": "code",
   "execution_count": null,
   "source": [
    "station.lon.values"
   ],
   "outputs": [],
   "metadata": {}
  },
  {
   "cell_type": "code",
   "execution_count": null,
   "source": [
    "segment_strike.item()"
   ],
   "outputs": [],
   "metadata": {}
  },
  {
   "cell_type": "code",
   "execution_count": null,
   "source": [],
   "outputs": [],
   "metadata": {}
  }
 ],
 "metadata": {
  "interpreter": {
   "hash": "1c99b817e7692020a25f5bce5fd58f988aabefee874a9cd895a1468d49750c9a"
  },
  "kernelspec": {
   "name": "python3",
   "display_name": "Python 3.9.6 64-bit ('celeri': conda)"
  },
  "language_info": {
   "codemirror_mode": {
    "name": "ipython",
    "version": 3
   },
   "file_extension": ".py",
   "mimetype": "text/x-python",
   "name": "python",
   "nbconvert_exporter": "python",
   "pygments_lexer": "ipython3",
   "version": "3.9.6"
  },
  "widgets": {
   "application/vnd.jupyter.widget-state+json": {
    "state": {
     "4d250c5d35aa493295ca814fb3eaa1ee": {
      "model_module": "@jupyter-widgets/base",
      "model_module_version": "1.2.0",
      "model_name": "LayoutModel",
      "state": {}
     },
     "6faf75ca5f3b41388f284e98ec2cf803": {
      "model_module": "jupyter-matplotlib",
      "model_module_version": "^0.9.0",
      "model_name": "ToolbarModel",
      "state": {
       "layout": "IPY_MODEL_9b061db2dc65459ca586b9b9f73c2362",
       "toolitems": [
        [
         "Home",
         "Reset original view",
         "home",
         "home"
        ],
        [
         "Back",
         "Back to previous view",
         "arrow-left",
         "back"
        ],
        [
         "Forward",
         "Forward to next view",
         "arrow-right",
         "forward"
        ],
        [
         "Pan",
         "Left button pans, Right button zooms\nx/y fixes axis, CTRL fixes aspect",
         "arrows",
         "pan"
        ],
        [
         "Zoom",
         "Zoom to rectangle\nx/y fixes axis, CTRL fixes aspect",
         "square-o",
         "zoom"
        ],
        [
         "Download",
         "Download plot",
         "floppy-o",
         "save_figure"
        ]
       ]
      }
     },
     "9b061db2dc65459ca586b9b9f73c2362": {
      "model_module": "@jupyter-widgets/base",
      "model_module_version": "1.2.0",
      "model_name": "LayoutModel",
      "state": {}
     },
     "c25a38234e8f4e818670d9767f95a430": {
      "model_module": "jupyter-matplotlib",
      "model_module_version": "^0.9.0",
      "model_name": "MPLCanvasModel",
      "state": {
       "_cursor": "default",
       "_figure_label": "Figure 1",
       "_height": 708,
       "_width": 1746,
       "layout": "IPY_MODEL_4d250c5d35aa493295ca814fb3eaa1ee",
       "toolbar": "IPY_MODEL_6faf75ca5f3b41388f284e98ec2cf803",
       "toolbar_position": "left"
      }
     }
    },
    "version_major": 2,
    "version_minor": 0
   }
  }
 },
 "nbformat": 4,
 "nbformat_minor": 4
}