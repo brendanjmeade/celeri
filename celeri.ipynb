{
 "cells": [
  {
   "cell_type": "code",
   "execution_count": 13,
   "source": [
    "%matplotlib widget\n",
    "%config InlineBackend.figure_format = 'svg'"
   ],
   "outputs": [],
   "metadata": {}
  },
  {
   "cell_type": "code",
   "execution_count": 14,
   "source": [
    "import copy\n",
    "import datetime\n",
    "import os\n",
    "import string\n",
    "import numpy as np\n",
    "import pandas as pd\n",
    "import matplotlib.pyplot as plt\n",
    "from importlib import reload\n",
    "\n",
    "import celeri\n",
    "celeri = reload(celeri)"
   ],
   "outputs": [],
   "metadata": {
    "tags": []
   }
  },
  {
   "cell_type": "code",
   "execution_count": 15,
   "source": [
    "RUN_NAME = datetime.datetime.now().strftime(\"%y%m%d%H%M%S\") + os.sep\n",
    "command_file_name = './data/western_north_america/western_north_america_command.json'\n",
    "command, segment, block, station, mogi, sar = celeri.read_data(command_file_name)\n",
    "station = celeri.process_station(station, command)\n",
    "segment = celeri.process_segment(segment, command)\n",
    "sar = celeri.process_sar(sar, command)\n",
    "segment, station, block, mogi, sar = celeri.assign_block_labels(segment, station, block, mogi, sar)\n",
    "assembly = celeri.create_assembly_dictionary()\n",
    "assembly = celeri.merge_geodetic_data(assembly, station, sar) "
   ],
   "outputs": [],
   "metadata": {
    "tags": []
   }
  },
  {
   "cell_type": "code",
   "execution_count": 16,
   "source": [
    "# celeri.plot_block_labels(segment, block, station)"
   ],
   "outputs": [],
   "metadata": {}
  },
  {
   "cell_type": "code",
   "execution_count": 17,
   "source": [
    "def get_block_constraint_partials(block):\n",
    "    \"\"\"\n",
    "    Partials for a priori block motion constraints.\n",
    "    Essentially a set of eye(3) matrices\n",
    "    \"\"\"\n",
    "    n_blocks = len(block)\n",
    "    apriori_blocks_idx = np.where(block.apriori_flag.to_numpy() == 1)\n",
    "    partials = np.zeros(3 * len(apriori_blocks_idx), 3 * n_blocks)\n",
    "    for i in range(len(apriori_blocks_idx)):\n",
    "    #     partials(3*(i-1) + (1:3), 3*(ap(i)-1) + (1:3)) = np.eye(3)\n",
    "    return partials\n",
    "\n",
    "def block_constraints(block, index, data, sigma, command):\n",
    "    \"\"\"\n",
    "    Applying a priori block motion constraints\n",
    "    \"\"\"\n",
    "    block_constraint_partials = get_block_constraint_partials(block)\n",
    "    index.block_constraints = np.where(block.apriori_flag.to_numpy == 1)\n",
    "    data.n_block_constraints = 3 * len(index.block_constraints)\n",
    "    data.block_constraints = np.zeros(block_constraint_partials.size[0])\n",
    "    sigma.block_constraints = np.zeros(block_constraint_partials.size[0])\n",
    "    if data.n_block_constraints > 0:\n",
    "    #    apLons, apLats, apRates = deal(Block.eulerLon(Index.blockCon), Block.eulerLat(Index.blockCon), Block.rotationRate(Index.blockCon).*1e6)\n",
    "    #    apbx, apby, apbz = EulerToOmega(apLons, apLats, apRates)\n",
    "    #    data.block_constraints[0::3] = apbx\n",
    "    #    data.block_constraints[1::3] = apby\n",
    "    #    data.block_constraints[2::3] = apbz\n",
    "    #    apbcov = stack3([deg_to_rad(Block.eulerLatSig(Index.blockCon)), deg_to_rad(Block.eulerLonSig(Index.blockCon)), deg_to_rad(Block.rotationRateSig(Index.blockCon))])\n",
    "    #    apbsx, apbsy, apbsz = epoles_cov_to_omega_cov(apbx, apby, apbz, diag(apbcov))\n",
    "    #    sigma.block_constraints[0::3] = apbsx\n",
    "    #    sigma.block_constraints[1::3] = apbsy\n",
    "    #    sigma.block_constraints[2::3] = apbsz\n",
    "\n",
    "    sigma.block_constraint_weight = command[\"block_constraint_weight\"]\n",
    "    return block_constraint_partials, index, data, sigma"
   ],
   "outputs": [
    {
     "output_type": "error",
     "ename": "IndentationError",
     "evalue": "expected an indented block (<ipython-input-17-866dc5966786>, line 11)",
     "traceback": [
      "\u001b[0;36m  File \u001b[0;32m\"<ipython-input-17-866dc5966786>\"\u001b[0;36m, line \u001b[0;32m11\u001b[0m\n\u001b[0;31m    return partials\u001b[0m\n\u001b[0m    ^\u001b[0m\n\u001b[0;31mIndentationError\u001b[0m\u001b[0;31m:\u001b[0m expected an indented block\n"
     ]
    }
   ],
   "metadata": {}
  },
  {
   "cell_type": "code",
   "execution_count": null,
   "source": [
    "a = {}\n",
    "a[\"asdf\"] = 1\n",
    "a[\"er\"] = {}\n",
    "a[\"er\"][\"asdf\"] = 2 "
   ],
   "outputs": [],
   "metadata": {}
  },
  {
   "cell_type": "code",
   "execution_count": null,
   "source": [],
   "outputs": [],
   "metadata": {}
  }
 ],
 "metadata": {
  "interpreter": {
   "hash": "749f0fc94df05971c9b3f3660cf19264b2aeee03fc6d4bf75e86fd251d69cf68"
  },
  "kernelspec": {
   "name": "python3",
   "display_name": "Python 3.8.8 64-bit ('base': conda)"
  },
  "language_info": {
   "codemirror_mode": {
    "name": "ipython",
    "version": 3
   },
   "file_extension": ".py",
   "mimetype": "text/x-python",
   "name": "python",
   "nbconvert_exporter": "python",
   "pygments_lexer": "ipython3",
   "version": "3.8.8"
  },
  "widgets": {
   "application/vnd.jupyter.widget-state+json": {
    "state": {},
    "version_major": 2,
    "version_minor": 0
   }
  }
 },
 "nbformat": 4,
 "nbformat_minor": 4
}