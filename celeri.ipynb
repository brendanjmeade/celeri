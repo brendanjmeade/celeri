{
 "cells": [
  {
   "cell_type": "code",
   "execution_count": 1,
   "source": [
    "%matplotlib widget\n",
    "%config InlineBackend.figure_format = 'svg'"
   ],
   "outputs": [],
   "metadata": {
    "execution": {
     "iopub.execute_input": "2021-08-22T18:29:50.539195Z",
     "iopub.status.busy": "2021-08-22T18:29:50.538938Z",
     "iopub.status.idle": "2021-08-22T18:29:50.550334Z",
     "shell.execute_reply": "2021-08-22T18:29:50.549700Z",
     "shell.execute_reply.started": "2021-08-22T18:29:50.539169Z"
    },
    "tags": []
   }
  },
  {
   "cell_type": "code",
   "execution_count": 2,
   "source": [
    "import addict\n",
    "import copy\n",
    "import datetime\n",
    "import os\n",
    "import pyproj\n",
    "import numpy as np\n",
    "import pandas as pd\n",
    "import matplotlib.pyplot as plt\n",
    "from importlib import reload\n",
    "from okada_wrapper import dc3dwrapper\n",
    "\n",
    "# Plotting the global model is much much faster with tex fonts turned off\n",
    "plt.rcParams['text.usetex'] = False"
   ],
   "outputs": [],
   "metadata": {
    "execution": {
     "iopub.execute_input": "2021-08-22T18:29:51.661926Z",
     "iopub.status.busy": "2021-08-22T18:29:51.661659Z",
     "iopub.status.idle": "2021-08-22T18:29:51.956035Z",
     "shell.execute_reply": "2021-08-22T18:29:51.955292Z",
     "shell.execute_reply.started": "2021-08-22T18:29:51.661900Z"
    },
    "tags": []
   }
  },
  {
   "cell_type": "code",
   "execution_count": 3,
   "source": [
    "import celeri\n",
    "celeri = reload(celeri)"
   ],
   "outputs": [],
   "metadata": {
    "execution": {
     "iopub.execute_input": "2021-08-22T18:29:52.614271Z",
     "iopub.status.busy": "2021-08-22T18:29:52.614009Z",
     "iopub.status.idle": "2021-08-22T18:29:52.905586Z",
     "shell.execute_reply": "2021-08-22T18:29:52.905027Z",
     "shell.execute_reply.started": "2021-08-22T18:29:52.614243Z"
    },
    "tags": []
   }
  },
  {
   "cell_type": "code",
   "execution_count": 4,
   "source": [
    "RUN_NAME = datetime.datetime.now().strftime(\"%y%m%d%H%M%S\") + os.sep\n",
    "command_file_name = './data/western_north_america/western_north_america_command.json'\n",
    "# command_file_name = './data/global/global_command.json'\n",
    "command, segment, block, meshes, station, mogi, sar = celeri.read_data(command_file_name)\n",
    "station = celeri.process_station(station, command)\n",
    "segment = celeri.process_segment(segment, command, meshes)\n",
    "sar = celeri.process_sar(sar, command)\n",
    "closure = celeri.assign_block_labels(segment, station, block, mogi, sar)\n",
    "# celeri.plot_block_labels(segment, block, station, closure)"
   ],
   "outputs": [],
   "metadata": {
    "execution": {
     "iopub.execute_input": "2021-08-22T18:29:53.570589Z",
     "iopub.status.busy": "2021-08-22T18:29:53.570331Z",
     "iopub.status.idle": "2021-08-22T18:30:09.817977Z",
     "shell.execute_reply": "2021-08-22T18:30:09.817443Z",
     "shell.execute_reply.started": "2021-08-22T18:29:53.570561Z"
    },
    "tags": []
   }
  },
  {
   "cell_type": "code",
   "execution_count": 5,
   "source": [
    "assembly = addict.Dict()\n",
    "operators = addict.Dict()\n",
    "assembly = celeri.merge_geodetic_data(assembly, station, sar)\n",
    "assembly, operators.block_motion_constraints = celeri.block_constraints(assembly, block, command)\n",
    "assembly, operators.slip_rate_constraints = celeri.slip_rate_constraints(assembly, segment, block, command)"
   ],
   "outputs": [
    {
     "output_type": "stream",
     "name": "stdout",
     "text": [
      "Isolating slip rate constraints\n",
      "- Dip-slip rate constraint on Nevada02abb: rate = -2.40 (mm/yr), 1-sigma uncertainty = +/-1.20 (mm/yr)\n",
      "- Strike-slip rate constraint on SierraConnectbb: rate = -1.70 (mm/yr), 1-sigma uncertainty = +/-0.80 (mm/yr)\n",
      "- Strike-slip rate constraint on TestSjfa: rate = -17.50 (mm/yr), 1-sigma uncertainty = +/-8.80 (mm/yr)\n",
      "- Strike-slip rate constraint on aaa: rate = -3.50 (mm/yr), 1-sigma uncertainty = +/-1.70 (mm/yr)\n",
      "- Strike-slip rate constraint on asdf: rate = -4.00 (mm/yr), 1-sigma uncertainty = +/-2.00 (mm/yr)\n",
      "- Strike-slip rate constraint on asdf: rate = 2.80 (mm/yr), 1-sigma uncertainty = +/-2.50 (mm/yr)\n",
      "- Strike-slip rate constraint on asdfb: rate = -9.20 (mm/yr), 1-sigma uncertainty = +/-4.60 (mm/yr)\n",
      "- Strike-slip rate constraint on asdfba: rate = -17.00 (mm/yr), 1-sigma uncertainty = +/-8.50 (mm/yr)\n",
      "- Dip-slip rate constraint on asdfbb: rate = -3.00 (mm/yr), 1-sigma uncertainty = +/-1.50 (mm/yr)\n",
      "- Strike-slip rate constraint on cfm_camp_rock_complete_trace_part1_s: rate = -1.40 (mm/yr), 1-sigma uncertainty = +/-0.70 (mm/yr)\n",
      "- Strike-slip rate constraint on cfm_newport_inglewood_rose_conyon_complete_trace_part2_s: rate = -1.50 (mm/yr), 1-sigma uncertainty = +/-0.80 (mm/yr)\n",
      "- Strike-slip rate constraint on cfm_palos_verdes_extruded_trace_part7_s_2: rate = -3.30 (mm/yr), 1-sigma uncertainty = +/-1.60 (mm/yr)\n",
      "- Strike-slip rate constraint on cfm_san_andreas_mojave_extruded_trace_part1_sa: rate = -35.60 (mm/yr), 1-sigma uncertainty = +/-17.80 (mm/yr)\n",
      "- Strike-slip rate constraint on cfm_san_bernardino_valley_san_jacinto_complete_trace_part5_s: rate = -2.50 (mm/yr), 1-sigma uncertainty = +/-1.20 (mm/yr)\n",
      "- Strike-slip rate constraint on cfma_carrizo_extruded_1_trace_part1_sa: rate = -42.50 (mm/yr), 1-sigma uncertainty = +/-21.20 (mm/yr)\n",
      "- Strike-slip rate constraint on cfma_carrizo_extruded_1_trace_part5_saa: rate = -33.90 (mm/yr), 1-sigma uncertainty = +/-16.90 (mm/yr)\n",
      "- Strike-slip rate constraint on cfma_garlock_complete_trace_part11_s: rate = 6.50 (mm/yr), 1-sigma uncertainty = +/-4.50 (mm/yr)\n",
      "- Dip-slip rate constraint on cfma_newport_inglewood_complete_trace_part4_s: rate = 1.20 (mm/yr), 1-sigma uncertainty = +/-0.60 (mm/yr)\n",
      "- Strike-slip rate constraint on cfma_north_san_gabriel_extruded_60_trace_part4_s_2: rate = -2.80 (mm/yr), 1-sigma uncertainty = +/-1.40 (mm/yr)\n",
      "- Strike-slip rate constraint on cfma_pisgah_bullion_mesquite_lake_extruded_90_trace_part3_s: rate = -1.00 (mm/yr), 1-sigma uncertainty = +/-0.50 (mm/yr)\n",
      "- Dip-slip rate constraint on cfma_raymond_complete_trace_part4_sa: rate = 1.50 (mm/yr), 1-sigma uncertainty = +/-0.80 (mm/yr)\n",
      "- Strike-slip rate constraint on cfma_sa_parkfield_extruded_90dip_trace_part1_sabb: rate = -24.80 (mm/yr), 1-sigma uncertainty = +/-12.40 (mm/yr)\n",
      "- Strike-slip rate constraint on cfma_san_andreas_coachella_alt2_complete_trace_part1_s: rate = -15.50 (mm/yr), 1-sigma uncertainty = +/-7.80 (mm/yr)\n",
      "- Strike-slip rate constraint on cfma_san_andreas_san_bernardino_alt2_complete_trace_part7_s: rate = -12.40 (mm/yr), 1-sigma uncertainty = +/-6.20 (mm/yr)\n",
      "- Dip-slip rate constraint on cfma_santa_susana_complete_trace_part4_s: rate = 6.00 (mm/yr), 1-sigma uncertainty = +/-3.90 (mm/yr)\n",
      "- Strike-slip rate constraint on cfma_white_wolf_long_complete_trace_part6_s: rate = 4.00 (mm/yr), 1-sigma uncertainty = +/-4.40 (mm/yr)\n",
      "- Dip-slip rate constraint on cfma_white_wolf_long_complete_trace_part6_s: rate = 2.30 (mm/yr), 1-sigma uncertainty = +/-4.40 (mm/yr)\n",
      "- Strike-slip rate constraint on conn: rate = -1.40 (mm/yr), 1-sigma uncertainty = +/-0.70 (mm/yr)\n",
      "- Dip-slip rate constraint on deepspringsvalley1b: rate = -1.00 (mm/yr), 1-sigma uncertainty = +/-0.80 (mm/yr)\n",
      "- Strike-slip rate constraint on dmga: rate = -8.40 (mm/yr), 1-sigma uncertainty = +/-4.20 (mm/yr)\n",
      "- Strike-slip rate constraint on dmgab: rate = -24.00 (mm/yr), 1-sigma uncertainty = +/-12.00 (mm/yr)\n",
      "- Strike-slip rate constraint on dmgbb: rate = -23.00 (mm/yr), 1-sigma uncertainty = +/-11.50 (mm/yr)\n",
      "- Strike-slip rate constraint on rrr: rate = -1.80 (mm/yr), 1-sigma uncertainty = +/-0.90 (mm/yr)\n",
      "- Dip-slip rate constraint on tahoeaabaa: rate = -0.80 (mm/yr), 1-sigma uncertainty = +/-0.50 (mm/yr)\n"
     ]
    }
   ],
   "metadata": {
    "tags": []
   }
  },
  {
   "cell_type": "code",
   "execution_count": 6,
   "source": [
    "success, u, grad_u = dc3dwrapper(0.6, [1.0, 1.0, -1.0], 3.0, 90, [-0.7, 0.7], [-0.7, 0.7], [1.0, 0.0, 0.0]) "
   ],
   "outputs": [],
   "metadata": {}
  },
  {
   "cell_type": "code",
   "execution_count": 7,
   "source": [
    "def get_utm_zone(lon, lat):\n",
    "    \"\"\"\n",
    "    Determine UTM zone for a longitude and latitude point.\n",
    "    From: https://pyproj4.github.io/pyproj/stable/examples.html\n",
    "    Also see: https://pyproj4.github.io/pyproj/stable/api/aoi.html#pyproj.aoi.AreaOfInterest\n",
    "    This appears pretty slow.  Should I consider:\n",
    "    https://github.com/Turbo87/utm\n",
    "    \"\"\"\n",
    "    if lon > 180.0:\n",
    "        lon = lon - 360\n",
    "\n",
    "    utm_crs_list = pyproj.database.query_utm_crs_info(\n",
    "        datum_name=\"WGS 84\",\n",
    "        area_of_interest=pyproj.aoi.AreaOfInterest(\n",
    "            west_lon_degree=lon,\n",
    "            south_lat_degree=lat,\n",
    "            east_lon_degree=lon,\n",
    "            north_lat_degree=lat,\n",
    "        ),\n",
    "    )\n",
    "    utm_zone = utm_crs_list[0].name[-3:]\n",
    "    return utm_zone\n",
    "\n",
    "# function G = GetElasticPartials(F, S)\n",
    "\"\"\"\n",
    "Calculates the elastic displacement partial derivatives based on the Okada\n",
    "formulation, using the source and receiver geometries defined in\n",
    "dicitonaries segment and stations. Before calculating the partials for\n",
    "each segment, a local oblique Mercator project is done.\n",
    "\"\"\"\n",
    "\n",
    "n_stations = len(station)\n",
    "n_segments = len(segment)\n",
    "segment_strike = np.zeros(n_segments)\n",
    "G = np.zeros((3 * n_stations, 3 * n_segments))\n",
    "v1 = np.zeros(n_segments)\n",
    "v2 = np.zeros(n_segments)\n",
    "v3 = np.zeros(n_segments)\n",
    "\n",
    "# Loop through each segment and calculate displacements\n",
    "# parfor (i = 1:nSeg)\n",
    "for i in range(1):\n",
    "    utm_zone = get_utm_zone(segment.mid_lon[i], segment.mid_lat[i])\n",
    "    print(i, utm_zone)\n",
    "#     f = structsubset(F, i);\n",
    "#     % Calculate projected Cartesian coordinates\n",
    "#     [f, s] = ProjectSegCoords(f, S)\n",
    "#     segment_strike[i] = f.strike;\n",
    "\n",
    "#     % Calculate fault parameters in Okada form\n",
    "#     [strike, L, W, ofx, ofy, ofxe, ofye, ...\n",
    "#      tfx, tfy, tfxe, tfye] = fault_params_to_okada_form(f.px1, f.py1, f.px2, f.py2, deg_to_rad(f.dip), f.lDep, f.bDep);\n",
    "\n",
    "#     % Displacements due to unit slip components\n",
    "#     [ves vns vus...\n",
    "#      ved vnd vud...\n",
    "#      vet vnt vut] = okada_partials(ofx, ofy, strike, f.lDep, deg_to_rad(f.dip), L, W, 1, 1, 1, s.fpx, s.fpy, command.poissons_ratio);\n",
    "     \n",
    "#     v1{i} = reshape([ves vns vus]', 3*nSta, 1);\n",
    "#     v2{i} = reshape(sign(90 - f.dip).*[ved vnd vud]', 3*nSta, 1);\n",
    "#     v3{i} = reshape((f.dip - 90 == 0).*[vet vnt vut]', 3*nSta, 1); \n",
    "#     v1{i} = xyz2enumat((v1{i}), -f.strike + 90);\n",
    "#     v2{i} = xyz2enumat((v2{i}), -f.strike + 90);\n",
    "#     v3{i} = xyz2enumat((v3{i}), -f.strike + 90);\n",
    "\n",
    "# Place cell arrays into the partials matrix\n",
    "# G[:, 0::3) = cell2mat(v1)\n",
    "# G[:, 1::3] = cell2mat(v2)\n",
    "# G[:, 2::3] = cell2mat(v3) \n"
   ],
   "outputs": [
    {
     "output_type": "stream",
     "name": "stdout",
     "text": [
      "0 12N\n"
     ]
    }
   ],
   "metadata": {}
  },
  {
   "cell_type": "code",
   "execution_count": 8,
   "source": [
    "# from pyproj import Proj\n",
    "# projection = Proj(proj=\"utm\", zone=32, ellps=\"WGS84\")\n",
    "utm_zone = \"9\"\n",
    "projection = pyproj.Proj(proj=\"utm\", zone=utm_zone, ellps=\"WGS84\")\n",
    "x, y = projection(station.lon, station.lat)\n",
    "recovered_lon, recovered_lat = projection(x, y, inverse=True)\n",
    "recovered_lon[np.where(recovered_lon < 0)] += 360\n",
    "\n",
    "# plt.figure()\n",
    "# plt.plot(station.lon, station.lat, \".r\")\n",
    "# plt.show()\n",
    "\n",
    "# plt.figure()\n",
    "# plt.plot(recovered_lon - station.lon)\n",
    "# plt.show()"
   ],
   "outputs": [],
   "metadata": {}
  },
  {
   "cell_type": "code",
   "execution_count": 31,
   "source": [
    "# Consider https://github.com/Turbo87/utm\n",
    "# Because it has latitude bands which proj does not.\n",
    "\n",
    "# pyproj oblique mercator notes\n",
    "# latitude_projection_centre (float) – Latitude of projection centre (lat_0).\n",
    "# longitude_projection_centre (float) – Longitude of projection centre (lonc).\n",
    "# azimuth_initial_line (float) – Azimuth of initial line (azimuth).\n",
    "# angle_from_rectified_to_skew_grid (float) – Angle from Rectified to Skew Grid (gamma).\n",
    "\n",
    "# The 4th argument is obscure and possibly should always be 90 degrees?\n",
    "# http://geotiff.maptools.org/proj_list/hotine_oblique_mercator.html\n",
    "\n",
    "\n",
    "\n",
    "# Pyproj oblique mercator\n",
    "# https://proj.org/operations/projections/omerc.html\n",
    "# The following two lines work and we're keeping them around for reference\n",
    "# crs = pyproj.CRS.from_proj4(\"+proj=omerc +lon_1=-1 +lat_1=1 +lon_2=0 +lat_2=0 +ellps=WGS84\")\n",
    "# projection = pyproj.Proj(crs)\n",
    "\n",
    "i = 0\n",
    "lon1 = segment.lon1[i]\n",
    "lon2 = segment.lon2[i]\n",
    "lat1 = segment.lat1[i]\n",
    "lat2 = segment.lat2[i]\n",
    "\n",
    "if lon1 > 180.0:\n",
    "    lon1 = lon1 - 360\n",
    "if lon2 > 180.0:\n",
    "    lon2 = lon2 - 360\n",
    "projection_string = (\"+proj=omerc \"\n",
    "                    + \"+lon_1=\" + str(lon1) + \" \"\n",
    "                    + \"+lat_1=\" + str(lat1) + \" \"\n",
    "                    + \"+lon_2=\" + str(lon2) + \" \"\n",
    "                    + \"+lat_2=\" + str(lat2) + \" \"\n",
    "                    + \"+ellps=WGS84\")\n",
    "projection = pyproj.Proj(pyproj.CRS.from_proj4(projection_string))\n",
    "\n",
    "station_lon_projected_x, station_lat_projected_y = projection(station.lon, station.lat)\n",
    "segment_lon1_projected_x, segment_lat1_projected_y = projection(segment.lon1[i], segment.lat1[i])\n",
    "segment_lon2_projected_x, segment_lat2_projected_y = projection(segment.lon2[i], segment.lat2[i])\n",
    "\n",
    "\n",
    "plt.figure()\n",
    "plt.plot(station.lon, station.lat, '.b', markersize=1)\n",
    "plt.plot([segment.lon1[i], segment.lon2[i]], [segment.lat1[i], segment.lat2[i]], \"-r\")\n",
    "plt.show()\n",
    "\n",
    "plt.figure()\n",
    "plt.plot([segment_lon1_projected_x, segment_lon2_projected_x], [segment_lat1_projected_y, segment_lat2_projected_y], \"-r\")\n",
    "plt.plot(station_lon_projected_x, station_lat_projected_y, '.b', markersize=1)\n",
    "plt.show()\n",
    "\n",
    "# p = pyproj.crs.coordinate_operation.HotineObliqueMercatorBConversion(100, 5, 0, 0)\n",
    "# print(type(p))\n",
    "# print(type(projection))\n",
    "# projection(station.lon, station.lat)\n",
    "\n",
    "# According to: https://proj.org/operations/projections/omerc.html\n",
    "# This is this already rotated by the fault strike but the rotation can be undone with +no_rot\n",
    "\"\"\"\n",
    "+no_rot\n",
    "No rectification (not “no rotation” as one may well assume).\n",
    "Do not take the last step from the skew uv-plane to the map XY plane.\n",
    "\n",
    "Note: This option is probably only marginally useful, but remains for (mostly) historical reasons.\n",
    "\"\"\"\n"
   ],
   "outputs": [
    {
     "output_type": "display_data",
     "data": {
      "text/plain": [
       "Canvas(toolbar=Toolbar(toolitems=[('Home', 'Reset original view', 'home', 'home'), ('Back', 'Back to previous …"
      ],
      "application/vnd.jupyter.widget-view+json": {
       "version_major": 2,
       "version_minor": 0,
       "model_id": "89dccf1d377b493dabce796de3d981e5"
      }
     },
     "metadata": {}
    },
    {
     "output_type": "stream",
     "name": "stderr",
     "text": [
      "/var/folders/fl/sm71y44x3tqc7r1wc40k10gc0000gn/T/ipykernel_46792/3880934897.py:49: RuntimeWarning: More than 20 figures have been opened. Figures created through the pyplot interface (`matplotlib.pyplot.figure`) are retained until explicitly closed and may consume too much memory. (To control this warning, see the rcParam `figure.max_open_warning`).\n",
      "  plt.figure()\n"
     ]
    },
    {
     "output_type": "display_data",
     "data": {
      "text/plain": [
       "Canvas(toolbar=Toolbar(toolitems=[('Home', 'Reset original view', 'home', 'home'), ('Back', 'Back to previous …"
      ],
      "application/vnd.jupyter.widget-view+json": {
       "version_major": 2,
       "version_minor": 0,
       "model_id": "e86fc82ce71d432c97333bb2c093ad24"
      }
     },
     "metadata": {}
    },
    {
     "output_type": "execute_result",
     "data": {
      "text/plain": [
       "'\\n+no_rot\\nNo rectification (not “no rotation” as one may well assume).\\nDo not take the last step from the skew uv-plane to the map XY plane.\\n\\nNote: This option is probably only marginally useful, but remains for (mostly) historical reasons.\\n'"
      ]
     },
     "metadata": {},
     "execution_count": 31
    }
   ],
   "metadata": {}
  },
  {
   "cell_type": "code",
   "execution_count": 16,
   "source": [
    "str(lon1)"
   ],
   "outputs": [
    {
     "output_type": "execute_result",
     "data": {
      "text/plain": [
       "'-112.91300000000001'"
      ]
     },
     "metadata": {},
     "execution_count": 16
    }
   ],
   "metadata": {}
  },
  {
   "cell_type": "code",
   "execution_count": null,
   "source": [],
   "outputs": [],
   "metadata": {}
  }
 ],
 "metadata": {
  "interpreter": {
   "hash": "1c99b817e7692020a25f5bce5fd58f988aabefee874a9cd895a1468d49750c9a"
  },
  "kernelspec": {
   "name": "python3",
   "display_name": "Python 3.9.6 64-bit ('celeri': conda)"
  },
  "language_info": {
   "codemirror_mode": {
    "name": "ipython",
    "version": 3
   },
   "file_extension": ".py",
   "mimetype": "text/x-python",
   "name": "python",
   "nbconvert_exporter": "python",
   "pygments_lexer": "ipython3",
   "version": "3.9.6"
  },
  "widgets": {
   "application/vnd.jupyter.widget-state+json": {
    "state": {
     "4d250c5d35aa493295ca814fb3eaa1ee": {
      "model_module": "@jupyter-widgets/base",
      "model_module_version": "1.2.0",
      "model_name": "LayoutModel",
      "state": {}
     },
     "6faf75ca5f3b41388f284e98ec2cf803": {
      "model_module": "jupyter-matplotlib",
      "model_module_version": "^0.9.0",
      "model_name": "ToolbarModel",
      "state": {
       "layout": "IPY_MODEL_9b061db2dc65459ca586b9b9f73c2362",
       "toolitems": [
        [
         "Home",
         "Reset original view",
         "home",
         "home"
        ],
        [
         "Back",
         "Back to previous view",
         "arrow-left",
         "back"
        ],
        [
         "Forward",
         "Forward to next view",
         "arrow-right",
         "forward"
        ],
        [
         "Pan",
         "Left button pans, Right button zooms\nx/y fixes axis, CTRL fixes aspect",
         "arrows",
         "pan"
        ],
        [
         "Zoom",
         "Zoom to rectangle\nx/y fixes axis, CTRL fixes aspect",
         "square-o",
         "zoom"
        ],
        [
         "Download",
         "Download plot",
         "floppy-o",
         "save_figure"
        ]
       ]
      }
     },
     "9b061db2dc65459ca586b9b9f73c2362": {
      "model_module": "@jupyter-widgets/base",
      "model_module_version": "1.2.0",
      "model_name": "LayoutModel",
      "state": {}
     },
     "c25a38234e8f4e818670d9767f95a430": {
      "model_module": "jupyter-matplotlib",
      "model_module_version": "^0.9.0",
      "model_name": "MPLCanvasModel",
      "state": {
       "_cursor": "default",
       "_figure_label": "Figure 1",
       "_height": 708,
       "_width": 1746,
       "layout": "IPY_MODEL_4d250c5d35aa493295ca814fb3eaa1ee",
       "toolbar": "IPY_MODEL_6faf75ca5f3b41388f284e98ec2cf803",
       "toolbar_position": "left"
      }
     }
    },
    "version_major": 2,
    "version_minor": 0
   }
  }
 },
 "nbformat": 4,
 "nbformat_minor": 4
}