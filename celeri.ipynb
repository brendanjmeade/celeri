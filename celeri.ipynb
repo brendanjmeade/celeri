{
 "cells": [
  {
   "cell_type": "code",
   "execution_count": 18,
   "source": [
    "%matplotlib widget\n",
    "%config InlineBackend.figure_format = 'svg'"
   ],
   "outputs": [],
   "metadata": {}
  },
  {
   "cell_type": "code",
   "execution_count": 19,
   "source": [
    "import copy\n",
    "import datetime\n",
    "import os\n",
    "import string\n",
    "import numpy as np\n",
    "import pandas as pd\n",
    "import matplotlib.pyplot as plt\n",
    "from importlib import reload\n",
    "\n",
    "import celeri\n",
    "celeri = reload(celeri)"
   ],
   "outputs": [],
   "metadata": {
    "tags": []
   }
  },
  {
   "cell_type": "code",
   "execution_count": 20,
   "source": [
    "RUN_NAME = datetime.datetime.now().strftime(\"%y%m%d%H%M%S\") + os.sep\n",
    "command_file_name = './data/western_north_america/western_north_america_command.json'\n",
    "command, segment, block, meshes, station, mogi, sar = celeri.read_data(command_file_name)\n",
    "station = celeri.process_station(station, command)\n",
    "segment = celeri.process_segment(segment, command)\n",
    "sar = celeri.process_sar(sar, command)\n",
    "segment, station, block, mogi, sar = celeri.assign_block_labels(segment, station, block, mogi, sar)\n",
    "assembly = celeri.create_assembly_dictionary()\n",
    "assembly = celeri.merge_geodetic_data(assembly, station, sar) "
   ],
   "outputs": [],
   "metadata": {
    "tags": []
   }
  },
  {
   "cell_type": "code",
   "execution_count": 21,
   "source": [
    "# celeri.plot_block_labels(segment, block, station)"
   ],
   "outputs": [],
   "metadata": {}
  },
  {
   "cell_type": "code",
   "execution_count": 22,
   "source": [
    "def euler_pole_covariance_to_rotation_vector_covariance(omega_x, omega_y, omega_z, euler_pole_covariance_all):\n",
    "    \"\"\"\n",
    "    This function takes the model parameter covariance matrix\n",
    "    in terms of the Euler pole and rotation rate and linearly\n",
    "    propagates them to rotation vector space.\n",
    "    \"\"\"\n",
    "    omega_x_sig = np.zeros_like(omega_x)\n",
    "    omega_y_sig = np.zeros_like(omega_y)\n",
    "    omega_z_sig = np.zeros_like(omega_z)\n",
    "\n",
    "    for i in range(len(omega_x)):\n",
    "        x = omega_x[i]\n",
    "        y = omega_y[i]\n",
    "        z = omega_z[i]\n",
    "        # current_idx = 3 * i\n",
    "        # euler_pole_covariance = big_Cov_epoles[current_idx:current_idx + 3 , current_idx:current_idx + 3]\n",
    "        euler_pole_covariance_current = euler_pole_covariance_all[3*i:3*(i+1), 3*i:3*(i+1)]\n",
    "\n",
    "        \"\"\"\n",
    "        There may be cases where x, y and z are all zero.  This leads to /0 errors.  To avoid this  %%\n",
    "        we check for these cases and Let A = b * I where b is a small constant (10^-4) and I is     %%\n",
    "        the identity matrix\n",
    "        \"\"\"\n",
    "        if (x == 0) and (y == 0):\n",
    "            euler_to_cartsian_operator = 1e-4 * np.eye(3)  # Set a default small value for rotation vector uncertainty\n",
    "        else:\n",
    "            # Calculate the partial derivatives\n",
    "            dlat_dx = -z / (x**2 + y**2)**(3/2) / (1 + z**2 / (x**2 + y**2)) * x\n",
    "            dlat_dy = -z / (x**2 + y**2)**(3/2) / (1 + z**2 / (x**2 + y**2)) * y\n",
    "            dlat_dz = 1 / (x**2 + y**2)**(1/2) / (1 + z**2 / (x**2 + y**2))\n",
    "            dlon_dx = -y / x**2 / (1 + (y / x)**2)\n",
    "            dlon_dy = 1 / x / (1 + (y / x)**2)\n",
    "            dlon_dz = 0\n",
    "            dmag_dx = x / np.sqrt(x**2 + y**2 + z**2)\n",
    "            dmag_dy = y / np.sqrt(x**2 + y**2 + z**2)\n",
    "            dmag_dz = z / np.sqrt(x**2 + y**2 + z**2)\n",
    "            euler_to_cartsian_operator = np.array([[dlat_dx, dlat_dy, dlat_dz],\n",
    "                                                   [dlon_dx, dlon_dy, dlon_dz],\n",
    "                                                   [dmag_dx, dmag_dy, dmag_dz]])\n",
    "\n",
    "        # Propagate the Euler pole covariance matrix to a rotation rate\n",
    "        # covariance matrix\n",
    "        rotation_vector_covariance = np.inv(euler_to_cartsian_operator) * euler_pole_covariance_current * np.inv(euler_to_cartsian_operator).T\n",
    "\n",
    "        # Organized data for the return\n",
    "        main_diagonal_values = np.diag(rotation_vector_covariance)\n",
    "        omega_x_sig[i] = np.sqrt(main_diagonal_values[0])\n",
    "        omega_y_sig[i] = np.sqrt(main_diagonal_values[1])\n",
    "        omega_z_sig[i] = np.sqrt(main_diagonal_values[2])\n",
    "    return omega_x_sig, omega_y_sig, omega_z_sig\n",
    "\n",
    "\n",
    "def get_block_constraint_partials(block):\n",
    "    \"\"\"\n",
    "    Partials for a priori block motion constraints.\n",
    "    Essentially a set of eye(3) matrices\n",
    "    \"\"\"\n",
    "    apriori_block_idx = np.where(block.apriori_flag.to_numpy() == 1)[0]\n",
    "    print(apriori_block_idx)\n",
    "    operator = np.zeros((3 * len(apriori_block_idx), 3 * len(block)))\n",
    "    for i in range(len(apriori_block_idx)):\n",
    "        start_row = 3 * i\n",
    "        start_column = 3 * apriori_block_idx[i]\n",
    "        operator[start_row:start_row+3, start_column:start_column+3] = np.eye(3)\n",
    "    return operator\n",
    "\n",
    "\n",
    "def block_constraints(assembly, block, command):\n",
    "    \"\"\"\n",
    "    Applying a priori block motion constraints\n",
    "    \"\"\"\n",
    "    block_constraint_partials = get_block_constraint_partials(block)\n",
    "    assembly[\"index\"][\"block_constraints_idx\"] = np.where(block.apriori_flag.to_numpy == 1)[0]\n",
    "    assembly[\"data\"][\"n_block_constraints\"] = 3 * len(assembly[\"index\"][\"block_constraints_idx\"])\n",
    "    print(block_constraint_partials.shape[0])\n",
    "    assembly[\"data\"][\"block_constraints\"] = np.zeros(block_constraint_partials.shape[0])\n",
    "    assembly[\"sigma\"][\"block_constraints\"] = np.zeros(block_constraint_partials.shape[0])\n",
    "    if assembly[\"data\"][\"n_block_constraints\"] > 0:\n",
    "        (\n",
    "            assembly[\"data\"][\"block_constraints\"][0::3],\n",
    "            assembly[\"data\"][\"block_constraints\"][1::3],\n",
    "            assembly[\"data\"][\"block_constraints\"][2::3],\n",
    "        ) = celeri.sph2cart(\n",
    "            np.deg2rad(block.euler_lon[assembly[\"index\"][\"block_constraints_idx\"]]),\n",
    "            np.deg2rad(block.euler_lat[assembly[\"index\"][\"block_constraints_idx\"]]),\n",
    "            np.deg2rad(block.rotation_rate[assembly[\"index\"][\"block_constraints_idx\"]]),\n",
    "        )\n",
    "\n",
    "        euler_pole_covariance_all = np.diag(np.concatenate((np.deg2rad(block.eulerLatSig[assembly[\"index\"][\"block_constraints_idx\"]]),\n",
    "                                                            np.deg2rad(block.eulerLonSig[assembly[\"index\"][\"block_constraints_idx\"]]),\n",
    "                                                            np.deg2rad(block.rotationRateSig[assembly[\"index\"][\"block_constraints_idx\"]]))))\n",
    "        (\n",
    "            assembly[\"sigma\"][\"block_constraints\"][0::3],\n",
    "            assembly[\"sigma\"][\"block_constraints\"][1::3],\n",
    "            assembly[\"sigma\"][\"block_constraints\"][2::3],\n",
    "        ) = euler_pole_covariance_to_rotation_vector_covariance(\n",
    "            assembly[\"data\"][\"block_constraints\"][0::3],\n",
    "            assembly[\"data\"][\"block_constraints\"][1::3],\n",
    "            assembly[\"data\"][\"block_constraints\"][2::3],\n",
    "            np.diag(euler_pole_covariance_all)\n",
    "        )\n",
    "\n",
    "    assembly[\"sigma\"][\"sigma.block_constraint_weight\"] = command[\"block_constraint_weight\"]\n",
    "    return assembly, block_constraint_partials \n",
    "\n",
    "assembly, block_constraint_partials = block_constraints(assembly, block, command)"
   ],
   "outputs": [
    {
     "output_type": "stream",
     "name": "stdout",
     "text": [
      "[29]\n",
      "3\n"
     ]
    }
   ],
   "metadata": {}
  },
  {
   "cell_type": "code",
   "execution_count": 49,
   "source": [
    "a = np.array([[1, 2, 3],[4, 5, 6,],[7, 8, 9]])\n",
    "print(a)\n",
    "print(np.diag(a))\n",
    "print(np.diag(np.diag(a)))\n",
    "\n"
   ],
   "outputs": [
    {
     "output_type": "stream",
     "name": "stdout",
     "text": [
      "[[1 2 3]\n",
      " [4 5 6]\n",
      " [7 8 9]]\n",
      "[1 5 9]\n",
      "[[1 0 0]\n",
      " [0 5 0]\n",
      " [0 0 9]]\n"
     ]
    }
   ],
   "metadata": {}
  },
  {
   "cell_type": "code",
   "execution_count": 46,
   "source": [
    "b = zip(*a[:])"
   ],
   "outputs": [],
   "metadata": {}
  },
  {
   "cell_type": "code",
   "execution_count": 47,
   "source": [
    "print(b)"
   ],
   "outputs": [
    {
     "output_type": "stream",
     "name": "stdout",
     "text": [
      "<zip object at 0x7fd1f135d400>\n"
     ]
    }
   ],
   "metadata": {}
  },
  {
   "cell_type": "code",
   "execution_count": null,
   "source": [],
   "outputs": [],
   "metadata": {}
  }
 ],
 "metadata": {
  "interpreter": {
   "hash": "749f0fc94df05971c9b3f3660cf19264b2aeee03fc6d4bf75e86fd251d69cf68"
  },
  "kernelspec": {
   "name": "python3",
   "display_name": "Python 3.8.8 64-bit ('base': conda)"
  },
  "language_info": {
   "codemirror_mode": {
    "name": "ipython",
    "version": 3
   },
   "file_extension": ".py",
   "mimetype": "text/x-python",
   "name": "python",
   "nbconvert_exporter": "python",
   "pygments_lexer": "ipython3",
   "version": "3.8.8"
  },
  "widgets": {
   "application/vnd.jupyter.widget-state+json": {
    "state": {},
    "version_major": 2,
    "version_minor": 0
   }
  }
 },
 "nbformat": 4,
 "nbformat_minor": 4
}