{
 "cells": [
  {
   "cell_type": "code",
   "execution_count": 13,
   "source": [
    "%matplotlib widget\n",
    "%config InlineBackend.figure_format = 'svg'"
   ],
   "outputs": [],
   "metadata": {}
  },
  {
   "cell_type": "code",
   "execution_count": 14,
   "source": [
    "import copy\n",
    "import datetime\n",
    "import os\n",
    "import string\n",
    "import numpy as np\n",
    "import pandas as pd\n",
    "import matplotlib.pyplot as plt\n",
    "from importlib import reload\n",
    "\n",
    "import celeri\n",
    "celeri = reload(celeri)"
   ],
   "outputs": [],
   "metadata": {
    "tags": []
   }
  },
  {
   "cell_type": "code",
   "execution_count": 47,
   "source": [
    "RUN_NAME = datetime.datetime.now().strftime(\"%y%m%d%H%M%S\") + os.sep\n",
    "command_file_name = './data/western_north_america/western_north_america_command.json'\n",
    "command, segment, block, station, mogi, sar = celeri.read_data(command_file_name)\n",
    "station = celeri.process_station(station, command)\n",
    "segment = celeri.process_segment(segment, command)\n",
    "sar = celeri.process_sar(sar, command)\n",
    "segment, station, block, mogi, sar = celeri.assign_block_labels(segment, station, block, mogi, sar)\n",
    "assembly = celeri.create_assembly_dictionary()\n",
    "assembly = celeri.merge_geodetic_data(assembly, station, sar) "
   ],
   "outputs": [],
   "metadata": {
    "tags": []
   }
  },
  {
   "cell_type": "code",
   "execution_count": 48,
   "source": [
    "# celeri.plot_block_labels(segment, block, station)"
   ],
   "outputs": [],
   "metadata": {}
  },
  {
   "cell_type": "code",
   "execution_count": 51,
   "source": [
    "def get_block_constraint_partials(block):\n",
    "    \"\"\"\n",
    "    Partials for a priori block motion constraints.\n",
    "    Essentially a set of eye(3) matrices\n",
    "    \"\"\"\n",
    "    apriori_block_idx = np.where(block.apriori_flag.to_numpy() == 1)[0]\n",
    "    print(apriori_block_idx)\n",
    "    operator = np.zeros((3 * len(apriori_block_idx), 3 * len(block)))\n",
    "    for i in range(len(apriori_block_idx)):\n",
    "        start_row = 3 * i\n",
    "        start_column = 3 * apriori_block_idx[i]\n",
    "        operator[start_row:start_row+3, start_column:start_column+3] = np.eye(3)\n",
    "    return operator\n",
    "\n",
    "\n",
    "def block_constraints(assembly, block, command):\n",
    "    \"\"\"\n",
    "    Applying a priori block motion constraints\n",
    "    \"\"\"\n",
    "    block_constraint_partials = get_block_constraint_partials(block)\n",
    "    assembly[\"index\"][\"block_constraints_idx\"] = np.where(block.apriori_flag.to_numpy == 1)[0]\n",
    "    assembly[\"data\"][\"n_block_constraints\"] = 3 * len(assembly[\"index\"][\"block_constraints_idx\"])\n",
    "    print(block_constraint_partials.shape[0])\n",
    "    assembly[\"data\"][\"block_constraints\"] = np.zeros(block_constraint_partials.shape[0])\n",
    "    assembly[\"sigma\"][\"block_constraints\"] = np.zeros(block_constraint_partials.shape[0])\n",
    "    if assembly[\"data\"][\"n_block_constraints\"] > 0:\n",
    "        (\n",
    "            assembly[\"data\"][\"block_constraints\"][0::3],\n",
    "            assembly[\"data\"][\"block_constraints\"][1::3],\n",
    "            assembly[\"data\"][\"block_constraints\"][2::3],\n",
    "        ) = celeri.sph2cart(\n",
    "            np.deg2rad(block.euler_lon[assembly[\"index\"][\"block_constraints_idx\"]]),\n",
    "            np.deg2rad(block.euler_lat[assembly[\"index\"][\"block_constraints_idx\"]]),\n",
    "            np.deg2rad(block.rotation_rate[assembly[\"index\"][\"block_constraints_idx\"]]),\n",
    "        )\n",
    "\n",
    "    #    apbcov = stack3([deg_to_rad(Block.eulerLatSig(Index.blockCon)), deg_to_rad(Block.eulerLonSig(Index.blockCon)), deg_to_rad(Block.rotationRateSig(Index.blockCon))])\n",
    "    #    apbsx, apbsy, apbsz = epoles_cov_to_omega_cov(apbx, apby, apbz, diag(apbcov))\n",
    "    #    sigma.block_constraints[0::3] = apbsx\n",
    "    #    sigma.block_constraints[1::3] = apbsy\n",
    "    #    sigma.block_constraints[2::3] = apbsz\n",
    "\n",
    "    assembly[\"sigma\"][\"sigma.block_constraint_weight\"] = command[\"block_constraint_weight\"]\n",
    "    return assembly, block_constraint_partials \n",
    "\n",
    "assembly, block_constraint_partials = block_constraints(assembly, block, command)"
   ],
   "outputs": [
    {
     "output_type": "stream",
     "name": "stdout",
     "text": [
      "[29]\n",
      "3\n"
     ]
    }
   ],
   "metadata": {}
  },
  {
   "cell_type": "code",
   "execution_count": 32,
   "source": [
    "n_blocks = 3\n",
    "apriori_block_idx = [0, 2]\n",
    "operator = np.zeros((3 * len(apriori_block_idx), 3 * n_blocks))\n",
    "for i in range(len(apriori_block_idx)):\n",
    "    start_row = 3 * i\n",
    "    start_column = 3 * apriori_block_idx[i]\n",
    "    operator[start_row:start_row+3, start_column:start_column+3] = np.eye(3)\n",
    "print(operator)"
   ],
   "outputs": [
    {
     "output_type": "stream",
     "name": "stdout",
     "text": [
      "[[1. 0. 0. 0. 0. 0. 0. 0. 0.]\n",
      " [0. 1. 0. 0. 0. 0. 0. 0. 0.]\n",
      " [0. 0. 1. 0. 0. 0. 0. 0. 0.]\n",
      " [0. 0. 0. 0. 0. 0. 1. 0. 0.]\n",
      " [0. 0. 0. 0. 0. 0. 0. 1. 0.]\n",
      " [0. 0. 0. 0. 0. 0. 0. 0. 1.]]\n"
     ]
    }
   ],
   "metadata": {}
  },
  {
   "cell_type": "code",
   "execution_count": 45,
   "source": [
    "command.keys()"
   ],
   "outputs": [
    {
     "output_type": "execute_result",
     "data": {
      "text/plain": [
       "dict_keys(['file_name', 'reuse_elastic', 'reuse_elastic_file', 'save_kernels', 'poissons_ratio', 'unit_sigmas', 'locking_depth_flag2', 'locking_depth_flag3', 'locking_depth_flag4', 'locking_depth_flag5', 'locking_depth_override_flag', 'locking_depth_overide_value', 'apriori_block_name', 'patch_file_names', 'tri_smooth', 'pmag_tri_smooth', 'smooth_type', 'n_iterations', 'tri_edge', 'tri_depth_tolerance', 'tri_con_weight', 'strain_method', 'sar_file_name', 'sar_ramp', 'sar_weight', 'tri_slip_constraint_type', 'inversion_type', 'inversion_param01', 'inversion_param02', 'inversion_param03', 'inversion_param04', 'inversion_param05', 'dump_all', 'mogi_file_name', 'solution_method', 'ridge_param', 'tri_full_coupling', 'tvr_lambda', 'tri_slip_sign', 'n_eigs', 'segment_file_name', 'station_file_name', 'block_file_name', 'fault_resolution', 'station_data_weight', 'station_data_weight_min', 'station_data_weight_max', 'station_data_weight_steps', 'slip_con_weight', 'slip_con_weight_min', 'slip_con_weight_max', 'slip_con_weight_steps', 'block_con_weight', 'block_con_weight_min', 'block_con_weight_max', 'block_con_weight_steps', 'slip_file_names'])"
      ]
     },
     "metadata": {},
     "execution_count": 45
    }
   ],
   "metadata": {}
  },
  {
   "cell_type": "code",
   "execution_count": null,
   "source": [],
   "outputs": [],
   "metadata": {}
  }
 ],
 "metadata": {
  "interpreter": {
   "hash": "749f0fc94df05971c9b3f3660cf19264b2aeee03fc6d4bf75e86fd251d69cf68"
  },
  "kernelspec": {
   "name": "python3",
   "display_name": "Python 3.8.8 64-bit ('base': conda)"
  },
  "language_info": {
   "codemirror_mode": {
    "name": "ipython",
    "version": 3
   },
   "file_extension": ".py",
   "mimetype": "text/x-python",
   "name": "python",
   "nbconvert_exporter": "python",
   "pygments_lexer": "ipython3",
   "version": "3.8.8"
  },
  "widgets": {
   "application/vnd.jupyter.widget-state+json": {
    "state": {},
    "version_major": 2,
    "version_minor": 0
   }
  }
 },
 "nbformat": 4,
 "nbformat_minor": 4
}