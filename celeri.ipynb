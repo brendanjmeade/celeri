{
 "cells": [
  {
   "cell_type": "code",
   "execution_count": 38,
   "metadata": {
    "execution": {
     "iopub.execute_input": "2021-08-22T18:29:51.661926Z",
     "iopub.status.busy": "2021-08-22T18:29:51.661659Z",
     "iopub.status.idle": "2021-08-22T18:29:51.956035Z",
     "shell.execute_reply": "2021-08-22T18:29:51.955292Z",
     "shell.execute_reply.started": "2021-08-22T18:29:51.661900Z"
    },
    "tags": []
   },
   "outputs": [],
   "source": [
    "%matplotlib widget\n",
    "%config InlineBackend.figure_format = \"svg\"\n",
    "\n",
    "import addict\n",
    "import copy\n",
    "import numpy as np\n",
    "import pandas as pd\n",
    "import matplotlib.pyplot as plt\n",
    "from importlib import reload\n",
    "from tqdm.notebook import tqdm\n",
    "from typing import List, Dict, Tuple\n",
    "\n",
    "import celeri\n",
    "celeri = reload(celeri)\n",
    "\n",
    "plt.rcParams[\"text.usetex\"] = False # Plotting the global model is much much faster with tex fonts turned off"
   ]
  },
  {
   "cell_type": "markdown",
   "metadata": {},
   "source": [
    "# Read in data files, create storage dictionaries, and do basic processing"
   ]
  },
  {
   "cell_type": "code",
   "execution_count": 39,
   "metadata": {
    "execution": {
     "iopub.execute_input": "2021-08-22T18:29:53.570589Z",
     "iopub.status.busy": "2021-08-22T18:29:53.570331Z",
     "iopub.status.idle": "2021-08-22T18:30:09.817977Z",
     "shell.execute_reply": "2021-08-22T18:30:09.817443Z",
     "shell.execute_reply.started": "2021-08-22T18:29:53.570561Z"
    },
    "tags": []
   },
   "outputs": [
    {
     "name": "stderr",
     "output_type": "stream",
     "text": [
      "WARNING:root:The file contains tag data that couldn't be processed.\n"
     ]
    }
   ],
   "source": [
    "command_file_name = \"./data/western_north_america/basic_command.json\"\n",
    "command, segment, block, meshes, station, mogi, sar = celeri.read_data(command_file_name)\n",
    "station = celeri.process_station(station, command)\n",
    "segment = celeri.process_segment(segment, command, meshes)\n",
    "sar = celeri.process_sar(sar, command)\n",
    "closure, block = celeri.assign_block_labels(segment, station, block, mogi, sar)\n",
    "assembly = addict.Dict()\n",
    "operators = addict.Dict()\n",
    "operators.meshes = [addict.Dict()] * len(meshes)\n",
    "assembly = celeri.merge_geodetic_data(assembly, station, sar) # Not sure this works correctly"
   ]
  },
  {
   "cell_type": "markdown",
   "metadata": {},
   "source": [
    "# Get elastic operators and TDE smoothing operators"
   ]
  },
  {
   "cell_type": "code",
   "execution_count": 40,
   "metadata": {},
   "outputs": [],
   "source": [
    "# Get all elastic operators for segments and TDEs\n",
    "celeri.get_elastic_operators(operators, meshes, segment, station, command)\n",
    "\n",
    "# Get TDE smoothing operators\n",
    "celeri.get_all_mesh_smoothing_matrices(meshes, operators)\n",
    "celeri.get_all_mesh_smoothing_matrices_simple(meshes, operators)"
   ]
  },
  {
   "cell_type": "markdown",
   "metadata": {},
   "source": [
    "# Calculate non-elastic operators"
   ]
  },
  {
   "cell_type": "code",
   "execution_count": 41,
   "metadata": {
    "tags": []
   },
   "outputs": [],
   "source": [
    "# Build all linear kinematic operators\n",
    "operators.rotation_to_velocities = celeri.get_block_rotation_operator(station)\n",
    "operators.global_float_block_rotation = celeri.get_global_float_block_rotation_operator(station)\n",
    "assembly, operators.block_motion_constraints = celeri.block_constraints(assembly, block, command)\n",
    "assembly, operators.slip_rate_constraints = celeri.slip_rate_constraints(assembly, segment, block, command)\n",
    "operators.rotation_to_slip_rate = celeri.get_fault_slip_rate_partials(segment, block)\n",
    "operators.block_strain_rate_to_velocities, strain_rate_block_index = celeri.get_strain_rate_centroid_operator(block, station, segment)\n",
    "operators.mogi_to_velocities = celeri.get_mogi_operator(mogi, station, command)"
   ]
  },
  {
   "cell_type": "markdown",
   "metadata": {},
   "source": [
    "# Sketching out the assembly of the block model system\n",
    "\n",
    "$$\n",
    "\\begin{bmatrix}\n",
    "    \\mathrm{geodetic \\; velocities} \\\\\n",
    "    \\mathrm{plate \\; rotation \\; constraints} \\\\\n",
    "    \\mathrm{slip \\; rate \\; constraints} \\\\\n",
    "    \\mathrm{TDE \\; rate \\; constraints} \\\\\n",
    "    \\mathrm{TDE \\; smoothing \\; pseudodata = 0} \\\\\n",
    "    \\mathrm{InSAR \\; LOS \\; changes} \n",
    "\\end{bmatrix}\n",
    "=\n",
    "\\begin{bmatrix}\n",
    "    \\mathrm{(rotations-elastic \\; segments) \\; to \\; velocities} & \\mathrm{TDEs \\; to \\; velocities} & \\mathrm{block \\; strain \\; rate \\; to \\; velocities} & \\mathrm{Mogi \\; to \\; velocities}\\\\\n",
    "    \\mathrm{identities}                                          & 0                                   & 0                                & 0\\\\\n",
    "    \\mathrm{plate \\; rotations \\; to \\; slip \\; rates}           & 0                                   & 0                                & 0\\\\\n",
    "    0                                                            & \\mathrm{identities}                 & 0                                & 0\\\\\n",
    "    0                                                            & \\mathrm{TDE \\; smoothing \\; matrix} & 0                                & 0\\\\\n",
    "    \\mathrm{(rotations-elastic \\; segments) \\; to \\; LOS}        & \\mathrm{TDEs \\; to \\; LOS}          & \\mathrm{block \\; strain \\; rate \\; to \\; velocities}  & \\mathrm{Mogi \\; to \\; LOS}\n",
    "\\end{bmatrix}\n",
    "\\begin{bmatrix}\n",
    "    \\mathrm{plate \\; rotation \\; rates} \\\\\n",
    "    \\mathrm{TDE \\; slip \\; rates} \\\\\n",
    "    \\mathrm{block \\; strain \\; rates} \\\\\n",
    "    \\mathrm{Mogi \\; sources} \n",
    "\\end{bmatrix}\n",
    "$$"
   ]
  },
  {
   "cell_type": "markdown",
   "metadata": {},
   "source": [
    "# Block model with block rotations, fully locked segments and partially locked subduction zone using the full tde_matrix and smoothing matrix"
   ]
  },
  {
   "cell_type": "code",
   "execution_count": 42,
   "metadata": {},
   "outputs": [
    {
     "name": "stdout",
     "output_type": "stream",
     "text": [
      "Slip rate constraints\n",
      "(0, 93)\n",
      "(0,)\n"
     ]
    }
   ],
   "source": [
    "# TODO: What should this converstion be?\n",
    "DEG_PER_MYR_TO_RAD_PER_YR = np.deg2rad(1) / 1e6\n",
    "DEG_PER_MYR_TO_RAD_PER_YR = 1 / 1e6\n",
    "\n",
    "\n",
    "# Create dictionary to store indices and sizes for operator building\n",
    "# TODO: Calculate total estimateion rows and columns\n",
    "# TODO: Loop over every mesh\n",
    "# TODO: Add space for slip rate constraints\n",
    "index = addict.Dict()\n",
    "index.n_stations = assembly.data.n_stations\n",
    "index.vertical_velocities = np.arange(2, 3 * index.n_stations, 3)\n",
    "index.n_blocks = len(block)\n",
    "index.n_block_constraints = assembly.data.n_block_constraints\n",
    "index.meshes = [addict.Dict()] * len(meshes)\n",
    "for i in range(len(meshes)):\n",
    "    index.meshes[i].n_tde = meshes[0].n_tde\n",
    "\n",
    "# index.meshes[0].start_tde_col = 0\n",
    "# index.meshes[0].end_tde_col = 0\n",
    "# index.meshes[0].start_tde_eigs_col = 0\n",
    "# index.meshes[0].end_tde_eig_col = 0\n",
    "index.station_row_keep_index = celeri.get_keep_index_12(3 * len(station))\n",
    "index.start_station_row = 0\n",
    "index.end_station_row = 2 * len(station)\n",
    "index.start_block_col = 0\n",
    "index.end_block_col = 3 * len(block)\n",
    "index.start_block_constraints_row = index.end_station_row\n",
    "index.end_block_constraints_row = index.start_block_constraints_row + 3 * index.n_block_constraints\n",
    "\n",
    "print(\"Slip rate constraints\")\n",
    "print(operators.slip_rate_constraints.shape)\n",
    "print(assembly.data.slip_rate_constraints.shape)\n",
    "index.start_slip_rate_constraints_row = 0\n",
    "index.end_slip_rate_constraints_row = 0\n",
    "\n",
    "index.start_tde_col = index.end_block_col\n",
    "index.end_tde_col = index.start_tde_col + 2 * index.meshes[0].n_tde\n",
    "index.start_tde_smoothing_row = index.end_block_constraints_row\n",
    "index.end_tde_smoothing_row = index.start_tde_smoothing_row + 2 * index.meshes[0].n_tde\n",
    "\n",
    "# Initialize and build data vector\n",
    "estimation = addict.Dict()\n",
    "estimation.data_vector = np.zeros(2 * index.n_stations + 3 * index.n_block_constraints + 2 * index.meshes[0].n_tde)\n",
    "\n",
    "# Add GPS stations to data vector\n",
    "estimation.data_vector[index.start_station_row:index.end_station_row] = celeri.interleave2(assembly.data.east_vel, assembly.data.north_vel)\n",
    "\n",
    "# Add block motion constraints to data vector\n",
    "estimation.data_vector[index.start_block_constraints_row:index.end_block_constraints_row] = DEG_PER_MYR_TO_RAD_PER_YR * assembly.data.block_constraints\n",
    "\n",
    "# Initialize linear operator\n",
    "estimation.operator = np.zeros((2 * index.n_stations + 3 * index.n_block_constraints + 2 * index.meshes[0].n_tde,\n",
    "                                3 * index.n_blocks + 2 * index.meshes[0].n_tde))\n",
    "\n",
    "# Insert block rotations and elastic velocities from fully locked segments\n",
    "operators.rotation_to_slip_rate_to_okada_to_velocities = operators.slip_rate_to_okada_to_velocities @ operators.rotation_to_slip_rate\n",
    "estimation.operator[index.start_station_row:index.end_station_row, index.start_block_col:index.end_block_col] = operators.rotation_to_velocities[index.station_row_keep_index, :] - operators.rotation_to_slip_rate_to_okada_to_velocities[index.station_row_keep_index, :]\n",
    "\n",
    "# Insert block motion constraints\n",
    "estimation.operator[index.start_block_constraints_row:index.end_block_constraints_row, index.start_block_col:index.end_block_col] = operators.block_motion_constraints\n",
    "\n",
    "# Insert TDE to velocity matrix\n",
    "tde_keep_row_index = celeri.get_keep_index_12(operators.meshes[0].tde_to_velocities.shape[0])\n",
    "tde_keep_col_index = celeri.get_keep_index_12(operators.meshes[0].tde_to_velocities.shape[1])\n",
    "estimation.operator[index.start_station_row:index.end_station_row, index.start_tde_col:index.end_tde_col] = operators.meshes[0].tde_to_velocities[tde_keep_row_index, :][:, tde_keep_col_index]\n",
    "\n",
    "# Insert TDE smoothing matrix\n",
    "smoothing_keep_index = celeri.get_keep_index_12(operators.meshes[0].smoothing_matrix.shape[0])\n",
    "estimation.operator[index.start_tde_smoothing_row:index.end_tde_smoothing_row, index.start_tde_col:index.end_tde_col] = meshes[0].smoothing_weight * operators.meshes[0].smoothing_matrix.toarray()[smoothing_keep_index, :][:, smoothing_keep_index]\n",
    "\n",
    "# Solve the overdetermined linear system\n",
    "estimation.state_covariance_matrix = np.linalg.inv(estimation.operator.T @ estimation.operator)\n",
    "estimation.state_vector = estimation.state_covariance_matrix @ estimation.operator.T @ estimation.data_vector\n",
    "celeri.post_process_estimation(estimation, operators, station, index)"
   ]
  },
  {
   "cell_type": "markdown",
   "metadata": {},
   "source": [
    "# Plot model summary "
   ]
  },
  {
   "cell_type": "code",
   "execution_count": 43,
   "metadata": {},
   "outputs": [
    {
     "data": {
      "application/vnd.jupyter.widget-view+json": {
       "model_id": "87b29f1dba0a4de89068408d5f3ad255",
       "version_major": 2,
       "version_minor": 0
      },
      "text/plain": [
       "Canvas(toolbar=Toolbar(toolitems=[('Home', 'Reset original view', 'home', 'home'), ('Back', 'Back to previous …"
      ]
     },
     "metadata": {},
     "output_type": "display_data"
    }
   ],
   "source": [
    "celeri.plot_estimation_summary(segment, station, estimation, lon_range=(225, 250), lat_range=(30, 52), quiver_scale=1e2)"
   ]
  },
  {
   "cell_type": "code",
   "execution_count": 44,
   "metadata": {},
   "outputs": [
    {
     "data": {
      "application/vnd.jupyter.widget-view+json": {
       "model_id": "f9b007a3018d4d17a70393a4b1d142e3",
       "version_major": 2,
       "version_minor": 0
      },
      "text/plain": [
       "Canvas(toolbar=Toolbar(toolitems=[('Home', 'Reset original view', 'home', 'home'), ('Back', 'Back to previous …"
      ]
     },
     "metadata": {},
     "output_type": "display_data"
    }
   ],
   "source": [
    "operator_eps = copy.deepcopy(estimation.operator) + 1e-10\n",
    "plt.figure(figsize=(10, 10))\n",
    "plt.imshow(np.log10(np.abs(operator_eps)), cmap=\"plasma_r\")\n",
    "plt.colorbar()\n",
    "plt.show()"
   ]
  },
  {
   "cell_type": "code",
   "execution_count": 45,
   "metadata": {},
   "outputs": [
    {
     "data": {
      "application/vnd.jupyter.widget-view+json": {
       "model_id": "0541996d312e45c3b467e295ac05da57",
       "version_major": 2,
       "version_minor": 0
      },
      "text/plain": [
       "Canvas(toolbar=Toolbar(toolitems=[('Home', 'Reset original view', 'home', 'home'), ('Back', 'Back to previous …"
      ]
     },
     "metadata": {},
     "output_type": "display_data"
    },
    {
     "name": "stdout",
     "output_type": "stream",
     "text": [
      "(7057,)\n"
     ]
    },
    {
     "name": "stderr",
     "output_type": "stream",
     "text": [
      "/var/folders/fl/sm71y44x3tqc7r1wc40k10gc0000gn/T/ipykernel_28731/2793890868.py:2: RuntimeWarning: divide by zero encountered in log10\n",
      "  plt.plot(np.log10(np.abs(estimation.data_vector)), \"rx\")\n"
     ]
    }
   ],
   "source": [
    "plt.figure()\n",
    "plt.plot(np.log10(np.abs(estimation.data_vector)), \"rx\")\n",
    "plt.show()\n",
    "print(estimation.data_vector.shape)"
   ]
  },
  {
   "cell_type": "code",
   "execution_count": 46,
   "metadata": {},
   "outputs": [
    {
     "data": {
      "text/plain": [
       "(0, 93)"
      ]
     },
     "execution_count": 46,
     "metadata": {},
     "output_type": "execute_result"
    }
   ],
   "source": [
    "operators.slip_rate_constraints.shape"
   ]
  },
  {
   "cell_type": "code",
   "execution_count": 47,
   "metadata": {},
   "outputs": [
    {
     "data": {
      "application/vnd.jupyter.widget-view+json": {
       "model_id": "fb4d792bc7ef4d6d97acf4798a90ef15",
       "version_major": 2,
       "version_minor": 0
      },
      "text/plain": [
       "Canvas(toolbar=Toolbar(toolitems=[('Home', 'Reset original view', 'home', 'home'), ('Back', 'Back to previous …"
      ]
     },
     "metadata": {},
     "output_type": "display_data"
    },
    {
     "data": {
      "text/plain": [
       "Index(['name', 'lon1', 'lat1', 'lon2', 'lat2', 'dip', 'res', 'other3',\n",
       "       'other6', 'other7', 'other8', 'other9', 'other10', 'other11', 'other12',\n",
       "       'locking_depth', 'locking_depth_sig', 'locking_depth_flag', 'dip_sig',\n",
       "       'dip_flag', 'ss_rate', 'ss_rate_sig', 'ss_rate_flag', 'ds_rate',\n",
       "       'ds_rate_sig', 'ds_rate_flag', 'ts_rate', 'ts_rate_sig', 'ts_rate_flag',\n",
       "       'burial_depth', 'burial_depth_sig', 'burial_depth_flag',\n",
       "       'resolution_override', 'resolution_other', 'patch_file_name',\n",
       "       'patch_flag', 'patch_slip_file', 'patch_slip_flag', 'length', 'x1',\n",
       "       'y1', 'z1', 'x2', 'y2', 'z2', 'mid_lon_plate_carree',\n",
       "       'mid_lat_plate_carree', 'mid_lon', 'mid_lat', 'mid_x', 'mid_y', 'mid_z',\n",
       "       'centroid_x', 'centroid_y', 'centroid_z', 'centroid_lon',\n",
       "       'centroid_lat', 'west_labels', 'east_labels'],\n",
       "      dtype='object')"
      ]
     },
     "execution_count": 47,
     "metadata": {},
     "output_type": "execute_result"
    }
   ],
   "source": [
    "plt.figure(figsize=(10, 5))\n",
    "plt.subplot(1, 3, 1)\n",
    "plt.title(\"strike-slip constraints\")\n",
    "plt.plot(segment.ss_rate_flag, \"rx\")\n",
    "plt.subplot(1, 3, 2)\n",
    "plt.title(\"dip-slip constraints \\n should this be tensile?\")\n",
    "plt.plot(segment.ds_rate_flag, \"bs\")\n",
    "plt.subplot(1, 3, 3)\n",
    "plt.title(\"tensile-slip constraints \\n should this be dip slip?\")\n",
    "plt.plot(segment.ts_rate_flag, \"go\")\n",
    "plt.show()\n",
    "segment.keys()"
   ]
  },
  {
   "cell_type": "code",
   "execution_count": null,
   "metadata": {},
   "outputs": [],
   "source": []
  }
 ],
 "metadata": {
  "interpreter": {
   "hash": "b49ecae73d9755d1e6525bca8f2b993ba748c0e2e7c79677d2e15f06ac3538b9"
  },
  "kernelspec": {
   "display_name": "Python 3.9.6 64-bit ('celeri': conda)",
   "name": "python3"
  },
  "language_info": {
   "codemirror_mode": {
    "name": "ipython",
    "version": 3
   },
   "file_extension": ".py",
   "mimetype": "text/x-python",
   "name": "python",
   "nbconvert_exporter": "python",
   "pygments_lexer": "ipython3",
   "version": "3.9.6"
  },
  "widgets": {
   "application/vnd.jupyter.widget-state+json": {
    "state": {
     "4d250c5d35aa493295ca814fb3eaa1ee": {
      "model_module": "@jupyter-widgets/base",
      "model_module_version": "1.2.0",
      "model_name": "LayoutModel",
      "state": {}
     },
     "6faf75ca5f3b41388f284e98ec2cf803": {
      "model_module": "jupyter-matplotlib",
      "model_module_version": "^0.9.0",
      "model_name": "ToolbarModel",
      "state": {
       "layout": "IPY_MODEL_9b061db2dc65459ca586b9b9f73c2362",
       "toolitems": [
        [
         "Home",
         "Reset original view",
         "home",
         "home"
        ],
        [
         "Back",
         "Back to previous view",
         "arrow-left",
         "back"
        ],
        [
         "Forward",
         "Forward to next view",
         "arrow-right",
         "forward"
        ],
        [
         "Pan",
         "Left button pans, Right button zooms\nx/y fixes axis, CTRL fixes aspect",
         "arrows",
         "pan"
        ],
        [
         "Zoom",
         "Zoom to rectangle\nx/y fixes axis, CTRL fixes aspect",
         "square-o",
         "zoom"
        ],
        [
         "Download",
         "Download plot",
         "floppy-o",
         "save_figure"
        ]
       ]
      }
     },
     "9b061db2dc65459ca586b9b9f73c2362": {
      "model_module": "@jupyter-widgets/base",
      "model_module_version": "1.2.0",
      "model_name": "LayoutModel",
      "state": {}
     },
     "c25a38234e8f4e818670d9767f95a430": {
      "model_module": "jupyter-matplotlib",
      "model_module_version": "^0.9.0",
      "model_name": "MPLCanvasModel",
      "state": {
       "_cursor": "default",
       "_figure_label": "Figure 1",
       "_height": 708,
       "_width": 1746,
       "layout": "IPY_MODEL_4d250c5d35aa493295ca814fb3eaa1ee",
       "toolbar": "IPY_MODEL_6faf75ca5f3b41388f284e98ec2cf803",
       "toolbar_position": "left"
      }
     }
    },
    "version_major": 2,
    "version_minor": 0
   }
  }
 },
 "nbformat": 4,
 "nbformat_minor": 4
}
