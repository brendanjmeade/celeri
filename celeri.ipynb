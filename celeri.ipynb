{
 "cells": [
  {
   "cell_type": "code",
   "execution_count": 1,
   "source": [
    "%matplotlib widget\n",
    "%config InlineBackend.figure_format = \"svg\"\n",
    "\n",
    "import addict\n",
    "import copy\n",
    "import numpy as np\n",
    "import pandas as pd\n",
    "import matplotlib.pyplot as plt\n",
    "from importlib import reload\n",
    "from tqdm.notebook import tqdm\n",
    "from typing import List, Dict, Tuple\n",
    "\n",
    "import celeri\n",
    "celeri = reload(celeri)\n",
    "\n",
    "plt.rcParams[\"text.usetex\"] = False # Plotting the global model is much much faster with tex fonts turned off"
   ],
   "outputs": [],
   "metadata": {
    "execution": {
     "iopub.execute_input": "2021-08-22T18:29:51.661926Z",
     "iopub.status.busy": "2021-08-22T18:29:51.661659Z",
     "iopub.status.idle": "2021-08-22T18:29:51.956035Z",
     "shell.execute_reply": "2021-08-22T18:29:51.955292Z",
     "shell.execute_reply.started": "2021-08-22T18:29:51.661900Z"
    },
    "tags": []
   }
  },
  {
   "cell_type": "markdown",
   "source": [
    "# Read in data files and do basic processing"
   ],
   "metadata": {}
  },
  {
   "cell_type": "code",
   "execution_count": 2,
   "source": [
    "command_file_name = \"./data/western_north_america/basic_command.json\"\n",
    "command, segment, block, meshes, station, mogi, sar = celeri.read_data(command_file_name)\n",
    "station = celeri.process_station(station, command)\n",
    "segment = celeri.process_segment(segment, command, meshes)\n",
    "sar = celeri.process_sar(sar, command)\n",
    "closure, block = celeri.assign_block_labels(segment, station, block, mogi, sar)"
   ],
   "outputs": [
    {
     "output_type": "stream",
     "name": "stderr",
     "text": [
      "WARNING:root:The file contains tag data that couldn't be processed.\n"
     ]
    }
   ],
   "metadata": {
    "execution": {
     "iopub.execute_input": "2021-08-22T18:29:53.570589Z",
     "iopub.status.busy": "2021-08-22T18:29:53.570331Z",
     "iopub.status.idle": "2021-08-22T18:30:09.817977Z",
     "shell.execute_reply": "2021-08-22T18:30:09.817443Z",
     "shell.execute_reply.started": "2021-08-22T18:29:53.570561Z"
    },
    "tags": []
   }
  },
  {
   "cell_type": "code",
   "execution_count": null,
   "source": [
    "# Finding the edges of meshes\n",
    "for i in range(len(meshes)):\n",
    "        # Make side arrays containing vertex indices of sides\n",
    "        vertices = meshes[i].verts\n",
    "        side_1 = np.sort(np.vstack((vertices[:, 0], vertices[:, 1])).T, 1)\n",
    "        side_2 = np.sort(np.vstack((vertices[:, 1], vertices[:, 2])).T, 1)\n",
    "        side_3 = np.sort(np.vstack((vertices[:, 2], vertices[:, 0])).T, 1)\n",
    "        all_sides = np.vstack((side_1, side_2, side_3))\n",
    "        unique_sides, sides_count = np.unique(all_sides, return_counts=True, axis=0)\n",
    "        edge_nodes = unique_sides[np.where(sides_count == 1)]\n",
    "\n",
    "        meshes[i].ordered_edge_nodes = np.zeros_like(edge_nodes)\n",
    "        meshes[i].ordered_edge_nodes[0, :] = edge_nodes[0, :]\n",
    "        last_row = 0\n",
    "        for j in range(1, len(edge_nodes)):\n",
    "            idx = np.where((edge_nodes==meshes[i].ordered_edge_nodes[j-1, 1])) # Edge node indices the same as previous row, second column\n",
    "            next_idx = np.where(idx[0][:] != last_row) # One of those indices is the last row itself. Find the other row index\n",
    "            next_row = idx[0][next_idx] # Index of the next ordered row\n",
    "            next_col = idx[1][next_idx] # Index of the next ordered column (1 or 2)\n",
    "            if next_col == 1:\n",
    "                next_col_ord = [1, 0] # Flip edge ordering\n",
    "            else:\n",
    "                next_col_ord = [0, 1]\n",
    "            meshes[i].ordered_edge_nodes[j, :] = edge_nodes[next_row, next_col_ord] \n",
    "            last_row = next_row # Update last_row so that it's excluded in the next iteration\n",
    "plt.figure(figsize=(12,7))\n",
    "plt.plot(meshes[i].meshio_object.points[meshes[i].ordered_edge_nodes[:, 0], 0], meshes[i].meshio_object.points[meshes[i].ordered_edge_nodes[:, 0], 1])\n",
    "print(meshes[i].ordered_edge_nodes)"
   ],
   "outputs": [],
   "metadata": {}
  },
  {
   "cell_type": "markdown",
   "source": [
    "# Create storage dictionaries and calculate elastic operators"
   ],
   "metadata": {}
  },
  {
   "cell_type": "code",
   "execution_count": 3,
   "source": [
    "assembly = addict.Dict()\n",
    "operators = addict.Dict()\n",
    "assembly = celeri.merge_geodetic_data(assembly, station, sar) # Not sure this work correctly\n",
    "\n",
    "# Elastic operators and TDE smoothing\n",
    "# TODO: Add n_tde_dims to get_all_mesh_smoothing_matrices\n",
    "operators.slip_rate_to_okada_to_velocities = celeri.get_segment_station_operator_okada(segment, station, command)\n",
    "\n",
    "# TODO: Rename to tde_to_velocities\n",
    "# TODO: There should be one tde_to_velocities per mesh\n",
    "# so we should have something like operators.meshes[0].tde_to_velocities\n",
    "# TODO: Move smoothing matrices to operators.meshes[0].smoothing_matrix_name\n",
    "operators.tri_station = celeri.get_tri_station_operator_okada(meshes, station, command)\n",
    "celeri.get_all_mesh_smoothing_matrices(meshes)\n",
    "celeri.get_all_mesh_smoothing_matrices_simple(meshes, 2)"
   ],
   "outputs": [
    {
     "output_type": "display_data",
     "data": {
      "application/vnd.jupyter.widget-view+json": {
       "model_id": "b9b97347ce0149eab2e5e69d9218e934",
       "version_major": 2,
       "version_minor": 0
      },
      "text/plain": [
       "Calculating Okada partials for segments:   0%|          | 0/837 [00:00<?, ?it/s]"
      ]
     },
     "metadata": {}
    },
    {
     "output_type": "display_data",
     "data": {
      "application/vnd.jupyter.widget-view+json": {
       "model_id": "5ec40927ecb846e2941478f1176ed5da",
       "version_major": 2,
       "version_minor": 0
      },
      "text/plain": [
       "Calculating cutde partials for triangles:   0%|          | 0/1841 [00:00<?, ?it/s]"
      ]
     },
     "metadata": {}
    }
   ],
   "metadata": {}
  },
  {
   "cell_type": "markdown",
   "source": [
    "# Calculate additional non-elastic operators"
   ],
   "metadata": {}
  },
  {
   "cell_type": "code",
   "execution_count": 4,
   "source": [
    "# Build all linear kinematic operators\n",
    "operators.rotation_to_velocities = celeri.get_block_rotation_operator(station)\n",
    "operators.global_float_block_rotation = celeri.get_global_float_block_rotation_operator(station)\n",
    "\n",
    "# TODO: Update celeri.block_constraints to properly use block.\n",
    "assembly, operators.block_motion_constraints = celeri.block_constraints(assembly, block, command)\n",
    "assembly, operators.slip_rate_constraints = celeri.slip_rate_constraints(assembly, segment, block, command)\n",
    "operators.rotation_to_slip_rate = celeri.get_fault_slip_rate_partials(segment, block)\n",
    "operators.block_strain_rate, strain_rate_block_idx = celeri.get_strain_rate_centroid_operator(block, station, segment)  # TODO: Rename block_strain_rate_to_velocities\n",
    "operators.mogi_station = celeri.get_mogi_operator(mogi, station, command)  # TODO: Rename mogi_to_velocities"
   ],
   "outputs": [],
   "metadata": {
    "tags": []
   }
  },
  {
   "cell_type": "code",
   "execution_count": 5,
   "source": [
    "# TODO: Move all of this down to the cell with matrix assembly\n",
    "# TODO: Eliminate creation of tde_matrix\n",
    "# TODO: Loop over each mesh\n",
    "# Shrink operators.tri_station so that there are no vertical displacments and no tensile slip\n",
    "tde_matrix = copy.deepcopy(operators.tri_station)\n",
    "tde_matrix = np.delete(tde_matrix, np.arange(2, tde_matrix.shape[0], 3), axis=0)\n",
    "tde_matrix = np.delete(tde_matrix, np.arange(2, tde_matrix.shape[1], 3), axis=1)\n",
    "\n",
    "# Slip estimation with direct inverse and smoothing matrix\n",
    "# TODO: Each mesh should have a smoothing weight in .json file\n",
    "# TODO: Loop over each mesh\n",
    "# TODO: Eliminate copy to smoothing matrix\n",
    "smoothing_matrix = 1e2 * meshes[0].smoothing_matrix.toarray()  # TODO: Do we need to keep this coefficient since we use meshes[0].smoothing_weight below?\n",
    "smoothing_matrix = np.delete(smoothing_matrix, np.arange(2, smoothing_matrix.shape[0], 3), axis=0)\n",
    "smoothing_matrix = np.delete(smoothing_matrix, np.arange(2, smoothing_matrix.shape[1], 3), axis=1)\n",
    "smoothing_matrix = meshes[0].smoothing_weight * smoothing_matrix # Weight smoothing matrix\n",
    "tde_and_smoothing_matrix = np.vstack((tde_matrix, smoothing_matrix))"
   ],
   "outputs": [],
   "metadata": {}
  },
  {
   "cell_type": "markdown",
   "source": [
    "# Sketching out the assembly of the block model system\n",
    "The list here is in as of right now (09/19/21)...a work in progress\n",
    "\n",
    "## The observation vector:    \n",
    "| What | Symbolically | Variable name |\n",
    "| - | - | - |\n",
    "| GPS velocities | $\\mathbf{v}$ | ```assembly.data.east_vel, assembly.data.north_vel``` |\n",
    "| Slip rate constraints | $\\dot{\\mathbf{s}}$ | ```assembly.slip_rate_constraints``` |\n",
    "| Rotation vector constraints | $\\boldsymbol{\\omega}$ | ```assembly.block_constraints``` |\n",
    "\n",
    "## The state vector:    \n",
    "| What | Symbolically | Variable name |\n",
    "| - | - | - |\n",
    "| Block rotation rates | $\\boldsymbol{\\Omega}$ | ```estimation.block_rotation_vectors``` |\n",
    "| TDE slip | $\\mathbf{t}$ | ```estimation.tri_slip_rates``` |\n",
    "  \n",
    "## Matrix operators:    \n",
    "| What | Symbolically | Variable name |\n",
    "| - | - | - |\n",
    "| Rotation vector to GPS | $\\boldsymbol{\\Omega} \\rightarrow \\mathbf{v}$ | ```operators.block_rotation``` | \n",
    "| Rotation vector to GPS | $\\boldsymbol{\\Omega} \\rightarrow \\mathbf{v}$ | ```operators.global_float_block_rotation``` | \n",
    "| Rotation vector to segment slip rates| $\\boldsymbol{\\Omega} \\rightarrow \\dot{\\mathbf{s}}$ | ```operators.slip_rate_segment_block``` | \n",
    "| Segment slip rates to elastic deformation | $\\dot{\\mathbf{s}} \\rightarrow \\mathbf{v}$ | ```operators.okada_segment_station``` | \n",
    "| TDE slip to GPS | $\\mathbf{t} \\rightarrow \\mathbf{v}$ | ```operators.tri_station``` |\n",
    "| Rotation vector to slip rate constraints| $\\boldsymbol{\\Omega} \\rightarrow \\dot{\\mathbf{s}}$ | ```operators.slip_rate_constraints``` |\n",
    "| Rotation vector to Euler pole contraints | $\\mathbf{I}$ | ```operators.block_motion_contraints``` |\n",
    "\n"
   ],
   "metadata": {}
  },
  {
   "cell_type": "markdown",
   "source": [
    "# Block model with block rotations, fully locked segments and partially locked subduction zone using the full tde_matrix and smoothing matrix"
   ],
   "metadata": {}
  },
  {
   "cell_type": "code",
   "execution_count": 6,
   "source": [
    "# TODO: What should this converstion be?\n",
    "DEG_PER_MYR_TO_RAD_PER_YR = np.deg2rad(1) / 1e6\n",
    "\n",
    "n_tde = int(tde_matrix.shape[1] / 2)\n",
    "n_stations = assembly.data.n_stations\n",
    "n_blocks = len(block)\n",
    "n_block_constraints = assembly.data.n_block_constraints\n",
    "\n",
    "idx = addict.Dict()\n",
    "idx.start_station_row = 0\n",
    "idx.end_station_row = 2 * len(station)\n",
    "idx.start_block_col = 0\n",
    "idx.end_block_col = len(block)\n",
    "idx.start_tde_col = idx.end_block_col\n",
    "idx.end_tde_col = idx.start_tde_col + n_tde\n",
    "idx.meshes[0].start_tde_col = 0\n",
    "idx.meshes[0].end_tde_col = 0\n",
    "idx.meshes[0].start_tde_eigs_col = 0\n",
    "idx.meshes[0].end_tde_eig_col = 0\n",
    "\n",
    "# Build data vector\n",
    "data_vector = np.zeros(2 * n_stations + 2 * n_tde + 3 * n_block_constraints)\n",
    "data_vector[0:2 * n_stations] = celeri.interleave2(assembly.data.east_vel, assembly.data.north_vel) # add GPS data\n",
    "data_vector[2 * n_stations + 2 * n_tde:2 * n_stations + 2 * n_tde + 3 * n_block_constraints] = DEG_PER_MYR_TO_RAD_PER_YR * assembly.data.block_constraints # add plate motion constraints Not sure if units are correct\n",
    "\n",
    "# Delete rows associated with vertical velocities\n",
    "operators.slip_rate_to_okada_to_velocities = np.delete(operators.slip_rate_to_okada_to_velocities, np.arange(2, operators.slip_rate_to_okada_to_velocities.shape[0], 3), axis=0)\n",
    "operators.rotation_to_slip_rate_to_okada_to_velocities = operators.slip_rate_to_okada_to_velocities @ operators.rotation_to_slip_rate\n",
    "operators.rotation_to_velocities = np.delete(operators.rotation_to_velocities, np.arange(2, operators.rotation_to_velocities.shape[0], 3), axis=0)\n",
    "\n",
    "\n",
    "# Print sizes of matrices that we'll use to build operator\n",
    "print(\"data_vector: \" + str(data_vector.shape))\n",
    "print(\"operators.block_motion_constraints.shape: \" + str(operators.block_motion_constraints.shape))\n",
    "print(\"operators.rotation_to_velocities.shape: \" + str(operators.rotation_to_velocities.shape))\n",
    "print(\"rotation_to_slip_rate_to_okada_to_velocities.shape: \" + str(operators.rotation_to_slip_rate_to_okada_to_velocities.shape))\n",
    "print(\"tde_matrix.shape: \" + str(tde_matrix.shape))\n",
    "print(\"smoothing_matrix.shape: \" + str(smoothing_matrix.shape))\n",
    "print(\"tde_and_smoothing_matrix.shape: \" + str(tde_and_smoothing_matrix.shape))\n",
    "print(\"n_tde: \" + str(n_tde))\n",
    "\n",
    "# Initialize linear operator\n",
    "operator = np.zeros((2 * assembly.data.n_stations # start rows\n",
    "                     + 2 * n_tde\n",
    "                     + 3 * assembly.data.n_block_constraints,\n",
    "                       3 * len(block) # start columns\n",
    "                     + 2 * n_tde))\n",
    "print(\"operator.shape: \" + str(operator.shape))\n",
    "print(\"Finished printing\")\n",
    "\n",
    "# Insert block rotation and fully coupled segments\n",
    "operator[0:2 * n_stations, 0:3 * n_blocks] = operators.rotation_to_velocities - operators.rotation_to_slip_rate_to_okada_to_velocities\n",
    "\n",
    "# Insert block motion constraints\n",
    "operator[2 * n_stations + 2 * n_tde:2 * n_stations + 2 * n_tde + 3 * n_block_constraints, 0:3 * n_blocks] = operators.block_motion_constraints\n",
    "\n",
    "# Insert tdes and smoothing matrix\n",
    "print(operator.shape)\n",
    "print(2 * n_stations + 2 * n_tde)\n",
    "print(3 * n_blocks + 2 * n_tde)\n",
    "print(operator[0:2 * n_stations + 2 * n_tde, 3 * n_blocks : 3 * n_blocks + 2 * n_tde].shape)\n",
    "print(tde_and_smoothing_matrix.shape)\n",
    "operator[0:2 * n_stations + 2 * n_tde, 3 * n_blocks : 3 * n_blocks + 2 * n_tde] = tde_and_smoothing_matrix\n",
    "\n",
    "# Solve the overdetermined linear system\n",
    "# Overdetermined state estimation\n",
    "state_covariance_matrix = np.linalg.inv(operator.T @ operator)\n",
    "state_vector = state_covariance_matrix @ operator.T @ data_vector \n",
    "\n",
    "# TODO: Move all of the estimation postprocessing to a function process_estimation()?\n",
    "estimation = addict.Dict()\n",
    "estimation.predictions = operator @ state_vector\n",
    "estimation.vel = estimation.predictions[0:2 * n_stations]\n",
    "estimation.east_vel = estimation.vel[0::2]\n",
    "estimation.north_vel = estimation.vel[1::2]\n",
    "\n",
    "# Estimate slip rate uncertainties\n",
    "estimation.slip_rate_sigma = np.sqrt(np.diag(operators.rotation_to_slip_rate @ state_covariance_matrix[0:3 * n_blocks, 0:3 * n_blocks] @ operators.rotation_to_slip_rate.T)) # I don't think this is correct because for the case when there is a rotation vector a priori\n",
    "estimation.strike_slip_rate_sigma = estimation.slip_rate_sigma[0::3]\n",
    "estimation.dip_slip_rate_sigma = estimation.slip_rate_sigma[1::3]\n",
    "estimation.tensile_slip_rate_sigma = estimation.slip_rate_sigma[2::3]\n",
    "\n",
    "# Calculate mean squared residual velocity\n",
    "estimation.east_vel_residual = estimation.east_vel - station.east_vel\n",
    "estimation.north_vel_residual = estimation.north_vel - station.north_vel\n",
    "\n",
    "# Extract TDE slip rates from state vector\n",
    "estimation.tde_rates = state_vector[3 * n_blocks : 3 * n_blocks + 2 * n_tde]\n",
    "estimation.tde_strike_slip_rates = estimation.tde_rates[0::2]\n",
    "estimation.tde_dip_slip_rates = estimation.tde_rates[1::2]\n",
    "\n",
    "# Extract segment slip rates from state vector\n",
    "estimation.slip_rates = operators.rotation_to_slip_rate @ state_vector[0:3 * n_blocks]\n",
    "estimation.strike_slip_rates = estimation.slip_rates[0::3]\n",
    "estimation.dip_slip_rates = estimation.slip_rates[1::3]\n",
    "estimation.tensile_slip_rates = estimation.slip_rates[2::3]\n",
    "\n",
    "# Calculate rotation only velocities\n",
    "estimation.vel_rotation = operators.rotation_to_velocities @ state_vector[0:3 * n_blocks]\n",
    "estimation.east_vel_rotation = estimation.vel_rotation[0::2]\n",
    "estimation.north_vel_rotation = estimation.vel_rotation[1::2]\n",
    "\n",
    "# Calculate fully locked segment velocities\n",
    "estimation.vel_elastic_segment = operators.rotation_to_slip_rate_to_okada_to_velocities @ state_vector[0:3 * n_blocks]\n",
    "estimation.east_vel_elastic_segment = estimation.vel_elastic_segment[0::2]\n",
    "estimation.north_vel_elastic_segment = estimation.vel_elastic_segment[1::2]\n",
    "\n",
    "# Calculate TDE velocities\n",
    "estimation.vel_tde = tde_matrix @ state_vector[3 * n_blocks:]\n",
    "estimation.east_vel_tde = estimation.vel_tde[0::2]\n",
    "estimation.north_vel_tde = estimation.vel_tde[1::2]"
   ],
   "outputs": [
    {
     "output_type": "stream",
     "name": "stdout",
     "text": [
      "data_vector: (7057,)\n",
      "operators.block_motion_constraints.shape: (3, 93)\n",
      "operators.rotation_to_velocities.shape: (3372, 93)\n",
      "rotation_to_slip_rate_to_okada_to_velocities.shape: (3372, 93)\n",
      "tde_matrix.shape: (3372, 3682)\n",
      "smoothing_matrix.shape: (3682, 3682)\n",
      "tde_and_smoothing_matrix.shape: (7054, 3682)\n",
      "n_tde: 1841\n",
      "operator.shape: (7057, 3775)\n",
      "Finished printing\n",
      "(7057, 3775)\n",
      "7054\n",
      "3775\n",
      "(7054, 3682)\n",
      "(7054, 3682)\n"
     ]
    }
   ],
   "metadata": {}
  },
  {
   "cell_type": "markdown",
   "source": [
    "# Plot model summary "
   ],
   "metadata": {}
  },
  {
   "cell_type": "code",
   "execution_count": 7,
   "source": [
    "celeri.plot_estimation_summary(segment, station, estimation, lon_range=(225, 250), lat_range=(30, 52), quiver_scale=1e2)"
   ],
   "outputs": [
    {
     "output_type": "display_data",
     "data": {
      "application/vnd.jupyter.widget-view+json": {
       "model_id": "b1e68b4ebbad4b7cbeb6ac7e4c505744",
       "version_major": 2,
       "version_minor": 0
      },
      "text/plain": [
       "Canvas(toolbar=Toolbar(toolitems=[('Home', 'Reset original view', 'home', 'home'), ('Back', 'Back to previous …"
      ]
     },
     "metadata": {}
    }
   ],
   "metadata": {}
  },
  {
   "cell_type": "code",
   "execution_count": 8,
   "source": [
    "plt.figure()\n",
    "plt.plot(np.log10(np.abs(state_vector[0:3 * n_blocks])), \"r+\")\n",
    "plt.show()"
   ],
   "outputs": [
    {
     "output_type": "display_data",
     "data": {
      "application/vnd.jupyter.widget-view+json": {
       "model_id": "6234ffa5461946a498cc1050275f29f1",
       "version_major": 2,
       "version_minor": 0
      },
      "text/plain": [
       "Canvas(toolbar=Toolbar(toolitems=[('Home', 'Reset original view', 'home', 'home'), ('Back', 'Back to previous …"
      ]
     },
     "metadata": {}
    }
   ],
   "metadata": {}
  }
 ],
 "metadata": {
  "interpreter": {
   "hash": "b49ecae73d9755d1e6525bca8f2b993ba748c0e2e7c79677d2e15f06ac3538b9"
  },
  "kernelspec": {
   "display_name": "Python 3.9.6 64-bit ('celeri': conda)",
   "name": "python3"
  },
  "language_info": {
   "codemirror_mode": {
    "name": "ipython",
    "version": 3
   },
   "file_extension": ".py",
   "mimetype": "text/x-python",
   "name": "python",
   "nbconvert_exporter": "python",
   "pygments_lexer": "ipython3",
   "version": "3.9.6"
  },
  "widgets": {
   "application/vnd.jupyter.widget-state+json": {
    "state": {
     "4d250c5d35aa493295ca814fb3eaa1ee": {
      "model_module": "@jupyter-widgets/base",
      "model_module_version": "1.2.0",
      "model_name": "LayoutModel",
      "state": {}
     },
     "6faf75ca5f3b41388f284e98ec2cf803": {
      "model_module": "jupyter-matplotlib",
      "model_module_version": "^0.9.0",
      "model_name": "ToolbarModel",
      "state": {
       "layout": "IPY_MODEL_9b061db2dc65459ca586b9b9f73c2362",
       "toolitems": [
        [
         "Home",
         "Reset original view",
         "home",
         "home"
        ],
        [
         "Back",
         "Back to previous view",
         "arrow-left",
         "back"
        ],
        [
         "Forward",
         "Forward to next view",
         "arrow-right",
         "forward"
        ],
        [
         "Pan",
         "Left button pans, Right button zooms\nx/y fixes axis, CTRL fixes aspect",
         "arrows",
         "pan"
        ],
        [
         "Zoom",
         "Zoom to rectangle\nx/y fixes axis, CTRL fixes aspect",
         "square-o",
         "zoom"
        ],
        [
         "Download",
         "Download plot",
         "floppy-o",
         "save_figure"
        ]
       ]
      }
     },
     "9b061db2dc65459ca586b9b9f73c2362": {
      "model_module": "@jupyter-widgets/base",
      "model_module_version": "1.2.0",
      "model_name": "LayoutModel",
      "state": {}
     },
     "c25a38234e8f4e818670d9767f95a430": {
      "model_module": "jupyter-matplotlib",
      "model_module_version": "^0.9.0",
      "model_name": "MPLCanvasModel",
      "state": {
       "_cursor": "default",
       "_figure_label": "Figure 1",
       "_height": 708,
       "_width": 1746,
       "layout": "IPY_MODEL_4d250c5d35aa493295ca814fb3eaa1ee",
       "toolbar": "IPY_MODEL_6faf75ca5f3b41388f284e98ec2cf803",
       "toolbar_position": "left"
      }
     }
    },
    "version_major": 2,
    "version_minor": 0
   }
  }
 },
 "nbformat": 4,
 "nbformat_minor": 4
}