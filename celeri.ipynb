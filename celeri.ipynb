{
 "cells": [
  {
   "cell_type": "code",
   "execution_count": 1,
   "metadata": {},
   "outputs": [],
   "source": [
    "%matplotlib widget\n",
    "%config InlineBackend.figure_format = 'svg'"
   ]
  },
  {
   "cell_type": "code",
   "execution_count": 6,
   "metadata": {
    "tags": []
   },
   "outputs": [],
   "source": [
    "import addict\n",
    "import copy\n",
    "import datetime\n",
    "import os\n",
    "import numpy as np\n",
    "import pandas as pd\n",
    "import matplotlib.pyplot as plt\n",
    "from importlib import reload\n",
    "\n",
    "# Plotting the global model is much much faster with tex fonts turned off\n",
    "plt.rcParams['text.usetex'] = False\n",
    "\n",
    "import celeri_closure\n",
    "celeri_closure = reload(celeri_closure)\n",
    "import celeri\n",
    "celeri = reload(celeri)"
   ]
  },
  {
   "cell_type": "code",
   "execution_count": 10,
   "metadata": {
    "tags": []
   },
   "outputs": [
    {
     "name": "stdout",
     "output_type": "stream",
     "text": [
      "CPU times: user 955 ms, sys: 44.1 ms, total: 999 ms\n",
      "Wall time: 998 ms\n"
     ]
    }
   ],
   "source": [
    "%%time\n",
    "RUN_NAME = datetime.datetime.now().strftime(\"%y%m%d%H%M%S\") + os.sep\n",
    "command_file_name = './data/western_north_america/western_north_america_command.json'\n",
    "#command_file_name = './data/global/global_command.json'\n",
    "command, segment, block, meshes, station, mogi, sar = celeri.read_data(command_file_name)\n",
    "station = celeri.process_station(station, command)\n",
    "segment = celeri.process_segment(segment, command, meshes)\n",
    "sar = celeri.process_sar(sar, command)\n",
    "closure = celeri.assign_block_labels(segment, station, block, mogi, sar)"
   ]
  },
  {
   "cell_type": "code",
   "execution_count": 8,
   "metadata": {},
   "outputs": [
    {
     "data": {
      "application/vnd.jupyter.widget-view+json": {
       "model_id": "997739d26ef944638ff415a5e934679a",
       "version_major": 2,
       "version_minor": 0
      },
      "text/plain": [
       "Canvas(toolbar=Toolbar(toolitems=[('Home', 'Reset original view', 'home', 'home'), ('Back', 'Back to previous …"
      ]
     },
     "metadata": {},
     "output_type": "display_data"
    }
   ],
   "source": [
    "celeri.plot_block_labels(segment, block, station, closure)"
   ]
  },
  {
   "cell_type": "code",
   "execution_count": 78,
   "metadata": {},
   "outputs": [],
   "source": [
    "vertices = closure.polygon_vertices[6]"
   ]
  },
  {
   "cell_type": "code",
   "execution_count": 79,
   "metadata": {},
   "outputs": [
    {
     "name": "stdout",
     "output_type": "stream",
     "text": [
      "CPU times: user 72 µs, sys: 0 ns, total: 72 µs\n",
      "Wall time: 76.1 µs\n"
     ]
    }
   ],
   "source": [
    "%%time\n",
    "intervals = []\n",
    "for i in range(vertices.shape[0] - 1):\n",
    "    s1 = vertices[i][0]\n",
    "    s2 = vertices[i+1][0]\n",
    "    \n",
    "    # If the longitudes are separated by more than 180 degrees, then \n",
    "    # this is a meridian crossing segment where s1 is <180 and s2 is\n",
    "    # >180 degrees. So use (s1, 0) and (360, s2).\n",
    "    if s2 - s1 > 180:\n",
    "        intervals.append((0, s1))\n",
    "        intervals.append((s2, 360))\n",
    "    # Similiarly, separated by -180 degrees suggests that s1 is >180\n",
    "    # and s2 is <180. So use (s1,360), (0,s2)\n",
    "    elif s2 - s1 < -180:\n",
    "        intervals.append((s1, 360))\n",
    "        intervals.append((0, s2))\n",
    "    else:\n",
    "        intervals.append((s1, s2))\n",
    "intervals = np.array([(s1, s2) if s1 < s2 else (s2, s1) for s1, s2 in intervals])"
   ]
  },
  {
   "cell_type": "code",
   "execution_count": 80,
   "metadata": {},
   "outputs": [
    {
     "data": {
      "text/plain": [
       "array([[215.06 , 220.823],\n",
       "       [211.394, 215.06 ],\n",
       "       [205.239, 211.394],\n",
       "       [191.226, 205.239],\n",
       "       [179.964, 191.226],\n",
       "       [163.856, 179.964],\n",
       "       [145.025, 163.856],\n",
       "       [142.758, 145.025],\n",
       "       [131.169, 142.758],\n",
       "       [124.115, 131.169],\n",
       "       [124.115, 164.764],\n",
       "       [164.764, 180.29 ],\n",
       "       [162.871, 180.29 ],\n",
       "       [162.871, 204.097],\n",
       "       [204.097, 252.514],\n",
       "       [252.514, 259.341],\n",
       "       [259.341, 260.639],\n",
       "       [260.639, 274.413],\n",
       "       [274.413, 325.661],\n",
       "       [272.027, 325.661],\n",
       "       [223.835, 272.027],\n",
       "       [220.823, 223.835]])"
      ]
     },
     "execution_count": 80,
     "metadata": {},
     "output_type": "execute_result"
    }
   ],
   "source": [
    "intervals"
   ]
  },
  {
   "cell_type": "code",
   "execution_count": 81,
   "metadata": {},
   "outputs": [
    {
     "name": "stdout",
     "output_type": "stream",
     "text": [
      "CPU times: user 236 µs, sys: 0 ns, total: 236 µs\n",
      "Wall time: 204 µs\n"
     ]
    }
   ],
   "source": [
    "%%time\n",
    "# Fun classic intro algorithms problem: how to combine intervals in O(n log(n))?\n",
    "# Sort them by the first value, and then combine adjacent intervals. \n",
    "sorted_intervals = intervals[intervals[:,0].argsort()]\n",
    "combined_intervals = []\n",
    "cur_interval = sorted_intervals[0]\n",
    "for I in sorted_intervals[1:]:\n",
    "    if I[0] > cur_interval[1]:\n",
    "        print(cur_interval, I)\n",
    "        combined_intervals.append(cur_interval)\n",
    "        cur_interval = I\n",
    "    else:\n",
    "        cur_interval[1] = max(cur_interval[1], I[1])\n",
    "combined_intervals.append(cur_interval)"
   ]
  },
  {
   "cell_type": "code",
   "execution_count": 82,
   "metadata": {},
   "outputs": [
    {
     "data": {
      "text/plain": [
       "[array([124.115, 325.661])]"
      ]
     },
     "execution_count": 82,
     "metadata": {},
     "output_type": "execute_result"
    }
   ],
   "source": [
    "combined_intervals"
   ]
  },
  {
   "cell_type": "code",
   "execution_count": 5,
   "metadata": {
    "tags": []
   },
   "outputs": [
    {
     "name": "stdout",
     "output_type": "stream",
     "text": [
      "Isolating slip rate constraints\n",
      "- Tensile-slip rate constraint on 11ba: rate = 0.00 (mm/yr), 1-sigma uncertainty = +/-1.00 (mm/yr)\n",
      "- Tensile-slip rate constraint on 11bb: rate = 0.00 (mm/yr), 1-sigma uncertainty = +/-1.00 (mm/yr)\n",
      "- Dip-slip rate constraint on AN_Iran_fault_2: rate = 0.00 (mm/yr), 1-sigma uncertainty = +/-3.00 (mm/yr)\n",
      "- Dip-slip rate constraint on AN_Iran_fault_6: rate = 1.50 (mm/yr), 1-sigma uncertainty = +/-1.00 (mm/yr)\n",
      "- Tensile-slip rate constraint on AWAT_fault_3: rate = 0.00 (mm/yr), 1-sigma uncertainty = +/-5.00 (mm/yr)\n",
      "- Strike-slip rate constraint on Akar_connect2: rate = -8.00 (mm/yr), 1-sigma uncertainty = +/-5.00 (mm/yr)\n",
      "- Dip-slip rate constraint on BOOB_fault_1: rate = 0.00 (mm/yr), 1-sigma uncertainty = +/-10.00 (mm/yr)\n",
      "- Dip-slip rate constraint on BOOB_fault_4: rate = 0.00 (mm/yr), 1-sigma uncertainty = +/-10.00 (mm/yr)\n",
      "- Tensile-slip rate constraint on BTFZ_Baldwin12b: rate = 0.00 (mm/yr), 1-sigma uncertainty = +/-10.00 (mm/yr)\n",
      "- Tensile-slip rate constraint on CAFA_close: rate = 0.00 (mm/yr), 1-sigma uncertainty = +/-5.00 (mm/yr)\n",
      "- Tensile-slip rate constraint on CLAR_fault_1: rate = 0.00 (mm/yr), 1-sigma uncertainty = +/-5.00 (mm/yr)\n",
      "- Tensile-slip rate constraint on Chiloe_block_Moreno_2011_8: rate = 0.00 (mm/yr), 1-sigma uncertainty = +/-5.00 (mm/yr)\n",
      "- Dip-slip rate constraint on DS_Iran_fault345: rate = 0.00 (mm/yr), 1-sigma uncertainty = +/-3.00 (mm/yr)\n",
      "- Dip-slip rate constraint on EL_Iran_fault_3: rate = 2.00 (mm/yr), 1-sigma uncertainty = +/-5.00 (mm/yr)\n",
      "- Dip-slip rate constraint on EL_Iran_fault_4: rate = 2.00 (mm/yr), 1-sigma uncertainty = +/-5.00 (mm/yr)\n",
      "- Dip-slip rate constraint on GF_5: rate = 0.00 (mm/yr), 1-sigma uncertainty = +/-5.00 (mm/yr)\n",
      "- Dip-slip rate constraint on HBAY_fault_1: rate = 0.00 (mm/yr), 1-sigma uncertainty = +/-5.00 (mm/yr)\n",
      "- Tensile-slip rate constraint on HBAY_fault_1: rate = 0.00 (mm/yr), 1-sigma uncertainty = +/-5.00 (mm/yr)\n",
      "- Dip-slip rate constraint on HBAY_fault_3: rate = 1.00 (mm/yr), 1-sigma uncertainty = +/-1.50 (mm/yr)\n",
      "- Tensile-slip rate constraint on HBAY_fault_3: rate = -1.00 (mm/yr), 1-sigma uncertainty = +/-1.50 (mm/yr)\n",
      "- Strike-slip rate constraint on HOPE_fault_1: rate = -18.00 (mm/yr), 1-sigma uncertainty = +/-6.00 (mm/yr)\n",
      "- Dip-slip rate constraint on KEKE_fault_6: rate = 0.00 (mm/yr), 1-sigma uncertainty = +/-5.00 (mm/yr)\n",
      "- Tensile-slip rate constraint on KEKE_fault_6: rate = 0.00 (mm/yr), 1-sigma uncertainty = +/-10.00 (mm/yr)\n",
      "- Dip-slip rate constraint on LosBajos_usgs_2: rate = 0.00 (mm/yr), 1-sigma uncertainty = +/-5.00 (mm/yr)\n",
      "- Tensile-slip rate constraint on Lwadle_close1: rate = 1.00 (mm/yr), 1-sigma uncertainty = +/-0.50 (mm/yr)\n",
      "- Strike-slip rate constraint on Medial_fault_USGSba: rate = -5.00 (mm/yr), 1-sigma uncertainty = +/-5.00 (mm/yr)\n",
      "- Dip-slip rate constraint on NTIMO2_2: rate = 60.00 (mm/yr), 1-sigma uncertainty = +/-20.00 (mm/yr)\n",
      "- Tensile-slip rate constraint on NZadd_new: rate = 0.00 (mm/yr), 1-sigma uncertainty = +/-5.00 (mm/yr)\n",
      "- Strike-slip rate constraint on PENN_Li16_close: rate = 0.00 (mm/yr), 1-sigma uncertainty = +/-5.00 (mm/yr)\n",
      "- Tensile-slip rate constraint on PENN_Li16_close: rate = 0.00 (mm/yr), 1-sigma uncertainty = +/-5.00 (mm/yr)\n",
      "- Tensile-slip rate constraint on PNG_151: rate = 5.00 (mm/yr), 1-sigma uncertainty = +/-5.00 (mm/yr)\n",
      "- Dip-slip rate constraint on Patch10_57: rate = 50.00 (mm/yr), 1-sigma uncertainty = +/-15.00 (mm/yr)\n",
      "- Dip-slip rate constraint on Patch14_new: rate = 45.00 (mm/yr), 1-sigma uncertainty = +/-20.00 (mm/yr)\n",
      "- Dip-slip rate constraint on Patch16_12: rate = 4.00 (mm/yr), 1-sigma uncertainty = +/-3.00 (mm/yr)\n",
      "- Dip-slip rate constraint on Patch16_19: rate = 8.00 (mm/yr), 1-sigma uncertainty = +/-8.00 (mm/yr)\n",
      "- Dip-slip rate constraint on Patch16_37: rate = 21.00 (mm/yr), 1-sigma uncertainty = +/-1.50 (mm/yr)\n",
      "- Dip-slip rate constraint on Patch6_44: rate = 70.00 (mm/yr), 1-sigma uncertainty = +/-10.00 (mm/yr)\n",
      "- Dip-slip rate constraint on Patch6_55: rate = 62.00 (mm/yr), 1-sigma uncertainty = +/-10.00 (mm/yr)\n",
      "- Tensile-slip rate constraint on Philippine_fault_11: rate = 0.00 (mm/yr), 1-sigma uncertainty = +/-5.00 (mm/yr)\n",
      "- Strike-slip rate constraint on Philippine_fault_12aa: rate = 25.00 (mm/yr), 1-sigma uncertainty = +/-10.00 (mm/yr)\n",
      "- Tensile-slip rate constraint on Philippine_fault_12aa: rate = 0.00 (mm/yr), 1-sigma uncertainty = +/-5.00 (mm/yr)\n",
      "- Strike-slip rate constraint on Philippine_fault_12ab: rate = 25.00 (mm/yr), 1-sigma uncertainty = +/-10.00 (mm/yr)\n",
      "- Tensile-slip rate constraint on Philippine_fault_12ab: rate = 0.00 (mm/yr), 1-sigma uncertainty = +/-5.00 (mm/yr)\n",
      "- Strike-slip rate constraint on Philippine_fault_12ba: rate = 25.00 (mm/yr), 1-sigma uncertainty = +/-10.00 (mm/yr)\n",
      "- Tensile-slip rate constraint on Philippine_fault_12ba: rate = 0.00 (mm/yr), 1-sigma uncertainty = +/-5.00 (mm/yr)\n",
      "- Strike-slip rate constraint on Philippine_fault_12bb: rate = 25.00 (mm/yr), 1-sigma uncertainty = +/-10.00 (mm/yr)\n",
      "- Tensile-slip rate constraint on Philippine_fault_12bb: rate = 0.00 (mm/yr), 1-sigma uncertainty = +/-5.00 (mm/yr)\n",
      "- Tensile-slip rate constraint on Philippine_fault_13: rate = 0.00 (mm/yr), 1-sigma uncertainty = +/-5.00 (mm/yr)\n",
      "- Tensile-slip rate constraint on Philippine_fault_14: rate = 0.00 (mm/yr), 1-sigma uncertainty = +/-5.00 (mm/yr)\n",
      "- Tensile-slip rate constraint on Philippines_sliver_southba: rate = 0.00 (mm/yr), 1-sigma uncertainty = +/-10.00 (mm/yr)\n",
      "- Tensile-slip rate constraint on Rhod_connect2: rate = -10.00 (mm/yr), 1-sigma uncertainty = +/-20.00 (mm/yr)\n",
      "- Tensile-slip rate constraint on Saria14_Lwandle_1: rate = 1.00 (mm/yr), 1-sigma uncertainty = +/-0.50 (mm/yr)\n",
      "- Tensile-slip rate constraint on Saria14_Lwandle_2: rate = 1.00 (mm/yr), 1-sigma uncertainty = +/-0.50 (mm/yr)\n",
      "- Tensile-slip rate constraint on Saria14_Lwandle_21: rate = 1.00 (mm/yr), 1-sigma uncertainty = +/-0.50 (mm/yr)\n",
      "- Tensile-slip rate constraint on Saria14_Lwandle_22: rate = 1.00 (mm/yr), 1-sigma uncertainty = +/-0.50 (mm/yr)\n",
      "- Tensile-slip rate constraint on Saria14_Lwandle_23: rate = 1.00 (mm/yr), 1-sigma uncertainty = +/-0.50 (mm/yr)\n",
      "- Tensile-slip rate constraint on Saria14_Lwandle_24: rate = 1.00 (mm/yr), 1-sigma uncertainty = +/-0.50 (mm/yr)\n",
      "- Tensile-slip rate constraint on Saria14_Lwandle_3: rate = 1.00 (mm/yr), 1-sigma uncertainty = +/-0.50 (mm/yr)\n",
      "- Tensile-slip rate constraint on Saria14_Lwandle_4: rate = 1.00 (mm/yr), 1-sigma uncertainty = +/-0.50 (mm/yr)\n",
      "- Tensile-slip rate constraint on Saria14_Lwandle_7: rate = 1.00 (mm/yr), 1-sigma uncertainty = +/-0.50 (mm/yr)\n",
      "- Tensile-slip rate constraint on Saria14_Lwandle_8: rate = 1.00 (mm/yr), 1-sigma uncertainty = +/-0.50 (mm/yr)\n",
      "- Tensile-slip rate constraint on Saria14_Lwandle_9: rate = 1.00 (mm/yr), 1-sigma uncertainty = +/-0.50 (mm/yr)\n",
      "- Tensile-slip rate constraint on Saria14_Rovuma_14: rate = 1.00 (mm/yr), 1-sigma uncertainty = +/-2.00 (mm/yr)\n",
      "- Tensile-slip rate constraint on Sorong_fault_Bock03a: rate = 0.00 (mm/yr), 1-sigma uncertainty = +/-10.00 (mm/yr)\n",
      "- Tensile-slip rate constraint on Sorong_fault_Bock03ba: rate = 0.00 (mm/yr), 1-sigma uncertainty = +/-10.00 (mm/yr)\n",
      "- Tensile-slip rate constraint on Sorong_fault_Bock03bb: rate = 0.00 (mm/yr), 1-sigma uncertainty = +/-10.00 (mm/yr)\n",
      "- Tensile-slip rate constraint on Symithe15_HISP_4: rate = 3.00 (mm/yr), 1-sigma uncertainty = +/-5.00 (mm/yr)\n",
      "- Tensile-slip rate constraint on Symithe15_NHIS_6: rate = 0.00 (mm/yr), 1-sigma uncertainty = +/-10.00 (mm/yr)\n",
      "- Tensile-slip rate constraint on TAFZ_Spicaka: rate = 0.00 (mm/yr), 1-sigma uncertainty = +/-10.00 (mm/yr)\n",
      "- Dip-slip rate constraint on TG_4: rate = 0.00 (mm/yr), 1-sigma uncertainty = +/-5.00 (mm/yr)\n",
      "- Dip-slip rate constraint on TVZE_fault_16: rate = 0.00 (mm/yr), 1-sigma uncertainty = +/-10.00 (mm/yr)\n",
      "- Strike-slip rate constraint on TVZE_fault_3: rate = 0.00 (mm/yr), 1-sigma uncertainty = +/-5.00 (mm/yr)\n",
      "- Tensile-slip rate constraint on TonVan1113: rate = 0.00 (mm/yr), 1-sigma uncertainty = +/-10.00 (mm/yr)\n",
      "- Tensile-slip rate constraint on TonVan_385: rate = 55.00 (mm/yr), 1-sigma uncertainty = +/-20.00 (mm/yr)\n",
      "- Tensile-slip rate constraint on TonVan_405: rate = 90.00 (mm/yr), 1-sigma uncertainty = +/-20.00 (mm/yr)\n",
      "- Tensile-slip rate constraint on Totschunda_Koons10_2: rate = 0.00 (mm/yr), 1-sigma uncertainty = +/-5.00 (mm/yr)\n",
      "- Dip-slip rate constraint on WL_117b: rate = 25.00 (mm/yr), 1-sigma uncertainty = +/-20.00 (mm/yr)\n",
      "- Dip-slip rate constraint on WSPR_fault_6: rate = -50.00 (mm/yr), 1-sigma uncertainty = +/-20.00 (mm/yr)\n",
      "- Dip-slip rate constraint on WSPR_fault_7: rate = -50.00 (mm/yr), 1-sigma uncertainty = +/-20.00 (mm/yr)\n",
      "- Tensile-slip rate constraint on asdf: rate = 0.00 (mm/yr), 1-sigma uncertainty = +/-1.00 (mm/yr)\n",
      "- Tensile-slip rate constraint on au_271: rate = 19.00 (mm/yr), 1-sigma uncertainty = +/-5.00 (mm/yr)\n",
      "- Tensile-slip rate constraint on cfm_death_valley_split_complete_trace_part13_s: rate = 0.00 (mm/yr), 1-sigma uncertainty = +/-1.00 (mm/yr)\n",
      "- Tensile-slip rate constraint on cfm_east_montebello_complete_trace_part1_s: rate = 0.00 (mm/yr), 1-sigma uncertainty = +/-1.00 (mm/yr)\n",
      "- Dip-slip rate constraint on cfm_east_north_frontal_zone_smooth_extruded_trace_part1_s: rate = 0.00 (mm/yr), 1-sigma uncertainty = +/-1.00 (mm/yr)\n",
      "- Dip-slip rate constraint on cfm_east_north_frontal_zone_smooth_extruded_trace_part2_s: rate = 0.00 (mm/yr), 1-sigma uncertainty = +/-1.00 (mm/yr)\n",
      "- Tensile-slip rate constraint on cfm_eureka_peak_west_deception_canyon_extruded_trace_part1_s_2b: rate = 0.00 (mm/yr), 1-sigma uncertainty = +/-1.00 (mm/yr)\n",
      "- Tensile-slip rate constraint on cfm_landers_detailed_complete_trace_part1_s: rate = 0.00 (mm/yr), 1-sigma uncertainty = +/-1.00 (mm/yr)\n",
      "- Strike-slip rate constraint on cfm_newport_inglewood_rose_conyon_complete_trace_part11_s: rate = -0.80 (mm/yr), 1-sigma uncertainty = +/-1.60 (mm/yr)\n",
      "- Tensile-slip rate constraint on cfm_palos_verdes_extruded_trace_part1_s_2: rate = 0.00 (mm/yr), 1-sigma uncertainty = +/-1.00 (mm/yr)\n",
      "- Tensile-slip rate constraint on cfm_san_bernardino_valley_san_jacinto_complete_trace_part5_s: rate = 0.00 (mm/yr), 1-sigma uncertainty = +/-1.00 (mm/yr)\n",
      "- Tensile-slip rate constraint on cfma_blackwater_extruded_90_trace_part2_s: rate = 0.00 (mm/yr), 1-sigma uncertainty = +/-1.00 (mm/yr)\n",
      "- Tensile-slip rate constraint on cfma_chino_extruded_65_upper_complete_trace_part4_sa: rate = 0.00 (mm/yr), 1-sigma uncertainty = +/-1.00 (mm/yr)\n",
      "- Tensile-slip rate constraint on cfma_glen_ivy_complete_trace_part2_s: rate = 0.00 (mm/yr), 1-sigma uncertainty = +/-1.00 (mm/yr)\n",
      "- Tensile-slip rate constraint on cfma_goldstone_lake_extruded_90_trace_part4_s: rate = 0.00 (mm/yr), 1-sigma uncertainty = +/-1.00 (mm/yr)\n",
      "- Tensile-slip rate constraint on cfma_helendale_south_lockhart_extruded_90_trace_part3_sbb: rate = 0.00 (mm/yr), 1-sigma uncertainty = +/-1.00 (mm/yr)\n",
      "- Strike-slip rate constraint on cfma_julian_elsinore_extrapolated_trace_part5_s_2: rate = -4.00 (mm/yr), 1-sigma uncertainty = +/-0.50 (mm/yr)\n",
      "- Tensile-slip rate constraint on cfma_pisgah_bullion_mesquite_lake_extruded_90_trace_part5_s: rate = 0.00 (mm/yr), 1-sigma uncertainty = +/-1.00 (mm/yr)\n",
      "- Tensile-slip rate constraint on cfma_san_jacinto_valley_san_jacinto_extruded_90dip_trace_part1_s: rate = 0.00 (mm/yr), 1-sigma uncertainty = +/-1.00 (mm/yr)\n",
      "- Tensile-slip rate constraint on dmgab: rate = 0.00 (mm/yr), 1-sigma uncertainty = +/-5.00 (mm/yr)\n",
      "- Tensile-slip rate constraint on koybayashi_SAF: rate = 0.00 (mm/yr), 1-sigma uncertainty = +/-5.00 (mm/yr)\n",
      "- Tensile-slip rate constraint on n_ridge_3aaaaabb: rate = 20.00 (mm/yr), 1-sigma uncertainty = +/-5.00 (mm/yr)\n",
      "- Tensile-slip rate constraint on newb: rate = 0.00 (mm/yr), 1-sigma uncertainty = +/-1.00 (mm/yr)\n",
      "- Dip-slip rate constraint on phil_taiwan_connect: rate = 100.00 (mm/yr), 1-sigma uncertainty = +/-10.00 (mm/yr)\n",
      "- Tensile-slip rate constraint on rSAP_deshon_2: rate = 0.00 (mm/yr), 1-sigma uncertainty = +/-5.00 (mm/yr)\n",
      "- Strike-slip rate constraint on ri_61: rate = 5.00 (mm/yr), 1-sigma uncertainty = +/-1.00 (mm/yr)\n",
      "- Tensile-slip rate constraint on sumatran_fault_chlieh_50: rate = 0.00 (mm/yr), 1-sigma uncertainty = +/-10.00 (mm/yr)\n",
      "- Tensile-slip rate constraint on sumatran_fault_splay_chlieh_5: rate = 0.00 (mm/yr), 1-sigma uncertainty = +/-5.00 (mm/yr)\n",
      "- Dip-slip rate constraint on waif_fault_1: rate = 0.00 (mm/yr), 1-sigma uncertainty = +/-10.00 (mm/yr)\n",
      "- Strike-slip rate constraint on well_fault_11: rate = -5.00 (mm/yr), 1-sigma uncertainty = +/-5.00 (mm/yr)\n",
      "- Dip-slip rate constraint on well_fault_13: rate = 0.00 (mm/yr), 1-sigma uncertainty = +/-5.00 (mm/yr)\n",
      "- Dip-slip rate constraint on well_fault_2: rate = 0.00 (mm/yr), 1-sigma uncertainty = +/-5.00 (mm/yr)\n",
      "- Strike-slip rate constraint on well_fault_3: rate = -5.00 (mm/yr), 1-sigma uncertainty = +/-2.00 (mm/yr)\n",
      "- Dip-slip rate constraint on well_fault_6: rate = 0.00 (mm/yr), 1-sigma uncertainty = +/-15.00 (mm/yr)\n",
      "- Dip-slip rate constraint on yamanobeb: rate = 4.00 (mm/yr), 1-sigma uncertainty = +/-2.00 (mm/yr)\n"
     ]
    }
   ],
   "source": [
    "assembly = addict.Dict()\n",
    "operators = addict.Dict()\n",
    "assembly = celeri.merge_geodetic_data(assembly, station, sar)\n",
    "assembly, operators.block_motion_constraints = celeri.block_constraints(assembly, block, command)\n",
    "assembly, operators.slip_rate_constraints = celeri.slip_rate_constraints(assembly, segment, block, command)"
   ]
  },
  {
   "cell_type": "code",
   "execution_count": 6,
   "metadata": {},
   "outputs": [],
   "source": [
    "command = addict.Dict(command)"
   ]
  }
 ],
 "metadata": {
  "interpreter": {
   "hash": "749f0fc94df05971c9b3f3660cf19264b2aeee03fc6d4bf75e86fd251d69cf68"
  },
  "kernelspec": {
   "display_name": "Python 3 (ipykernel)",
   "language": "python",
   "name": "python3"
  },
  "language_info": {
   "codemirror_mode": {
    "name": "ipython",
    "version": 3
   },
   "file_extension": ".py",
   "mimetype": "text/x-python",
   "name": "python",
   "nbconvert_exporter": "python",
   "pygments_lexer": "ipython3",
   "version": "3.9.6"
  },
  "widgets": {
   "application/vnd.jupyter.widget-state+json": {
    "state": {
     "5d49090c735a41c1a08ed189ea67de36": {
      "model_module": "@jupyter-widgets/base",
      "model_module_version": "1.2.0",
      "model_name": "LayoutModel",
      "state": {}
     },
     "997739d26ef944638ff415a5e934679a": {
      "model_module": "jupyter-matplotlib",
      "model_module_version": "^0.9.0",
      "model_name": "MPLCanvasModel",
      "state": {
       "_cursor": "default",
       "_figure_label": "Figure 1",
       "_height": 479,
       "_width": 640,
       "layout": "IPY_MODEL_5d49090c735a41c1a08ed189ea67de36",
       "toolbar": "IPY_MODEL_fd96f43799d64ba486ace0c38c348d4f",
       "toolbar_position": "left"
      }
     },
     "d027a9f507ec4fa4b62a739cdbc7170e": {
      "model_module": "@jupyter-widgets/base",
      "model_module_version": "1.2.0",
      "model_name": "LayoutModel",
      "state": {}
     },
     "fd96f43799d64ba486ace0c38c348d4f": {
      "model_module": "jupyter-matplotlib",
      "model_module_version": "^0.9.0",
      "model_name": "ToolbarModel",
      "state": {
       "layout": "IPY_MODEL_d027a9f507ec4fa4b62a739cdbc7170e",
       "toolitems": [
        [
         "Home",
         "Reset original view",
         "home",
         "home"
        ],
        [
         "Back",
         "Back to previous view",
         "arrow-left",
         "back"
        ],
        [
         "Forward",
         "Forward to next view",
         "arrow-right",
         "forward"
        ],
        [
         "Pan",
         "Left button pans, Right button zooms\nx/y fixes axis, CTRL fixes aspect",
         "arrows",
         "pan"
        ],
        [
         "Zoom",
         "Zoom to rectangle\nx/y fixes axis, CTRL fixes aspect",
         "square-o",
         "zoom"
        ],
        [
         "Download",
         "Download plot",
         "floppy-o",
         "save_figure"
        ]
       ]
      }
     }
    },
    "version_major": 2,
    "version_minor": 0
   }
  }
 },
 "nbformat": 4,
 "nbformat_minor": 4
}
