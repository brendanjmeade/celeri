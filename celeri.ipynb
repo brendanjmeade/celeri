{
 "cells": [
  {
   "cell_type": "code",
   "execution_count": 19,
   "source": [
    "%matplotlib widget\n",
    "%config InlineBackend.figure_format = 'svg'\n",
    "%load_ext line_profiler # Example: %lprun -T lprof0 -f celeri.celeri.get_okada_displacements u_east, u_north, u_up = celeri.get_okada_displacements(segment.lon1.values[segment_idx], segment.lat1[segment_idx], segment.lon2[segment_idx], segment.lat2[segment_idx], segment.locking_depth[segment_idx], segment.burial_depth[segment_idx], segment.dip[segment_idx], command.material_lambda, command.material_mu, 1, 0, 0, station.lon, station.lat)"
   ],
   "outputs": [
    {
     "output_type": "stream",
     "name": "stdout",
     "text": [
      "The line_profiler extension is already loaded. To reload it, use:\n",
      "  %reload_ext line_profiler\n"
     ]
    }
   ],
   "metadata": {
    "execution": {
     "iopub.execute_input": "2021-08-22T18:29:50.539195Z",
     "iopub.status.busy": "2021-08-22T18:29:50.538938Z",
     "iopub.status.idle": "2021-08-22T18:29:50.550334Z",
     "shell.execute_reply": "2021-08-22T18:29:50.549700Z",
     "shell.execute_reply.started": "2021-08-22T18:29:50.539169Z"
    },
    "tags": []
   }
  },
  {
   "cell_type": "code",
   "execution_count": 42,
   "source": [
    "import addict\n",
    "import numpy as np\n",
    "import pandas as pd\n",
    "import matplotlib.pyplot as plt\n",
    "from importlib import reload\n",
    "from tqdm.notebook import tqdm\n",
    "\n",
    "import celeri\n",
    "celeri = reload(celeri)\n",
    "\n",
    "# Plotting the global model is much much faster with tex fonts turned off\n",
    "plt.rcParams['text.usetex'] = False"
   ],
   "outputs": [],
   "metadata": {
    "execution": {
     "iopub.execute_input": "2021-08-22T18:29:51.661926Z",
     "iopub.status.busy": "2021-08-22T18:29:51.661659Z",
     "iopub.status.idle": "2021-08-22T18:29:51.956035Z",
     "shell.execute_reply": "2021-08-22T18:29:51.955292Z",
     "shell.execute_reply.started": "2021-08-22T18:29:51.661900Z"
    },
    "tags": []
   }
  },
  {
   "cell_type": "code",
   "execution_count": 60,
   "source": [
    "command_file_name = \"./data/western_north_america/basic_command.json\"\n",
    "command, segment, block, meshes, station, mogi, sar = celeri.read_data(command_file_name)\n",
    "station = celeri.process_station(station, command)\n",
    "segment = celeri.process_segment(segment, command, meshes)\n",
    "sar = celeri.process_sar(sar, command)\n",
    "closure, block = celeri.assign_block_labels(segment, station, block, mogi, sar)\n",
    "celeri.plot_block_labels(segment, block, station, closure)"
   ],
   "outputs": [
    {
     "output_type": "stream",
     "name": "stderr",
     "text": [
      "WARNING:root:The file contains tag data that couldn't be processed.\n"
     ]
    },
    {
     "output_type": "display_data",
     "data": {
      "text/plain": [
       "Canvas(toolbar=Toolbar(toolitems=[('Home', 'Reset original view', 'home', 'home'), ('Back', 'Back to previous …"
      ],
      "application/vnd.jupyter.widget-view+json": {
       "version_major": 2,
       "version_minor": 0,
       "model_id": "1ead4a3f4a4a497b8f0fba76ef499288"
      }
     },
     "metadata": {}
    }
   ],
   "metadata": {
    "execution": {
     "iopub.execute_input": "2021-08-22T18:29:53.570589Z",
     "iopub.status.busy": "2021-08-22T18:29:53.570331Z",
     "iopub.status.idle": "2021-08-22T18:30:09.817977Z",
     "shell.execute_reply": "2021-08-22T18:30:09.817443Z",
     "shell.execute_reply.started": "2021-08-22T18:29:53.570561Z"
    },
    "tags": []
   }
  },
  {
   "cell_type": "code",
   "execution_count": 25,
   "source": [
    "assembly = addict.Dict()\n",
    "operators = addict.Dict()\n",
    "assembly = celeri.merge_geodetic_data(assembly, station, sar)\n",
    "assembly, operators.block_motion_constraints = celeri.block_constraints(assembly, block, command)\n",
    "assembly, operators.slip_rate_constraints = celeri.slip_rate_constraints(assembly, segment, block, command)\n",
    "operators.okada_segment_station = celeri.get_segment_station_operator_okada(segment, station, command)\n",
    "celeri.plot_segment_displacements(segment, station, command, segment_idx=0, strike_slip=1, dip_slip=0, tensile_slip=0, lon_min=235, lon_max=255, lat_min=30, lat_max=50, quiver_scale=1e-1)\n",
    "operators.slip_rate_segment_block = celeri.get_fault_slip_rate_partials(segment, block)\n",
    "assembly.index.sz_elastic = operators.okada_segment_station.shape # Not sure this is correct\n",
    "assembly.index.sz_slip = operators.slip_rate_segment_block.shape # Not sure this is correct\n",
    "operators.block_rotation = celeri.get_block_rotation_operator(station, block)\n",
    "assembly.index.sz_rotation = operators.block_rotation.shape # Not sure this is correct\n",
    "assembly = celeri.station_row_keep(assembly) # Not sure this is correct\n",
    "operators.block_strain_rate, strain_rate_block_idx = celeri.get_strain_rate_centroid_operator(block, station, segment) # This function need work\n",
    "operators.mogi_station = celeri.get_mogi_operator(mogi, station, command)"
   ],
   "outputs": [
    {
     "output_type": "display_data",
     "data": {
      "text/plain": [
       "Calculating Okada partials for segments:   0%|          | 0/837 [00:00<?, ?it/s]"
      ],
      "application/vnd.jupyter.widget-view+json": {
       "version_major": 2,
       "version_minor": 0,
       "model_id": "ab13e441ca3d47efb3ccf7bea27882e8"
      }
     },
     "metadata": {}
    },
    {
     "output_type": "display_data",
     "data": {
      "text/plain": [
       "Canvas(toolbar=Toolbar(toolitems=[('Home', 'Reset original view', 'home', 'home'), ('Back', 'Back to previous …"
      ],
      "application/vnd.jupyter.widget-view+json": {
       "version_major": 2,
       "version_minor": 0,
       "model_id": "14e95734d1c34265ace4b57175bcbc7b"
      }
     },
     "metadata": {}
    }
   ],
   "metadata": {
    "tags": []
   }
  },
  {
   "cell_type": "code",
   "execution_count": 128,
   "source": [
    "def latitude_to_colatitude(lat):\n",
    "    \"\"\"\n",
    "    Convert from latitude to colatitude\n",
    "    NOTE: Not sure why I need to treat the scalar case differently but I do.\n",
    "    \"\"\"\n",
    "    if lat.size == 1:  # Deal with the scalar case\n",
    "        if lat >= 0:\n",
    "            lat = 90.0 - lat\n",
    "        elif lat < 0:\n",
    "            lat = -90.0 - lat\n",
    "    else:  # Deal with the array case\n",
    "        lat[np.where(lat >= 0)[0]] = 90.0 - lat[np.where(lat >= 0)[0]]\n",
    "        lat[np.where(lat < 0)[0]] = -90.0 - lat[np.where(lat < 0)[0]]\n",
    "    return lat\n",
    "\n",
    "\n",
    "def get_block_centroid(segment, block_idx):\n",
    "    \"\"\"\n",
    "    Calculate centroid of a block based on boundary polygon\n",
    "    We take all block vertices (including duplicates) and estimate\n",
    "    the centroid by taking the average of longitude and latitude\n",
    "    weighted by the length of the segment that each vertex is \n",
    "    attached to.\n",
    "    \"\"\"\n",
    "    segments_with_block_idx = np.union1d(np.where(segment.west_labels == 0)[0], np.where(segment.east_labels == 0)[0])\n",
    "    lon0 = np.concatenate((segment.lon1[segments_with_block_idx], segment.lon2[segments_with_block_idx]))\n",
    "    lat0 = np.concatenate((segment.lat1[segments_with_block_idx], segment.lat2[segments_with_block_idx]))\n",
    "    lengths = np.concatenate((segment.length[segments_with_block_idx], segment.length[segments_with_block_idx]))\n",
    "    block_centroid_lon = np.average(lon0, weights=lengths)\n",
    "    block_centroid_lat = np.average(lat0, weights=lengths)\n",
    "    return block_centroid_lon, block_centroid_lat\n",
    "\n",
    "\n",
    "def get_strain_rate_displacements(station, segment, block_idx, strain_rate_lon_lon, strain_rate_lat_lat, strain_rate_lon_lat):\n",
    "    \"\"\"\n",
    "    Calculate displacements within a signble block due to three\n",
    "    strain rate components within that block.  Velocities will be\n",
    "    zero on all blocks other than than the the current block.\n",
    "\n",
    "    Equations are from Savage (2001) and expressed concisely in McCaffrey (2005)\n",
    "    In McCaffrey (2005) these are the two unnumbered equations at the bottom\n",
    "    of page 2\n",
    "    \"\"\"\n",
    "\n",
    "    # Find block centroids and convert to colatitude and radians\n",
    "    block_centroid_lon, block_centroid_lat = get_block_centroid(segment, block_idx)\n",
    "    block_centroid_lon = np.deg2rad(block_centroid_lon)\n",
    "    block_centroid_lat = latitude_to_colatitude(block_centroid_lat)\n",
    "    block_centroid_lat = np.deg2rad(block_centroid_lat)\n",
    "\n",
    "    # Find indices of stations on the current block and convert to colatitude and radians\n",
    "    station_block_idx = np.where(station.block_label == block_idx)[0]\n",
    "    stations_block_lon = station.lon[station_block_idx].to_numpy()\n",
    "    stations_block_lon = np.deg2rad(stations_block_lon)\n",
    "    stations_block_lat = station.lat[station_block_idx].to_numpy()\n",
    "    stations_block_lat = latitude_to_colatitude(stations_block_lat)\n",
    "    stations_block_lat = np.deg2rad(stations_block_lat)\n",
    "\n",
    "    # Calculate displacements from homogeneous strain\n",
    "    u_east = np.zeros(len(station))\n",
    "    u_north = np.zeros(len(station))\n",
    "    u_up = np.zeros(len(station)) # Always zero here because we're assuming plane strain on the sphere\n",
    "    u_east_current_block = strain_rate_lon_lon * (celeri.RADIUS_EARTH * (stations_block_lon - block_centroid_lon) * np.sin(block_centroid_lat)) + strain_rate_lon_lat * (celeri.RADIUS_EARTH * (stations_block_lat - block_centroid_lat))\n",
    "    u_north_current_block = strain_rate_lon_lat * (celeri.RADIUS_EARTH * (stations_block_lon - block_centroid_lon) * np.sin(block_centroid_lat)) + strain_rate_lat_lat * (celeri.RADIUS_EARTH * (stations_block_lat - block_centroid_lat))\n",
    "    u_east[station_block_idx] = u_east_current_block\n",
    "    u_north[station_block_idx] = u_north_current_block\n",
    "    return u_east, u_north, u_up\n",
    "\n",
    "# def get_strain_rate_centroid_operator(block, station, segment):\n",
    "#     \"\"\"\n",
    "#     Calculate strain partial derivatives assuming a strain centroid at the center of each block\n",
    "#     TODO: Return something related to assembly.index???\n",
    "#     \"\"\"\n",
    "block.strain_rate_flag.values[0] = 1  #TODO: REMOVE THIS.  ONLY FOR TESTING\n",
    "strain_rate_block_idx = np.where(block.strain_rate_flag.to_numpy() > 0)[0]\n",
    "if strain_rate_block_idx.size > 0:\n",
    "    block_strain_rate_operator = np.zeros((3 * len(station), 3 * strain_rate_block_idx.size))\n",
    "    for i in range(strain_rate_block_idx.size):\n",
    "        # Calculate partials for each component of strain rate\n",
    "        u_east_lon_lon, u_north_lon_lon, u_up_lon_lon = get_strain_rate_displacements(station, segment, block_idx=strain_rate_block_idx[i], strain_rate_lon_lon=1, strain_rate_lat_lat=0, strain_rate_lon_lat=0)\n",
    "        u_east_lat_lat, u_north_lat_lat, u_up_lat_lat = get_strain_rate_displacements(station, segment, block_idx=strain_rate_block_idx[i], strain_rate_lon_lon=0, strain_rate_lat_lat=1, strain_rate_lon_lat=0)\n",
    "        u_east_lon_lat, u_north_lon_lat, u_up_lon_lat = get_strain_rate_displacements(station, segment, block_idx=strain_rate_block_idx[i], strain_rate_lon_lon=0, strain_rate_lat_lat=0, strain_rate_lon_lat=1)\n",
    "\n",
    "        # TODO: Interleave velocities and insert columns into operator\n",
    "\n",
    "        # block_strain_rate_operator = block_strain_rate_operator[:, keep_columns]\n",
    "else:\n",
    "    block_strain_rate_operator = np.empty(0)\n",
    "\n",
    "#     # TODO: Write a test here that checks the number of stations on each block that includes\n",
    "#     # internal strain.  Send an error if any of those blocks have less the command.min_n_stations_strain_rate_block\n",
    "\n",
    "#     return block_strain_rate_operator, strain_rate_block_idx\n",
    "\n",
    "\n",
    "block_idx = 0\n",
    "def plot_strain_rate_components_for_block(closure, segment, station, block_idx):\n",
    "    plt.figure(figsize=(10, 3))\n",
    "    plt.subplot(1, 3, 1)\n",
    "    u_east, u_north, u_up = get_strain_rate_displacements(station, segment, block_idx=block_idx, strain_rate_lon_lon=1, strain_rate_lat_lat=0, strain_rate_lon_lat=0)\n",
    "    for i in range(closure.n_polygons()):\n",
    "        plt.plot(closure.polygons[i].vertices[:, 0], closure.polygons[i].vertices[:, 1], \"k-\", linewidth=0.5)\n",
    "    plt.quiver(station.lon, station.lat, u_east, u_north, scale=1e7, scale_units=\"inches\", color=\"r\")\n",
    "\n",
    "    plt.subplot(1, 3, 2)\n",
    "    u_east, u_north, u_up = get_strain_rate_displacements(station, segment, block_idx=block_idx, strain_rate_lon_lon=0, strain_rate_lat_lat=1, strain_rate_lon_lat=0)\n",
    "    for i in range(closure.n_polygons()):\n",
    "        plt.plot(closure.polygons[i].vertices[:, 0], closure.polygons[i].vertices[:, 1], \"k-\", linewidth=0.5)\n",
    "    plt.quiver(station.lon, station.lat, u_east, u_north, scale=1e7, scale_units=\"inches\", color=\"r\")\n",
    "\n",
    "    plt.subplot(1, 3, 3)\n",
    "    u_east, u_north, u_up = get_strain_rate_displacements(station, segment, block_idx=block_idx, strain_rate_lon_lon=0, strain_rate_lat_lat=0, strain_rate_lon_lat=1)\n",
    "    for i in range(closure.n_polygons()):\n",
    "        plt.plot(closure.polygons[i].vertices[:, 0], closure.polygons[i].vertices[:, 1], \"k-\", linewidth=0.5)\n",
    "    plt.quiver(station.lon, station.lat, u_east, u_north, scale=1e7, scale_units=\"inches\", color=\"r\")\n",
    "    plt.show()\n",
    "\n",
    "plot_strain_rate_components_for_block(closure, segment, station, block_idx)\n"
   ],
   "outputs": [
    {
     "output_type": "stream",
     "name": "stdout",
     "text": [
      "[0]\n"
     ]
    },
    {
     "output_type": "display_data",
     "data": {
      "text/plain": [
       "Canvas(toolbar=Toolbar(toolitems=[('Home', 'Reset original view', 'home', 'home'), ('Back', 'Back to previous …"
      ],
      "application/vnd.jupyter.widget-view+json": {
       "version_major": 2,
       "version_minor": 0,
       "model_id": "e82b9d8c2c694896822df1fe1c012236"
      }
     },
     "metadata": {}
    }
   ],
   "metadata": {}
  },
  {
   "cell_type": "code",
   "execution_count": null,
   "source": [],
   "outputs": [],
   "metadata": {}
  }
 ],
 "metadata": {
  "interpreter": {
   "hash": "1c99b817e7692020a25f5bce5fd58f988aabefee874a9cd895a1468d49750c9a"
  },
  "kernelspec": {
   "name": "python3",
   "display_name": "Python 3.9.6 64-bit ('celeri': conda)"
  },
  "language_info": {
   "codemirror_mode": {
    "name": "ipython",
    "version": 3
   },
   "file_extension": ".py",
   "mimetype": "text/x-python",
   "name": "python",
   "nbconvert_exporter": "python",
   "pygments_lexer": "ipython3",
   "version": "3.9.6"
  },
  "widgets": {
   "application/vnd.jupyter.widget-state+json": {
    "state": {
     "4d250c5d35aa493295ca814fb3eaa1ee": {
      "model_module": "@jupyter-widgets/base",
      "model_module_version": "1.2.0",
      "model_name": "LayoutModel",
      "state": {}
     },
     "6faf75ca5f3b41388f284e98ec2cf803": {
      "model_module": "jupyter-matplotlib",
      "model_module_version": "^0.9.0",
      "model_name": "ToolbarModel",
      "state": {
       "layout": "IPY_MODEL_9b061db2dc65459ca586b9b9f73c2362",
       "toolitems": [
        [
         "Home",
         "Reset original view",
         "home",
         "home"
        ],
        [
         "Back",
         "Back to previous view",
         "arrow-left",
         "back"
        ],
        [
         "Forward",
         "Forward to next view",
         "arrow-right",
         "forward"
        ],
        [
         "Pan",
         "Left button pans, Right button zooms\nx/y fixes axis, CTRL fixes aspect",
         "arrows",
         "pan"
        ],
        [
         "Zoom",
         "Zoom to rectangle\nx/y fixes axis, CTRL fixes aspect",
         "square-o",
         "zoom"
        ],
        [
         "Download",
         "Download plot",
         "floppy-o",
         "save_figure"
        ]
       ]
      }
     },
     "9b061db2dc65459ca586b9b9f73c2362": {
      "model_module": "@jupyter-widgets/base",
      "model_module_version": "1.2.0",
      "model_name": "LayoutModel",
      "state": {}
     },
     "c25a38234e8f4e818670d9767f95a430": {
      "model_module": "jupyter-matplotlib",
      "model_module_version": "^0.9.0",
      "model_name": "MPLCanvasModel",
      "state": {
       "_cursor": "default",
       "_figure_label": "Figure 1",
       "_height": 708,
       "_width": 1746,
       "layout": "IPY_MODEL_4d250c5d35aa493295ca814fb3eaa1ee",
       "toolbar": "IPY_MODEL_6faf75ca5f3b41388f284e98ec2cf803",
       "toolbar_position": "left"
      }
     }
    },
    "version_major": 2,
    "version_minor": 0
   }
  }
 },
 "nbformat": 4,
 "nbformat_minor": 4
}