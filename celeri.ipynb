{
 "cells": [
  {
   "cell_type": "code",
   "execution_count": 1,
   "source": [
    "%matplotlib widget\n",
    "%config InlineBackend.figure_format = 'svg'"
   ],
   "outputs": [],
   "metadata": {}
  },
  {
   "cell_type": "code",
   "execution_count": 21,
   "source": [
    "import copy\n",
    "import datetime\n",
    "import os\n",
    "import numpy as np\n",
    "import pandas as pd\n",
    "import matplotlib.pyplot as plt\n",
    "from importlib import reload\n",
    "\n",
    "import celeri\n",
    "celeri = reload(celeri)"
   ],
   "outputs": [],
   "metadata": {
    "tags": []
   }
  },
  {
   "cell_type": "code",
   "execution_count": 14,
   "source": [
    "RUN_NAME = datetime.datetime.now().strftime(\"%y%m%d%H%M%S\") + os.sep\n",
    "command_file_name = './data/western_north_america/western_north_america_command.json'\n",
    "command, segment, block, meshes, station, mogi, sar = celeri.read_data(command_file_name)\n",
    "station = celeri.process_station(station, command)\n",
    "segment = celeri.process_segment(segment, command)\n",
    "sar = celeri.process_sar(sar, command)\n",
    "segment, station, block, mogi, sar = celeri.assign_block_labels(segment, station, block, mogi, sar)\n",
    "# celeri.plot_block_labels(segment, block, station)\n",
    "assembly = celeri.create_assembly_dictionary()\n",
    "assembly = celeri.merge_geodetic_data(assembly, station, sar)\n",
    "partials = {} \n",
    "assembly, partials[\"block_motion_constraints\"] = celeri.block_constraints(assembly, block, command)\n",
    "assembly, partials[\"slip_rate_constraints\"] = celeri.slip_rate_constraints(assembly, segment, block, command)"
   ],
   "outputs": [],
   "metadata": {
    "tags": []
   }
  },
  {
   "cell_type": "code",
   "execution_count": 22,
   "source": [
    "\n"
   ],
   "outputs": [
    {
     "output_type": "stream",
     "name": "stdout",
     "text": [
      "Isolating slip rate constraints\n",
      "- Dip-slip rate constraint on Nevada02abb: rate = -2.40 (mm/yr), 1-sigma uncertainty = +/-1.20 (mm/yr)\n",
      "- Strike-slip rate constraint on SierraConnectbb: rate = -1.70 (mm/yr), 1-sigma uncertainty = +/-0.80 (mm/yr)\n",
      "- Strike-slip rate constraint on TestSjfa: rate = -17.50 (mm/yr), 1-sigma uncertainty = +/-8.80 (mm/yr)\n",
      "- Strike-slip rate constraint on aaa: rate = -3.50 (mm/yr), 1-sigma uncertainty = +/-1.70 (mm/yr)\n",
      "- Strike-slip rate constraint on asdf: rate = -4.00 (mm/yr), 1-sigma uncertainty = +/-2.00 (mm/yr)\n",
      "- Strike-slip rate constraint on asdf: rate = 2.80 (mm/yr), 1-sigma uncertainty = +/-2.50 (mm/yr)\n",
      "- Strike-slip rate constraint on asdfb: rate = -9.20 (mm/yr), 1-sigma uncertainty = +/-4.60 (mm/yr)\n",
      "- Strike-slip rate constraint on asdfba: rate = -17.00 (mm/yr), 1-sigma uncertainty = +/-8.50 (mm/yr)\n",
      "- Dip-slip rate constraint on asdfbb: rate = -3.00 (mm/yr), 1-sigma uncertainty = +/-1.50 (mm/yr)\n",
      "- Strike-slip rate constraint on cfm_camp_rock_complete_trace_part1_s: rate = -1.40 (mm/yr), 1-sigma uncertainty = +/-0.70 (mm/yr)\n",
      "- Strike-slip rate constraint on cfm_newport_inglewood_rose_conyon_complete_trace_part2_s: rate = -1.50 (mm/yr), 1-sigma uncertainty = +/-0.80 (mm/yr)\n",
      "- Strike-slip rate constraint on cfm_palos_verdes_extruded_trace_part7_s_2: rate = -3.30 (mm/yr), 1-sigma uncertainty = +/-1.60 (mm/yr)\n",
      "- Strike-slip rate constraint on cfm_san_andreas_mojave_extruded_trace_part1_sa: rate = -35.60 (mm/yr), 1-sigma uncertainty = +/-17.80 (mm/yr)\n",
      "- Strike-slip rate constraint on cfm_san_bernardino_valley_san_jacinto_complete_trace_part5_s: rate = -2.50 (mm/yr), 1-sigma uncertainty = +/-1.20 (mm/yr)\n",
      "- Strike-slip rate constraint on cfma_carrizo_extruded_1_trace_part1_sa: rate = -42.50 (mm/yr), 1-sigma uncertainty = +/-21.20 (mm/yr)\n",
      "- Strike-slip rate constraint on cfma_carrizo_extruded_1_trace_part5_saa: rate = -33.90 (mm/yr), 1-sigma uncertainty = +/-16.90 (mm/yr)\n",
      "- Strike-slip rate constraint on cfma_garlock_complete_trace_part11_s: rate = 6.50 (mm/yr), 1-sigma uncertainty = +/-4.50 (mm/yr)\n",
      "- Dip-slip rate constraint on cfma_newport_inglewood_complete_trace_part4_s: rate = 1.20 (mm/yr), 1-sigma uncertainty = +/-0.60 (mm/yr)\n",
      "- Strike-slip rate constraint on cfma_north_san_gabriel_extruded_60_trace_part4_s_2: rate = -2.80 (mm/yr), 1-sigma uncertainty = +/-1.40 (mm/yr)\n",
      "- Strike-slip rate constraint on cfma_pisgah_bullion_mesquite_lake_extruded_90_trace_part3_s: rate = -1.00 (mm/yr), 1-sigma uncertainty = +/-0.50 (mm/yr)\n",
      "- Dip-slip rate constraint on cfma_raymond_complete_trace_part4_sa: rate = 1.50 (mm/yr), 1-sigma uncertainty = +/-0.80 (mm/yr)\n",
      "- Strike-slip rate constraint on cfma_sa_parkfield_extruded_90dip_trace_part1_sabb: rate = -24.80 (mm/yr), 1-sigma uncertainty = +/-12.40 (mm/yr)\n",
      "- Strike-slip rate constraint on cfma_san_andreas_coachella_alt2_complete_trace_part1_s: rate = -15.50 (mm/yr), 1-sigma uncertainty = +/-7.80 (mm/yr)\n",
      "- Strike-slip rate constraint on cfma_san_andreas_san_bernardino_alt2_complete_trace_part7_s: rate = -12.40 (mm/yr), 1-sigma uncertainty = +/-6.20 (mm/yr)\n",
      "- Dip-slip rate constraint on cfma_santa_susana_complete_trace_part4_s: rate = 6.00 (mm/yr), 1-sigma uncertainty = +/-3.90 (mm/yr)\n",
      "- Strike-slip rate constraint on cfma_white_wolf_long_complete_trace_part6_s: rate = 4.00 (mm/yr), 1-sigma uncertainty = +/-4.40 (mm/yr)\n",
      "- Dip-slip rate constraint on cfma_white_wolf_long_complete_trace_part6_s: rate = 2.30 (mm/yr), 1-sigma uncertainty = +/-4.40 (mm/yr)\n",
      "- Strike-slip rate constraint on conn: rate = -1.40 (mm/yr), 1-sigma uncertainty = +/-0.70 (mm/yr)\n",
      "- Dip-slip rate constraint on deepspringsvalley1b: rate = -1.00 (mm/yr), 1-sigma uncertainty = +/-0.80 (mm/yr)\n",
      "- Strike-slip rate constraint on dmga: rate = -8.40 (mm/yr), 1-sigma uncertainty = +/-4.20 (mm/yr)\n",
      "- Strike-slip rate constraint on dmgab: rate = -24.00 (mm/yr), 1-sigma uncertainty = +/-12.00 (mm/yr)\n",
      "- Strike-slip rate constraint on dmgbb: rate = -23.00 (mm/yr), 1-sigma uncertainty = +/-11.50 (mm/yr)\n",
      "- Strike-slip rate constraint on rrr: rate = -1.80 (mm/yr), 1-sigma uncertainty = +/-0.90 (mm/yr)\n",
      "- Dip-slip rate constraint on tahoeaabaa: rate = -0.80 (mm/yr), 1-sigma uncertainty = +/-0.50 (mm/yr)\n"
     ]
    }
   ],
   "metadata": {}
  },
  {
   "cell_type": "code",
   "execution_count": 5,
   "source": [
    "a = 1\n",
    "b = np.array([1])\n",
    "c = np.array(1)"
   ],
   "outputs": [],
   "metadata": {}
  }
 ],
 "metadata": {
  "interpreter": {
   "hash": "749f0fc94df05971c9b3f3660cf19264b2aeee03fc6d4bf75e86fd251d69cf68"
  },
  "kernelspec": {
   "name": "python3",
   "display_name": "Python 3.8.8 64-bit ('base': conda)"
  },
  "language_info": {
   "codemirror_mode": {
    "name": "ipython",
    "version": 3
   },
   "file_extension": ".py",
   "mimetype": "text/x-python",
   "name": "python",
   "nbconvert_exporter": "python",
   "pygments_lexer": "ipython3",
   "version": "3.8.8"
  },
  "widgets": {
   "application/vnd.jupyter.widget-state+json": {
    "state": {},
    "version_major": 2,
    "version_minor": 0
   }
  }
 },
 "nbformat": 4,
 "nbformat_minor": 4
}