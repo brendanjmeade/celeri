{
 "cells": [
  {
   "cell_type": "code",
   "execution_count": 19,
   "source": [
    "#%config InlineBackend.figure_format='retina'"
   ],
   "outputs": [],
   "metadata": {}
  },
  {
   "cell_type": "code",
   "execution_count": 20,
   "source": [
    "%matplotlib widget\n",
    "%config InlineBackend.figure_format = 'svg'"
   ],
   "outputs": [],
   "metadata": {}
  },
  {
   "cell_type": "code",
   "execution_count": 21,
   "source": [
    "import copy\n",
    "import datetime\n",
    "import json\n",
    "import os\n",
    "import scipy.spatial\n",
    "import networkx as nx\n",
    "import numpy as np\n",
    "import pandas as pd\n",
    "import matplotlib.pyplot as plt\n",
    "from importlib import reload\n",
    "\n",
    "import celeri\n",
    "celeri = reload(celeri)"
   ],
   "outputs": [],
   "metadata": {
    "tags": []
   }
  },
  {
   "cell_type": "code",
   "execution_count": 22,
   "source": [
    "RUN_NAME = datetime.datetime.now().strftime(\"%y%m%d%H%M%S\") + os.sep\n",
    "with open('./data/western_north_america/command.json', 'r') as f:\n",
    "    command = json.load(f)\n",
    "station = pd.read_csv(command[\"station_file_name\"])\n",
    "segment = pd.read_csv(command[\"segment_file_name\"])\n",
    "block = pd.read_csv(command[\"block_file_name\"])"
   ],
   "outputs": [],
   "metadata": {
    "tags": []
   }
  },
  {
   "cell_type": "code",
   "execution_count": 23,
   "source": [
    "station = celeri.process_station(station, command)\n",
    "segment = celeri.process_segment(segment, command)"
   ],
   "outputs": [],
   "metadata": {
    "tags": []
   }
  },
  {
   "cell_type": "code",
   "execution_count": 24,
   "source": [
    "np_segments = np.zeros((len(segment), 2, 2))\n",
    "np_segments[:, 0, 0] = segment.lon1.to_numpy()\n",
    "np_segments[:, 1, 0] = segment.lon2.to_numpy()\n",
    "np_segments[:, 0, 1] = segment.lat1.to_numpy()\n",
    "np_segments[:, 1, 1] = segment.lat2.to_numpy()"
   ],
   "outputs": [],
   "metadata": {
    "tags": []
   }
  },
  {
   "cell_type": "code",
   "execution_count": 25,
   "source": [
    "# De-duplicate the vertices and build an ptr_edge array\n",
    "all_vertices = np_segments.reshape((-1, 2))\n",
    "tree = scipy.spatial.KDTree(all_vertices, leafsize=1000)\n",
    "duplicates = tree.query_ball_point(all_vertices, 1e-8)\n",
    "\n",
    "edge_idx_to_vertex_idx = []\n",
    "vertex_idx_to_edge_idx = []\n",
    "dedup_vertices = []\n",
    "original_to_new = dict()\n",
    "for i in range(np_segments.shape[0]):\n",
    "    v1_idx = duplicates[2 * i][0]\n",
    "    v2_idx = duplicates[2 * i + 1][0]\n",
    "    \n",
    "    if v1_idx == 2 * i:\n",
    "        original_to_new[2 * i] = len(dedup_vertices)\n",
    "        dedup_vertices.append(np_segments[i][0])\n",
    "        vertex_idx_to_edge_idx.append([])\n",
    "        \n",
    "    if v2_idx == 2 * i + 1:\n",
    "        original_to_new[2 * i + 1] = len(dedup_vertices)\n",
    "        dedup_vertices.append(np_segments[i][1])\n",
    "        vertex_idx_to_edge_idx.append([])\n",
    "        \n",
    "    edge_idx = len(edge_idx_to_vertex_idx)\n",
    "    edge_idx_to_vertex_idx.append((original_to_new[v1_idx], original_to_new[v2_idx]))\n",
    "    vertex_idx_to_edge_idx[original_to_new[v1_idx]].append(edge_idx)\n",
    "    vertex_idx_to_edge_idx[original_to_new[v2_idx]].append(edge_idx)\n",
    "\n",
    "n_edges = len(edge_idx_to_vertex_idx)\n",
    "n_vertices = len(dedup_vertices)\n",
    "\n",
    "edge_idx_to_vertex_idx = np.array(edge_idx_to_vertex_idx, dtype=int)\n",
    "#reverse_edge_idx_to_vertex_idx = np.fliplr(edge_idx_to_vertex_idx)\n",
    "vertex_idx_to_edge_idx = np.array(vertex_idx_to_edge_idx, dtype=object)\n",
    "dedup_vertices = np.array(dedup_vertices)"
   ],
   "outputs": [],
   "metadata": {}
  },
  {
   "cell_type": "code",
   "execution_count": 26,
   "source": [
    "# Check that the vertices are unique up to 1e-8 now.\n",
    "new_tree = scipy.spatial.KDTree(dedup_vertices)\n",
    "assert(np.all([v[0] == i for i,v in enumerate(new_tree.query_ball_point(dedup_vertices, 1e-8))]))"
   ],
   "outputs": [],
   "metadata": {}
  },
  {
   "cell_type": "code",
   "execution_count": 27,
   "source": [
    "def angle(v1, v2, v3):\n",
    "    \"\"\"\n",
    "    Compute the angle between the vector (v2, v3) and (v1, v2)\n",
    "    The angle is constrained to lie in [-np.pi, np.pi]\n",
    "    No turn will result in an angle of 0. \n",
    "    A left turn will produce a positive angle.\n",
    "    A right turn will produce a negative angle.\n",
    "    \"\"\"\n",
    "    A1 = np.arctan2(v3[1] - v2[1], v3[0] - v2[0])\n",
    "    A2 = np.arctan2(v2[1] - v1[1], v2[0] - v1[0])\n",
    "    \n",
    "    angle = A1 - A2\n",
    "    if angle < -np.pi:\n",
    "        angle += 2 * np.pi\n",
    "    elif angle > np.pi:\n",
    "        angle -= 2 * np.pi\n",
    "    return angle"
   ],
   "outputs": [],
   "metadata": {
    "tags": []
   }
  },
  {
   "cell_type": "code",
   "execution_count": 28,
   "source": [
    "%%time\n",
    "def identify_rightward_half_edge(v1_idx, v2_idx, edge_idx):\n",
    "    v1, v2 = dedup_vertices[[v1_idx, v2_idx]]\n",
    "    \n",
    "    # All the edges connected to v2 except for the edge (v1,v2)\n",
    "    possible_edges = [e_i for e_i in vertex_idx_to_edge_idx[v2_idx] if e_i != edge_idx]\n",
    "\n",
    "    # Identify the angle for each potential edge. \n",
    "    angles = []\n",
    "    edge_direction = []\n",
    "    for e in possible_edges:\n",
    "        possible_vs = edge_idx_to_vertex_idx[e]\n",
    "        direction = 1 if possible_vs[0] == v2_idx else 0\n",
    "        v3 = dedup_vertices[possible_vs[direction]]\n",
    "        angles.append(angle(v1, v2, v3))\n",
    "        edge_direction.append(direction)\n",
    "    \n",
    "    # The right turn will have the smallest angle.\n",
    "    right_idx = np.argmin(angles)\n",
    "    \n",
    "    # Return a half edge index instead of an edge index. \n",
    "    return 2 * possible_edges[right_idx] + edge_direction[right_idx]\n",
    "\n",
    "\"\"\"\n",
    "Introducing... half edges! \n",
    "Now, the edge from v1_idx --> v2_idx will be different from the edge from v2_idx --> v1_idx.\n",
    "half edge idx 2*edge_idx+0 refers to the edge (v2_idx, v1_idx0)\n",
    "half edge idx 2*edge_idx+1 refers to the edge (v1_idx, v2_idx0)\n",
    "Thus every edge corresponds to two oppositely ordered half edges.\n",
    "\n",
    "Then, for each half edge, identify the next half edge that is \"to the right\"\n",
    "in the direction that the half edge points. That is, following the vector\n",
    "from the first vertex to the second vertex along that half edge, which half \n",
    "edge from the connected edges is the one that turns most sharply to the right.\n",
    "\n",
    "From this right_half_edge data structure, it will be straightforward to follow\n",
    "the next rightwards half edge around a polygon and identify each individual \n",
    "polygon. \n",
    "\"\"\"\n",
    "\n",
    "right_half_edge = np.empty(n_edges * 2, dtype=int)\n",
    "for edge_idx in range(n_edges):\n",
    "    v1_idx, v2_idx = edge_idx_to_vertex_idx[edge_idx]\n",
    "    right_half_edge[2 * edge_idx + 0] = identify_rightward_half_edge(v2_idx, v1_idx, edge_idx)\n",
    "    right_half_edge[2 * edge_idx + 1] = identify_rightward_half_edge(v1_idx, v2_idx, edge_idx)"
   ],
   "outputs": [
    {
     "output_type": "stream",
     "name": "stdout",
     "text": [
      "CPU times: user 43.3 ms, sys: 14.3 ms, total: 57.6 ms\n",
      "Wall time: 45.5 ms\n"
     ]
    }
   ],
   "metadata": {
    "tags": []
   }
  },
  {
   "cell_type": "code",
   "execution_count": 29,
   "source": [
    "%%time\n",
    "def get_half_edge_vertices(half_edge_idx):\n",
    "    \"\"\"\n",
    "    A helper function to get the vertex indices corresponding to a half edge.\n",
    "    \"\"\"\n",
    "    v1_idx, v2_idx = edge_idx_to_vertex_idx[half_edge_idx // 2]\n",
    "    if half_edge_idx % 2 == 0:\n",
    "        v2_idx, v1_idx = v1_idx, v2_idx\n",
    "    return v1_idx, v2_idx\n",
    "\n",
    "# Which polygon lies to the right of the half edge.\n",
    "right_polygon = np.full(n_edges * 2, -1, dtype=int)\n",
    "\n",
    "# Lists specifying which half edges lie in each polygon.\n",
    "polygons = []\n",
    "    \n",
    "for half_edge_idx in range(2 * n_edges):\n",
    "    # If this half edge is already in a polygon, skip it.\n",
    "    if right_polygon[half_edge_idx] >= 0:\n",
    "        continue\n",
    "    \n",
    "    # Follow a new polygon around its loop by indexing the right_half_edge array.\n",
    "    polygon_idx = len(polygons)\n",
    "    polygons.append([half_edge_idx])\n",
    "    next_idx = right_half_edge[half_edge_idx]\n",
    "    while next_idx != half_edge_idx:\n",
    "        # Step 1) Check that we don't have errors!\n",
    "        if next_idx in polygons[-1]:\n",
    "            raise Exception(\"Geometry problem: unexpected loop found in polygon traversal.\")\n",
    "        if right_polygon[next_idx] != -1:\n",
    "            raise Exception(\"Geometry problem: write a better error message here\")\n",
    "        \n",
    "        # Step 2) Record the half edge\n",
    "        polygons[-1].append(next_idx)\n",
    "        \n",
    "        # Step 3) \n",
    "        next_idx = right_half_edge[next_idx]\n",
    "        \n",
    "    right_polygon[polygons[-1]] = polygon_idx"
   ],
   "outputs": [
    {
     "output_type": "stream",
     "name": "stdout",
     "text": [
      "CPU times: user 3.95 ms, sys: 456 µs, total: 4.41 ms\n",
      "Wall time: 4.01 ms\n"
     ]
    }
   ],
   "metadata": {}
  },
  {
   "cell_type": "code",
   "execution_count": 30,
   "source": [
    "# Convert the polygons array which lists half edges into a \n",
    "# polygon_vertices array which lists the vertices for each polygon.\n",
    "polygon_vertices = []\n",
    "for p in polygons:\n",
    "    polygon_vertices.append([])\n",
    "    for half_edge_idx in p:\n",
    "        v1_idx, v2_idx = get_half_edge_vertices(half_edge_idx)\n",
    "        polygon_vertices[-1].append(v2_idx)"
   ],
   "outputs": [],
   "metadata": {}
  },
  {
   "cell_type": "code",
   "execution_count": 31,
   "source": [
    "plt.close(\"all\")"
   ],
   "outputs": [],
   "metadata": {}
  },
  {
   "cell_type": "code",
   "execution_count": 32,
   "source": [
    "for p in polygon_vertices:\n",
    "    plt.figure()\n",
    "    vs = np.concatenate([dedup_vertices[p], dedup_vertices[p[0]][None,:]])\n",
    "    plt.plot(vs[:,0], vs[:,1], 'k-o')\n",
    "    plt.show()"
   ],
   "outputs": [
    {
     "output_type": "display_data",
     "data": {
      "text/plain": [
       "Canvas(toolbar=Toolbar(toolitems=[('Home', 'Reset original view', 'home', 'home'), ('Back', 'Back to previous …"
      ],
      "application/vnd.jupyter.widget-view+json": {
       "version_major": 2,
       "version_minor": 0,
       "model_id": "2d08a3939df64e43bb3e007a2637c462"
      }
     },
     "metadata": {}
    },
    {
     "output_type": "display_data",
     "data": {
      "text/plain": [
       "Canvas(toolbar=Toolbar(toolitems=[('Home', 'Reset original view', 'home', 'home'), ('Back', 'Back to previous …"
      ],
      "application/vnd.jupyter.widget-view+json": {
       "version_major": 2,
       "version_minor": 0,
       "model_id": "1c674105da12450683cb62f99ef9e2f0"
      }
     },
     "metadata": {}
    },
    {
     "output_type": "display_data",
     "data": {
      "text/plain": [
       "Canvas(toolbar=Toolbar(toolitems=[('Home', 'Reset original view', 'home', 'home'), ('Back', 'Back to previous …"
      ],
      "application/vnd.jupyter.widget-view+json": {
       "version_major": 2,
       "version_minor": 0,
       "model_id": "552ef5c11ef847b2bc5ae74984bb18d7"
      }
     },
     "metadata": {}
    },
    {
     "output_type": "display_data",
     "data": {
      "text/plain": [
       "Canvas(toolbar=Toolbar(toolitems=[('Home', 'Reset original view', 'home', 'home'), ('Back', 'Back to previous …"
      ],
      "application/vnd.jupyter.widget-view+json": {
       "version_major": 2,
       "version_minor": 0,
       "model_id": "8e6ad7e9575f4608a22b40f72ecb7d0b"
      }
     },
     "metadata": {}
    },
    {
     "output_type": "display_data",
     "data": {
      "text/plain": [
       "Canvas(toolbar=Toolbar(toolitems=[('Home', 'Reset original view', 'home', 'home'), ('Back', 'Back to previous …"
      ],
      "application/vnd.jupyter.widget-view+json": {
       "version_major": 2,
       "version_minor": 0,
       "model_id": "8401dd8917d949b8bad8a402e7c94bed"
      }
     },
     "metadata": {}
    },
    {
     "output_type": "display_data",
     "data": {
      "text/plain": [
       "Canvas(toolbar=Toolbar(toolitems=[('Home', 'Reset original view', 'home', 'home'), ('Back', 'Back to previous …"
      ],
      "application/vnd.jupyter.widget-view+json": {
       "version_major": 2,
       "version_minor": 0,
       "model_id": "b6f0345b886e45e4bdabcd9fefd19c61"
      }
     },
     "metadata": {}
    },
    {
     "output_type": "display_data",
     "data": {
      "text/plain": [
       "Canvas(toolbar=Toolbar(toolitems=[('Home', 'Reset original view', 'home', 'home'), ('Back', 'Back to previous …"
      ],
      "application/vnd.jupyter.widget-view+json": {
       "version_major": 2,
       "version_minor": 0,
       "model_id": "238c0e1ded784183afc9e0ba2416e907"
      }
     },
     "metadata": {}
    },
    {
     "output_type": "display_data",
     "data": {
      "text/plain": [
       "Canvas(toolbar=Toolbar(toolitems=[('Home', 'Reset original view', 'home', 'home'), ('Back', 'Back to previous …"
      ],
      "application/vnd.jupyter.widget-view+json": {
       "version_major": 2,
       "version_minor": 0,
       "model_id": "1c4ed2f19fc640b4bd3e7edda50e267e"
      }
     },
     "metadata": {}
    },
    {
     "output_type": "display_data",
     "data": {
      "text/plain": [
       "Canvas(toolbar=Toolbar(toolitems=[('Home', 'Reset original view', 'home', 'home'), ('Back', 'Back to previous …"
      ],
      "application/vnd.jupyter.widget-view+json": {
       "version_major": 2,
       "version_minor": 0,
       "model_id": "067ad838618d4b7e9054e9f3a93624e7"
      }
     },
     "metadata": {}
    },
    {
     "output_type": "display_data",
     "data": {
      "text/plain": [
       "Canvas(toolbar=Toolbar(toolitems=[('Home', 'Reset original view', 'home', 'home'), ('Back', 'Back to previous …"
      ],
      "application/vnd.jupyter.widget-view+json": {
       "version_major": 2,
       "version_minor": 0,
       "model_id": "78dc44fbc77a4ccebc5079e81940750a"
      }
     },
     "metadata": {}
    },
    {
     "output_type": "display_data",
     "data": {
      "text/plain": [
       "Canvas(toolbar=Toolbar(toolitems=[('Home', 'Reset original view', 'home', 'home'), ('Back', 'Back to previous …"
      ],
      "application/vnd.jupyter.widget-view+json": {
       "version_major": 2,
       "version_minor": 0,
       "model_id": "bd9e9ad7d6ad4317991597b366756f7f"
      }
     },
     "metadata": {}
    },
    {
     "output_type": "display_data",
     "data": {
      "text/plain": [
       "Canvas(toolbar=Toolbar(toolitems=[('Home', 'Reset original view', 'home', 'home'), ('Back', 'Back to previous …"
      ],
      "application/vnd.jupyter.widget-view+json": {
       "version_major": 2,
       "version_minor": 0,
       "model_id": "404caf83a92648b2ba29a165215ecf35"
      }
     },
     "metadata": {}
    },
    {
     "output_type": "display_data",
     "data": {
      "text/plain": [
       "Canvas(toolbar=Toolbar(toolitems=[('Home', 'Reset original view', 'home', 'home'), ('Back', 'Back to previous …"
      ],
      "application/vnd.jupyter.widget-view+json": {
       "version_major": 2,
       "version_minor": 0,
       "model_id": "c5a32c26fe4942b491511cdf215f3f30"
      }
     },
     "metadata": {}
    },
    {
     "output_type": "display_data",
     "data": {
      "text/plain": [
       "Canvas(toolbar=Toolbar(toolitems=[('Home', 'Reset original view', 'home', 'home'), ('Back', 'Back to previous …"
      ],
      "application/vnd.jupyter.widget-view+json": {
       "version_major": 2,
       "version_minor": 0,
       "model_id": "4178d05b53894168ac957536495f609a"
      }
     },
     "metadata": {}
    },
    {
     "output_type": "display_data",
     "data": {
      "text/plain": [
       "Canvas(toolbar=Toolbar(toolitems=[('Home', 'Reset original view', 'home', 'home'), ('Back', 'Back to previous …"
      ],
      "application/vnd.jupyter.widget-view+json": {
       "version_major": 2,
       "version_minor": 0,
       "model_id": "6d910b075c4c4a89a98d508444052591"
      }
     },
     "metadata": {}
    },
    {
     "output_type": "display_data",
     "data": {
      "text/plain": [
       "Canvas(toolbar=Toolbar(toolitems=[('Home', 'Reset original view', 'home', 'home'), ('Back', 'Back to previous …"
      ],
      "application/vnd.jupyter.widget-view+json": {
       "version_major": 2,
       "version_minor": 0,
       "model_id": "03f1e79597ef4091a131da18bb89dd79"
      }
     },
     "metadata": {}
    },
    {
     "output_type": "display_data",
     "data": {
      "text/plain": [
       "Canvas(toolbar=Toolbar(toolitems=[('Home', 'Reset original view', 'home', 'home'), ('Back', 'Back to previous …"
      ],
      "application/vnd.jupyter.widget-view+json": {
       "version_major": 2,
       "version_minor": 0,
       "model_id": "5d70a3f57eab4a9eb97eede565032570"
      }
     },
     "metadata": {}
    },
    {
     "output_type": "display_data",
     "data": {
      "text/plain": [
       "Canvas(toolbar=Toolbar(toolitems=[('Home', 'Reset original view', 'home', 'home'), ('Back', 'Back to previous …"
      ],
      "application/vnd.jupyter.widget-view+json": {
       "version_major": 2,
       "version_minor": 0,
       "model_id": "571f4984658643999915ef0382ba04a0"
      }
     },
     "metadata": {}
    },
    {
     "output_type": "display_data",
     "data": {
      "text/plain": [
       "Canvas(toolbar=Toolbar(toolitems=[('Home', 'Reset original view', 'home', 'home'), ('Back', 'Back to previous …"
      ],
      "application/vnd.jupyter.widget-view+json": {
       "version_major": 2,
       "version_minor": 0,
       "model_id": "812b1675fa3347cd874d821ad4e7f9db"
      }
     },
     "metadata": {}
    },
    {
     "output_type": "display_data",
     "data": {
      "text/plain": [
       "Canvas(toolbar=Toolbar(toolitems=[('Home', 'Reset original view', 'home', 'home'), ('Back', 'Back to previous …"
      ],
      "application/vnd.jupyter.widget-view+json": {
       "version_major": 2,
       "version_minor": 0,
       "model_id": "c4d4a490a40a451eaba47621417b6f51"
      }
     },
     "metadata": {}
    },
    {
     "output_type": "stream",
     "name": "stderr",
     "text": [
      "<ipython-input-32-dbef3c3cbb8d>:2: RuntimeWarning: More than 20 figures have been opened. Figures created through the pyplot interface (`matplotlib.pyplot.figure`) are retained until explicitly closed and may consume too much memory. (To control this warning, see the rcParam `figure.max_open_warning`).\n",
      "  plt.figure()\n"
     ]
    },
    {
     "output_type": "display_data",
     "data": {
      "text/plain": [
       "Canvas(toolbar=Toolbar(toolitems=[('Home', 'Reset original view', 'home', 'home'), ('Back', 'Back to previous …"
      ],
      "application/vnd.jupyter.widget-view+json": {
       "version_major": 2,
       "version_minor": 0,
       "model_id": "dc978da38ad54634910b8ad0e2738391"
      }
     },
     "metadata": {}
    },
    {
     "output_type": "display_data",
     "data": {
      "text/plain": [
       "Canvas(toolbar=Toolbar(toolitems=[('Home', 'Reset original view', 'home', 'home'), ('Back', 'Back to previous …"
      ],
      "application/vnd.jupyter.widget-view+json": {
       "version_major": 2,
       "version_minor": 0,
       "model_id": "39319db6ca3348dabd00f3f0e4be1e3c"
      }
     },
     "metadata": {}
    },
    {
     "output_type": "display_data",
     "data": {
      "text/plain": [
       "Canvas(toolbar=Toolbar(toolitems=[('Home', 'Reset original view', 'home', 'home'), ('Back', 'Back to previous …"
      ],
      "application/vnd.jupyter.widget-view+json": {
       "version_major": 2,
       "version_minor": 0,
       "model_id": "5464baabc09e4112891d78feabfb763e"
      }
     },
     "metadata": {}
    },
    {
     "output_type": "display_data",
     "data": {
      "text/plain": [
       "Canvas(toolbar=Toolbar(toolitems=[('Home', 'Reset original view', 'home', 'home'), ('Back', 'Back to previous …"
      ],
      "application/vnd.jupyter.widget-view+json": {
       "version_major": 2,
       "version_minor": 0,
       "model_id": "dd3faf7348bf49689f48c73558dd8e29"
      }
     },
     "metadata": {}
    },
    {
     "output_type": "display_data",
     "data": {
      "text/plain": [
       "Canvas(toolbar=Toolbar(toolitems=[('Home', 'Reset original view', 'home', 'home'), ('Back', 'Back to previous …"
      ],
      "application/vnd.jupyter.widget-view+json": {
       "version_major": 2,
       "version_minor": 0,
       "model_id": "30bf019a493a4496868c0439e752c7b4"
      }
     },
     "metadata": {}
    },
    {
     "output_type": "display_data",
     "data": {
      "text/plain": [
       "Canvas(toolbar=Toolbar(toolitems=[('Home', 'Reset original view', 'home', 'home'), ('Back', 'Back to previous …"
      ],
      "application/vnd.jupyter.widget-view+json": {
       "version_major": 2,
       "version_minor": 0,
       "model_id": "4a3633aaca844f6188fdba75cad8537b"
      }
     },
     "metadata": {}
    },
    {
     "output_type": "display_data",
     "data": {
      "text/plain": [
       "Canvas(toolbar=Toolbar(toolitems=[('Home', 'Reset original view', 'home', 'home'), ('Back', 'Back to previous …"
      ],
      "application/vnd.jupyter.widget-view+json": {
       "version_major": 2,
       "version_minor": 0,
       "model_id": "e22c1383c1504eca9f102b29ac6512c4"
      }
     },
     "metadata": {}
    },
    {
     "output_type": "display_data",
     "data": {
      "text/plain": [
       "Canvas(toolbar=Toolbar(toolitems=[('Home', 'Reset original view', 'home', 'home'), ('Back', 'Back to previous …"
      ],
      "application/vnd.jupyter.widget-view+json": {
       "version_major": 2,
       "version_minor": 0,
       "model_id": "932643085a1149789effab4a2c9e2b22"
      }
     },
     "metadata": {}
    },
    {
     "output_type": "display_data",
     "data": {
      "text/plain": [
       "Canvas(toolbar=Toolbar(toolitems=[('Home', 'Reset original view', 'home', 'home'), ('Back', 'Back to previous …"
      ],
      "application/vnd.jupyter.widget-view+json": {
       "version_major": 2,
       "version_minor": 0,
       "model_id": "5b8fa48709d943ca93a84c6bb2cd2e92"
      }
     },
     "metadata": {}
    },
    {
     "output_type": "display_data",
     "data": {
      "text/plain": [
       "Canvas(toolbar=Toolbar(toolitems=[('Home', 'Reset original view', 'home', 'home'), ('Back', 'Back to previous …"
      ],
      "application/vnd.jupyter.widget-view+json": {
       "version_major": 2,
       "version_minor": 0,
       "model_id": "253b3c4799e246abaa88fd062229244f"
      }
     },
     "metadata": {}
    },
    {
     "output_type": "display_data",
     "data": {
      "text/plain": [
       "Canvas(toolbar=Toolbar(toolitems=[('Home', 'Reset original view', 'home', 'home'), ('Back', 'Back to previous …"
      ],
      "application/vnd.jupyter.widget-view+json": {
       "version_major": 2,
       "version_minor": 0,
       "model_id": "c41eca3d01b74fa4a2b058f757501a7c"
      }
     },
     "metadata": {}
    }
   ],
   "metadata": {}
  },
  {
   "cell_type": "code",
   "execution_count": 33,
   "source": [
    "unprocessed_value = -1 # use negative number here so that it never accidentally collides with a real block label\n",
    "segment['east_labels'] = unprocessed_value\n",
    "segment['west_labels'] = unprocessed_value"
   ],
   "outputs": [],
   "metadata": {}
  },
  {
   "cell_type": "code",
   "execution_count": 34,
   "source": [
    "# Identify east and west labels based on the blocks assigned to each half edge.\n",
    "for current_block_label, p in enumerate(polygons):\n",
    "    for half_edge_idx in p:\n",
    "        v1_idx, v2_idx = get_half_edge_vertices(half_edge_idx)\n",
    "        v1 = dedup_vertices[v1_idx]\n",
    "        v2 = dedup_vertices[v2_idx]\n",
    "        edge_vector = v2 - v1\n",
    "        edge_right_normal = [edge_vector[1], -edge_vector[0]]\n",
    "        \n",
    "        # East side because right-hand normal points east\n",
    "        # And west side if not!\n",
    "        # Remember, because we're dealing with half edges, \n",
    "        # we need to do integer division by two to get the normal edge index\n",
    "        if edge_right_normal[0] > 0:\n",
    "            segment['east_labels'].iloc[half_edge_idx // 2] = current_block_label\n",
    "        else:\n",
    "            segment['west_labels'].iloc[half_edge_idx // 2] = current_block_label"
   ],
   "outputs": [
    {
     "output_type": "stream",
     "name": "stderr",
     "text": [
      "/Users/meade/opt/anaconda3/lib/python3.8/site-packages/pandas/core/indexing.py:1637: SettingWithCopyWarning: \n",
      "A value is trying to be set on a copy of a slice from a DataFrame\n",
      "\n",
      "See the caveats in the documentation: https://pandas.pydata.org/pandas-docs/stable/user_guide/indexing.html#returning-a-view-versus-a-copy\n",
      "  self._setitem_single_block(indexer, value, name)\n"
     ]
    }
   ],
   "metadata": {}
  },
  {
   "cell_type": "code",
   "execution_count": 35,
   "source": [
    "# Check for unprocessed indices\n",
    "np.union1d(np.where(segment['east_labels'] == unprocessed_value),\n",
    "           np.where(segment['west_labels'] == unprocessed_value))"
   ],
   "outputs": [
    {
     "output_type": "execute_result",
     "data": {
      "text/plain": [
       "array([], dtype=int64)"
      ]
     },
     "metadata": {},
     "execution_count": 35
    }
   ],
   "metadata": {}
  },
  {
   "cell_type": "code",
   "execution_count": 47,
   "source": [
    "plt.figure()\n",
    "plt.title(\"Initial labels\")\n",
    "for i in range(len(segment)):\n",
    "    plt.plot([segment.lon1.values[i], segment.lon2.values[i]],\n",
    "             [segment.lat1.values[i], segment.lat2.values[i]],\n",
    "             \"-k\", linewidth=0.5)\n",
    "    plt.text(segment.mid_lon_plate_carree.values[i],\n",
    "             segment.mid_lat_plate_carree.values[i],\n",
    "             str(segment['west_labels'][i]) + \",\" + str(segment['east_labels'][i]),\n",
    "             fontsize=8, color=\"m\", horizontalalignment=\"center\", verticalalignment=\"center\")\n",
    "plt.tight_layout()\n",
    "plt.gca().set_aspect('equal')\n",
    "plt.show()"
   ],
   "outputs": [
    {
     "output_type": "display_data",
     "data": {
      "text/plain": [
       "Canvas(toolbar=Toolbar(toolitems=[('Home', 'Reset original view', 'home', 'home'), ('Back', 'Back to previous …"
      ],
      "application/vnd.jupyter.widget-view+json": {
       "version_major": 2,
       "version_minor": 0,
       "model_id": "7e053a29a62f4c559d2381b5c96745f4"
      }
     },
     "metadata": {}
    }
   ],
   "metadata": {}
  },
  {
   "cell_type": "code",
   "execution_count": null,
   "source": [],
   "outputs": [],
   "metadata": {}
  }
 ],
 "metadata": {
  "interpreter": {
   "hash": "749f0fc94df05971c9b3f3660cf19264b2aeee03fc6d4bf75e86fd251d69cf68"
  },
  "kernelspec": {
   "name": "python3",
   "display_name": "Python 3.8.8 64-bit ('base': conda)"
  },
  "language_info": {
   "codemirror_mode": {
    "name": "ipython",
    "version": 3
   },
   "file_extension": ".py",
   "mimetype": "text/x-python",
   "name": "python",
   "nbconvert_exporter": "python",
   "pygments_lexer": "ipython3",
   "version": "3.8.8"
  },
  "widgets": {
   "application/vnd.jupyter.widget-state+json": {
    "state": {},
    "version_major": 2,
    "version_minor": 0
   }
  }
 },
 "nbformat": 4,
 "nbformat_minor": 4
}