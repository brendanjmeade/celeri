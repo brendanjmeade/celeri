{
 "cells": [
  {
   "cell_type": "code",
   "execution_count": 1,
   "metadata": {},
   "outputs": [
    {
     "name": "stdout",
     "output_type": "stream",
     "text": [
      "Info    : Reading 'nankai.msh'...\n",
      "Info    : 502 entities\n",
      "Info    : 1497 nodes\n",
      "Info    : 2801 elements\n",
      "Info    : Done reading 'nankai.msh'\n",
      "Info    : Writing 'nankai_scaled.stl'...\n",
      "Info    : Done writing 'nankai_scaled.stl'\n"
     ]
    }
   ],
   "source": [
    "import gmsh\n",
    "import numpy as np\n",
    "\n",
    "gmsh.initialize()\n",
    "gmsh.open(\"nankai.msh\")\n",
    "\n",
    "nodeTags, nodeCoords, _ = gmsh.model.mesh.getNodes()\n",
    "coords = np.array(nodeCoords).reshape(-1, 3)\n",
    "\n",
    "# Example: scale Z by 0.01\n",
    "coords[:, 2] *= 0.01\n",
    "\n",
    "for i, tag in enumerate(nodeTags):\n",
    "    x, y, z = coords[i]\n",
    "    gmsh.model.mesh.setNode(int(tag), [x, y, z], [])\n",
    "\n",
    "gmsh.write(\"nankai_scaled.stl\")\n",
    "gmsh.finalize()"
   ]
  },
  {
   "cell_type": "code",
   "execution_count": null,
   "metadata": {},
   "outputs": [],
   "source": []
  }
 ],
 "metadata": {
  "kernelspec": {
   "display_name": "celeri",
   "language": "python",
   "name": "python3"
  },
  "language_info": {
   "codemirror_mode": {
    "name": "ipython",
    "version": 3
   },
   "file_extension": ".py",
   "mimetype": "text/x-python",
   "name": "python",
   "nbconvert_exporter": "python",
   "pygments_lexer": "ipython3",
   "version": "3.10.9"
  }
 },
 "nbformat": 4,
 "nbformat_minor": 2
}
