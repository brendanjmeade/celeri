{
 "cells": [
  {
   "cell_type": "code",
   "execution_count": 1,
   "metadata": {},
   "outputs": [],
   "source": [
    "%matplotlib widget\n",
    "%config InlineBackend.figure_format = 'svg'"
   ]
  },
  {
   "cell_type": "code",
   "execution_count": 1,
   "metadata": {
    "tags": []
   },
   "outputs": [],
   "source": [
    "import copy\n",
    "import datetime\n",
    "import os\n",
    "import numpy as np\n",
    "import pandas as pd\n",
    "import matplotlib.pyplot as plt\n",
    "from importlib import reload\n",
    "from addict import Dict\n",
    "\n",
    "import celeri\n",
    "celeri = reload(celeri)"
   ]
  },
  {
   "cell_type": "code",
   "execution_count": 2,
   "metadata": {
    "tags": []
   },
   "outputs": [
    {
     "name": "stdout",
     "output_type": "stream",
     "text": [
      "CPU times: user 4.19 s, sys: 30.5 ms, total: 4.22 s\n",
      "Wall time: 4.22 s\n"
     ]
    }
   ],
   "source": [
    "%%time\n",
    "RUN_NAME = datetime.datetime.now().strftime(\"%y%m%d%H%M%S\") + os.sep\n",
    "# command_file_name = './data/western_north_america/western_north_america_command.json'\n",
    "\n",
    "# command_file_name = './data/global/global_command.json'\n",
    "command_file_name = './data/global/global_command.json'\n",
    "command, segment, block, meshes, station, mogi, sar = celeri.read_data(command_file_name)\n",
    "station = celeri.process_station(station, command)\n",
    "segment = celeri.process_segment(segment, command, meshes)\n",
    "sar = celeri.process_sar(sar, command)"
   ]
  },
  {
   "cell_type": "code",
   "execution_count": 3,
   "metadata": {},
   "outputs": [
    {
     "ename": "NameError",
     "evalue": "name 'closure' is not defined",
     "output_type": "error",
     "traceback": [
      "\u001b[0;31m---------------------------------------------------------------------------\u001b[0m",
      "\u001b[0;31mNameError\u001b[0m                                 Traceback (most recent call last)",
      "\u001b[0;32m/tmp/ipykernel_51972/2219757957.py\u001b[0m in \u001b[0;36m<module>\u001b[0;34m\u001b[0m\n\u001b[0;32m----> 1\u001b[0;31m \u001b[0mclosure\u001b[0m\u001b[0;34m.\u001b[0m\u001b[0mn_polygons\u001b[0m\u001b[0;34m(\u001b[0m\u001b[0;34m)\u001b[0m\u001b[0;34m\u001b[0m\u001b[0;34m\u001b[0m\u001b[0m\n\u001b[0m",
      "\u001b[0;31mNameError\u001b[0m: name 'closure' is not defined"
     ]
    }
   ],
   "source": [
    "closure.n_polygons()"
   ]
  },
  {
   "cell_type": "code",
   "execution_count": 7,
   "metadata": {
    "tags": []
   },
   "outputs": [
    {
     "name": "stdout",
     "output_type": "stream",
     "text": [
      "CPU times: user 12.4 s, sys: 273 µs, total: 12.4 s\n",
      "Wall time: 12.4 s\n"
     ]
    }
   ],
   "source": [
    "%%time\n",
    "segment, closure = celeri.assign_block_labels(segment, station, block, mogi, sar)"
   ]
  },
  {
   "cell_type": "code",
   "execution_count": 8,
   "metadata": {},
   "outputs": [
    {
     "data": {
      "application/vnd.jupyter.widget-view+json": {
       "model_id": "2e4945be13df4902bbe2e78eace63614",
       "version_major": 2,
       "version_minor": 0
      },
      "text/plain": [
       "Canvas(toolbar=Toolbar(toolitems=[('Home', 'Reset original view', 'home', 'home'), ('Back', 'Back to previous …"
      ]
     },
     "metadata": {},
     "output_type": "display_data"
    }
   ],
   "source": [
    "celeri.plot_block_labels(segment, block, station)"
   ]
  },
  {
   "cell_type": "code",
   "execution_count": 20,
   "metadata": {},
   "outputs": [],
   "source": [
    "plt.close('all')"
   ]
  },
  {
   "cell_type": "code",
   "execution_count": 21,
   "metadata": {},
   "outputs": [
    {
     "data": {
      "application/vnd.jupyter.widget-view+json": {
       "model_id": "",
       "version_major": 2,
       "version_minor": 0
      },
      "text/plain": [
       "Canvas(toolbar=Toolbar(toolitems=[('Home', 'Reset original view', 'home', 'home'), ('Back', 'Back to previous …"
      ]
     },
     "metadata": {},
     "output_type": "display_data"
    }
   ],
   "source": [
    "plt.figure()\n",
    "plt.plot(p[:,0], p[:,2])\n",
    "plt.show()"
   ]
  },
  {
   "cell_type": "code",
   "execution_count": null,
   "metadata": {},
   "outputs": [],
   "source": [
    "p = closure.polygon_vertices[0]\n",
    "x = np.cos(p[:,0]) * np.cos(p[:,0])\n",
    "y = np.sin(p[:,0]) * np.cos(p[:,0])\n",
    "z = np.sin(p[:,1])\n"
   ]
  },
  {
   "cell_type": "code",
   "execution_count": 6,
   "metadata": {},
   "outputs": [
    {
     "data": {
      "application/vnd.jupyter.widget-view+json": {
       "model_id": "bfe4ca6d82ae44279e4cb8922b729108",
       "version_major": 2,
       "version_minor": 0
      },
      "text/plain": [
       "Canvas(toolbar=Toolbar(toolitems=[('Home', 'Reset original view', 'home', 'home'), ('Back', 'Back to previous …"
      ]
     },
     "metadata": {},
     "output_type": "display_data"
    },
    {
     "data": {
      "text/plain": [
       "array([44.314, 44.272, 44.34 , 44.988, 45.029, 45.24 , 45.68 , 46.085,\n",
       "       46.399, 46.944, 46.943, 46.988, 47.405, 48.119, 48.913, 49.468,\n",
       "       50.319, 50.683, 51.123, 51.971, 50.486, 48.982, 47.979, 47.359,\n",
       "       47.165, 46.886, 46.632, 45.956, 45.415, 44.878, 44.769, 44.314,\n",
       "       44.314])"
      ]
     },
     "execution_count": 6,
     "metadata": {},
     "output_type": "execute_result"
    }
   ],
   "source": [
    "pv = closure.polygon_vertices[102]\n",
    "vs = np.concatenate((pv, pv[0:1,:]))\n",
    "plt.plot(vs[:,0], vs[:,1])\n",
    "plt.show()"
   ]
  },
  {
   "cell_type": "code",
   "execution_count": 7,
   "metadata": {},
   "outputs": [
    {
     "data": {
      "application/vnd.jupyter.widget-view+json": {
       "model_id": "93ce32d997ce4106b07766720cf5c4f9",
       "version_major": 2,
       "version_minor": 0
      },
      "text/plain": [
       "Canvas(toolbar=Toolbar(toolitems=[('Home', 'Reset original view', 'home', 'home'), ('Back', 'Back to previous …"
      ]
     },
     "metadata": {},
     "output_type": "display_data"
    }
   ],
   "source": [
    "plt.figure()\n",
    "plt.title(\"West and east labels\")\n",
    "for i in range(len(segment)):\n",
    "    Cx = segment.mid_lon_plate_carree.values[i]\n",
    "    if Cx < 340 and Cx > 20:\n",
    "        continue\n",
    "        \n",
    "    if Cx > 180:\n",
    "        Cx -= 360\n",
    "        \n",
    "    x1 = segment.lon1.values[i]\n",
    "    x2 = segment.lon2.values[i]\n",
    "    \n",
    "    if x1 > 180:\n",
    "        x1 -= 360\n",
    "        \n",
    "    if x2 > 180:\n",
    "        x2 -= 360\n",
    "        \n",
    "    plt.plot(\n",
    "        [x1, x2],\n",
    "        [segment.lat1.values[i], segment.lat2.values[i]],\n",
    "        \"-ko\",\n",
    "        linewidth=1.0,\n",
    "    )\n",
    "    plt.text(\n",
    "        Cx,\n",
    "        segment.mid_lat_plate_carree.values[i],\n",
    "        str(segment[\"west_labels\"][i]) + \",\" + str(segment[\"east_labels\"][i]),\n",
    "        fontsize=8,\n",
    "        color=\"m\",\n",
    "        horizontalalignment=\"center\",\n",
    "        verticalalignment=\"center\",\n",
    "    )\n",
    "plt.xlim([-45, 45])\n",
    "plt.ylim([20,90])\n",
    "plt.show()"
   ]
  },
  {
   "cell_type": "code",
   "execution_count": null,
   "metadata": {},
   "outputs": [],
   "source": []
  }
 ],
 "metadata": {
  "interpreter": {
   "hash": "749f0fc94df05971c9b3f3660cf19264b2aeee03fc6d4bf75e86fd251d69cf68"
  },
  "kernelspec": {
   "display_name": "Python 3 (ipykernel)",
   "language": "python",
   "name": "python3"
  },
  "language_info": {
   "codemirror_mode": {
    "name": "ipython",
    "version": 3
   },
   "file_extension": ".py",
   "mimetype": "text/x-python",
   "name": "python",
   "nbconvert_exporter": "python",
   "pygments_lexer": "ipython3",
   "version": "3.9.6"
  },
  "widgets": {
   "application/vnd.jupyter.widget-state+json": {
    "state": {},
    "version_major": 2,
    "version_minor": 0
   }
  }
 },
 "nbformat": 4,
 "nbformat_minor": 4
}
