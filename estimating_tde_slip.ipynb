{
 "cells": [
  {
   "cell_type": "code",
   "execution_count": 1,
   "source": [
    "%matplotlib widget\n",
    "%config InlineBackend.figure_format = 'svg'"
   ],
   "outputs": [],
   "metadata": {
    "execution": {
     "iopub.execute_input": "2021-08-22T18:29:50.539195Z",
     "iopub.status.busy": "2021-08-22T18:29:50.538938Z",
     "iopub.status.idle": "2021-08-22T18:29:50.550334Z",
     "shell.execute_reply": "2021-08-22T18:29:50.549700Z",
     "shell.execute_reply.started": "2021-08-22T18:29:50.539169Z"
    },
    "tags": []
   }
  },
  {
   "cell_type": "code",
   "execution_count": 2,
   "source": [
    "import addict\n",
    "import copy\n",
    "import scipy\n",
    "import scipy.sparse.linalg\n",
    "import numpy as np\n",
    "import pandas as pd\n",
    "import matplotlib.pyplot as plt\n",
    "import matplotlib.tri as tri\n",
    "from importlib import reload\n",
    "from tqdm.notebook import tqdm\n",
    "\n",
    "import celeri\n",
    "celeri = reload(celeri)\n",
    "\n",
    "plt.rcParams['text.usetex'] = False # Plotting the global model is much much faster with tex fonts turned off"
   ],
   "outputs": [],
   "metadata": {
    "execution": {
     "iopub.execute_input": "2021-08-22T18:29:51.661926Z",
     "iopub.status.busy": "2021-08-22T18:29:51.661659Z",
     "iopub.status.idle": "2021-08-22T18:29:51.956035Z",
     "shell.execute_reply": "2021-08-22T18:29:51.955292Z",
     "shell.execute_reply.started": "2021-08-22T18:29:51.661900Z"
    },
    "tags": []
   }
  },
  {
   "cell_type": "markdown",
   "source": [
    "# Read data, calculate elastic TDE to station partials and distance weighted smoothing matrix"
   ],
   "metadata": {}
  },
  {
   "cell_type": "code",
   "execution_count": 3,
   "source": [
    "command_file_name = \"./data/western_north_america/basic_command.json\"\n",
    "command, segment, block, meshes, station, mogi, sar = celeri.read_data(command_file_name)\n",
    "station = celeri.process_station(station, command)\n",
    "operators = addict.Dict()\n",
    "operators.tri_station = celeri.get_tri_station_operator_okada(meshes, station, command)\n",
    "celeri.get_all_mesh_smoothing_matrices(meshes)\n",
    "\n",
    "# Eliminate matrix entries for vertical displacments and tensile slip\n",
    "tde_matrix = copy.deepcopy(operators.tri_station)\n",
    "tde_matrix = np.delete(tde_matrix, np.arange(2, tde_matrix.shape[0], 3), axis=0)\n",
    "tde_matrix = np.delete(tde_matrix, np.arange(2, tde_matrix.shape[1], 3), axis=1)"
   ],
   "outputs": [
    {
     "output_type": "stream",
     "name": "stderr",
     "text": [
      "WARNING:root:The file contains tag data that couldn't be processed.\n"
     ]
    },
    {
     "output_type": "display_data",
     "data": {
      "application/vnd.jupyter.widget-view+json": {
       "version_major": 2,
       "version_minor": 0,
       "model_id": "1ae5da11a74e488ba67e0e2108109502"
      },
      "text/plain": [
       "Calculating cutde partials for triangles:   0%|          | 0/1841 [00:00<?, ?it/s]"
      ]
     },
     "metadata": {}
    }
   ],
   "metadata": {
    "execution": {
     "iopub.execute_input": "2021-08-22T18:29:53.570589Z",
     "iopub.status.busy": "2021-08-22T18:29:53.570331Z",
     "iopub.status.idle": "2021-08-22T18:30:09.817977Z",
     "shell.execute_reply": "2021-08-22T18:30:09.817443Z",
     "shell.execute_reply.started": "2021-08-22T18:29:53.570561Z"
    },
    "tags": []
   }
  },
  {
   "cell_type": "markdown",
   "source": [
    "# Functions used throughout.  Some may eventually go celeri.py"
   ],
   "metadata": {}
  },
  {
   "cell_type": "code",
   "execution_count": 4,
   "source": [
    "def plot_slip_distributions(mesh, slip_distribution_input, slip_distribution_estimated, suptitle_string):\n",
    "    triangulation = tri.Triangulation(mesh.centroids[:, 0], mesh.centroids[:, 1])\n",
    "\n",
    "    plt.figure(figsize=(12, 4))\n",
    "\n",
    "    plt.subplot(1, 4, 1)\n",
    "    plt.title(\"input strike-slip\")\n",
    "    plt.tricontourf(triangulation, slip_distribution_input[0::2], cmap=\"spring\")\n",
    "    plt.tricontour(triangulation, slip_distribution_input[0::2], colors=\"k\", linewidths=0.25)\n",
    "    plt.colorbar()\n",
    "    plt.gca().set_aspect(\"equal\", adjustable=\"box\")\n",
    "    plt.xlim([230.0, 240.0])\n",
    "    plt.ylim([37.5, 52.5])\n",
    "    plt.xticks([])\n",
    "    plt.yticks([])\n",
    "\n",
    "    plt.subplot(1, 4, 2)\n",
    "    plt.title(\"estimated strike-slip\")\n",
    "    plt.tricontourf(triangulation, slip_distribution_estimated[0::2], cmap=\"spring\")\n",
    "    plt.tricontour(triangulation, slip_distribution_estimated[0::2], colors=\"k\", linewidths=0.25)\n",
    "    plt.colorbar()\n",
    "    plt.gca().set_aspect(\"equal\", adjustable=\"box\")\n",
    "    plt.xlim([230.0, 240.0])\n",
    "    plt.ylim([37.5, 52.5])\n",
    "    plt.xticks([])\n",
    "    plt.yticks([])\n",
    "\n",
    "    plt.subplot(1, 4, 3)\n",
    "    plt.title(\"input dip-slip\")\n",
    "    plt.tricontourf(triangulation, slip_distribution_input[1::2], cmap=\"spring\")\n",
    "    plt.tricontour(triangulation, slip_distribution_input[1::2], colors=\"k\", linewidths=0.25)\n",
    "    plt.colorbar()\n",
    "    plt.gca().set_aspect(\"equal\", adjustable=\"box\")\n",
    "    plt.xlim([230.0, 240.0])\n",
    "    plt.ylim([37.5, 52.5])\n",
    "    plt.xticks([])\n",
    "    plt.yticks([])\n",
    "\n",
    "    plt.subplot(1, 4, 4)\n",
    "    plt.title(\"estimated dip-slip\")\n",
    "    plt.tricontourf(triangulation, slip_distribution_estimated[1::2], cmap=\"spring\")\n",
    "    plt.tricontour(triangulation, slip_distribution_estimated[1::2], colors=\"k\", linewidths=0.25)\n",
    "    plt.colorbar()\n",
    "    plt.gca().set_aspect(\"equal\", adjustable=\"box\")\n",
    "    plt.xlim([230.0, 240.0])\n",
    "    plt.ylim([37.5, 52.5])\n",
    "    plt.xticks([])\n",
    "    plt.yticks([])\n",
    "\n",
    "    plt.suptitle(suptitle_string)\n",
    "    plt.show()    \n",
    "\n",
    "\n",
    "def get_synthetic_displacements(mesh, tri_linear_operator):\n",
    "    \"\"\"\n",
    "    Prescribe dip-slip in a Gaussian pattern.\n",
    "    \"\"\"\n",
    "    tri_centroid_to_mesh_lon = mesh.centroids[:, 0] - np.mean(mesh.centroids[:, 0])\n",
    "    tri_centroid_to_mesh_lat = mesh.centroids[:, 1] - np.mean(mesh.centroids[:, 1])\n",
    "\n",
    "    # Hardcoded northern Cascadia example that Jack suggested.\n",
    "    # tri_centroid_to_mesh_lon = mesh.centroids[:, 0] - 234.5\n",
    "    # tri_centroid_to_mesh_lat = mesh.centroids[:, 1] - 48.5\n",
    "\n",
    "    tri_centroid_to_mesh_centroid_distance = np.sqrt(tri_centroid_to_mesh_lon ** 2 + tri_centroid_to_mesh_lat ** 2)\n",
    "    dip_slip_distribution = np.exp(-(tri_centroid_to_mesh_centroid_distance / 1.0) ** 2.0)\n",
    "    slip_distribution = np.zeros(2 * dip_slip_distribution.size)\n",
    "    slip_distribution[1::2] = dip_slip_distribution # Dip slip only\n",
    "    slip_distribution[0::2] = 1e-4 * np.random.randn(dip_slip_distribution.size) # Adding a teeny amount of non-zero noise here just so contouring works...ugh\n",
    "    synthetic_displacements = tri_linear_operator @ slip_distribution\n",
    "    return slip_distribution, synthetic_displacements\n",
    "\n",
    "\n",
    "def show_modes(mesh, eigenvectors, suptitle_string):\n",
    "    triangulation = tri.Triangulation(mesh.centroids[:, 0], mesh.centroids[:, 1])\n",
    "    plt.figure(figsize=(14, 4))\n",
    "    for i in range(10):\n",
    "        plt.subplot(2, 10, i + 1)\n",
    "        plt.tricontourf(triangulation, eigenvectors[:, i][0::2], cmap=\"spring\")\n",
    "        plt.tricontour(triangulation, eigenvectors[:, i][0::2], colors=\"k\", linewidths=0.25)\n",
    "        plt.gca().set_aspect(\"equal\", adjustable=\"box\")\n",
    "        plt.xlim([230.0, 240.0])\n",
    "        plt.ylim([37.5, 52.5])\n",
    "        plt.xticks([])\n",
    "        plt.yticks([])\n",
    "\n",
    "        plt.subplot(2, 10, 10 + i + 1)\n",
    "        plt.tricontourf(triangulation, eigenvectors[:, i][1::2], cmap=\"cool\")\n",
    "        plt.tricontour(triangulation, eigenvectors[:, i][1::2], colors=\"k\", linewidths=0.25)\n",
    "        plt.gca().set_aspect(\"equal\", adjustable=\"box\")\n",
    "        plt.xlim([230.0, 240.0])\n",
    "        plt.ylim([37.5, 52.5])\n",
    "        plt.xticks([])\n",
    "        plt.yticks([])\n",
    "    plt.suptitle(suptitle_string)\n",
    "    plt.show()\n",
    "\n",
    "# Generate Guassian slip source and synthetic displacements\n",
    "slip_distribution, synthetic_displacements = get_synthetic_displacements(meshes[0], tde_matrix)"
   ],
   "outputs": [],
   "metadata": {}
  },
  {
   "cell_type": "markdown",
   "source": [
    "# Slip estimate with no smoothing using np.linalg.lstsq"
   ],
   "metadata": {}
  },
  {
   "cell_type": "code",
   "execution_count": 5,
   "source": [
    "# Slip estimation with np.linalg.lstsq\n",
    "estimated_slip_distribution = np.linalg.lstsq(tde_matrix, synthetic_displacements, rcond=None)\n",
    "plot_slip_distributions(meshes[0], slip_distribution, estimated_slip_distribution[0], suptitle_string=\"np.linalg.lstsq - no smoothing\")"
   ],
   "outputs": [
    {
     "output_type": "display_data",
     "data": {
      "application/vnd.jupyter.widget-view+json": {
       "version_major": 2,
       "version_minor": 0,
       "model_id": "b6c01e5e4c4c4b7ca06a444e95fd1d69"
      },
      "text/plain": [
       "Canvas(toolbar=Toolbar(toolitems=[('Home', 'Reset original view', 'home', 'home'), ('Back', 'Back to previous …"
      ]
     },
     "metadata": {}
    }
   ],
   "metadata": {}
  },
  {
   "cell_type": "markdown",
   "source": [
    "# Slip estimation with direct inverse no smoothing"
   ],
   "metadata": {}
  },
  {
   "cell_type": "code",
   "execution_count": 6,
   "source": [
    "estimated_slip_distribution = np.linalg.inv(tde_matrix.T @ tde_matrix) @ tde_matrix.T @ synthetic_displacements\n",
    "plot_slip_distributions(meshes[0], slip_distribution, estimated_slip_distribution, suptitle_string=\"Direct inverse - no smoothing\")"
   ],
   "outputs": [
    {
     "output_type": "display_data",
     "data": {
      "application/vnd.jupyter.widget-view+json": {
       "version_major": 2,
       "version_minor": 0,
       "model_id": "88c6945856d54e87a45b12fd96bb991f"
      },
      "text/plain": [
       "Canvas(toolbar=Toolbar(toolitems=[('Home', 'Reset original view', 'home', 'home'), ('Back', 'Back to previous …"
      ]
     },
     "metadata": {}
    }
   ],
   "metadata": {}
  },
  {
   "cell_type": "markdown",
   "source": [
    "# Slip estimation with direct inverse and smoothing"
   ],
   "metadata": {}
  },
  {
   "cell_type": "code",
   "execution_count": 7,
   "source": [
    "# Slip estimation with direct inverse and smoothing matrix\n",
    "smoothing_matrix = meshes[0].smoothing_matrix.toarray()\n",
    "smoothing_matrix = np.delete(smoothing_matrix, np.arange(2, smoothing_matrix.shape[0], 3), axis=0)\n",
    "smoothing_matrix = np.delete(smoothing_matrix, np.arange(2, smoothing_matrix.shape[1], 3), axis=1)\n",
    "smoothing_matrix = meshes[0].smoothing_weight * smoothing_matrix # Weight smoothing matrix\n",
    "tde_and_smoothing_matrix = np.vstack((tde_matrix, smoothing_matrix))\n",
    "synthetic_displacements_with_smoothing = np.hstack((synthetic_displacements, np.zeros(smoothing_matrix.shape[0]).T))\n",
    "estimated_slip_distribution = np.linalg.inv(tde_and_smoothing_matrix.T @ tde_and_smoothing_matrix) @ tde_and_smoothing_matrix.T @ synthetic_displacements_with_smoothing\n",
    "plot_slip_distributions(meshes[0], slip_distribution, estimated_slip_distribution, suptitle_string=\"Direct inverse - with smoothing\")"
   ],
   "outputs": [
    {
     "output_type": "display_data",
     "data": {
      "application/vnd.jupyter.widget-view+json": {
       "version_major": 2,
       "version_minor": 0,
       "model_id": "9e626f2e2afd4b0980d101007af2716f"
      },
      "text/plain": [
       "Canvas(toolbar=Toolbar(toolitems=[('Home', 'Reset original view', 'home', 'home'), ('Back', 'Back to previous …"
      ]
     },
     "metadata": {}
    }
   ],
   "metadata": {}
  },
  {
   "cell_type": "markdown",
   "source": [
    "# Slip estimation with truncated SVD based on TDE matrix"
   ],
   "metadata": {}
  },
  {
   "cell_type": "code",
   "execution_count": 8,
   "source": [
    "# Slip estimation with truncated SVD\n",
    "U, S, V_transpose = np.linalg.svd(tde_matrix)\n",
    "V_small = V_transpose[-21:-1, :].T\n",
    "eigenvector_weights = np.linalg.pinv(tde_matrix @ V_small) @ synthetic_displacements\n",
    "estimated_slip_truncated_svd = V_small @ eigenvector_weights\n",
    "plot_slip_distributions(meshes[0], slip_distribution, estimated_slip_truncated_svd, suptitle_string=\"Truncated SVD - Right eigenvectors only\")"
   ],
   "outputs": [
    {
     "output_type": "display_data",
     "data": {
      "application/vnd.jupyter.widget-view+json": {
       "version_major": 2,
       "version_minor": 0,
       "model_id": "28f03f1505404522bf80c554beacf82e"
      },
      "text/plain": [
       "Canvas(toolbar=Toolbar(toolitems=[('Home', 'Reset original view', 'home', 'home'), ('Back', 'Back to previous …"
      ]
     },
     "metadata": {}
    }
   ],
   "metadata": {}
  },
  {
   "cell_type": "markdown",
   "source": [
    "# Create properly dimensioned distance weighted smoothing matrix - TODO: How to think about reduced dimensions???"
   ],
   "metadata": {}
  },
  {
   "cell_type": "code",
   "execution_count": 9,
   "source": [
    "def delete_rows_and_columns_from_sparse_csr_matrix(mat, row_indices=[], col_indices=[]):\n",
    "    \"\"\"\n",
    "    Lightly modified from:\n",
    "    https://stackoverflow.com/questions/13077527/is-there-a-numpy-delete-equivalent-for-sparse-matrices\n",
    "    Remove the rows (denoted by ``row_indices``) and columns (denoted by ``col_indices``) from the CSR sparse matrix ``mat``.\n",
    "    WARNING: Indices of altered axes are reset in the returned matrix\n",
    "    \"\"\"\n",
    "    # if not isinstance(mat, csr_matrix):\n",
    "    #     raise ValueError(\"works only for CSR format -- use .tocsr() first\")\n",
    "\n",
    "    rows = []\n",
    "    cols = []\n",
    "    if any(row_indices):\n",
    "        rows = list(row_indices)\n",
    "    if any(col_indices):\n",
    "        cols = list(col_indices)\n",
    "\n",
    "    if len(rows) > 0 and len(cols) > 0:\n",
    "        row_mask = np.ones(mat.shape[0], dtype=bool)\n",
    "        row_mask[rows] = False\n",
    "        col_mask = np.ones(mat.shape[1], dtype=bool)\n",
    "        col_mask[cols] = False\n",
    "        return mat[row_mask][:,col_mask]\n",
    "    elif len(rows) > 0:\n",
    "        mask = np.ones(mat.shape[0], dtype=bool)\n",
    "        mask[rows] = False\n",
    "        return mat[mask]\n",
    "    elif len(cols) > 0:\n",
    "        mask = np.ones(mat.shape[1], dtype=bool)\n",
    "        mask[cols] = False\n",
    "        return mat[:,mask]\n",
    "    else:\n",
    "        return mat\n",
    "\n",
    "\n",
    "def scaled_sigmoid(arr, scalefactor):\n",
    "    arr = 1 / (1 + np.exp(-arr * scalefactor)) - 0.5\n",
    "    arr = 2 * arr #  Scale 0-1\n",
    "    return arr\n",
    "\n",
    "\n",
    "# Eliminate matrix entries for vertical displacments and tensile slip\n",
    "smoothing_matrix = copy.deepcopy(meshes[0].smoothing_matrix)\n",
    "smoothing_matrix = smoothing_matrix.tocsr()\n",
    "rows_to_delete = np.arange(2, smoothing_matrix.shape[0], 3)\n",
    "columns_to_delete = np.arange(2, smoothing_matrix.shape[1], 3)\n",
    "smoothing_matrix = delete_rows_and_columns_from_sparse_csr_matrix(smoothing_matrix, rows_to_delete, columns_to_delete)\n",
    "\n",
    "# % % Unweighted\n",
    "# % m_lapt = (T * Vt) \\ d; % Solve for eigenfunction weights\n",
    "# % lambda = 1e-3;\n",
    "# % %m_lapt = [T*Vt ; lambda*eye(i)] \\ [d_noise(:) ; zeros(i,1)];\n",
    "# % m_lapt_slip = Vt * m_lapt; % Recover slip from eigenfunction weights\n",
    "\n",
    "# % Weighted\n",
    "# G = T * Vtw;\n",
    "# m_laptw = G \\ d; % Solve for eigenfunction weights\n",
    "# % m_laptw = [T*Vtw ; lambda*eye(i)] \\ [d_noise(:) ; zeros(i,1)];\n",
    "# m_laptw_slip = Vtw * m_laptw; % Recover slip from eigenfunction weights\n",
    "# m_est = m_laptw_slip;\n"
   ],
   "outputs": [],
   "metadata": {}
  },
  {
   "cell_type": "markdown",
   "source": [
    "# Create simple smoothing matrix without distance weighting"
   ],
   "metadata": {}
  },
  {
   "cell_type": "code",
   "execution_count": 10,
   "source": [
    "def get_tri_smoothing_matrix_simple(share):\n",
    "    \"\"\"\n",
    "    Produces a smoothing matrix based on the scale-dependent\n",
    "    umbrella operator (e.g., Desbrun et al., 1999; Resor, 2004).\n",
    "\n",
    "    Inputs:\n",
    "    share: n x 3 array of indices of the up to 3 elements sharing a side\n",
    "        with each of the n elements\n",
    "\n",
    "    Outputs:\n",
    "    smoothing matrix: 3n x 3n smoothing matrix\n",
    "    \"\"\"\n",
    "\n",
    "    # Allocate sparse matrix for contructing smoothing matrix\n",
    "    n_shared_tris = share.shape[0]\n",
    "    smoothing_matrix = scipy.sparse.lil_matrix((3 * n_shared_tris, 3 * n_shared_tris))\n",
    "\n",
    "    # Place the weights into the smoothing operator\n",
    "    for j in range(3):\n",
    "        for i in range(n_shared_tris):\n",
    "            smoothing_matrix[3 * i + j, 3 * i + j] = 3\n",
    "            if share[i, j] != -1:\n",
    "                k = 3 * i + np.array([0, 1, 2])\n",
    "                m = 3 * share[i, j] + np.array([0, 1, 2])\n",
    "                smoothing_matrix[k, m] = -1\n",
    "    return smoothing_matrix\n",
    "\n",
    "share = celeri.get_shared_sides(meshes[0].verts)\n",
    "smoothing_matrix_simple = get_tri_smoothing_matrix_simple(share)\n",
    "\n",
    "# smoothing_matrix = copy.deepcopy(meshes[0].smoothing_matrix)\n",
    "smoothing_matrix_simple = smoothing_matrix_simple.tocsr()\n",
    "rows_to_delete = np.arange(2, smoothing_matrix_simple.shape[0], 3)\n",
    "columns_to_delete = np.arange(2, smoothing_matrix_simple.shape[1], 3)\n",
    "smoothing_matrix_simple = delete_rows_and_columns_from_sparse_csr_matrix(smoothing_matrix_simple, rows_to_delete, columns_to_delete)\n",
    "\n",
    "# Loveless style resolution scaling\n",
    "resolution_vector = np.sum(tde_matrix ** 2, axis=0).T\n",
    "resolution_vector_scaled = scaled_sigmoid(resolution_vector, 1e6)\n",
    "resolution_matrix_scaled = scipy.sparse.diags(1.0 / resolution_vector_scaled)\n",
    "smoothing_matrix_simple_resolution_scaled = smoothing_matrix_simple * resolution_matrix_scaled # I'm only scalign the diagonal here.\n"
   ],
   "outputs": [],
   "metadata": {}
  },
  {
   "cell_type": "markdown",
   "source": [
    "# Simple smoothing matrix eigenvectors from: np.linalg.svd"
   ],
   "metadata": {}
  },
  {
   "cell_type": "code",
   "execution_count": 11,
   "source": [
    "_, _, right_eigenvectors = np.linalg.svd(smoothing_matrix_simple.toarray())\n",
    "smallest_right_eigenvectors = right_eigenvectors[-11:-1, :].T\n",
    "show_modes(meshes[0], smallest_right_eigenvectors, r\"\"\"np.linalg.svd(smoothing_matrix_simple.toarray())\"\"\")\n"
   ],
   "outputs": [
    {
     "output_type": "display_data",
     "data": {
      "application/vnd.jupyter.widget-view+json": {
       "version_major": 2,
       "version_minor": 0,
       "model_id": "250466b419c94c5e8f1cceb75006f89e"
      },
      "text/plain": [
       "Canvas(toolbar=Toolbar(toolitems=[('Home', 'Reset original view', 'home', 'home'), ('Back', 'Back to previous …"
      ]
     },
     "metadata": {}
    }
   ],
   "metadata": {}
  },
  {
   "cell_type": "markdown",
   "source": [
    "# Simple smoothing matrix eigenvectors from: scipy.sparse.linalg.eigsh\n",
    "\n",
    "whichstr [‘LM’ | ‘SM’ | ‘LA’ | ‘SA’ | ‘BE’]\n",
    "If A is a complex Hermitian matrix, ‘BE’ is invalid. Which k eigenvectors and eigenvalues to find:\n",
    "\n",
    "‘LM’ : Largest (in magnitude) eigenvalues.\n",
    "\n",
    "‘SM’ : Smallest (in magnitude) eigenvalues.\n",
    "\n",
    "‘LA’ : Largest (algebraic) eigenvalues.\n",
    "\n",
    "‘SA’ : Smallest (algebraic) eigenvalues.\n",
    "\n",
    "‘BE’ : Half (k/2) from each end of the spectrum."
   ],
   "metadata": {}
  },
  {
   "cell_type": "code",
   "execution_count": 12,
   "source": [
    "n_eigenvalues = 20\n",
    "_, right_eigenvectors = scipy.sparse.linalg.eigsh(smoothing_matrix_simple, n_eigenvalues, which=\"LM\")\n",
    "show_modes(meshes[0], right_eigenvectors, r\"\"\"scipy.sparse.linalg.eigsh(smoothing_matrix_simple, n_eigenvalues, which=\"LM\")\"\"\")"
   ],
   "outputs": [
    {
     "output_type": "display_data",
     "data": {
      "application/vnd.jupyter.widget-view+json": {
       "version_major": 2,
       "version_minor": 0,
       "model_id": "b0825e29807c4ec4b46c042f909c1f17"
      },
      "text/plain": [
       "Canvas(toolbar=Toolbar(toolitems=[('Home', 'Reset original view', 'home', 'home'), ('Back', 'Back to previous …"
      ]
     },
     "metadata": {}
    }
   ],
   "metadata": {}
  },
  {
   "cell_type": "code",
   "execution_count": 13,
   "source": [
    "_, right_eigenvectors = scipy.sparse.linalg.eigsh(smoothing_matrix_simple, n_eigenvalues, which=\"SM\")\n",
    "show_modes(meshes[0], right_eigenvectors, r\"\"\"scipy.sparse.linalg.eigsh(smoothing_matrix_simple, n_eigenvalues, which=\"SM\")\"\"\")"
   ],
   "outputs": [
    {
     "output_type": "display_data",
     "data": {
      "application/vnd.jupyter.widget-view+json": {
       "version_major": 2,
       "version_minor": 0,
       "model_id": "533d98a72be94f48ace03a82dd266afd"
      },
      "text/plain": [
       "Canvas(toolbar=Toolbar(toolitems=[('Home', 'Reset original view', 'home', 'home'), ('Back', 'Back to previous …"
      ]
     },
     "metadata": {}
    }
   ],
   "metadata": {}
  },
  {
   "cell_type": "code",
   "execution_count": 14,
   "source": [
    "_, right_eigenvectors = scipy.sparse.linalg.eigsh(smoothing_matrix_simple, n_eigenvalues, which=\"LA\")\n",
    "show_modes(meshes[0], right_eigenvectors, r\"\"\"scipy.sparse.linalg.eigsh(smoothing_matrix_simple, n_eigenvalues, which=\"LA\")\"\"\")"
   ],
   "outputs": [
    {
     "output_type": "display_data",
     "data": {
      "application/vnd.jupyter.widget-view+json": {
       "version_major": 2,
       "version_minor": 0,
       "model_id": "d836e7b48ead4cbabf090b1caa8fc0e2"
      },
      "text/plain": [
       "Canvas(toolbar=Toolbar(toolitems=[('Home', 'Reset original view', 'home', 'home'), ('Back', 'Back to previous …"
      ]
     },
     "metadata": {}
    }
   ],
   "metadata": {}
  },
  {
   "cell_type": "code",
   "execution_count": 15,
   "source": [
    "_, right_eigenvectors = scipy.sparse.linalg.eigsh(smoothing_matrix_simple, n_eigenvalues, which=\"SA\")\n",
    "show_modes(meshes[0], right_eigenvectors, r\"\"\"scipy.sparse.linalg.eigsh(smoothing_matrix_simple, n_eigenvalues, which=\"SA\")\"\"\")"
   ],
   "outputs": [
    {
     "output_type": "display_data",
     "data": {
      "application/vnd.jupyter.widget-view+json": {
       "version_major": 2,
       "version_minor": 0,
       "model_id": "93abc6163f4c4630bd7729c7fee16cc7"
      },
      "text/plain": [
       "Canvas(toolbar=Toolbar(toolitems=[('Home', 'Reset original view', 'home', 'home'), ('Back', 'Back to previous …"
      ]
     },
     "metadata": {}
    }
   ],
   "metadata": {}
  },
  {
   "cell_type": "code",
   "execution_count": 16,
   "source": [
    "_, right_eigenvectors = scipy.sparse.linalg.eigsh(smoothing_matrix_simple, n_eigenvalues, which=\"BE\")\n",
    "show_modes(meshes[0], right_eigenvectors, r\"\"\"scipy.sparse.linalg.eigsh(smoothing_matrix_simple, n_eigenvalues, which=\"BE\")\"\"\")"
   ],
   "outputs": [
    {
     "output_type": "display_data",
     "data": {
      "application/vnd.jupyter.widget-view+json": {
       "version_major": 2,
       "version_minor": 0,
       "model_id": "5f0eebbe74c342fa97bda1590051b5ae"
      },
      "text/plain": [
       "Canvas(toolbar=Toolbar(toolitems=[('Home', 'Reset original view', 'home', 'home'), ('Back', 'Back to previous …"
      ]
     },
     "metadata": {}
    }
   ],
   "metadata": {}
  },
  {
   "cell_type": "markdown",
   "source": [
    "# Repeat the 6 above experiments but with the resolution scaled simple smoothing matrix"
   ],
   "metadata": {}
  },
  {
   "cell_type": "markdown",
   "source": [
    "# Resolution scaled simple smoothing matrix eigenvectors from: np.linalg.svd"
   ],
   "metadata": {}
  },
  {
   "cell_type": "code",
   "execution_count": 17,
   "source": [
    "_, _, right_eigenvectors = np.linalg.svd(smoothing_matrix_simple_resolution_scaled.toarray())\n",
    "smallest_right_eigenvectors = right_eigenvectors[-11:-1, :].T\n",
    "show_modes(meshes[0], smallest_right_eigenvectors, r\"\"\"np.linalg.svd(smoothing_matrix_simple_resolution_scaled.toarray())\"\"\")"
   ],
   "outputs": [
    {
     "output_type": "display_data",
     "data": {
      "application/vnd.jupyter.widget-view+json": {
       "version_major": 2,
       "version_minor": 0,
       "model_id": "f3b7b5d4c5cb49109cc4bad9e865193f"
      },
      "text/plain": [
       "Canvas(toolbar=Toolbar(toolitems=[('Home', 'Reset original view', 'home', 'home'), ('Back', 'Back to previous …"
      ]
     },
     "metadata": {}
    }
   ],
   "metadata": {}
  },
  {
   "cell_type": "markdown",
   "source": [
    "# Resolution scaled simple smoothing matrix eigenvectors from: scipy.sparse.linalg.eigsh\n",
    "\n",
    "whichstr [‘LM’ | ‘SM’ | ‘LA’ | ‘SA’ | ‘BE’]\n",
    "If A is a complex Hermitian matrix, ‘BE’ is invalid. Which k eigenvectors and eigenvalues to find:\n",
    "\n",
    "‘LM’ : Largest (in magnitude) eigenvalues.\n",
    "\n",
    "‘SM’ : Smallest (in magnitude) eigenvalues.\n",
    "\n",
    "‘LA’ : Largest (algebraic) eigenvalues.\n",
    "\n",
    "‘SA’ : Smallest (algebraic) eigenvalues.\n",
    "\n",
    "‘BE’ : Half (k/2) from each end of the spectrum."
   ],
   "metadata": {}
  },
  {
   "cell_type": "code",
   "execution_count": 18,
   "source": [
    "_, right_eigenvectors = scipy.sparse.linalg.eigsh(smoothing_matrix_simple_resolution_scaled, n_eigenvalues, which=\"LM\")\n",
    "show_modes(meshes[0], right_eigenvectors, r\"\"\"scipy.sparse.linalg.eigsh(smoothing_matrix_simple_resolution_scaled, n_eigenvalues, which=\"LM\")\"\"\")"
   ],
   "outputs": [
    {
     "output_type": "display_data",
     "data": {
      "application/vnd.jupyter.widget-view+json": {
       "version_major": 2,
       "version_minor": 0,
       "model_id": "8b4d4ae6a031417998d2e98a2baaec0c"
      },
      "text/plain": [
       "Canvas(toolbar=Toolbar(toolitems=[('Home', 'Reset original view', 'home', 'home'), ('Back', 'Back to previous …"
      ]
     },
     "metadata": {}
    }
   ],
   "metadata": {}
  },
  {
   "cell_type": "code",
   "execution_count": 19,
   "source": [
    "_, right_eigenvectors = scipy.sparse.linalg.eigsh(smoothing_matrix_simple_resolution_scaled, n_eigenvalues, which=\"SM\")\n",
    "show_modes(meshes[0], right_eigenvectors, r\"\"\"scipy.sparse.linalg.eigsh(smoothing_matrix_simple_resolution_scaled, n_eigenvalues, which=\"SM\")\"\"\")"
   ],
   "outputs": [
    {
     "output_type": "display_data",
     "data": {
      "application/vnd.jupyter.widget-view+json": {
       "version_major": 2,
       "version_minor": 0,
       "model_id": "858e366afd164c32913a363a3a7f3eea"
      },
      "text/plain": [
       "Canvas(toolbar=Toolbar(toolitems=[('Home', 'Reset original view', 'home', 'home'), ('Back', 'Back to previous …"
      ]
     },
     "metadata": {}
    }
   ],
   "metadata": {}
  },
  {
   "cell_type": "code",
   "execution_count": 20,
   "source": [
    "_, right_eigenvectors = scipy.sparse.linalg.eigsh(smoothing_matrix_simple_resolution_scaled, n_eigenvalues, which=\"LA\")\n",
    "show_modes(meshes[0], right_eigenvectors, r\"\"\"scipy.sparse.linalg.eigsh(smoothing_matrix_simple_resolution_scaled, n_eigenvalues, which=\"LA\")\"\"\")"
   ],
   "outputs": [
    {
     "output_type": "display_data",
     "data": {
      "application/vnd.jupyter.widget-view+json": {
       "version_major": 2,
       "version_minor": 0,
       "model_id": "7fabbae8cda24f3a934dbb6a2febcdfe"
      },
      "text/plain": [
       "Canvas(toolbar=Toolbar(toolitems=[('Home', 'Reset original view', 'home', 'home'), ('Back', 'Back to previous …"
      ]
     },
     "metadata": {}
    }
   ],
   "metadata": {}
  },
  {
   "cell_type": "code",
   "execution_count": 21,
   "source": [
    "_, right_eigenvectors = scipy.sparse.linalg.eigsh(smoothing_matrix_simple_resolution_scaled, n_eigenvalues, which=\"SA\")\n",
    "show_modes(meshes[0], right_eigenvectors, r\"\"\"scipy.sparse.linalg.eigsh(smoothing_matrix_simple_resolution_scaled, n_eigenvalues, which=\"SA\")\"\"\")"
   ],
   "outputs": [
    {
     "output_type": "display_data",
     "data": {
      "application/vnd.jupyter.widget-view+json": {
       "version_major": 2,
       "version_minor": 0,
       "model_id": "e2b6ded1f71c488e8bc9d4e6a3bf4f86"
      },
      "text/plain": [
       "Canvas(toolbar=Toolbar(toolitems=[('Home', 'Reset original view', 'home', 'home'), ('Back', 'Back to previous …"
      ]
     },
     "metadata": {}
    }
   ],
   "metadata": {}
  },
  {
   "cell_type": "code",
   "execution_count": 22,
   "source": [
    "_, right_eigenvectors = scipy.sparse.linalg.eigsh(smoothing_matrix_simple_resolution_scaled, n_eigenvalues, which=\"BE\")\n",
    "show_modes(meshes[0], right_eigenvectors, r\"\"\"scipy.sparse.linalg.eigsh(smoothing_matrix_simple_resolution_scaled, n_eigenvalues, which=\"BE\")\"\"\")"
   ],
   "outputs": [
    {
     "output_type": "display_data",
     "data": {
      "application/vnd.jupyter.widget-view+json": {
       "version_major": 2,
       "version_minor": 0,
       "model_id": "cdb0c18ca0af435b9a1f61b286759559"
      },
      "text/plain": [
       "Canvas(toolbar=Toolbar(toolitems=[('Home', 'Reset original view', 'home', 'home'), ('Back', 'Back to previous …"
      ]
     },
     "metadata": {}
    }
   ],
   "metadata": {}
  },
  {
   "cell_type": "markdown",
   "source": [
    "# Attempt at slip estimation with one of the apparently reasonable set of eigenvectors"
   ],
   "metadata": {}
  },
  {
   "cell_type": "code",
   "execution_count": 27,
   "source": [
    "n_eigenvalues = 100\n",
    "\n",
    "_, right_eigenvectors = scipy.sparse.linalg.eigsh(smoothing_matrix_simple, n_eigenvalues, which=\"SM\")\n",
    "show_modes(meshes[0], right_eigenvectors, r\"\"\"scipy.sparse.linalg.eigsh(smoothing_matrix_simple, n_eigenvalues, which=\"SM\")\"\"\")\n",
    "\n",
    "G = tde_matrix @ right_eigenvectors\n",
    "m_laptw = np.linalg.pinv(G) @ synthetic_displacements # Solve for eigenvector weights\n",
    "m_laptw_slip = right_eigenvectors @ m_laptw # Recover slip from eigenvector weights\n",
    "plot_slip_distributions(meshes[0], slip_distribution, m_laptw_slip, suptitle_string=\"Room for improvement!!!\")\n",
    "# m_est = m_laptw_slip;"
   ],
   "outputs": [
    {
     "output_type": "stream",
     "name": "stderr",
     "text": [
      "/var/folders/fl/sm71y44x3tqc7r1wc40k10gc0000gn/T/ipykernel_55598/3808789887.py:76: RuntimeWarning: More than 20 figures have been opened. Figures created through the pyplot interface (`matplotlib.pyplot.figure`) are retained until explicitly closed and may consume too much memory. (To control this warning, see the rcParam `figure.max_open_warning`).\n",
      "  plt.figure(figsize=(14, 4))\n"
     ]
    },
    {
     "output_type": "display_data",
     "data": {
      "application/vnd.jupyter.widget-view+json": {
       "version_major": 2,
       "version_minor": 0,
       "model_id": "5a9f37063a414ff5ba1ad741f368032d"
      },
      "text/plain": [
       "Canvas(toolbar=Toolbar(toolitems=[('Home', 'Reset original view', 'home', 'home'), ('Back', 'Back to previous …"
      ]
     },
     "metadata": {}
    },
    {
     "output_type": "display_data",
     "data": {
      "application/vnd.jupyter.widget-view+json": {
       "version_major": 2,
       "version_minor": 0,
       "model_id": "6118ce11cd684e1b83f7279d5859e715"
      },
      "text/plain": [
       "Canvas(toolbar=Toolbar(toolitems=[('Home', 'Reset original view', 'home', 'home'), ('Back', 'Back to previous …"
      ]
     },
     "metadata": {}
    }
   ],
   "metadata": {}
  },
  {
   "cell_type": "markdown",
   "source": [
    "# Now try the same thing but take every other column of right_eigenvectors because columns $2 \\times i$ and $2 \\times i+1$ are often nearly identical -- THIS LOOKS HORRIBLE"
   ],
   "metadata": {}
  },
  {
   "cell_type": "code",
   "execution_count": 28,
   "source": [
    "print(right_eigenvectors.shape)\n",
    "right_eigenvectors_reduced = right_eigenvectors[:, 0::2]\n",
    "print(right_eigenvectors_reduced.shape)\n",
    "\n",
    "show_modes(meshes[0], right_eigenvectors_reduced, r\"\"\"scipy.sparse.linalg.eigsh(smoothing_matrix_simple, n_eigenvalues, which=\"SM\") -- reduced\"\"\")\n",
    "\n",
    "G = tde_matrix @ right_eigenvectors_reduced\n",
    "m_laptw = np.linalg.pinv(G) @ synthetic_displacements # Solve for eigenvector weights\n",
    "m_laptw_slip = right_eigenvectors_reduced @ m_laptw # Recover slip from eigenvector weights\n",
    "plot_slip_distributions(meshes[0], slip_distribution, m_laptw_slip, suptitle_string=\"Room for improvement!!!\")\n"
   ],
   "outputs": [
    {
     "output_type": "stream",
     "name": "stdout",
     "text": [
      "(3682, 100)\n",
      "(3682, 50)\n"
     ]
    },
    {
     "output_type": "display_data",
     "data": {
      "application/vnd.jupyter.widget-view+json": {
       "version_major": 2,
       "version_minor": 0,
       "model_id": "cde32e42bc314527abc64d43999654f5"
      },
      "text/plain": [
       "Canvas(toolbar=Toolbar(toolitems=[('Home', 'Reset original view', 'home', 'home'), ('Back', 'Back to previous …"
      ]
     },
     "metadata": {}
    },
    {
     "output_type": "display_data",
     "data": {
      "application/vnd.jupyter.widget-view+json": {
       "version_major": 2,
       "version_minor": 0,
       "model_id": "c26f5fb8889746a299c1376c438c1239"
      },
      "text/plain": [
       "Canvas(toolbar=Toolbar(toolitems=[('Home', 'Reset original view', 'home', 'home'), ('Back', 'Back to previous …"
      ]
     },
     "metadata": {}
    }
   ],
   "metadata": {}
  },
  {
   "cell_type": "code",
   "execution_count": null,
   "source": [],
   "outputs": [],
   "metadata": {}
  }
 ],
 "metadata": {
  "interpreter": {
   "hash": "1c99b817e7692020a25f5bce5fd58f988aabefee874a9cd895a1468d49750c9a"
  },
  "kernelspec": {
   "name": "python3",
   "display_name": "Python 3.9.6 64-bit ('celeri': conda)"
  },
  "language_info": {
   "codemirror_mode": {
    "name": "ipython",
    "version": 3
   },
   "file_extension": ".py",
   "mimetype": "text/x-python",
   "name": "python",
   "nbconvert_exporter": "python",
   "pygments_lexer": "ipython3",
   "version": "3.9.6"
  },
  "widgets": {
   "application/vnd.jupyter.widget-state+json": {
    "state": {
     "4d250c5d35aa493295ca814fb3eaa1ee": {
      "model_module": "@jupyter-widgets/base",
      "model_module_version": "1.2.0",
      "model_name": "LayoutModel",
      "state": {}
     },
     "6faf75ca5f3b41388f284e98ec2cf803": {
      "model_module": "jupyter-matplotlib",
      "model_module_version": "^0.9.0",
      "model_name": "ToolbarModel",
      "state": {
       "layout": "IPY_MODEL_9b061db2dc65459ca586b9b9f73c2362",
       "toolitems": [
        [
         "Home",
         "Reset original view",
         "home",
         "home"
        ],
        [
         "Back",
         "Back to previous view",
         "arrow-left",
         "back"
        ],
        [
         "Forward",
         "Forward to next view",
         "arrow-right",
         "forward"
        ],
        [
         "Pan",
         "Left button pans, Right button zooms\nx/y fixes axis, CTRL fixes aspect",
         "arrows",
         "pan"
        ],
        [
         "Zoom",
         "Zoom to rectangle\nx/y fixes axis, CTRL fixes aspect",
         "square-o",
         "zoom"
        ],
        [
         "Download",
         "Download plot",
         "floppy-o",
         "save_figure"
        ]
       ]
      }
     },
     "9b061db2dc65459ca586b9b9f73c2362": {
      "model_module": "@jupyter-widgets/base",
      "model_module_version": "1.2.0",
      "model_name": "LayoutModel",
      "state": {}
     },
     "c25a38234e8f4e818670d9767f95a430": {
      "model_module": "jupyter-matplotlib",
      "model_module_version": "^0.9.0",
      "model_name": "MPLCanvasModel",
      "state": {
       "_cursor": "default",
       "_figure_label": "Figure 1",
       "_height": 708,
       "_width": 1746,
       "layout": "IPY_MODEL_4d250c5d35aa493295ca814fb3eaa1ee",
       "toolbar": "IPY_MODEL_6faf75ca5f3b41388f284e98ec2cf803",
       "toolbar_position": "left"
      }
     }
    },
    "version_major": 2,
    "version_minor": 0
   }
  }
 },
 "nbformat": 4,
 "nbformat_minor": 4
}