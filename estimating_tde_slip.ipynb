{
 "cells": [
  {
   "cell_type": "code",
   "execution_count": 1,
   "source": [
    "%matplotlib widget\n",
    "%config InlineBackend.figure_format = 'svg'"
   ],
   "outputs": [],
   "metadata": {
    "execution": {
     "iopub.execute_input": "2021-08-22T18:29:50.539195Z",
     "iopub.status.busy": "2021-08-22T18:29:50.538938Z",
     "iopub.status.idle": "2021-08-22T18:29:50.550334Z",
     "shell.execute_reply": "2021-08-22T18:29:50.549700Z",
     "shell.execute_reply.started": "2021-08-22T18:29:50.539169Z"
    },
    "tags": []
   }
  },
  {
   "cell_type": "code",
   "execution_count": 67,
   "source": [
    "import addict\n",
    "import copy\n",
    "import scipy\n",
    "import numpy as np\n",
    "import pandas as pd\n",
    "import matplotlib.pyplot as plt\n",
    "import matplotlib.tri as tri\n",
    "from importlib import reload\n",
    "from tqdm.notebook import tqdm\n",
    "\n",
    "import celeri\n",
    "celeri = reload(celeri)\n",
    "\n",
    "plt.rcParams['text.usetex'] = False # Plotting the global model is much much faster with tex fonts turned off"
   ],
   "outputs": [],
   "metadata": {
    "execution": {
     "iopub.execute_input": "2021-08-22T18:29:51.661926Z",
     "iopub.status.busy": "2021-08-22T18:29:51.661659Z",
     "iopub.status.idle": "2021-08-22T18:29:51.956035Z",
     "shell.execute_reply": "2021-08-22T18:29:51.955292Z",
     "shell.execute_reply.started": "2021-08-22T18:29:51.661900Z"
    },
    "tags": []
   }
  },
  {
   "cell_type": "code",
   "execution_count": 3,
   "source": [
    "command_file_name = \"./data/western_north_america/basic_command.json\"\n",
    "command, segment, block, meshes, station, mogi, sar = celeri.read_data(command_file_name)\n",
    "station = celeri.process_station(station, command)\n",
    "operators = addict.Dict()\n",
    "operators.tri_station = celeri.get_tri_station_operator_okada(meshes, station, command)\n",
    "celeri.get_all_mesh_smoothing_matrices(meshes)\n",
    "\n",
    "# Eliminate matrix entries for vertical displacments and tensile slip\n",
    "tde_matrix = copy.deepcopy(operators.tri_station)\n",
    "tde_matrix = np.delete(tde_matrix, np.arange(2, tde_matrix.shape[0], 3), axis=0)\n",
    "tde_matrix = np.delete(tde_matrix, np.arange(2, tde_matrix.shape[1], 3), axis=1)"
   ],
   "outputs": [
    {
     "output_type": "stream",
     "name": "stderr",
     "text": [
      "WARNING:root:The file contains tag data that couldn't be processed.\n"
     ]
    },
    {
     "output_type": "display_data",
     "data": {
      "application/vnd.jupyter.widget-view+json": {
       "version_major": 2,
       "version_minor": 0,
       "model_id": "79eb2543e7c548aa970493ffe9b4c100"
      },
      "text/plain": [
       "Calculating cutde partials for triangles:   0%|          | 0/1841 [00:00<?, ?it/s]"
      ]
     },
     "metadata": {}
    }
   ],
   "metadata": {
    "execution": {
     "iopub.execute_input": "2021-08-22T18:29:53.570589Z",
     "iopub.status.busy": "2021-08-22T18:29:53.570331Z",
     "iopub.status.idle": "2021-08-22T18:30:09.817977Z",
     "shell.execute_reply": "2021-08-22T18:30:09.817443Z",
     "shell.execute_reply.started": "2021-08-22T18:29:53.570561Z"
    },
    "tags": []
   }
  },
  {
   "cell_type": "code",
   "execution_count": 4,
   "source": [
    "def plot_slip_distributions(mesh, slip_distribution_input, slip_distribution_estimated, suptitle_string):\n",
    "    marker_size = 2.0\n",
    "    plt.figure(figsize=(12, 7))\n",
    "\n",
    "    plt.subplot(2, 2, 1)\n",
    "    plt.title(\"input strike-slip\")\n",
    "    plt.scatter(mesh.centroids[:, 0], mesh.centroids[:, 1], s=marker_size, c=slip_distribution_input[0::2], alpha=0.5)\n",
    "    plt.colorbar()\n",
    "    plt.gca().set_aspect(\"equal\", adjustable=\"box\")\n",
    "    plt.xlim([230.0, 245.0])\n",
    "    plt.ylim([37.5, 52.5])\n",
    "\n",
    "    plt.subplot(2, 2, 2)\n",
    "    plt.title(\"input dip-slip\")\n",
    "    plt.scatter(mesh.centroids[:, 0], mesh.centroids[:, 1], s=marker_size, c=slip_distribution_input[1::2], alpha=0.5)\n",
    "    plt.colorbar()\n",
    "    plt.gca().set_aspect(\"equal\", adjustable=\"box\")\n",
    "    plt.xlim([230.0, 245.0])\n",
    "    plt.ylim([37.5, 52.5])\n",
    "\n",
    "    plt.subplot(2, 2, 3)\n",
    "    plt.title(\"estimated strike-slip\")\n",
    "    plt.scatter(mesh.centroids[:, 0], mesh.centroids[:, 1], s=marker_size, c=slip_distribution_estimated[0::2], alpha=0.5)\n",
    "    plt.colorbar()\n",
    "    plt.gca().set_aspect(\"equal\", adjustable=\"box\")\n",
    "    plt.xlim([230.0, 245.0])\n",
    "    plt.ylim([37.5, 52.5])\n",
    "\n",
    "    plt.subplot(2, 2, 4)\n",
    "    plt.title(\"estimated dip-slip\")\n",
    "    plt.scatter(mesh.centroids[:, 0], mesh.centroids[:, 1], s=marker_size, c=slip_distribution_estimated[1::2], alpha=0.5)\n",
    "    plt.colorbar()\n",
    "    plt.gca().set_aspect(\"equal\", adjustable=\"box\")\n",
    "    plt.xlim([230.0, 245.0])\n",
    "    plt.ylim([37.5, 52.5])\n",
    "\n",
    "    plt.suptitle(suptitle_string)\n",
    "    plt.show()\n",
    "\n",
    "\n",
    "def get_synthetic_displacements(mesh, tri_linear_operator):\n",
    "    \"\"\"\n",
    "    Prescribe dip-slip in a Gaussian pattern.\n",
    "    \"\"\"\n",
    "    tri_centroid_to_mesh_lon = mesh.centroids[:, 0] - np.mean(mesh.centroids[:, 0])\n",
    "    tri_centroid_to_mesh_lat = mesh.centroids[:, 1] - np.mean(mesh.centroids[:, 1])\n",
    "\n",
    "    # Hardcoded northern Cascadia example that Jack suggested.\n",
    "    # tri_centroid_to_mesh_lon = mesh.centroids[:, 0] - 234.5\n",
    "    # tri_centroid_to_mesh_lat = mesh.centroids[:, 1] - 48.5\n",
    "\n",
    "    tri_centroid_to_mesh_centroid_distance = np.sqrt(tri_centroid_to_mesh_lon ** 2 + tri_centroid_to_mesh_lat ** 2)\n",
    "    dip_slip_distribution = np.exp(-(tri_centroid_to_mesh_centroid_distance / 1.0) ** 2.0)\n",
    "    slip_distribution = np.zeros(2 * dip_slip_distribution.size)\n",
    "    slip_distribution[1::2] = dip_slip_distribution # Dip slip only\n",
    "    synthetic_displacements = tri_linear_operator @ slip_distribution\n",
    "    return slip_distribution, synthetic_displacements\n",
    "\n",
    "\n",
    "def show_modes(mesh, eigenvectors, suptitle_string):\n",
    "    triangulation = tri.Triangulation(mesh.centroids[:, 0], mesh.centroids[:, 1])\n",
    "    plt.figure(figsize=(14, 4))\n",
    "    for i in range(10):\n",
    "        plt.subplot(2, 10, i + 1)\n",
    "        plt.tricontourf(triangulation, eigenvectors[:, i][0::2], cmap=\"spring\")\n",
    "        plt.tricontour(triangulation, eigenvectors[:, i][0::2], colors=\"k\", linewidths=0.25)\n",
    "        plt.gca().set_aspect(\"equal\", adjustable=\"box\")\n",
    "        plt.xlim([230.0, 240.0])\n",
    "        plt.ylim([37.5, 52.5])\n",
    "        plt.xticks([])\n",
    "        plt.yticks([])\n",
    "\n",
    "        plt.subplot(2, 10, 10 + i + 1)\n",
    "        plt.tricontourf(triangulation, eigenvectors[:, i][1::2], cmap=\"cool\")\n",
    "        plt.tricontour(triangulation, eigenvectors[:, i][1::2], colors=\"k\", linewidths=0.25)\n",
    "        plt.gca().set_aspect(\"equal\", adjustable=\"box\")\n",
    "        plt.xlim([230.0, 240.0])\n",
    "        plt.ylim([37.5, 52.5])\n",
    "        plt.xticks([])\n",
    "        plt.yticks([])\n",
    "    plt.suptitle(suptitle_string)\n",
    "    plt.show()\n",
    "\n",
    "# Generate Guassian slip source and synthetic displacements\n",
    "slip_distribution, synthetic_displacements = get_synthetic_displacements(meshes[0], tde_matrix)"
   ],
   "outputs": [],
   "metadata": {}
  },
  {
   "cell_type": "code",
   "execution_count": 5,
   "source": [
    "# Slip estimation with np.linalg.lstsq\n",
    "estimated_slip_distribution = np.linalg.lstsq(tde_matrix, synthetic_displacements, rcond=None)\n",
    "plot_slip_distributions(meshes[0], slip_distribution, estimated_slip_distribution[0], suptitle_string=\"np.linalg.lstsq - no smoothing\")"
   ],
   "outputs": [
    {
     "output_type": "display_data",
     "data": {
      "application/vnd.jupyter.widget-view+json": {
       "version_major": 2,
       "version_minor": 0,
       "model_id": "9c89c0bd90634cee84c89a0e6f6ee23b"
      },
      "text/plain": [
       "Canvas(toolbar=Toolbar(toolitems=[('Home', 'Reset original view', 'home', 'home'), ('Back', 'Back to previous …"
      ]
     },
     "metadata": {}
    }
   ],
   "metadata": {}
  },
  {
   "cell_type": "code",
   "execution_count": 6,
   "source": [
    "# Slip estimation with direct inverse no smoothing\n",
    "estimated_slip_distribution = np.linalg.inv(tde_matrix.T @ tde_matrix) @ tde_matrix.T @ synthetic_displacements\n",
    "plot_slip_distributions(meshes[0], slip_distribution, estimated_slip_distribution, suptitle_string=\"Direct inverse - no smoothing\")"
   ],
   "outputs": [
    {
     "output_type": "display_data",
     "data": {
      "application/vnd.jupyter.widget-view+json": {
       "version_major": 2,
       "version_minor": 0,
       "model_id": "e5446e821fd84080a4e9f8f3618f0399"
      },
      "text/plain": [
       "Canvas(toolbar=Toolbar(toolitems=[('Home', 'Reset original view', 'home', 'home'), ('Back', 'Back to previous …"
      ]
     },
     "metadata": {}
    }
   ],
   "metadata": {}
  },
  {
   "cell_type": "code",
   "execution_count": 7,
   "source": [
    "# Slip estimation with direct inverse and smoothing matrix\n",
    "smoothing_matrix = meshes[0].smoothing_matrix.toarray()\n",
    "smoothing_matrix = np.delete(smoothing_matrix, np.arange(2, smoothing_matrix.shape[0], 3), axis=0)\n",
    "smoothing_matrix = np.delete(smoothing_matrix, np.arange(2, smoothing_matrix.shape[1], 3), axis=1)\n",
    "smoothing_matrix = meshes[0].smoothing_weight * smoothing_matrix # Weight smoothing matrix\n",
    "tde_and_smoothing_matrix = np.vstack((tde_matrix, smoothing_matrix))\n",
    "synthetic_displacements_with_smoothing = np.hstack((synthetic_displacements, np.zeros(smoothing_matrix.shape[0]).T))\n",
    "estimated_slip_distribution = np.linalg.inv(tde_and_smoothing_matrix.T @ tde_and_smoothing_matrix) @ tde_and_smoothing_matrix.T @ synthetic_displacements_with_smoothing\n",
    "plot_slip_distributions(meshes[0], slip_distribution, estimated_slip_distribution, suptitle_string=\"Direct inverse - with smoothing\")"
   ],
   "outputs": [
    {
     "output_type": "display_data",
     "data": {
      "application/vnd.jupyter.widget-view+json": {
       "version_major": 2,
       "version_minor": 0,
       "model_id": "0c8ca657ca4e4e40b49d6738a8dcbcb5"
      },
      "text/plain": [
       "Canvas(toolbar=Toolbar(toolitems=[('Home', 'Reset original view', 'home', 'home'), ('Back', 'Back to previous …"
      ]
     },
     "metadata": {}
    }
   ],
   "metadata": {}
  },
  {
   "cell_type": "code",
   "execution_count": 8,
   "source": [
    "# Slip estimation with truncated SVD\n",
    "U, S, V_transpose = np.linalg.svd(tde_matrix)"
   ],
   "outputs": [],
   "metadata": {}
  },
  {
   "cell_type": "code",
   "execution_count": 9,
   "source": [
    "# The general inverse is:\n",
    "print(\"tde_matrix.shape :\", tde_matrix.shape)\n",
    "print(\"V_transpose.shape :\", V_transpose.shape)\n",
    "print(\"S.shape :\", S.shape)\n",
    "print(\"U.shape :\", U.shape)\n",
    "print(\"synthetic_displacements.shape :\", synthetic_displacements.shape)\n",
    "\n",
    "S_matrix = np.zeros_like(tde_matrix.T)\n",
    "S_matrix_diag_index = np.arange(0, S.size)\n",
    "S_matrix[S_matrix_diag_index, S_matrix_diag_index] = 1 / S\n",
    "print(\"S_matrix.shape :\", S_matrix.shape)\n",
    "\n",
    "n_eigenvectors = 50\n",
    "eigenvector_weights = np.linalg.pinv(tde_matrix @ V_transpose[:, 0:n_eigenvectors]) @ synthetic_displacements\n",
    "estimated_slip_truncated_svd = V_transpose[:, 0:n_eigenvectors] @ eigenvector_weights\n",
    "plot_slip_distributions(meshes[0], slip_distribution, estimated_slip_truncated_svd, suptitle_string=\"Truncated SVD - Right eigenvectors only\")\n",
    "\n",
    "# Try full SVD\n",
    "estimated_slip_full_svd = V_transpose @ S_matrix @ U.T @ synthetic_displacements\n",
    "plot_slip_distributions(meshes[0], slip_distribution, estimated_slip_truncated_svd, suptitle_string=\"Full SVD\")\n",
    "\n",
    "\n",
    "\n",
    "# Try the singular value approach for old times sake:\n",
    "# https://stackoverflow.com/questions/18452633/how-do-i-associate-which-singular-value-corresponds-to-what-entry"
   ],
   "outputs": [
    {
     "output_type": "stream",
     "name": "stdout",
     "text": [
      "tde_matrix.shape : (3372, 3682)\n",
      "V_transpose.shape : (3682, 3682)\n",
      "S.shape : (3372,)\n",
      "U.shape : (3372, 3372)\n",
      "synthetic_displacements.shape : (3372,)\n",
      "S_matrix.shape : (3682, 3372)\n"
     ]
    },
    {
     "output_type": "display_data",
     "data": {
      "application/vnd.jupyter.widget-view+json": {
       "version_major": 2,
       "version_minor": 0,
       "model_id": "f3ca575db5ba4371b030fb738e1d2428"
      },
      "text/plain": [
       "Canvas(toolbar=Toolbar(toolitems=[('Home', 'Reset original view', 'home', 'home'), ('Back', 'Back to previous …"
      ]
     },
     "metadata": {}
    },
    {
     "output_type": "display_data",
     "data": {
      "application/vnd.jupyter.widget-view+json": {
       "version_major": 2,
       "version_minor": 0,
       "model_id": "c192c602d2724134b520596ab5acf76b"
      },
      "text/plain": [
       "Canvas(toolbar=Toolbar(toolitems=[('Home', 'Reset original view', 'home', 'home'), ('Back', 'Back to previous …"
      ]
     },
     "metadata": {}
    }
   ],
   "metadata": {}
  },
  {
   "cell_type": "code",
   "execution_count": 11,
   "source": [
    "# Fall 2020 smoothing matrix SVD approach\n",
    "# I think we only need the SVD of sparse smoothing matrix (I think there's scipy function for this)\n",
    "import scipy\n",
    "\n",
    "from scipy.sparse.linalg import svds\n",
    "\n",
    "def delete_rows_and_columns_from_sparse_csr_matrix(mat, row_indices=[], col_indices=[]):\n",
    "    \"\"\"\n",
    "    Lightly modified from:\n",
    "    https://stackoverflow.com/questions/13077527/is-there-a-numpy-delete-equivalent-for-sparse-matrices\n",
    "    Remove the rows (denoted by ``row_indices``) and columns (denoted by ``col_indices``) from the CSR sparse matrix ``mat``.\n",
    "    WARNING: Indices of altered axes are reset in the returned matrix\n",
    "    \"\"\"\n",
    "    # if not isinstance(mat, csr_matrix):\n",
    "    #     raise ValueError(\"works only for CSR format -- use .tocsr() first\")\n",
    "\n",
    "    rows = []\n",
    "    cols = []\n",
    "    if any(row_indices):\n",
    "        rows = list(row_indices)\n",
    "    if any(col_indices):\n",
    "        cols = list(col_indices)\n",
    "\n",
    "    if len(rows) > 0 and len(cols) > 0:\n",
    "        row_mask = np.ones(mat.shape[0], dtype=bool)\n",
    "        row_mask[rows] = False\n",
    "        col_mask = np.ones(mat.shape[1], dtype=bool)\n",
    "        col_mask[cols] = False\n",
    "        return mat[row_mask][:,col_mask]\n",
    "    elif len(rows) > 0:\n",
    "        mask = np.ones(mat.shape[0], dtype=bool)\n",
    "        mask[rows] = False\n",
    "        return mat[mask]\n",
    "    elif len(cols) > 0:\n",
    "        mask = np.ones(mat.shape[1], dtype=bool)\n",
    "        mask[cols] = False\n",
    "        return mat[:,mask]\n",
    "    else:\n",
    "        return mat\n",
    "\n",
    "\n",
    "def scaled_sigmoid(arr, scalefactor):\n",
    "    arr = 1 / (1 + np.exp(-arr * scalefactor)) - 0.5\n",
    "    arr = 2 * arr #  Scale 0-1\n",
    "    return arr\n",
    "\n",
    "\n",
    "# Eliminate matrix entries for vertical displacments and tensile slip\n",
    "smoothing_matrix = copy.deepcopy(meshes[0].smoothing_matrix)\n",
    "smoothing_matrix = smoothing_matrix.tocsr()\n",
    "rows_to_delete = np.arange(2, smoothing_matrix.shape[0], 3)\n",
    "columns_to_delete = np.arange(2, smoothing_matrix.shape[1], 3)\n",
    "smoothing_matrix = delete_rows_and_columns_from_sparse_csr_matrix(smoothing_matrix, rows_to_delete, columns_to_delete)\n",
    "\n",
    "# Loveless style resolution scaling\n",
    "resolution_vector = np.sum(tde_matrix ** 2, axis=0).T\n",
    "resolution_vector_scaled = scaled_sigmoid(resolution_vector, 1e6)\n",
    "\n",
    "n_eigenvalues = 200\n",
    "# U, S, VT = scipy.sparse.linalg.svds(smoothing_matrix / resolution_vector_scaled, k=n_eigenvalues)\n",
    "U, S, VT = scipy.sparse.linalg.svds(smoothing_matrix, k=n_eigenvalues)\n",
    "\n",
    "G = tde_matrix @ VT.T\n",
    "m_laptw = np.linalg.pinv(G) @ synthetic_displacements # Solve for eigenfunction weights\n",
    "m_laptw_slip = VT.T @ m_laptw # Recover slip from eigenfunction weights\n",
    "plot_slip_distributions(meshes[0], slip_distribution, m_laptw_slip, suptitle_string=\"Sparse Laplacian\")\n",
    "\n",
    "plt.figure()\n",
    "plt.plot(S, \"r+\")\n",
    "plt.show()\n",
    "\n",
    "\n",
    "# eigenvector_weights = np.linalg.pinv(tde_matrix @ V_transpose[:, 0:n_eigenvectors]) @ synthetic_displacements\n",
    "# estimated_slip_truncated_svd = V_transpose[:, 0:n_eigenvectors] @ eigenvector_weights\n",
    "# plot_slip_distributions(meshes[0], slip_distribution, estimated_slip_truncated_svd, suptitle_string=\"Truncated SVD - Right eigenvectors only\")\n",
    "\n",
    "# % Eigenfunctions, unweighted\n",
    "# [Vt, Et] = eigs(w, neigs, 0);\n",
    "\n",
    "# % Eigenfunctions, weighted by resolution\n",
    "# [Vtw, Etw] = eigs(w./resvec, neigs, 0);\n",
    "\n",
    "# % Loveless style resolution\n",
    "# resolution_loveless = sum(T.^2, 1)';\n",
    "# resvec = scaledsigmoid(resolution_loveless, 1e6);\n",
    "\n",
    "# % % Unweighted\n",
    "# % m_lapt = (T * Vt) \\ d; % Solve for eigenfunction weights\n",
    "# % lambda = 1e-3;\n",
    "# % %m_lapt = [T*Vt ; lambda*eye(i)] \\ [d_noise(:) ; zeros(i,1)];\n",
    "# % m_lapt_slip = Vt * m_lapt; % Recover slip from eigenfunction weights\n",
    "\n",
    "# % Weighted\n",
    "# G = T * Vtw;\n",
    "# m_laptw = G \\ d; % Solve for eigenfunction weights\n",
    "# % m_laptw = [T*Vtw ; lambda*eye(i)] \\ [d_noise(:) ; zeros(i,1)];\n",
    "# m_laptw_slip = Vtw * m_laptw; % Recover slip from eigenfunction weights\n",
    "# m_est = m_laptw_slip;\n"
   ],
   "outputs": [
    {
     "output_type": "display_data",
     "data": {
      "application/vnd.jupyter.widget-view+json": {
       "version_major": 2,
       "version_minor": 0,
       "model_id": "f0931d563b304e8a9758ec1786b54559"
      },
      "text/plain": [
       "Canvas(toolbar=Toolbar(toolitems=[('Home', 'Reset original view', 'home', 'home'), ('Back', 'Back to previous …"
      ]
     },
     "metadata": {}
    },
    {
     "output_type": "display_data",
     "data": {
      "application/vnd.jupyter.widget-view+json": {
       "version_major": 2,
       "version_minor": 0,
       "model_id": "9210c1c58cd141b5953c541f792df08a"
      },
      "text/plain": [
       "Canvas(toolbar=Toolbar(toolitems=[('Home', 'Reset original view', 'home', 'home'), ('Back', 'Back to previous …"
      ]
     },
     "metadata": {}
    }
   ],
   "metadata": {}
  },
  {
   "cell_type": "code",
   "execution_count": 12,
   "source": [
    "# U, S, VT = np.linalg.svd(smoothing_matrix.toarray())\n",
    "# U, S, VT = np.linalg.eig(smoothing_matrix.toarray())\n",
    "\n",
    "n_eigenvalues = 20\n",
    "\n",
    "w, VT = scipy.sparse.linalg.eigsh(smoothing_matrix, n_eigenvalues)\n",
    "plt.figure()\n",
    "plt.plot(w, \"r+\")\n",
    "plt.show()\n",
    "\n",
    "eigenvector_weights = np.linalg.pinv(tde_matrix @ VT[:, 0:n_eigenvectors]) @ synthetic_displacements\n",
    "estimated_slip_truncated_svd = VT[:, 0:n_eigenvectors] @ eigenvector_weights\n",
    "plot_slip_distributions(meshes[0], slip_distribution, estimated_slip_truncated_svd, suptitle_string=\"Truncated SVD - Right eigenvectors only\")\n"
   ],
   "outputs": [
    {
     "output_type": "display_data",
     "data": {
      "application/vnd.jupyter.widget-view+json": {
       "version_major": 2,
       "version_minor": 0,
       "model_id": "cce6c47cbdff4155a7a06022b932117f"
      },
      "text/plain": [
       "Canvas(toolbar=Toolbar(toolitems=[('Home', 'Reset original view', 'home', 'home'), ('Back', 'Back to previous …"
      ]
     },
     "metadata": {}
    },
    {
     "output_type": "display_data",
     "data": {
      "application/vnd.jupyter.widget-view+json": {
       "version_major": 2,
       "version_minor": 0,
       "model_id": "2c0c339c868b4e00bcd11df68903557a"
      },
      "text/plain": [
       "Canvas(toolbar=Toolbar(toolitems=[('Home', 'Reset original view', 'home', 'home'), ('Back', 'Back to previous …"
      ]
     },
     "metadata": {}
    }
   ],
   "metadata": {}
  },
  {
   "cell_type": "code",
   "execution_count": 13,
   "source": [
    "# Try visualizating some of the eigenvectors\n",
    "\n",
    "U, S, VT = np.linalg.svd(smoothing_matrix.toarray())\n",
    "\n",
    "\n",
    "eigenvector_weights = np.linalg.pinv(tde_matrix @ VT[:, 0:n_eigenvectors]) @ synthetic_displacements\n",
    "estimated_slip_truncated_svd = VT[:, 0:n_eigenvectors] @ eigenvector_weights\n",
    "plot_slip_distributions(meshes[0], slip_distribution, estimated_slip_truncated_svd, suptitle_string=\"Truncated SVD - Right eigenvectors only\")"
   ],
   "outputs": [
    {
     "output_type": "display_data",
     "data": {
      "application/vnd.jupyter.widget-view+json": {
       "version_major": 2,
       "version_minor": 0,
       "model_id": "d4a003c3051247eab7324345ecc77054"
      },
      "text/plain": [
       "Canvas(toolbar=Toolbar(toolitems=[('Home', 'Reset original view', 'home', 'home'), ('Back', 'Back to previous …"
      ]
     },
     "metadata": {}
    }
   ],
   "metadata": {}
  },
  {
   "cell_type": "code",
   "execution_count": 14,
   "source": [
    "VT[:, 0:n_eigenvectors]\n",
    "plt.figure()\n",
    "plt.title(\"estimated dip-slip\")\n",
    "plt.scatter(meshes[0].centroids[:, 0], meshes[0].centroids[:, 1], s=2, c=VT[:, -1][1::2], alpha=0.5)\n",
    "plt.colorbar()\n",
    "plt.gca().set_aspect(\"equal\", adjustable=\"box\")\n",
    "plt.xlim([230.0, 245.0])\n",
    "plt.ylim([37.5, 52.5])\n",
    "plt.show()"
   ],
   "outputs": [
    {
     "output_type": "display_data",
     "data": {
      "application/vnd.jupyter.widget-view+json": {
       "version_major": 2,
       "version_minor": 0,
       "model_id": "c00b2ce2b9204b59895b9cebeaf08809"
      },
      "text/plain": [
       "Canvas(toolbar=Toolbar(toolitems=[('Home', 'Reset original view', 'home', 'home'), ('Back', 'Back to previous …"
      ]
     },
     "metadata": {}
    }
   ],
   "metadata": {}
  },
  {
   "cell_type": "code",
   "execution_count": 15,
   "source": [
    "def get_tri_smoothing_matrix_simple(share):\n",
    "    \"\"\"\n",
    "    Produces a smoothing matrix based on the scale-dependent\n",
    "    umbrella operator (e.g., Desbrun et al., 1999; Resor, 2004).\n",
    "\n",
    "    Inputs:\n",
    "    share: n x 3 array of indices of the up to 3 elements sharing a side\n",
    "        with each of the n elements\n",
    "\n",
    "    Outputs:\n",
    "    smoothing matrix: 3n x 3n smoothing matrix\n",
    "    \"\"\"\n",
    "\n",
    "    # Allocate sparse matrix for contructing smoothing matrix\n",
    "    n_shared_tris = share.shape[0]\n",
    "    smoothing_matrix = scipy.sparse.lil_matrix((3 * n_shared_tris, 3 * n_shared_tris))\n",
    "\n",
    "    # Place the weights into the smoothing operator\n",
    "    for j in range(3):\n",
    "        for i in range(n_shared_tris):\n",
    "            smoothing_matrix[3 * i + j, 3 * i + j] = 3\n",
    "            if share[i, j] != -1:\n",
    "                k = 3 * i + np.array([0, 1, 2])\n",
    "                m = 3 * share[i, j] + np.array([0, 1, 2])\n",
    "                smoothing_matrix[k, m] = -1\n",
    "    return smoothing_matrix\n",
    "\n",
    "share = celeri.get_shared_sides(meshes[0].verts)\n",
    "smoothing_matrix_simple = get_tri_smoothing_matrix_simple(share)\n",
    "\n",
    "# smoothing_matrix = copy.deepcopy(meshes[0].smoothing_matrix)\n",
    "smoothing_matrix_simple = smoothing_matrix_simple.tocsr()\n",
    "rows_to_delete = np.arange(2, smoothing_matrix_simple.shape[0], 3)\n",
    "columns_to_delete = np.arange(2, smoothing_matrix_simple.shape[1], 3)\n",
    "smoothing_matrix_simple = delete_rows_and_columns_from_sparse_csr_matrix(smoothing_matrix_simple, rows_to_delete, columns_to_delete)\n",
    "\n"
   ],
   "outputs": [],
   "metadata": {}
  },
  {
   "cell_type": "markdown",
   "source": [
    "# Eigenvectors from: np.linalg.svd"
   ],
   "metadata": {}
  },
  {
   "cell_type": "code",
   "execution_count": 111,
   "source": [
    "_, _, right_eigenvectors = np.linalg.svd(smoothing_matrix_simple.toarray())\n",
    "smallest_right_eigenvectors = right_eigenvectors[-11:-1, :].T\n",
    "show_modes(meshes[0], smallest_right_eigenvectors, r\"\"\"np.linalg.svd(smoothing_matrix_simple.toarray())\"\"\")\n"
   ],
   "outputs": [
    {
     "output_type": "display_data",
     "data": {
      "application/vnd.jupyter.widget-view+json": {
       "version_major": 2,
       "version_minor": 0,
       "model_id": "f2424c1aa4e7459d982eddc70697dceb"
      },
      "text/plain": [
       "Canvas(toolbar=Toolbar(toolitems=[('Home', 'Reset original view', 'home', 'home'), ('Back', 'Back to previous …"
      ]
     },
     "metadata": {}
    }
   ],
   "metadata": {}
  },
  {
   "cell_type": "markdown",
   "source": [
    "# Eigenvectors from: scipy.sparse.linalg.eigsh\n",
    "\n",
    "whichstr [‘LM’ | ‘SM’ | ‘LA’ | ‘SA’ | ‘BE’]\n",
    "If A is a complex Hermitian matrix, ‘BE’ is invalid. Which k eigenvectors and eigenvalues to find:\n",
    "\n",
    "‘LM’ : Largest (in magnitude) eigenvalues.\n",
    "\n",
    "‘SM’ : Smallest (in magnitude) eigenvalues.\n",
    "\n",
    "‘LA’ : Largest (algebraic) eigenvalues.\n",
    "\n",
    "‘SA’ : Smallest (algebraic) eigenvalues.\n",
    "\n",
    "‘BE’ : Half (k/2) from each end of the spectrum."
   ],
   "metadata": {}
  },
  {
   "cell_type": "code",
   "execution_count": 109,
   "source": [
    "_, right_eigenvectors = scipy.sparse.linalg.eigsh(smoothing_matrix_simple, n_eigenvalues, which=\"LM\")\n",
    "show_modes(meshes[0], right_eigenvectors, r\"\"\"scipy.sparse.linalg.eigsh(smoothing_matrix, n_eigenvalues, which=\"LM\")\"\"\")"
   ],
   "outputs": [
    {
     "output_type": "display_data",
     "data": {
      "application/vnd.jupyter.widget-view+json": {
       "version_major": 2,
       "version_minor": 0,
       "model_id": "ebcbcce6787d4b62a5aad35dd6c3cd45"
      },
      "text/plain": [
       "Canvas(toolbar=Toolbar(toolitems=[('Home', 'Reset original view', 'home', 'home'), ('Back', 'Back to previous …"
      ]
     },
     "metadata": {}
    }
   ],
   "metadata": {}
  },
  {
   "cell_type": "code",
   "execution_count": 104,
   "source": [
    "_, right_eigenvectors = scipy.sparse.linalg.eigsh(smoothing_matrix_simple, n_eigenvalues, which=\"SM\")\n",
    "show_modes(meshes[0], right_eigenvectors, r\"\"\"scipy.sparse.linalg.eigsh(smoothing_matrix, n_eigenvalues, which=\"SM\")\"\"\")"
   ],
   "outputs": [
    {
     "output_type": "display_data",
     "data": {
      "application/vnd.jupyter.widget-view+json": {
       "version_major": 2,
       "version_minor": 0,
       "model_id": "66da7d111e904fa98419d2cf0c363ae2"
      },
      "text/plain": [
       "Canvas(toolbar=Toolbar(toolitems=[('Home', 'Reset original view', 'home', 'home'), ('Back', 'Back to previous …"
      ]
     },
     "metadata": {}
    }
   ],
   "metadata": {}
  },
  {
   "cell_type": "code",
   "execution_count": 105,
   "source": [
    "_, right_eigenvectors = scipy.sparse.linalg.eigsh(smoothing_matrix_simple, n_eigenvalues, which=\"LA\")\n",
    "show_modes(meshes[0], right_eigenvectors, r\"\"\"scipy.sparse.linalg.eigsh(smoothing_matrix, n_eigenvalues, which=\"LA\")\"\"\")"
   ],
   "outputs": [
    {
     "output_type": "display_data",
     "data": {
      "application/vnd.jupyter.widget-view+json": {
       "version_major": 2,
       "version_minor": 0,
       "model_id": "5f809aadb4884bd0b0e7b49e3e8a7a51"
      },
      "text/plain": [
       "Canvas(toolbar=Toolbar(toolitems=[('Home', 'Reset original view', 'home', 'home'), ('Back', 'Back to previous …"
      ]
     },
     "metadata": {}
    }
   ],
   "metadata": {}
  },
  {
   "cell_type": "code",
   "execution_count": 106,
   "source": [
    "_, right_eigenvectors = scipy.sparse.linalg.eigsh(smoothing_matrix_simple, n_eigenvalues, which=\"SA\")\n",
    "show_modes(meshes[0], right_eigenvectors, r\"\"\"scipy.sparse.linalg.eigsh(smoothing_matrix, n_eigenvalues, which=\"SA\")\"\"\")"
   ],
   "outputs": [
    {
     "output_type": "display_data",
     "data": {
      "application/vnd.jupyter.widget-view+json": {
       "version_major": 2,
       "version_minor": 0,
       "model_id": "a679af4a7c8844c0bfd1f2d93e88b423"
      },
      "text/plain": [
       "Canvas(toolbar=Toolbar(toolitems=[('Home', 'Reset original view', 'home', 'home'), ('Back', 'Back to previous …"
      ]
     },
     "metadata": {}
    }
   ],
   "metadata": {}
  },
  {
   "cell_type": "code",
   "execution_count": 107,
   "source": [
    "_, right_eigenvectors = scipy.sparse.linalg.eigsh(smoothing_matrix_simple, n_eigenvalues, which=\"BE\")\n",
    "show_modes(meshes[0], right_eigenvectors, r\"\"\"scipy.sparse.linalg.eigsh(smoothing_matrix, n_eigenvalues, which=\"BE\")\"\"\")"
   ],
   "outputs": [
    {
     "output_type": "display_data",
     "data": {
      "application/vnd.jupyter.widget-view+json": {
       "version_major": 2,
       "version_minor": 0,
       "model_id": "1a4e5f06ca54438b9a12b1f55e9cdab5"
      },
      "text/plain": [
       "Canvas(toolbar=Toolbar(toolitems=[('Home', 'Reset original view', 'home', 'home'), ('Back', 'Back to previous …"
      ]
     },
     "metadata": {}
    }
   ],
   "metadata": {}
  },
  {
   "cell_type": "code",
   "execution_count": null,
   "source": [],
   "outputs": [],
   "metadata": {}
  }
 ],
 "metadata": {
  "interpreter": {
   "hash": "1c99b817e7692020a25f5bce5fd58f988aabefee874a9cd895a1468d49750c9a"
  },
  "kernelspec": {
   "name": "python3",
   "display_name": "Python 3.9.6 64-bit ('celeri': conda)"
  },
  "language_info": {
   "codemirror_mode": {
    "name": "ipython",
    "version": 3
   },
   "file_extension": ".py",
   "mimetype": "text/x-python",
   "name": "python",
   "nbconvert_exporter": "python",
   "pygments_lexer": "ipython3",
   "version": "3.9.6"
  },
  "widgets": {
   "application/vnd.jupyter.widget-state+json": {
    "state": {
     "4d250c5d35aa493295ca814fb3eaa1ee": {
      "model_module": "@jupyter-widgets/base",
      "model_module_version": "1.2.0",
      "model_name": "LayoutModel",
      "state": {}
     },
     "6faf75ca5f3b41388f284e98ec2cf803": {
      "model_module": "jupyter-matplotlib",
      "model_module_version": "^0.9.0",
      "model_name": "ToolbarModel",
      "state": {
       "layout": "IPY_MODEL_9b061db2dc65459ca586b9b9f73c2362",
       "toolitems": [
        [
         "Home",
         "Reset original view",
         "home",
         "home"
        ],
        [
         "Back",
         "Back to previous view",
         "arrow-left",
         "back"
        ],
        [
         "Forward",
         "Forward to next view",
         "arrow-right",
         "forward"
        ],
        [
         "Pan",
         "Left button pans, Right button zooms\nx/y fixes axis, CTRL fixes aspect",
         "arrows",
         "pan"
        ],
        [
         "Zoom",
         "Zoom to rectangle\nx/y fixes axis, CTRL fixes aspect",
         "square-o",
         "zoom"
        ],
        [
         "Download",
         "Download plot",
         "floppy-o",
         "save_figure"
        ]
       ]
      }
     },
     "9b061db2dc65459ca586b9b9f73c2362": {
      "model_module": "@jupyter-widgets/base",
      "model_module_version": "1.2.0",
      "model_name": "LayoutModel",
      "state": {}
     },
     "c25a38234e8f4e818670d9767f95a430": {
      "model_module": "jupyter-matplotlib",
      "model_module_version": "^0.9.0",
      "model_name": "MPLCanvasModel",
      "state": {
       "_cursor": "default",
       "_figure_label": "Figure 1",
       "_height": 708,
       "_width": 1746,
       "layout": "IPY_MODEL_4d250c5d35aa493295ca814fb3eaa1ee",
       "toolbar": "IPY_MODEL_6faf75ca5f3b41388f284e98ec2cf803",
       "toolbar_position": "left"
      }
     }
    },
    "version_major": 2,
    "version_minor": 0
   }
  }
 },
 "nbformat": 4,
 "nbformat_minor": 4
}