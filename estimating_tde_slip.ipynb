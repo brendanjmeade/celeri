{
 "cells": [
  {
   "cell_type": "code",
   "execution_count": null,
   "source": [
    "%matplotlib widget\n",
    "%config InlineBackend.figure_format = 'svg'"
   ],
   "outputs": [],
   "metadata": {
    "execution": {
     "iopub.execute_input": "2021-08-22T18:29:50.539195Z",
     "iopub.status.busy": "2021-08-22T18:29:50.538938Z",
     "iopub.status.idle": "2021-08-22T18:29:50.550334Z",
     "shell.execute_reply": "2021-08-22T18:29:50.549700Z",
     "shell.execute_reply.started": "2021-08-22T18:29:50.539169Z"
    },
    "tags": []
   }
  },
  {
   "cell_type": "code",
   "execution_count": null,
   "source": [
    "import addict\n",
    "import copy\n",
    "import numpy as np\n",
    "import pandas as pd\n",
    "import matplotlib.pyplot as plt\n",
    "from importlib import reload\n",
    "from tqdm.notebook import tqdm\n",
    "\n",
    "import celeri\n",
    "celeri = reload(celeri)\n",
    "\n",
    "plt.rcParams['text.usetex'] = False # Plotting the global model is much much faster with tex fonts turned off"
   ],
   "outputs": [],
   "metadata": {
    "execution": {
     "iopub.execute_input": "2021-08-22T18:29:51.661926Z",
     "iopub.status.busy": "2021-08-22T18:29:51.661659Z",
     "iopub.status.idle": "2021-08-22T18:29:51.956035Z",
     "shell.execute_reply": "2021-08-22T18:29:51.955292Z",
     "shell.execute_reply.started": "2021-08-22T18:29:51.661900Z"
    },
    "tags": []
   }
  },
  {
   "cell_type": "code",
   "execution_count": null,
   "source": [
    "command_file_name = \"./data/western_north_america/basic_command.json\"\n",
    "command, segment, block, meshes, station, mogi, sar = celeri.read_data(command_file_name)\n",
    "station = celeri.process_station(station, command)\n",
    "segment = celeri.process_segment(segment, command, meshes)\n",
    "sar = celeri.process_sar(sar, command)\n",
    "closure, block = celeri.assign_block_labels(segment, station, block, mogi, sar)\n",
    "# celeri.plot_block_labels(segment, block, station, closure)"
   ],
   "outputs": [],
   "metadata": {
    "execution": {
     "iopub.execute_input": "2021-08-22T18:29:53.570589Z",
     "iopub.status.busy": "2021-08-22T18:29:53.570331Z",
     "iopub.status.idle": "2021-08-22T18:30:09.817977Z",
     "shell.execute_reply": "2021-08-22T18:30:09.817443Z",
     "shell.execute_reply.started": "2021-08-22T18:29:53.570561Z"
    },
    "tags": []
   }
  },
  {
   "cell_type": "code",
   "execution_count": null,
   "source": [
    "assembly = addict.Dict()\n",
    "operators = addict.Dict()\n",
    "assembly = celeri.merge_geodetic_data(assembly, station, sar) # Not sure this work correctly\n",
    "\n",
    "# Build all linear operators\n",
    "operators.block_rotation = celeri.get_block_rotation_operator(station)\n",
    "operators.global_float_block_rotation = celeri.get_global_float_block_rotation_operator(station)\n",
    "assembly, operators.block_motion_constraints = celeri.block_constraints(assembly, block, command)\n",
    "assembly, operators.slip_rate_constraints = celeri.slip_rate_constraints(assembly, segment, block, command)\n",
    "operators.slip_rate_segment_block = celeri.get_fault_slip_rate_partials(segment, block)\n",
    "operators.block_strain_rate, strain_rate_block_idx = celeri.get_strain_rate_centroid_operator(block, station, segment)\n",
    "operators.mogi_station = celeri.get_mogi_operator(mogi, station, command)\n",
    "\n",
    "# Elastic operators\n",
    "operators.okada_segment_station = celeri.get_segment_station_operator_okada(segment, station, command)\n",
    "# celeri.plot_segment_displacements(segment, station, command, segment_idx=0, strike_slip=1, dip_slip=0, tensile_slip=0, lon_min=235, lon_max=255, lat_min=30, lat_max=50, quiver_scale=1e-1)\n",
    "operators.tri_station = celeri.get_tri_station_operator_okada(meshes, station, command)\n",
    "celeri.get_all_mesh_smoothing_matrices(meshes)\n",
    "\n",
    "# Get additional matrix shape information for assembly\n",
    "assembly.index.sz_elastic = operators.okada_segment_station.shape # Not sure this is correct\n",
    "assembly.index.sz_slip = operators.slip_rate_segment_block.shape # Not sure this is correct\n",
    "assembly.index.sz_rotation = operators.block_rotation.shape # Not sure this is correct\n",
    "assembly = celeri.station_row_keep(assembly) # Not sure this is correct"
   ],
   "outputs": [],
   "metadata": {
    "tags": []
   }
  },
  {
   "cell_type": "code",
   "execution_count": 20,
   "source": [
    "def plot_slip_distributions(mesh, slip_distribution_input, slip_distribution_estimated, suptitle_string):\n",
    "    marker_size = 2.0\n",
    "    plt.figure(figsize=(12, 7))\n",
    "\n",
    "    plt.subplot(2, 2, 1)\n",
    "    plt.title(\"input strike-slip\")\n",
    "    plt.scatter(mesh.centroids[:, 0], mesh.centroids[:, 1], s=marker_size, c=slip_distribution_input[0::2], alpha=0.5)\n",
    "    plt.colorbar()\n",
    "    plt.gca().set_aspect(\"equal\", adjustable=\"box\")\n",
    "    plt.xlim([230.0, 245.0])\n",
    "    plt.ylim([37.5, 52.5])\n",
    "\n",
    "    plt.subplot(2, 2, 2)\n",
    "    plt.title(\"input dip-slip\")\n",
    "    plt.scatter(mesh.centroids[:, 0], mesh.centroids[:, 1], s=marker_size, c=slip_distribution_input[1::2], alpha=0.5)\n",
    "    plt.colorbar()\n",
    "    plt.gca().set_aspect(\"equal\", adjustable=\"box\")\n",
    "    plt.xlim([230.0, 245.0])\n",
    "    plt.ylim([37.5, 52.5])\n",
    "\n",
    "    plt.subplot(2, 2, 3)\n",
    "    plt.title(\"estimated strike-slip\")\n",
    "    plt.scatter(mesh.centroids[:, 0], mesh.centroids[:, 1], s=marker_size, c=slip_distribution_estimated[0::2], alpha=0.5)\n",
    "    plt.colorbar()\n",
    "    plt.gca().set_aspect(\"equal\", adjustable=\"box\")\n",
    "    plt.xlim([230.0, 245.0])\n",
    "    plt.ylim([37.5, 52.5])\n",
    "\n",
    "    plt.subplot(2, 2, 4)\n",
    "    plt.title(\"estimated dip-slip\")\n",
    "    plt.scatter(mesh.centroids[:, 0], mesh.centroids[:, 1], s=marker_size, c=slip_distribution_estimated[1::2], alpha=0.5)\n",
    "    plt.colorbar()\n",
    "    plt.gca().set_aspect(\"equal\", adjustable=\"box\")\n",
    "    plt.xlim([230.0, 245.0])\n",
    "    plt.ylim([37.5, 52.5])\n",
    "\n",
    "    plt.suptitle(suptitle_string)\n",
    "    plt.show()\n",
    "\n",
    "\n",
    "def get_synthetic_displacements(mesh, tri_linear_operator):\n",
    "    \"\"\"\n",
    "    Prescribe dip-slip in a Gaussian pattern.\n",
    "    \"\"\"\n",
    "    tri_centroid_to_mesh_lon = mesh.centroids[:, 0] - np.mean(mesh.centroids[:, 0])\n",
    "    tri_centroid_to_mesh_lat = mesh.centroids[:, 1] - np.mean(mesh.centroids[:, 1])\n",
    "\n",
    "    # Hardcoded northern Cascadia example that Jack suggested.\n",
    "    tri_centroid_to_mesh_lon = mesh.centroids[:, 0] - 234.5\n",
    "    tri_centroid_to_mesh_lat = mesh.centroids[:, 1] - 48.5\n",
    "\n",
    "    tri_centroid_to_mesh_centroid_distance = np.sqrt(tri_centroid_to_mesh_lon ** 2 + tri_centroid_to_mesh_lat ** 2)\n",
    "    dip_slip_distribution = np.exp(-(tri_centroid_to_mesh_centroid_distance / 1.0) ** 2.0)\n",
    "    slip_distribution = np.zeros(2 * dip_slip_distribution.size)\n",
    "    slip_distribution[1::2] = dip_slip_distribution # Dip slip only\n",
    "    synthetic_displacements = tri_linear_operator @ slip_distribution\n",
    "    return slip_distribution, synthetic_displacements\n",
    "\n",
    "\n",
    "# Shrink operators.tri_station so that there are no vertical displacments and no tensile slip\n",
    "tde_matrix = copy.deepcopy(operators.tri_station)\n",
    "tde_matrix = np.delete(tde_matrix, np.arange(2, tde_matrix.shape[0], 3), axis=0)\n",
    "tde_matrix = np.delete(tde_matrix, np.arange(2, tde_matrix.shape[1], 3), axis=1)\n",
    "\n",
    "# Generate Guassian slip source and synthetic displacements\n",
    "slip_distribution, synthetic_displacements = get_synthetic_displacements(meshes[0], tde_matrix)"
   ],
   "outputs": [],
   "metadata": {}
  },
  {
   "cell_type": "code",
   "execution_count": 21,
   "source": [
    "# Slip estimation with np.linalg.lstsq\n",
    "estimated_slip_distribution = np.linalg.lstsq(tde_matrix, synthetic_displacements, rcond=None)\n",
    "plot_slip_distributions(meshes[0], slip_distribution, estimated_slip_distribution[0], suptitle_string=\"np.linalg.lstsq - no smoothing\")"
   ],
   "outputs": [
    {
     "output_type": "display_data",
     "data": {
      "application/vnd.jupyter.widget-view+json": {
       "version_major": 2,
       "version_minor": 0,
       "model_id": "a1118bf21b344c3ebc11ff1757256052"
      },
      "text/plain": [
       "Canvas(toolbar=Toolbar(toolitems=[('Home', 'Reset original view', 'home', 'home'), ('Back', 'Back to previous …"
      ]
     },
     "metadata": {}
    }
   ],
   "metadata": {}
  },
  {
   "cell_type": "code",
   "execution_count": 22,
   "source": [
    "# Slip estimation with direct inverse no smoothing\n",
    "estimated_slip_distribution = np.linalg.inv(tde_matrix.T @ tde_matrix) @ tde_matrix.T @ synthetic_displacements\n",
    "plot_slip_distributions(meshes[0], slip_distribution, estimated_slip_distribution, suptitle_string=\"Direct inverse - no smoothing\")"
   ],
   "outputs": [
    {
     "output_type": "display_data",
     "data": {
      "application/vnd.jupyter.widget-view+json": {
       "version_major": 2,
       "version_minor": 0,
       "model_id": "e5efd59347be427490eff5828434ee8c"
      },
      "text/plain": [
       "Canvas(toolbar=Toolbar(toolitems=[('Home', 'Reset original view', 'home', 'home'), ('Back', 'Back to previous …"
      ]
     },
     "metadata": {}
    }
   ],
   "metadata": {}
  },
  {
   "cell_type": "code",
   "execution_count": 23,
   "source": [
    "# Slip estimation with direct inverse and smoothing matrix\n",
    "smoothing_matrix = meshes[0].smoothing_matrix.toarray()\n",
    "smoothing_matrix = np.delete(smoothing_matrix, np.arange(2, smoothing_matrix.shape[0], 3), axis=0)\n",
    "smoothing_matrix = np.delete(smoothing_matrix, np.arange(2, smoothing_matrix.shape[1], 3), axis=1)\n",
    "smoothing_matrix = meshes[0].smoothing_weight * smoothing_matrix # Weight smoothing matrix\n",
    "tde_and_smoothing_matrix = np.vstack((tde_matrix, smoothing_matrix))\n",
    "synthetic_displacements_with_smoothing = np.hstack((synthetic_displacements, np.zeros(smoothing_matrix.shape[0]).T))\n",
    "estimated_slip_distribution = np.linalg.inv(tde_and_smoothing_matrix.T @ tde_and_smoothing_matrix) @ tde_and_smoothing_matrix.T @ synthetic_displacements_with_smoothing\n",
    "plot_slip_distributions(meshes[0], slip_distribution, estimated_slip_distribution, suptitle_string=\"Direct inverse - with smoothing\")"
   ],
   "outputs": [
    {
     "output_type": "display_data",
     "data": {
      "application/vnd.jupyter.widget-view+json": {
       "version_major": 2,
       "version_minor": 0,
       "model_id": "4b50a3c46b3b468c9879ab4788164970"
      },
      "text/plain": [
       "Canvas(toolbar=Toolbar(toolitems=[('Home', 'Reset original view', 'home', 'home'), ('Back', 'Back to previous …"
      ]
     },
     "metadata": {}
    }
   ],
   "metadata": {}
  },
  {
   "cell_type": "code",
   "execution_count": 93,
   "source": [
    "# Slip estimation with truncated SVD\n",
    "U, S, V_transpose = np.linalg.svd(tde_matrix)"
   ],
   "outputs": [],
   "metadata": {}
  },
  {
   "cell_type": "code",
   "execution_count": 104,
   "source": [
    "# The general inverse is:\n",
    "print(\"tde_matrix.shape :\", tde_matrix.shape)\n",
    "print(\"V_transpose.shape :\", V_transpose.shape)\n",
    "print(\"S.shape :\", S.shape)\n",
    "print(\"U.shape :\", U.shape)\n",
    "print(\"synthetic_displacements.shape :\", synthetic_displacements.shape)\n",
    "\n",
    "S_matrix = np.zeros_like(tde_matrix.T)\n",
    "S_matrix_diag_index = np.arange(0, S.size)\n",
    "S_matrix[S_matrix_diag_index, S_matrix_diag_index] = 1 / S\n",
    "print(\"S_matrix.shape :\", S_matrix.shape)\n",
    "\n",
    "n_eigenvectors = 50\n",
    "eigenvector_weights = np.linalg.pinv(tde_matrix @ V_transpose[:, 0:n_eigenvectors]) @ synthetic_displacements\n",
    "estimated_slip_truncated_svd = V_transpose[:, 0:n_eigenvectors] @ eigenvector_weights\n",
    "plot_slip_distributions(meshes[0], slip_distribution, estimated_slip_truncated_svd, suptitle_string=\"Truncated SVD - Right eigenvectors only\")\n",
    "\n",
    "# Try full SVD\n",
    "estimated_slip_full_svd = V_transpose @ S_matrix @ U.T @ synthetic_displacements\n",
    "plot_slip_distributions(meshes[0], slip_distribution, estimated_slip_truncated_svd, suptitle_string=\"Full SVD\")\n",
    "\n",
    "\n",
    "\n",
    "# Try the singular value approach for old times sake:\n",
    "# https://stackoverflow.com/questions/18452633/how-do-i-associate-which-singular-value-corresponds-to-what-entry"
   ],
   "outputs": [
    {
     "output_type": "stream",
     "name": "stdout",
     "text": [
      "tde_matrix.shape : (3372, 3682)\n",
      "V_transpose.shape : (3682, 3682)\n",
      "S.shape : (3372,)\n",
      "U.shape : (3372, 3372)\n",
      "synthetic_displacements.shape : (3372,)\n",
      "S_matrix.shape : (3682, 3372)\n"
     ]
    },
    {
     "output_type": "display_data",
     "data": {
      "application/vnd.jupyter.widget-view+json": {
       "version_major": 2,
       "version_minor": 0,
       "model_id": "12adf224d8c045f980baf4179cb3fbf0"
      },
      "text/plain": [
       "Canvas(toolbar=Toolbar(toolitems=[('Home', 'Reset original view', 'home', 'home'), ('Back', 'Back to previous …"
      ]
     },
     "metadata": {}
    },
    {
     "output_type": "display_data",
     "data": {
      "application/vnd.jupyter.widget-view+json": {
       "version_major": 2,
       "version_minor": 0,
       "model_id": "b686036d58cf43b084d6e4a86d1056b6"
      },
      "text/plain": [
       "Canvas(toolbar=Toolbar(toolitems=[('Home', 'Reset original view', 'home', 'home'), ('Back', 'Back to previous …"
      ]
     },
     "metadata": {}
    }
   ],
   "metadata": {}
  },
  {
   "cell_type": "code",
   "execution_count": 103,
   "source": [
    "# Fall 2020 smoothing matrix SVD approach\n",
    "# I think we only need the SVD of sparse smoothing matrix (I think there's scipy function for this)"
   ],
   "outputs": [
    {
     "output_type": "display_data",
     "data": {
      "application/vnd.jupyter.widget-view+json": {
       "version_major": 2,
       "version_minor": 0,
       "model_id": "389d73c1404e4277a4fdc558d9baf05e"
      },
      "text/plain": [
       "Canvas(toolbar=Toolbar(toolitems=[('Home', 'Reset original view', 'home', 'home'), ('Back', 'Back to previous …"
      ]
     },
     "metadata": {}
    }
   ],
   "metadata": {}
  },
  {
   "cell_type": "markdown",
   "source": [
    "# Sketching out the assembly of the block model system\n",
    "The list here is in as of right now (09/19/21)...a work in progress\n",
    "\n",
    "$~$\n",
    "## The observation vector:    \n",
    "| What | Symbols | Variable name |\n",
    "| - | - | - |\n",
    "| GPS velocities | $\\mathbf{v}$ | NNN |\n",
    "| Slip rate constraints | $\\dot{\\mathbf{s}}$ | NNN |\n",
    "| Rotation vector constraints | $\\boldsymbol{\\omega}$ | NNN |\n",
    "\n",
    "$~$    \n",
    "## The state vector:    \n",
    "| What | Symbols | Variable name |\n",
    "| - | - | - |\n",
    "| Block rotation rates | $\\boldsymbol{\\Omega}$ | NNN |\n",
    "| TDE slip | $\\mathbf{t}$ | NNN |\n",
    "\n",
    "$~$\n",
    "## Matrix operators:    \n",
    "| What | Symbols | Variable name |\n",
    "| - | - | - |\n",
    "| Rotation vector to GPS with fully locked segments | $\\boldsymbol{\\Omega} \\rightarrow \\Delta\\boldsymbol{\\Omega} \\rightarrow \\dot{\\mathbf{s}} \\rightarrow \\mathbf{v}$ | NNN | \n",
    "| TDE slip to GPS | $\\mathbf{t} \\rightarrow \\mathbf{v}$ | NNN |\n",
    "| Rotation vector to slip rate constraints| $\\boldsymbol{\\Omega} \\rightarrow \\Delta\\boldsymbol{\\Omega} \\rightarrow \\dot{\\mathbf{s}}$ | NNN |\n",
    "| Rotation vector to Euler pole contraints | $\\mathbf{I}$ | NNN |\n",
    "\n"
   ],
   "metadata": {}
  },
  {
   "cell_type": "markdown",
   "source": [],
   "metadata": {}
  }
 ],
 "metadata": {
  "interpreter": {
   "hash": "1c99b817e7692020a25f5bce5fd58f988aabefee874a9cd895a1468d49750c9a"
  },
  "kernelspec": {
   "name": "python3",
   "display_name": "Python 3.9.6 64-bit ('celeri': conda)"
  },
  "language_info": {
   "codemirror_mode": {
    "name": "ipython",
    "version": 3
   },
   "file_extension": ".py",
   "mimetype": "text/x-python",
   "name": "python",
   "nbconvert_exporter": "python",
   "pygments_lexer": "ipython3",
   "version": "3.9.6"
  },
  "widgets": {
   "application/vnd.jupyter.widget-state+json": {
    "state": {
     "4d250c5d35aa493295ca814fb3eaa1ee": {
      "model_module": "@jupyter-widgets/base",
      "model_module_version": "1.2.0",
      "model_name": "LayoutModel",
      "state": {}
     },
     "6faf75ca5f3b41388f284e98ec2cf803": {
      "model_module": "jupyter-matplotlib",
      "model_module_version": "^0.9.0",
      "model_name": "ToolbarModel",
      "state": {
       "layout": "IPY_MODEL_9b061db2dc65459ca586b9b9f73c2362",
       "toolitems": [
        [
         "Home",
         "Reset original view",
         "home",
         "home"
        ],
        [
         "Back",
         "Back to previous view",
         "arrow-left",
         "back"
        ],
        [
         "Forward",
         "Forward to next view",
         "arrow-right",
         "forward"
        ],
        [
         "Pan",
         "Left button pans, Right button zooms\nx/y fixes axis, CTRL fixes aspect",
         "arrows",
         "pan"
        ],
        [
         "Zoom",
         "Zoom to rectangle\nx/y fixes axis, CTRL fixes aspect",
         "square-o",
         "zoom"
        ],
        [
         "Download",
         "Download plot",
         "floppy-o",
         "save_figure"
        ]
       ]
      }
     },
     "9b061db2dc65459ca586b9b9f73c2362": {
      "model_module": "@jupyter-widgets/base",
      "model_module_version": "1.2.0",
      "model_name": "LayoutModel",
      "state": {}
     },
     "c25a38234e8f4e818670d9767f95a430": {
      "model_module": "jupyter-matplotlib",
      "model_module_version": "^0.9.0",
      "model_name": "MPLCanvasModel",
      "state": {
       "_cursor": "default",
       "_figure_label": "Figure 1",
       "_height": 708,
       "_width": 1746,
       "layout": "IPY_MODEL_4d250c5d35aa493295ca814fb3eaa1ee",
       "toolbar": "IPY_MODEL_6faf75ca5f3b41388f284e98ec2cf803",
       "toolbar_position": "left"
      }
     }
    },
    "version_major": 2,
    "version_minor": 0
   }
  }
 },
 "nbformat": 4,
 "nbformat_minor": 4
}